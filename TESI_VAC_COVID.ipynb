{
  "nbformat": 4,
  "nbformat_minor": 0,
  "metadata": {
    "colab": {
      "name": "TESI_VAC_COVID.ipynb",
      "provenance": [],
      "collapsed_sections": [],
      "include_colab_link": true
    },
    "kernelspec": {
      "name": "python3",
      "display_name": "Python 3"
    }
  },
  "cells": [
    {
      "cell_type": "markdown",
      "metadata": {
        "id": "view-in-github",
        "colab_type": "text"
      },
      "source": [
        "<a href=\"https://colab.research.google.com/github/massaoiwanaga/topespsi/blob/main/TESI_VAC_COVID.ipynb\" target=\"_parent\"><img src=\"https://colab.research.google.com/assets/colab-badge.svg\" alt=\"Open In Colab\"/></a>"
      ]
    },
    {
      "cell_type": "markdown",
      "metadata": {
        "id": "GKM1QhWJkivj"
      },
      "source": [
        "# **Trabalho Disciplina Topicos Especiais em Sistemas de Informação I**\r\n",
        "\r\n",
        "---\r\n",
        "\r\n",
        "## **Saúde (COVID-19)**\r\n",
        "\r\n",
        "> Alessandra Pierro Saraiva\r\n",
        ">\r\n",
        "> Fabiane Monteiro Carvalho\r\n",
        ">\r\n",
        "> Massao Oliveira Iwanaga"
      ]
    },
    {
      "cell_type": "markdown",
      "metadata": {
        "id": "V10aggEoikI0"
      },
      "source": [
        "### Importando a biblioteca pandas"
      ]
    },
    {
      "cell_type": "code",
      "metadata": {
        "id": "ga95m6B_idDm"
      },
      "source": [
        "# importando a biblioteca\r\n",
        "import pandas as pd # pandas\r\n",
        "import numpy as np  # numpy\r\n",
        "import matplotlib.pyplot as plt                # importar a biblioteca matplotlib"
      ],
      "execution_count": 3,
      "outputs": []
    },
    {
      "cell_type": "markdown",
      "metadata": {
        "id": "8ZAujZWhnc5H"
      },
      "source": [
        "### Instalação da biblioteca PROV"
      ]
    },
    {
      "cell_type": "code",
      "metadata": {
        "id": "mA2bEk1znqQr",
        "colab": {
          "base_uri": "https://localhost:8080/"
        },
        "outputId": "2c03a79d-d158-4860-d9e4-0cde9bae8e4b"
      },
      "source": [
        "#Instalação da biblioteca PROV no ambiente COLAB\r\n",
        "#Essa biblioteca implementa em Python o Modelo de Dados PROV da W3C\r\n",
        "!pip install prov"
      ],
      "execution_count": null,
      "outputs": [
        {
          "output_type": "stream",
          "text": [
            "Collecting prov\n",
            "\u001b[?25l  Downloading https://files.pythonhosted.org/packages/cf/8d/9a5110845c6b117d203e3ca9eec5ee79bed29cef508c8415fbc85e900150/prov-2.0.0-py3-none-any.whl (421kB)\n",
            "\u001b[K     |████████████████████████████████| 430kB 8.9MB/s \n",
            "\u001b[?25hRequirement already satisfied: python-dateutil>=2.2 in /usr/local/lib/python3.7/dist-packages (from prov) (2.8.1)\n",
            "Requirement already satisfied: networkx>=2.0 in /usr/local/lib/python3.7/dist-packages (from prov) (2.5)\n",
            "Collecting rdflib>=4.2.1\n",
            "\u001b[?25l  Downloading https://files.pythonhosted.org/packages/d0/6b/6454aa1db753c0f8bc265a5bd5c10b5721a4bb24160fb4faf758cf6be8a1/rdflib-5.0.0-py3-none-any.whl (231kB)\n",
            "\u001b[K     |████████████████████████████████| 235kB 16.4MB/s \n",
            "\u001b[?25hRequirement already satisfied: lxml>=3.3.5 in /usr/local/lib/python3.7/dist-packages (from prov) (4.2.6)\n",
            "Requirement already satisfied: six>=1.5 in /usr/local/lib/python3.7/dist-packages (from python-dateutil>=2.2->prov) (1.15.0)\n",
            "Requirement already satisfied: decorator>=4.3.0 in /usr/local/lib/python3.7/dist-packages (from networkx>=2.0->prov) (4.4.2)\n",
            "Collecting isodate\n",
            "\u001b[?25l  Downloading https://files.pythonhosted.org/packages/9b/9f/b36f7774ff5ea8e428fdcfc4bb332c39ee5b9362ddd3d40d9516a55221b2/isodate-0.6.0-py2.py3-none-any.whl (45kB)\n",
            "\u001b[K     |████████████████████████████████| 51kB 4.0MB/s \n",
            "\u001b[?25hRequirement already satisfied: pyparsing in /usr/local/lib/python3.7/dist-packages (from rdflib>=4.2.1->prov) (2.4.7)\n",
            "Installing collected packages: isodate, rdflib, prov\n",
            "Successfully installed isodate-0.6.0 prov-2.0.0 rdflib-5.0.0\n"
          ],
          "name": "stdout"
        }
      ]
    },
    {
      "cell_type": "markdown",
      "metadata": {
        "id": "Xvi7GpG_TyjO"
      },
      "source": [
        "## Informações de proveniência"
      ]
    },
    {
      "cell_type": "code",
      "metadata": {
        "id": "KayJZ9tcT5AE"
      },
      "source": [
        "# Working with PROV\r\n",
        "# Pyhton 3.7.10 - Colab notebook\r\n",
        "\r\n",
        "import sys, subprocess, datetime, random\r\n",
        "from prov.model import ProvDocument                                                 #PROV Library\r\n"
      ],
      "execution_count": 28,
      "outputs": []
    },
    {
      "cell_type": "code",
      "metadata": {
        "id": "x7Z2qvhQU3RD",
        "outputId": "9c863f09-1138-4ac1-e1d0-63a1a325e785",
        "colab": {
          "base_uri": "https://localhost:8080/"
        }
      },
      "source": [
        "# Retrospective Provenance variables\r\n",
        "agent    = input(\"Enter the name of the AGENT WHO is running the program: \")        #PROV-Agent\r\n",
        "entity   = input(\"Enter the name of the ENTITY dataset: \")                          #PROV-Entity\r\n",
        "activity = input(\"Enter the name of the ACTIVITY: \")                                #PROV-Activity\r\n",
        "graph = entity                                                                      #PROV-Graph"
      ],
      "execution_count": 29,
      "outputs": [
        {
          "output_type": "stream",
          "text": [
            "Enter the name of the AGENT WHO is running the program: Massao\n",
            "Enter the name of the ENTITY dataset: vacinação\n",
            "Enter the name of the ACTIVITY: consulta\n"
          ],
          "name": "stdout"
        }
      ]
    },
    {
      "cell_type": "markdown",
      "metadata": {
        "id": "tym3hACXXAAx"
      },
      "source": [
        ""
      ]
    },
    {
      "cell_type": "code",
      "metadata": {
        "id": "U2SM39XCVw58"
      },
      "source": [
        "### BEGIN - Registering Retrospective Provenance -             #PROV-MODEL\r\n",
        "\r\n",
        "# Creating an empty provenance document\r\n",
        "d1 = ProvDocument()                                                 "
      ],
      "execution_count": 45,
      "outputs": []
    },
    {
      "cell_type": "code",
      "metadata": {
        "id": "gCIMJVr8V1Op",
        "outputId": "0e43bce5-4bc2-4874-b294-a7d257c023aa",
        "colab": {
          "base_uri": "https://localhost:8080/"
        }
      },
      "source": [
        "# Declaring namespaces for various prefixes used in the excution of the experiment\r\n",
        "d1.add_namespace('ufrj', 'http://www.ufrj.br/ppgi/')\r\n",
        "d1.add_namespace('foaf', 'http://xmlns.com/foaf/0.1/')\r\n",
        "d1.add_namespace('greco', 'http://www.ufrj.br/ppgi/greco/#')\r\n",
        "\r\n",
        "# Adding an entity\r\n",
        "entity = \"ufrj:\"+ entity\r\n",
        "e1 = d1.entity(entity)\r\n",
        "\r\n",
        "# Adding an Agent \r\n",
        "agent = \"foaf:\"+ agent\r\n",
        "d1.agent(agent)\r\n",
        "\r\n",
        "# Attributing the execution of the experiment to the PROV-Agent\r\n",
        "d1.wasAttributedTo(e1, agent)\r\n",
        "\r\n",
        "# Adding an activity\r\n",
        "activity = \"greco:\"+ activity\r\n",
        "d1.activity(activity)\r\n",
        "\r\n",
        "# Generation\r\n",
        "d1.wasGeneratedBy( entity, activity)"
      ],
      "execution_count": 46,
      "outputs": [
        {
          "output_type": "execute_result",
          "data": {
            "text/plain": [
              "<ProvGeneration: (ufrj:ufrj:vacinação, greco:greco:consulta)>"
            ]
          },
          "metadata": {
            "tags": []
          },
          "execution_count": 46
        }
      ]
    },
    {
      "cell_type": "code",
      "metadata": {
        "id": "f3XY5l2jWM3F",
        "outputId": "4ee1edc7-8f6f-4cd8-d47d-c19ed64820d0",
        "colab": {
          "base_uri": "https://localhost:8080/"
        }
      },
      "source": [
        "# Adding a role to the PROV-Agent and timestamp to dataset\r\n",
        "d1.agent(agent, {'prov:hadRole': 'Executor', 'foaf:mbox': 'massaoiwanaga@ufrj.br', 'prov:attributedAtTime': str(datetime.datetime.utcnow())})\r\n",
        "d1.entity(entity, {'prov:generatedAtTime': str(datetime.datetime.utcnow())})\r\n",
        "\r\n",
        "### END - Registering Retrospective Provenance "
      ],
      "execution_count": 47,
      "outputs": [
        {
          "output_type": "execute_result",
          "data": {
            "text/plain": [
              "<ProvEntity: ufrj:ufrj:vacinação>"
            ]
          },
          "metadata": {
            "tags": []
          },
          "execution_count": 47
        }
      ]
    },
    {
      "cell_type": "code",
      "metadata": {
        "id": "QQmk81NJWX3y"
      },
      "source": [
        "### Optional outputs ####\r\n",
        "\r\n",
        "#Generating the outup - a  Provenance Graph\r\n",
        "from prov.dot import prov_to_dot\r\n",
        "dot = prov_to_dot(d1)\r\n",
        "graph = graph +\".png\"\r\n",
        "dot.write_png('/content/drive/My Drive/TESI_FCD/'+graph)"
      ],
      "execution_count": 48,
      "outputs": []
    },
    {
      "cell_type": "code",
      "metadata": {
        "id": "B74xIlIyWdU2"
      },
      "source": [
        "#Generating the Serialization - Output XML\r\n",
        "d1.serialize(entity + \".xml\", format='xml') \r\n",
        "\r\n",
        "#Generating the Serialization - Output Turtle\r\n",
        "d1.serialize(entity + \".ttl\", format='rdf', rdf_format='ttl') "
      ],
      "execution_count": 49,
      "outputs": []
    },
    {
      "cell_type": "code",
      "metadata": {
        "id": "0vrjsEa0WhoN",
        "outputId": "a3412711-223e-4adb-8b94-d57903ad1a85",
        "colab": {
          "base_uri": "https://localhost:8080/"
        }
      },
      "source": [
        "#Generating the outup of Provenance document\r\n",
        "print ('')\r\n",
        "print ('simple provenance doc')\r\n",
        "print(d1.get_provn())\r\n",
        "print ('')"
      ],
      "execution_count": 50,
      "outputs": [
        {
          "output_type": "stream",
          "text": [
            "\n",
            "simple provenance doc\n",
            "document\n",
            "  prefix ufrj <http://www.ufrj.br/ppgi/>\n",
            "  prefix foaf <http://xmlns.com/foaf/0.1/>\n",
            "  prefix greco <http://www.ufrj.br/ppgi/greco/#>\n",
            "  \n",
            "  entity(ufrj:ufrj:vacinação)\n",
            "  agent(foaf:foaf:Massao)\n",
            "  wasAttributedTo(ufrj:ufrj:vacinação, foaf:foaf:Massao)\n",
            "  activity(greco:greco:consulta, -, -)\n",
            "  wasGeneratedBy(ufrj:ufrj:vacinação, greco:greco:consulta, -)\n",
            "  agent(foaf:foaf:Massao, [prov:hadRole=\"Executor\", foaf:mbox=\"massaoiwanaga@ufrj.br\", prov:attributedAtTime=\"2021-03-16 00:12:02.945252\"])\n",
            "  entity(ufrj:ufrj:vacinação, [prov:generatedAtTime=\"2021-03-16 00:12:02.945470\"])\n",
            "endDocument\n",
            "\n"
          ],
          "name": "stdout"
        }
      ]
    },
    {
      "cell_type": "code",
      "metadata": {
        "id": "c2mhS2FHWlUY",
        "outputId": "bd43e0f5-2f76-410f-abb5-ee1afe603d2f",
        "colab": {
          "base_uri": "https://localhost:8080/"
        }
      },
      "source": [
        "#Generating the Serialization - Output JSON\r\n",
        "print ('')\r\n",
        "print ('simple provenance JSON')\r\n",
        "print(d1.serialize(indent=2))\r\n",
        "print('')"
      ],
      "execution_count": 51,
      "outputs": [
        {
          "output_type": "stream",
          "text": [
            "\n",
            "simple provenance JSON\n",
            "{\n",
            "  \"prefix\": {\n",
            "    \"ufrj\": \"http://www.ufrj.br/ppgi/\",\n",
            "    \"foaf\": \"http://xmlns.com/foaf/0.1/\",\n",
            "    \"greco\": \"http://www.ufrj.br/ppgi/greco/#\"\n",
            "  },\n",
            "  \"entity\": {\n",
            "    \"ufrj:ufrj:vacina\\u00e7\\u00e3o\": [\n",
            "      {},\n",
            "      {\n",
            "        \"prov:generatedAtTime\": \"2021-03-16 00:12:02.945470\"\n",
            "      }\n",
            "    ]\n",
            "  },\n",
            "  \"agent\": {\n",
            "    \"foaf:foaf:Massao\": [\n",
            "      {},\n",
            "      {\n",
            "        \"prov:hadRole\": \"Executor\",\n",
            "        \"foaf:mbox\": \"massaoiwanaga@ufrj.br\",\n",
            "        \"prov:attributedAtTime\": \"2021-03-16 00:12:02.945252\"\n",
            "      }\n",
            "    ]\n",
            "  },\n",
            "  \"wasAttributedTo\": {\n",
            "    \"_:id1\": {\n",
            "      \"prov:entity\": \"ufrj:ufrj:vacina\\u00e7\\u00e3o\",\n",
            "      \"prov:agent\": \"foaf:foaf:Massao\"\n",
            "    }\n",
            "  },\n",
            "  \"activity\": {\n",
            "    \"greco:greco:consulta\": {}\n",
            "  },\n",
            "  \"wasGeneratedBy\": {\n",
            "    \"_:id2\": {\n",
            "      \"prov:entity\": \"ufrj:ufrj:vacina\\u00e7\\u00e3o\",\n",
            "      \"prov:activity\": \"greco:greco:consulta\"\n",
            "    }\n",
            "  }\n",
            "}\n",
            "\n"
          ],
          "name": "stdout"
        }
      ]
    },
    {
      "cell_type": "code",
      "metadata": {
        "id": "Jzjk9fAuWpa8",
        "outputId": "9fdb2c23-a9aa-4f35-e540-4df775544653",
        "colab": {
          "base_uri": "https://localhost:8080/",
          "height": 301
        }
      },
      "source": [
        "# Adding Vizualization the provenance graph in the Jupyter notebook\r\n",
        "from IPython.display import Image\r\n",
        "Image('/content/drive/My Drive/TESI_FCD/'+graph)"
      ],
      "execution_count": 52,
      "outputs": [
        {
          "output_type": "execute_result",
          "data": {
            "image/png": "[encoded data removed]",
            "text/plain": [
              "<IPython.core.display.Image object>"
            ]
          },
          "metadata": {
            "tags": []
          },
          "execution_count": 52
        }
      ]
    },
    {
      "cell_type": "markdown",
      "metadata": {
        "id": "jPH2RL_MuprD"
      },
      "source": [
        "### Variáveis gerais do trabalho proposto"
      ]
    },
    {
      "cell_type": "code",
      "metadata": {
        "id": "NlNc6CRoumWr"
      },
      "source": [
        "## Merge entre os dataFrames de Vacinação e CNES# UFs das regiões norte e sudeste, que serão analisadas no trabalho\r\n",
        "\r\n",
        "UFs = ['RJ', 'SP','MG', 'ES', 'AM', 'AC', 'AP', 'PA', 'RO', 'RR']"
      ],
      "execution_count": 5,
      "outputs": []
    },
    {
      "cell_type": "markdown",
      "metadata": {
        "id": "0ZxCO6OmkPHr"
      },
      "source": [
        "### Acessar dados do Google Colab"
      ]
    },
    {
      "cell_type": "code",
      "metadata": {
        "id": "jx_f5KoCiibo",
        "colab": {
          "base_uri": "https://localhost:8080/"
        },
        "outputId": "fd073b3a-00cf-4cec-f939-b3ca56446803"
      },
      "source": [
        "# Se você está executando o notebook no Google Colab, é necessário montar o drive para o ambiente virtual do Google Drive\r\n",
        "# Clicar no link que aparecerá e será gerada uma chave, que deverá ser colada no campo \"Autorization code\"\r\n",
        "\r\n",
        "from google.colab import drive\r\n",
        "\r\n",
        "drive.mount('/content/drive')"
      ],
      "execution_count": 6,
      "outputs": [
        {
          "output_type": "stream",
          "text": [
            "Mounted at /content/drive\n"
          ],
          "name": "stdout"
        }
      ]
    },
    {
      "cell_type": "markdown",
      "metadata": {
        "id": "FjgCAEu6jYo0"
      },
      "source": [
        "## Importação do DataSet de Vacinação"
      ]
    },
    {
      "cell_type": "code",
      "metadata": {
        "id": "TQwJ_pn5jyO2"
      },
      "source": [
        "# Salve o dataset de vacinação no diretório TESI_FCD no Google Drive\r\n",
        "# Para tornar o notebook reutilizável, futuramente pode-se solicitar o diretório e o nome do dataset via prompt.\r\n",
        "\r\n",
        "df_vacinacao = pd.read_csv('/content/drive/My Drive/TESI_FCD/part-00000-090405dc-80c4-4889-84c3-a9a390d06947-c000.csv',delimiter=',')"
      ],
      "execution_count": 7,
      "outputs": []
    },
    {
      "cell_type": "markdown",
      "metadata": {
        "id": "FFjXn0Fxw7Xv"
      },
      "source": [
        "### Exploração inicial do DataSet de Vacinação"
      ]
    },
    {
      "cell_type": "code",
      "metadata": {
        "id": "11SdiIamniZE",
        "colab": {
          "base_uri": "https://localhost:8080/"
        },
        "outputId": "ea7c7f0d-88d0-4eb7-80cd-e904082d8d68"
      },
      "source": [
        "print('Total de registros:',len(df_vacinacao))    # Quantidade de registros do dataset\r\n",
        "print('')\r\n",
        "print(df_vacinacao.info())  # Informações sobre o dataset "
      ],
      "execution_count": null,
      "outputs": [
        {
          "output_type": "stream",
          "text": [
            "Total de registros: 3981002\n",
            "\n",
            "<class 'pandas.core.frame.DataFrame'>\n",
            "Int64Index: 3981002 entries, 1 to 6958577\n",
            "Data columns (total 28 columns):\n",
            " #   Column                                    Dtype  \n",
            "---  ------                                    -----  \n",
            " 0   document_id                               object \n",
            " 1   paciente_id                               object \n",
            " 2   paciente_idade                            float64\n",
            " 3   paciente_dataNascimento                   object \n",
            " 4   paciente_enumSexoBiologico                object \n",
            " 5   paciente_racaCor_codigo                   float64\n",
            " 6   paciente_racaCor_valor                    object \n",
            " 7   paciente_endereco_coIbgeMunicipio         object \n",
            " 8   paciente_endereco_coPais                  object \n",
            " 9   paciente_endereco_nmMunicipio             object \n",
            " 10  paciente_endereco_nmPais                  object \n",
            " 11  paciente_endereco_uf                      object \n",
            " 12  paciente_nacionalidade_enumNacionalidade  object \n",
            " 13  estabelecimento_valor                     int64  \n",
            " 14  estabelecimento_razaoSocial               object \n",
            " 15  estalecimento_noFantasia                  object \n",
            " 16  estabelecimento_municipio_codigo          float64\n",
            " 17  estabelecimento_municipio_nome            object \n",
            " 18  estabelecimento_uf                        object \n",
            " 19  vacina_grupoAtendimento_codigo            int64  \n",
            " 20  vacina_grupoAtendimento_nome              object \n",
            " 21  vacina_categoria_codigo                   float64\n",
            " 22  vacina_categoria_nome                     object \n",
            " 23  vacina_fabricante_nome                    object \n",
            " 24  vacina_dataAplicacao                      object \n",
            " 25  vacina_descricao_dose                     object \n",
            " 26  vacina_nome                               object \n",
            " 27  data_importacao_rnds                      object \n",
            "dtypes: float64(4), int64(2), object(22)\n",
            "memory usage: 880.8+ MB\n",
            "None\n"
          ],
          "name": "stdout"
        }
      ]
    },
    {
      "cell_type": "code",
      "metadata": {
        "id": "3j9ZF5Zakzzi",
        "colab": {
          "base_uri": "https://localhost:8080/",
          "height": 901
        },
        "outputId": "a2f2e3c2-4bd9-44a2-84a0-fcc1472edf0f"
      },
      "source": [
        "df_vacinacao.head(10)        # Visualização dos registros iniciais"
      ],
      "execution_count": null,
      "outputs": [
        {
          "output_type": "execute_result",
          "data": {
            "text/html": [
              "<div>\n",
              "<style scoped>\n",
              "    .dataframe tbody tr th:only-of-type {\n",
              "        vertical-align: middle;\n",
              "    }\n",
              "\n",
              "    .dataframe tbody tr th {\n",
              "        vertical-align: top;\n",
              "    }\n",
              "\n",
              "    .dataframe thead th {\n",
              "        text-align: right;\n",
              "    }\n",
              "</style>\n",
              "<table border=\"1\" class=\"dataframe\">\n",
              "  <thead>\n",
              "    <tr style=\"text-align: right;\">\n",
              "      <th></th>\n",
              "      <th>document_id</th>\n",
              "      <th>paciente_id</th>\n",
              "      <th>paciente_idade</th>\n",
              "      <th>paciente_dataNascimento</th>\n",
              "      <th>paciente_enumSexoBiologico</th>\n",
              "      <th>paciente_racaCor_codigo</th>\n",
              "      <th>paciente_racaCor_valor</th>\n",
              "      <th>paciente_endereco_coIbgeMunicipio</th>\n",
              "      <th>paciente_endereco_coPais</th>\n",
              "      <th>paciente_endereco_nmMunicipio</th>\n",
              "      <th>paciente_endereco_nmPais</th>\n",
              "      <th>paciente_endereco_uf</th>\n",
              "      <th>paciente_nacionalidade_enumNacionalidade</th>\n",
              "      <th>estabelecimento_valor</th>\n",
              "      <th>estabelecimento_razaoSocial</th>\n",
              "      <th>estalecimento_noFantasia</th>\n",
              "      <th>estabelecimento_municipio_codigo</th>\n",
              "      <th>estabelecimento_municipio_nome</th>\n",
              "      <th>estabelecimento_uf</th>\n",
              "      <th>vacina_grupoAtendimento_codigo</th>\n",
              "      <th>vacina_grupoAtendimento_nome</th>\n",
              "      <th>vacina_categoria_codigo</th>\n",
              "      <th>vacina_categoria_nome</th>\n",
              "      <th>vacina_fabricante_nome</th>\n",
              "      <th>vacina_dataAplicacao</th>\n",
              "      <th>vacina_descricao_dose</th>\n",
              "      <th>vacina_nome</th>\n",
              "      <th>data_importacao_rnds</th>\n",
              "    </tr>\n",
              "  </thead>\n",
              "  <tbody>\n",
              "    <tr>\n",
              "      <th>1</th>\n",
              "      <td>c6756cf9-0e0e-456b-86d2-94309b47e702-i0b0</td>\n",
              "      <td>3c73310d030b31ec5c73deda79bad2e8dbcc388839b6cd...</td>\n",
              "      <td>43.0</td>\n",
              "      <td>1977-12-05</td>\n",
              "      <td>F</td>\n",
              "      <td>1.0</td>\n",
              "      <td>BRANCA</td>\n",
              "      <td>352270</td>\n",
              "      <td>10</td>\n",
              "      <td>ITAPOLIS</td>\n",
              "      <td>BRASIL</td>\n",
              "      <td>SP</td>\n",
              "      <td>B</td>\n",
              "      <td>2747723</td>\n",
              "      <td>PREFEITURA MUNICIPAL DE ITAPOLIS</td>\n",
              "      <td>UBS JARDIM REDENCAO ITAPOLIS</td>\n",
              "      <td>352270.0</td>\n",
              "      <td>ITAPOLIS</td>\n",
              "      <td>SP</td>\n",
              "      <td>926</td>\n",
              "      <td>Outros</td>\n",
              "      <td>9.0</td>\n",
              "      <td>Trabalhadores de Saúde</td>\n",
              "      <td>Sinovac</td>\n",
              "      <td>2021-02-12T00:00:00.000Z</td>\n",
              "      <td>1ª Dose</td>\n",
              "      <td>Covid-19-Coronavac-Sinovac/Butantan</td>\n",
              "      <td>2021-02-12 10:02:44</td>\n",
              "    </tr>\n",
              "    <tr>\n",
              "      <th>6</th>\n",
              "      <td>8f4eb329-7faf-4c69-a61c-9dc101542879-i0b0</td>\n",
              "      <td>db1db6b5eb18d38b0e40a112ba515a8f36adb47d605276...</td>\n",
              "      <td>25.0</td>\n",
              "      <td>1995-11-19</td>\n",
              "      <td>F</td>\n",
              "      <td>99.0</td>\n",
              "      <td>SEM INFORMACAO</td>\n",
              "      <td>130410</td>\n",
              "      <td>10</td>\n",
              "      <td>TAPAUA</td>\n",
              "      <td>BRASIL</td>\n",
              "      <td>AM</td>\n",
              "      <td>B</td>\n",
              "      <td>7723628</td>\n",
              "      <td>MINISTERIO DA SAUDE</td>\n",
              "      <td>DISTRITO SANITARIO ESPECIAL INDIGENA MEDIO PURUS</td>\n",
              "      <td>130240.0</td>\n",
              "      <td>LABREA</td>\n",
              "      <td>AM</td>\n",
              "      <td>701</td>\n",
              "      <td>Povos indígenas em terras indígenas</td>\n",
              "      <td>7.0</td>\n",
              "      <td>Povos Indígenas</td>\n",
              "      <td>FUNDACAO BUTANTAN</td>\n",
              "      <td>2021-02-03T03:00:00.000Z</td>\n",
              "      <td>1ª Dose</td>\n",
              "      <td>Covid-19-Coronavac-Sinovac/Butantan</td>\n",
              "      <td>2021-02-11 19:06:14</td>\n",
              "    </tr>\n",
              "    <tr>\n",
              "      <th>8</th>\n",
              "      <td>5fdadf55-2a55-4089-a441-edbd2072074b-i0b0</td>\n",
              "      <td>95a4159ff54c9a30a0028ca52bda77eb02eccc28a506d1...</td>\n",
              "      <td>43.0</td>\n",
              "      <td>1977-05-16</td>\n",
              "      <td>M</td>\n",
              "      <td>1.0</td>\n",
              "      <td>BRANCA</td>\n",
              "      <td>355030</td>\n",
              "      <td>10</td>\n",
              "      <td>SAO PAULO</td>\n",
              "      <td>BRASIL</td>\n",
              "      <td>SP</td>\n",
              "      <td>B</td>\n",
              "      <td>2082829</td>\n",
              "      <td>PREFEITURA DO MUNICIPIO DE SAO PAULO</td>\n",
              "      <td>HOSP MUN PROFESSOR DOUTOR ALIPIO CORREA NETTO</td>\n",
              "      <td>355030.0</td>\n",
              "      <td>SAO PAULO</td>\n",
              "      <td>SP</td>\n",
              "      <td>926</td>\n",
              "      <td>Outros</td>\n",
              "      <td>9.0</td>\n",
              "      <td>Trabalhadores de Saúde</td>\n",
              "      <td>Sinovac</td>\n",
              "      <td>2021-02-16T00:00:00.000Z</td>\n",
              "      <td>2ª Dose</td>\n",
              "      <td>Covid-19-Coronavac-Sinovac/Butantan</td>\n",
              "      <td>2021-02-16 10:02:13</td>\n",
              "    </tr>\n",
              "    <tr>\n",
              "      <th>9</th>\n",
              "      <td>09bb6609-7ec7-48f9-9337-73200618c567-i0b0</td>\n",
              "      <td>24a3311c4c88127b16f1c24cc379139ddd21095922e497...</td>\n",
              "      <td>80.0</td>\n",
              "      <td>1940-08-26</td>\n",
              "      <td>F</td>\n",
              "      <td>1.0</td>\n",
              "      <td>BRANCA</td>\n",
              "      <td>330455</td>\n",
              "      <td>10</td>\n",
              "      <td>RIO DE JANEIRO</td>\n",
              "      <td>BRASIL</td>\n",
              "      <td>RJ</td>\n",
              "      <td>B</td>\n",
              "      <td>7021771</td>\n",
              "      <td>SMS RIO CF RAIMUNDO ALVES NASCIMENTO AP 33</td>\n",
              "      <td>SMS CF RAIMUNDO ALVES NASCIMENTO AP 33</td>\n",
              "      <td>330455.0</td>\n",
              "      <td>RIO DE JANEIRO</td>\n",
              "      <td>RJ</td>\n",
              "      <td>205</td>\n",
              "      <td>Pessoas de 80 anos ou mais</td>\n",
              "      <td>2.0</td>\n",
              "      <td>Faixa Etária</td>\n",
              "      <td>FUNDACAO OSWALDO CRUZ</td>\n",
              "      <td>2021-02-27T03:00:00.000Z</td>\n",
              "      <td>1ª Dose</td>\n",
              "      <td>Vacina Covid-19 - Covishield</td>\n",
              "      <td>2021-02-27 12:52:28</td>\n",
              "    </tr>\n",
              "    <tr>\n",
              "      <th>10</th>\n",
              "      <td>02fe1f0e-06d5-4109-a533-d6603dbaca6d-i0b0</td>\n",
              "      <td>a6e0a508c903a0939ae3322684ebb9941622dedc9b98de...</td>\n",
              "      <td>53.0</td>\n",
              "      <td>1967-11-09</td>\n",
              "      <td>F</td>\n",
              "      <td>1.0</td>\n",
              "      <td>BRANCA</td>\n",
              "      <td>353860</td>\n",
              "      <td>10</td>\n",
              "      <td>PIRACAIA</td>\n",
              "      <td>BRASIL</td>\n",
              "      <td>SP</td>\n",
              "      <td>B</td>\n",
              "      <td>5935857</td>\n",
              "      <td>PREFEITURA MUNICIPAL DE SAO CAETANO DO SUL</td>\n",
              "      <td>HOSPITAL MUNICIPAL DE EMERGENCIAS ALBERT SABIN</td>\n",
              "      <td>354880.0</td>\n",
              "      <td>SAO CAETANO DO SUL</td>\n",
              "      <td>SP</td>\n",
              "      <td>926</td>\n",
              "      <td>Outros</td>\n",
              "      <td>9.0</td>\n",
              "      <td>Trabalhadores de Saúde</td>\n",
              "      <td>Sinovac</td>\n",
              "      <td>2021-02-19T00:00:00.000Z</td>\n",
              "      <td>2ª Dose</td>\n",
              "      <td>Covid-19-Coronavac-Sinovac/Butantan</td>\n",
              "      <td>2021-02-19 05:02:59</td>\n",
              "    </tr>\n",
              "    <tr>\n",
              "      <th>13</th>\n",
              "      <td>8fbf3c2d-3ca9-4c6e-b92e-705bdaec83df-i0b0</td>\n",
              "      <td>0136e42421eb9afbf7391785b0cecfcde7ca0e39c15cee...</td>\n",
              "      <td>40.0</td>\n",
              "      <td>1980-11-08</td>\n",
              "      <td>F</td>\n",
              "      <td>1.0</td>\n",
              "      <td>BRANCA</td>\n",
              "      <td>354780</td>\n",
              "      <td>10</td>\n",
              "      <td>SANTO ANDRE</td>\n",
              "      <td>BRASIL</td>\n",
              "      <td>SP</td>\n",
              "      <td>B</td>\n",
              "      <td>2089238</td>\n",
              "      <td>HOSPITAL ALVORADA TAGUATINGA LTDA</td>\n",
              "      <td>HOSPITAL ALVORADA MOEMA</td>\n",
              "      <td>355030.0</td>\n",
              "      <td>SAO PAULO</td>\n",
              "      <td>SP</td>\n",
              "      <td>926</td>\n",
              "      <td>Outros</td>\n",
              "      <td>9.0</td>\n",
              "      <td>Trabalhadores de Saúde</td>\n",
              "      <td>AstraZeneca/Oxford</td>\n",
              "      <td>2021-02-03T00:00:00.000Z</td>\n",
              "      <td>1ª Dose</td>\n",
              "      <td>Vacina Covid-19 - Covishield</td>\n",
              "      <td>2021-02-03 15:02:00</td>\n",
              "    </tr>\n",
              "    <tr>\n",
              "      <th>16</th>\n",
              "      <td>fa1bc12c-02a1-406c-a5b3-8a965ee72560-i0b0</td>\n",
              "      <td>dbde4d61c53058ad0166c08facca37f1f5bfcaba964be7...</td>\n",
              "      <td>27.0</td>\n",
              "      <td>1994-01-11</td>\n",
              "      <td>M</td>\n",
              "      <td>1.0</td>\n",
              "      <td>BRANCA</td>\n",
              "      <td>330480</td>\n",
              "      <td>10</td>\n",
              "      <td>SAO FIDELIS</td>\n",
              "      <td>BRASIL</td>\n",
              "      <td>RJ</td>\n",
              "      <td>B</td>\n",
              "      <td>6583628</td>\n",
              "      <td>SECRETARIA MUNICIPAL DE SAUDE E PROMOCAO SOCIAL</td>\n",
              "      <td>SECRETARIA MUNICIPAL DE SAUDE DE SAO FIDELIS</td>\n",
              "      <td>330480.0</td>\n",
              "      <td>SAO FIDELIS</td>\n",
              "      <td>RJ</td>\n",
              "      <td>926</td>\n",
              "      <td>Outros</td>\n",
              "      <td>9.0</td>\n",
              "      <td>Trabalhadores de Saúde</td>\n",
              "      <td>FUNDACAO BUTANTAN</td>\n",
              "      <td>2021-02-24T03:00:00.000Z</td>\n",
              "      <td>2ª Dose</td>\n",
              "      <td>Covid-19-Coronavac-Sinovac/Butantan</td>\n",
              "      <td>2021-02-24 14:45:19</td>\n",
              "    </tr>\n",
              "    <tr>\n",
              "      <th>17</th>\n",
              "      <td>1ffce367-8073-4e85-91ab-b2dafc5fa76d-i0b0</td>\n",
              "      <td>00f70ea535bc6d71bc81ff5eed26e987fa67cc548d20fb...</td>\n",
              "      <td>39.0</td>\n",
              "      <td>1981-10-13</td>\n",
              "      <td>F</td>\n",
              "      <td>4.0</td>\n",
              "      <td>AMARELA</td>\n",
              "      <td>150140</td>\n",
              "      <td>10</td>\n",
              "      <td>BELEM</td>\n",
              "      <td>BRASIL</td>\n",
              "      <td>PA</td>\n",
              "      <td>B</td>\n",
              "      <td>7780966</td>\n",
              "      <td>DEPARTAMENTO DE VIGILANCIA A SAUDE</td>\n",
              "      <td>DEVS</td>\n",
              "      <td>150140.0</td>\n",
              "      <td>BELEM</td>\n",
              "      <td>PA</td>\n",
              "      <td>907</td>\n",
              "      <td>Enfermeiro(a)</td>\n",
              "      <td>9.0</td>\n",
              "      <td>Trabalhadores de Saúde</td>\n",
              "      <td>FUNDACAO OSWALDO CRUZ</td>\n",
              "      <td>2021-02-15T03:00:00.000Z</td>\n",
              "      <td>1ª Dose</td>\n",
              "      <td>Vacina Covid-19 - Covishield</td>\n",
              "      <td>2021-02-17 20:15:57</td>\n",
              "    </tr>\n",
              "    <tr>\n",
              "      <th>20</th>\n",
              "      <td>caf3bd45-a35f-45e0-9669-16dad747125d-i0b0</td>\n",
              "      <td>af9deace340fea4cd628a89b1d0fce03a66a58107d471a...</td>\n",
              "      <td>27.0</td>\n",
              "      <td>1993-06-10</td>\n",
              "      <td>F</td>\n",
              "      <td>3.0</td>\n",
              "      <td>PARDA</td>\n",
              "      <td>311800</td>\n",
              "      <td>10</td>\n",
              "      <td>CONGONHAS</td>\n",
              "      <td>BRASIL</td>\n",
              "      <td>MG</td>\n",
              "      <td>B</td>\n",
              "      <td>9961453</td>\n",
              "      <td>CENTRAL MUNICIPAL DE REDE DE FRIO</td>\n",
              "      <td>CENTRAL MUNICIPAL DE REDE DE FRIO IMUNIZACAO</td>\n",
              "      <td>311800.0</td>\n",
              "      <td>CONGONHAS</td>\n",
              "      <td>MG</td>\n",
              "      <td>926</td>\n",
              "      <td>Outros</td>\n",
              "      <td>9.0</td>\n",
              "      <td>Trabalhadores de Saúde</td>\n",
              "      <td>FUNDACAO BUTANTAN</td>\n",
              "      <td>2021-02-19T03:00:00.000Z</td>\n",
              "      <td>1ª Dose</td>\n",
              "      <td>Covid-19-Coronavac-Sinovac/Butantan</td>\n",
              "      <td>2021-02-25 14:23:33</td>\n",
              "    </tr>\n",
              "    <tr>\n",
              "      <th>21</th>\n",
              "      <td>b9136ad8-d353-41a9-9df7-5db893f55d0d-i0b0</td>\n",
              "      <td>c2318a53f30ac589e0fde9fe5d44944d36ec4eed835612...</td>\n",
              "      <td>85.0</td>\n",
              "      <td>1935-06-06</td>\n",
              "      <td>F</td>\n",
              "      <td>3.0</td>\n",
              "      <td>PARDA</td>\n",
              "      <td>353010</td>\n",
              "      <td>10</td>\n",
              "      <td>MIRANDOPOLIS</td>\n",
              "      <td>BRASIL</td>\n",
              "      <td>SP</td>\n",
              "      <td>B</td>\n",
              "      <td>2065517</td>\n",
              "      <td>PREFEITURA MUNICIPAL DE MIRANDOPOLIS</td>\n",
              "      <td>UBS MARIO COVAS MIRANDOPOLIS</td>\n",
              "      <td>353010.0</td>\n",
              "      <td>MIRANDOPOLIS</td>\n",
              "      <td>SP</td>\n",
              "      <td>205</td>\n",
              "      <td>Pessoas de 80 anos ou mais</td>\n",
              "      <td>2.0</td>\n",
              "      <td>Faixa Etária</td>\n",
              "      <td>Sinovac</td>\n",
              "      <td>2021-02-23T00:00:00.000Z</td>\n",
              "      <td>1ª Dose</td>\n",
              "      <td>Covid-19-Coronavac-Sinovac/Butantan</td>\n",
              "      <td>2021-02-23 03:00:00</td>\n",
              "    </tr>\n",
              "  </tbody>\n",
              "</table>\n",
              "</div>"
            ],
            "text/plain": [
              "                                  document_id  ... data_importacao_rnds\n",
              "1   c6756cf9-0e0e-456b-86d2-94309b47e702-i0b0  ...  2021-02-12 10:02:44\n",
              "6   8f4eb329-7faf-4c69-a61c-9dc101542879-i0b0  ...  2021-02-11 19:06:14\n",
              "8   5fdadf55-2a55-4089-a441-edbd2072074b-i0b0  ...  2021-02-16 10:02:13\n",
              "9   09bb6609-7ec7-48f9-9337-73200618c567-i0b0  ...  2021-02-27 12:52:28\n",
              "10  02fe1f0e-06d5-4109-a533-d6603dbaca6d-i0b0  ...  2021-02-19 05:02:59\n",
              "13  8fbf3c2d-3ca9-4c6e-b92e-705bdaec83df-i0b0  ...  2021-02-03 15:02:00\n",
              "16  fa1bc12c-02a1-406c-a5b3-8a965ee72560-i0b0  ...  2021-02-24 14:45:19\n",
              "17  1ffce367-8073-4e85-91ab-b2dafc5fa76d-i0b0  ...  2021-02-17 20:15:57\n",
              "20  caf3bd45-a35f-45e0-9669-16dad747125d-i0b0  ...  2021-02-25 14:23:33\n",
              "21  b9136ad8-d353-41a9-9df7-5db893f55d0d-i0b0  ...  2021-02-23 03:00:00\n",
              "\n",
              "[10 rows x 28 columns]"
            ]
          },
          "metadata": {
            "tags": []
          },
          "execution_count": 15
        }
      ]
    },
    {
      "cell_type": "code",
      "metadata": {
        "id": "ocxA_HkDlNZB",
        "colab": {
          "base_uri": "https://localhost:8080/"
        },
        "outputId": "6c2dab12-f238-4bbc-c894-67ec4f0e5d76"
      },
      "source": [
        "df_vacinacao.count()        # Quantidade de registros por coluna. \r\n",
        "                      # É possível observar que algumas colunas possuem quatidade inferior de registros, o que indica que será necessário \r\n",
        "                      #    tratamento de dados se essas colunas forem necessárias para análise"
      ],
      "execution_count": null,
      "outputs": [
        {
          "output_type": "execute_result",
          "data": {
            "text/plain": [
              "document_id                                 3981002\n",
              "paciente_id                                 3981002\n",
              "paciente_idade                              3981002\n",
              "paciente_dataNascimento                     3981002\n",
              "paciente_enumSexoBiologico                  3981002\n",
              "paciente_racaCor_codigo                     3981002\n",
              "paciente_racaCor_valor                      3981002\n",
              "paciente_endereco_coIbgeMunicipio           3981002\n",
              "paciente_endereco_coPais                    3981002\n",
              "paciente_endereco_nmMunicipio               3981002\n",
              "paciente_endereco_nmPais                    3981002\n",
              "paciente_endereco_uf                        3981002\n",
              "paciente_nacionalidade_enumNacionalidade    3974977\n",
              "estabelecimento_valor                       3981002\n",
              "estabelecimento_razaoSocial                 3981002\n",
              "estalecimento_noFantasia                    3981002\n",
              "estabelecimento_municipio_codigo            3981002\n",
              "estabelecimento_municipio_nome              3981002\n",
              "estabelecimento_uf                          3981002\n",
              "vacina_grupoAtendimento_codigo              3981002\n",
              "vacina_grupoAtendimento_nome                3923049\n",
              "vacina_categoria_codigo                     3923049\n",
              "vacina_categoria_nome                       3923049\n",
              "vacina_fabricante_nome                      3981002\n",
              "vacina_dataAplicacao                        3981002\n",
              "vacina_descricao_dose                       3981002\n",
              "vacina_nome                                 3981002\n",
              "data_importacao_rnds                        3981002\n",
              "dtype: int64"
            ]
          },
          "metadata": {
            "tags": []
          },
          "execution_count": 16
        }
      ]
    },
    {
      "cell_type": "markdown",
      "metadata": {
        "id": "w_-afw8rnvR6"
      },
      "source": [
        "## Eliminação de colunas e linhas que não serão utilizadas - Dataset Vacinação"
      ]
    },
    {
      "cell_type": "code",
      "metadata": {
        "id": "HYKi6nd7vuXX",
        "colab": {
          "base_uri": "https://localhost:8080/",
          "height": 337
        },
        "outputId": "62bc2c41-2e3c-48ac-d512-14ad0a74ff80"
      },
      "source": [
        "# Eliminação das colunas que não serão utilizadas nas análises\r\n",
        "\r\n",
        "df_vacinacao = df_vacinacao.drop(['paciente_endereco_cep','vacina_lote','vacina_fabricante_referencia','vacina_codigo','sistema_origem'],axis=1)"
      ],
      "execution_count": null,
      "outputs": [
        {
          "output_type": "error",
          "ename": "KeyError",
          "evalue": "ignored",
          "traceback": [
            "\u001b[0;31m---------------------------------------------------------------------------\u001b[0m",
            "\u001b[0;31mKeyError\u001b[0m                                  Traceback (most recent call last)",
            "\u001b[0;32m<ipython-input-18-f9d0a1e1e1cb>\u001b[0m in \u001b[0;36m<module>\u001b[0;34m()\u001b[0m\n\u001b[1;32m      1\u001b[0m \u001b[0;31m# Eliminação das colunas que não serão utilizadas nas análises\u001b[0m\u001b[0;34m\u001b[0m\u001b[0;34m\u001b[0m\u001b[0;34m\u001b[0m\u001b[0m\n\u001b[1;32m      2\u001b[0m \u001b[0;34m\u001b[0m\u001b[0m\n\u001b[0;32m----> 3\u001b[0;31m \u001b[0mdf_vacinacao\u001b[0m \u001b[0;34m=\u001b[0m \u001b[0mdf_vacinacao\u001b[0m\u001b[0;34m.\u001b[0m\u001b[0mdrop\u001b[0m\u001b[0;34m(\u001b[0m\u001b[0;34m[\u001b[0m\u001b[0;34m'paciente_endereco_cep'\u001b[0m\u001b[0;34m,\u001b[0m\u001b[0;34m'vacina_lote'\u001b[0m\u001b[0;34m,\u001b[0m\u001b[0;34m'vacina_fabricante_referencia'\u001b[0m\u001b[0;34m,\u001b[0m\u001b[0;34m'vacina_codigo'\u001b[0m\u001b[0;34m,\u001b[0m\u001b[0;34m'sistema_origem'\u001b[0m\u001b[0;34m]\u001b[0m\u001b[0;34m,\u001b[0m\u001b[0maxis\u001b[0m\u001b[0;34m=\u001b[0m\u001b[0;36m1\u001b[0m\u001b[0;34m)\u001b[0m\u001b[0;34m\u001b[0m\u001b[0;34m\u001b[0m\u001b[0m\n\u001b[0m",
            "\u001b[0;32m/usr/local/lib/python3.7/dist-packages/pandas/core/frame.py\u001b[0m in \u001b[0;36mdrop\u001b[0;34m(self, labels, axis, index, columns, level, inplace, errors)\u001b[0m\n\u001b[1;32m   4172\u001b[0m             \u001b[0mlevel\u001b[0m\u001b[0;34m=\u001b[0m\u001b[0mlevel\u001b[0m\u001b[0;34m,\u001b[0m\u001b[0;34m\u001b[0m\u001b[0;34m\u001b[0m\u001b[0m\n\u001b[1;32m   4173\u001b[0m             \u001b[0minplace\u001b[0m\u001b[0;34m=\u001b[0m\u001b[0minplace\u001b[0m\u001b[0;34m,\u001b[0m\u001b[0;34m\u001b[0m\u001b[0;34m\u001b[0m\u001b[0m\n\u001b[0;32m-> 4174\u001b[0;31m             \u001b[0merrors\u001b[0m\u001b[0;34m=\u001b[0m\u001b[0merrors\u001b[0m\u001b[0;34m,\u001b[0m\u001b[0;34m\u001b[0m\u001b[0;34m\u001b[0m\u001b[0m\n\u001b[0m\u001b[1;32m   4175\u001b[0m         )\n\u001b[1;32m   4176\u001b[0m \u001b[0;34m\u001b[0m\u001b[0m\n",
            "\u001b[0;32m/usr/local/lib/python3.7/dist-packages/pandas/core/generic.py\u001b[0m in \u001b[0;36mdrop\u001b[0;34m(self, labels, axis, index, columns, level, inplace, errors)\u001b[0m\n\u001b[1;32m   3887\u001b[0m         \u001b[0;32mfor\u001b[0m \u001b[0maxis\u001b[0m\u001b[0;34m,\u001b[0m \u001b[0mlabels\u001b[0m \u001b[0;32min\u001b[0m \u001b[0maxes\u001b[0m\u001b[0;34m.\u001b[0m\u001b[0mitems\u001b[0m\u001b[0;34m(\u001b[0m\u001b[0;34m)\u001b[0m\u001b[0;34m:\u001b[0m\u001b[0;34m\u001b[0m\u001b[0;34m\u001b[0m\u001b[0m\n\u001b[1;32m   3888\u001b[0m             \u001b[0;32mif\u001b[0m \u001b[0mlabels\u001b[0m \u001b[0;32mis\u001b[0m \u001b[0;32mnot\u001b[0m \u001b[0;32mNone\u001b[0m\u001b[0;34m:\u001b[0m\u001b[0;34m\u001b[0m\u001b[0;34m\u001b[0m\u001b[0m\n\u001b[0;32m-> 3889\u001b[0;31m                 \u001b[0mobj\u001b[0m \u001b[0;34m=\u001b[0m \u001b[0mobj\u001b[0m\u001b[0;34m.\u001b[0m\u001b[0m_drop_axis\u001b[0m\u001b[0;34m(\u001b[0m\u001b[0mlabels\u001b[0m\u001b[0;34m,\u001b[0m \u001b[0maxis\u001b[0m\u001b[0;34m,\u001b[0m \u001b[0mlevel\u001b[0m\u001b[0;34m=\u001b[0m\u001b[0mlevel\u001b[0m\u001b[0;34m,\u001b[0m \u001b[0merrors\u001b[0m\u001b[0;34m=\u001b[0m\u001b[0merrors\u001b[0m\u001b[0;34m)\u001b[0m\u001b[0;34m\u001b[0m\u001b[0;34m\u001b[0m\u001b[0m\n\u001b[0m\u001b[1;32m   3890\u001b[0m \u001b[0;34m\u001b[0m\u001b[0m\n\u001b[1;32m   3891\u001b[0m         \u001b[0;32mif\u001b[0m \u001b[0minplace\u001b[0m\u001b[0;34m:\u001b[0m\u001b[0;34m\u001b[0m\u001b[0;34m\u001b[0m\u001b[0m\n",
            "\u001b[0;32m/usr/local/lib/python3.7/dist-packages/pandas/core/generic.py\u001b[0m in \u001b[0;36m_drop_axis\u001b[0;34m(self, labels, axis, level, errors)\u001b[0m\n\u001b[1;32m   3921\u001b[0m                 \u001b[0mnew_axis\u001b[0m \u001b[0;34m=\u001b[0m \u001b[0maxis\u001b[0m\u001b[0;34m.\u001b[0m\u001b[0mdrop\u001b[0m\u001b[0;34m(\u001b[0m\u001b[0mlabels\u001b[0m\u001b[0;34m,\u001b[0m \u001b[0mlevel\u001b[0m\u001b[0;34m=\u001b[0m\u001b[0mlevel\u001b[0m\u001b[0;34m,\u001b[0m \u001b[0merrors\u001b[0m\u001b[0;34m=\u001b[0m\u001b[0merrors\u001b[0m\u001b[0;34m)\u001b[0m\u001b[0;34m\u001b[0m\u001b[0;34m\u001b[0m\u001b[0m\n\u001b[1;32m   3922\u001b[0m             \u001b[0;32melse\u001b[0m\u001b[0;34m:\u001b[0m\u001b[0;34m\u001b[0m\u001b[0;34m\u001b[0m\u001b[0m\n\u001b[0;32m-> 3923\u001b[0;31m                 \u001b[0mnew_axis\u001b[0m \u001b[0;34m=\u001b[0m \u001b[0maxis\u001b[0m\u001b[0;34m.\u001b[0m\u001b[0mdrop\u001b[0m\u001b[0;34m(\u001b[0m\u001b[0mlabels\u001b[0m\u001b[0;34m,\u001b[0m \u001b[0merrors\u001b[0m\u001b[0;34m=\u001b[0m\u001b[0merrors\u001b[0m\u001b[0;34m)\u001b[0m\u001b[0;34m\u001b[0m\u001b[0;34m\u001b[0m\u001b[0m\n\u001b[0m\u001b[1;32m   3924\u001b[0m             \u001b[0mresult\u001b[0m \u001b[0;34m=\u001b[0m \u001b[0mself\u001b[0m\u001b[0;34m.\u001b[0m\u001b[0mreindex\u001b[0m\u001b[0;34m(\u001b[0m\u001b[0;34m**\u001b[0m\u001b[0;34m{\u001b[0m\u001b[0maxis_name\u001b[0m\u001b[0;34m:\u001b[0m \u001b[0mnew_axis\u001b[0m\u001b[0;34m}\u001b[0m\u001b[0;34m)\u001b[0m\u001b[0;34m\u001b[0m\u001b[0;34m\u001b[0m\u001b[0m\n\u001b[1;32m   3925\u001b[0m \u001b[0;34m\u001b[0m\u001b[0m\n",
            "\u001b[0;32m/usr/local/lib/python3.7/dist-packages/pandas/core/indexes/base.py\u001b[0m in \u001b[0;36mdrop\u001b[0;34m(self, labels, errors)\u001b[0m\n\u001b[1;32m   5285\u001b[0m         \u001b[0;32mif\u001b[0m \u001b[0mmask\u001b[0m\u001b[0;34m.\u001b[0m\u001b[0many\u001b[0m\u001b[0;34m(\u001b[0m\u001b[0;34m)\u001b[0m\u001b[0;34m:\u001b[0m\u001b[0;34m\u001b[0m\u001b[0;34m\u001b[0m\u001b[0m\n\u001b[1;32m   5286\u001b[0m             \u001b[0;32mif\u001b[0m \u001b[0merrors\u001b[0m \u001b[0;34m!=\u001b[0m \u001b[0;34m\"ignore\"\u001b[0m\u001b[0;34m:\u001b[0m\u001b[0;34m\u001b[0m\u001b[0;34m\u001b[0m\u001b[0m\n\u001b[0;32m-> 5287\u001b[0;31m                 \u001b[0;32mraise\u001b[0m \u001b[0mKeyError\u001b[0m\u001b[0;34m(\u001b[0m\u001b[0;34mf\"{labels[mask]} not found in axis\"\u001b[0m\u001b[0;34m)\u001b[0m\u001b[0;34m\u001b[0m\u001b[0;34m\u001b[0m\u001b[0m\n\u001b[0m\u001b[1;32m   5288\u001b[0m             \u001b[0mindexer\u001b[0m \u001b[0;34m=\u001b[0m \u001b[0mindexer\u001b[0m\u001b[0;34m[\u001b[0m\u001b[0;34m~\u001b[0m\u001b[0mmask\u001b[0m\u001b[0;34m]\u001b[0m\u001b[0;34m\u001b[0m\u001b[0;34m\u001b[0m\u001b[0m\n\u001b[1;32m   5289\u001b[0m         \u001b[0;32mreturn\u001b[0m \u001b[0mself\u001b[0m\u001b[0;34m.\u001b[0m\u001b[0mdelete\u001b[0m\u001b[0;34m(\u001b[0m\u001b[0mindexer\u001b[0m\u001b[0;34m)\u001b[0m\u001b[0;34m\u001b[0m\u001b[0;34m\u001b[0m\u001b[0m\n",
            "\u001b[0;31mKeyError\u001b[0m: \"['paciente_endereco_cep' 'vacina_lote' 'vacina_fabricante_referencia'\\n 'vacina_codigo' 'sistema_origem'] not found in axis\""
          ]
        }
      ]
    },
    {
      "cell_type": "code",
      "metadata": {
        "id": "ykG7R2TZt_I6"
      },
      "source": [
        "# Como o dataset possui dados de todo o Brasil, os estados que não pertencem às regiões selecionadas para análise serão eliminados do dataframe\r\n",
        "df_vacinacao = df_vacinacao.loc[(df_vacinacao['estabelecimento_uf'].isin(UFs))]"
      ],
      "execution_count": null,
      "outputs": []
    },
    {
      "cell_type": "code",
      "metadata": {
        "id": "0Ukr7QVPxCHQ",
        "colab": {
          "base_uri": "https://localhost:8080/"
        },
        "outputId": "d1916d99-1711-4837-c989-c98812e4da06"
      },
      "source": [
        "print(df_vacinacao.info())"
      ],
      "execution_count": null,
      "outputs": [
        {
          "output_type": "stream",
          "text": [
            "<class 'pandas.core.frame.DataFrame'>\n",
            "Int64Index: 3981002 entries, 1 to 6958577\n",
            "Data columns (total 28 columns):\n",
            " #   Column                                    Dtype  \n",
            "---  ------                                    -----  \n",
            " 0   document_id                               object \n",
            " 1   paciente_id                               object \n",
            " 2   paciente_idade                            float64\n",
            " 3   paciente_dataNascimento                   object \n",
            " 4   paciente_enumSexoBiologico                object \n",
            " 5   paciente_racaCor_codigo                   float64\n",
            " 6   paciente_racaCor_valor                    object \n",
            " 7   paciente_endereco_coIbgeMunicipio         object \n",
            " 8   paciente_endereco_coPais                  object \n",
            " 9   paciente_endereco_nmMunicipio             object \n",
            " 10  paciente_endereco_nmPais                  object \n",
            " 11  paciente_endereco_uf                      object \n",
            " 12  paciente_nacionalidade_enumNacionalidade  object \n",
            " 13  estabelecimento_valor                     int64  \n",
            " 14  estabelecimento_razaoSocial               object \n",
            " 15  estalecimento_noFantasia                  object \n",
            " 16  estabelecimento_municipio_codigo          float64\n",
            " 17  estabelecimento_municipio_nome            object \n",
            " 18  estabelecimento_uf                        object \n",
            " 19  vacina_grupoAtendimento_codigo            int64  \n",
            " 20  vacina_grupoAtendimento_nome              object \n",
            " 21  vacina_categoria_codigo                   float64\n",
            " 22  vacina_categoria_nome                     object \n",
            " 23  vacina_fabricante_nome                    object \n",
            " 24  vacina_dataAplicacao                      object \n",
            " 25  vacina_descricao_dose                     object \n",
            " 26  vacina_nome                               object \n",
            " 27  data_importacao_rnds                      object \n",
            "dtypes: float64(4), int64(2), object(22)\n",
            "memory usage: 880.8+ MB\n",
            "None\n"
          ],
          "name": "stdout"
        }
      ]
    },
    {
      "cell_type": "markdown",
      "metadata": {
        "id": "R_0vh7Hkn7-a"
      },
      "source": [
        "## Tratamento de valores nulos e/ou faltantes"
      ]
    },
    {
      "cell_type": "markdown",
      "metadata": {
        "id": "6DpU2V2QpWUv"
      },
      "source": [
        "## Identificação e tratamento de valores duplicados"
      ]
    },
    {
      "cell_type": "markdown",
      "metadata": {
        "id": "JEa8-YJNn2V5"
      },
      "source": [
        "Teste inicial de gráfico"
      ]
    },
    {
      "cell_type": "code",
      "metadata": {
        "id": "VOUyaaQjlQ7k",
        "colab": {
          "base_uri": "https://localhost:8080/",
          "height": 296
        },
        "outputId": "fd8990c5-0fa3-491c-fb93-897568e51c0a"
      },
      "source": [
        "# Plot 'Idade' variable in a histogram\r\n",
        "\r\n",
        "pd.DataFrame.hist(df_vacinacao[['paciente_idade']])\r\n",
        "\r\n",
        "plt.xlabel('paciente_idade (years)')\r\n",
        "\r\n",
        "plt.ylabel('count')\r\n",
        "\r\n",
        "plt.show()"
      ],
      "execution_count": null,
      "outputs": [
        {
          "output_type": "display_data",
          "data": {
            "image/png": "[encoded data removed]",
            "text/plain": [
              "<Figure size 432x288 with 1 Axes>"
            ]
          },
          "metadata": {
            "tags": [],
            "needs_background": "light"
          }
        }
      ]
    },
    {
      "cell_type": "markdown",
      "metadata": {
        "id": "wDhQAv0Fnrjj"
      },
      "source": [
        ""
      ]
    },
    {
      "cell_type": "markdown",
      "metadata": {
        "id": "8shZ0BHsnGHv"
      },
      "source": [
        "## Importação do Dataset de Estabelecimentos de Saúde (CNES)"
      ]
    },
    {
      "cell_type": "code",
      "metadata": {
        "id": "bRA784AdH7WU"
      },
      "source": [
        "# Salve o dataset de CNES no diretório TESI_FCD no Google Drive\r\n",
        "# Para tornar o notebook reutilizável, futuramente pode-se solicitar o diretório e o nome do dataset via prompt.\r\n",
        "\r\n",
        "df_cnes = pd.read_csv('/content/drive/My Drive/TESI_FCD/cnes_ativonone.csv',delimiter=',')"
      ],
      "execution_count": null,
      "outputs": []
    },
    {
      "cell_type": "markdown",
      "metadata": {
        "id": "ia_ML5clHZ9m"
      },
      "source": [
        "### Exploração inicial do DataSet de Estabelecimentos de Saúde (CNES)"
      ]
    },
    {
      "cell_type": "code",
      "metadata": {
        "colab": {
          "base_uri": "https://localhost:8080/"
        },
        "id": "-cF3STChI86E",
        "outputId": "b0e02151-419a-4bc8-c4a5-ba6541c9b803"
      },
      "source": [
        "print('Total de registros:',len(df_cnes))    # Quantidade de registros do dataset\r\n",
        "print('')\r\n",
        "print(df_cnes.info())  # Informações sobre o dataset "
      ],
      "execution_count": null,
      "outputs": [
        {
          "output_type": "stream",
          "text": [
            "Total de registros: 354804\n",
            "\n",
            "<class 'pandas.core.frame.DataFrame'>\n",
            "RangeIndex: 354804 entries, 0 to 354803\n",
            "Data columns (total 12 columns):\n",
            " #   Column           Non-Null Count   Dtype \n",
            "---  ------           --------------   ----- \n",
            " 0   co_cnes          354804 non-null  int64 \n",
            " 1   co_ibge          354804 non-null  int64 \n",
            " 2   no_fantasia      354796 non-null  object\n",
            " 3   ds_tipo_unidade  354804 non-null  object\n",
            " 4   tp_gestao        354804 non-null  object\n",
            " 5   no_logradouro    354804 non-null  object\n",
            " 6   nu_endereco      354517 non-null  object\n",
            " 7   no_bairro        354801 non-null  object\n",
            " 8   co_cep           354804 non-null  int64 \n",
            " 9   uf               354434 non-null  object\n",
            " 10  municipio        354434 non-null  object\n",
            " 11  nu_telefone      279394 non-null  object\n",
            "dtypes: int64(3), object(9)\n",
            "memory usage: 32.5+ MB\n",
            "None\n"
          ],
          "name": "stdout"
        }
      ]
    },
    {
      "cell_type": "code",
      "metadata": {
        "colab": {
          "base_uri": "https://localhost:8080/",
          "height": 1000
        },
        "id": "LiqEod5FI92L",
        "outputId": "11908ad2-90c3-4577-8dad-a3d38b95fc9a"
      },
      "source": [
        "df_cnes.head(20)        # Visualização dos registros iniciais"
      ],
      "execution_count": null,
      "outputs": [
        {
          "output_type": "execute_result",
          "data": {
            "text/html": [
              "<div>\n",
              "<style scoped>\n",
              "    .dataframe tbody tr th:only-of-type {\n",
              "        vertical-align: middle;\n",
              "    }\n",
              "\n",
              "    .dataframe tbody tr th {\n",
              "        vertical-align: top;\n",
              "    }\n",
              "\n",
              "    .dataframe thead th {\n",
              "        text-align: right;\n",
              "    }\n",
              "</style>\n",
              "<table border=\"1\" class=\"dataframe\">\n",
              "  <thead>\n",
              "    <tr style=\"text-align: right;\">\n",
              "      <th></th>\n",
              "      <th>co_cnes</th>\n",
              "      <th>co_ibge</th>\n",
              "      <th>no_fantasia</th>\n",
              "      <th>ds_tipo_unidade</th>\n",
              "      <th>tp_gestao</th>\n",
              "      <th>no_logradouro</th>\n",
              "      <th>nu_endereco</th>\n",
              "      <th>no_bairro</th>\n",
              "      <th>co_cep</th>\n",
              "      <th>uf</th>\n",
              "      <th>municipio</th>\n",
              "      <th>nu_telefone</th>\n",
              "    </tr>\n",
              "  </thead>\n",
              "  <tbody>\n",
              "    <tr>\n",
              "      <th>0</th>\n",
              "      <td>6577687</td>\n",
              "      <td>292240</td>\n",
              "      <td>SECRETARIA DE SAUDE DE MUTUIPE</td>\n",
              "      <td>CENTRAL DE GESTAO EM SAUDE</td>\n",
              "      <td>M</td>\n",
              "      <td>RUA RUY BARBOSA</td>\n",
              "      <td>S/N</td>\n",
              "      <td>CENTRO</td>\n",
              "      <td>45480000</td>\n",
              "      <td>BA</td>\n",
              "      <td>Mutuípe</td>\n",
              "      <td>NaN</td>\n",
              "    </tr>\n",
              "    <tr>\n",
              "      <th>1</th>\n",
              "      <td>6578500</td>\n",
              "      <td>500210</td>\n",
              "      <td>REABILIT CONSULTORIO DE FISIOTERAPIA</td>\n",
              "      <td>CLINICA/CENTRO DE ESPECIALIDADE</td>\n",
              "      <td>M</td>\n",
              "      <td>ALMIRANTE BARROSO</td>\n",
              "      <td>S/N</td>\n",
              "      <td>CENTRO</td>\n",
              "      <td>79260000</td>\n",
              "      <td>MS</td>\n",
              "      <td>Bela Vista</td>\n",
              "      <td>NaN</td>\n",
              "    </tr>\n",
              "    <tr>\n",
              "      <th>2</th>\n",
              "      <td>6577725</td>\n",
              "      <td>355660</td>\n",
              "      <td>SECRETARIA MUNICIPAL DE SAUDE E HIGIENE DE VER...</td>\n",
              "      <td>CENTRAL DE GESTAO EM SAUDE</td>\n",
              "      <td>M</td>\n",
              "      <td>RUA PAULO GUERREIRO FRANCO</td>\n",
              "      <td>997</td>\n",
              "      <td>CENTRO</td>\n",
              "      <td>17560000</td>\n",
              "      <td>SP</td>\n",
              "      <td>Vera Cruz</td>\n",
              "      <td>NaN</td>\n",
              "    </tr>\n",
              "    <tr>\n",
              "      <th>3</th>\n",
              "      <td>6577733</td>\n",
              "      <td>355410</td>\n",
              "      <td>CONS SERGIO LUIZ TEIXEIRA M PERES</td>\n",
              "      <td>CONSULTORIO ISOLADO</td>\n",
              "      <td>M</td>\n",
              "      <td>PCA MONS SILVA BARROS</td>\n",
              "      <td>254</td>\n",
              "      <td>CENTRO</td>\n",
              "      <td>12020070</td>\n",
              "      <td>SP</td>\n",
              "      <td>Taubaté</td>\n",
              "      <td>36351489</td>\n",
              "    </tr>\n",
              "    <tr>\n",
              "      <th>4</th>\n",
              "      <td>6577768</td>\n",
              "      <td>410490</td>\n",
              "      <td>LABORATORIO DOFF SOTTA</td>\n",
              "      <td>UNIDADE DE APOIO DIAGNOSE E TERAPIA (SADT ISOL...</td>\n",
              "      <td>M</td>\n",
              "      <td>RUA DR JORGE XAVIER DA SILVA</td>\n",
              "      <td>1078</td>\n",
              "      <td>CENTRO</td>\n",
              "      <td>84165000</td>\n",
              "      <td>PR</td>\n",
              "      <td>Castro</td>\n",
              "      <td>3232-4854</td>\n",
              "    </tr>\n",
              "    <tr>\n",
              "      <th>5</th>\n",
              "      <td>6577806</td>\n",
              "      <td>420245</td>\n",
              "      <td>SAMU BOMBINHAS</td>\n",
              "      <td>UNIDADE MOVEL DE NIVEL PRE-HOSPITALAR NA AREA ...</td>\n",
              "      <td>M</td>\n",
              "      <td>RUA CACHALOTE</td>\n",
              "      <td>589</td>\n",
              "      <td>MORRINHOS</td>\n",
              "      <td>88215000</td>\n",
              "      <td>SC</td>\n",
              "      <td>Bombinhas</td>\n",
              "      <td>33934363</td>\n",
              "    </tr>\n",
              "    <tr>\n",
              "      <th>6</th>\n",
              "      <td>6577830</td>\n",
              "      <td>240260</td>\n",
              "      <td>CENTRO DE ATENCAO PSICOSSOCIAL CAPS II</td>\n",
              "      <td>CENTRO DE ATENCAO PSICOSSOCIAL</td>\n",
              "      <td>M</td>\n",
              "      <td>RUA POETISA DOLORES</td>\n",
              "      <td>13</td>\n",
              "      <td>CENTRO</td>\n",
              "      <td>59570000</td>\n",
              "      <td>RN</td>\n",
              "      <td>Ceará-Mirim</td>\n",
              "      <td>(84)3274-5914</td>\n",
              "    </tr>\n",
              "    <tr>\n",
              "      <th>7</th>\n",
              "      <td>6577865</td>\n",
              "      <td>315960</td>\n",
              "      <td>DIMENSAO CLINICA MEDICA</td>\n",
              "      <td>UNIDADE DE APOIO DIAGNOSE E TERAPIA (SADT ISOL...</td>\n",
              "      <td>M</td>\n",
              "      <td>RUA CEL GABRIEL CAPISTRANO</td>\n",
              "      <td>256</td>\n",
              "      <td>CENTRO</td>\n",
              "      <td>37540000</td>\n",
              "      <td>MG</td>\n",
              "      <td>Santa Rita do Sapucaí</td>\n",
              "      <td>3534713531</td>\n",
              "    </tr>\n",
              "    <tr>\n",
              "      <th>8</th>\n",
              "      <td>6577873</td>\n",
              "      <td>355670</td>\n",
              "      <td>JULIANA PEREIRA PERSI</td>\n",
              "      <td>UNIDADE DE APOIO DIAGNOSE E TERAPIA (SADT ISOL...</td>\n",
              "      <td>M</td>\n",
              "      <td>RUA ROCINHA</td>\n",
              "      <td>213</td>\n",
              "      <td>CAPELA</td>\n",
              "      <td>13280000</td>\n",
              "      <td>SP</td>\n",
              "      <td>Vinhedo</td>\n",
              "      <td>38764932</td>\n",
              "    </tr>\n",
              "    <tr>\n",
              "      <th>9</th>\n",
              "      <td>6577881</td>\n",
              "      <td>231330</td>\n",
              "      <td>CENTRAL DE CONSULTORIOS</td>\n",
              "      <td>CLINICA/CENTRO DE ESPECIALIDADE</td>\n",
              "      <td>M</td>\n",
              "      <td>RUA MAFISA CIDRAO ROCHA</td>\n",
              "      <td>63</td>\n",
              "      <td>CENTRO</td>\n",
              "      <td>63660000</td>\n",
              "      <td>CE</td>\n",
              "      <td>Tauá</td>\n",
              "      <td>88-34371097</td>\n",
              "    </tr>\n",
              "    <tr>\n",
              "      <th>10</th>\n",
              "      <td>6577903</td>\n",
              "      <td>411605</td>\n",
              "      <td>SMS DE MISSAL</td>\n",
              "      <td>CENTRAL DE GESTAO EM SAUDE</td>\n",
              "      <td>M</td>\n",
              "      <td>RUA NOSSA SENHORA DA LUZ</td>\n",
              "      <td>357</td>\n",
              "      <td>CENTRO</td>\n",
              "      <td>85890000</td>\n",
              "      <td>PR</td>\n",
              "      <td>Missal</td>\n",
              "      <td>45 3244 2282</td>\n",
              "    </tr>\n",
              "    <tr>\n",
              "      <th>11</th>\n",
              "      <td>6577938</td>\n",
              "      <td>292520</td>\n",
              "      <td>CEO CENTRO DE ESPECIALIDADES ODONTOLOGICA DE P...</td>\n",
              "      <td>CLINICA/CENTRO DE ESPECIALIDADE</td>\n",
              "      <td>M</td>\n",
              "      <td>AVENIDA CONSELHEIRO CHAVES</td>\n",
              "      <td>S/N</td>\n",
              "      <td>CENTRO</td>\n",
              "      <td>48120000</td>\n",
              "      <td>BA</td>\n",
              "      <td>Pojuca</td>\n",
              "      <td>7136451013</td>\n",
              "    </tr>\n",
              "    <tr>\n",
              "      <th>12</th>\n",
              "      <td>6577946</td>\n",
              "      <td>330520</td>\n",
              "      <td>CLINICA SANTA MARIA</td>\n",
              "      <td>CLINICA/CENTRO DE ESPECIALIDADE</td>\n",
              "      <td>M</td>\n",
              "      <td>RODOVIA RJ 140 KM 03</td>\n",
              "      <td>110</td>\n",
              "      <td>FLUMINENSE</td>\n",
              "      <td>28941030</td>\n",
              "      <td>RJ</td>\n",
              "      <td>São Pedro da Aldeia</td>\n",
              "      <td>(22) 26212126</td>\n",
              "    </tr>\n",
              "    <tr>\n",
              "      <th>13</th>\n",
              "      <td>6577997</td>\n",
              "      <td>260140</td>\n",
              "      <td>SECRETARIA DE SAUDE DOS BARREIROS</td>\n",
              "      <td>CENTRAL DE GESTAO EM SAUDE</td>\n",
              "      <td>M</td>\n",
              "      <td>RUA DOM LUIZ</td>\n",
              "      <td>380</td>\n",
              "      <td>CENTRO</td>\n",
              "      <td>55560000</td>\n",
              "      <td>PE</td>\n",
              "      <td>Barreiros</td>\n",
              "      <td>NaN</td>\n",
              "    </tr>\n",
              "    <tr>\n",
              "      <th>14</th>\n",
              "      <td>6578004</td>\n",
              "      <td>250160</td>\n",
              "      <td>UNIDADE BASICA DE SAUDE ASSENTAMENTO RIACHO DA...</td>\n",
              "      <td>CENTRO DE SAUDE/UNIDADE BASICA</td>\n",
              "      <td>M</td>\n",
              "      <td>ASSENTAMENTO RIACHO DA CRUZ</td>\n",
              "      <td>0000000000</td>\n",
              "      <td>ZONA RURAL</td>\n",
              "      <td>58170000</td>\n",
              "      <td>PB</td>\n",
              "      <td>Barra de Santa Rosa</td>\n",
              "      <td>NaN</td>\n",
              "    </tr>\n",
              "    <tr>\n",
              "      <th>15</th>\n",
              "      <td>6578039</td>\n",
              "      <td>351620</td>\n",
              "      <td>A E CLINICA ESTETICA LTDA ME</td>\n",
              "      <td>CONSULTORIO ISOLADO</td>\n",
              "      <td>M</td>\n",
              "      <td>AV MAJOR NICACIO</td>\n",
              "      <td>1415</td>\n",
              "      <td>CIDADE NOVA</td>\n",
              "      <td>14401135</td>\n",
              "      <td>SP</td>\n",
              "      <td>Franca</td>\n",
              "      <td>NaN</td>\n",
              "    </tr>\n",
              "    <tr>\n",
              "      <th>16</th>\n",
              "      <td>6578071</td>\n",
              "      <td>261485</td>\n",
              "      <td>SECRETARIA DE SAUDE DE TAMANDARE</td>\n",
              "      <td>CENTRAL DE GESTAO EM SAUDE</td>\n",
              "      <td>M</td>\n",
              "      <td>AVENIDA DR LEOPOLDO LINS</td>\n",
              "      <td>S/N</td>\n",
              "      <td>CENTRO</td>\n",
              "      <td>55578000</td>\n",
              "      <td>PE</td>\n",
              "      <td>Tamandaré</td>\n",
              "      <td>NaN</td>\n",
              "    </tr>\n",
              "    <tr>\n",
              "      <th>17</th>\n",
              "      <td>7567650</td>\n",
              "      <td>530010</td>\n",
              "      <td>VCP ODONTOLOGIA</td>\n",
              "      <td>CONSULTORIO ISOLADO</td>\n",
              "      <td>E</td>\n",
              "      <td>SGA SUL QUADRA 915 CONJUNTO N SALA</td>\n",
              "      <td>311</td>\n",
              "      <td>ASA SUL</td>\n",
              "      <td>70390150</td>\n",
              "      <td>DF</td>\n",
              "      <td>Brasília</td>\n",
              "      <td>(61)32451535</td>\n",
              "    </tr>\n",
              "    <tr>\n",
              "      <th>18</th>\n",
              "      <td>6578101</td>\n",
              "      <td>261190</td>\n",
              "      <td>SECRETARIA DE SAUDE DO RIO FORMOSO</td>\n",
              "      <td>CENTRAL DE GESTAO EM SAUDE</td>\n",
              "      <td>M</td>\n",
              "      <td>PRACA 7 DE FEVEREIRO</td>\n",
              "      <td>01</td>\n",
              "      <td>CENTRO</td>\n",
              "      <td>55570000</td>\n",
              "      <td>PE</td>\n",
              "      <td>Rio Formoso</td>\n",
              "      <td>NaN</td>\n",
              "    </tr>\n",
              "    <tr>\n",
              "      <th>19</th>\n",
              "      <td>6578128</td>\n",
              "      <td>261420</td>\n",
              "      <td>SECRETARIA DE SAUDE DE SIRINHAEM</td>\n",
              "      <td>CENTRAL DE GESTAO EM SAUDE</td>\n",
              "      <td>M</td>\n",
              "      <td>RUA SEBASTIAO CHAVES</td>\n",
              "      <td>S/N</td>\n",
              "      <td>CENTRO</td>\n",
              "      <td>55580000</td>\n",
              "      <td>PE</td>\n",
              "      <td>Sirinhaém</td>\n",
              "      <td>NaN</td>\n",
              "    </tr>\n",
              "  </tbody>\n",
              "</table>\n",
              "</div>"
            ],
            "text/plain": [
              "    co_cnes  co_ibge  ...              municipio    nu_telefone\n",
              "0   6577687   292240  ...                Mutuípe            NaN\n",
              "1   6578500   500210  ...             Bela Vista            NaN\n",
              "2   6577725   355660  ...              Vera Cruz            NaN\n",
              "3   6577733   355410  ...                Taubaté       36351489\n",
              "4   6577768   410490  ...                 Castro      3232-4854\n",
              "5   6577806   420245  ...              Bombinhas       33934363\n",
              "6   6577830   240260  ...            Ceará-Mirim  (84)3274-5914\n",
              "7   6577865   315960  ...  Santa Rita do Sapucaí     3534713531\n",
              "8   6577873   355670  ...                Vinhedo       38764932\n",
              "9   6577881   231330  ...                   Tauá    88-34371097\n",
              "10  6577903   411605  ...                 Missal   45 3244 2282\n",
              "11  6577938   292520  ...                 Pojuca     7136451013\n",
              "12  6577946   330520  ...    São Pedro da Aldeia  (22) 26212126\n",
              "13  6577997   260140  ...              Barreiros            NaN\n",
              "14  6578004   250160  ...    Barra de Santa Rosa            NaN\n",
              "15  6578039   351620  ...                 Franca            NaN\n",
              "16  6578071   261485  ...              Tamandaré            NaN\n",
              "17  7567650   530010  ...               Brasília   (61)32451535\n",
              "18  6578101   261190  ...            Rio Formoso            NaN\n",
              "19  6578128   261420  ...              Sirinhaém            NaN\n",
              "\n",
              "[20 rows x 12 columns]"
            ]
          },
          "metadata": {
            "tags": []
          },
          "execution_count": 24
        }
      ]
    },
    {
      "cell_type": "code",
      "metadata": {
        "colab": {
          "base_uri": "https://localhost:8080/"
        },
        "id": "ZOYUlLJDI-2L",
        "outputId": "ca685fe8-e1c8-4e31-c3bf-a5e6909fb53c"
      },
      "source": [
        "df_cnes.count()        # Quantidade de registros por coluna. \r\n",
        "                      # É possível observar que algumas colunas possuem quatidade inferior de registros, o que indica que será necessário \r\n",
        "                      #    tratamento de dados se essas colunas forem necessárias para análise"
      ],
      "execution_count": null,
      "outputs": [
        {
          "output_type": "execute_result",
          "data": {
            "text/plain": [
              "co_cnes            354804\n",
              "co_ibge            354804\n",
              "no_fantasia        354796\n",
              "ds_tipo_unidade    354804\n",
              "tp_gestao          354804\n",
              "no_logradouro      354804\n",
              "nu_endereco        354517\n",
              "no_bairro          354801\n",
              "co_cep             354804\n",
              "uf                 354434\n",
              "municipio          354434\n",
              "nu_telefone        279394\n",
              "dtype: int64"
            ]
          },
          "metadata": {
            "tags": []
          },
          "execution_count": 25
        }
      ]
    },
    {
      "cell_type": "code",
      "metadata": {
        "colab": {
          "base_uri": "https://localhost:8080/"
        },
        "id": "hEe987vXKWsX",
        "outputId": "9e20f33c-2ecb-4b13-d329-3b394043cfb1"
      },
      "source": [
        "df_cnes.columns"
      ],
      "execution_count": null,
      "outputs": [
        {
          "output_type": "execute_result",
          "data": {
            "text/plain": [
              "Index(['co_cnes', 'co_ibge', 'no_fantasia', 'ds_tipo_unidade', 'tp_gestao',\n",
              "       'no_logradouro', 'nu_endereco', 'no_bairro', 'co_cep', 'uf',\n",
              "       'municipio', 'nu_telefone'],\n",
              "      dtype='object')"
            ]
          },
          "metadata": {
            "tags": []
          },
          "execution_count": 26
        }
      ]
    },
    {
      "cell_type": "markdown",
      "metadata": {
        "id": "ExtEdNtiIfvm"
      },
      "source": [
        "## Eliminação de colunas e linhas que não serão utilizadas - Dataset Estabelecimentos de Saúde (CNES)"
      ]
    },
    {
      "cell_type": "code",
      "metadata": {
        "id": "b_ubDfWOIrDv"
      },
      "source": [
        "# Eliminação das colunas que não serão utilizadas nas análises\r\n",
        "\r\n",
        "df_cnes = df_cnes.drop(['no_logradouro','nu_endereco','no_bairro','co_cep','nu_telefone'],axis=1)"
      ],
      "execution_count": null,
      "outputs": []
    },
    {
      "cell_type": "code",
      "metadata": {
        "id": "YROJoA_cJ-nk",
        "colab": {
          "base_uri": "https://localhost:8080/"
        },
        "outputId": "1fd260ce-c6c9-4b28-b843-0e8d7fc9c212"
      },
      "source": [
        "df_cnes.columns"
      ],
      "execution_count": null,
      "outputs": [
        {
          "output_type": "execute_result",
          "data": {
            "text/plain": [
              "Index(['co_cnes', 'co_ibge', 'no_fantasia', 'ds_tipo_unidade', 'tp_gestao',\n",
              "       'uf', 'municipio'],\n",
              "      dtype='object')"
            ]
          },
          "metadata": {
            "tags": []
          },
          "execution_count": 28
        }
      ]
    },
    {
      "cell_type": "markdown",
      "metadata": {
        "id": "bofYVY_GJvsu"
      },
      "source": [
        "## Merge entre os dataFrames de Vacinação e CNES"
      ]
    },
    {
      "cell_type": "code",
      "metadata": {
        "colab": {
          "base_uri": "https://localhost:8080/",
          "height": 1000
        },
        "id": "8e0ySi35KXpH",
        "outputId": "f1719cf7-f1ac-41b3-a938-f4e22ca06b71"
      },
      "source": [
        "pd.merge(df_vacinacao, df_cnes, on=None, left_on='estabelecimento_valor', right_on='co_cnes')"
      ],
      "execution_count": null,
      "outputs": [
        {
          "output_type": "execute_result",
          "data": {
            "text/html": [
              "<div>\n",
              "<style scoped>\n",
              "    .dataframe tbody tr th:only-of-type {\n",
              "        vertical-align: middle;\n",
              "    }\n",
              "\n",
              "    .dataframe tbody tr th {\n",
              "        vertical-align: top;\n",
              "    }\n",
              "\n",
              "    .dataframe thead th {\n",
              "        text-align: right;\n",
              "    }\n",
              "</style>\n",
              "<table border=\"1\" class=\"dataframe\">\n",
              "  <thead>\n",
              "    <tr style=\"text-align: right;\">\n",
              "      <th></th>\n",
              "      <th>document_id</th>\n",
              "      <th>paciente_id</th>\n",
              "      <th>paciente_idade</th>\n",
              "      <th>paciente_dataNascimento</th>\n",
              "      <th>paciente_enumSexoBiologico</th>\n",
              "      <th>paciente_racaCor_codigo</th>\n",
              "      <th>paciente_racaCor_valor</th>\n",
              "      <th>paciente_endereco_coIbgeMunicipio</th>\n",
              "      <th>paciente_endereco_coPais</th>\n",
              "      <th>paciente_endereco_nmMunicipio</th>\n",
              "      <th>paciente_endereco_nmPais</th>\n",
              "      <th>paciente_endereco_uf</th>\n",
              "      <th>paciente_nacionalidade_enumNacionalidade</th>\n",
              "      <th>estabelecimento_valor</th>\n",
              "      <th>estabelecimento_razaoSocial</th>\n",
              "      <th>estalecimento_noFantasia</th>\n",
              "      <th>estabelecimento_municipio_codigo</th>\n",
              "      <th>estabelecimento_municipio_nome</th>\n",
              "      <th>estabelecimento_uf</th>\n",
              "      <th>vacina_grupoAtendimento_codigo</th>\n",
              "      <th>vacina_grupoAtendimento_nome</th>\n",
              "      <th>vacina_categoria_codigo</th>\n",
              "      <th>vacina_categoria_nome</th>\n",
              "      <th>vacina_fabricante_nome</th>\n",
              "      <th>vacina_dataAplicacao</th>\n",
              "      <th>vacina_descricao_dose</th>\n",
              "      <th>vacina_nome</th>\n",
              "      <th>data_importacao_rnds</th>\n",
              "      <th>co_cnes</th>\n",
              "      <th>co_ibge</th>\n",
              "      <th>no_fantasia</th>\n",
              "      <th>ds_tipo_unidade</th>\n",
              "      <th>tp_gestao</th>\n",
              "      <th>uf</th>\n",
              "      <th>municipio</th>\n",
              "    </tr>\n",
              "  </thead>\n",
              "  <tbody>\n",
              "    <tr>\n",
              "      <th>0</th>\n",
              "      <td>c6756cf9-0e0e-456b-86d2-94309b47e702-i0b0</td>\n",
              "      <td>3c73310d030b31ec5c73deda79bad2e8dbcc388839b6cd...</td>\n",
              "      <td>43.0</td>\n",
              "      <td>1977-12-05</td>\n",
              "      <td>F</td>\n",
              "      <td>1.0</td>\n",
              "      <td>BRANCA</td>\n",
              "      <td>352270</td>\n",
              "      <td>10</td>\n",
              "      <td>ITAPOLIS</td>\n",
              "      <td>BRASIL</td>\n",
              "      <td>SP</td>\n",
              "      <td>B</td>\n",
              "      <td>2747723</td>\n",
              "      <td>PREFEITURA MUNICIPAL DE ITAPOLIS</td>\n",
              "      <td>UBS JARDIM REDENCAO ITAPOLIS</td>\n",
              "      <td>352270.0</td>\n",
              "      <td>ITAPOLIS</td>\n",
              "      <td>SP</td>\n",
              "      <td>926</td>\n",
              "      <td>Outros</td>\n",
              "      <td>9.0</td>\n",
              "      <td>Trabalhadores de Saúde</td>\n",
              "      <td>Sinovac</td>\n",
              "      <td>2021-02-12T00:00:00.000Z</td>\n",
              "      <td>1ª Dose</td>\n",
              "      <td>Covid-19-Coronavac-Sinovac/Butantan</td>\n",
              "      <td>2021-02-12 10:02:44</td>\n",
              "      <td>2747723</td>\n",
              "      <td>352270</td>\n",
              "      <td>UBS JARDIM REDENCAO ITAPOLIS</td>\n",
              "      <td>CENTRO DE SAUDE/UNIDADE BASICA</td>\n",
              "      <td>M</td>\n",
              "      <td>SP</td>\n",
              "      <td>Itápolis</td>\n",
              "    </tr>\n",
              "    <tr>\n",
              "      <th>1</th>\n",
              "      <td>85a346cd-aae6-47a6-8b89-1ce2c3dcacbb-i0b0</td>\n",
              "      <td>35d55970473ce949b1c9cd7a082b1a04a879378113f16e...</td>\n",
              "      <td>56.0</td>\n",
              "      <td>1964-12-10</td>\n",
              "      <td>F</td>\n",
              "      <td>1.0</td>\n",
              "      <td>BRANCA</td>\n",
              "      <td>352270</td>\n",
              "      <td>10</td>\n",
              "      <td>ITAPOLIS</td>\n",
              "      <td>BRASIL</td>\n",
              "      <td>SP</td>\n",
              "      <td>B</td>\n",
              "      <td>2747723</td>\n",
              "      <td>PREFEITURA MUNICIPAL DE ITAPOLIS</td>\n",
              "      <td>UBS JARDIM REDENCAO ITAPOLIS</td>\n",
              "      <td>352270.0</td>\n",
              "      <td>ITAPOLIS</td>\n",
              "      <td>SP</td>\n",
              "      <td>926</td>\n",
              "      <td>Outros</td>\n",
              "      <td>9.0</td>\n",
              "      <td>Trabalhadores de Saúde</td>\n",
              "      <td>Sinovac</td>\n",
              "      <td>2021-02-09T00:00:00.000Z</td>\n",
              "      <td>1ª Dose</td>\n",
              "      <td>Covid-19-Coronavac-Sinovac/Butantan</td>\n",
              "      <td>2021-02-09 04:02:37</td>\n",
              "      <td>2747723</td>\n",
              "      <td>352270</td>\n",
              "      <td>UBS JARDIM REDENCAO ITAPOLIS</td>\n",
              "      <td>CENTRO DE SAUDE/UNIDADE BASICA</td>\n",
              "      <td>M</td>\n",
              "      <td>SP</td>\n",
              "      <td>Itápolis</td>\n",
              "    </tr>\n",
              "    <tr>\n",
              "      <th>2</th>\n",
              "      <td>d250e4f3-6ff9-4f37-8f6d-cd5a9f3879cd-i0b0</td>\n",
              "      <td>97c8e4ce239cd99aa3db8122f785c58436328db973b0e5...</td>\n",
              "      <td>40.0</td>\n",
              "      <td>1980-06-02</td>\n",
              "      <td>M</td>\n",
              "      <td>1.0</td>\n",
              "      <td>BRANCA</td>\n",
              "      <td>352270</td>\n",
              "      <td>10</td>\n",
              "      <td>ITAPOLIS</td>\n",
              "      <td>BRASIL</td>\n",
              "      <td>SP</td>\n",
              "      <td>B</td>\n",
              "      <td>2747723</td>\n",
              "      <td>PREFEITURA MUNICIPAL DE ITAPOLIS</td>\n",
              "      <td>UBS JARDIM REDENCAO ITAPOLIS</td>\n",
              "      <td>352270.0</td>\n",
              "      <td>ITAPOLIS</td>\n",
              "      <td>SP</td>\n",
              "      <td>926</td>\n",
              "      <td>Outros</td>\n",
              "      <td>9.0</td>\n",
              "      <td>Trabalhadores de Saúde</td>\n",
              "      <td>AstraZeneca/Oxford</td>\n",
              "      <td>2021-02-03T00:00:00.000Z</td>\n",
              "      <td>1ª Dose</td>\n",
              "      <td>Vacina Covid-19 - Covishield</td>\n",
              "      <td>2021-02-03 10:02:10</td>\n",
              "      <td>2747723</td>\n",
              "      <td>352270</td>\n",
              "      <td>UBS JARDIM REDENCAO ITAPOLIS</td>\n",
              "      <td>CENTRO DE SAUDE/UNIDADE BASICA</td>\n",
              "      <td>M</td>\n",
              "      <td>SP</td>\n",
              "      <td>Itápolis</td>\n",
              "    </tr>\n",
              "    <tr>\n",
              "      <th>3</th>\n",
              "      <td>92a49f7c-be44-4796-9e88-7527f5e355b2-i0b0</td>\n",
              "      <td>a581e01db894c667d6e6bd1793e613d5981cdc7ee0e86c...</td>\n",
              "      <td>79.0</td>\n",
              "      <td>1941-07-05</td>\n",
              "      <td>F</td>\n",
              "      <td>1.0</td>\n",
              "      <td>BRANCA</td>\n",
              "      <td>352270</td>\n",
              "      <td>10</td>\n",
              "      <td>ITAPOLIS</td>\n",
              "      <td>BRASIL</td>\n",
              "      <td>SP</td>\n",
              "      <td>B</td>\n",
              "      <td>2747723</td>\n",
              "      <td>PREFEITURA MUNICIPAL DE ITAPOLIS</td>\n",
              "      <td>UBS JARDIM REDENCAO ITAPOLIS</td>\n",
              "      <td>352270.0</td>\n",
              "      <td>ITAPOLIS</td>\n",
              "      <td>SP</td>\n",
              "      <td>204</td>\n",
              "      <td>Pessoas de 75 a 79 anos</td>\n",
              "      <td>2.0</td>\n",
              "      <td>Faixa Etária</td>\n",
              "      <td>Sinovac</td>\n",
              "      <td>2021-02-08T00:00:00.000Z</td>\n",
              "      <td>1ª Dose</td>\n",
              "      <td>Covid-19-Coronavac-Sinovac/Butantan</td>\n",
              "      <td>2021-02-08 06:02:20</td>\n",
              "      <td>2747723</td>\n",
              "      <td>352270</td>\n",
              "      <td>UBS JARDIM REDENCAO ITAPOLIS</td>\n",
              "      <td>CENTRO DE SAUDE/UNIDADE BASICA</td>\n",
              "      <td>M</td>\n",
              "      <td>SP</td>\n",
              "      <td>Itápolis</td>\n",
              "    </tr>\n",
              "    <tr>\n",
              "      <th>4</th>\n",
              "      <td>968dba04-edde-4371-9ceb-206ec2b6e2da-i0b0</td>\n",
              "      <td>fea3a597ecd86a91e05f791b597c63cf540e7dc4451d40...</td>\n",
              "      <td>95.0</td>\n",
              "      <td>1925-08-03</td>\n",
              "      <td>F</td>\n",
              "      <td>1.0</td>\n",
              "      <td>BRANCA</td>\n",
              "      <td>352270</td>\n",
              "      <td>10</td>\n",
              "      <td>ITAPOLIS</td>\n",
              "      <td>BRASIL</td>\n",
              "      <td>SP</td>\n",
              "      <td>B</td>\n",
              "      <td>2747723</td>\n",
              "      <td>PREFEITURA MUNICIPAL DE ITAPOLIS</td>\n",
              "      <td>UBS JARDIM REDENCAO ITAPOLIS</td>\n",
              "      <td>352270.0</td>\n",
              "      <td>ITAPOLIS</td>\n",
              "      <td>SP</td>\n",
              "      <td>205</td>\n",
              "      <td>Pessoas de 80 anos ou mais</td>\n",
              "      <td>2.0</td>\n",
              "      <td>Faixa Etária</td>\n",
              "      <td>Sinovac</td>\n",
              "      <td>2021-02-08T00:00:00.000Z</td>\n",
              "      <td>1ª Dose</td>\n",
              "      <td>Covid-19-Coronavac-Sinovac/Butantan</td>\n",
              "      <td>2021-02-08 05:02:01</td>\n",
              "      <td>2747723</td>\n",
              "      <td>352270</td>\n",
              "      <td>UBS JARDIM REDENCAO ITAPOLIS</td>\n",
              "      <td>CENTRO DE SAUDE/UNIDADE BASICA</td>\n",
              "      <td>M</td>\n",
              "      <td>SP</td>\n",
              "      <td>Itápolis</td>\n",
              "    </tr>\n",
              "    <tr>\n",
              "      <th>...</th>\n",
              "      <td>...</td>\n",
              "      <td>...</td>\n",
              "      <td>...</td>\n",
              "      <td>...</td>\n",
              "      <td>...</td>\n",
              "      <td>...</td>\n",
              "      <td>...</td>\n",
              "      <td>...</td>\n",
              "      <td>...</td>\n",
              "      <td>...</td>\n",
              "      <td>...</td>\n",
              "      <td>...</td>\n",
              "      <td>...</td>\n",
              "      <td>...</td>\n",
              "      <td>...</td>\n",
              "      <td>...</td>\n",
              "      <td>...</td>\n",
              "      <td>...</td>\n",
              "      <td>...</td>\n",
              "      <td>...</td>\n",
              "      <td>...</td>\n",
              "      <td>...</td>\n",
              "      <td>...</td>\n",
              "      <td>...</td>\n",
              "      <td>...</td>\n",
              "      <td>...</td>\n",
              "      <td>...</td>\n",
              "      <td>...</td>\n",
              "      <td>...</td>\n",
              "      <td>...</td>\n",
              "      <td>...</td>\n",
              "      <td>...</td>\n",
              "      <td>...</td>\n",
              "      <td>...</td>\n",
              "      <td>...</td>\n",
              "    </tr>\n",
              "    <tr>\n",
              "      <th>3841704</th>\n",
              "      <td>2dfcc705-e827-478d-83a6-0f46005c0389-i0b0</td>\n",
              "      <td>fcc80a11d76b1640683f91741086730b7ba90e2ff43412...</td>\n",
              "      <td>93.0</td>\n",
              "      <td>1928-01-26</td>\n",
              "      <td>M</td>\n",
              "      <td>1.0</td>\n",
              "      <td>BRANCA</td>\n",
              "      <td>314510</td>\n",
              "      <td>10</td>\n",
              "      <td>NOVA RESENDE</td>\n",
              "      <td>BRASIL</td>\n",
              "      <td>MG</td>\n",
              "      <td>B</td>\n",
              "      <td>9399798</td>\n",
              "      <td>PREFEITURA MUNICIPAL DE NOVA RESENDE</td>\n",
              "      <td>PSF SERRA II</td>\n",
              "      <td>314510.0</td>\n",
              "      <td>NOVA RESENDE</td>\n",
              "      <td>MG</td>\n",
              "      <td>205</td>\n",
              "      <td>Pessoas de 80 anos ou mais</td>\n",
              "      <td>2.0</td>\n",
              "      <td>Faixa Etária</td>\n",
              "      <td>FUNDACAO BUTANTAN</td>\n",
              "      <td>2021-02-12T03:00:00.000Z</td>\n",
              "      <td>1ª Dose</td>\n",
              "      <td>Covid-19-Coronavac-Sinovac/Butantan</td>\n",
              "      <td>2021-02-26 18:37:37</td>\n",
              "      <td>9399798</td>\n",
              "      <td>314510</td>\n",
              "      <td>PSF SERRA II</td>\n",
              "      <td>CENTRO DE SAUDE/UNIDADE BASICA</td>\n",
              "      <td>M</td>\n",
              "      <td>MG</td>\n",
              "      <td>Nova Resende</td>\n",
              "    </tr>\n",
              "    <tr>\n",
              "      <th>3841705</th>\n",
              "      <td>7180c4be-1f9b-462d-a458-56cae6156fdc-i0b0</td>\n",
              "      <td>81a587c7b8c00bd970363bd409a3e2ec055ff3b01cbc80...</td>\n",
              "      <td>21.0</td>\n",
              "      <td>1999-06-25</td>\n",
              "      <td>F</td>\n",
              "      <td>3.0</td>\n",
              "      <td>PARDA</td>\n",
              "      <td>313250</td>\n",
              "      <td>10</td>\n",
              "      <td>ITAMARANDIBA</td>\n",
              "      <td>BRASIL</td>\n",
              "      <td>MG</td>\n",
              "      <td>B</td>\n",
              "      <td>2178168</td>\n",
              "      <td>PREFEITURA MUNICIPAL DE ITAMARANDIBA</td>\n",
              "      <td>POSTO DE SAUDE DE CONTRATO</td>\n",
              "      <td>313250.0</td>\n",
              "      <td>ITAMARANDIBA</td>\n",
              "      <td>MG</td>\n",
              "      <td>0</td>\n",
              "      <td>NaN</td>\n",
              "      <td>NaN</td>\n",
              "      <td>NaN</td>\n",
              "      <td>SERUM INSTITUTE OF INDIA LTD</td>\n",
              "      <td>2021-01-22T00:00:00.000Z</td>\n",
              "      <td>1ª Dose</td>\n",
              "      <td>Covid-19-Coronavac-Sinovac/Butantan</td>\n",
              "      <td>2021-02-22 13:58:38</td>\n",
              "      <td>2178168</td>\n",
              "      <td>313250</td>\n",
              "      <td>POSTO DE SAUDE DE CONTRATO</td>\n",
              "      <td>CENTRO DE SAUDE/UNIDADE BASICA</td>\n",
              "      <td>M</td>\n",
              "      <td>MG</td>\n",
              "      <td>Itamarandiba</td>\n",
              "    </tr>\n",
              "    <tr>\n",
              "      <th>3841706</th>\n",
              "      <td>0dd9723f-740d-4ed6-80aa-9cef3bd89473-i0b0</td>\n",
              "      <td>29cf8925ec26a8c50e35b16e7ae8b423eac7629a3ee090...</td>\n",
              "      <td>93.0</td>\n",
              "      <td>1927-08-09</td>\n",
              "      <td>F</td>\n",
              "      <td>99.0</td>\n",
              "      <td>SEM INFORMACAO</td>\n",
              "      <td>314700</td>\n",
              "      <td>10</td>\n",
              "      <td>PARACATU</td>\n",
              "      <td>BRASIL</td>\n",
              "      <td>MG</td>\n",
              "      <td>B</td>\n",
              "      <td>2169339</td>\n",
              "      <td>PREFEITURA MUNICIPAL DE PARACATU</td>\n",
              "      <td>PSF VILA SAO JOAO EVANGELISTA</td>\n",
              "      <td>314700.0</td>\n",
              "      <td>PARACATU</td>\n",
              "      <td>MG</td>\n",
              "      <td>205</td>\n",
              "      <td>Pessoas de 80 anos ou mais</td>\n",
              "      <td>2.0</td>\n",
              "      <td>Faixa Etária</td>\n",
              "      <td>FUNDACAO BUTANTAN</td>\n",
              "      <td>2021-02-18T03:00:00.000Z</td>\n",
              "      <td>1ª Dose</td>\n",
              "      <td>Covid-19-Coronavac-Sinovac/Butantan</td>\n",
              "      <td>2021-02-19 11:53:44</td>\n",
              "      <td>2169339</td>\n",
              "      <td>314700</td>\n",
              "      <td>PSF VILA SAO JOAO EVANGELISTA</td>\n",
              "      <td>CENTRO DE SAUDE/UNIDADE BASICA</td>\n",
              "      <td>M</td>\n",
              "      <td>MG</td>\n",
              "      <td>Paracatu</td>\n",
              "    </tr>\n",
              "    <tr>\n",
              "      <th>3841707</th>\n",
              "      <td>6da9166e-0e36-4457-a818-ded1b8e95129-i0b0</td>\n",
              "      <td>c17edfb6c7e3283470102dd8e34062a828742b3cc15954...</td>\n",
              "      <td>38.0</td>\n",
              "      <td>1982-12-07</td>\n",
              "      <td>M</td>\n",
              "      <td>3.0</td>\n",
              "      <td>PARDA</td>\n",
              "      <td>311950</td>\n",
              "      <td>10</td>\n",
              "      <td>CORONEL MURTA</td>\n",
              "      <td>BRASIL</td>\n",
              "      <td>MG</td>\n",
              "      <td>B</td>\n",
              "      <td>7589395</td>\n",
              "      <td>PREFEITURA MUNICIPAL DE CORONEL MURTA</td>\n",
              "      <td>UNIDADE BASICA DE SAUDE PALMEIRAS</td>\n",
              "      <td>311950.0</td>\n",
              "      <td>CORONEL MURTA</td>\n",
              "      <td>MG</td>\n",
              "      <td>907</td>\n",
              "      <td>Enfermeiro(a)</td>\n",
              "      <td>9.0</td>\n",
              "      <td>Trabalhadores de Saúde</td>\n",
              "      <td>SERUM INSTITUTE OF INDIA LTD</td>\n",
              "      <td>2021-02-03T00:00:00.000Z</td>\n",
              "      <td>2ª Dose</td>\n",
              "      <td>Covid-19-Coronavac-Sinovac/Butantan</td>\n",
              "      <td>2021-02-22 13:59:27</td>\n",
              "      <td>7589395</td>\n",
              "      <td>311950</td>\n",
              "      <td>UNIDADE BASICA DE SAUDE PALMEIRAS</td>\n",
              "      <td>CENTRO DE SAUDE/UNIDADE BASICA</td>\n",
              "      <td>M</td>\n",
              "      <td>MG</td>\n",
              "      <td>Coronel Murta</td>\n",
              "    </tr>\n",
              "    <tr>\n",
              "      <th>3841708</th>\n",
              "      <td>eb4b30c7-ea3b-4002-bf6b-9664fa56ee28-i0b0</td>\n",
              "      <td>c96be89dcdbdb1c24dca561b128206aa09b3e2d054c448...</td>\n",
              "      <td>83.0</td>\n",
              "      <td>1937-09-09</td>\n",
              "      <td>F</td>\n",
              "      <td>4.0</td>\n",
              "      <td>AMARELA</td>\n",
              "      <td>130260</td>\n",
              "      <td>10</td>\n",
              "      <td>MANAUS</td>\n",
              "      <td>BRASIL</td>\n",
              "      <td>AM</td>\n",
              "      <td>B</td>\n",
              "      <td>2015463</td>\n",
              "      <td>MANAUS SECRETARIA MUNICIPAL DE SAUDE</td>\n",
              "      <td>UBS LINDALVA DAMASCENO</td>\n",
              "      <td>130260.0</td>\n",
              "      <td>MANAUS</td>\n",
              "      <td>AM</td>\n",
              "      <td>205</td>\n",
              "      <td>Pessoas de 80 anos ou mais</td>\n",
              "      <td>2.0</td>\n",
              "      <td>Faixa Etária</td>\n",
              "      <td>University of Oxford/AstraZeneca</td>\n",
              "      <td>2021-02-25T00:00:00.000Z</td>\n",
              "      <td>1ª Dose</td>\n",
              "      <td>Vacina Covid-19 - Covishield</td>\n",
              "      <td>2021-02-27 03:59:14</td>\n",
              "      <td>2015463</td>\n",
              "      <td>130260</td>\n",
              "      <td>UBS LINDALVA DAMASCENO</td>\n",
              "      <td>CENTRO DE SAUDE/UNIDADE BASICA</td>\n",
              "      <td>M</td>\n",
              "      <td>AM</td>\n",
              "      <td>Manaus</td>\n",
              "    </tr>\n",
              "  </tbody>\n",
              "</table>\n",
              "<p>3841709 rows × 35 columns</p>\n",
              "</div>"
            ],
            "text/plain": [
              "                                       document_id  ...      municipio\n",
              "0        c6756cf9-0e0e-456b-86d2-94309b47e702-i0b0  ...       Itápolis\n",
              "1        85a346cd-aae6-47a6-8b89-1ce2c3dcacbb-i0b0  ...       Itápolis\n",
              "2        d250e4f3-6ff9-4f37-8f6d-cd5a9f3879cd-i0b0  ...       Itápolis\n",
              "3        92a49f7c-be44-4796-9e88-7527f5e355b2-i0b0  ...       Itápolis\n",
              "4        968dba04-edde-4371-9ceb-206ec2b6e2da-i0b0  ...       Itápolis\n",
              "...                                            ...  ...            ...\n",
              "3841704  2dfcc705-e827-478d-83a6-0f46005c0389-i0b0  ...   Nova Resende\n",
              "3841705  7180c4be-1f9b-462d-a458-56cae6156fdc-i0b0  ...   Itamarandiba\n",
              "3841706  0dd9723f-740d-4ed6-80aa-9cef3bd89473-i0b0  ...       Paracatu\n",
              "3841707  6da9166e-0e36-4457-a818-ded1b8e95129-i0b0  ...  Coronel Murta\n",
              "3841708  eb4b30c7-ea3b-4002-bf6b-9664fa56ee28-i0b0  ...         Manaus\n",
              "\n",
              "[3841709 rows x 35 columns]"
            ]
          },
          "metadata": {
            "tags": []
          },
          "execution_count": 32
        }
      ]
    },
    {
      "cell_type": "code",
      "metadata": {
        "id": "-QgFf-tHKY_7"
      },
      "source": [
        ""
      ],
      "execution_count": null,
      "outputs": []
    },
    {
      "cell_type": "markdown",
      "metadata": {
        "id": "beMtEOLCHQym"
      },
      "source": [
        "\r\n"
      ]
    }
  ]
}