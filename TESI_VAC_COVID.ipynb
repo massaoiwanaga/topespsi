{
  "nbformat": 4,
  "nbformat_minor": 0,
  "metadata": {
    "colab": {
      "name": "TESI_VAC_COVID.ipynb",
      "provenance": [],
      "collapsed_sections": [],
      "include_colab_link": true
    },
    "kernelspec": {
      "name": "python3",
      "display_name": "Python 3"
    }
  },
  "cells": [
    {
      "cell_type": "markdown",
      "metadata": {
        "id": "view-in-github",
        "colab_type": "text"
      },
      "source": [
        "<a href=\"https://colab.research.google.com/github/massaoiwanaga/topespsi/blob/main/TESI_VAC_COVID.ipynb\" target=\"_parent\"><img src=\"https://colab.research.google.com/assets/colab-badge.svg\" alt=\"Open In Colab\"/></a>"
      ]
    },
    {
      "cell_type": "markdown",
      "metadata": {
        "id": "GKM1QhWJkivj"
      },
      "source": [
        "# **Trabalho Disciplina Topicos Especiais em Sistemas de Informação I**\n",
        "\n",
        "---\n",
        "\n",
        "## **Saúde (COVID-19)**\n",
        "\n",
        "> Alessandra Pierro Saraiva\n",
        ">\n",
        "> Fabiane Monteiro Carvalho\n",
        ">\n",
        "> Massao Oliveira Iwanaga"
      ]
    },
    {
      "cell_type": "code",
      "metadata": {
        "id": "N_tgSRoh8jka"
      },
      "source": [
        "# Testado no ambiente Google Colab - 1.0.0\n",
        "# Python 3.7.10 \n",
        "#\n",
        "# Bibliotecas utilizadas:\n",
        "#  numpy 1.19.5\n",
        "#  pandas 1.1.5\n",
        "#  matplotlib 3.2.2\n",
        "#  pandas_profiling 1.4.1\n",
        "#  prov 2.0.0\n",
        "#  IPython 5.5.0"
      ],
      "execution_count": null,
      "outputs": []
    },
    {
      "cell_type": "markdown",
      "metadata": {
        "id": "V10aggEoikI0"
      },
      "source": [
        "## Importando a biblioteca pandas"
      ]
    },
    {
      "cell_type": "code",
      "metadata": {
        "id": "ga95m6B_idDm"
      },
      "source": [
        "# importando a biblioteca\n",
        "import pandas as pd # pandas\n",
        "import numpy as np  # numpy\n",
        "import matplotlib.pyplot as plt                # importar a biblioteca matplotlib\n",
        "import pandas_profiling"
      ],
      "execution_count": 3,
      "outputs": []
    },
    {
      "cell_type": "markdown",
      "metadata": {
        "id": "8ZAujZWhnc5H"
      },
      "source": [
        "## Instalação da biblioteca PROV"
      ]
    },
    {
      "cell_type": "code",
      "metadata": {
        "id": "mA2bEk1znqQr",
        "colab": {
          "base_uri": "https://localhost:8080/"
        },
        "outputId": "dd86de4c-8c49-4c59-b83d-dc13f1ec90ab"
      },
      "source": [
        "#Instalação da biblioteca PROV no ambiente COLAB\n",
        "#Essa biblioteca implementa em Python o Modelo de Dados PROV da W3C\n",
        "!pip install prov"
      ],
      "execution_count": null,
      "outputs": [
        {
          "output_type": "stream",
          "text": [
            "Collecting prov\n",
            "\u001b[?25l  Downloading https://files.pythonhosted.org/packages/cf/8d/9a5110845c6b117d203e3ca9eec5ee79bed29cef508c8415fbc85e900150/prov-2.0.0-py3-none-any.whl (421kB)\n",
            "\u001b[K     |████████████████████████████████| 430kB 18.2MB/s \n",
            "\u001b[?25hRequirement already satisfied: networkx>=2.0 in /usr/local/lib/python3.7/dist-packages (from prov) (2.5)\n",
            "Requirement already satisfied: python-dateutil>=2.2 in /usr/local/lib/python3.7/dist-packages (from prov) (2.8.1)\n",
            "Requirement already satisfied: lxml>=3.3.5 in /usr/local/lib/python3.7/dist-packages (from prov) (4.2.6)\n",
            "Collecting rdflib>=4.2.1\n",
            "\u001b[?25l  Downloading https://files.pythonhosted.org/packages/d0/6b/6454aa1db753c0f8bc265a5bd5c10b5721a4bb24160fb4faf758cf6be8a1/rdflib-5.0.0-py3-none-any.whl (231kB)\n",
            "\u001b[K     |████████████████████████████████| 235kB 41.4MB/s \n",
            "\u001b[?25hRequirement already satisfied: decorator>=4.3.0 in /usr/local/lib/python3.7/dist-packages (from networkx>=2.0->prov) (4.4.2)\n",
            "Requirement already satisfied: six>=1.5 in /usr/local/lib/python3.7/dist-packages (from python-dateutil>=2.2->prov) (1.15.0)\n",
            "Collecting isodate\n",
            "\u001b[?25l  Downloading https://files.pythonhosted.org/packages/9b/9f/b36f7774ff5ea8e428fdcfc4bb332c39ee5b9362ddd3d40d9516a55221b2/isodate-0.6.0-py2.py3-none-any.whl (45kB)\n",
            "\u001b[K     |████████████████████████████████| 51kB 6.3MB/s \n",
            "\u001b[?25hRequirement already satisfied: pyparsing in /usr/local/lib/python3.7/dist-packages (from rdflib>=4.2.1->prov) (2.4.7)\n",
            "Installing collected packages: isodate, rdflib, prov\n",
            "Successfully installed isodate-0.6.0 prov-2.0.0 rdflib-5.0.0\n"
          ],
          "name": "stdout"
        }
      ]
    },
    {
      "cell_type": "markdown",
      "metadata": {
        "id": "0ZxCO6OmkPHr"
      },
      "source": [
        "## Acessar dados do Google Drive"
      ]
    },
    {
      "cell_type": "code",
      "metadata": {
        "id": "jx_f5KoCiibo",
        "colab": {
          "base_uri": "https://localhost:8080/"
        },
        "outputId": "e87e2b83-abfe-4d7c-c975-b1302a0657a6"
      },
      "source": [
        "# Se você está executando o notebook no Google Colab, é necessário montar o drive para o ambiente virtual do Google Drive\n",
        "# Clicar no link que aparecerá e será gerada uma chave, que deverá ser colada no campo \"Autorization code\"\n",
        "\n",
        "from google.colab import drive\n",
        "\n",
        "drive.mount('/content/drive')"
      ],
      "execution_count": 5,
      "outputs": [
        {
          "output_type": "stream",
          "text": [
            "Mounted at /content/drive\n"
          ],
          "name": "stdout"
        }
      ]
    },
    {
      "cell_type": "markdown",
      "metadata": {
        "id": "Xvi7GpG_TyjO"
      },
      "source": [
        "## Informações de proveniência"
      ]
    },
    {
      "cell_type": "code",
      "metadata": {
        "id": "KayJZ9tcT5AE"
      },
      "source": [
        "# Working with PROV\n",
        "\n",
        "import sys, subprocess, datetime, random\n",
        "from prov.model import ProvDocument                                                 #PROV Library\n"
      ],
      "execution_count": null,
      "outputs": []
    },
    {
      "cell_type": "code",
      "metadata": {
        "id": "x7Z2qvhQU3RD",
        "colab": {
          "base_uri": "https://localhost:8080/"
        },
        "outputId": "98815579-3f7c-4777-d8da-1bf905abeff7"
      },
      "source": [
        "# Retrospective Provenance variables\n",
        "agent    = input(\"Enter the name of the AGENT WHO is running the program: \")        #PROV-Agent\n",
        "entity   = input(\"Enter the name of the ENTITY dataset1: \")                          #PROV-Entity\n",
        "activity = input(\"Enter the name of the ACTIVITY1: \")                                #PROV-Activity\n",
        "entity2   = input(\"Enter the name of the ENTITY dataset2: \")                          #PROV-Entity\n",
        "activity2 = input(\"Enter the name of the ACTIVITY2: \")                                #PROV-Activity\n",
        "activity3 = input(\"Enter the name of the ACTIVITY3: \")                                #PROV-Activity\n",
        "graph = entity                                                                       #PROV-Graph\n",
        "graph = entity2                                                                      #PROV-Graph"
      ],
      "execution_count": null,
      "outputs": [
        {
          "output_type": "stream",
          "text": [
            "Enter the name of the AGENT WHO is running the program: Alessandra-Fabiane-Massao\n",
            "Enter the name of the ENTITY dataset1: Vacinação\n",
            "Enter the name of the ACTIVITY1: Leitura\n",
            "Enter the name of the ENTITY dataset2: CNES\n",
            "Enter the name of the ACTIVITY2: Análise_e_Tratamento_de_Dados\n",
            "Enter the name of the ACTIVITY3: Visualização_dos_Dados\n"
          ],
          "name": "stdout"
        }
      ]
    },
    {
      "cell_type": "markdown",
      "metadata": {
        "id": "tym3hACXXAAx"
      },
      "source": [
        ""
      ]
    },
    {
      "cell_type": "code",
      "metadata": {
        "id": "U2SM39XCVw58"
      },
      "source": [
        "### BEGIN - Registering Retrospective Provenance -             #PROV-MODEL\n",
        "\n",
        "# Creating an empty provenance document\n",
        "d1 = ProvDocument()                                                 "
      ],
      "execution_count": null,
      "outputs": []
    },
    {
      "cell_type": "code",
      "metadata": {
        "id": "gCIMJVr8V1Op",
        "colab": {
          "base_uri": "https://localhost:8080/"
        },
        "outputId": "3a7e1d1b-418e-4105-dc30-9e9d7f17cca8"
      },
      "source": [
        "# Declaring namespaces for various prefixes used in the excution of the experiment\n",
        "d1.add_namespace('dados.gov.br', 'https://dados.gov.br/dataset/covid-19-vacinacao/')\n",
        "d1.add_namespace('foaf', 'http://xmlns.com/foaf/0.1/')\n",
        "d1.add_namespace('greco', 'http://www.ufrj.br/ppgi/greco/#')\n",
        "d1.add_namespace('dados.gov.br', 'https://dados.gov.br/dataset/cnes_ativo')\n",
        "\n",
        "# Adding entities\n",
        "entity = \"dados.gov.br:\"+ entity\n",
        "e1 = d1.entity(entity)\n",
        "\n",
        "entity2 = \"dados.gov.br:\"+ entity2\n",
        "e2 = d1.entity(entity2)\n",
        "\n",
        "# Adding an Agent \n",
        "agent = \"foaf:\"+ agent\n",
        "d1.agent(agent)\n",
        "\n",
        "# Attributing the execution of the experiment to the PROV-Agent\n",
        "d1.wasAttributedTo(e1, agent)\n",
        "d1.wasAttributedTo(e2, agent)\n",
        "\n",
        "# Adding activities\n",
        "activity = \"greco:\"+ activity\n",
        "d1.activity(activity)\n",
        "\n",
        "activity2 = \"greco:\"+ activity2\n",
        "d1.activity(activity2)\n",
        "\n",
        "activity3 = \"greco:\"+ activity3\n",
        "d1.activity(activity3)\n",
        "\n",
        "# Generation\n",
        "d1.wasGeneratedBy( entity, activity)\n",
        "d1.wasGeneratedBy( entity2, activity)\n",
        "d1.wasGeneratedBy( entity, activity2)\n",
        "d1.wasGeneratedBy( entity2, activity2)\n",
        "d1.wasGeneratedBy( entity, activity3)\n",
        "d1.wasGeneratedBy( entity2, activity3)"
      ],
      "execution_count": null,
      "outputs": [
        {
          "output_type": "execute_result",
          "data": {
            "text/plain": [
              "<ProvGeneration: (dados.gov.br:CNES, greco:Visualização_dos_Dados)>"
            ]
          },
          "metadata": {
            "tags": []
          },
          "execution_count": 16
        }
      ]
    },
    {
      "cell_type": "code",
      "metadata": {
        "id": "f3XY5l2jWM3F",
        "colab": {
          "base_uri": "https://localhost:8080/"
        },
        "outputId": "33beeca3-6a1e-4104-f068-716fad496a06"
      },
      "source": [
        "# Adding a role to the PROV-Agent and timestamp to dataset\n",
        "d1.agent(agent, {'prov:hadRole': 'Executor', 'foaf:mbox': 'massaoiwanaga@ufrj.br', 'prov:attributedAtTime': str(datetime.datetime.utcnow())})\n",
        "d1.entity(entity, {'prov:generatedAtTime': str(datetime.datetime.utcnow())})\n",
        "d1.entity(entity2, {'prov:generatedAtTime': str(datetime.datetime.utcnow())})\n",
        "\n",
        "### END - Registering Retrospective Provenance "
      ],
      "execution_count": null,
      "outputs": [
        {
          "output_type": "execute_result",
          "data": {
            "text/plain": [
              "<ProvEntity: dados.gov.br:CNES>"
            ]
          },
          "metadata": {
            "tags": []
          },
          "execution_count": 17
        }
      ]
    },
    {
      "cell_type": "code",
      "metadata": {
        "id": "QQmk81NJWX3y"
      },
      "source": [
        "### Optional outputs ####\n",
        "\n",
        "#Generating the outup - a  Provenance Graph\n",
        "from prov.dot import prov_to_dot\n",
        "dot = prov_to_dot(d1)\n",
        "graph = graph +\".png\"\n",
        "dot.write_png('/content/drive/My Drive/TESI_FCD/'+graph)"
      ],
      "execution_count": null,
      "outputs": []
    },
    {
      "cell_type": "code",
      "metadata": {
        "id": "B74xIlIyWdU2"
      },
      "source": [
        "#Generating the Serialization - Output XML\n",
        "d1.serialize(entity + \".xml\", format='xml') \n",
        "d1.serialize(entity2 + \".xml\", format='xml') \n",
        "\n",
        "#Generating the Serialization - Output Turtle\n",
        "d1.serialize(entity + \".ttl\", format='rdf', rdf_format='ttl') \n",
        "d1.serialize(entity2 + \".ttl\", format='rdf', rdf_format='ttl') "
      ],
      "execution_count": null,
      "outputs": []
    },
    {
      "cell_type": "code",
      "metadata": {
        "id": "0vrjsEa0WhoN",
        "colab": {
          "base_uri": "https://localhost:8080/"
        },
        "outputId": "d8914ce3-8bc0-47c3-e445-472ae49e0330"
      },
      "source": [
        "#Generating the outup of Provenance document\n",
        "print ('')\n",
        "print ('simple provenance doc')\n",
        "print(d1.get_provn())\n",
        "print ('')"
      ],
      "execution_count": null,
      "outputs": [
        {
          "output_type": "stream",
          "text": [
            "\n",
            "simple provenance doc\n",
            "document\n",
            "  prefix dados.gov.br <https://dados.gov.br/dataset/covid-19-vacinacao/>\n",
            "  prefix foaf <http://xmlns.com/foaf/0.1/>\n",
            "  prefix greco <http://www.ufrj.br/ppgi/greco/#>\n",
            "  prefix dados.gov.br_1 <https://dados.gov.br/dataset/cnes_ativo>\n",
            "  \n",
            "  entity(dados.gov.br:Vacinação)\n",
            "  entity(dados.gov.br:CNES)\n",
            "  agent(foaf:Alessandra-Fabiane-Massao)\n",
            "  wasAttributedTo(dados.gov.br:Vacinação, foaf:Alessandra-Fabiane-Massao)\n",
            "  wasAttributedTo(dados.gov.br:CNES, foaf:Alessandra-Fabiane-Massao)\n",
            "  activity(greco:Leitura, -, -)\n",
            "  activity(greco:Análise_e_Tratamento_de_Dados, -, -)\n",
            "  activity(greco:Visualização_dos_Dados, -, -)\n",
            "  wasGeneratedBy(dados.gov.br:Vacinação, greco:Leitura, -)\n",
            "  wasGeneratedBy(dados.gov.br:CNES, greco:Leitura, -)\n",
            "  wasGeneratedBy(dados.gov.br:Vacinação, greco:Análise_e_Tratamento_de_Dados, -)\n",
            "  wasGeneratedBy(dados.gov.br:CNES, greco:Análise_e_Tratamento_de_Dados, -)\n",
            "  wasGeneratedBy(dados.gov.br:Vacinação, greco:Visualização_dos_Dados, -)\n",
            "  wasGeneratedBy(dados.gov.br:CNES, greco:Visualização_dos_Dados, -)\n",
            "  agent(foaf:Alessandra-Fabiane-Massao, [prov:hadRole=\"Executor\", foaf:mbox=\"massaoiwanaga@ufrj.br\", prov:attributedAtTime=\"2021-03-29 00:19:10.766947\"])\n",
            "  entity(dados.gov.br:Vacinação, [prov:generatedAtTime=\"2021-03-29 00:19:10.767087\"])\n",
            "  entity(dados.gov.br:CNES, [prov:generatedAtTime=\"2021-03-29 00:19:10.767162\"])\n",
            "endDocument\n",
            "\n"
          ],
          "name": "stdout"
        }
      ]
    },
    {
      "cell_type": "code",
      "metadata": {
        "id": "c2mhS2FHWlUY",
        "colab": {
          "base_uri": "https://localhost:8080/"
        },
        "outputId": "cdd197ea-406b-4902-90ce-46e44870e138"
      },
      "source": [
        "#Generating the Serialization - Output JSON\n",
        "print ('')\n",
        "print ('simple provenance JSON')\n",
        "print(d1.serialize(indent=2))\n",
        "print('')"
      ],
      "execution_count": null,
      "outputs": [
        {
          "output_type": "stream",
          "text": [
            "\n",
            "simple provenance JSON\n",
            "{\n",
            "  \"prefix\": {\n",
            "    \"dados.gov.br\": \"https://dados.gov.br/dataset/covid-19-vacinacao/\",\n",
            "    \"foaf\": \"http://xmlns.com/foaf/0.1/\",\n",
            "    \"greco\": \"http://www.ufrj.br/ppgi/greco/#\",\n",
            "    \"dados.gov.br_1\": \"https://dados.gov.br/dataset/cnes_ativo\"\n",
            "  },\n",
            "  \"entity\": {\n",
            "    \"dados.gov.br:Vacina\\u00e7\\u00e3o\": [\n",
            "      {},\n",
            "      {\n",
            "        \"prov:generatedAtTime\": \"2021-03-29 00:19:10.767087\"\n",
            "      }\n",
            "    ],\n",
            "    \"dados.gov.br:CNES\": [\n",
            "      {},\n",
            "      {\n",
            "        \"prov:generatedAtTime\": \"2021-03-29 00:19:10.767162\"\n",
            "      }\n",
            "    ]\n",
            "  },\n",
            "  \"agent\": {\n",
            "    \"foaf:Alessandra-Fabiane-Massao\": [\n",
            "      {},\n",
            "      {\n",
            "        \"prov:hadRole\": \"Executor\",\n",
            "        \"foaf:mbox\": \"massaoiwanaga@ufrj.br\",\n",
            "        \"prov:attributedAtTime\": \"2021-03-29 00:19:10.766947\"\n",
            "      }\n",
            "    ]\n",
            "  },\n",
            "  \"wasAttributedTo\": {\n",
            "    \"_:id1\": {\n",
            "      \"prov:entity\": \"dados.gov.br:Vacina\\u00e7\\u00e3o\",\n",
            "      \"prov:agent\": \"foaf:Alessandra-Fabiane-Massao\"\n",
            "    },\n",
            "    \"_:id2\": {\n",
            "      \"prov:entity\": \"dados.gov.br:CNES\",\n",
            "      \"prov:agent\": \"foaf:Alessandra-Fabiane-Massao\"\n",
            "    }\n",
            "  },\n",
            "  \"activity\": {\n",
            "    \"greco:Leitura\": {},\n",
            "    \"greco:An\\u00e1lise_e_Tratamento_de_Dados\": {},\n",
            "    \"greco:Visualiza\\u00e7\\u00e3o_dos_Dados\": {}\n",
            "  },\n",
            "  \"wasGeneratedBy\": {\n",
            "    \"_:id3\": {\n",
            "      \"prov:entity\": \"dados.gov.br:Vacina\\u00e7\\u00e3o\",\n",
            "      \"prov:activity\": \"greco:Leitura\"\n",
            "    },\n",
            "    \"_:id4\": {\n",
            "      \"prov:entity\": \"dados.gov.br:CNES\",\n",
            "      \"prov:activity\": \"greco:Leitura\"\n",
            "    },\n",
            "    \"_:id5\": {\n",
            "      \"prov:entity\": \"dados.gov.br:Vacina\\u00e7\\u00e3o\",\n",
            "      \"prov:activity\": \"greco:An\\u00e1lise_e_Tratamento_de_Dados\"\n",
            "    },\n",
            "    \"_:id6\": {\n",
            "      \"prov:entity\": \"dados.gov.br:CNES\",\n",
            "      \"prov:activity\": \"greco:An\\u00e1lise_e_Tratamento_de_Dados\"\n",
            "    },\n",
            "    \"_:id7\": {\n",
            "      \"prov:entity\": \"dados.gov.br:Vacina\\u00e7\\u00e3o\",\n",
            "      \"prov:activity\": \"greco:Visualiza\\u00e7\\u00e3o_dos_Dados\"\n",
            "    },\n",
            "    \"_:id8\": {\n",
            "      \"prov:entity\": \"dados.gov.br:CNES\",\n",
            "      \"prov:activity\": \"greco:Visualiza\\u00e7\\u00e3o_dos_Dados\"\n",
            "    }\n",
            "  }\n",
            "}\n",
            "\n"
          ],
          "name": "stdout"
        }
      ]
    },
    {
      "cell_type": "code",
      "metadata": {
        "id": "Jzjk9fAuWpa8",
        "colab": {
          "base_uri": "https://localhost:8080/",
          "height": 301
        },
        "outputId": "7bdc0395-162d-47a4-9a02-da24b63daca9"
      },
      "source": [
        "# Adding Vizualization the provenance graph in the Jupyter notebook\n",
        "from IPython.display import Image\n",
        "Image('/content/drive/My Drive/TESI_FCD/'+graph)"
      ],
      "execution_count": null,
      "outputs": [
        {
          "output_type": "execute_result",
          "data": {
            "image/png": "[encoded data removed]",
            "text/plain": [
              "<IPython.core.display.Image object>"
            ]
          },
          "metadata": {
            "tags": []
          },
          "execution_count": 22
        }
      ]
    },
    {
      "cell_type": "markdown",
      "metadata": {
        "id": "jPH2RL_MuprD"
      },
      "source": [
        "## Variáveis gerais do trabalho proposto"
      ]
    },
    {
      "cell_type": "code",
      "metadata": {
        "id": "NlNc6CRoumWr"
      },
      "source": [
        "## Merge entre os dataFrames de Vacinação e CNES# UFs das regiões norte e sudeste, que serão analisadas no trabalho\n",
        "\n",
        "UFs = ['RJ', 'SP','MG', 'ES', 'AM', 'AC', 'AP', 'PA', 'RO', 'RR', 'TO']\n",
        "Norte = ['AM', 'AC', 'AP', 'PA', 'RO', 'RR', 'TO']\n",
        "Sudeste = ['RJ', 'SP','MG', 'ES']"
      ],
      "execution_count": 4,
      "outputs": []
    },
    {
      "cell_type": "markdown",
      "metadata": {
        "id": "FjgCAEu6jYo0"
      },
      "source": [
        "## Importação e tratamento do DataSet de Vacinação"
      ]
    },
    {
      "cell_type": "code",
      "metadata": {
        "id": "TQwJ_pn5jyO2"
      },
      "source": [
        "# Salve o dataset de vacinação no diretório TESI_FCD no Google Drive\n",
        "# Para tornar o notebook reutilizável, futuramente pode-se solicitar o diretório e o nome do dataset via prompt.\n",
        "\n",
        "df_vacinacao = pd.read_csv('/content/drive/My Drive/TESI_FCD/part-00000-090405dc-80c4-4889-84c3-a9a390d06947-c000.csv',delimiter=',')"
      ],
      "execution_count": 6,
      "outputs": []
    },
    {
      "cell_type": "markdown",
      "metadata": {
        "id": "FFjXn0Fxw7Xv"
      },
      "source": [
        "### Exploração inicial do DataSet de Vacinação"
      ]
    },
    {
      "cell_type": "code",
      "metadata": {
        "id": "w17aVTJRJEHg"
      },
      "source": [
        "# Código reprodutível - Teste unitário\n",
        "# assert len(df_vacinacao) == 7908949"
      ],
      "execution_count": null,
      "outputs": []
    },
    {
      "cell_type": "code",
      "metadata": {
        "id": "11SdiIamniZE",
        "colab": {
          "base_uri": "https://localhost:8080/"
        },
        "outputId": "2eba3c74-6d4d-426e-fbda-f44ba1c745fa"
      },
      "source": [
        "print('Total de registros:',len(df_vacinacao))    # Quantidade de registros do dataset\n",
        "print('')\n",
        "print(df_vacinacao.info())  # Informações sobre o dataset \n",
        "\n",
        "# Observe o total de linhas (7908949) e o total de colunas (33) do dataset"
      ],
      "execution_count": null,
      "outputs": [
        {
          "output_type": "stream",
          "text": [
            "Total de registros: 7908949\n",
            "\n",
            "<class 'pandas.core.frame.DataFrame'>\n",
            "RangeIndex: 7908949 entries, 0 to 7908948\n",
            "Data columns (total 33 columns):\n",
            " #   Column                                    Dtype  \n",
            "---  ------                                    -----  \n",
            " 0   document_id                               object \n",
            " 1   paciente_id                               object \n",
            " 2   paciente_idade                            float64\n",
            " 3   paciente_dataNascimento                   object \n",
            " 4   paciente_enumSexoBiologico                object \n",
            " 5   paciente_racaCor_codigo                   float64\n",
            " 6   paciente_racaCor_valor                    object \n",
            " 7   paciente_endereco_coIbgeMunicipio         float64\n",
            " 8   paciente_endereco_coPais                  float64\n",
            " 9   paciente_endereco_nmMunicipio             object \n",
            " 10  paciente_endereco_nmPais                  object \n",
            " 11  paciente_endereco_uf                      object \n",
            " 12  paciente_endereco_cep                     float64\n",
            " 13  paciente_nacionalidade_enumNacionalidade  object \n",
            " 14  estabelecimento_valor                     int64  \n",
            " 15  estabelecimento_razaoSocial               object \n",
            " 16  estalecimento_noFantasia                  object \n",
            " 17  estabelecimento_municipio_codigo          float64\n",
            " 18  estabelecimento_municipio_nome            object \n",
            " 19  estabelecimento_uf                        object \n",
            " 20  vacina_grupoAtendimento_codigo            int64  \n",
            " 21  vacina_grupoAtendimento_nome              object \n",
            " 22  vacina_categoria_codigo                   float64\n",
            " 23  vacina_categoria_nome                     object \n",
            " 24  vacina_lote                               object \n",
            " 25  vacina_fabricante_nome                    object \n",
            " 26  vacina_fabricante_referencia              object \n",
            " 27  vacina_dataAplicacao                      object \n",
            " 28  vacina_descricao_dose                     object \n",
            " 29  vacina_codigo                             int64  \n",
            " 30  vacina_nome                               object \n",
            " 31  sistema_origem                            object \n",
            " 32  data_importacao_rnds                      object \n",
            "dtypes: float64(7), int64(3), object(23)\n",
            "memory usage: 1.9+ GB\n",
            "None\n"
          ],
          "name": "stdout"
        }
      ]
    },
    {
      "cell_type": "code",
      "metadata": {
        "id": "3j9ZF5Zakzzi",
        "colab": {
          "base_uri": "https://localhost:8080/",
          "height": 552
        },
        "outputId": "a9a17448-7c57-4cab-dab9-3179fb448230"
      },
      "source": [
        "df_vacinacao.head(5)        # Visualização dos registros iniciais"
      ],
      "execution_count": null,
      "outputs": [
        {
          "output_type": "execute_result",
          "data": {
            "text/html": [
              "<div>\n",
              "<style scoped>\n",
              "    .dataframe tbody tr th:only-of-type {\n",
              "        vertical-align: middle;\n",
              "    }\n",
              "\n",
              "    .dataframe tbody tr th {\n",
              "        vertical-align: top;\n",
              "    }\n",
              "\n",
              "    .dataframe thead th {\n",
              "        text-align: right;\n",
              "    }\n",
              "</style>\n",
              "<table border=\"1\" class=\"dataframe\">\n",
              "  <thead>\n",
              "    <tr style=\"text-align: right;\">\n",
              "      <th></th>\n",
              "      <th>document_id</th>\n",
              "      <th>paciente_id</th>\n",
              "      <th>paciente_idade</th>\n",
              "      <th>paciente_dataNascimento</th>\n",
              "      <th>paciente_enumSexoBiologico</th>\n",
              "      <th>paciente_racaCor_codigo</th>\n",
              "      <th>paciente_racaCor_valor</th>\n",
              "      <th>paciente_endereco_coIbgeMunicipio</th>\n",
              "      <th>paciente_endereco_coPais</th>\n",
              "      <th>paciente_endereco_nmMunicipio</th>\n",
              "      <th>paciente_endereco_nmPais</th>\n",
              "      <th>paciente_endereco_uf</th>\n",
              "      <th>paciente_endereco_cep</th>\n",
              "      <th>paciente_nacionalidade_enumNacionalidade</th>\n",
              "      <th>estabelecimento_valor</th>\n",
              "      <th>estabelecimento_razaoSocial</th>\n",
              "      <th>estalecimento_noFantasia</th>\n",
              "      <th>estabelecimento_municipio_codigo</th>\n",
              "      <th>estabelecimento_municipio_nome</th>\n",
              "      <th>estabelecimento_uf</th>\n",
              "      <th>vacina_grupoAtendimento_codigo</th>\n",
              "      <th>vacina_grupoAtendimento_nome</th>\n",
              "      <th>vacina_categoria_codigo</th>\n",
              "      <th>vacina_categoria_nome</th>\n",
              "      <th>vacina_lote</th>\n",
              "      <th>vacina_fabricante_nome</th>\n",
              "      <th>vacina_fabricante_referencia</th>\n",
              "      <th>vacina_dataAplicacao</th>\n",
              "      <th>vacina_descricao_dose</th>\n",
              "      <th>vacina_codigo</th>\n",
              "      <th>vacina_nome</th>\n",
              "      <th>sistema_origem</th>\n",
              "      <th>data_importacao_rnds</th>\n",
              "    </tr>\n",
              "  </thead>\n",
              "  <tbody>\n",
              "    <tr>\n",
              "      <th>0</th>\n",
              "      <td>60aeb975-94ed-4113-a8b0-ac55dbb8ab41-i0b0</td>\n",
              "      <td>433768b2c569be2ff29976dea5cddd0eeb907de38c254e...</td>\n",
              "      <td>79.0</td>\n",
              "      <td>1942-01-28</td>\n",
              "      <td>F</td>\n",
              "      <td>1.0</td>\n",
              "      <td>BRANCA</td>\n",
              "      <td>432225.0</td>\n",
              "      <td>10.0</td>\n",
              "      <td>TUPANDI</td>\n",
              "      <td>BRASIL</td>\n",
              "      <td>RS</td>\n",
              "      <td>95775.0</td>\n",
              "      <td>B</td>\n",
              "      <td>2227428</td>\n",
              "      <td>PREFEITURA MUNICIPAL DE SAO SEBASTIAO DO CAI</td>\n",
              "      <td>CENTRO DE SAUDE DR BRUNO CASSEL</td>\n",
              "      <td>431950.0</td>\n",
              "      <td>SAO SEBASTIAO DO CAI</td>\n",
              "      <td>RS</td>\n",
              "      <td>301</td>\n",
              "      <td>Pessoas de 60 nos ou mais Institucionalizadas</td>\n",
              "      <td>3.0</td>\n",
              "      <td>Pessoas de 60 anos ou mais institucionalizadas</td>\n",
              "      <td>210018A</td>\n",
              "      <td>FUNDACAO BUTANTAN</td>\n",
              "      <td>Organization/61189445000156</td>\n",
              "      <td>2021-02-16T03:00:00.000Z</td>\n",
              "      <td>2ª Dose</td>\n",
              "      <td>86</td>\n",
              "      <td>Covid-19-Coronavac-Sinovac/Butantan</td>\n",
              "      <td>Novo PNI</td>\n",
              "      <td>2021-02-19 03:20:03</td>\n",
              "    </tr>\n",
              "    <tr>\n",
              "      <th>1</th>\n",
              "      <td>b68c468e-8083-4cca-8da1-ea9a8decbaba-i0b0</td>\n",
              "      <td>8499ef2ad9174cee4bd4dac8ae172a706775f4c835cb17...</td>\n",
              "      <td>90.0</td>\n",
              "      <td>1930-09-11</td>\n",
              "      <td>M</td>\n",
              "      <td>2.0</td>\n",
              "      <td>PRETA</td>\n",
              "      <td>430930.0</td>\n",
              "      <td>10.0</td>\n",
              "      <td>GUAIBA</td>\n",
              "      <td>BRASIL</td>\n",
              "      <td>RS</td>\n",
              "      <td>92500.0</td>\n",
              "      <td>B</td>\n",
              "      <td>2225999</td>\n",
              "      <td>PREFEITURA MUNICIPAL DE GUAIBA</td>\n",
              "      <td>UNIDADE BASICA DE SAUDE COHAB</td>\n",
              "      <td>430930.0</td>\n",
              "      <td>GUAIBA</td>\n",
              "      <td>RS</td>\n",
              "      <td>205</td>\n",
              "      <td>Pessoas de 80 anos ou mais</td>\n",
              "      <td>2.0</td>\n",
              "      <td>Faixa Etária</td>\n",
              "      <td>210018A</td>\n",
              "      <td>FUNDACAO BUTANTAN</td>\n",
              "      <td>Organization/61189445000156</td>\n",
              "      <td>2021-02-11T03:00:00.000Z</td>\n",
              "      <td>1ª Dose</td>\n",
              "      <td>86</td>\n",
              "      <td>Covid-19-Coronavac-Sinovac/Butantan</td>\n",
              "      <td>Novo PNI</td>\n",
              "      <td>2021-02-19 16:04:01</td>\n",
              "    </tr>\n",
              "    <tr>\n",
              "      <th>2</th>\n",
              "      <td>db74d38d-be6e-4b1a-82d0-e2797c3b55e7-i0b0</td>\n",
              "      <td>1c8b855733d6ea88081712bd74f95ca36bef67ac83b168...</td>\n",
              "      <td>91.0</td>\n",
              "      <td>1929-06-25</td>\n",
              "      <td>F</td>\n",
              "      <td>1.0</td>\n",
              "      <td>BRANCA</td>\n",
              "      <td>316900.0</td>\n",
              "      <td>10.0</td>\n",
              "      <td>TOCANTINS</td>\n",
              "      <td>BRASIL</td>\n",
              "      <td>MG</td>\n",
              "      <td>36512.0</td>\n",
              "      <td>B</td>\n",
              "      <td>2162776</td>\n",
              "      <td>PREFEITURA MUNICIPAL DE TOCANTINS</td>\n",
              "      <td>CENTRO INTEGRADO DE SAUDE DE TOCANTINS</td>\n",
              "      <td>316900.0</td>\n",
              "      <td>TOCANTINS</td>\n",
              "      <td>MG</td>\n",
              "      <td>205</td>\n",
              "      <td>Pessoas de 80 anos ou mais</td>\n",
              "      <td>2.0</td>\n",
              "      <td>Faixa Etária</td>\n",
              "      <td>202010031</td>\n",
              "      <td>FUNDACAO BUTANTAN</td>\n",
              "      <td>Organization/61189445000156</td>\n",
              "      <td>2021-02-12T03:00:00.000Z</td>\n",
              "      <td>1ª Dose</td>\n",
              "      <td>86</td>\n",
              "      <td>Covid-19-Coronavac-Sinovac/Butantan</td>\n",
              "      <td>Novo PNI</td>\n",
              "      <td>2021-02-15 19:32:10</td>\n",
              "    </tr>\n",
              "    <tr>\n",
              "      <th>3</th>\n",
              "      <td>2126698b-2d68-4559-afbd-2cfb665319d8-i0b0</td>\n",
              "      <td>b89cbe103ef31b4bbe4b101e56ad1c3f97a8772a9e440c...</td>\n",
              "      <td>81.0</td>\n",
              "      <td>1939-04-14</td>\n",
              "      <td>F</td>\n",
              "      <td>1.0</td>\n",
              "      <td>BRANCA</td>\n",
              "      <td>240800.0</td>\n",
              "      <td>10.0</td>\n",
              "      <td>MOSSORO</td>\n",
              "      <td>BRASIL</td>\n",
              "      <td>RN</td>\n",
              "      <td>59609.0</td>\n",
              "      <td>B</td>\n",
              "      <td>7172605</td>\n",
              "      <td>PREFEITURA MUNICIPAL DE MOSSORO</td>\n",
              "      <td>UBS DR FRANCISCO NAZARENO P GURGEL</td>\n",
              "      <td>240800.0</td>\n",
              "      <td>MOSSORO</td>\n",
              "      <td>RN</td>\n",
              "      <td>205</td>\n",
              "      <td>Pessoas de 80 anos ou mais</td>\n",
              "      <td>2.0</td>\n",
              "      <td>Faixa Etária</td>\n",
              "      <td>4120Z005</td>\n",
              "      <td>FUNDACAO OSWALDO CRUZ</td>\n",
              "      <td>NaN</td>\n",
              "      <td>2021-02-19T00:00:00.000Z</td>\n",
              "      <td>1ª Dose</td>\n",
              "      <td>85</td>\n",
              "      <td>Vacina Covid-19 - Covishield</td>\n",
              "      <td>RN + Vacina</td>\n",
              "      <td>2021-02-20 03:36:33</td>\n",
              "    </tr>\n",
              "    <tr>\n",
              "      <th>4</th>\n",
              "      <td>58479a85-603d-4167-898d-e638b4204cc3-i0b0</td>\n",
              "      <td>9a8ae778fc10f5382ce36f1ffb538be3e0df908dd64498...</td>\n",
              "      <td>27.0</td>\n",
              "      <td>1993-12-30</td>\n",
              "      <td>F</td>\n",
              "      <td>1.0</td>\n",
              "      <td>BRANCA</td>\n",
              "      <td>350850.0</td>\n",
              "      <td>10.0</td>\n",
              "      <td>CACAPAVA</td>\n",
              "      <td>BRASIL</td>\n",
              "      <td>SP</td>\n",
              "      <td>12290.0</td>\n",
              "      <td>B</td>\n",
              "      <td>6426247</td>\n",
              "      <td>UNIMED DE CACAPAVA COOPERATIVA DE TRABALHO MEDICO</td>\n",
              "      <td>HOSPITAL UNIMED DE CACAPAVA</td>\n",
              "      <td>350850.0</td>\n",
              "      <td>CACAPAVA</td>\n",
              "      <td>SP</td>\n",
              "      <td>926</td>\n",
              "      <td>Outros</td>\n",
              "      <td>9.0</td>\n",
              "      <td>Trabalhadores de Saúde</td>\n",
              "      <td>200278</td>\n",
              "      <td>Sinovac</td>\n",
              "      <td>NaN</td>\n",
              "      <td>2021-02-04T00:00:00.000Z</td>\n",
              "      <td>1ª Dose</td>\n",
              "      <td>86</td>\n",
              "      <td>Covid-19-Coronavac-Sinovac/Butantan</td>\n",
              "      <td>VACIVIDA</td>\n",
              "      <td>2021-02-04 06:02:43</td>\n",
              "    </tr>\n",
              "  </tbody>\n",
              "</table>\n",
              "</div>"
            ],
            "text/plain": [
              "                                 document_id  ... data_importacao_rnds\n",
              "0  60aeb975-94ed-4113-a8b0-ac55dbb8ab41-i0b0  ...  2021-02-19 03:20:03\n",
              "1  b68c468e-8083-4cca-8da1-ea9a8decbaba-i0b0  ...  2021-02-19 16:04:01\n",
              "2  db74d38d-be6e-4b1a-82d0-e2797c3b55e7-i0b0  ...  2021-02-15 19:32:10\n",
              "3  2126698b-2d68-4559-afbd-2cfb665319d8-i0b0  ...  2021-02-20 03:36:33\n",
              "4  58479a85-603d-4167-898d-e638b4204cc3-i0b0  ...  2021-02-04 06:02:43\n",
              "\n",
              "[5 rows x 33 columns]"
            ]
          },
          "metadata": {
            "tags": []
          },
          "execution_count": 49
        }
      ]
    },
    {
      "cell_type": "markdown",
      "metadata": {
        "id": "w_-afw8rnvR6"
      },
      "source": [
        "### Eliminação de colunas e linhas que não serão utilizadas - Dataset Vacinação"
      ]
    },
    {
      "cell_type": "code",
      "metadata": {
        "id": "HYKi6nd7vuXX"
      },
      "source": [
        "# Eliminação das colunas que não serão utilizadas nas análises\n",
        "\n",
        "df_vacinacao = df_vacinacao.drop(['paciente_endereco_cep','estabelecimento_razaoSocial','estalecimento_noFantasia','vacina_lote','vacina_fabricante_referencia',\n",
        "                                  'vacina_codigo','sistema_origem'],axis=1)"
      ],
      "execution_count": null,
      "outputs": []
    },
    {
      "cell_type": "code",
      "metadata": {
        "id": "ykG7R2TZt_I6"
      },
      "source": [
        "# Como o dataset possui dados de todo o Brasil, os estados que não pertencem às regiões selecionadas para análise serão eliminados do dataframe\n",
        "# Eliminando os estados que não são da região norte nem sudeste\n",
        "df_vacinacao = df_vacinacao.loc[(df_vacinacao['estabelecimento_uf'].isin(UFs))]"
      ],
      "execution_count": null,
      "outputs": []
    },
    {
      "cell_type": "code",
      "metadata": {
        "id": "rUSccCUejZG8",
        "colab": {
          "base_uri": "https://localhost:8080/"
        },
        "outputId": "b69e03c1-3e04-4018-9225-941787242b23"
      },
      "source": [
        "# Verificação de valores existentes para a coluna 'vacina_descricao_dose'\n",
        "\n",
        "df_vacinacao['vacina_descricao_dose'].value_counts()"
      ],
      "execution_count": null,
      "outputs": [
        {
          "output_type": "execute_result",
          "data": {
            "text/plain": [
              "    1ª Dose    3529642\n",
              "    2ª Dose    1006498\n",
              "    Dose            29\n",
              "Name: vacina_descricao_dose, dtype: int64"
            ]
          },
          "metadata": {
            "tags": []
          },
          "execution_count": 9
        }
      ]
    },
    {
      "cell_type": "code",
      "metadata": {
        "id": "GXnjeBPukA0j"
      },
      "source": [
        "# Para o trabalho, só interessam as pessoas que tomaram a primeira dose da vacina, portanto, serão eliminados do dataframe as linhas que não\n",
        "# se referem à primeira dose da vacinação\n",
        "\n",
        "df_vacinacao = df_vacinacao.loc[(df_vacinacao['vacina_descricao_dose'].str.strip().str[0] =='1')]"
      ],
      "execution_count": null,
      "outputs": []
    },
    {
      "cell_type": "code",
      "metadata": {
        "id": "vTalUQSzJdeW"
      },
      "source": [
        "# Código reprodutível\n",
        "# assert len(df_vacinacao) == 3529642"
      ],
      "execution_count": null,
      "outputs": []
    },
    {
      "cell_type": "code",
      "metadata": {
        "id": "0Ukr7QVPxCHQ",
        "colab": {
          "base_uri": "https://localhost:8080/"
        },
        "outputId": "eccbaa4b-6d5f-48b5-abb8-3c55c0941cc6"
      },
      "source": [
        "print('Total de registros:',len(df_vacinacao))    # Quantidade de registros do dataset após eliminação de linhas\n",
        "\n",
        "print('')\n",
        "print(df_vacinacao.info())                        # Informações sobre o dataset\n",
        "\n",
        "## É possível observar a redução do número total de linhas (3529642) e do número total de colunas (26) do dataset"
      ],
      "execution_count": null,
      "outputs": [
        {
          "output_type": "stream",
          "text": [
            "Total de registros: 3529642\n",
            "\n",
            "<class 'pandas.core.frame.DataFrame'>\n",
            "Int64Index: 3529642 entries, 2 to 7908948\n",
            "Data columns (total 26 columns):\n",
            " #   Column                                    Dtype  \n",
            "---  ------                                    -----  \n",
            " 0   document_id                               object \n",
            " 1   paciente_id                               object \n",
            " 2   paciente_idade                            float64\n",
            " 3   paciente_dataNascimento                   object \n",
            " 4   paciente_enumSexoBiologico                object \n",
            " 5   paciente_racaCor_codigo                   float64\n",
            " 6   paciente_racaCor_valor                    object \n",
            " 7   paciente_endereco_coIbgeMunicipio         float64\n",
            " 8   paciente_endereco_coPais                  float64\n",
            " 9   paciente_endereco_nmMunicipio             object \n",
            " 10  paciente_endereco_nmPais                  object \n",
            " 11  paciente_endereco_uf                      object \n",
            " 12  paciente_nacionalidade_enumNacionalidade  object \n",
            " 13  estabelecimento_valor                     int64  \n",
            " 14  estabelecimento_municipio_codigo          float64\n",
            " 15  estabelecimento_municipio_nome            object \n",
            " 16  estabelecimento_uf                        object \n",
            " 17  vacina_grupoAtendimento_codigo            int64  \n",
            " 18  vacina_grupoAtendimento_nome              object \n",
            " 19  vacina_categoria_codigo                   float64\n",
            " 20  vacina_categoria_nome                     object \n",
            " 21  vacina_fabricante_nome                    object \n",
            " 22  vacina_dataAplicacao                      object \n",
            " 23  vacina_descricao_dose                     object \n",
            " 24  vacina_nome                               object \n",
            " 25  data_importacao_rnds                      object \n",
            "dtypes: float64(6), int64(2), object(18)\n",
            "memory usage: 727.1+ MB\n",
            "None\n"
          ],
          "name": "stdout"
        }
      ]
    },
    {
      "cell_type": "markdown",
      "metadata": {
        "id": "6DpU2V2QpWUv"
      },
      "source": [
        "### Identificação e tratamento de valores duplicados"
      ]
    },
    {
      "cell_type": "markdown",
      "metadata": {
        "id": "FHxoo4kEbYoS"
      },
      "source": [
        "#### Identificando valores duplicados e entendimento de suas características"
      ]
    },
    {
      "cell_type": "code",
      "metadata": {
        "id": "zqTPlEbSAJlc"
      },
      "source": [
        "#Lista todos os registros em que o \"paciente_id\" apareça mais de 2 vezes\n",
        "duplicados_mais2 = df_vacinacao[df_vacinacao['paciente_id'].isin(df_vacinacao['paciente_id'].value_counts()[df_vacinacao['paciente_id'].value_counts()>2].index)].sort_values(by=[\"paciente_id\"])\n",
        "\n",
        "#df_vacinacao.duplicated(subset=['document_id'])\n",
        "#Lista todos os registros em que o \"paciente_id\" apareça 2 ou mais vezes\n",
        "duplicados = df_vacinacao[df_vacinacao.duplicated(subset=['paciente_id'], keep=False)].sort_values(by=[\"paciente_id\"])"
      ],
      "execution_count": null,
      "outputs": []
    },
    {
      "cell_type": "code",
      "metadata": {
        "id": "w7o2j9Vsu2J8",
        "colab": {
          "base_uri": "https://localhost:8080/"
        },
        "outputId": "95a5144b-98e0-474e-cc93-298413b27481"
      },
      "source": [
        "# Lista os estabelecimentos duplicados por estado de vacinação\n",
        "\n",
        "#Pode-se observar que todos os estados possuem casos de duplicação de registros de vacinação para uma mesma pessoa\n",
        "duplicados['estabelecimento_uf'].value_counts()"
      ],
      "execution_count": null,
      "outputs": [
        {
          "output_type": "execute_result",
          "data": {
            "text/plain": [
              "SP    48717\n",
              "RJ     8676\n",
              "MG     3280\n",
              "AM     1008\n",
              "PA      776\n",
              "ES      355\n",
              "AP      314\n",
              "TO      258\n",
              "AC      106\n",
              "RR       53\n",
              "RO       18\n",
              "Name: estabelecimento_uf, dtype: int64"
            ]
          },
          "metadata": {
            "tags": []
          },
          "execution_count": 12
        }
      ]
    },
    {
      "cell_type": "code",
      "metadata": {
        "id": "i92hUcPPpc4W",
        "colab": {
          "base_uri": "https://localhost:8080/",
          "height": 951
        },
        "outputId": "da0d3dcc-52f8-4bb7-9fbd-0b15e113f2f5"
      },
      "source": [
        "# Quantos são os que tem mais de dois registros duplicados e listagem dos primeiros casos\n",
        "print(len(duplicados_mais2))\n",
        "duplicados_mais2.head(10)"
      ],
      "execution_count": null,
      "outputs": [
        {
          "output_type": "stream",
          "text": [
            "129\n"
          ],
          "name": "stdout"
        },
        {
          "output_type": "execute_result",
          "data": {
            "text/html": [
              "<div>\n",
              "<style scoped>\n",
              "    .dataframe tbody tr th:only-of-type {\n",
              "        vertical-align: middle;\n",
              "    }\n",
              "\n",
              "    .dataframe tbody tr th {\n",
              "        vertical-align: top;\n",
              "    }\n",
              "\n",
              "    .dataframe thead th {\n",
              "        text-align: right;\n",
              "    }\n",
              "</style>\n",
              "<table border=\"1\" class=\"dataframe\">\n",
              "  <thead>\n",
              "    <tr style=\"text-align: right;\">\n",
              "      <th></th>\n",
              "      <th>document_id</th>\n",
              "      <th>paciente_id</th>\n",
              "      <th>paciente_idade</th>\n",
              "      <th>paciente_dataNascimento</th>\n",
              "      <th>paciente_enumSexoBiologico</th>\n",
              "      <th>paciente_racaCor_codigo</th>\n",
              "      <th>paciente_racaCor_valor</th>\n",
              "      <th>paciente_endereco_coIbgeMunicipio</th>\n",
              "      <th>paciente_endereco_coPais</th>\n",
              "      <th>paciente_endereco_nmMunicipio</th>\n",
              "      <th>paciente_endereco_nmPais</th>\n",
              "      <th>paciente_endereco_uf</th>\n",
              "      <th>paciente_nacionalidade_enumNacionalidade</th>\n",
              "      <th>estabelecimento_valor</th>\n",
              "      <th>estabelecimento_municipio_codigo</th>\n",
              "      <th>estabelecimento_municipio_nome</th>\n",
              "      <th>estabelecimento_uf</th>\n",
              "      <th>vacina_grupoAtendimento_codigo</th>\n",
              "      <th>vacina_grupoAtendimento_nome</th>\n",
              "      <th>vacina_categoria_codigo</th>\n",
              "      <th>vacina_categoria_nome</th>\n",
              "      <th>vacina_fabricante_nome</th>\n",
              "      <th>vacina_dataAplicacao</th>\n",
              "      <th>vacina_descricao_dose</th>\n",
              "      <th>vacina_nome</th>\n",
              "      <th>data_importacao_rnds</th>\n",
              "    </tr>\n",
              "  </thead>\n",
              "  <tbody>\n",
              "    <tr>\n",
              "      <th>4828100</th>\n",
              "      <td>56834bab-f0c1-486b-b309-db6076eb4b3b-i0b0</td>\n",
              "      <td>0c3390b4d0b9a535cb22799c2618053106a61deff30b85...</td>\n",
              "      <td>71.0</td>\n",
              "      <td>1949-06-14</td>\n",
              "      <td>M</td>\n",
              "      <td>99.0</td>\n",
              "      <td>SEM INFORMACAO</td>\n",
              "      <td>313130.0</td>\n",
              "      <td>10.0</td>\n",
              "      <td>IPATINGA</td>\n",
              "      <td>BRASIL</td>\n",
              "      <td>MG</td>\n",
              "      <td>B</td>\n",
              "      <td>2205440</td>\n",
              "      <td>313130.0</td>\n",
              "      <td>IPATINGA</td>\n",
              "      <td>MG</td>\n",
              "      <td>912</td>\n",
              "      <td>Médico</td>\n",
              "      <td>9.0</td>\n",
              "      <td>Trabalhadores de Saúde</td>\n",
              "      <td>FUNDACAO BUTANTAN</td>\n",
              "      <td>2021-02-23T03:00:00.000Z</td>\n",
              "      <td>1ª Dose</td>\n",
              "      <td>Covid-19-Coronavac-Sinovac/Butantan</td>\n",
              "      <td>2021-02-26 18:23:18</td>\n",
              "    </tr>\n",
              "    <tr>\n",
              "      <th>3670249</th>\n",
              "      <td>4e09a541-fa26-4daa-8983-2ab84668a1e2-i0b0</td>\n",
              "      <td>0c3390b4d0b9a535cb22799c2618053106a61deff30b85...</td>\n",
              "      <td>71.0</td>\n",
              "      <td>1949-06-14</td>\n",
              "      <td>M</td>\n",
              "      <td>99.0</td>\n",
              "      <td>SEM INFORMACAO</td>\n",
              "      <td>313130.0</td>\n",
              "      <td>10.0</td>\n",
              "      <td>IPATINGA</td>\n",
              "      <td>BRASIL</td>\n",
              "      <td>MG</td>\n",
              "      <td>B</td>\n",
              "      <td>2205440</td>\n",
              "      <td>313130.0</td>\n",
              "      <td>IPATINGA</td>\n",
              "      <td>MG</td>\n",
              "      <td>912</td>\n",
              "      <td>Médico</td>\n",
              "      <td>9.0</td>\n",
              "      <td>Trabalhadores de Saúde</td>\n",
              "      <td>FUNDACAO OSWALDO CRUZ</td>\n",
              "      <td>2021-02-23T03:00:00.000Z</td>\n",
              "      <td>1ª Dose</td>\n",
              "      <td>Vacina Covid-19 - Covishield</td>\n",
              "      <td>2021-02-26 19:18:09</td>\n",
              "    </tr>\n",
              "    <tr>\n",
              "      <th>356327</th>\n",
              "      <td>ae5f43ff-7839-4851-b3f2-2183cb62d729-i0b0</td>\n",
              "      <td>0c3390b4d0b9a535cb22799c2618053106a61deff30b85...</td>\n",
              "      <td>71.0</td>\n",
              "      <td>1949-06-14</td>\n",
              "      <td>M</td>\n",
              "      <td>99.0</td>\n",
              "      <td>SEM INFORMACAO</td>\n",
              "      <td>313130.0</td>\n",
              "      <td>10.0</td>\n",
              "      <td>IPATINGA</td>\n",
              "      <td>BRASIL</td>\n",
              "      <td>MG</td>\n",
              "      <td>B</td>\n",
              "      <td>2205440</td>\n",
              "      <td>313130.0</td>\n",
              "      <td>IPATINGA</td>\n",
              "      <td>MG</td>\n",
              "      <td>912</td>\n",
              "      <td>Médico</td>\n",
              "      <td>9.0</td>\n",
              "      <td>Trabalhadores de Saúde</td>\n",
              "      <td>FUNDACAO OSWALDO CRUZ</td>\n",
              "      <td>2021-02-23T03:00:00.000Z</td>\n",
              "      <td>1ª Dose</td>\n",
              "      <td>Vacina Covid-19 - Covishield</td>\n",
              "      <td>2021-02-24 21:45:21</td>\n",
              "    </tr>\n",
              "    <tr>\n",
              "      <th>4773242</th>\n",
              "      <td>7f53f141-1d9c-4bcd-8d24-504b67d4ea50-i0b0</td>\n",
              "      <td>0fc334df6e1b34ea25366709ab808fd731e4f9f1c02347...</td>\n",
              "      <td>33.0</td>\n",
              "      <td>1987-08-15</td>\n",
              "      <td>M</td>\n",
              "      <td>99.0</td>\n",
              "      <td>SEM INFORMACAO</td>\n",
              "      <td>313130.0</td>\n",
              "      <td>10.0</td>\n",
              "      <td>IPATINGA</td>\n",
              "      <td>BRASIL</td>\n",
              "      <td>MG</td>\n",
              "      <td>B</td>\n",
              "      <td>2205440</td>\n",
              "      <td>313130.0</td>\n",
              "      <td>IPATINGA</td>\n",
              "      <td>MG</td>\n",
              "      <td>912</td>\n",
              "      <td>Médico</td>\n",
              "      <td>9.0</td>\n",
              "      <td>Trabalhadores de Saúde</td>\n",
              "      <td>FUNDACAO BUTANTAN</td>\n",
              "      <td>2021-02-22T03:00:00.000Z</td>\n",
              "      <td>1ª Dose</td>\n",
              "      <td>Covid-19-Coronavac-Sinovac/Butantan</td>\n",
              "      <td>2021-02-26 18:35:10</td>\n",
              "    </tr>\n",
              "    <tr>\n",
              "      <th>1842150</th>\n",
              "      <td>11e92ee3-af7c-46c1-9096-e25235864e32-i0b0</td>\n",
              "      <td>0fc334df6e1b34ea25366709ab808fd731e4f9f1c02347...</td>\n",
              "      <td>33.0</td>\n",
              "      <td>1987-08-15</td>\n",
              "      <td>M</td>\n",
              "      <td>99.0</td>\n",
              "      <td>SEM INFORMACAO</td>\n",
              "      <td>313130.0</td>\n",
              "      <td>10.0</td>\n",
              "      <td>IPATINGA</td>\n",
              "      <td>BRASIL</td>\n",
              "      <td>MG</td>\n",
              "      <td>B</td>\n",
              "      <td>2205440</td>\n",
              "      <td>313130.0</td>\n",
              "      <td>IPATINGA</td>\n",
              "      <td>MG</td>\n",
              "      <td>912</td>\n",
              "      <td>Médico</td>\n",
              "      <td>9.0</td>\n",
              "      <td>Trabalhadores de Saúde</td>\n",
              "      <td>FUNDACAO OSWALDO CRUZ</td>\n",
              "      <td>2021-02-22T03:00:00.000Z</td>\n",
              "      <td>1ª Dose</td>\n",
              "      <td>Vacina Covid-19 - Covishield</td>\n",
              "      <td>2021-02-24 21:17:26</td>\n",
              "    </tr>\n",
              "    <tr>\n",
              "      <th>6830377</th>\n",
              "      <td>7d66212c-9a74-4ebe-ba99-4be3e2a79a43-i0b0</td>\n",
              "      <td>0fc334df6e1b34ea25366709ab808fd731e4f9f1c02347...</td>\n",
              "      <td>33.0</td>\n",
              "      <td>1987-08-15</td>\n",
              "      <td>M</td>\n",
              "      <td>99.0</td>\n",
              "      <td>SEM INFORMACAO</td>\n",
              "      <td>313130.0</td>\n",
              "      <td>10.0</td>\n",
              "      <td>IPATINGA</td>\n",
              "      <td>BRASIL</td>\n",
              "      <td>MG</td>\n",
              "      <td>B</td>\n",
              "      <td>2205440</td>\n",
              "      <td>313130.0</td>\n",
              "      <td>IPATINGA</td>\n",
              "      <td>MG</td>\n",
              "      <td>912</td>\n",
              "      <td>Médico</td>\n",
              "      <td>9.0</td>\n",
              "      <td>Trabalhadores de Saúde</td>\n",
              "      <td>FUNDACAO OSWALDO CRUZ</td>\n",
              "      <td>2021-02-22T03:00:00.000Z</td>\n",
              "      <td>1ª Dose</td>\n",
              "      <td>Vacina Covid-19 - Covishield</td>\n",
              "      <td>2021-02-26 19:20:49</td>\n",
              "    </tr>\n",
              "    <tr>\n",
              "      <th>4952193</th>\n",
              "      <td>099ddc6f-f845-472a-9f5d-d31cdf6a3545-i0b0</td>\n",
              "      <td>14a64e6664224570bf41963ca5de7bf3a9190cfa6bc507...</td>\n",
              "      <td>91.0</td>\n",
              "      <td>1929-10-24</td>\n",
              "      <td>F</td>\n",
              "      <td>3.0</td>\n",
              "      <td>PARDA</td>\n",
              "      <td>314610.0</td>\n",
              "      <td>10.0</td>\n",
              "      <td>OURO PRETO</td>\n",
              "      <td>BRASIL</td>\n",
              "      <td>MG</td>\n",
              "      <td>B</td>\n",
              "      <td>2213737</td>\n",
              "      <td>314610.0</td>\n",
              "      <td>OURO PRETO</td>\n",
              "      <td>MG</td>\n",
              "      <td>205</td>\n",
              "      <td>Pessoas de 80 anos ou mais</td>\n",
              "      <td>2.0</td>\n",
              "      <td>Faixa Etária</td>\n",
              "      <td>SERUM INSTITUTE OF INDIA LTD</td>\n",
              "      <td>2021-02-18T00:00:00.000Z</td>\n",
              "      <td>1ª Dose</td>\n",
              "      <td>Covid-19-Coronavac-Sinovac/Butantan</td>\n",
              "      <td>2021-02-20 01:50:43</td>\n",
              "    </tr>\n",
              "    <tr>\n",
              "      <th>7816317</th>\n",
              "      <td>3761145f-9f01-414a-803f-adec2e8dd0c4-i0b0</td>\n",
              "      <td>14a64e6664224570bf41963ca5de7bf3a9190cfa6bc507...</td>\n",
              "      <td>91.0</td>\n",
              "      <td>1929-10-24</td>\n",
              "      <td>F</td>\n",
              "      <td>3.0</td>\n",
              "      <td>PARDA</td>\n",
              "      <td>314610.0</td>\n",
              "      <td>10.0</td>\n",
              "      <td>OURO PRETO</td>\n",
              "      <td>BRASIL</td>\n",
              "      <td>MG</td>\n",
              "      <td>B</td>\n",
              "      <td>2213737</td>\n",
              "      <td>314610.0</td>\n",
              "      <td>OURO PRETO</td>\n",
              "      <td>MG</td>\n",
              "      <td>205</td>\n",
              "      <td>Pessoas de 80 anos ou mais</td>\n",
              "      <td>2.0</td>\n",
              "      <td>Faixa Etária</td>\n",
              "      <td>SERUM INSTITUTE OF INDIA LTD</td>\n",
              "      <td>2021-02-18T00:00:00.000Z</td>\n",
              "      <td>1ª Dose</td>\n",
              "      <td>Covid-19-Coronavac-Sinovac/Butantan</td>\n",
              "      <td>2021-03-02 20:34:49</td>\n",
              "    </tr>\n",
              "    <tr>\n",
              "      <th>3602192</th>\n",
              "      <td>344704ba-0ed3-4cfe-b4f7-0f112cef3a8f-i0b0</td>\n",
              "      <td>14a64e6664224570bf41963ca5de7bf3a9190cfa6bc507...</td>\n",
              "      <td>91.0</td>\n",
              "      <td>1929-10-24</td>\n",
              "      <td>F</td>\n",
              "      <td>3.0</td>\n",
              "      <td>PARDA</td>\n",
              "      <td>314610.0</td>\n",
              "      <td>10.0</td>\n",
              "      <td>OURO PRETO</td>\n",
              "      <td>BRASIL</td>\n",
              "      <td>MG</td>\n",
              "      <td>B</td>\n",
              "      <td>2163438</td>\n",
              "      <td>314610.0</td>\n",
              "      <td>OURO PRETO</td>\n",
              "      <td>MG</td>\n",
              "      <td>205</td>\n",
              "      <td>Pessoas de 80 anos ou mais</td>\n",
              "      <td>2.0</td>\n",
              "      <td>Faixa Etária</td>\n",
              "      <td>FUNDACAO BUTANTAN</td>\n",
              "      <td>2021-02-18T03:00:00.000Z</td>\n",
              "      <td>1ª Dose</td>\n",
              "      <td>Covid-19-Coronavac-Sinovac/Butantan</td>\n",
              "      <td>2021-02-25 13:38:14</td>\n",
              "    </tr>\n",
              "    <tr>\n",
              "      <th>290660</th>\n",
              "      <td>5ad1dcd0-5094-45f0-8b52-db07c9d12e41-i0b0</td>\n",
              "      <td>1c4c428b27e9a765319f65ded55e7c17124eec57ee0e9e...</td>\n",
              "      <td>44.0</td>\n",
              "      <td>1976-02-26</td>\n",
              "      <td>M</td>\n",
              "      <td>4.0</td>\n",
              "      <td>AMARELA</td>\n",
              "      <td>150060.0</td>\n",
              "      <td>10.0</td>\n",
              "      <td>ALTAMIRA</td>\n",
              "      <td>BRASIL</td>\n",
              "      <td>PA</td>\n",
              "      <td>B</td>\n",
              "      <td>2330385</td>\n",
              "      <td>150060.0</td>\n",
              "      <td>ALTAMIRA</td>\n",
              "      <td>PA</td>\n",
              "      <td>926</td>\n",
              "      <td>Outros</td>\n",
              "      <td>9.0</td>\n",
              "      <td>Trabalhadores de Saúde</td>\n",
              "      <td>FUNDACAO OSWALDO CRUZ</td>\n",
              "      <td>2021-02-18T03:00:00.000Z</td>\n",
              "      <td>1ª Dose</td>\n",
              "      <td>Vacina Covid-19 - Covishield</td>\n",
              "      <td>2021-02-25 12:23:09</td>\n",
              "    </tr>\n",
              "  </tbody>\n",
              "</table>\n",
              "</div>"
            ],
            "text/plain": [
              "                                       document_id  ... data_importacao_rnds\n",
              "4828100  56834bab-f0c1-486b-b309-db6076eb4b3b-i0b0  ...  2021-02-26 18:23:18\n",
              "3670249  4e09a541-fa26-4daa-8983-2ab84668a1e2-i0b0  ...  2021-02-26 19:18:09\n",
              "356327   ae5f43ff-7839-4851-b3f2-2183cb62d729-i0b0  ...  2021-02-24 21:45:21\n",
              "4773242  7f53f141-1d9c-4bcd-8d24-504b67d4ea50-i0b0  ...  2021-02-26 18:35:10\n",
              "1842150  11e92ee3-af7c-46c1-9096-e25235864e32-i0b0  ...  2021-02-24 21:17:26\n",
              "6830377  7d66212c-9a74-4ebe-ba99-4be3e2a79a43-i0b0  ...  2021-02-26 19:20:49\n",
              "4952193  099ddc6f-f845-472a-9f5d-d31cdf6a3545-i0b0  ...  2021-02-20 01:50:43\n",
              "7816317  3761145f-9f01-414a-803f-adec2e8dd0c4-i0b0  ...  2021-03-02 20:34:49\n",
              "3602192  344704ba-0ed3-4cfe-b4f7-0f112cef3a8f-i0b0  ...  2021-02-25 13:38:14\n",
              "290660   5ad1dcd0-5094-45f0-8b52-db07c9d12e41-i0b0  ...  2021-02-25 12:23:09\n",
              "\n",
              "[10 rows x 26 columns]"
            ]
          },
          "metadata": {
            "tags": []
          },
          "execution_count": 13
        }
      ]
    },
    {
      "cell_type": "markdown",
      "metadata": {
        "id": "pJdIVO3GblZO"
      },
      "source": [
        "#### Tratamento de linhas duplicadas"
      ]
    },
    {
      "cell_type": "code",
      "metadata": {
        "id": "_FB7Zs_Vbu1d"
      },
      "source": [
        "# Existe mais de um registro de vacinação da primeira dose para um mesmo paciente\n",
        "# Será mantido o registro com data de aplicação da vacina mais antiga\n",
        "\n",
        "# O parâmetro inplace=True indica que o dataframe ficará doravante ordenado por \"paciente_id\", \"vacina_dataAplicacao\"\n",
        "df_vacinacao.sort_values(by=[\"paciente_id\", \"vacina_dataAplicacao\"], inplace=True)"
      ],
      "execution_count": null,
      "outputs": []
    },
    {
      "cell_type": "code",
      "metadata": {
        "id": "PSWlpHnKq9lq",
        "colab": {
          "base_uri": "https://localhost:8080/"
        },
        "outputId": "5109e36e-c39c-4ad6-c10c-0a3fdb4aba80"
      },
      "source": [
        "# Verifica quantos registros contém o campo 'paciente_id' em duplicidade\n",
        "# Não considera a primeira ocorrência como duplicada\n",
        "\n",
        "df_vacinacao.duplicated(subset=['paciente_id']).value_counts()"
      ],
      "execution_count": null,
      "outputs": [
        {
          "output_type": "execute_result",
          "data": {
            "text/plain": [
              "False    3497840\n",
              "True       31802\n",
              "dtype: int64"
            ]
          },
          "metadata": {
            "tags": []
          },
          "execution_count": 14
        }
      ]
    },
    {
      "cell_type": "code",
      "metadata": {
        "id": "Jv6IUaC_WoJq",
        "colab": {
          "base_uri": "https://localhost:8080/"
        },
        "outputId": "328f84b6-3894-465c-eebc-b6f58e341038"
      },
      "source": [
        "# Mantém a primeira ocorrência e elimina as demais linhas de mesmo paciente_id\n",
        "# O parâmetro inplace=True persiste o resultado da operação ao dataframe \"df_vacinacao\"\n",
        "df_vacinacao.drop_duplicates(subset=['paciente_id'], keep='first', inplace=True)\n",
        "\n",
        "# O resultado esperado do comando abaixo é a ausência de valores \"True\", já que todos serão \"False\" (não duplicados)\n",
        "df_vacinacao.duplicated(subset=['paciente_id']).value_counts()"
      ],
      "execution_count": null,
      "outputs": [
        {
          "output_type": "execute_result",
          "data": {
            "text/plain": [
              "False    3497840\n",
              "dtype: int64"
            ]
          },
          "metadata": {
            "tags": []
          },
          "execution_count": 15
        }
      ]
    },
    {
      "cell_type": "code",
      "metadata": {
        "id": "3Db1lzh1u9gw"
      },
      "source": [
        "#df_vacinacao.info()"
      ],
      "execution_count": null,
      "outputs": []
    },
    {
      "cell_type": "markdown",
      "metadata": {
        "id": "EqB5lF3-G5eY"
      },
      "source": [
        "#### Testes de verificação da exclusão de duplicados"
      ]
    },
    {
      "cell_type": "code",
      "metadata": {
        "id": "ZZBQNo-gto2k",
        "colab": {
          "base_uri": "https://localhost:8080/",
          "height": 555
        },
        "outputId": "70efe0dc-e9fb-4480-f6f0-b8bc85bdca24"
      },
      "source": [
        "# Essa seção poderá ser excluída ao final do trabalho\n",
        "# Teste de verificação de duplicados pelo índice \n",
        "df_vacinacao.loc[2749677]"
      ],
      "execution_count": null,
      "outputs": [
        {
          "output_type": "error",
          "ename": "KeyError",
          "evalue": "ignored",
          "traceback": [
            "\u001b[0;31m---------------------------------------------------------------------------\u001b[0m",
            "\u001b[0;31mKeyError\u001b[0m                                  Traceback (most recent call last)",
            "\u001b[0;32m/usr/local/lib/python3.7/dist-packages/pandas/core/indexes/base.py\u001b[0m in \u001b[0;36mget_loc\u001b[0;34m(self, key, method, tolerance)\u001b[0m\n\u001b[1;32m   2897\u001b[0m             \u001b[0;32mtry\u001b[0m\u001b[0;34m:\u001b[0m\u001b[0;34m\u001b[0m\u001b[0;34m\u001b[0m\u001b[0m\n\u001b[0;32m-> 2898\u001b[0;31m                 \u001b[0;32mreturn\u001b[0m \u001b[0mself\u001b[0m\u001b[0;34m.\u001b[0m\u001b[0m_engine\u001b[0m\u001b[0;34m.\u001b[0m\u001b[0mget_loc\u001b[0m\u001b[0;34m(\u001b[0m\u001b[0mcasted_key\u001b[0m\u001b[0;34m)\u001b[0m\u001b[0;34m\u001b[0m\u001b[0;34m\u001b[0m\u001b[0m\n\u001b[0m\u001b[1;32m   2899\u001b[0m             \u001b[0;32mexcept\u001b[0m \u001b[0mKeyError\u001b[0m \u001b[0;32mas\u001b[0m \u001b[0merr\u001b[0m\u001b[0;34m:\u001b[0m\u001b[0;34m\u001b[0m\u001b[0;34m\u001b[0m\u001b[0m\n",
            "\u001b[0;32mpandas/_libs/index.pyx\u001b[0m in \u001b[0;36mpandas._libs.index.IndexEngine.get_loc\u001b[0;34m()\u001b[0m\n",
            "\u001b[0;32mpandas/_libs/index.pyx\u001b[0m in \u001b[0;36mpandas._libs.index.IndexEngine.get_loc\u001b[0;34m()\u001b[0m\n",
            "\u001b[0;32mpandas/_libs/hashtable_class_helper.pxi\u001b[0m in \u001b[0;36mpandas._libs.hashtable.Int64HashTable.get_item\u001b[0;34m()\u001b[0m\n",
            "\u001b[0;32mpandas/_libs/hashtable_class_helper.pxi\u001b[0m in \u001b[0;36mpandas._libs.hashtable.Int64HashTable.get_item\u001b[0;34m()\u001b[0m\n",
            "\u001b[0;31mKeyError\u001b[0m: 2749677",
            "\nThe above exception was the direct cause of the following exception:\n",
            "\u001b[0;31mKeyError\u001b[0m                                  Traceback (most recent call last)",
            "\u001b[0;32m<ipython-input-42-4c06ac7e147e>\u001b[0m in \u001b[0;36m<module>\u001b[0;34m()\u001b[0m\n\u001b[1;32m      1\u001b[0m \u001b[0;31m# Essa seção poderá ser excluída ao final do trabalho\u001b[0m\u001b[0;34m\u001b[0m\u001b[0;34m\u001b[0m\u001b[0;34m\u001b[0m\u001b[0m\n\u001b[1;32m      2\u001b[0m \u001b[0;31m# Teste de verificação de duplicados pelo índice\u001b[0m\u001b[0;34m\u001b[0m\u001b[0;34m\u001b[0m\u001b[0;34m\u001b[0m\u001b[0m\n\u001b[0;32m----> 3\u001b[0;31m \u001b[0mdf_vacinacao\u001b[0m\u001b[0;34m.\u001b[0m\u001b[0mloc\u001b[0m\u001b[0;34m[\u001b[0m\u001b[0;36m2749677\u001b[0m\u001b[0;34m]\u001b[0m\u001b[0;34m\u001b[0m\u001b[0;34m\u001b[0m\u001b[0m\n\u001b[0m",
            "\u001b[0;32m/usr/local/lib/python3.7/dist-packages/pandas/core/indexing.py\u001b[0m in \u001b[0;36m__getitem__\u001b[0;34m(self, key)\u001b[0m\n\u001b[1;32m    877\u001b[0m \u001b[0;34m\u001b[0m\u001b[0m\n\u001b[1;32m    878\u001b[0m             \u001b[0mmaybe_callable\u001b[0m \u001b[0;34m=\u001b[0m \u001b[0mcom\u001b[0m\u001b[0;34m.\u001b[0m\u001b[0mapply_if_callable\u001b[0m\u001b[0;34m(\u001b[0m\u001b[0mkey\u001b[0m\u001b[0;34m,\u001b[0m \u001b[0mself\u001b[0m\u001b[0;34m.\u001b[0m\u001b[0mobj\u001b[0m\u001b[0;34m)\u001b[0m\u001b[0;34m\u001b[0m\u001b[0;34m\u001b[0m\u001b[0m\n\u001b[0;32m--> 879\u001b[0;31m             \u001b[0;32mreturn\u001b[0m \u001b[0mself\u001b[0m\u001b[0;34m.\u001b[0m\u001b[0m_getitem_axis\u001b[0m\u001b[0;34m(\u001b[0m\u001b[0mmaybe_callable\u001b[0m\u001b[0;34m,\u001b[0m \u001b[0maxis\u001b[0m\u001b[0;34m=\u001b[0m\u001b[0maxis\u001b[0m\u001b[0;34m)\u001b[0m\u001b[0;34m\u001b[0m\u001b[0;34m\u001b[0m\u001b[0m\n\u001b[0m\u001b[1;32m    880\u001b[0m \u001b[0;34m\u001b[0m\u001b[0m\n\u001b[1;32m    881\u001b[0m     \u001b[0;32mdef\u001b[0m \u001b[0m_is_scalar_access\u001b[0m\u001b[0;34m(\u001b[0m\u001b[0mself\u001b[0m\u001b[0;34m,\u001b[0m \u001b[0mkey\u001b[0m\u001b[0;34m:\u001b[0m \u001b[0mTuple\u001b[0m\u001b[0;34m)\u001b[0m\u001b[0;34m:\u001b[0m\u001b[0;34m\u001b[0m\u001b[0;34m\u001b[0m\u001b[0m\n",
            "\u001b[0;32m/usr/local/lib/python3.7/dist-packages/pandas/core/indexing.py\u001b[0m in \u001b[0;36m_getitem_axis\u001b[0;34m(self, key, axis)\u001b[0m\n\u001b[1;32m   1108\u001b[0m         \u001b[0;31m# fall thru to straight lookup\u001b[0m\u001b[0;34m\u001b[0m\u001b[0;34m\u001b[0m\u001b[0;34m\u001b[0m\u001b[0m\n\u001b[1;32m   1109\u001b[0m         \u001b[0mself\u001b[0m\u001b[0;34m.\u001b[0m\u001b[0m_validate_key\u001b[0m\u001b[0;34m(\u001b[0m\u001b[0mkey\u001b[0m\u001b[0;34m,\u001b[0m \u001b[0maxis\u001b[0m\u001b[0;34m)\u001b[0m\u001b[0;34m\u001b[0m\u001b[0;34m\u001b[0m\u001b[0m\n\u001b[0;32m-> 1110\u001b[0;31m         \u001b[0;32mreturn\u001b[0m \u001b[0mself\u001b[0m\u001b[0;34m.\u001b[0m\u001b[0m_get_label\u001b[0m\u001b[0;34m(\u001b[0m\u001b[0mkey\u001b[0m\u001b[0;34m,\u001b[0m \u001b[0maxis\u001b[0m\u001b[0;34m=\u001b[0m\u001b[0maxis\u001b[0m\u001b[0;34m)\u001b[0m\u001b[0;34m\u001b[0m\u001b[0;34m\u001b[0m\u001b[0m\n\u001b[0m\u001b[1;32m   1111\u001b[0m \u001b[0;34m\u001b[0m\u001b[0m\n\u001b[1;32m   1112\u001b[0m     \u001b[0;32mdef\u001b[0m \u001b[0m_get_slice_axis\u001b[0m\u001b[0;34m(\u001b[0m\u001b[0mself\u001b[0m\u001b[0;34m,\u001b[0m \u001b[0mslice_obj\u001b[0m\u001b[0;34m:\u001b[0m \u001b[0mslice\u001b[0m\u001b[0;34m,\u001b[0m \u001b[0maxis\u001b[0m\u001b[0;34m:\u001b[0m \u001b[0mint\u001b[0m\u001b[0;34m)\u001b[0m\u001b[0;34m:\u001b[0m\u001b[0;34m\u001b[0m\u001b[0;34m\u001b[0m\u001b[0m\n",
            "\u001b[0;32m/usr/local/lib/python3.7/dist-packages/pandas/core/indexing.py\u001b[0m in \u001b[0;36m_get_label\u001b[0;34m(self, label, axis)\u001b[0m\n\u001b[1;32m   1057\u001b[0m     \u001b[0;32mdef\u001b[0m \u001b[0m_get_label\u001b[0m\u001b[0;34m(\u001b[0m\u001b[0mself\u001b[0m\u001b[0;34m,\u001b[0m \u001b[0mlabel\u001b[0m\u001b[0;34m,\u001b[0m \u001b[0maxis\u001b[0m\u001b[0;34m:\u001b[0m \u001b[0mint\u001b[0m\u001b[0;34m)\u001b[0m\u001b[0;34m:\u001b[0m\u001b[0;34m\u001b[0m\u001b[0;34m\u001b[0m\u001b[0m\n\u001b[1;32m   1058\u001b[0m         \u001b[0;31m# GH#5667 this will fail if the label is not present in the axis.\u001b[0m\u001b[0;34m\u001b[0m\u001b[0;34m\u001b[0m\u001b[0;34m\u001b[0m\u001b[0m\n\u001b[0;32m-> 1059\u001b[0;31m         \u001b[0;32mreturn\u001b[0m \u001b[0mself\u001b[0m\u001b[0;34m.\u001b[0m\u001b[0mobj\u001b[0m\u001b[0;34m.\u001b[0m\u001b[0mxs\u001b[0m\u001b[0;34m(\u001b[0m\u001b[0mlabel\u001b[0m\u001b[0;34m,\u001b[0m \u001b[0maxis\u001b[0m\u001b[0;34m=\u001b[0m\u001b[0maxis\u001b[0m\u001b[0;34m)\u001b[0m\u001b[0;34m\u001b[0m\u001b[0;34m\u001b[0m\u001b[0m\n\u001b[0m\u001b[1;32m   1060\u001b[0m \u001b[0;34m\u001b[0m\u001b[0m\n\u001b[1;32m   1061\u001b[0m     \u001b[0;32mdef\u001b[0m \u001b[0m_handle_lowerdim_multi_index_axis0\u001b[0m\u001b[0;34m(\u001b[0m\u001b[0mself\u001b[0m\u001b[0;34m,\u001b[0m \u001b[0mtup\u001b[0m\u001b[0;34m:\u001b[0m \u001b[0mTuple\u001b[0m\u001b[0;34m)\u001b[0m\u001b[0;34m:\u001b[0m\u001b[0;34m\u001b[0m\u001b[0;34m\u001b[0m\u001b[0m\n",
            "\u001b[0;32m/usr/local/lib/python3.7/dist-packages/pandas/core/generic.py\u001b[0m in \u001b[0;36mxs\u001b[0;34m(self, key, axis, level, drop_level)\u001b[0m\n\u001b[1;32m   3491\u001b[0m             \u001b[0mloc\u001b[0m\u001b[0;34m,\u001b[0m \u001b[0mnew_index\u001b[0m \u001b[0;34m=\u001b[0m \u001b[0mself\u001b[0m\u001b[0;34m.\u001b[0m\u001b[0mindex\u001b[0m\u001b[0;34m.\u001b[0m\u001b[0mget_loc_level\u001b[0m\u001b[0;34m(\u001b[0m\u001b[0mkey\u001b[0m\u001b[0;34m,\u001b[0m \u001b[0mdrop_level\u001b[0m\u001b[0;34m=\u001b[0m\u001b[0mdrop_level\u001b[0m\u001b[0;34m)\u001b[0m\u001b[0;34m\u001b[0m\u001b[0;34m\u001b[0m\u001b[0m\n\u001b[1;32m   3492\u001b[0m         \u001b[0;32melse\u001b[0m\u001b[0;34m:\u001b[0m\u001b[0;34m\u001b[0m\u001b[0;34m\u001b[0m\u001b[0m\n\u001b[0;32m-> 3493\u001b[0;31m             \u001b[0mloc\u001b[0m \u001b[0;34m=\u001b[0m \u001b[0mself\u001b[0m\u001b[0;34m.\u001b[0m\u001b[0mindex\u001b[0m\u001b[0;34m.\u001b[0m\u001b[0mget_loc\u001b[0m\u001b[0;34m(\u001b[0m\u001b[0mkey\u001b[0m\u001b[0;34m)\u001b[0m\u001b[0;34m\u001b[0m\u001b[0;34m\u001b[0m\u001b[0m\n\u001b[0m\u001b[1;32m   3494\u001b[0m \u001b[0;34m\u001b[0m\u001b[0m\n\u001b[1;32m   3495\u001b[0m             \u001b[0;32mif\u001b[0m \u001b[0misinstance\u001b[0m\u001b[0;34m(\u001b[0m\u001b[0mloc\u001b[0m\u001b[0;34m,\u001b[0m \u001b[0mnp\u001b[0m\u001b[0;34m.\u001b[0m\u001b[0mndarray\u001b[0m\u001b[0;34m)\u001b[0m\u001b[0;34m:\u001b[0m\u001b[0;34m\u001b[0m\u001b[0;34m\u001b[0m\u001b[0m\n",
            "\u001b[0;32m/usr/local/lib/python3.7/dist-packages/pandas/core/indexes/base.py\u001b[0m in \u001b[0;36mget_loc\u001b[0;34m(self, key, method, tolerance)\u001b[0m\n\u001b[1;32m   2898\u001b[0m                 \u001b[0;32mreturn\u001b[0m \u001b[0mself\u001b[0m\u001b[0;34m.\u001b[0m\u001b[0m_engine\u001b[0m\u001b[0;34m.\u001b[0m\u001b[0mget_loc\u001b[0m\u001b[0;34m(\u001b[0m\u001b[0mcasted_key\u001b[0m\u001b[0;34m)\u001b[0m\u001b[0;34m\u001b[0m\u001b[0;34m\u001b[0m\u001b[0m\n\u001b[1;32m   2899\u001b[0m             \u001b[0;32mexcept\u001b[0m \u001b[0mKeyError\u001b[0m \u001b[0;32mas\u001b[0m \u001b[0merr\u001b[0m\u001b[0;34m:\u001b[0m\u001b[0;34m\u001b[0m\u001b[0;34m\u001b[0m\u001b[0m\n\u001b[0;32m-> 2900\u001b[0;31m                 \u001b[0;32mraise\u001b[0m \u001b[0mKeyError\u001b[0m\u001b[0;34m(\u001b[0m\u001b[0mkey\u001b[0m\u001b[0;34m)\u001b[0m \u001b[0;32mfrom\u001b[0m \u001b[0merr\u001b[0m\u001b[0;34m\u001b[0m\u001b[0;34m\u001b[0m\u001b[0m\n\u001b[0m\u001b[1;32m   2901\u001b[0m \u001b[0;34m\u001b[0m\u001b[0m\n\u001b[1;32m   2902\u001b[0m         \u001b[0;32mif\u001b[0m \u001b[0mtolerance\u001b[0m \u001b[0;32mis\u001b[0m \u001b[0;32mnot\u001b[0m \u001b[0;32mNone\u001b[0m\u001b[0;34m:\u001b[0m\u001b[0;34m\u001b[0m\u001b[0;34m\u001b[0m\u001b[0m\n",
            "\u001b[0;31mKeyError\u001b[0m: 2749677"
          ]
        }
      ]
    },
    {
      "cell_type": "code",
      "metadata": {
        "id": "HWI4qqKTpNpi",
        "colab": {
          "base_uri": "https://localhost:8080/",
          "height": 555
        },
        "outputId": "d496a2b2-97da-46a2-add2-54194a2bbac3"
      },
      "source": [
        "# Teste de verificação de duplicados pelo índice \n",
        "df_vacinacao.loc[900118]"
      ],
      "execution_count": null,
      "outputs": [
        {
          "output_type": "error",
          "ename": "KeyError",
          "evalue": "ignored",
          "traceback": [
            "\u001b[0;31m---------------------------------------------------------------------------\u001b[0m",
            "\u001b[0;31mKeyError\u001b[0m                                  Traceback (most recent call last)",
            "\u001b[0;32m/usr/local/lib/python3.7/dist-packages/pandas/core/indexes/base.py\u001b[0m in \u001b[0;36mget_loc\u001b[0;34m(self, key, method, tolerance)\u001b[0m\n\u001b[1;32m   2897\u001b[0m             \u001b[0;32mtry\u001b[0m\u001b[0;34m:\u001b[0m\u001b[0;34m\u001b[0m\u001b[0;34m\u001b[0m\u001b[0m\n\u001b[0;32m-> 2898\u001b[0;31m                 \u001b[0;32mreturn\u001b[0m \u001b[0mself\u001b[0m\u001b[0;34m.\u001b[0m\u001b[0m_engine\u001b[0m\u001b[0;34m.\u001b[0m\u001b[0mget_loc\u001b[0m\u001b[0;34m(\u001b[0m\u001b[0mcasted_key\u001b[0m\u001b[0;34m)\u001b[0m\u001b[0;34m\u001b[0m\u001b[0;34m\u001b[0m\u001b[0m\n\u001b[0m\u001b[1;32m   2899\u001b[0m             \u001b[0;32mexcept\u001b[0m \u001b[0mKeyError\u001b[0m \u001b[0;32mas\u001b[0m \u001b[0merr\u001b[0m\u001b[0;34m:\u001b[0m\u001b[0;34m\u001b[0m\u001b[0;34m\u001b[0m\u001b[0m\n",
            "\u001b[0;32mpandas/_libs/index.pyx\u001b[0m in \u001b[0;36mpandas._libs.index.IndexEngine.get_loc\u001b[0;34m()\u001b[0m\n",
            "\u001b[0;32mpandas/_libs/index.pyx\u001b[0m in \u001b[0;36mpandas._libs.index.IndexEngine.get_loc\u001b[0;34m()\u001b[0m\n",
            "\u001b[0;32mpandas/_libs/hashtable_class_helper.pxi\u001b[0m in \u001b[0;36mpandas._libs.hashtable.Int64HashTable.get_item\u001b[0;34m()\u001b[0m\n",
            "\u001b[0;32mpandas/_libs/hashtable_class_helper.pxi\u001b[0m in \u001b[0;36mpandas._libs.hashtable.Int64HashTable.get_item\u001b[0;34m()\u001b[0m\n",
            "\u001b[0;31mKeyError\u001b[0m: 900118",
            "\nThe above exception was the direct cause of the following exception:\n",
            "\u001b[0;31mKeyError\u001b[0m                                  Traceback (most recent call last)",
            "\u001b[0;32m<ipython-input-43-855780a6cbf8>\u001b[0m in \u001b[0;36m<module>\u001b[0;34m()\u001b[0m\n\u001b[1;32m      1\u001b[0m \u001b[0;31m# Teste de verificação de duplicados pelo índice\u001b[0m\u001b[0;34m\u001b[0m\u001b[0;34m\u001b[0m\u001b[0;34m\u001b[0m\u001b[0m\n\u001b[0;32m----> 2\u001b[0;31m \u001b[0mdf_vacinacao\u001b[0m\u001b[0;34m.\u001b[0m\u001b[0mloc\u001b[0m\u001b[0;34m[\u001b[0m\u001b[0;36m900118\u001b[0m\u001b[0;34m]\u001b[0m\u001b[0;34m\u001b[0m\u001b[0;34m\u001b[0m\u001b[0m\n\u001b[0m",
            "\u001b[0;32m/usr/local/lib/python3.7/dist-packages/pandas/core/indexing.py\u001b[0m in \u001b[0;36m__getitem__\u001b[0;34m(self, key)\u001b[0m\n\u001b[1;32m    877\u001b[0m \u001b[0;34m\u001b[0m\u001b[0m\n\u001b[1;32m    878\u001b[0m             \u001b[0mmaybe_callable\u001b[0m \u001b[0;34m=\u001b[0m \u001b[0mcom\u001b[0m\u001b[0;34m.\u001b[0m\u001b[0mapply_if_callable\u001b[0m\u001b[0;34m(\u001b[0m\u001b[0mkey\u001b[0m\u001b[0;34m,\u001b[0m \u001b[0mself\u001b[0m\u001b[0;34m.\u001b[0m\u001b[0mobj\u001b[0m\u001b[0;34m)\u001b[0m\u001b[0;34m\u001b[0m\u001b[0;34m\u001b[0m\u001b[0m\n\u001b[0;32m--> 879\u001b[0;31m             \u001b[0;32mreturn\u001b[0m \u001b[0mself\u001b[0m\u001b[0;34m.\u001b[0m\u001b[0m_getitem_axis\u001b[0m\u001b[0;34m(\u001b[0m\u001b[0mmaybe_callable\u001b[0m\u001b[0;34m,\u001b[0m \u001b[0maxis\u001b[0m\u001b[0;34m=\u001b[0m\u001b[0maxis\u001b[0m\u001b[0;34m)\u001b[0m\u001b[0;34m\u001b[0m\u001b[0;34m\u001b[0m\u001b[0m\n\u001b[0m\u001b[1;32m    880\u001b[0m \u001b[0;34m\u001b[0m\u001b[0m\n\u001b[1;32m    881\u001b[0m     \u001b[0;32mdef\u001b[0m \u001b[0m_is_scalar_access\u001b[0m\u001b[0;34m(\u001b[0m\u001b[0mself\u001b[0m\u001b[0;34m,\u001b[0m \u001b[0mkey\u001b[0m\u001b[0;34m:\u001b[0m \u001b[0mTuple\u001b[0m\u001b[0;34m)\u001b[0m\u001b[0;34m:\u001b[0m\u001b[0;34m\u001b[0m\u001b[0;34m\u001b[0m\u001b[0m\n",
            "\u001b[0;32m/usr/local/lib/python3.7/dist-packages/pandas/core/indexing.py\u001b[0m in \u001b[0;36m_getitem_axis\u001b[0;34m(self, key, axis)\u001b[0m\n\u001b[1;32m   1108\u001b[0m         \u001b[0;31m# fall thru to straight lookup\u001b[0m\u001b[0;34m\u001b[0m\u001b[0;34m\u001b[0m\u001b[0;34m\u001b[0m\u001b[0m\n\u001b[1;32m   1109\u001b[0m         \u001b[0mself\u001b[0m\u001b[0;34m.\u001b[0m\u001b[0m_validate_key\u001b[0m\u001b[0;34m(\u001b[0m\u001b[0mkey\u001b[0m\u001b[0;34m,\u001b[0m \u001b[0maxis\u001b[0m\u001b[0;34m)\u001b[0m\u001b[0;34m\u001b[0m\u001b[0;34m\u001b[0m\u001b[0m\n\u001b[0;32m-> 1110\u001b[0;31m         \u001b[0;32mreturn\u001b[0m \u001b[0mself\u001b[0m\u001b[0;34m.\u001b[0m\u001b[0m_get_label\u001b[0m\u001b[0;34m(\u001b[0m\u001b[0mkey\u001b[0m\u001b[0;34m,\u001b[0m \u001b[0maxis\u001b[0m\u001b[0;34m=\u001b[0m\u001b[0maxis\u001b[0m\u001b[0;34m)\u001b[0m\u001b[0;34m\u001b[0m\u001b[0;34m\u001b[0m\u001b[0m\n\u001b[0m\u001b[1;32m   1111\u001b[0m \u001b[0;34m\u001b[0m\u001b[0m\n\u001b[1;32m   1112\u001b[0m     \u001b[0;32mdef\u001b[0m \u001b[0m_get_slice_axis\u001b[0m\u001b[0;34m(\u001b[0m\u001b[0mself\u001b[0m\u001b[0;34m,\u001b[0m \u001b[0mslice_obj\u001b[0m\u001b[0;34m:\u001b[0m \u001b[0mslice\u001b[0m\u001b[0;34m,\u001b[0m \u001b[0maxis\u001b[0m\u001b[0;34m:\u001b[0m \u001b[0mint\u001b[0m\u001b[0;34m)\u001b[0m\u001b[0;34m:\u001b[0m\u001b[0;34m\u001b[0m\u001b[0;34m\u001b[0m\u001b[0m\n",
            "\u001b[0;32m/usr/local/lib/python3.7/dist-packages/pandas/core/indexing.py\u001b[0m in \u001b[0;36m_get_label\u001b[0;34m(self, label, axis)\u001b[0m\n\u001b[1;32m   1057\u001b[0m     \u001b[0;32mdef\u001b[0m \u001b[0m_get_label\u001b[0m\u001b[0;34m(\u001b[0m\u001b[0mself\u001b[0m\u001b[0;34m,\u001b[0m \u001b[0mlabel\u001b[0m\u001b[0;34m,\u001b[0m \u001b[0maxis\u001b[0m\u001b[0;34m:\u001b[0m \u001b[0mint\u001b[0m\u001b[0;34m)\u001b[0m\u001b[0;34m:\u001b[0m\u001b[0;34m\u001b[0m\u001b[0;34m\u001b[0m\u001b[0m\n\u001b[1;32m   1058\u001b[0m         \u001b[0;31m# GH#5667 this will fail if the label is not present in the axis.\u001b[0m\u001b[0;34m\u001b[0m\u001b[0;34m\u001b[0m\u001b[0;34m\u001b[0m\u001b[0m\n\u001b[0;32m-> 1059\u001b[0;31m         \u001b[0;32mreturn\u001b[0m \u001b[0mself\u001b[0m\u001b[0;34m.\u001b[0m\u001b[0mobj\u001b[0m\u001b[0;34m.\u001b[0m\u001b[0mxs\u001b[0m\u001b[0;34m(\u001b[0m\u001b[0mlabel\u001b[0m\u001b[0;34m,\u001b[0m \u001b[0maxis\u001b[0m\u001b[0;34m=\u001b[0m\u001b[0maxis\u001b[0m\u001b[0;34m)\u001b[0m\u001b[0;34m\u001b[0m\u001b[0;34m\u001b[0m\u001b[0m\n\u001b[0m\u001b[1;32m   1060\u001b[0m \u001b[0;34m\u001b[0m\u001b[0m\n\u001b[1;32m   1061\u001b[0m     \u001b[0;32mdef\u001b[0m \u001b[0m_handle_lowerdim_multi_index_axis0\u001b[0m\u001b[0;34m(\u001b[0m\u001b[0mself\u001b[0m\u001b[0;34m,\u001b[0m \u001b[0mtup\u001b[0m\u001b[0;34m:\u001b[0m \u001b[0mTuple\u001b[0m\u001b[0;34m)\u001b[0m\u001b[0;34m:\u001b[0m\u001b[0;34m\u001b[0m\u001b[0;34m\u001b[0m\u001b[0m\n",
            "\u001b[0;32m/usr/local/lib/python3.7/dist-packages/pandas/core/generic.py\u001b[0m in \u001b[0;36mxs\u001b[0;34m(self, key, axis, level, drop_level)\u001b[0m\n\u001b[1;32m   3491\u001b[0m             \u001b[0mloc\u001b[0m\u001b[0;34m,\u001b[0m \u001b[0mnew_index\u001b[0m \u001b[0;34m=\u001b[0m \u001b[0mself\u001b[0m\u001b[0;34m.\u001b[0m\u001b[0mindex\u001b[0m\u001b[0;34m.\u001b[0m\u001b[0mget_loc_level\u001b[0m\u001b[0;34m(\u001b[0m\u001b[0mkey\u001b[0m\u001b[0;34m,\u001b[0m \u001b[0mdrop_level\u001b[0m\u001b[0;34m=\u001b[0m\u001b[0mdrop_level\u001b[0m\u001b[0;34m)\u001b[0m\u001b[0;34m\u001b[0m\u001b[0;34m\u001b[0m\u001b[0m\n\u001b[1;32m   3492\u001b[0m         \u001b[0;32melse\u001b[0m\u001b[0;34m:\u001b[0m\u001b[0;34m\u001b[0m\u001b[0;34m\u001b[0m\u001b[0m\n\u001b[0;32m-> 3493\u001b[0;31m             \u001b[0mloc\u001b[0m \u001b[0;34m=\u001b[0m \u001b[0mself\u001b[0m\u001b[0;34m.\u001b[0m\u001b[0mindex\u001b[0m\u001b[0;34m.\u001b[0m\u001b[0mget_loc\u001b[0m\u001b[0;34m(\u001b[0m\u001b[0mkey\u001b[0m\u001b[0;34m)\u001b[0m\u001b[0;34m\u001b[0m\u001b[0;34m\u001b[0m\u001b[0m\n\u001b[0m\u001b[1;32m   3494\u001b[0m \u001b[0;34m\u001b[0m\u001b[0m\n\u001b[1;32m   3495\u001b[0m             \u001b[0;32mif\u001b[0m \u001b[0misinstance\u001b[0m\u001b[0;34m(\u001b[0m\u001b[0mloc\u001b[0m\u001b[0;34m,\u001b[0m \u001b[0mnp\u001b[0m\u001b[0;34m.\u001b[0m\u001b[0mndarray\u001b[0m\u001b[0;34m)\u001b[0m\u001b[0;34m:\u001b[0m\u001b[0;34m\u001b[0m\u001b[0;34m\u001b[0m\u001b[0m\n",
            "\u001b[0;32m/usr/local/lib/python3.7/dist-packages/pandas/core/indexes/base.py\u001b[0m in \u001b[0;36mget_loc\u001b[0;34m(self, key, method, tolerance)\u001b[0m\n\u001b[1;32m   2898\u001b[0m                 \u001b[0;32mreturn\u001b[0m \u001b[0mself\u001b[0m\u001b[0;34m.\u001b[0m\u001b[0m_engine\u001b[0m\u001b[0;34m.\u001b[0m\u001b[0mget_loc\u001b[0m\u001b[0;34m(\u001b[0m\u001b[0mcasted_key\u001b[0m\u001b[0;34m)\u001b[0m\u001b[0;34m\u001b[0m\u001b[0;34m\u001b[0m\u001b[0m\n\u001b[1;32m   2899\u001b[0m             \u001b[0;32mexcept\u001b[0m \u001b[0mKeyError\u001b[0m \u001b[0;32mas\u001b[0m \u001b[0merr\u001b[0m\u001b[0;34m:\u001b[0m\u001b[0;34m\u001b[0m\u001b[0;34m\u001b[0m\u001b[0m\n\u001b[0;32m-> 2900\u001b[0;31m                 \u001b[0;32mraise\u001b[0m \u001b[0mKeyError\u001b[0m\u001b[0;34m(\u001b[0m\u001b[0mkey\u001b[0m\u001b[0;34m)\u001b[0m \u001b[0;32mfrom\u001b[0m \u001b[0merr\u001b[0m\u001b[0;34m\u001b[0m\u001b[0;34m\u001b[0m\u001b[0m\n\u001b[0m\u001b[1;32m   2901\u001b[0m \u001b[0;34m\u001b[0m\u001b[0m\n\u001b[1;32m   2902\u001b[0m         \u001b[0;32mif\u001b[0m \u001b[0mtolerance\u001b[0m \u001b[0;32mis\u001b[0m \u001b[0;32mnot\u001b[0m \u001b[0;32mNone\u001b[0m\u001b[0;34m:\u001b[0m\u001b[0;34m\u001b[0m\u001b[0;34m\u001b[0m\u001b[0m\n",
            "\u001b[0;31mKeyError\u001b[0m: 900118"
          ]
        }
      ]
    },
    {
      "cell_type": "code",
      "metadata": {
        "id": "RhIrS0X0pqyR",
        "colab": {
          "base_uri": "https://localhost:8080/"
        },
        "outputId": "3e6bb0b1-585e-49a0-d18b-d235b266174b"
      },
      "source": [
        "# Teste de verificação de duplicados pelo índice \n",
        "df_vacinacao.loc[7287947]"
      ],
      "execution_count": null,
      "outputs": [
        {
          "output_type": "execute_result",
          "data": {
            "text/plain": [
              "document_id                                         0ae8bcc2-1330-4d08-979b-3b3635c7d1bf-i0b0\n",
              "paciente_id                                 fc004ac33c2997f88d872ca3850c36e4f69b02b2bfcef1...\n",
              "paciente_idade                                                                             86\n",
              "paciente_dataNascimento                                                            1934-03-28\n",
              "paciente_enumSexoBiologico                                                                  M\n",
              "paciente_racaCor_codigo                                                                    99\n",
              "paciente_racaCor_valor                                                         SEM INFORMACAO\n",
              "paciente_endereco_coIbgeMunicipio                                                      330270\n",
              "paciente_endereco_coPais                                                                   10\n",
              "paciente_endereco_nmMunicipio                                                          MARICA\n",
              "paciente_endereco_nmPais                                                               BRASIL\n",
              "paciente_endereco_uf                                                                       RJ\n",
              "paciente_nacionalidade_enumNacionalidade                                                    B\n",
              "estabelecimento_valor                                                                 7985657\n",
              "estabelecimento_municipio_codigo                                                       330455\n",
              "estabelecimento_municipio_nome                                                 RIO DE JANEIRO\n",
              "estabelecimento_uf                                                                         RJ\n",
              "vacina_grupoAtendimento_codigo                                                            205\n",
              "vacina_grupoAtendimento_nome                                       Pessoas de 80 anos ou mais\n",
              "vacina_categoria_codigo                                                                     2\n",
              "vacina_categoria_nome                                                            Faixa Etária\n",
              "vacina_fabricante_nome                                           SERUM INSTITUTE OF INDIA LTD\n",
              "vacina_dataAplicacao                                                 2021-02-26T00:00:00.000Z\n",
              "vacina_descricao_dose                                                                 1ª Dose\n",
              "vacina_nome                                               Covid-19-Coronavac-Sinovac/Butantan\n",
              "data_importacao_rnds                                                      2021-03-02 20:44:13\n",
              "Name: 7287947, dtype: object"
            ]
          },
          "metadata": {
            "tags": []
          },
          "execution_count": 16
        }
      ]
    },
    {
      "cell_type": "markdown",
      "metadata": {
        "id": "R_0vh7Hkn7-a"
      },
      "source": [
        "### Tratamento de valores nulos e/ou faltantes"
      ]
    },
    {
      "cell_type": "code",
      "metadata": {
        "id": "ocxA_HkDlNZB",
        "colab": {
          "base_uri": "https://localhost:8080/"
        },
        "outputId": "aee7c318-01e0-4e48-919d-c32dc8391044"
      },
      "source": [
        "df_vacinacao.count()  # Quantidade de registros por coluna. \n",
        "                      # É possível observar que algumas colunas possuem quatidade inferior de registros, o que indica que será necessário \n",
        "                      # tratamento de dados se essas colunas forem necessárias para análise"
      ],
      "execution_count": null,
      "outputs": [
        {
          "output_type": "execute_result",
          "data": {
            "text/plain": [
              "document_id                                 3497840\n",
              "paciente_id                                 3497840\n",
              "paciente_idade                              3497840\n",
              "paciente_dataNascimento                     3497840\n",
              "paciente_enumSexoBiologico                  3497840\n",
              "paciente_racaCor_codigo                     3497840\n",
              "paciente_racaCor_valor                      3497840\n",
              "paciente_endereco_coIbgeMunicipio           3479785\n",
              "paciente_endereco_coPais                    3479849\n",
              "paciente_endereco_nmMunicipio               3479818\n",
              "paciente_endereco_nmPais                    3479849\n",
              "paciente_endereco_uf                        3479785\n",
              "paciente_nacionalidade_enumNacionalidade    3492812\n",
              "estabelecimento_valor                       3497840\n",
              "estabelecimento_municipio_codigo            3497840\n",
              "estabelecimento_municipio_nome              3497840\n",
              "estabelecimento_uf                          3497840\n",
              "vacina_grupoAtendimento_codigo              3497840\n",
              "vacina_grupoAtendimento_nome                3454705\n",
              "vacina_categoria_codigo                     3454705\n",
              "vacina_categoria_nome                       3454705\n",
              "vacina_fabricante_nome                      3497640\n",
              "vacina_dataAplicacao                        3497840\n",
              "vacina_descricao_dose                       3497840\n",
              "vacina_nome                                 3497840\n",
              "data_importacao_rnds                        3497840\n",
              "paciente_vacinado_fora_mun                  3479785\n",
              "dtype: int64"
            ]
          },
          "metadata": {
            "tags": []
          },
          "execution_count": 46
        }
      ]
    },
    {
      "cell_type": "code",
      "metadata": {
        "id": "qVZ0Xg_Qo8du"
      },
      "source": [
        "# As colunas listadas abaixo possuem valores nulos, à medida que o código de tratamento for inserido no Notebook, marcar a coluna como tratada\n",
        "# Ao final, se a coluna não for necessária, ela deverá ser retidada do Dataset e eliminada desta lista\n",
        "\n",
        "# paciente_endereco_coIbgeMunicipio           3511472 - utilizado para calcular se paciente foi vacinado ou não no município de residência          \n",
        "# paciente_endereco_coPais                    3511536\n",
        "# paciente_endereco_nmMunicipio               3511505\n",
        "# paciente_endereco_nmPais                    3511536\n",
        "# paciente_endereco_uf                        3511472\n",
        "# paciente_nacionalidade_enumNacionalidade    3524563\n",
        "# vacina_grupoAtendimento_nome                3473167\n",
        "# vacina_categoria_codigo                     3473167 - colocar \"não informado\"\n",
        "# vacina_categoria_nome                       3473167 - colocar \"não informado\"\n",
        "# vacina_fabricante_nome                      3529442 - colocar \"não informado\"\n",
        "\n",
        "# paciente_idade - tratar idades fora da faixa e calcular pela data de nascimento\n"
      ],
      "execution_count": null,
      "outputs": []
    },
    {
      "cell_type": "code",
      "metadata": {
        "id": "YyuPRkK5uyl0",
        "colab": {
          "base_uri": "https://localhost:8080/"
        },
        "outputId": "c6f78bbf-fb0d-453a-801e-2aceb835fbec"
      },
      "source": [
        "# Campos identificados pelo Massao para tratamento de nulos, no entanto, não há mais valores nulos nestes campos\n",
        "# Se todos concordarem, podemos excluir esse bloco de código\n",
        "# Alessandra - concordo\n",
        "# Fabiane - concordo\n",
        "# Massao - concordo\n",
        "\n",
        "print(df_vacinacao.estabelecimento_municipio_nome.isna().sum())\n",
        "print(df_vacinacao.estabelecimento_uf.isna().sum())                          \n",
        "print(df_vacinacao.paciente_enumSexoBiologico.isna().sum())\n",
        "print(df_vacinacao.paciente_racaCor_codigo.isna().sum())\n",
        "print(df_vacinacao.paciente_idade.isna().sum())"
      ],
      "execution_count": null,
      "outputs": [
        {
          "output_type": "stream",
          "text": [
            "0\n",
            "0\n",
            "0\n",
            "0\n",
            "0\n"
          ],
          "name": "stdout"
        }
      ]
    },
    {
      "cell_type": "code",
      "metadata": {
        "id": "WAdHK78uc0I3"
      },
      "source": [
        "#In Pandas missing data is represented by two value:\n",
        "    #None: None is a Python singleton object that is often used for missing data in Python code.\n",
        "    #NaN : NaN (an acronym for Not a Number), is a special floating-point value recognized by all systems that use the standard IEEE floating-point representation\n",
        "#Pandas treat None and NaN as essentially interchangeable for indicating missing or null values.\n",
        "\n",
        "#Número de registros (linhas) do arquivo antes da limpeza\n",
        "#index = df_vacinacao.index\n",
        "#num_linhas = len(index)\n",
        "#num_linhas #4536169\n",
        "\n",
        "#Contando o número de registros (linhas) com o campo \"paciente_endereco_nmMunicipio\" nulo\n",
        "#bool_series = pd.isnull(df_vacinacao[\"paciente_endereco_nmMunicipio\"])\n",
        "#df_vacinacao[bool_series]\n",
        "\n",
        "#Eliminando linhas em que o campo \"paciente_endereco_nmMunicipio\" for nulo\n",
        "#df_vacinacao = df_vacinacao.dropna(subset=['paciente_endereco_nmMunicipio'])\n",
        "#df_vacinacao = df_vacinacao.dropna(subset=['paciente_endereco_nmMunicipio', 'estabelecimento_municipio_nome'])\n"
      ],
      "execution_count": null,
      "outputs": []
    },
    {
      "cell_type": "code",
      "metadata": {
        "id": "D999RL3EJ2W0"
      },
      "source": [
        "# Código reprodutível\n",
        "# Incluir alguma validação em relaçao ao conteúdo das colunas que serão trabalhadas, usando o comando assert - ideia: valor mínimo, máximo ou média"
      ],
      "execution_count": null,
      "outputs": []
    },
    {
      "cell_type": "markdown",
      "metadata": {
        "id": "pr5uB2lEMAJe"
      },
      "source": [
        "###Tratamento da coluna **paciente_racaCor_codigo**"
      ]
    },
    {
      "cell_type": "code",
      "metadata": {
        "colab": {
          "base_uri": "https://localhost:8080/",
          "height": 67
        },
        "id": "IzSdEXFaME84",
        "outputId": "d284583d-c8a2-419b-8d39-decb12bcb1e2"
      },
      "source": [
        "#df_vacinacao.query('paciente_racaCor_codigo not in [\"1\", \"2\", \"3\", \"4\", \"99\"]')\n",
        "\n",
        "#Aqui verificou-se a existência de outra raça/cor não contemplada no dicionário de dados:\n",
        "#raça/cor = 5 (indígena) com 77831 registros encontrados\n",
        "#df_vacinacao.query('paciente_racaCor_codigo  in [\"5\"]')\n",
        "\n",
        "#Aqui verificou-se que não existe ocorrência de valor de raça/cor diferente de \"1\", \"2\", \"3\", \"4\", \"5\", \"99\", logo nenhum tratamento foi preciso\n",
        "df_vacinacao.query('paciente_racaCor_codigo not in [\"1\", \"2\", \"3\", \"4\", \"5\", \"99\"]')"
      ],
      "execution_count": null,
      "outputs": [
        {
          "output_type": "execute_result",
          "data": {
            "text/html": [
              "<div>\n",
              "<style scoped>\n",
              "    .dataframe tbody tr th:only-of-type {\n",
              "        vertical-align: middle;\n",
              "    }\n",
              "\n",
              "    .dataframe tbody tr th {\n",
              "        vertical-align: top;\n",
              "    }\n",
              "\n",
              "    .dataframe thead th {\n",
              "        text-align: right;\n",
              "    }\n",
              "</style>\n",
              "<table border=\"1\" class=\"dataframe\">\n",
              "  <thead>\n",
              "    <tr style=\"text-align: right;\">\n",
              "      <th></th>\n",
              "      <th>document_id</th>\n",
              "      <th>paciente_id</th>\n",
              "      <th>paciente_idade</th>\n",
              "      <th>paciente_dataNascimento</th>\n",
              "      <th>paciente_enumSexoBiologico</th>\n",
              "      <th>paciente_racaCor_codigo</th>\n",
              "      <th>paciente_racaCor_valor</th>\n",
              "      <th>paciente_endereco_coIbgeMunicipio</th>\n",
              "      <th>paciente_endereco_coPais</th>\n",
              "      <th>paciente_endereco_nmMunicipio</th>\n",
              "      <th>paciente_endereco_nmPais</th>\n",
              "      <th>paciente_endereco_uf</th>\n",
              "      <th>paciente_nacionalidade_enumNacionalidade</th>\n",
              "      <th>estabelecimento_valor</th>\n",
              "      <th>estabelecimento_municipio_codigo</th>\n",
              "      <th>estabelecimento_municipio_nome</th>\n",
              "      <th>estabelecimento_uf</th>\n",
              "      <th>vacina_grupoAtendimento_codigo</th>\n",
              "      <th>vacina_grupoAtendimento_nome</th>\n",
              "      <th>vacina_categoria_codigo</th>\n",
              "      <th>vacina_categoria_nome</th>\n",
              "      <th>vacina_fabricante_nome</th>\n",
              "      <th>vacina_dataAplicacao</th>\n",
              "      <th>vacina_descricao_dose</th>\n",
              "      <th>vacina_nome</th>\n",
              "      <th>data_importacao_rnds</th>\n",
              "    </tr>\n",
              "  </thead>\n",
              "  <tbody>\n",
              "  </tbody>\n",
              "</table>\n",
              "</div>"
            ],
            "text/plain": [
              "Empty DataFrame\n",
              "Columns: [document_id, paciente_id, paciente_idade, paciente_dataNascimento, paciente_enumSexoBiologico, paciente_racaCor_codigo, paciente_racaCor_valor, paciente_endereco_coIbgeMunicipio, paciente_endereco_coPais, paciente_endereco_nmMunicipio, paciente_endereco_nmPais, paciente_endereco_uf, paciente_nacionalidade_enumNacionalidade, estabelecimento_valor, estabelecimento_municipio_codigo, estabelecimento_municipio_nome, estabelecimento_uf, vacina_grupoAtendimento_codigo, vacina_grupoAtendimento_nome, vacina_categoria_codigo, vacina_categoria_nome, vacina_fabricante_nome, vacina_dataAplicacao, vacina_descricao_dose, vacina_nome, data_importacao_rnds]\n",
              "Index: []"
            ]
          },
          "metadata": {
            "tags": []
          },
          "execution_count": 17
        }
      ]
    },
    {
      "cell_type": "code",
      "metadata": {
        "id": "Ymq2ux-Gqe4I",
        "colab": {
          "base_uri": "https://localhost:8080/"
        },
        "outputId": "bde0820e-3761-4562-aef9-a24c72605509"
      },
      "source": [
        "# Massao, a partir de suas análises e conclusões iniciais, sugeri a abordagem abaixo para verificar os valores de paciente_racaCor_codigo\n",
        "# Veja se está de acordo ou se prefere manter a abordagem inicialmente proposta por você\n",
        "\n",
        "\n",
        "# Verificando os valores da coluna paciente_racaCor_codigo\n",
        "df_vacinacao[['paciente_racaCor_codigo', 'paciente_racaCor_valor']].value_counts()"
      ],
      "execution_count": null,
      "outputs": [
        {
          "output_type": "execute_result",
          "data": {
            "text/plain": [
              "paciente_racaCor_codigo  paciente_racaCor_valor\n",
              "1.0                      BRANCA                    1369710\n",
              "99.0                     SEM INFORMACAO            1115435\n",
              "3.0                      PARDA                      508551\n",
              "4.0                      AMARELA                    314209\n",
              "2.0                      PRETA                      129471\n",
              "5.0                      INDIGENA                    60464\n",
              "dtype: int64"
            ]
          },
          "metadata": {
            "tags": []
          },
          "execution_count": 47
        }
      ]
    },
    {
      "cell_type": "code",
      "metadata": {
        "id": "-s4cJZI-0cr-"
      },
      "source": [
        "# Observa-se que o valor \"5\" não existe no dicionário de dados, no entanto, ele está associado à raca \"INDIGENA\"\n",
        "# Essa informação será adicionada ao dicionário de dados, utilizada nas análises e não será necessário nenhum outro tratamento nos dados"
      ],
      "execution_count": null,
      "outputs": []
    },
    {
      "cell_type": "markdown",
      "metadata": {
        "id": "8MM9y82_QSOm"
      },
      "source": [
        "### Tratamento da coluna **paciente_idade**"
      ]
    },
    {
      "cell_type": "code",
      "metadata": {
        "id": "YT-9BuD-UA-0",
        "colab": {
          "base_uri": "https://localhost:8080/"
        },
        "outputId": "719ac6dd-4a57-457e-9592-cb37a3da186f"
      },
      "source": [
        "# Identificação de outliers dos campos de idade\n",
        "# Análise inicial dos valores mínimo, máximo e médio de idade\n",
        "print(df_vacinacao.paciente_idade.min())\n",
        "print(df_vacinacao.paciente_idade.max())\n",
        "print(df_vacinacao.paciente_idade.mean())"
      ],
      "execution_count": null,
      "outputs": [
        {
          "output_type": "stream",
          "text": [
            "0.0\n",
            "221.0\n",
            "54.552873909399835\n"
          ],
          "name": "stdout"
        }
      ]
    },
    {
      "cell_type": "code",
      "metadata": {
        "id": "Dm7GbDa9XBn7",
        "colab": {
          "base_uri": "https://localhost:8080/"
        },
        "outputId": "03adc997-5ed0-4c1c-9c1c-b6782d3916e1"
      },
      "source": [
        "# Como o valor mínimo de idade foi zero, e a vacina só é recomendada para maiores de 18 anos, \n",
        "# vamos identificar quantos os casos de vacinação a baixo de 18 anos \n",
        "df_idade_menor = df_vacinacao[(df_vacinacao.paciente_idade < 18.0)]\n",
        "len(df_idade_menor)"
      ],
      "execution_count": null,
      "outputs": [
        {
          "output_type": "execute_result",
          "data": {
            "text/plain": [
              "1382"
            ]
          },
          "metadata": {
            "tags": []
          },
          "execution_count": 16
        }
      ]
    },
    {
      "cell_type": "code",
      "metadata": {
        "id": "BPvpsrhXXvVc",
        "colab": {
          "base_uri": "https://localhost:8080/",
          "height": 210
        },
        "outputId": "81dabc7b-beb7-4e85-eb51-b7df23d5f92e"
      },
      "source": [
        "# Dos 1376 casos encontrados, quantos são em cada idade:\n",
        "\n",
        "df_idade_menor['paciente_idade'].value_counts()"
      ],
      "execution_count": 7,
      "outputs": [
        {
          "output_type": "error",
          "ename": "NameError",
          "evalue": "ignored",
          "traceback": [
            "\u001b[0;31m---------------------------------------------------------------------------\u001b[0m",
            "\u001b[0;31mNameError\u001b[0m                                 Traceback (most recent call last)",
            "\u001b[0;32m<ipython-input-7-4cb3df94d8d3>\u001b[0m in \u001b[0;36m<module>\u001b[0;34m()\u001b[0m\n\u001b[1;32m      1\u001b[0m \u001b[0;31m# Dos 1376 casos encontrados, quantos são em cada idade:\u001b[0m\u001b[0;34m\u001b[0m\u001b[0;34m\u001b[0m\u001b[0;34m\u001b[0m\u001b[0m\n\u001b[1;32m      2\u001b[0m \u001b[0;34m\u001b[0m\u001b[0m\n\u001b[0;32m----> 3\u001b[0;31m \u001b[0mdf_idade_menor\u001b[0m\u001b[0;34m[\u001b[0m\u001b[0;34m'paciente_idade'\u001b[0m\u001b[0;34m]\u001b[0m\u001b[0;34m.\u001b[0m\u001b[0mvalue_counts\u001b[0m\u001b[0;34m(\u001b[0m\u001b[0;34m)\u001b[0m\u001b[0;34m\u001b[0m\u001b[0;34m\u001b[0m\u001b[0m\n\u001b[0m",
            "\u001b[0;31mNameError\u001b[0m: name 'df_idade_menor' is not defined"
          ]
        }
      ]
    },
    {
      "cell_type": "code",
      "metadata": {
        "colab": {
          "base_uri": "https://localhost:8080/",
          "height": 295
        },
        "id": "F8bNxQOaLkVB",
        "outputId": "0f35577c-55e6-4536-dab6-34efce85e700"
      },
      "source": [
        "df_idade_menor['paciente_idade'].value_counts().plot.bar()"
      ],
      "execution_count": null,
      "outputs": [
        {
          "output_type": "execute_result",
          "data": {
            "text/plain": [
              "<matplotlib.axes._subplots.AxesSubplot at 0x7f38a1d3ad90>"
            ]
          },
          "metadata": {
            "tags": []
          },
          "execution_count": 18
        },
        {
          "output_type": "display_data",
          "data": {
            "image/png": "[encoded data removed]",
            "text/plain": [
              "<Figure size 432x288 with 1 Axes>"
            ]
          },
          "metadata": {
            "tags": [],
            "needs_background": "light"
          }
        }
      ]
    },
    {
      "cell_type": "code",
      "metadata": {
        "id": "hZGfHwKsYz0b",
        "colab": {
          "base_uri": "https://localhost:8080/"
        },
        "outputId": "28a3e8a4-7fa8-4a33-c6da-7787507e65a9"
      },
      "source": [
        "# De forma semelhante, vamos identificar os casos de vacinação em paciente de idade superior a 110 anos\n",
        "df_idade_maior = df_vacinacao[(df_vacinacao.paciente_idade > 110.0)]\n",
        "len(df_idade_maior)\n"
      ],
      "execution_count": null,
      "outputs": [
        {
          "output_type": "execute_result",
          "data": {
            "text/plain": [
              "1990"
            ]
          },
          "metadata": {
            "tags": []
          },
          "execution_count": 19
        }
      ]
    },
    {
      "cell_type": "code",
      "metadata": {
        "colab": {
          "base_uri": "https://localhost:8080/",
          "height": 210
        },
        "id": "hrEbjAuMO5Vr",
        "outputId": "01e972ef-e424-4051-80f0-93ab848ee08a"
      },
      "source": [
        "# Dos 1986 casos encontrados, quantos são em cada idade:\n",
        "\n",
        "df_idade_maior['paciente_idade'].sort_values(by=[\"paciente_idade\"]).value_counts()"
      ],
      "execution_count": 2,
      "outputs": [
        {
          "output_type": "error",
          "ename": "NameError",
          "evalue": "ignored",
          "traceback": [
            "\u001b[0;31m---------------------------------------------------------------------------\u001b[0m",
            "\u001b[0;31mNameError\u001b[0m                                 Traceback (most recent call last)",
            "\u001b[0;32m<ipython-input-2-658c86d1ac5c>\u001b[0m in \u001b[0;36m<module>\u001b[0;34m()\u001b[0m\n\u001b[1;32m      1\u001b[0m \u001b[0;31m# Dos 1986 casos encontrados, quantos são em cada idade:\u001b[0m\u001b[0;34m\u001b[0m\u001b[0;34m\u001b[0m\u001b[0;34m\u001b[0m\u001b[0m\n\u001b[1;32m      2\u001b[0m \u001b[0;34m\u001b[0m\u001b[0m\n\u001b[0;32m----> 3\u001b[0;31m \u001b[0mdf_idade_maior\u001b[0m\u001b[0;34m[\u001b[0m\u001b[0;34m'paciente_idade'\u001b[0m\u001b[0;34m]\u001b[0m\u001b[0;34m.\u001b[0m\u001b[0msort_values\u001b[0m\u001b[0;34m(\u001b[0m\u001b[0mby\u001b[0m\u001b[0;34m=\u001b[0m\u001b[0;34m[\u001b[0m\u001b[0;34m\"paciente_idade\"\u001b[0m\u001b[0;34m]\u001b[0m\u001b[0;34m)\u001b[0m\u001b[0;34m.\u001b[0m\u001b[0mvalue_counts\u001b[0m\u001b[0;34m(\u001b[0m\u001b[0;34m)\u001b[0m\u001b[0;34m\u001b[0m\u001b[0;34m\u001b[0m\u001b[0m\n\u001b[0m",
            "\u001b[0;31mNameError\u001b[0m: name 'df_idade_maior' is not defined"
          ]
        }
      ]
    },
    {
      "cell_type": "code",
      "metadata": {
        "id": "tr0OBWL08fJa"
      },
      "source": [
        "# Para os casos encontrados de idade menor que 18 anos ou idade maior que 110 anos,\n",
        "# vamos recalcular a idade a partir da dada de nascimento e data de vacinação"
      ],
      "execution_count": null,
      "outputs": []
    },
    {
      "cell_type": "code",
      "metadata": {
        "id": "iipjYQ7H8wI-"
      },
      "source": [
        "# "
      ],
      "execution_count": null,
      "outputs": []
    },
    {
      "cell_type": "markdown",
      "metadata": {
        "id": "NZwBZ3N_9R8B"
      },
      "source": [
        "### Identificar pacientes que foram vacinados fora de seu município de residência"
      ]
    },
    {
      "cell_type": "code",
      "metadata": {
        "id": "_ACHNIri9Rj3"
      },
      "source": [
        "# Será criada uma coluna booleana para identificar se paciente foi vacinado fora seu município de residência (paciente_vacinado_fora_mun), que receberá os valores:\n",
        "#    \"TRUE\" se município de residência do paciente (paciente_endereco_coIbgeMunicipio) <> município do estabelecimento de vacinação (estabelecimento_municipio_codigo)\n",
        "#    \"FALSE\" se município de residência do paciente (paciente_endereco_coIbgeMunicipio) = município do estabelecimento de vacinação (estabelecimento_municipio_codigo)\n",
        "\n",
        "# Para as tuplas onde não existe informação sobre o município de residência do paciente, a nova coluna, para manter a consistência, será preenchida com NaN \n",
        "\n",
        "df_vacinacao.loc[(df_vacinacao.paciente_endereco_coIbgeMunicipio != df_vacinacao.estabelecimento_municipio_codigo),'paciente_vacinado_fora_mun'] = True   # Pacientes vacinados fora do município de residência\n",
        "df_vacinacao.loc[(df_vacinacao.paciente_endereco_coIbgeMunicipio == df_vacinacao.estabelecimento_municipio_codigo),'paciente_vacinado_fora_mun'] = False  # Pacientes vacinados em seu município de residência\n",
        "df_vacinacao.loc[(df_vacinacao.paciente_endereco_coIbgeMunicipio.isna()),'paciente_vacinado_fora_mun'] = np.nan                                           # Pacientes onde não há informação sobre o município de residência\n"
      ],
      "execution_count": null,
      "outputs": []
    },
    {
      "cell_type": "code",
      "metadata": {
        "id": "ZHkFD8R04OrO",
        "colab": {
          "base_uri": "https://localhost:8080/"
        },
        "outputId": "6f634028-953a-4b53-bfa4-3552c5d08cb4"
      },
      "source": [
        "# Na listagem abaixo, pode-se observar que a coluna 'paciente_vacinado_fora_mun' foi adicionada e que possui a mesma quantidade de valores válidos que a coluna \"paciente_endereco_coIbgeMunicipio\" \n",
        "\n",
        "df_vacinacao.count()"
      ],
      "execution_count": null,
      "outputs": [
        {
          "output_type": "execute_result",
          "data": {
            "text/plain": [
              "document_id                                 3529642\n",
              "paciente_id                                 3529642\n",
              "paciente_idade                              3529642\n",
              "paciente_dataNascimento                     3529642\n",
              "paciente_enumSexoBiologico                  3529642\n",
              "paciente_racaCor_codigo                     3529642\n",
              "paciente_racaCor_valor                      3529642\n",
              "paciente_endereco_coIbgeMunicipio           3511472\n",
              "paciente_endereco_coPais                    3511536\n",
              "paciente_endereco_nmMunicipio               3511505\n",
              "paciente_endereco_nmPais                    3511536\n",
              "paciente_endereco_uf                        3511472\n",
              "paciente_nacionalidade_enumNacionalidade    3524563\n",
              "estabelecimento_valor                       3529642\n",
              "estabelecimento_municipio_codigo            3529642\n",
              "estabelecimento_municipio_nome              3529642\n",
              "estabelecimento_uf                          3529642\n",
              "vacina_grupoAtendimento_codigo              3529642\n",
              "vacina_grupoAtendimento_nome                3473167\n",
              "vacina_categoria_codigo                     3473167\n",
              "vacina_categoria_nome                       3473167\n",
              "vacina_fabricante_nome                      3529442\n",
              "vacina_dataAplicacao                        3529642\n",
              "vacina_descricao_dose                       3529642\n",
              "vacina_nome                                 3529642\n",
              "data_importacao_rnds                        3529642\n",
              "paciente_vacinado_fora_mun                  3511472\n",
              "dtype: int64"
            ]
          },
          "metadata": {
            "tags": []
          },
          "execution_count": 22
        }
      ]
    },
    {
      "cell_type": "markdown",
      "metadata": {
        "id": "WiwjEymMP_Gw"
      },
      "source": [
        "## Análises"
      ]
    },
    {
      "cell_type": "code",
      "metadata": {
        "id": "ORLF9ytYc6Xx",
        "colab": {
          "base_uri": "https://localhost:8080/",
          "height": 1000
        },
        "outputId": "e98319e2-89ff-42da-c8b6-2f83c1ade2a3"
      },
      "source": [
        "# Vacinados fora dos seus Municípios de residência mas no mesmo Estado na região Sudeste\n",
        "\n",
        "df_vacinacao.query('paciente_endereco_uf in [\"ES\", \"MG\", \"RJ\", \"SP\"] & paciente_endereco_uf == estabelecimento_uf & paciente_endereco_nmMunicipio != estabelecimento_municipio_nome')"
      ],
      "execution_count": null,
      "outputs": [
        {
          "output_type": "execute_result",
          "data": {
            "text/html": [
              "<div>\n",
              "<style scoped>\n",
              "    .dataframe tbody tr th:only-of-type {\n",
              "        vertical-align: middle;\n",
              "    }\n",
              "\n",
              "    .dataframe tbody tr th {\n",
              "        vertical-align: top;\n",
              "    }\n",
              "\n",
              "    .dataframe thead th {\n",
              "        text-align: right;\n",
              "    }\n",
              "</style>\n",
              "<table border=\"1\" class=\"dataframe\">\n",
              "  <thead>\n",
              "    <tr style=\"text-align: right;\">\n",
              "      <th></th>\n",
              "      <th>document_id</th>\n",
              "      <th>paciente_id</th>\n",
              "      <th>paciente_idade</th>\n",
              "      <th>paciente_dataNascimento</th>\n",
              "      <th>paciente_enumSexoBiologico</th>\n",
              "      <th>paciente_racaCor_codigo</th>\n",
              "      <th>paciente_racaCor_valor</th>\n",
              "      <th>paciente_endereco_coIbgeMunicipio</th>\n",
              "      <th>paciente_endereco_coPais</th>\n",
              "      <th>paciente_endereco_nmMunicipio</th>\n",
              "      <th>paciente_endereco_nmPais</th>\n",
              "      <th>paciente_endereco_uf</th>\n",
              "      <th>paciente_nacionalidade_enumNacionalidade</th>\n",
              "      <th>estabelecimento_valor</th>\n",
              "      <th>estabelecimento_municipio_codigo</th>\n",
              "      <th>estabelecimento_municipio_nome</th>\n",
              "      <th>estabelecimento_uf</th>\n",
              "      <th>vacina_grupoAtendimento_codigo</th>\n",
              "      <th>vacina_grupoAtendimento_nome</th>\n",
              "      <th>vacina_categoria_codigo</th>\n",
              "      <th>vacina_categoria_nome</th>\n",
              "      <th>vacina_fabricante_nome</th>\n",
              "      <th>vacina_dataAplicacao</th>\n",
              "      <th>vacina_descricao_dose</th>\n",
              "      <th>vacina_nome</th>\n",
              "      <th>data_importacao_rnds</th>\n",
              "      <th>paciente_vacinado_fora_mun</th>\n",
              "    </tr>\n",
              "  </thead>\n",
              "  <tbody>\n",
              "    <tr>\n",
              "      <th>1029695</th>\n",
              "      <td>97e7cbfe-cb62-4b5d-ace2-c125f5a870aa-i0b0</td>\n",
              "      <td>00001138697adba6248b948c0c34a09cda95077197bd07...</td>\n",
              "      <td>41.0</td>\n",
              "      <td>1979-08-27</td>\n",
              "      <td>M</td>\n",
              "      <td>1.0</td>\n",
              "      <td>BRANCA</td>\n",
              "      <td>352250.0</td>\n",
              "      <td>10.0</td>\n",
              "      <td>ITAPEVI</td>\n",
              "      <td>BRASIL</td>\n",
              "      <td>SP</td>\n",
              "      <td>B</td>\n",
              "      <td>7136889</td>\n",
              "      <td>350570.0</td>\n",
              "      <td>BARUERI</td>\n",
              "      <td>SP</td>\n",
              "      <td>926</td>\n",
              "      <td>Outros</td>\n",
              "      <td>9.0</td>\n",
              "      <td>Trabalhadores de Saúde</td>\n",
              "      <td>Sinovac</td>\n",
              "      <td>2021-01-25T00:00:00.000Z</td>\n",
              "      <td>1ª Dose</td>\n",
              "      <td>Covid-19-Coronavac-Sinovac/Butantan</td>\n",
              "      <td>2021-01-25 14:01:50</td>\n",
              "      <td>True</td>\n",
              "    </tr>\n",
              "    <tr>\n",
              "      <th>1201362</th>\n",
              "      <td>4b144b87-9333-4a6f-b5c1-4cf84440a046-i0b0</td>\n",
              "      <td>000044f1fe45b4114e222811aa12f58538b641ac8912ba...</td>\n",
              "      <td>33.0</td>\n",
              "      <td>1987-02-13</td>\n",
              "      <td>M</td>\n",
              "      <td>4.0</td>\n",
              "      <td>AMARELA</td>\n",
              "      <td>351640.0</td>\n",
              "      <td>10.0</td>\n",
              "      <td>FRANCO DA ROCHA</td>\n",
              "      <td>BRASIL</td>\n",
              "      <td>SP</td>\n",
              "      <td>B</td>\n",
              "      <td>2086328</td>\n",
              "      <td>352850.0</td>\n",
              "      <td>MAIRIPORA</td>\n",
              "      <td>SP</td>\n",
              "      <td>926</td>\n",
              "      <td>Outros</td>\n",
              "      <td>9.0</td>\n",
              "      <td>Trabalhadores de Saúde</td>\n",
              "      <td>AstraZeneca/Oxford</td>\n",
              "      <td>2021-01-29T00:00:00.000Z</td>\n",
              "      <td>1ª Dose</td>\n",
              "      <td>Vacina Covid-19 - Covishield</td>\n",
              "      <td>2021-01-29 15:01:00</td>\n",
              "      <td>True</td>\n",
              "    </tr>\n",
              "    <tr>\n",
              "      <th>1378697</th>\n",
              "      <td>e9881139-ddcc-4984-b8e5-a259261143b1-i0b0</td>\n",
              "      <td>000064cc996f9c07a1bc4bc2156f217b1b2cbe1bc64259...</td>\n",
              "      <td>24.0</td>\n",
              "      <td>1996-03-28</td>\n",
              "      <td>F</td>\n",
              "      <td>1.0</td>\n",
              "      <td>BRANCA</td>\n",
              "      <td>313670.0</td>\n",
              "      <td>10.0</td>\n",
              "      <td>JUIZ DE FORA</td>\n",
              "      <td>BRASIL</td>\n",
              "      <td>MG</td>\n",
              "      <td>B</td>\n",
              "      <td>2109476</td>\n",
              "      <td>310560.0</td>\n",
              "      <td>BARBACENA</td>\n",
              "      <td>MG</td>\n",
              "      <td>926</td>\n",
              "      <td>Outros</td>\n",
              "      <td>9.0</td>\n",
              "      <td>Trabalhadores de Saúde</td>\n",
              "      <td>FUNDACAO BUTANTAN</td>\n",
              "      <td>2021-01-22T03:00:00.000Z</td>\n",
              "      <td>1ª Dose</td>\n",
              "      <td>Covid-19-Coronavac-Sinovac/Butantan</td>\n",
              "      <td>2021-02-22 21:20:52</td>\n",
              "      <td>True</td>\n",
              "    </tr>\n",
              "    <tr>\n",
              "      <th>5336378</th>\n",
              "      <td>3bfbae1e-b2f9-40ca-a57c-751b671b8830-i0b0</td>\n",
              "      <td>00009ad2c9d2b43d0ac86d4c61e3e8b100a36c791ba257...</td>\n",
              "      <td>30.0</td>\n",
              "      <td>1990-07-23</td>\n",
              "      <td>F</td>\n",
              "      <td>4.0</td>\n",
              "      <td>AMARELA</td>\n",
              "      <td>354410.0</td>\n",
              "      <td>10.0</td>\n",
              "      <td>RIO GRANDE DA SERRA</td>\n",
              "      <td>BRASIL</td>\n",
              "      <td>SP</td>\n",
              "      <td>B</td>\n",
              "      <td>2044501</td>\n",
              "      <td>352940.0</td>\n",
              "      <td>MAUA</td>\n",
              "      <td>SP</td>\n",
              "      <td>926</td>\n",
              "      <td>Outros</td>\n",
              "      <td>9.0</td>\n",
              "      <td>Trabalhadores de Saúde</td>\n",
              "      <td>AstraZeneca/Oxford</td>\n",
              "      <td>2021-02-04T00:00:00.000Z</td>\n",
              "      <td>1ª Dose</td>\n",
              "      <td>Vacina Covid-19 - Covishield</td>\n",
              "      <td>2021-02-04 15:02:00</td>\n",
              "      <td>True</td>\n",
              "    </tr>\n",
              "    <tr>\n",
              "      <th>438620</th>\n",
              "      <td>4a27330d-f18d-47a4-ba8f-cd3c3130e34b-i0b0</td>\n",
              "      <td>0000d6cda89a9d7ee24c4a85b0046a6ec4a4aa7f9a6c73...</td>\n",
              "      <td>45.0</td>\n",
              "      <td>1975-04-14</td>\n",
              "      <td>F</td>\n",
              "      <td>1.0</td>\n",
              "      <td>BRANCA</td>\n",
              "      <td>355030.0</td>\n",
              "      <td>10.0</td>\n",
              "      <td>SAO PAULO</td>\n",
              "      <td>BRASIL</td>\n",
              "      <td>SP</td>\n",
              "      <td>B</td>\n",
              "      <td>7269021</td>\n",
              "      <td>352590.0</td>\n",
              "      <td>JUNDIAI</td>\n",
              "      <td>SP</td>\n",
              "      <td>926</td>\n",
              "      <td>Outros</td>\n",
              "      <td>9.0</td>\n",
              "      <td>Trabalhadores de Saúde</td>\n",
              "      <td>Sinovac</td>\n",
              "      <td>2021-02-05T00:00:00.000Z</td>\n",
              "      <td>1ª Dose</td>\n",
              "      <td>Covid-19-Coronavac-Sinovac/Butantan</td>\n",
              "      <td>2021-02-05 11:02:08</td>\n",
              "      <td>True</td>\n",
              "    </tr>\n",
              "    <tr>\n",
              "      <th>...</th>\n",
              "      <td>...</td>\n",
              "      <td>...</td>\n",
              "      <td>...</td>\n",
              "      <td>...</td>\n",
              "      <td>...</td>\n",
              "      <td>...</td>\n",
              "      <td>...</td>\n",
              "      <td>...</td>\n",
              "      <td>...</td>\n",
              "      <td>...</td>\n",
              "      <td>...</td>\n",
              "      <td>...</td>\n",
              "      <td>...</td>\n",
              "      <td>...</td>\n",
              "      <td>...</td>\n",
              "      <td>...</td>\n",
              "      <td>...</td>\n",
              "      <td>...</td>\n",
              "      <td>...</td>\n",
              "      <td>...</td>\n",
              "      <td>...</td>\n",
              "      <td>...</td>\n",
              "      <td>...</td>\n",
              "      <td>...</td>\n",
              "      <td>...</td>\n",
              "      <td>...</td>\n",
              "      <td>...</td>\n",
              "    </tr>\n",
              "    <tr>\n",
              "      <th>7413173</th>\n",
              "      <td>d111e157-11d6-423b-81d9-0a6d4dca252f-i0b0</td>\n",
              "      <td>fffeec0b7112a2fe0dfc5bd164869d3459841436b0f664...</td>\n",
              "      <td>57.0</td>\n",
              "      <td>1963-10-05</td>\n",
              "      <td>F</td>\n",
              "      <td>99.0</td>\n",
              "      <td>SEM INFORMACAO</td>\n",
              "      <td>355030.0</td>\n",
              "      <td>10.0</td>\n",
              "      <td>SAO PAULO</td>\n",
              "      <td>BRASIL</td>\n",
              "      <td>SP</td>\n",
              "      <td>B</td>\n",
              "      <td>2072327</td>\n",
              "      <td>351880.0</td>\n",
              "      <td>GUARULHOS</td>\n",
              "      <td>SP</td>\n",
              "      <td>926</td>\n",
              "      <td>Outros</td>\n",
              "      <td>9.0</td>\n",
              "      <td>Trabalhadores de Saúde</td>\n",
              "      <td>Sinovac</td>\n",
              "      <td>2021-02-18T00:00:00.000Z</td>\n",
              "      <td>1ª Dose</td>\n",
              "      <td>Covid-19-Coronavac-Sinovac/Butantan</td>\n",
              "      <td>2021-02-18 03:00:00</td>\n",
              "      <td>True</td>\n",
              "    </tr>\n",
              "    <tr>\n",
              "      <th>3054380</th>\n",
              "      <td>b7fa84d7-bb3e-44b4-ad5b-5781966caed7-i0b0</td>\n",
              "      <td>ffff2d5652ff84e55c5359640b64ec15336d108a1b1318...</td>\n",
              "      <td>21.0</td>\n",
              "      <td>1999-06-18</td>\n",
              "      <td>M</td>\n",
              "      <td>1.0</td>\n",
              "      <td>BRANCA</td>\n",
              "      <td>351500.0</td>\n",
              "      <td>10.0</td>\n",
              "      <td>EMBU DAS ARTES</td>\n",
              "      <td>BRASIL</td>\n",
              "      <td>SP</td>\n",
              "      <td>B</td>\n",
              "      <td>2063778</td>\n",
              "      <td>355280.0</td>\n",
              "      <td>TABOAO DA SERRA</td>\n",
              "      <td>SP</td>\n",
              "      <td>926</td>\n",
              "      <td>Outros</td>\n",
              "      <td>9.0</td>\n",
              "      <td>Trabalhadores de Saúde</td>\n",
              "      <td>Sinovac</td>\n",
              "      <td>2021-02-01T00:00:00.000Z</td>\n",
              "      <td>1ª Dose</td>\n",
              "      <td>Covid-19-Coronavac-Sinovac/Butantan</td>\n",
              "      <td>2021-02-01 15:02:00</td>\n",
              "      <td>True</td>\n",
              "    </tr>\n",
              "    <tr>\n",
              "      <th>1303890</th>\n",
              "      <td>ac5596a6-f537-47b7-811f-40f3536fb2ae-i0b0</td>\n",
              "      <td>ffff3b16bbae8003cca4c61cdc2cd618c82897565d7869...</td>\n",
              "      <td>26.0</td>\n",
              "      <td>1994-04-17</td>\n",
              "      <td>F</td>\n",
              "      <td>1.0</td>\n",
              "      <td>BRANCA</td>\n",
              "      <td>353110.0</td>\n",
              "      <td>10.0</td>\n",
              "      <td>MONGAGUA</td>\n",
              "      <td>BRASIL</td>\n",
              "      <td>SP</td>\n",
              "      <td>B</td>\n",
              "      <td>2025752</td>\n",
              "      <td>354850.0</td>\n",
              "      <td>SANTOS</td>\n",
              "      <td>SP</td>\n",
              "      <td>926</td>\n",
              "      <td>Outros</td>\n",
              "      <td>9.0</td>\n",
              "      <td>Trabalhadores de Saúde</td>\n",
              "      <td>Sinovac</td>\n",
              "      <td>2021-01-25T00:00:00.000Z</td>\n",
              "      <td>1ª Dose</td>\n",
              "      <td>Covid-19-Coronavac-Sinovac/Butantan</td>\n",
              "      <td>2021-01-25 10:01:31</td>\n",
              "      <td>True</td>\n",
              "    </tr>\n",
              "    <tr>\n",
              "      <th>3362635</th>\n",
              "      <td>f4e048df-6de6-476e-a1a0-31520190f7a1-i0b0</td>\n",
              "      <td>ffff4456a8d6fc335677a22bb3c7ba8846a83abd856309...</td>\n",
              "      <td>45.0</td>\n",
              "      <td>1975-02-20</td>\n",
              "      <td>M</td>\n",
              "      <td>99.0</td>\n",
              "      <td>SEM INFORMACAO</td>\n",
              "      <td>351640.0</td>\n",
              "      <td>10.0</td>\n",
              "      <td>FRANCO DA ROCHA</td>\n",
              "      <td>BRASIL</td>\n",
              "      <td>SP</td>\n",
              "      <td>B</td>\n",
              "      <td>2079186</td>\n",
              "      <td>355030.0</td>\n",
              "      <td>SAO PAULO</td>\n",
              "      <td>SP</td>\n",
              "      <td>926</td>\n",
              "      <td>Outros</td>\n",
              "      <td>9.0</td>\n",
              "      <td>Trabalhadores de Saúde</td>\n",
              "      <td>Sinovac</td>\n",
              "      <td>2021-01-20T00:00:00.000Z</td>\n",
              "      <td>1ª Dose</td>\n",
              "      <td>Covid-19-Coronavac-Sinovac/Butantan</td>\n",
              "      <td>2021-01-20 15:01:00</td>\n",
              "      <td>True</td>\n",
              "    </tr>\n",
              "    <tr>\n",
              "      <th>3280630</th>\n",
              "      <td>3bec530f-037c-4ce9-b45c-64552e108d60-i0b0</td>\n",
              "      <td>ffff7cebb313933caaa16137d981aef984f41c1657b25d...</td>\n",
              "      <td>26.0</td>\n",
              "      <td>1994-10-13</td>\n",
              "      <td>F</td>\n",
              "      <td>1.0</td>\n",
              "      <td>BRANCA</td>\n",
              "      <td>355280.0</td>\n",
              "      <td>10.0</td>\n",
              "      <td>TABOAO DA SERRA</td>\n",
              "      <td>BRASIL</td>\n",
              "      <td>SP</td>\n",
              "      <td>B</td>\n",
              "      <td>2746468</td>\n",
              "      <td>351300.0</td>\n",
              "      <td>COTIA</td>\n",
              "      <td>SP</td>\n",
              "      <td>926</td>\n",
              "      <td>Outros</td>\n",
              "      <td>9.0</td>\n",
              "      <td>Trabalhadores de Saúde</td>\n",
              "      <td>Sinovac</td>\n",
              "      <td>2021-02-04T00:00:00.000Z</td>\n",
              "      <td>1ª Dose</td>\n",
              "      <td>Covid-19-Coronavac-Sinovac/Butantan</td>\n",
              "      <td>2021-02-04 12:02:53</td>\n",
              "      <td>True</td>\n",
              "    </tr>\n",
              "  </tbody>\n",
              "</table>\n",
              "<p>557120 rows × 27 columns</p>\n",
              "</div>"
            ],
            "text/plain": [
              "                                       document_id  ... paciente_vacinado_fora_mun\n",
              "1029695  97e7cbfe-cb62-4b5d-ace2-c125f5a870aa-i0b0  ...                       True\n",
              "1201362  4b144b87-9333-4a6f-b5c1-4cf84440a046-i0b0  ...                       True\n",
              "1378697  e9881139-ddcc-4984-b8e5-a259261143b1-i0b0  ...                       True\n",
              "5336378  3bfbae1e-b2f9-40ca-a57c-751b671b8830-i0b0  ...                       True\n",
              "438620   4a27330d-f18d-47a4-ba8f-cd3c3130e34b-i0b0  ...                       True\n",
              "...                                            ...  ...                        ...\n",
              "7413173  d111e157-11d6-423b-81d9-0a6d4dca252f-i0b0  ...                       True\n",
              "3054380  b7fa84d7-bb3e-44b4-ad5b-5781966caed7-i0b0  ...                       True\n",
              "1303890  ac5596a6-f537-47b7-811f-40f3536fb2ae-i0b0  ...                       True\n",
              "3362635  f4e048df-6de6-476e-a1a0-31520190f7a1-i0b0  ...                       True\n",
              "3280630  3bec530f-037c-4ce9-b45c-64552e108d60-i0b0  ...                       True\n",
              "\n",
              "[557120 rows x 27 columns]"
            ]
          },
          "metadata": {
            "tags": []
          },
          "execution_count": 48
        }
      ]
    },
    {
      "cell_type": "code",
      "metadata": {
        "id": "ayY45QVB_H_0",
        "colab": {
          "base_uri": "https://localhost:8080/"
        },
        "outputId": "12a0dca2-8eea-482c-9c84-a6520d43477b"
      },
      "source": [
        "df_vacinacao[['vacina_nome','vacina_fabricante_nome']].value_counts()"
      ],
      "execution_count": null,
      "outputs": [
        {
          "output_type": "execute_result",
          "data": {
            "text/plain": [
              "vacina_nome                                                vacina_fabricante_nome          \n",
              "Covid-19-Coronavac-Sinovac/Butantan                        Sinovac                             1297758\n",
              "                                                           FUNDACAO BUTANTAN                    921139\n",
              "Vacina Covid-19 - Covishield                               AstraZeneca/Oxford                   671479\n",
              "                                                           FUNDACAO OSWALDO CRUZ                427321\n",
              "                                                           University of Oxford/AstraZeneca      67106\n",
              "Covid-19-Coronavac-Sinovac/Butantan                        Butantan/Sinovac                      52875\n",
              "                                                           SERUM INSTITUTE OF INDIA LTD          41844\n",
              "Vacina Covid-19 - Covishield                               SINOVAC LIFE SCIENCE CO LTD           18022\n",
              "Covid-19-Coronavac-Sinovac/Butantan                        FUNDACAO OSWALDO CRUZ                    84\n",
              "Vacina covid-19 - BNT162b2 - BioNTech/Fosun Pharma/Pfizer  BioNTech/Fosun Pharma/Pfizer             12\n",
              "dtype: int64"
            ]
          },
          "metadata": {
            "tags": []
          },
          "execution_count": 19
        }
      ]
    },
    {
      "cell_type": "code",
      "metadata": {
        "id": "ZUAEBBY1k5N1",
        "colab": {
          "base_uri": "https://localhost:8080/"
        },
        "outputId": "3317ea60-4e55-4b2a-9e06-741307d38a22"
      },
      "source": [
        "# Quantitativo Total de Vacinados por Sexo Biológico\n",
        "df_vacinacao['paciente_enumSexoBiologico'].value_counts()"
      ],
      "execution_count": null,
      "outputs": [
        {
          "output_type": "execute_result",
          "data": {
            "text/plain": [
              "F    2357778\n",
              "M    1140056\n",
              "I          6\n",
              "Name: paciente_enumSexoBiologico, dtype: int64"
            ]
          },
          "metadata": {
            "tags": []
          },
          "execution_count": 21
        }
      ]
    },
    {
      "cell_type": "code",
      "metadata": {
        "id": "fTXlNq2J3k6d",
        "colab": {
          "base_uri": "https://localhost:8080/",
          "height": 292
        },
        "outputId": "3406bc79-c6c5-4381-eb5d-1cc6de1373cd"
      },
      "source": [
        "# Quantitativo Total de Vacinados por Sexo Biológico\n",
        "df_vacinacao['paciente_enumSexoBiologico'].value_counts().plot.bar()"
      ],
      "execution_count": null,
      "outputs": [
        {
          "output_type": "execute_result",
          "data": {
            "text/plain": [
              "<matplotlib.axes._subplots.AxesSubplot at 0x7f0be2b55650>"
            ]
          },
          "metadata": {
            "tags": []
          },
          "execution_count": 57
        },
        {
          "output_type": "display_data",
          "data": {
            "image/png": "[encoded data removed]",
            "text/plain": [
              "<Figure size 432x288 with 1 Axes>"
            ]
          },
          "metadata": {
            "tags": [],
            "needs_background": "light"
          }
        }
      ]
    },
    {
      "cell_type": "code",
      "metadata": {
        "id": "YJUr3iY0mDkW",
        "colab": {
          "base_uri": "https://localhost:8080/"
        },
        "outputId": "a684d958-6c9e-41fd-fd3f-7d865f4f25ef"
      },
      "source": [
        "# Quantitativo Total de Vacinados por Raça\n",
        "\n",
        "df_vacinacao['paciente_racaCor_valor'].value_counts()"
      ],
      "execution_count": null,
      "outputs": [
        {
          "output_type": "execute_result",
          "data": {
            "text/plain": [
              "BRANCA            1369710\n",
              "SEM INFORMACAO    1115435\n",
              "PARDA              508551\n",
              "AMARELA            314209\n",
              "PRETA              129471\n",
              "INDIGENA            60464\n",
              "Name: paciente_racaCor_valor, dtype: int64"
            ]
          },
          "metadata": {
            "tags": []
          },
          "execution_count": 23
        }
      ]
    },
    {
      "cell_type": "code",
      "metadata": {
        "id": "_oOwSBqQnPuC",
        "colab": {
          "base_uri": "https://localhost:8080/",
          "height": 375
        },
        "outputId": "1dd7c937-0e9d-49ac-f164-9bd5f175698b"
      },
      "source": [
        "df_vacinacao['paciente_racaCor_valor'].value_counts().plot.bar()"
      ],
      "execution_count": null,
      "outputs": [
        {
          "output_type": "execute_result",
          "data": {
            "text/plain": [
              "<matplotlib.axes._subplots.AxesSubplot at 0x7f38a5bf0a90>"
            ]
          },
          "metadata": {
            "tags": []
          },
          "execution_count": 54
        },
        {
          "output_type": "display_data",
          "data": {
            "image/png": "[encoded data removed]",
            "text/plain": [
              "<Figure size 432x288 with 1 Axes>"
            ]
          },
          "metadata": {
            "tags": [],
            "needs_background": "light"
          }
        }
      ]
    },
    {
      "cell_type": "code",
      "metadata": {
        "id": "7edj_qIDIhGv",
        "colab": {
          "base_uri": "https://localhost:8080/"
        },
        "outputId": "971fde60-f852-47da-d3a1-04904d3c6487"
      },
      "source": [
        "# Quantitativo Total de Vacinados por Nome da Vacina\n",
        "df_vacinacao['vacina_nome'].value_counts()"
      ],
      "execution_count": null,
      "outputs": [
        {
          "output_type": "execute_result",
          "data": {
            "text/plain": [
              "Covid-19-Coronavac-Sinovac/Butantan                          2313900\n",
              "Vacina Covid-19 - Covishield                                 1183928\n",
              "Vacina covid-19 - BNT162b2 - BioNTech/Fosun Pharma/Pfizer         12\n",
              "Name: vacina_nome, dtype: int64"
            ]
          },
          "metadata": {
            "tags": []
          },
          "execution_count": 24
        }
      ]
    },
    {
      "cell_type": "code",
      "metadata": {
        "id": "MDLQEazbIvxO",
        "colab": {
          "base_uri": "https://localhost:8080/",
          "height": 585
        },
        "outputId": "0664079c-3558-41a2-85f8-c5d24d20ad70"
      },
      "source": [
        "df_vacinacao['vacina_nome'].value_counts().plot.bar()"
      ],
      "execution_count": null,
      "outputs": [
        {
          "output_type": "execute_result",
          "data": {
            "text/plain": [
              "<matplotlib.axes._subplots.AxesSubplot at 0x7f0b641c4d50>"
            ]
          },
          "metadata": {
            "tags": []
          },
          "execution_count": 25
        },
        {
          "output_type": "display_data",
          "data": {
            "image/png": "[encoded data removed]",
            "text/plain": [
              "<Figure size 432x288 with 1 Axes>"
            ]
          },
          "metadata": {
            "tags": [],
            "needs_background": "light"
          }
        }
      ]
    },
    {
      "cell_type": "code",
      "metadata": {
        "id": "UlUDZReNszpA",
        "colab": {
          "base_uri": "https://localhost:8080/"
        },
        "outputId": "0973a03c-b867-4803-ec86-115c82d3d7d0"
      },
      "source": [
        "# Quantitativo Total de Vacinados por Categoria\n",
        "\n",
        "df_vacinacao['vacina_categoria_nome'].value_counts()"
      ],
      "execution_count": null,
      "outputs": [
        {
          "output_type": "execute_result",
          "data": {
            "text/plain": [
              "Trabalhadores de Saúde                             1937488\n",
              "Faixa Etária                                       1343770\n",
              "Povos Indígenas                                      85177\n",
              "Pessoas de 60 anos ou mais institucionalizadas       69791\n",
              "Pessoas com Deficiência                               8485\n",
              "Povos e Comunidades Tradicionais                      7141\n",
              "Forças de Segurança e Salvamento                      1291\n",
              "Comorbidades                                           852\n",
              "Pessoas em Situação de Rua                             218\n",
              "Forças Armadas (membros ativos)                        183\n",
              "Trabalhadores da Educação                              147\n",
              "Funcionário do Sistema de Privação de Liberdade         98\n",
              "População Privada de Liberdade                          34\n",
              "Trabalhadores Industriais                               24\n",
              "Trabalhadores Portuários                                 6\n",
              "Name: vacina_categoria_nome, dtype: int64"
            ]
          },
          "metadata": {
            "tags": []
          },
          "execution_count": 26
        }
      ]
    },
    {
      "cell_type": "code",
      "metadata": {
        "id": "BUmyuQwXs0hX",
        "colab": {
          "base_uri": "https://localhost:8080/",
          "height": 530
        },
        "outputId": "a4590090-d212-4d40-8480-e6c9f138ec6c"
      },
      "source": [
        "df_vacinacao['vacina_categoria_nome'].value_counts().plot.bar()"
      ],
      "execution_count": null,
      "outputs": [
        {
          "output_type": "execute_result",
          "data": {
            "text/plain": [
              "<matplotlib.axes._subplots.AxesSubplot at 0x7f0b64753b50>"
            ]
          },
          "metadata": {
            "tags": []
          },
          "execution_count": 27
        },
        {
          "output_type": "display_data",
          "data": {
            "image/png": "[encoded data removed]",
            "text/plain": [
              "<Figure size 432x288 with 1 Axes>"
            ]
          },
          "metadata": {
            "tags": [],
            "needs_background": "light"
          }
        }
      ]
    },
    {
      "cell_type": "markdown",
      "metadata": {
        "id": "JEa8-YJNn2V5"
      },
      "source": [
        "##Teste inicial de gráfico"
      ]
    },
    {
      "cell_type": "code",
      "metadata": {
        "id": "VOUyaaQjlQ7k",
        "colab": {
          "base_uri": "https://localhost:8080/",
          "height": 296
        },
        "outputId": "c8a916c6-b684-4df1-e5db-7e705cc941ff"
      },
      "source": [
        "# Plot 'Idade' variable in a histogram\n",
        "\n",
        "pd.DataFrame.hist(df_vacinacao[['paciente_idade']])\n",
        "\n",
        "plt.xlabel('paciente_idade (years)')\n",
        "\n",
        "plt.ylabel('count')\n",
        "\n",
        "plt.show()"
      ],
      "execution_count": null,
      "outputs": [
        {
          "output_type": "display_data",
          "data": {
            "image/png": "[encoded data removed]",
            "text/plain": [
              "<Figure size 432x288 with 1 Axes>"
            ]
          },
          "metadata": {
            "tags": [],
            "needs_background": "light"
          }
        }
      ]
    },
    {
      "cell_type": "code",
      "metadata": {
        "id": "kHWnND62GGpP",
        "colab": {
          "base_uri": "https://localhost:8080/",
          "height": 330
        },
        "outputId": "7569279b-81b0-4e8d-f5de-e981a4b045bb"
      },
      "source": [
        "# Teste de Histograma com outros parâmetros\n",
        "\n",
        "tamanho = len(df_vacinacao['paciente_idade'])\n",
        "print(tamanho)\n",
        "cl = int(round(tamanho**(1/2),0))\n",
        "print(cl)\n",
        "plt.xlabel('paciente_idade (years)')\n",
        "plt.ylabel('count')\n",
        "plt.hist(df_vacinacao['paciente_idade'], bins = cl, range = (min(df_vacinacao['paciente_idade']), max(df_vacinacao['paciente_idade'])), alpha = 0.6, color = 'b')\n",
        "plt.tight_layout()\n",
        "plt.show()\n"
      ],
      "execution_count": null,
      "outputs": [
        {
          "output_type": "stream",
          "text": [
            "3497840\n",
            "1870\n"
          ],
          "name": "stdout"
        },
        {
          "output_type": "display_data",
          "data": {
            "image/png": "[encoded data removed]",
            "text/plain": [
              "<Figure size 432x288 with 1 Axes>"
            ]
          },
          "metadata": {
            "tags": [],
            "needs_background": "light"
          }
        }
      ]
    },
    {
      "cell_type": "markdown",
      "metadata": {
        "id": "wDhQAv0Fnrjj"
      },
      "source": [
        ""
      ]
    },
    {
      "cell_type": "markdown",
      "metadata": {
        "id": "8shZ0BHsnGHv"
      },
      "source": [
        "## Importação e tratamento do Dataset de Estabelecimentos de Saúde (CNES)"
      ]
    },
    {
      "cell_type": "code",
      "metadata": {
        "id": "bRA784AdH7WU"
      },
      "source": [
        "# Salve o dataset de CNES no diretório TESI_FCD no Google Drive\n",
        "# Para tornar o notebook reutilizável, futuramente pode-se solicitar o diretório e o nome do dataset via prompt.\n",
        "\n",
        "df_cnes = pd.read_csv('/content/drive/My Drive/TESI_FCD/cnes_ativonone.csv',delimiter=',')"
      ],
      "execution_count": null,
      "outputs": []
    },
    {
      "cell_type": "markdown",
      "metadata": {
        "id": "ia_ML5clHZ9m"
      },
      "source": [
        "### Exploração inicial do DataSet de Estabelecimentos de Saúde (CNES)"
      ]
    },
    {
      "cell_type": "code",
      "metadata": {
        "id": "jXDoabhOKo1i"
      },
      "source": [
        "# Código reprodutível\n",
        "# assert len(df_cnes) == 354804"
      ],
      "execution_count": null,
      "outputs": []
    },
    {
      "cell_type": "code",
      "metadata": {
        "colab": {
          "base_uri": "https://localhost:8080/"
        },
        "id": "-cF3STChI86E",
        "outputId": "8c52fc2f-2bbf-46fb-beb4-f9650749371d"
      },
      "source": [
        "print('Total de registros:',len(df_cnes))    # Quantidade de registros do dataset\n",
        "print('')\n",
        "print(df_cnes.info())                        # Informações sobre o dataset \n",
        "\n",
        "# Observe o total de linhas e o total de colunas (12) do dataset"
      ],
      "execution_count": null,
      "outputs": [
        {
          "output_type": "stream",
          "text": [
            "Total de registros: 354804\n",
            "\n",
            "<class 'pandas.core.frame.DataFrame'>\n",
            "RangeIndex: 354804 entries, 0 to 354803\n",
            "Data columns (total 12 columns):\n",
            " #   Column           Non-Null Count   Dtype \n",
            "---  ------           --------------   ----- \n",
            " 0   co_cnes          354804 non-null  int64 \n",
            " 1   co_ibge          354804 non-null  int64 \n",
            " 2   no_fantasia      354796 non-null  object\n",
            " 3   ds_tipo_unidade  354804 non-null  object\n",
            " 4   tp_gestao        354804 non-null  object\n",
            " 5   no_logradouro    354804 non-null  object\n",
            " 6   nu_endereco      354517 non-null  object\n",
            " 7   no_bairro        354801 non-null  object\n",
            " 8   co_cep           354804 non-null  int64 \n",
            " 9   uf               354434 non-null  object\n",
            " 10  municipio        354434 non-null  object\n",
            " 11  nu_telefone      279394 non-null  object\n",
            "dtypes: int64(3), object(9)\n",
            "memory usage: 32.5+ MB\n",
            "None\n"
          ],
          "name": "stdout"
        }
      ]
    },
    {
      "cell_type": "code",
      "metadata": {
        "colab": {
          "base_uri": "https://localhost:8080/",
          "height": 545
        },
        "id": "LiqEod5FI92L",
        "outputId": "1dc7e0a6-8370-4347-92b1-4f502bb135d5"
      },
      "source": [
        "df_cnes.head(10)        # Visualização dos registros iniciais"
      ],
      "execution_count": null,
      "outputs": [
        {
          "output_type": "execute_result",
          "data": {
            "text/html": [
              "<div>\n",
              "<style scoped>\n",
              "    .dataframe tbody tr th:only-of-type {\n",
              "        vertical-align: middle;\n",
              "    }\n",
              "\n",
              "    .dataframe tbody tr th {\n",
              "        vertical-align: top;\n",
              "    }\n",
              "\n",
              "    .dataframe thead th {\n",
              "        text-align: right;\n",
              "    }\n",
              "</style>\n",
              "<table border=\"1\" class=\"dataframe\">\n",
              "  <thead>\n",
              "    <tr style=\"text-align: right;\">\n",
              "      <th></th>\n",
              "      <th>co_cnes</th>\n",
              "      <th>co_ibge</th>\n",
              "      <th>no_fantasia</th>\n",
              "      <th>ds_tipo_unidade</th>\n",
              "      <th>tp_gestao</th>\n",
              "      <th>no_logradouro</th>\n",
              "      <th>nu_endereco</th>\n",
              "      <th>no_bairro</th>\n",
              "      <th>co_cep</th>\n",
              "      <th>uf</th>\n",
              "      <th>municipio</th>\n",
              "      <th>nu_telefone</th>\n",
              "    </tr>\n",
              "  </thead>\n",
              "  <tbody>\n",
              "    <tr>\n",
              "      <th>0</th>\n",
              "      <td>6577687</td>\n",
              "      <td>292240</td>\n",
              "      <td>SECRETARIA DE SAUDE DE MUTUIPE</td>\n",
              "      <td>CENTRAL DE GESTAO EM SAUDE</td>\n",
              "      <td>M</td>\n",
              "      <td>RUA RUY BARBOSA</td>\n",
              "      <td>S/N</td>\n",
              "      <td>CENTRO</td>\n",
              "      <td>45480000</td>\n",
              "      <td>BA</td>\n",
              "      <td>Mutuípe</td>\n",
              "      <td>NaN</td>\n",
              "    </tr>\n",
              "    <tr>\n",
              "      <th>1</th>\n",
              "      <td>6578500</td>\n",
              "      <td>500210</td>\n",
              "      <td>REABILIT CONSULTORIO DE FISIOTERAPIA</td>\n",
              "      <td>CLINICA/CENTRO DE ESPECIALIDADE</td>\n",
              "      <td>M</td>\n",
              "      <td>ALMIRANTE BARROSO</td>\n",
              "      <td>S/N</td>\n",
              "      <td>CENTRO</td>\n",
              "      <td>79260000</td>\n",
              "      <td>MS</td>\n",
              "      <td>Bela Vista</td>\n",
              "      <td>NaN</td>\n",
              "    </tr>\n",
              "    <tr>\n",
              "      <th>2</th>\n",
              "      <td>6577725</td>\n",
              "      <td>355660</td>\n",
              "      <td>SECRETARIA MUNICIPAL DE SAUDE E HIGIENE DE VER...</td>\n",
              "      <td>CENTRAL DE GESTAO EM SAUDE</td>\n",
              "      <td>M</td>\n",
              "      <td>RUA PAULO GUERREIRO FRANCO</td>\n",
              "      <td>997</td>\n",
              "      <td>CENTRO</td>\n",
              "      <td>17560000</td>\n",
              "      <td>SP</td>\n",
              "      <td>Vera Cruz</td>\n",
              "      <td>NaN</td>\n",
              "    </tr>\n",
              "    <tr>\n",
              "      <th>3</th>\n",
              "      <td>6577733</td>\n",
              "      <td>355410</td>\n",
              "      <td>CONS SERGIO LUIZ TEIXEIRA M PERES</td>\n",
              "      <td>CONSULTORIO ISOLADO</td>\n",
              "      <td>M</td>\n",
              "      <td>PCA MONS SILVA BARROS</td>\n",
              "      <td>254</td>\n",
              "      <td>CENTRO</td>\n",
              "      <td>12020070</td>\n",
              "      <td>SP</td>\n",
              "      <td>Taubaté</td>\n",
              "      <td>36351489</td>\n",
              "    </tr>\n",
              "    <tr>\n",
              "      <th>4</th>\n",
              "      <td>6577768</td>\n",
              "      <td>410490</td>\n",
              "      <td>LABORATORIO DOFF SOTTA</td>\n",
              "      <td>UNIDADE DE APOIO DIAGNOSE E TERAPIA (SADT ISOL...</td>\n",
              "      <td>M</td>\n",
              "      <td>RUA DR JORGE XAVIER DA SILVA</td>\n",
              "      <td>1078</td>\n",
              "      <td>CENTRO</td>\n",
              "      <td>84165000</td>\n",
              "      <td>PR</td>\n",
              "      <td>Castro</td>\n",
              "      <td>3232-4854</td>\n",
              "    </tr>\n",
              "    <tr>\n",
              "      <th>5</th>\n",
              "      <td>6577806</td>\n",
              "      <td>420245</td>\n",
              "      <td>SAMU BOMBINHAS</td>\n",
              "      <td>UNIDADE MOVEL DE NIVEL PRE-HOSPITALAR NA AREA ...</td>\n",
              "      <td>M</td>\n",
              "      <td>RUA CACHALOTE</td>\n",
              "      <td>589</td>\n",
              "      <td>MORRINHOS</td>\n",
              "      <td>88215000</td>\n",
              "      <td>SC</td>\n",
              "      <td>Bombinhas</td>\n",
              "      <td>33934363</td>\n",
              "    </tr>\n",
              "    <tr>\n",
              "      <th>6</th>\n",
              "      <td>6577830</td>\n",
              "      <td>240260</td>\n",
              "      <td>CENTRO DE ATENCAO PSICOSSOCIAL CAPS II</td>\n",
              "      <td>CENTRO DE ATENCAO PSICOSSOCIAL</td>\n",
              "      <td>M</td>\n",
              "      <td>RUA POETISA DOLORES</td>\n",
              "      <td>13</td>\n",
              "      <td>CENTRO</td>\n",
              "      <td>59570000</td>\n",
              "      <td>RN</td>\n",
              "      <td>Ceará-Mirim</td>\n",
              "      <td>(84)3274-5914</td>\n",
              "    </tr>\n",
              "    <tr>\n",
              "      <th>7</th>\n",
              "      <td>6577865</td>\n",
              "      <td>315960</td>\n",
              "      <td>DIMENSAO CLINICA MEDICA</td>\n",
              "      <td>UNIDADE DE APOIO DIAGNOSE E TERAPIA (SADT ISOL...</td>\n",
              "      <td>M</td>\n",
              "      <td>RUA CEL GABRIEL CAPISTRANO</td>\n",
              "      <td>256</td>\n",
              "      <td>CENTRO</td>\n",
              "      <td>37540000</td>\n",
              "      <td>MG</td>\n",
              "      <td>Santa Rita do Sapucaí</td>\n",
              "      <td>3534713531</td>\n",
              "    </tr>\n",
              "    <tr>\n",
              "      <th>8</th>\n",
              "      <td>6577873</td>\n",
              "      <td>355670</td>\n",
              "      <td>JULIANA PEREIRA PERSI</td>\n",
              "      <td>UNIDADE DE APOIO DIAGNOSE E TERAPIA (SADT ISOL...</td>\n",
              "      <td>M</td>\n",
              "      <td>RUA ROCINHA</td>\n",
              "      <td>213</td>\n",
              "      <td>CAPELA</td>\n",
              "      <td>13280000</td>\n",
              "      <td>SP</td>\n",
              "      <td>Vinhedo</td>\n",
              "      <td>38764932</td>\n",
              "    </tr>\n",
              "    <tr>\n",
              "      <th>9</th>\n",
              "      <td>6577881</td>\n",
              "      <td>231330</td>\n",
              "      <td>CENTRAL DE CONSULTORIOS</td>\n",
              "      <td>CLINICA/CENTRO DE ESPECIALIDADE</td>\n",
              "      <td>M</td>\n",
              "      <td>RUA MAFISA CIDRAO ROCHA</td>\n",
              "      <td>63</td>\n",
              "      <td>CENTRO</td>\n",
              "      <td>63660000</td>\n",
              "      <td>CE</td>\n",
              "      <td>Tauá</td>\n",
              "      <td>88-34371097</td>\n",
              "    </tr>\n",
              "  </tbody>\n",
              "</table>\n",
              "</div>"
            ],
            "text/plain": [
              "   co_cnes  co_ibge  ...              municipio    nu_telefone\n",
              "0  6577687   292240  ...                Mutuípe            NaN\n",
              "1  6578500   500210  ...             Bela Vista            NaN\n",
              "2  6577725   355660  ...              Vera Cruz            NaN\n",
              "3  6577733   355410  ...                Taubaté       36351489\n",
              "4  6577768   410490  ...                 Castro      3232-4854\n",
              "5  6577806   420245  ...              Bombinhas       33934363\n",
              "6  6577830   240260  ...            Ceará-Mirim  (84)3274-5914\n",
              "7  6577865   315960  ...  Santa Rita do Sapucaí     3534713531\n",
              "8  6577873   355670  ...                Vinhedo       38764932\n",
              "9  6577881   231330  ...                   Tauá    88-34371097\n",
              "\n",
              "[10 rows x 12 columns]"
            ]
          },
          "metadata": {
            "tags": []
          },
          "execution_count": 63
        }
      ]
    },
    {
      "cell_type": "code",
      "metadata": {
        "id": "hEe987vXKWsX",
        "colab": {
          "base_uri": "https://localhost:8080/"
        },
        "outputId": "e56a7dc5-608b-4fb4-df78-17c0e28fe993"
      },
      "source": [
        "df_cnes.columns"
      ],
      "execution_count": null,
      "outputs": [
        {
          "output_type": "execute_result",
          "data": {
            "text/plain": [
              "Index(['co_cnes', 'co_ibge', 'no_fantasia', 'ds_tipo_unidade', 'tp_gestao',\n",
              "       'no_logradouro', 'nu_endereco', 'no_bairro', 'co_cep', 'uf',\n",
              "       'municipio', 'nu_telefone'],\n",
              "      dtype='object')"
            ]
          },
          "metadata": {
            "tags": []
          },
          "execution_count": 33
        }
      ]
    },
    {
      "cell_type": "code",
      "metadata": {
        "id": "Ogk5UKFKwqU2",
        "colab": {
          "base_uri": "https://localhost:8080/"
        },
        "outputId": "bede3213-4522-40a5-f805-4e775766a48d"
      },
      "source": [
        "# Análise inicial dos tipos de estabelecimentos de saúde\n",
        "df_cnes['ds_tipo_unidade'].value_counts()"
      ],
      "execution_count": null,
      "outputs": [
        {
          "output_type": "execute_result",
          "data": {
            "text/plain": [
              "CONSULTORIO ISOLADO                                             175140\n",
              "CLINICA/CENTRO DE ESPECIALIDADE                                  52766\n",
              "CENTRO DE SAUDE/UNIDADE BASICA                                   38998\n",
              "UNIDADE DE APOIO DIAGNOSE E TERAPIA (SADT ISOLADO)               27067\n",
              "POSTO DE SAUDE                                                   11345\n",
              "POLICLINICA                                                       8457\n",
              "CENTRAL DE GESTAO EM SAUDE                                        6059\n",
              "HOSPITAL GERAL                                                    5752\n",
              "UNIDADE MOVEL DE NIVEL PRE-HOSPITALAR NA AREA DE URGENCIA         4703\n",
              "FARMACIA                                                          3213\n",
              "CENTRO DE ATENCAO PSICOSSOCIAL                                    3065\n",
              "UNIDADE DE VIGILANCIA EM SAUDE                                    3005\n",
              "POLO ACADEMIA DA SAUDE                                            2523\n",
              "UNIDADE MOVEL TERRESTRE                                           1460\n",
              "PRONTO ATENDIMENTO                                                1248\n",
              "CENTRAL DE REGULACAO DO ACESSO                                    1243\n",
              "HOSPITAL ESPECIALIZADO                                            1234\n",
              "CENTRO DE APOIO A SAUDE DA FAMILIA                                1171\n",
              "UNIDADE DE ATENCAO A SAUDE INDIGENA                               1106\n",
              "HOSPITAL/DIA - ISOLADO                                             718\n",
              "UNIDADE MISTA                                                      706\n",
              "SERVICO DE ATENCAO DOMICILIAR ISOLADO(HOME CARE)                   681\n",
              "COOPERATIVA OU EMPRESA DE CESSAO DE TRABALHADORES NA SAUDE         633\n",
              "PRONTO SOCORRO GERAL                                               453\n",
              "LABORATORIO DE SAUDE PUBLICA                                       417\n",
              "CENTRO DE ATENCAO HEMOTERAPIA E OU HEMATOLOGICA                    395\n",
              "POLO DE PREVENCAO DE DOENCAS E AGRAVOS E PROMOCAO DA SAUDE         328\n",
              "CENTRAL DE REGULACAO MEDICA DAS URGENCIAS                          239\n",
              "CENTRAL DE REGULACAO DE SERVICOS DE SAUDE                          142\n",
              "CENTRAL DE NOTIFICACAO,CAPTACAO E DISTRIB DE ORGAOS ESTADUAL       131\n",
              "PRONTO SOCORRO ESPECIALIZADO                                       129\n",
              "TELESSAUDE                                                          86\n",
              "UNIDADE MOVEL FLUVIAL                                               59\n",
              "LABORATORIO CENTRAL DE SAUDE PUBLICA LACEN                          38\n",
              "UNIDADE DE ATENCAO EM REGIME RESIDENCIAL                            34\n",
              "CENTRO DE PARTO NORMAL - ISOLADO                                    33\n",
              "OFICINA ORTOPEDICA                                                  27\n",
              "Name: ds_tipo_unidade, dtype: int64"
            ]
          },
          "metadata": {
            "tags": []
          },
          "execution_count": 34
        }
      ]
    },
    {
      "cell_type": "markdown",
      "metadata": {
        "id": "ExtEdNtiIfvm"
      },
      "source": [
        "### Eliminação de colunas e linhas que não serão utilizadas - Dataset Estabelecimentos de Saúde (CNES)"
      ]
    },
    {
      "cell_type": "code",
      "metadata": {
        "id": "b_ubDfWOIrDv"
      },
      "source": [
        "# Eliminação das colunas que não serão utilizadas nas análises\n",
        "\n",
        "df_cnes = df_cnes.drop(['co_ibge','no_logradouro','nu_endereco','no_bairro','co_cep', 'municipio','nu_telefone'],axis=1)"
      ],
      "execution_count": null,
      "outputs": []
    },
    {
      "cell_type": "code",
      "metadata": {
        "id": "YROJoA_cJ-nk"
      },
      "source": [
        "# Como o dataset possui dados de todo o Brasil, os estados que não pertencem às regiões selecionadas para análise serão eliminados do dataframe\n",
        "df_cnes = df_cnes.loc[(df_cnes['uf'].isin(UFs))]"
      ],
      "execution_count": null,
      "outputs": []
    },
    {
      "cell_type": "code",
      "metadata": {
        "id": "MwVu6SxyLVKu"
      },
      "source": [
        "# Código reprodutível\n",
        "# assert len(df_cnes) == 181213"
      ],
      "execution_count": null,
      "outputs": []
    },
    {
      "cell_type": "code",
      "metadata": {
        "id": "ry6r5GIG1fLD",
        "colab": {
          "base_uri": "https://localhost:8080/"
        },
        "outputId": "d4417a6e-f57e-4506-9f39-a37c3560b4d5"
      },
      "source": [
        "print('Total de registros:',len(df_cnes))    # Quantidade de registros do dataset após eliminação de linhas\n",
        "print('')\n",
        "print(df_cnes.info())                        # Informações sobre o dataset \n",
        "\n",
        "## É possível observar a redução do número total de linhas e do número total de colunas (5) do dataset"
      ],
      "execution_count": null,
      "outputs": [
        {
          "output_type": "stream",
          "text": [
            "Total de registros: 183257\n",
            "\n",
            "<class 'pandas.core.frame.DataFrame'>\n",
            "Int64Index: 183257 entries, 2 to 354803\n",
            "Data columns (total 5 columns):\n",
            " #   Column           Non-Null Count   Dtype \n",
            "---  ------           --------------   ----- \n",
            " 0   co_cnes          183257 non-null  int64 \n",
            " 1   no_fantasia      183252 non-null  object\n",
            " 2   ds_tipo_unidade  183257 non-null  object\n",
            " 3   tp_gestao        183257 non-null  object\n",
            " 4   uf               183257 non-null  object\n",
            "dtypes: int64(1), object(4)\n",
            "memory usage: 8.4+ MB\n",
            "None\n"
          ],
          "name": "stdout"
        }
      ]
    },
    {
      "cell_type": "markdown",
      "metadata": {
        "id": "m_rIE38A3_HW"
      },
      "source": [
        "### Tratamento de valores nulos e/ou faltantes"
      ]
    },
    {
      "cell_type": "code",
      "metadata": {
        "colab": {
          "base_uri": "https://localhost:8080/"
        },
        "id": "ZOYUlLJDI-2L",
        "outputId": "a0c25e2d-9fa5-4a61-a783-6e6de6f4dbff"
      },
      "source": [
        "df_cnes.count()        # Quantidade de registros por coluna. \n",
        "                      # É possível observar que algumas colunas possuem quatidade inferior de registros, o que indica que será necessário \n",
        "                      #    tratamento de dados se essas colunas forem necessárias para análise"
      ],
      "execution_count": null,
      "outputs": [
        {
          "output_type": "execute_result",
          "data": {
            "text/plain": [
              "co_cnes            183257\n",
              "no_fantasia        183252\n",
              "ds_tipo_unidade    183257\n",
              "tp_gestao          183257\n",
              "uf                 183257\n",
              "dtype: int64"
            ]
          },
          "metadata": {
            "tags": []
          },
          "execution_count": 38
        }
      ]
    },
    {
      "cell_type": "code",
      "metadata": {
        "id": "mOTm7ozFAo5N"
      },
      "source": [
        "# falta incluir tratamento de nulos e valores faltantes"
      ],
      "execution_count": null,
      "outputs": []
    },
    {
      "cell_type": "markdown",
      "metadata": {
        "id": "69v9jq914B4d"
      },
      "source": [
        "### Identificação e tratamento de valores duplicados"
      ]
    },
    {
      "cell_type": "code",
      "metadata": {
        "id": "EwVCie5zAqLx"
      },
      "source": [
        "#Lista todos os registros em que o \"co_cnes\" apareça mais de 2 vezes\n",
        "duplicados_CNESmais2 = df_cnes[df_cnes['co_cnes'].isin(df_cnes['co_cnes'].value_counts()[df_cnes['co_cnes'].value_counts()>2].index)].sort_values(by=[\"co_cnes\"])"
      ],
      "execution_count": null,
      "outputs": []
    },
    {
      "cell_type": "code",
      "metadata": {
        "id": "HgcpfIToBMyJ",
        "colab": {
          "base_uri": "https://localhost:8080/",
          "height": 64
        },
        "outputId": "413ae076-c1ac-4702-bc22-5c574b00597d"
      },
      "source": [
        "# Quantos são os que tem mais de dois registros duplicados e listagem dos primeiros casos\n",
        "print(len(duplicados_CNESmais2))\n",
        "duplicados_CNESmais2.head(10)"
      ],
      "execution_count": null,
      "outputs": [
        {
          "output_type": "stream",
          "text": [
            "0\n"
          ],
          "name": "stdout"
        },
        {
          "output_type": "execute_result",
          "data": {
            "text/html": [
              "<div>\n",
              "<style scoped>\n",
              "    .dataframe tbody tr th:only-of-type {\n",
              "        vertical-align: middle;\n",
              "    }\n",
              "\n",
              "    .dataframe tbody tr th {\n",
              "        vertical-align: top;\n",
              "    }\n",
              "\n",
              "    .dataframe thead th {\n",
              "        text-align: right;\n",
              "    }\n",
              "</style>\n",
              "<table border=\"1\" class=\"dataframe\">\n",
              "  <thead>\n",
              "    <tr style=\"text-align: right;\">\n",
              "      <th></th>\n",
              "      <th>co_cnes</th>\n",
              "      <th>no_fantasia</th>\n",
              "      <th>ds_tipo_unidade</th>\n",
              "      <th>tp_gestao</th>\n",
              "      <th>uf</th>\n",
              "    </tr>\n",
              "  </thead>\n",
              "  <tbody>\n",
              "  </tbody>\n",
              "</table>\n",
              "</div>"
            ],
            "text/plain": [
              "Empty DataFrame\n",
              "Columns: [co_cnes, no_fantasia, ds_tipo_unidade, tp_gestao, uf]\n",
              "Index: []"
            ]
          },
          "metadata": {
            "tags": []
          },
          "execution_count": 40
        }
      ]
    },
    {
      "cell_type": "code",
      "metadata": {
        "id": "Q_Hef8ANBNfq",
        "colab": {
          "base_uri": "https://localhost:8080/"
        },
        "outputId": "27f2fe2a-7a1d-40b0-a7ac-e61e30a2367c"
      },
      "source": [
        "# Pra garantir que não existe duplicidade será feito mais esse teste\n",
        "\n",
        "# Verifica quantos registros contém o campo 'co_cnes' em duplicidade\n",
        "# Não considera a primeira ocorrência como duplicada\n",
        "df_cnes.duplicated(subset=['co_cnes']).value_counts()"
      ],
      "execution_count": null,
      "outputs": [
        {
          "output_type": "execute_result",
          "data": {
            "text/plain": [
              "False    183257\n",
              "dtype: int64"
            ]
          },
          "metadata": {
            "tags": []
          },
          "execution_count": 41
        }
      ]
    },
    {
      "cell_type": "code",
      "metadata": {
        "id": "0K46dk5WBQGn"
      },
      "source": [
        ""
      ],
      "execution_count": null,
      "outputs": []
    },
    {
      "cell_type": "markdown",
      "metadata": {
        "id": "bofYVY_GJvsu"
      },
      "source": [
        "## Merge entre os dataFrames de Vacinação e CNES"
      ]
    },
    {
      "cell_type": "code",
      "metadata": {
        "id": "8e0ySi35KXpH"
      },
      "source": [
        "df_merge = pd.merge(df_vacinacao, df_cnes, on=None, left_on='estabelecimento_valor', right_on='co_cnes')"
      ],
      "execution_count": null,
      "outputs": []
    },
    {
      "cell_type": "code",
      "metadata": {
        "id": "-QgFf-tHKY_7",
        "colab": {
          "base_uri": "https://localhost:8080/"
        },
        "outputId": "3c6b7d6e-d1fc-42f0-e4d6-de98f4382ad2"
      },
      "source": [
        "print(df_merge)"
      ],
      "execution_count": null,
      "outputs": [
        {
          "output_type": "stream",
          "text": [
            "                                       document_id  ...  uf\n",
            "0        62e8806f-e2d0-4372-9b47-1dc359a67bc1-i0b0  ...  SP\n",
            "1        27823b35-e19f-4a4c-afe2-544eb0d03502-i0b0  ...  SP\n",
            "2        3812181a-cc29-4e1f-bf95-f2d0064ad839-i0b0  ...  SP\n",
            "3        0e929adc-effd-4a5e-bac8-b1674a2b1461-i0b0  ...  SP\n",
            "4        82887c20-0bda-438e-985e-61555b15f7eb-i0b0  ...  SP\n",
            "...                                            ...  ...  ..\n",
            "3382287  a3dd3bd4-8aaf-4789-9651-4d8e700c3f09-i0b0  ...  PA\n",
            "3382288  3029db2c-2fc1-477a-a47e-890837556c22-i0b0  ...  MG\n",
            "3382289  d2be60d4-d45c-450f-8f6b-0d935a662948-i0b0  ...  SP\n",
            "3382290  761da6be-0732-4f5d-a8c1-11019238b4d6-i0b0  ...  MG\n",
            "3382291  bd46ee1e-1628-4102-b40b-441da132d8fc-i0b0  ...  SP\n",
            "\n",
            "[3382292 rows x 32 columns]\n"
          ],
          "name": "stdout"
        }
      ]
    },
    {
      "cell_type": "code",
      "metadata": {
        "id": "9taiBmL6fBLk"
      },
      "source": [
        "# Criação do dataframe da região sudeste\n",
        "df_sudeste = df_merge.query('paciente_endereco_uf in [\"ES\", \"MG\", \"RJ\", \"SP\"]')"
      ],
      "execution_count": null,
      "outputs": []
    },
    {
      "cell_type": "code",
      "metadata": {
        "id": "f-Vk0uT3Huoj",
        "colab": {
          "base_uri": "https://localhost:8080/"
        },
        "outputId": "cd938eed-bcc4-4771-dc6a-afa07df9d6e3"
      },
      "source": [
        "df_sudeste.count()"
      ],
      "execution_count": null,
      "outputs": [
        {
          "output_type": "execute_result",
          "data": {
            "text/plain": [
              "document_id                                 2815804\n",
              "paciente_id                                 2815804\n",
              "paciente_idade                              2815804\n",
              "paciente_dataNascimento                     2815804\n",
              "paciente_enumSexoBiologico                  2815804\n",
              "paciente_racaCor_codigo                     2815804\n",
              "paciente_racaCor_valor                      2815804\n",
              "paciente_endereco_coIbgeMunicipio           2815804\n",
              "paciente_endereco_coPais                    2815804\n",
              "paciente_endereco_nmMunicipio               2815804\n",
              "paciente_endereco_nmPais                    2815804\n",
              "paciente_endereco_uf                        2815804\n",
              "paciente_nacionalidade_enumNacionalidade    2811997\n",
              "estabelecimento_valor                       2815804\n",
              "estabelecimento_municipio_codigo            2815804\n",
              "estabelecimento_municipio_nome              2815804\n",
              "estabelecimento_uf                          2815804\n",
              "vacina_grupoAtendimento_codigo              2815804\n",
              "vacina_grupoAtendimento_nome                2788036\n",
              "vacina_categoria_codigo                     2788036\n",
              "vacina_categoria_nome                       2788036\n",
              "vacina_fabricante_nome                      2815612\n",
              "vacina_dataAplicacao                        2815804\n",
              "vacina_descricao_dose                       2815804\n",
              "vacina_nome                                 2815804\n",
              "data_importacao_rnds                        2815804\n",
              "paciente_vacinado_fora_mun                  2815804\n",
              "co_cnes                                     2815804\n",
              "no_fantasia                                 2815804\n",
              "ds_tipo_unidade                             2815804\n",
              "tp_gestao                                   2815804\n",
              "uf                                          2815804\n",
              "dtype: int64"
            ]
          },
          "metadata": {
            "tags": []
          },
          "execution_count": 45
        }
      ]
    },
    {
      "cell_type": "code",
      "metadata": {
        "id": "KToBPyJfkyeE",
        "colab": {
          "base_uri": "https://localhost:8080/",
          "height": 1000
        },
        "outputId": "0a0c7f29-3e2f-447d-9b37-450964463a2a"
      },
      "source": [
        "df_sudeste"
      ],
      "execution_count": null,
      "outputs": [
        {
          "output_type": "execute_result",
          "data": {
            "text/html": [
              "<div>\n",
              "<style scoped>\n",
              "    .dataframe tbody tr th:only-of-type {\n",
              "        vertical-align: middle;\n",
              "    }\n",
              "\n",
              "    .dataframe tbody tr th {\n",
              "        vertical-align: top;\n",
              "    }\n",
              "\n",
              "    .dataframe thead th {\n",
              "        text-align: right;\n",
              "    }\n",
              "</style>\n",
              "<table border=\"1\" class=\"dataframe\">\n",
              "  <thead>\n",
              "    <tr style=\"text-align: right;\">\n",
              "      <th></th>\n",
              "      <th>document_id</th>\n",
              "      <th>paciente_id</th>\n",
              "      <th>paciente_idade</th>\n",
              "      <th>paciente_dataNascimento</th>\n",
              "      <th>paciente_enumSexoBiologico</th>\n",
              "      <th>paciente_racaCor_codigo</th>\n",
              "      <th>paciente_racaCor_valor</th>\n",
              "      <th>paciente_endereco_coIbgeMunicipio</th>\n",
              "      <th>paciente_endereco_coPais</th>\n",
              "      <th>paciente_endereco_nmMunicipio</th>\n",
              "      <th>paciente_endereco_nmPais</th>\n",
              "      <th>paciente_endereco_uf</th>\n",
              "      <th>paciente_nacionalidade_enumNacionalidade</th>\n",
              "      <th>estabelecimento_valor</th>\n",
              "      <th>estabelecimento_municipio_codigo</th>\n",
              "      <th>estabelecimento_municipio_nome</th>\n",
              "      <th>estabelecimento_uf</th>\n",
              "      <th>vacina_grupoAtendimento_codigo</th>\n",
              "      <th>vacina_grupoAtendimento_nome</th>\n",
              "      <th>vacina_categoria_codigo</th>\n",
              "      <th>vacina_categoria_nome</th>\n",
              "      <th>vacina_fabricante_nome</th>\n",
              "      <th>vacina_dataAplicacao</th>\n",
              "      <th>vacina_descricao_dose</th>\n",
              "      <th>vacina_nome</th>\n",
              "      <th>data_importacao_rnds</th>\n",
              "      <th>paciente_vacinado_fora_mun</th>\n",
              "      <th>co_cnes</th>\n",
              "      <th>no_fantasia</th>\n",
              "      <th>ds_tipo_unidade</th>\n",
              "      <th>tp_gestao</th>\n",
              "      <th>uf</th>\n",
              "    </tr>\n",
              "  </thead>\n",
              "  <tbody>\n",
              "    <tr>\n",
              "      <th>0</th>\n",
              "      <td>62e8806f-e2d0-4372-9b47-1dc359a67bc1-i0b0</td>\n",
              "      <td>000000e609b2d587d14a6982d7e276dc37de728627d216...</td>\n",
              "      <td>29.0</td>\n",
              "      <td>1991-06-04</td>\n",
              "      <td>F</td>\n",
              "      <td>1.0</td>\n",
              "      <td>BRANCA</td>\n",
              "      <td>352900.0</td>\n",
              "      <td>10.0</td>\n",
              "      <td>MARILIA</td>\n",
              "      <td>BRASIL</td>\n",
              "      <td>SP</td>\n",
              "      <td>B</td>\n",
              "      <td>2082772</td>\n",
              "      <td>352900.0</td>\n",
              "      <td>MARILIA</td>\n",
              "      <td>SP</td>\n",
              "      <td>926</td>\n",
              "      <td>Outros</td>\n",
              "      <td>9.0</td>\n",
              "      <td>Trabalhadores de Saúde</td>\n",
              "      <td>AstraZeneca/Oxford</td>\n",
              "      <td>2021-01-30T00:00:00.000Z</td>\n",
              "      <td>1ª Dose</td>\n",
              "      <td>Vacina Covid-19 - Covishield</td>\n",
              "      <td>2021-01-30 06:01:35</td>\n",
              "      <td>False</td>\n",
              "      <td>2082772</td>\n",
              "      <td>UBS CASCATA</td>\n",
              "      <td>CENTRO DE SAUDE/UNIDADE BASICA</td>\n",
              "      <td>M</td>\n",
              "      <td>SP</td>\n",
              "    </tr>\n",
              "    <tr>\n",
              "      <th>1</th>\n",
              "      <td>27823b35-e19f-4a4c-afe2-544eb0d03502-i0b0</td>\n",
              "      <td>000163bbe1300e28300dd46372ed912713b9c92fcfdff2...</td>\n",
              "      <td>55.0</td>\n",
              "      <td>1965-11-15</td>\n",
              "      <td>F</td>\n",
              "      <td>1.0</td>\n",
              "      <td>BRANCA</td>\n",
              "      <td>352900.0</td>\n",
              "      <td>10.0</td>\n",
              "      <td>MARILIA</td>\n",
              "      <td>BRASIL</td>\n",
              "      <td>SP</td>\n",
              "      <td>B</td>\n",
              "      <td>2082772</td>\n",
              "      <td>352900.0</td>\n",
              "      <td>MARILIA</td>\n",
              "      <td>SP</td>\n",
              "      <td>926</td>\n",
              "      <td>Outros</td>\n",
              "      <td>9.0</td>\n",
              "      <td>Trabalhadores de Saúde</td>\n",
              "      <td>Sinovac</td>\n",
              "      <td>2021-02-06T00:00:00.000Z</td>\n",
              "      <td>1ª Dose</td>\n",
              "      <td>Covid-19-Coronavac-Sinovac/Butantan</td>\n",
              "      <td>2021-02-06 04:02:45</td>\n",
              "      <td>False</td>\n",
              "      <td>2082772</td>\n",
              "      <td>UBS CASCATA</td>\n",
              "      <td>CENTRO DE SAUDE/UNIDADE BASICA</td>\n",
              "      <td>M</td>\n",
              "      <td>SP</td>\n",
              "    </tr>\n",
              "    <tr>\n",
              "      <th>2</th>\n",
              "      <td>3812181a-cc29-4e1f-bf95-f2d0064ad839-i0b0</td>\n",
              "      <td>002797709cb773dc3ff535aaf6a2e4dd23a70e40a78c2c...</td>\n",
              "      <td>33.0</td>\n",
              "      <td>1987-04-19</td>\n",
              "      <td>F</td>\n",
              "      <td>1.0</td>\n",
              "      <td>BRANCA</td>\n",
              "      <td>352900.0</td>\n",
              "      <td>10.0</td>\n",
              "      <td>MARILIA</td>\n",
              "      <td>BRASIL</td>\n",
              "      <td>SP</td>\n",
              "      <td>B</td>\n",
              "      <td>2082772</td>\n",
              "      <td>352900.0</td>\n",
              "      <td>MARILIA</td>\n",
              "      <td>SP</td>\n",
              "      <td>926</td>\n",
              "      <td>Outros</td>\n",
              "      <td>9.0</td>\n",
              "      <td>Trabalhadores de Saúde</td>\n",
              "      <td>Sinovac</td>\n",
              "      <td>2021-02-13T00:00:00.000Z</td>\n",
              "      <td>1ª Dose</td>\n",
              "      <td>Covid-19-Coronavac-Sinovac/Butantan</td>\n",
              "      <td>2021-02-13 13:02:16</td>\n",
              "      <td>False</td>\n",
              "      <td>2082772</td>\n",
              "      <td>UBS CASCATA</td>\n",
              "      <td>CENTRO DE SAUDE/UNIDADE BASICA</td>\n",
              "      <td>M</td>\n",
              "      <td>SP</td>\n",
              "    </tr>\n",
              "    <tr>\n",
              "      <th>3</th>\n",
              "      <td>0e929adc-effd-4a5e-bac8-b1674a2b1461-i0b0</td>\n",
              "      <td>0048972b9942f71f09b60ab718f14339d24e44255015f5...</td>\n",
              "      <td>58.0</td>\n",
              "      <td>1962-08-03</td>\n",
              "      <td>M</td>\n",
              "      <td>99.0</td>\n",
              "      <td>SEM INFORMACAO</td>\n",
              "      <td>352900.0</td>\n",
              "      <td>10.0</td>\n",
              "      <td>MARILIA</td>\n",
              "      <td>BRASIL</td>\n",
              "      <td>SP</td>\n",
              "      <td>B</td>\n",
              "      <td>2082772</td>\n",
              "      <td>352900.0</td>\n",
              "      <td>MARILIA</td>\n",
              "      <td>SP</td>\n",
              "      <td>926</td>\n",
              "      <td>Outros</td>\n",
              "      <td>9.0</td>\n",
              "      <td>Trabalhadores de Saúde</td>\n",
              "      <td>Sinovac</td>\n",
              "      <td>2021-02-11T00:00:00.000Z</td>\n",
              "      <td>1ª Dose</td>\n",
              "      <td>Covid-19-Coronavac-Sinovac/Butantan</td>\n",
              "      <td>2021-02-11 06:02:54</td>\n",
              "      <td>False</td>\n",
              "      <td>2082772</td>\n",
              "      <td>UBS CASCATA</td>\n",
              "      <td>CENTRO DE SAUDE/UNIDADE BASICA</td>\n",
              "      <td>M</td>\n",
              "      <td>SP</td>\n",
              "    </tr>\n",
              "    <tr>\n",
              "      <th>4</th>\n",
              "      <td>82887c20-0bda-438e-985e-61555b15f7eb-i0b0</td>\n",
              "      <td>006b61c9a133d493743e624dd17e1cc7a8ec45a73f9d49...</td>\n",
              "      <td>37.0</td>\n",
              "      <td>1983-04-26</td>\n",
              "      <td>F</td>\n",
              "      <td>1.0</td>\n",
              "      <td>BRANCA</td>\n",
              "      <td>352680.0</td>\n",
              "      <td>10.0</td>\n",
              "      <td>LENCOIS PAULISTA</td>\n",
              "      <td>BRASIL</td>\n",
              "      <td>SP</td>\n",
              "      <td>B</td>\n",
              "      <td>2082772</td>\n",
              "      <td>352900.0</td>\n",
              "      <td>MARILIA</td>\n",
              "      <td>SP</td>\n",
              "      <td>926</td>\n",
              "      <td>Outros</td>\n",
              "      <td>9.0</td>\n",
              "      <td>Trabalhadores de Saúde</td>\n",
              "      <td>Sinovac</td>\n",
              "      <td>2021-02-13T00:00:00.000Z</td>\n",
              "      <td>1ª Dose</td>\n",
              "      <td>Covid-19-Coronavac-Sinovac/Butantan</td>\n",
              "      <td>2021-02-13 14:02:24</td>\n",
              "      <td>True</td>\n",
              "      <td>2082772</td>\n",
              "      <td>UBS CASCATA</td>\n",
              "      <td>CENTRO DE SAUDE/UNIDADE BASICA</td>\n",
              "      <td>M</td>\n",
              "      <td>SP</td>\n",
              "    </tr>\n",
              "    <tr>\n",
              "      <th>...</th>\n",
              "      <td>...</td>\n",
              "      <td>...</td>\n",
              "      <td>...</td>\n",
              "      <td>...</td>\n",
              "      <td>...</td>\n",
              "      <td>...</td>\n",
              "      <td>...</td>\n",
              "      <td>...</td>\n",
              "      <td>...</td>\n",
              "      <td>...</td>\n",
              "      <td>...</td>\n",
              "      <td>...</td>\n",
              "      <td>...</td>\n",
              "      <td>...</td>\n",
              "      <td>...</td>\n",
              "      <td>...</td>\n",
              "      <td>...</td>\n",
              "      <td>...</td>\n",
              "      <td>...</td>\n",
              "      <td>...</td>\n",
              "      <td>...</td>\n",
              "      <td>...</td>\n",
              "      <td>...</td>\n",
              "      <td>...</td>\n",
              "      <td>...</td>\n",
              "      <td>...</td>\n",
              "      <td>...</td>\n",
              "      <td>...</td>\n",
              "      <td>...</td>\n",
              "      <td>...</td>\n",
              "      <td>...</td>\n",
              "      <td>...</td>\n",
              "    </tr>\n",
              "    <tr>\n",
              "      <th>3382286</th>\n",
              "      <td>c4e2163d-c00f-4e1d-ac8b-d9321dcb9557-i0b0</td>\n",
              "      <td>f740d8c741f78b60472e1ce9528556ed4bd7e5418b9548...</td>\n",
              "      <td>50.0</td>\n",
              "      <td>1970-05-11</td>\n",
              "      <td>F</td>\n",
              "      <td>1.0</td>\n",
              "      <td>BRANCA</td>\n",
              "      <td>330630.0</td>\n",
              "      <td>10.0</td>\n",
              "      <td>VOLTA REDONDA</td>\n",
              "      <td>BRASIL</td>\n",
              "      <td>RJ</td>\n",
              "      <td>B</td>\n",
              "      <td>2074672</td>\n",
              "      <td>350315.0</td>\n",
              "      <td>ARAPEI</td>\n",
              "      <td>SP</td>\n",
              "      <td>926</td>\n",
              "      <td>Outros</td>\n",
              "      <td>9.0</td>\n",
              "      <td>Trabalhadores de Saúde</td>\n",
              "      <td>Sinovac</td>\n",
              "      <td>2021-01-21T00:00:00.000Z</td>\n",
              "      <td>1ª Dose</td>\n",
              "      <td>Covid-19-Coronavac-Sinovac/Butantan</td>\n",
              "      <td>2021-01-21 07:01:40</td>\n",
              "      <td>True</td>\n",
              "      <td>2074672</td>\n",
              "      <td>UNIDADE BASICA DE SAUDE DE ARAPEI DR HAROLDO V...</td>\n",
              "      <td>CENTRO DE SAUDE/UNIDADE BASICA</td>\n",
              "      <td>M</td>\n",
              "      <td>SP</td>\n",
              "    </tr>\n",
              "    <tr>\n",
              "      <th>3382288</th>\n",
              "      <td>3029db2c-2fc1-477a-a47e-890837556c22-i0b0</td>\n",
              "      <td>fa4ce5506acc064ac80f257006e8a9dbfebf4ccc663f19...</td>\n",
              "      <td>92.0</td>\n",
              "      <td>1928-10-28</td>\n",
              "      <td>F</td>\n",
              "      <td>99.0</td>\n",
              "      <td>SEM INFORMACAO</td>\n",
              "      <td>312770.0</td>\n",
              "      <td>10.0</td>\n",
              "      <td>GOVERNADOR VALADARES</td>\n",
              "      <td>BRASIL</td>\n",
              "      <td>MG</td>\n",
              "      <td>B</td>\n",
              "      <td>2119021</td>\n",
              "      <td>312770.0</td>\n",
              "      <td>GOVERNADOR VALADARES</td>\n",
              "      <td>MG</td>\n",
              "      <td>205</td>\n",
              "      <td>Pessoas de 80 anos ou mais</td>\n",
              "      <td>2.0</td>\n",
              "      <td>Faixa Etária</td>\n",
              "      <td>FUNDACAO BUTANTAN</td>\n",
              "      <td>2021-02-10T03:00:00.000Z</td>\n",
              "      <td>1ª Dose</td>\n",
              "      <td>Covid-19-Coronavac-Sinovac/Butantan</td>\n",
              "      <td>2021-02-24 19:09:36</td>\n",
              "      <td>False</td>\n",
              "      <td>2119021</td>\n",
              "      <td>ESF TURMALINA I</td>\n",
              "      <td>CENTRO DE SAUDE/UNIDADE BASICA</td>\n",
              "      <td>M</td>\n",
              "      <td>MG</td>\n",
              "    </tr>\n",
              "    <tr>\n",
              "      <th>3382289</th>\n",
              "      <td>d2be60d4-d45c-450f-8f6b-0d935a662948-i0b0</td>\n",
              "      <td>fb2aebbcc9f972fb360ca478c71e99cb39e20382afac87...</td>\n",
              "      <td>40.0</td>\n",
              "      <td>1980-06-19</td>\n",
              "      <td>F</td>\n",
              "      <td>1.0</td>\n",
              "      <td>BRANCA</td>\n",
              "      <td>351490.0</td>\n",
              "      <td>10.0</td>\n",
              "      <td>ELIAS FAUSTO</td>\n",
              "      <td>BRASIL</td>\n",
              "      <td>SP</td>\n",
              "      <td>B</td>\n",
              "      <td>6829821</td>\n",
              "      <td>351040.0</td>\n",
              "      <td>CAPIVARI</td>\n",
              "      <td>SP</td>\n",
              "      <td>926</td>\n",
              "      <td>Outros</td>\n",
              "      <td>9.0</td>\n",
              "      <td>Trabalhadores de Saúde</td>\n",
              "      <td>Sinovac</td>\n",
              "      <td>2021-02-09T00:00:00.000Z</td>\n",
              "      <td>1ª Dose</td>\n",
              "      <td>Covid-19-Coronavac-Sinovac/Butantan</td>\n",
              "      <td>2021-02-09 15:02:00</td>\n",
              "      <td>True</td>\n",
              "      <td>6829821</td>\n",
              "      <td>UBS SANTA RITA CAPIVARI</td>\n",
              "      <td>CENTRO DE SAUDE/UNIDADE BASICA</td>\n",
              "      <td>M</td>\n",
              "      <td>SP</td>\n",
              "    </tr>\n",
              "    <tr>\n",
              "      <th>3382290</th>\n",
              "      <td>761da6be-0732-4f5d-a8c1-11019238b4d6-i0b0</td>\n",
              "      <td>fda6a75710d653a583b0624e71107f03c4b875b240a99e...</td>\n",
              "      <td>95.0</td>\n",
              "      <td>1925-08-03</td>\n",
              "      <td>F</td>\n",
              "      <td>1.0</td>\n",
              "      <td>BRANCA</td>\n",
              "      <td>313020.0</td>\n",
              "      <td>10.0</td>\n",
              "      <td>IGARATINGA</td>\n",
              "      <td>BRASIL</td>\n",
              "      <td>MG</td>\n",
              "      <td>B</td>\n",
              "      <td>2183323</td>\n",
              "      <td>313020.0</td>\n",
              "      <td>IGARATINGA</td>\n",
              "      <td>MG</td>\n",
              "      <td>205</td>\n",
              "      <td>Pessoas de 80 anos ou mais</td>\n",
              "      <td>2.0</td>\n",
              "      <td>Faixa Etária</td>\n",
              "      <td>FUNDACAO BUTANTAN</td>\n",
              "      <td>2021-02-12T03:00:00.000Z</td>\n",
              "      <td>1ª Dose</td>\n",
              "      <td>Covid-19-Coronavac-Sinovac/Butantan</td>\n",
              "      <td>2021-02-26 12:38:11</td>\n",
              "      <td>False</td>\n",
              "      <td>2183323</td>\n",
              "      <td>PSF GERALDO FERREIRA LIMA</td>\n",
              "      <td>CENTRO DE SAUDE/UNIDADE BASICA</td>\n",
              "      <td>M</td>\n",
              "      <td>MG</td>\n",
              "    </tr>\n",
              "    <tr>\n",
              "      <th>3382291</th>\n",
              "      <td>bd46ee1e-1628-4102-b40b-441da132d8fc-i0b0</td>\n",
              "      <td>ff3d1dc91b7a3a6e3ff39da0494d540428a7bf96b74e6e...</td>\n",
              "      <td>86.0</td>\n",
              "      <td>1934-09-14</td>\n",
              "      <td>M</td>\n",
              "      <td>4.0</td>\n",
              "      <td>AMARELA</td>\n",
              "      <td>350790.0</td>\n",
              "      <td>10.0</td>\n",
              "      <td>BROTAS</td>\n",
              "      <td>BRASIL</td>\n",
              "      <td>SP</td>\n",
              "      <td>B</td>\n",
              "      <td>3003477</td>\n",
              "      <td>350790.0</td>\n",
              "      <td>BROTAS</td>\n",
              "      <td>SP</td>\n",
              "      <td>205</td>\n",
              "      <td>Pessoas de 80 anos ou mais</td>\n",
              "      <td>2.0</td>\n",
              "      <td>Faixa Etária</td>\n",
              "      <td>Sinovac</td>\n",
              "      <td>2021-02-15T00:00:00.000Z</td>\n",
              "      <td>1ª Dose</td>\n",
              "      <td>Covid-19-Coronavac-Sinovac/Butantan</td>\n",
              "      <td>2021-02-15 11:02:15</td>\n",
              "      <td>False</td>\n",
              "      <td>3003477</td>\n",
              "      <td>PSF PIERINA R SALVIATTO DE BROTAS</td>\n",
              "      <td>CENTRO DE SAUDE/UNIDADE BASICA</td>\n",
              "      <td>M</td>\n",
              "      <td>SP</td>\n",
              "    </tr>\n",
              "  </tbody>\n",
              "</table>\n",
              "<p>2815804 rows × 32 columns</p>\n",
              "</div>"
            ],
            "text/plain": [
              "                                       document_id  ...  uf\n",
              "0        62e8806f-e2d0-4372-9b47-1dc359a67bc1-i0b0  ...  SP\n",
              "1        27823b35-e19f-4a4c-afe2-544eb0d03502-i0b0  ...  SP\n",
              "2        3812181a-cc29-4e1f-bf95-f2d0064ad839-i0b0  ...  SP\n",
              "3        0e929adc-effd-4a5e-bac8-b1674a2b1461-i0b0  ...  SP\n",
              "4        82887c20-0bda-438e-985e-61555b15f7eb-i0b0  ...  SP\n",
              "...                                            ...  ...  ..\n",
              "3382286  c4e2163d-c00f-4e1d-ac8b-d9321dcb9557-i0b0  ...  SP\n",
              "3382288  3029db2c-2fc1-477a-a47e-890837556c22-i0b0  ...  MG\n",
              "3382289  d2be60d4-d45c-450f-8f6b-0d935a662948-i0b0  ...  SP\n",
              "3382290  761da6be-0732-4f5d-a8c1-11019238b4d6-i0b0  ...  MG\n",
              "3382291  bd46ee1e-1628-4102-b40b-441da132d8fc-i0b0  ...  SP\n",
              "\n",
              "[2815804 rows x 32 columns]"
            ]
          },
          "metadata": {
            "tags": []
          },
          "execution_count": 46
        }
      ]
    },
    {
      "cell_type": "code",
      "metadata": {
        "colab": {
          "base_uri": "https://localhost:8080/"
        },
        "id": "skLo2Anygp8h",
        "outputId": "924b15ff-4b63-418a-960b-cba6c0eeb605"
      },
      "source": [
        "# Total de vacinados por UF na região sudeste\n",
        "df_sudeste['paciente_endereco_uf'].value_counts()"
      ],
      "execution_count": null,
      "outputs": [
        {
          "output_type": "execute_result",
          "data": {
            "text/plain": [
              "SP    1857518\n",
              "MG     452495\n",
              "RJ     395395\n",
              "ES     110396\n",
              "Name: paciente_endereco_uf, dtype: int64"
            ]
          },
          "metadata": {
            "tags": []
          },
          "execution_count": 49
        }
      ]
    },
    {
      "cell_type": "code",
      "metadata": {
        "id": "tGREOlYNyz2n",
        "colab": {
          "base_uri": "https://localhost:8080/",
          "height": 300
        },
        "outputId": "26f3c2aa-9c15-48d6-b97b-7f299c9e34df"
      },
      "source": [
        "# Total de vacinados por UF na região sudeste - gráfico\n",
        "df_sudeste['paciente_endereco_uf'].value_counts().plot.bar()"
      ],
      "execution_count": null,
      "outputs": [
        {
          "output_type": "execute_result",
          "data": {
            "text/plain": [
              "<matplotlib.axes._subplots.AxesSubplot at 0x7f0bd8e09290>"
            ]
          },
          "metadata": {
            "tags": []
          },
          "execution_count": 50
        },
        {
          "output_type": "display_data",
          "data": {
            "image/png": "[encoded data removed]",
            "text/plain": [
              "<Figure size 432x288 with 1 Axes>"
            ]
          },
          "metadata": {
            "tags": [],
            "needs_background": "light"
          }
        }
      ]
    },
    {
      "cell_type": "code",
      "metadata": {
        "id": "F_NxPBXeqJ7Z",
        "colab": {
          "base_uri": "https://localhost:8080/"
        },
        "outputId": "bdc9f6ec-7d42-4a8a-901b-247f90cf3244"
      },
      "source": [
        "# Total de vacinados da região sudeste por categoria\n",
        "df_sudeste['vacina_categoria_nome'].value_counts()"
      ],
      "execution_count": null,
      "outputs": [
        {
          "output_type": "execute_result",
          "data": {
            "text/plain": [
              "Trabalhadores de Saúde                             1578420\n",
              "Faixa Etária                                       1124603\n",
              "Pessoas de 60 anos ou mais institucionalizadas       59915\n",
              "Povos Indígenas                                       9600\n",
              "Pessoas com Deficiência                               7762\n",
              "Povos e Comunidades Tradicionais                      6015\n",
              "Forças de Segurança e Salvamento                       609\n",
              "Comorbidades                                           539\n",
              "Pessoas em Situação de Rua                             204\n",
              "Forças Armadas (membros ativos)                        163\n",
              "Trabalhadores da Educação                              119\n",
              "Funcionário do Sistema de Privação de Liberdade         57\n",
              "Trabalhadores Industriais                               23\n",
              "Trabalhadores Portuários                                 4\n",
              "População Privada de Liberdade                           3\n",
              "Name: vacina_categoria_nome, dtype: int64"
            ]
          },
          "metadata": {
            "tags": []
          },
          "execution_count": 61
        }
      ]
    },
    {
      "cell_type": "code",
      "metadata": {
        "id": "hgVTbLeH5YdO",
        "colab": {
          "base_uri": "https://localhost:8080/",
          "height": 530
        },
        "outputId": "c195ca73-4266-4779-a40c-6fa93e3b7a42"
      },
      "source": [
        "# Total de vacinados da região sudeste por categoria - gráfico\n",
        "df_sudeste['vacina_categoria_nome'].value_counts().plot.bar()"
      ],
      "execution_count": null,
      "outputs": [
        {
          "output_type": "execute_result",
          "data": {
            "text/plain": [
              "<matplotlib.axes._subplots.AxesSubplot at 0x7f0be2b6bd90>"
            ]
          },
          "metadata": {
            "tags": []
          },
          "execution_count": 62
        },
        {
          "output_type": "display_data",
          "data": {
            "image/png": "[encoded data removed]",
            "text/plain": [
              "<Figure size 432x288 with 1 Axes>"
            ]
          },
          "metadata": {
            "tags": [],
            "needs_background": "light"
          }
        }
      ]
    },
    {
      "cell_type": "code",
      "metadata": {
        "id": "n80boUmV5pRu",
        "colab": {
          "base_uri": "https://localhost:8080/"
        },
        "outputId": "048bfd02-cef7-47b8-8a70-d26a46da93da"
      },
      "source": [
        "# Quantitativo de Vacinados por Sexo Biológico\n",
        "df_sudeste['paciente_enumSexoBiologico'].value_counts()"
      ],
      "execution_count": null,
      "outputs": [
        {
          "output_type": "execute_result",
          "data": {
            "text/plain": [
              "F    1937729\n",
              "M     878069\n",
              "I          6\n",
              "Name: paciente_enumSexoBiologico, dtype: int64"
            ]
          },
          "metadata": {
            "tags": []
          },
          "execution_count": 63
        }
      ]
    },
    {
      "cell_type": "code",
      "metadata": {
        "id": "ucChyOOi5qPC",
        "colab": {
          "base_uri": "https://localhost:8080/",
          "height": 292
        },
        "outputId": "45f70a25-6fb2-4575-c39b-4359480598c9"
      },
      "source": [
        "# Quantitativo de Vacinados por Sexo Biológico - gráfico\n",
        "df_sudeste['paciente_enumSexoBiologico'].value_counts().plot.bar()"
      ],
      "execution_count": null,
      "outputs": [
        {
          "output_type": "execute_result",
          "data": {
            "text/plain": [
              "<matplotlib.axes._subplots.AxesSubplot at 0x7f0be2501b50>"
            ]
          },
          "metadata": {
            "tags": []
          },
          "execution_count": 64
        },
        {
          "output_type": "display_data",
          "data": {
            "image/png": "[encoded data removed]",
            "text/plain": [
              "<Figure size 432x288 with 1 Axes>"
            ]
          },
          "metadata": {
            "tags": [],
            "needs_background": "light"
          }
        }
      ]
    },
    {
      "cell_type": "code",
      "metadata": {
        "id": "UdKTZUy36PZ9",
        "colab": {
          "base_uri": "https://localhost:8080/"
        },
        "outputId": "fd8494ce-724f-4cf9-f6f7-e53ff01f5537"
      },
      "source": [
        "# Quantitativo de Vacinados por Raça\n",
        "df_sudeste['paciente_racaCor_valor'].value_counts()"
      ],
      "execution_count": null,
      "outputs": [
        {
          "output_type": "execute_result",
          "data": {
            "text/plain": [
              "BRANCA            1247233\n",
              "SEM INFORMACAO     955954\n",
              "PARDA              296829\n",
              "AMARELA            195292\n",
              "PRETA              111572\n",
              "INDIGENA             8924\n",
              "Name: paciente_racaCor_valor, dtype: int64"
            ]
          },
          "metadata": {
            "tags": []
          },
          "execution_count": 65
        }
      ]
    },
    {
      "cell_type": "code",
      "metadata": {
        "id": "CqAL8Myr6QG7",
        "colab": {
          "base_uri": "https://localhost:8080/",
          "height": 375
        },
        "outputId": "d0ae573e-9a90-4466-b298-dabf0a89ace0"
      },
      "source": [
        "# Quantitativo de Vacinados por Raça - gráfico\n",
        "df_sudeste['paciente_racaCor_valor'].value_counts().plot.bar()"
      ],
      "execution_count": null,
      "outputs": [
        {
          "output_type": "execute_result",
          "data": {
            "text/plain": [
              "<matplotlib.axes._subplots.AxesSubplot at 0x7f0be1e76790>"
            ]
          },
          "metadata": {
            "tags": []
          },
          "execution_count": 66
        },
        {
          "output_type": "display_data",
          "data": {
            "image/png": "[encoded data removed]",
            "text/plain": [
              "<Figure size 432x288 with 1 Axes>"
            ]
          },
          "metadata": {
            "tags": [],
            "needs_background": "light"
          }
        }
      ]
    },
    {
      "cell_type": "code",
      "metadata": {
        "id": "w-GoGR14689Y",
        "colab": {
          "base_uri": "https://localhost:8080/"
        },
        "outputId": "836287cd-fc2d-43c7-a34f-3825c672c645"
      },
      "source": [
        "# Quantitativo de Vacinados por Nome da Vacina\n",
        "df_sudeste['vacina_nome'].value_counts()"
      ],
      "execution_count": null,
      "outputs": [
        {
          "output_type": "execute_result",
          "data": {
            "text/plain": [
              "Covid-19-Coronavac-Sinovac/Butantan                          1859833\n",
              "Vacina Covid-19 - Covishield                                  955961\n",
              "Vacina covid-19 - BNT162b2 - BioNTech/Fosun Pharma/Pfizer         10\n",
              "Name: vacina_nome, dtype: int64"
            ]
          },
          "metadata": {
            "tags": []
          },
          "execution_count": 71
        }
      ]
    },
    {
      "cell_type": "code",
      "metadata": {
        "id": "OPbp_6cK69wf",
        "colab": {
          "base_uri": "https://localhost:8080/",
          "height": 585
        },
        "outputId": "7c9f5ec6-24d3-4654-8682-9bc843f933f1"
      },
      "source": [
        "# Quantitativo de Vacinados por Nome da Vacina - gráfico\n",
        "df_sudeste['vacina_nome'].value_counts().plot.bar()"
      ],
      "execution_count": null,
      "outputs": [
        {
          "output_type": "execute_result",
          "data": {
            "text/plain": [
              "<matplotlib.axes._subplots.AxesSubplot at 0x7f0bd80b3fd0>"
            ]
          },
          "metadata": {
            "tags": []
          },
          "execution_count": 72
        },
        {
          "output_type": "display_data",
          "data": {
            "image/png": "[encoded data removed]",
            "text/plain": [
              "<Figure size 432x288 with 1 Axes>"
            ]
          },
          "metadata": {
            "tags": [],
            "needs_background": "light"
          }
        }
      ]
    },
    {
      "cell_type": "code",
      "metadata": {
        "id": "He-lYdyI8arK",
        "colab": {
          "base_uri": "https://localhost:8080/"
        },
        "outputId": "440e5c79-aac8-4bf4-8bdd-b75ca3b74ef0"
      },
      "source": [
        "# Quantitativo de Estabelecimentos de saúde por tipo de gestão (M - Municipal, E - Estadual, D - Dupla)\n",
        "df_sudeste['tp_gestao'].value_counts()"
      ],
      "execution_count": null,
      "outputs": [
        {
          "output_type": "execute_result",
          "data": {
            "text/plain": [
              "M    2549925\n",
              "E     159148\n",
              "D     106731\n",
              "Name: tp_gestao, dtype: int64"
            ]
          },
          "metadata": {
            "tags": []
          },
          "execution_count": 74
        }
      ]
    },
    {
      "cell_type": "code",
      "metadata": {
        "id": "9RwvyqYY8bwT",
        "colab": {
          "base_uri": "https://localhost:8080/",
          "height": 292
        },
        "outputId": "d8540e45-b51f-41ea-c41c-41fb2ea47f00"
      },
      "source": [
        "# Quantitativo de Estabelecimentos de saúde por tipo de gestão (M - Municipal, E - Estadual, D - Dupla) - gráfico\n",
        "df_sudeste['tp_gestao'].value_counts().plot.bar()"
      ],
      "execution_count": null,
      "outputs": [
        {
          "output_type": "execute_result",
          "data": {
            "text/plain": [
              "<matplotlib.axes._subplots.AxesSubplot at 0x7f0be17ae4d0>"
            ]
          },
          "metadata": {
            "tags": []
          },
          "execution_count": 76
        },
        {
          "output_type": "display_data",
          "data": {
            "image/png": "[encoded data removed]",
            "text/plain": [
              "<Figure size 432x288 with 1 Axes>"
            ]
          },
          "metadata": {
            "tags": [],
            "needs_background": "light"
          }
        }
      ]
    },
    {
      "cell_type": "code",
      "metadata": {
        "id": "DyTsS6ntAD7S",
        "colab": {
          "base_uri": "https://localhost:8080/"
        },
        "outputId": "b529d1d7-3db7-47a7-936a-f5558c16c11b"
      },
      "source": [
        "# Quantitativo de Estabelecimentos de saúde por tipo de unidade\n",
        "df_sudeste['ds_tipo_unidade'].value_counts()"
      ],
      "execution_count": null,
      "outputs": [
        {
          "output_type": "execute_result",
          "data": {
            "text/plain": [
              "CENTRO DE SAUDE/UNIDADE BASICA                                1970468\n",
              "HOSPITAL GERAL                                                 451351\n",
              "POLICLINICA                                                    104206\n",
              "POSTO DE SAUDE                                                  70595\n",
              "CLINICA/CENTRO DE ESPECIALIDADE                                 59941\n",
              "HOSPITAL ESPECIALIZADO                                          43231\n",
              "UNIDADE DE VIGILANCIA EM SAUDE                                  33221\n",
              "CENTRAL DE GESTAO EM SAUDE                                      26397\n",
              "PRONTO ATENDIMENTO                                              16781\n",
              "UNIDADE MOVEL TERRESTRE                                          8750\n",
              "PRONTO SOCORRO GERAL                                             6961\n",
              "UNIDADE DE APOIO DIAGNOSE E TERAPIA (SADT ISOLADO)               6815\n",
              "UNIDADE DE ATENCAO A SAUDE INDIGENA                              5988\n",
              "CENTRO DE ATENCAO HEMOTERAPIA E OU HEMATOLOGICA                  3443\n",
              "HOSPITAL/DIA - ISOLADO                                           1935\n",
              "UNIDADE MISTA                                                    1812\n",
              "CENTRO DE ATENCAO PSICOSSOCIAL                                   1295\n",
              "CONSULTORIO ISOLADO                                               971\n",
              "PRONTO SOCORRO ESPECIALIZADO                                      679\n",
              "LABORATORIO DE SAUDE PUBLICA                                      298\n",
              "UNIDADE MOVEL DE NIVEL PRE-HOSPITALAR NA AREA DE URGENCIA         214\n",
              "SERVICO DE ATENCAO DOMICILIAR ISOLADO(HOME CARE)                  197\n",
              "CENTRAL DE REGULACAO MEDICA DAS URGENCIAS                         174\n",
              "CENTRAL DE REGULACAO DO ACESSO                                     44\n",
              "FARMACIA                                                           21\n",
              "CENTRO DE PARTO NORMAL - ISOLADO                                   14\n",
              "POLO DE PREVENCAO DE DOENCAS E AGRAVOS E PROMOCAO DA SAUDE          1\n",
              "UNIDADE MOVEL FLUVIAL                                               1\n",
              "Name: ds_tipo_unidade, dtype: int64"
            ]
          },
          "metadata": {
            "tags": []
          },
          "execution_count": 77
        }
      ]
    },
    {
      "cell_type": "code",
      "metadata": {
        "id": "yIxRGtUWAEpH",
        "colab": {
          "base_uri": "https://localhost:8080/",
          "height": 648
        },
        "outputId": "2aeb3c7c-75c5-4aec-fb0c-412f5e78a72f"
      },
      "source": [
        "# Quantitativo de Estabelecimentos de saúde por tipo de unidade - gráfico\n",
        "df_sudeste['ds_tipo_unidade'].value_counts().plot.bar()"
      ],
      "execution_count": null,
      "outputs": [
        {
          "output_type": "execute_result",
          "data": {
            "text/plain": [
              "<matplotlib.axes._subplots.AxesSubplot at 0x7f0be111bdd0>"
            ]
          },
          "metadata": {
            "tags": []
          },
          "execution_count": 78
        },
        {
          "output_type": "display_data",
          "data": {
            "image/png": "[encoded data removed]",
            "text/plain": [
              "<Figure size 432x288 with 1 Axes>"
            ]
          },
          "metadata": {
            "tags": [],
            "needs_background": "light"
          }
        }
      ]
    },
    {
      "cell_type": "code",
      "metadata": {
        "id": "36D-Yo25HzeM",
        "colab": {
          "base_uri": "https://localhost:8080/"
        },
        "outputId": "d57a8091-1972-4c63-ea83-45e0f2e0772f"
      },
      "source": [
        "# Quantitativo de Vacinados por Idade\n",
        "df_sudeste['paciente_idade'].value_counts()"
      ],
      "execution_count": null,
      "outputs": [
        {
          "output_type": "execute_result",
          "data": {
            "text/plain": [
              "85.0     88889\n",
              "80.0     84558\n",
              "81.0     80013\n",
              "86.0     79568\n",
              "82.0     76195\n",
              "         ...  \n",
              "122.0        1\n",
              "123.0        1\n",
              "127.0        1\n",
              "128.0        1\n",
              "164.0        1\n",
              "Name: paciente_idade, Length: 128, dtype: int64"
            ]
          },
          "metadata": {
            "tags": []
          },
          "execution_count": 104
        }
      ]
    },
    {
      "cell_type": "code",
      "metadata": {
        "id": "vOFWvo1dH0lR",
        "colab": {
          "base_uri": "https://localhost:8080/",
          "height": 301
        },
        "outputId": "0e7dbd5e-1842-464c-9b76-414fb10b29dc"
      },
      "source": [
        "# Quantitativo de Vacinados por Idade - Alterar para outro tipo de grafico\n",
        "df_sudeste['paciente_idade'].value_counts().plot.bar()"
      ],
      "execution_count": null,
      "outputs": [
        {
          "output_type": "execute_result",
          "data": {
            "text/plain": [
              "<matplotlib.axes._subplots.AxesSubplot at 0x7f0bd6670210>"
            ]
          },
          "metadata": {
            "tags": []
          },
          "execution_count": 105
        },
        {
          "output_type": "display_data",
          "data": {
            "image/png": "[encoded data removed]",
            "text/plain": [
              "<Figure size 432x288 with 1 Axes>"
            ]
          },
          "metadata": {
            "tags": [],
            "needs_background": "light"
          }
        }
      ]
    },
    {
      "cell_type": "code",
      "metadata": {
        "id": "K-bBel_dsYAN",
        "colab": {
          "base_uri": "https://localhost:8080/",
          "height": 1000
        },
        "outputId": "b31ffa22-6a85-4732-98db-fcadfe793109"
      },
      "source": [
        "# Total de vacinados da região sudeste fora do seu estado de residência :(\n",
        "df_sudeste.query('paciente_endereco_uf != estabelecimento_uf')"
      ],
      "execution_count": null,
      "outputs": [
        {
          "output_type": "execute_result",
          "data": {
            "text/html": [
              "<div>\n",
              "<style scoped>\n",
              "    .dataframe tbody tr th:only-of-type {\n",
              "        vertical-align: middle;\n",
              "    }\n",
              "\n",
              "    .dataframe tbody tr th {\n",
              "        vertical-align: top;\n",
              "    }\n",
              "\n",
              "    .dataframe thead th {\n",
              "        text-align: right;\n",
              "    }\n",
              "</style>\n",
              "<table border=\"1\" class=\"dataframe\">\n",
              "  <thead>\n",
              "    <tr style=\"text-align: right;\">\n",
              "      <th></th>\n",
              "      <th>document_id</th>\n",
              "      <th>paciente_id</th>\n",
              "      <th>paciente_idade</th>\n",
              "      <th>paciente_dataNascimento</th>\n",
              "      <th>paciente_enumSexoBiologico</th>\n",
              "      <th>paciente_racaCor_codigo</th>\n",
              "      <th>paciente_racaCor_valor</th>\n",
              "      <th>paciente_endereco_coIbgeMunicipio</th>\n",
              "      <th>paciente_endereco_coPais</th>\n",
              "      <th>paciente_endereco_nmMunicipio</th>\n",
              "      <th>paciente_endereco_nmPais</th>\n",
              "      <th>paciente_endereco_uf</th>\n",
              "      <th>paciente_nacionalidade_enumNacionalidade</th>\n",
              "      <th>estabelecimento_valor</th>\n",
              "      <th>estabelecimento_municipio_codigo</th>\n",
              "      <th>estabelecimento_municipio_nome</th>\n",
              "      <th>estabelecimento_uf</th>\n",
              "      <th>vacina_grupoAtendimento_codigo</th>\n",
              "      <th>vacina_grupoAtendimento_nome</th>\n",
              "      <th>vacina_categoria_codigo</th>\n",
              "      <th>vacina_categoria_nome</th>\n",
              "      <th>vacina_fabricante_nome</th>\n",
              "      <th>vacina_dataAplicacao</th>\n",
              "      <th>vacina_descricao_dose</th>\n",
              "      <th>vacina_nome</th>\n",
              "      <th>data_importacao_rnds</th>\n",
              "      <th>paciente_vacinado_fora_mun</th>\n",
              "      <th>co_cnes</th>\n",
              "      <th>no_fantasia</th>\n",
              "      <th>ds_tipo_unidade</th>\n",
              "      <th>tp_gestao</th>\n",
              "      <th>uf</th>\n",
              "    </tr>\n",
              "  </thead>\n",
              "  <tbody>\n",
              "    <tr>\n",
              "      <th>353</th>\n",
              "      <td>a6e79060-0ab4-4eb7-8270-962057b68ca7-i0b0</td>\n",
              "      <td>0f47f165eff0c55cbb40d15ea445be38543a91f28d586e...</td>\n",
              "      <td>20.0</td>\n",
              "      <td>2000-04-22</td>\n",
              "      <td>F</td>\n",
              "      <td>1.0</td>\n",
              "      <td>BRANCA</td>\n",
              "      <td>314100.0</td>\n",
              "      <td>10.0</td>\n",
              "      <td>MATO VERDE</td>\n",
              "      <td>BRASIL</td>\n",
              "      <td>MG</td>\n",
              "      <td>B</td>\n",
              "      <td>2082772</td>\n",
              "      <td>352900.0</td>\n",
              "      <td>MARILIA</td>\n",
              "      <td>SP</td>\n",
              "      <td>926</td>\n",
              "      <td>Outros</td>\n",
              "      <td>9.0</td>\n",
              "      <td>Trabalhadores de Saúde</td>\n",
              "      <td>Sinovac</td>\n",
              "      <td>2021-02-06T00:00:00.000Z</td>\n",
              "      <td>1ª Dose</td>\n",
              "      <td>Covid-19-Coronavac-Sinovac/Butantan</td>\n",
              "      <td>2021-02-06 06:02:37</td>\n",
              "      <td>True</td>\n",
              "      <td>2082772</td>\n",
              "      <td>UBS CASCATA</td>\n",
              "      <td>CENTRO DE SAUDE/UNIDADE BASICA</td>\n",
              "      <td>M</td>\n",
              "      <td>SP</td>\n",
              "    </tr>\n",
              "    <tr>\n",
              "      <th>639</th>\n",
              "      <td>bb2bb81b-4493-46cf-acba-4e782e3cbcec-i0b0</td>\n",
              "      <td>1b401bd819a84b82014356639769ad904145e182321e8d...</td>\n",
              "      <td>39.0</td>\n",
              "      <td>1981-07-20</td>\n",
              "      <td>F</td>\n",
              "      <td>99.0</td>\n",
              "      <td>SEM INFORMACAO</td>\n",
              "      <td>310620.0</td>\n",
              "      <td>10.0</td>\n",
              "      <td>BELO HORIZONTE</td>\n",
              "      <td>BRASIL</td>\n",
              "      <td>MG</td>\n",
              "      <td>B</td>\n",
              "      <td>2082772</td>\n",
              "      <td>352900.0</td>\n",
              "      <td>MARILIA</td>\n",
              "      <td>SP</td>\n",
              "      <td>926</td>\n",
              "      <td>Outros</td>\n",
              "      <td>9.0</td>\n",
              "      <td>Trabalhadores de Saúde</td>\n",
              "      <td>AstraZeneca/Oxford</td>\n",
              "      <td>2021-01-30T00:00:00.000Z</td>\n",
              "      <td>1ª Dose</td>\n",
              "      <td>Vacina Covid-19 - Covishield</td>\n",
              "      <td>2021-01-30 11:01:44</td>\n",
              "      <td>True</td>\n",
              "      <td>2082772</td>\n",
              "      <td>UBS CASCATA</td>\n",
              "      <td>CENTRO DE SAUDE/UNIDADE BASICA</td>\n",
              "      <td>M</td>\n",
              "      <td>SP</td>\n",
              "    </tr>\n",
              "    <tr>\n",
              "      <th>708</th>\n",
              "      <td>08fbce36-138e-4001-b12f-45f48b3f7527-i0b0</td>\n",
              "      <td>1e715a81934c44f9383482d15843280a39404f22da6582...</td>\n",
              "      <td>27.0</td>\n",
              "      <td>1993-01-31</td>\n",
              "      <td>F</td>\n",
              "      <td>1.0</td>\n",
              "      <td>BRANCA</td>\n",
              "      <td>310620.0</td>\n",
              "      <td>10.0</td>\n",
              "      <td>BELO HORIZONTE</td>\n",
              "      <td>BRASIL</td>\n",
              "      <td>MG</td>\n",
              "      <td>B</td>\n",
              "      <td>2082772</td>\n",
              "      <td>352900.0</td>\n",
              "      <td>MARILIA</td>\n",
              "      <td>SP</td>\n",
              "      <td>926</td>\n",
              "      <td>Outros</td>\n",
              "      <td>9.0</td>\n",
              "      <td>Trabalhadores de Saúde</td>\n",
              "      <td>AstraZeneca/Oxford</td>\n",
              "      <td>2021-01-30T00:00:00.000Z</td>\n",
              "      <td>1ª Dose</td>\n",
              "      <td>Vacina Covid-19 - Covishield</td>\n",
              "      <td>2021-01-30 11:01:18</td>\n",
              "      <td>True</td>\n",
              "      <td>2082772</td>\n",
              "      <td>UBS CASCATA</td>\n",
              "      <td>CENTRO DE SAUDE/UNIDADE BASICA</td>\n",
              "      <td>M</td>\n",
              "      <td>SP</td>\n",
              "    </tr>\n",
              "    <tr>\n",
              "      <th>901</th>\n",
              "      <td>58aa3448-023d-4c5b-aaeb-208f01e873a4-i0b0</td>\n",
              "      <td>2651df8835e0f93972e9b7e83cbeb24c79a16650435ff5...</td>\n",
              "      <td>35.0</td>\n",
              "      <td>1985-08-18</td>\n",
              "      <td>M</td>\n",
              "      <td>99.0</td>\n",
              "      <td>SEM INFORMACAO</td>\n",
              "      <td>310620.0</td>\n",
              "      <td>10.0</td>\n",
              "      <td>BELO HORIZONTE</td>\n",
              "      <td>BRASIL</td>\n",
              "      <td>MG</td>\n",
              "      <td>B</td>\n",
              "      <td>2082772</td>\n",
              "      <td>352900.0</td>\n",
              "      <td>MARILIA</td>\n",
              "      <td>SP</td>\n",
              "      <td>926</td>\n",
              "      <td>Outros</td>\n",
              "      <td>9.0</td>\n",
              "      <td>Trabalhadores de Saúde</td>\n",
              "      <td>AstraZeneca/Oxford</td>\n",
              "      <td>2021-01-30T00:00:00.000Z</td>\n",
              "      <td>1ª Dose</td>\n",
              "      <td>Vacina Covid-19 - Covishield</td>\n",
              "      <td>2021-01-30 06:01:52</td>\n",
              "      <td>True</td>\n",
              "      <td>2082772</td>\n",
              "      <td>UBS CASCATA</td>\n",
              "      <td>CENTRO DE SAUDE/UNIDADE BASICA</td>\n",
              "      <td>M</td>\n",
              "      <td>SP</td>\n",
              "    </tr>\n",
              "    <tr>\n",
              "      <th>1040</th>\n",
              "      <td>1abc359c-9e28-402c-a120-0661ddef1f2e-i0b0</td>\n",
              "      <td>2b7cab6f82a087536e3d72254f72f9ff305dce5808d2c5...</td>\n",
              "      <td>40.0</td>\n",
              "      <td>1980-10-20</td>\n",
              "      <td>F</td>\n",
              "      <td>99.0</td>\n",
              "      <td>SEM INFORMACAO</td>\n",
              "      <td>315250.0</td>\n",
              "      <td>10.0</td>\n",
              "      <td>POUSO ALEGRE</td>\n",
              "      <td>BRASIL</td>\n",
              "      <td>MG</td>\n",
              "      <td>B</td>\n",
              "      <td>2082772</td>\n",
              "      <td>352900.0</td>\n",
              "      <td>MARILIA</td>\n",
              "      <td>SP</td>\n",
              "      <td>926</td>\n",
              "      <td>Outros</td>\n",
              "      <td>9.0</td>\n",
              "      <td>Trabalhadores de Saúde</td>\n",
              "      <td>AstraZeneca/Oxford</td>\n",
              "      <td>2021-01-30T00:00:00.000Z</td>\n",
              "      <td>1ª Dose</td>\n",
              "      <td>Vacina Covid-19 - Covishield</td>\n",
              "      <td>2021-01-30 12:01:52</td>\n",
              "      <td>True</td>\n",
              "      <td>2082772</td>\n",
              "      <td>UBS CASCATA</td>\n",
              "      <td>CENTRO DE SAUDE/UNIDADE BASICA</td>\n",
              "      <td>M</td>\n",
              "      <td>SP</td>\n",
              "    </tr>\n",
              "    <tr>\n",
              "      <th>...</th>\n",
              "      <td>...</td>\n",
              "      <td>...</td>\n",
              "      <td>...</td>\n",
              "      <td>...</td>\n",
              "      <td>...</td>\n",
              "      <td>...</td>\n",
              "      <td>...</td>\n",
              "      <td>...</td>\n",
              "      <td>...</td>\n",
              "      <td>...</td>\n",
              "      <td>...</td>\n",
              "      <td>...</td>\n",
              "      <td>...</td>\n",
              "      <td>...</td>\n",
              "      <td>...</td>\n",
              "      <td>...</td>\n",
              "      <td>...</td>\n",
              "      <td>...</td>\n",
              "      <td>...</td>\n",
              "      <td>...</td>\n",
              "      <td>...</td>\n",
              "      <td>...</td>\n",
              "      <td>...</td>\n",
              "      <td>...</td>\n",
              "      <td>...</td>\n",
              "      <td>...</td>\n",
              "      <td>...</td>\n",
              "      <td>...</td>\n",
              "      <td>...</td>\n",
              "      <td>...</td>\n",
              "      <td>...</td>\n",
              "      <td>...</td>\n",
              "    </tr>\n",
              "    <tr>\n",
              "      <th>3381695</th>\n",
              "      <td>cb833e73-4dc6-46cb-bc2d-faacc5da4243-i0b0</td>\n",
              "      <td>7c4ec961ad230b9746679a853a812370e6708e4228865f...</td>\n",
              "      <td>46.0</td>\n",
              "      <td>1974-10-15</td>\n",
              "      <td>F</td>\n",
              "      <td>2.0</td>\n",
              "      <td>PRETA</td>\n",
              "      <td>320500.0</td>\n",
              "      <td>10.0</td>\n",
              "      <td>SERRA</td>\n",
              "      <td>BRASIL</td>\n",
              "      <td>ES</td>\n",
              "      <td>B</td>\n",
              "      <td>6198201</td>\n",
              "      <td>315780.0</td>\n",
              "      <td>SANTA LUZIA</td>\n",
              "      <td>MG</td>\n",
              "      <td>923</td>\n",
              "      <td>Técnico de Enfermagem</td>\n",
              "      <td>9.0</td>\n",
              "      <td>Trabalhadores de Saúde</td>\n",
              "      <td>FUNDACAO OSWALDO CRUZ</td>\n",
              "      <td>2021-02-04T03:00:00.000Z</td>\n",
              "      <td>1ª Dose</td>\n",
              "      <td>Vacina Covid-19 - Covishield</td>\n",
              "      <td>2021-02-25 18:47:19</td>\n",
              "      <td>True</td>\n",
              "      <td>6198201</td>\n",
              "      <td>UNIDADE DE SAUDE JABAQUARA</td>\n",
              "      <td>CENTRO DE SAUDE/UNIDADE BASICA</td>\n",
              "      <td>M</td>\n",
              "      <td>MG</td>\n",
              "    </tr>\n",
              "    <tr>\n",
              "      <th>3381752</th>\n",
              "      <td>d03fed94-f7e7-4d8f-a0af-2f14c9944b4e-i0b0</td>\n",
              "      <td>50e84010f270f173b00894cd0ddb309a82acde15e5b189...</td>\n",
              "      <td>93.0</td>\n",
              "      <td>1927-06-26</td>\n",
              "      <td>F</td>\n",
              "      <td>1.0</td>\n",
              "      <td>BRANCA</td>\n",
              "      <td>320150.0</td>\n",
              "      <td>10.0</td>\n",
              "      <td>COLATINA</td>\n",
              "      <td>BRASIL</td>\n",
              "      <td>ES</td>\n",
              "      <td>B</td>\n",
              "      <td>2102994</td>\n",
              "      <td>310110.0</td>\n",
              "      <td>AIMORES</td>\n",
              "      <td>MG</td>\n",
              "      <td>205</td>\n",
              "      <td>Pessoas de 80 anos ou mais</td>\n",
              "      <td>2.0</td>\n",
              "      <td>Faixa Etária</td>\n",
              "      <td>FUNDACAO BUTANTAN</td>\n",
              "      <td>2021-02-19T03:00:00.000Z</td>\n",
              "      <td>1ª Dose</td>\n",
              "      <td>Covid-19-Coronavac-Sinovac/Butantan</td>\n",
              "      <td>2021-02-21 14:29:54</td>\n",
              "      <td>True</td>\n",
              "      <td>2102994</td>\n",
              "      <td>PSF PENHA DO CAPIM</td>\n",
              "      <td>CENTRO DE SAUDE/UNIDADE BASICA</td>\n",
              "      <td>M</td>\n",
              "      <td>MG</td>\n",
              "    </tr>\n",
              "    <tr>\n",
              "      <th>3382022</th>\n",
              "      <td>1ac2d34a-8a2f-4f32-8731-afb989ba1321-i0b0</td>\n",
              "      <td>6703dd71bb489ccd199892cff0198a6ca2c563319453f5...</td>\n",
              "      <td>44.0</td>\n",
              "      <td>1976-11-20</td>\n",
              "      <td>M</td>\n",
              "      <td>99.0</td>\n",
              "      <td>SEM INFORMACAO</td>\n",
              "      <td>317020.0</td>\n",
              "      <td>10.0</td>\n",
              "      <td>UBERLANDIA</td>\n",
              "      <td>BRASIL</td>\n",
              "      <td>MG</td>\n",
              "      <td>B</td>\n",
              "      <td>3512401</td>\n",
              "      <td>355030.0</td>\n",
              "      <td>SAO PAULO</td>\n",
              "      <td>SP</td>\n",
              "      <td>926</td>\n",
              "      <td>Outros</td>\n",
              "      <td>9.0</td>\n",
              "      <td>Trabalhadores de Saúde</td>\n",
              "      <td>Sinovac</td>\n",
              "      <td>2021-01-27T00:00:00.000Z</td>\n",
              "      <td>1ª Dose</td>\n",
              "      <td>Covid-19-Coronavac-Sinovac/Butantan</td>\n",
              "      <td>2021-01-27 11:01:32</td>\n",
              "      <td>True</td>\n",
              "      <td>3512401</td>\n",
              "      <td>HOSP MAT PARANAGUA</td>\n",
              "      <td>HOSPITAL GERAL</td>\n",
              "      <td>M</td>\n",
              "      <td>SP</td>\n",
              "    </tr>\n",
              "    <tr>\n",
              "      <th>3382041</th>\n",
              "      <td>644ddd89-2260-4f22-9d75-fbcd8753ab2d-i0b0</td>\n",
              "      <td>a5a68d55ecbbc3136eb446f4f6335358ff0df16a120ca6...</td>\n",
              "      <td>98.0</td>\n",
              "      <td>1923-01-29</td>\n",
              "      <td>M</td>\n",
              "      <td>1.0</td>\n",
              "      <td>BRANCA</td>\n",
              "      <td>351620.0</td>\n",
              "      <td>10.0</td>\n",
              "      <td>FRANCA</td>\n",
              "      <td>BRASIL</td>\n",
              "      <td>SP</td>\n",
              "      <td>B</td>\n",
              "      <td>7048505</td>\n",
              "      <td>311610.0</td>\n",
              "      <td>CHAPADA DO NORTE</td>\n",
              "      <td>MG</td>\n",
              "      <td>205</td>\n",
              "      <td>Pessoas de 80 anos ou mais</td>\n",
              "      <td>2.0</td>\n",
              "      <td>Faixa Etária</td>\n",
              "      <td>FUNDACAO BUTANTAN</td>\n",
              "      <td>2021-02-15T03:00:00.000Z</td>\n",
              "      <td>1ª Dose</td>\n",
              "      <td>Covid-19-Coronavac-Sinovac/Butantan</td>\n",
              "      <td>2021-02-17 12:27:05</td>\n",
              "      <td>True</td>\n",
              "      <td>7048505</td>\n",
              "      <td>UNIDADE BASICA DE SAUDE BATIEIRO</td>\n",
              "      <td>CENTRO DE SAUDE/UNIDADE BASICA</td>\n",
              "      <td>M</td>\n",
              "      <td>MG</td>\n",
              "    </tr>\n",
              "    <tr>\n",
              "      <th>3382286</th>\n",
              "      <td>c4e2163d-c00f-4e1d-ac8b-d9321dcb9557-i0b0</td>\n",
              "      <td>f740d8c741f78b60472e1ce9528556ed4bd7e5418b9548...</td>\n",
              "      <td>50.0</td>\n",
              "      <td>1970-05-11</td>\n",
              "      <td>F</td>\n",
              "      <td>1.0</td>\n",
              "      <td>BRANCA</td>\n",
              "      <td>330630.0</td>\n",
              "      <td>10.0</td>\n",
              "      <td>VOLTA REDONDA</td>\n",
              "      <td>BRASIL</td>\n",
              "      <td>RJ</td>\n",
              "      <td>B</td>\n",
              "      <td>2074672</td>\n",
              "      <td>350315.0</td>\n",
              "      <td>ARAPEI</td>\n",
              "      <td>SP</td>\n",
              "      <td>926</td>\n",
              "      <td>Outros</td>\n",
              "      <td>9.0</td>\n",
              "      <td>Trabalhadores de Saúde</td>\n",
              "      <td>Sinovac</td>\n",
              "      <td>2021-01-21T00:00:00.000Z</td>\n",
              "      <td>1ª Dose</td>\n",
              "      <td>Covid-19-Coronavac-Sinovac/Butantan</td>\n",
              "      <td>2021-01-21 07:01:40</td>\n",
              "      <td>True</td>\n",
              "      <td>2074672</td>\n",
              "      <td>UNIDADE BASICA DE SAUDE DE ARAPEI DR HAROLDO V...</td>\n",
              "      <td>CENTRO DE SAUDE/UNIDADE BASICA</td>\n",
              "      <td>M</td>\n",
              "      <td>SP</td>\n",
              "    </tr>\n",
              "  </tbody>\n",
              "</table>\n",
              "<p>45746 rows × 32 columns</p>\n",
              "</div>"
            ],
            "text/plain": [
              "                                       document_id  ...  uf\n",
              "353      a6e79060-0ab4-4eb7-8270-962057b68ca7-i0b0  ...  SP\n",
              "639      bb2bb81b-4493-46cf-acba-4e782e3cbcec-i0b0  ...  SP\n",
              "708      08fbce36-138e-4001-b12f-45f48b3f7527-i0b0  ...  SP\n",
              "901      58aa3448-023d-4c5b-aaeb-208f01e873a4-i0b0  ...  SP\n",
              "1040     1abc359c-9e28-402c-a120-0661ddef1f2e-i0b0  ...  SP\n",
              "...                                            ...  ...  ..\n",
              "3381695  cb833e73-4dc6-46cb-bc2d-faacc5da4243-i0b0  ...  MG\n",
              "3381752  d03fed94-f7e7-4d8f-a0af-2f14c9944b4e-i0b0  ...  MG\n",
              "3382022  1ac2d34a-8a2f-4f32-8731-afb989ba1321-i0b0  ...  SP\n",
              "3382041  644ddd89-2260-4f22-9d75-fbcd8753ab2d-i0b0  ...  MG\n",
              "3382286  c4e2163d-c00f-4e1d-ac8b-d9321dcb9557-i0b0  ...  SP\n",
              "\n",
              "[45746 rows x 32 columns]"
            ]
          },
          "metadata": {
            "tags": []
          },
          "execution_count": 70
        }
      ]
    },
    {
      "cell_type": "code",
      "metadata": {
        "id": "PARLOAHHhKv-"
      },
      "source": [
        "# Criação do dataframe da região norte\n",
        "df_norte = df_merge.query('paciente_endereco_uf in [\"AM\", \"AC\", \"AP\", \"PA\", \"RO\", \"RR\", \"TO\"]')"
      ],
      "execution_count": null,
      "outputs": []
    },
    {
      "cell_type": "code",
      "metadata": {
        "id": "D2hBiaShIExf",
        "colab": {
          "base_uri": "https://localhost:8080/"
        },
        "outputId": "aeb460e6-885f-4d65-9c65-51c141d4c079"
      },
      "source": [
        "df_norte.count()"
      ],
      "execution_count": null,
      "outputs": [
        {
          "output_type": "execute_result",
          "data": {
            "text/plain": [
              "document_id                                 488297\n",
              "paciente_id                                 488297\n",
              "paciente_idade                              488297\n",
              "paciente_dataNascimento                     488297\n",
              "paciente_enumSexoBiologico                  488297\n",
              "paciente_racaCor_codigo                     488297\n",
              "paciente_racaCor_valor                      488297\n",
              "paciente_endereco_coIbgeMunicipio           488297\n",
              "paciente_endereco_coPais                    488297\n",
              "paciente_endereco_nmMunicipio               488297\n",
              "paciente_endereco_nmPais                    488297\n",
              "paciente_endereco_uf                        488297\n",
              "paciente_nacionalidade_enumNacionalidade    487350\n",
              "estabelecimento_valor                       488297\n",
              "estabelecimento_municipio_codigo            488297\n",
              "estabelecimento_municipio_nome              488297\n",
              "estabelecimento_uf                          488297\n",
              "vacina_grupoAtendimento_codigo              488297\n",
              "vacina_grupoAtendimento_nome                479968\n",
              "vacina_categoria_codigo                     479968\n",
              "vacina_categoria_nome                       479968\n",
              "vacina_fabricante_nome                      488296\n",
              "vacina_dataAplicacao                        488297\n",
              "vacina_descricao_dose                       488297\n",
              "vacina_nome                                 488297\n",
              "data_importacao_rnds                        488297\n",
              "paciente_vacinado_fora_mun                  488297\n",
              "co_cnes                                     488297\n",
              "no_fantasia                                 488297\n",
              "ds_tipo_unidade                             488297\n",
              "tp_gestao                                   488297\n",
              "uf                                          488297\n",
              "dtype: int64"
            ]
          },
          "metadata": {
            "tags": []
          },
          "execution_count": 81
        }
      ]
    },
    {
      "cell_type": "code",
      "metadata": {
        "id": "_xRHLpETkqYZ",
        "colab": {
          "base_uri": "https://localhost:8080/",
          "height": 1000
        },
        "outputId": "e217c367-c9af-45aa-a3ab-2c052707bc2b"
      },
      "source": [
        "df_norte"
      ],
      "execution_count": null,
      "outputs": [
        {
          "output_type": "execute_result",
          "data": {
            "text/html": [
              "<div>\n",
              "<style scoped>\n",
              "    .dataframe tbody tr th:only-of-type {\n",
              "        vertical-align: middle;\n",
              "    }\n",
              "\n",
              "    .dataframe tbody tr th {\n",
              "        vertical-align: top;\n",
              "    }\n",
              "\n",
              "    .dataframe thead th {\n",
              "        text-align: right;\n",
              "    }\n",
              "</style>\n",
              "<table border=\"1\" class=\"dataframe\">\n",
              "  <thead>\n",
              "    <tr style=\"text-align: right;\">\n",
              "      <th></th>\n",
              "      <th>document_id</th>\n",
              "      <th>paciente_id</th>\n",
              "      <th>paciente_idade</th>\n",
              "      <th>paciente_dataNascimento</th>\n",
              "      <th>paciente_enumSexoBiologico</th>\n",
              "      <th>paciente_racaCor_codigo</th>\n",
              "      <th>paciente_racaCor_valor</th>\n",
              "      <th>paciente_endereco_coIbgeMunicipio</th>\n",
              "      <th>paciente_endereco_coPais</th>\n",
              "      <th>paciente_endereco_nmMunicipio</th>\n",
              "      <th>paciente_endereco_nmPais</th>\n",
              "      <th>paciente_endereco_uf</th>\n",
              "      <th>paciente_nacionalidade_enumNacionalidade</th>\n",
              "      <th>estabelecimento_valor</th>\n",
              "      <th>estabelecimento_municipio_codigo</th>\n",
              "      <th>estabelecimento_municipio_nome</th>\n",
              "      <th>estabelecimento_uf</th>\n",
              "      <th>vacina_grupoAtendimento_codigo</th>\n",
              "      <th>vacina_grupoAtendimento_nome</th>\n",
              "      <th>vacina_categoria_codigo</th>\n",
              "      <th>vacina_categoria_nome</th>\n",
              "      <th>vacina_fabricante_nome</th>\n",
              "      <th>vacina_dataAplicacao</th>\n",
              "      <th>vacina_descricao_dose</th>\n",
              "      <th>vacina_nome</th>\n",
              "      <th>data_importacao_rnds</th>\n",
              "      <th>paciente_vacinado_fora_mun</th>\n",
              "      <th>co_cnes</th>\n",
              "      <th>no_fantasia</th>\n",
              "      <th>ds_tipo_unidade</th>\n",
              "      <th>tp_gestao</th>\n",
              "      <th>uf</th>\n",
              "    </tr>\n",
              "  </thead>\n",
              "  <tbody>\n",
              "    <tr>\n",
              "      <th>37</th>\n",
              "      <td>3dfc58d4-862d-42a8-ad3b-fb77b4dcff80-i0b0</td>\n",
              "      <td>01a928b2ace5b2f5c83d31f3f32e752b59e3fad4b7269b...</td>\n",
              "      <td>25.0</td>\n",
              "      <td>1995-08-20</td>\n",
              "      <td>F</td>\n",
              "      <td>3.0</td>\n",
              "      <td>PARDA</td>\n",
              "      <td>150360.0</td>\n",
              "      <td>10.0</td>\n",
              "      <td>ITAITUBA</td>\n",
              "      <td>BRASIL</td>\n",
              "      <td>PA</td>\n",
              "      <td>B</td>\n",
              "      <td>2082772</td>\n",
              "      <td>352900.0</td>\n",
              "      <td>MARILIA</td>\n",
              "      <td>SP</td>\n",
              "      <td>926</td>\n",
              "      <td>Outros</td>\n",
              "      <td>9.0</td>\n",
              "      <td>Trabalhadores de Saúde</td>\n",
              "      <td>AstraZeneca/Oxford</td>\n",
              "      <td>2021-01-30T00:00:00.000Z</td>\n",
              "      <td>1ª Dose</td>\n",
              "      <td>Vacina Covid-19 - Covishield</td>\n",
              "      <td>2021-01-30 12:01:28</td>\n",
              "      <td>True</td>\n",
              "      <td>2082772</td>\n",
              "      <td>UBS CASCATA</td>\n",
              "      <td>CENTRO DE SAUDE/UNIDADE BASICA</td>\n",
              "      <td>M</td>\n",
              "      <td>SP</td>\n",
              "    </tr>\n",
              "    <tr>\n",
              "      <th>425</th>\n",
              "      <td>12a02188-a574-454a-bc3a-c0e5d06d90ef-i0b0</td>\n",
              "      <td>1226eac6a1a9df2832b8e13e1cdac0ca6c02212de2e3cf...</td>\n",
              "      <td>48.0</td>\n",
              "      <td>1972-09-18</td>\n",
              "      <td>F</td>\n",
              "      <td>1.0</td>\n",
              "      <td>BRANCA</td>\n",
              "      <td>150503.0</td>\n",
              "      <td>10.0</td>\n",
              "      <td>NOVO PROGRESSO</td>\n",
              "      <td>BRASIL</td>\n",
              "      <td>PA</td>\n",
              "      <td>B</td>\n",
              "      <td>2082772</td>\n",
              "      <td>352900.0</td>\n",
              "      <td>MARILIA</td>\n",
              "      <td>SP</td>\n",
              "      <td>926</td>\n",
              "      <td>Outros</td>\n",
              "      <td>9.0</td>\n",
              "      <td>Trabalhadores de Saúde</td>\n",
              "      <td>AstraZeneca/Oxford</td>\n",
              "      <td>2021-01-30T00:00:00.000Z</td>\n",
              "      <td>1ª Dose</td>\n",
              "      <td>Vacina Covid-19 - Covishield</td>\n",
              "      <td>2021-01-30 11:01:32</td>\n",
              "      <td>True</td>\n",
              "      <td>2082772</td>\n",
              "      <td>UBS CASCATA</td>\n",
              "      <td>CENTRO DE SAUDE/UNIDADE BASICA</td>\n",
              "      <td>M</td>\n",
              "      <td>SP</td>\n",
              "    </tr>\n",
              "    <tr>\n",
              "      <th>1726</th>\n",
              "      <td>0dee2e04-4a79-4c7e-b48c-838ac4ab5ab3-i0b0</td>\n",
              "      <td>4a3132e90777d778c9119abbd59914d77f1d572e6ddbec...</td>\n",
              "      <td>87.0</td>\n",
              "      <td>1933-11-02</td>\n",
              "      <td>M</td>\n",
              "      <td>1.0</td>\n",
              "      <td>BRANCA</td>\n",
              "      <td>110020.0</td>\n",
              "      <td>10.0</td>\n",
              "      <td>PORTO VELHO</td>\n",
              "      <td>BRASIL</td>\n",
              "      <td>RO</td>\n",
              "      <td>B</td>\n",
              "      <td>2082772</td>\n",
              "      <td>352900.0</td>\n",
              "      <td>MARILIA</td>\n",
              "      <td>SP</td>\n",
              "      <td>205</td>\n",
              "      <td>Pessoas de 80 anos ou mais</td>\n",
              "      <td>2.0</td>\n",
              "      <td>Faixa Etária</td>\n",
              "      <td>Sinovac</td>\n",
              "      <td>2021-02-11T00:00:00.000Z</td>\n",
              "      <td>1ª Dose</td>\n",
              "      <td>Covid-19-Coronavac-Sinovac/Butantan</td>\n",
              "      <td>2021-02-11 15:02:00</td>\n",
              "      <td>True</td>\n",
              "      <td>2082772</td>\n",
              "      <td>UBS CASCATA</td>\n",
              "      <td>CENTRO DE SAUDE/UNIDADE BASICA</td>\n",
              "      <td>M</td>\n",
              "      <td>SP</td>\n",
              "    </tr>\n",
              "    <tr>\n",
              "      <th>3647</th>\n",
              "      <td>d7948974-f1d1-4114-afcf-f493b1078dbb-i0b0</td>\n",
              "      <td>9cbeef584b47dafe2d60ce90121e9f23f7092a4a37ae59...</td>\n",
              "      <td>85.0</td>\n",
              "      <td>1935-07-25</td>\n",
              "      <td>F</td>\n",
              "      <td>1.0</td>\n",
              "      <td>BRANCA</td>\n",
              "      <td>172100.0</td>\n",
              "      <td>10.0</td>\n",
              "      <td>PALMAS</td>\n",
              "      <td>BRASIL</td>\n",
              "      <td>TO</td>\n",
              "      <td>B</td>\n",
              "      <td>2082772</td>\n",
              "      <td>352900.0</td>\n",
              "      <td>MARILIA</td>\n",
              "      <td>SP</td>\n",
              "      <td>205</td>\n",
              "      <td>Pessoas de 80 anos ou mais</td>\n",
              "      <td>2.0</td>\n",
              "      <td>Faixa Etária</td>\n",
              "      <td>Sinovac</td>\n",
              "      <td>2021-02-01T00:00:00.000Z</td>\n",
              "      <td>1ª Dose</td>\n",
              "      <td>Covid-19-Coronavac-Sinovac/Butantan</td>\n",
              "      <td>2021-02-01 15:02:00</td>\n",
              "      <td>True</td>\n",
              "      <td>2082772</td>\n",
              "      <td>UBS CASCATA</td>\n",
              "      <td>CENTRO DE SAUDE/UNIDADE BASICA</td>\n",
              "      <td>M</td>\n",
              "      <td>SP</td>\n",
              "    </tr>\n",
              "    <tr>\n",
              "      <th>3666</th>\n",
              "      <td>d4bb084f-20bd-448a-b04e-b66119431942-i0b0</td>\n",
              "      <td>9de05f3ce92ad84cc53c72c16246f32305d001b0b434bd...</td>\n",
              "      <td>54.0</td>\n",
              "      <td>1966-10-20</td>\n",
              "      <td>M</td>\n",
              "      <td>4.0</td>\n",
              "      <td>AMARELA</td>\n",
              "      <td>130280.0</td>\n",
              "      <td>10.0</td>\n",
              "      <td>MARAA</td>\n",
              "      <td>BRASIL</td>\n",
              "      <td>AM</td>\n",
              "      <td>B</td>\n",
              "      <td>2082772</td>\n",
              "      <td>352900.0</td>\n",
              "      <td>MARILIA</td>\n",
              "      <td>SP</td>\n",
              "      <td>926</td>\n",
              "      <td>Outros</td>\n",
              "      <td>9.0</td>\n",
              "      <td>Trabalhadores de Saúde</td>\n",
              "      <td>AstraZeneca/Oxford</td>\n",
              "      <td>2021-01-29T00:00:00.000Z</td>\n",
              "      <td>1ª Dose</td>\n",
              "      <td>Vacina Covid-19 - Covishield</td>\n",
              "      <td>2021-01-29 03:00:00</td>\n",
              "      <td>True</td>\n",
              "      <td>2082772</td>\n",
              "      <td>UBS CASCATA</td>\n",
              "      <td>CENTRO DE SAUDE/UNIDADE BASICA</td>\n",
              "      <td>M</td>\n",
              "      <td>SP</td>\n",
              "    </tr>\n",
              "    <tr>\n",
              "      <th>...</th>\n",
              "      <td>...</td>\n",
              "      <td>...</td>\n",
              "      <td>...</td>\n",
              "      <td>...</td>\n",
              "      <td>...</td>\n",
              "      <td>...</td>\n",
              "      <td>...</td>\n",
              "      <td>...</td>\n",
              "      <td>...</td>\n",
              "      <td>...</td>\n",
              "      <td>...</td>\n",
              "      <td>...</td>\n",
              "      <td>...</td>\n",
              "      <td>...</td>\n",
              "      <td>...</td>\n",
              "      <td>...</td>\n",
              "      <td>...</td>\n",
              "      <td>...</td>\n",
              "      <td>...</td>\n",
              "      <td>...</td>\n",
              "      <td>...</td>\n",
              "      <td>...</td>\n",
              "      <td>...</td>\n",
              "      <td>...</td>\n",
              "      <td>...</td>\n",
              "      <td>...</td>\n",
              "      <td>...</td>\n",
              "      <td>...</td>\n",
              "      <td>...</td>\n",
              "      <td>...</td>\n",
              "      <td>...</td>\n",
              "      <td>...</td>\n",
              "    </tr>\n",
              "    <tr>\n",
              "      <th>3382266</th>\n",
              "      <td>ef97e480-4723-4060-9636-576fd6b3400c-i0b0</td>\n",
              "      <td>d2120f1bd6c8f608650bf9a54ca88748692569f24ce4e2...</td>\n",
              "      <td>29.0</td>\n",
              "      <td>1991-01-29</td>\n",
              "      <td>M</td>\n",
              "      <td>3.0</td>\n",
              "      <td>PARDA</td>\n",
              "      <td>130260.0</td>\n",
              "      <td>10.0</td>\n",
              "      <td>MANAUS</td>\n",
              "      <td>BRASIL</td>\n",
              "      <td>AM</td>\n",
              "      <td>B</td>\n",
              "      <td>3748774</td>\n",
              "      <td>130115.0</td>\n",
              "      <td>CAREIRO DA VARZEA</td>\n",
              "      <td>AM</td>\n",
              "      <td>923</td>\n",
              "      <td>Técnico de Enfermagem</td>\n",
              "      <td>9.0</td>\n",
              "      <td>Trabalhadores de Saúde</td>\n",
              "      <td>FUNDACAO BUTANTAN</td>\n",
              "      <td>2021-01-24T03:00:00.000Z</td>\n",
              "      <td>1ª Dose</td>\n",
              "      <td>Covid-19-Coronavac-Sinovac/Butantan</td>\n",
              "      <td>2021-02-06 21:42:44</td>\n",
              "      <td>True</td>\n",
              "      <td>3748774</td>\n",
              "      <td>UNIDADE BASICA DE SAUDE ANTONIO BENTO MIGUES</td>\n",
              "      <td>POSTO DE SAUDE</td>\n",
              "      <td>M</td>\n",
              "      <td>AM</td>\n",
              "    </tr>\n",
              "    <tr>\n",
              "      <th>3382267</th>\n",
              "      <td>95d2f604-3a40-4119-9061-d23678e94d66-i0b0</td>\n",
              "      <td>d3604f31f4a6a7e744a42536c15c7185648341b1603ab8...</td>\n",
              "      <td>74.0</td>\n",
              "      <td>1946-07-14</td>\n",
              "      <td>M</td>\n",
              "      <td>4.0</td>\n",
              "      <td>AMARELA</td>\n",
              "      <td>130270.0</td>\n",
              "      <td>10.0</td>\n",
              "      <td>MANICORE</td>\n",
              "      <td>BRASIL</td>\n",
              "      <td>AM</td>\n",
              "      <td>B</td>\n",
              "      <td>2708868</td>\n",
              "      <td>130270.0</td>\n",
              "      <td>MANICORE</td>\n",
              "      <td>AM</td>\n",
              "      <td>0</td>\n",
              "      <td>NaN</td>\n",
              "      <td>NaN</td>\n",
              "      <td>NaN</td>\n",
              "      <td>SERUM INSTITUTE OF INDIA LTD</td>\n",
              "      <td>2021-02-19T00:00:00.000Z</td>\n",
              "      <td>1ª Dose</td>\n",
              "      <td>Covid-19-Coronavac-Sinovac/Butantan</td>\n",
              "      <td>2021-03-02 20:31:21</td>\n",
              "      <td>False</td>\n",
              "      <td>2708868</td>\n",
              "      <td>CENTRO DE SAUDE MAE LAURINDA</td>\n",
              "      <td>CENTRO DE SAUDE/UNIDADE BASICA</td>\n",
              "      <td>M</td>\n",
              "      <td>AM</td>\n",
              "    </tr>\n",
              "    <tr>\n",
              "      <th>3382268</th>\n",
              "      <td>6ae9f792-a3fd-4959-9d7b-f351b7f39887-i0b0</td>\n",
              "      <td>d5609f55139e9df810ef79744aed82807d50d158cadea1...</td>\n",
              "      <td>73.0</td>\n",
              "      <td>1947-05-05</td>\n",
              "      <td>F</td>\n",
              "      <td>4.0</td>\n",
              "      <td>AMARELA</td>\n",
              "      <td>130270.0</td>\n",
              "      <td>10.0</td>\n",
              "      <td>MANICORE</td>\n",
              "      <td>BRASIL</td>\n",
              "      <td>AM</td>\n",
              "      <td>B</td>\n",
              "      <td>2708868</td>\n",
              "      <td>130270.0</td>\n",
              "      <td>MANICORE</td>\n",
              "      <td>AM</td>\n",
              "      <td>0</td>\n",
              "      <td>NaN</td>\n",
              "      <td>NaN</td>\n",
              "      <td>NaN</td>\n",
              "      <td>SERUM INSTITUTE OF INDIA LTD</td>\n",
              "      <td>2021-02-19T00:00:00.000Z</td>\n",
              "      <td>1ª Dose</td>\n",
              "      <td>Covid-19-Coronavac-Sinovac/Butantan</td>\n",
              "      <td>2021-03-02 20:31:21</td>\n",
              "      <td>False</td>\n",
              "      <td>2708868</td>\n",
              "      <td>CENTRO DE SAUDE MAE LAURINDA</td>\n",
              "      <td>CENTRO DE SAUDE/UNIDADE BASICA</td>\n",
              "      <td>M</td>\n",
              "      <td>AM</td>\n",
              "    </tr>\n",
              "    <tr>\n",
              "      <th>3382285</th>\n",
              "      <td>023d5f9a-8c59-4a36-abe7-2cb1225d3df8-i0b0</td>\n",
              "      <td>f704547d24ac4e8e2f1463f376dac0edef303e421b4b29...</td>\n",
              "      <td>28.0</td>\n",
              "      <td>1992-10-22</td>\n",
              "      <td>M</td>\n",
              "      <td>3.0</td>\n",
              "      <td>PARDA</td>\n",
              "      <td>150030.0</td>\n",
              "      <td>10.0</td>\n",
              "      <td>AFUA</td>\n",
              "      <td>BRASIL</td>\n",
              "      <td>PA</td>\n",
              "      <td>B</td>\n",
              "      <td>6816916</td>\n",
              "      <td>150250.0</td>\n",
              "      <td>CHAVES</td>\n",
              "      <td>PA</td>\n",
              "      <td>923</td>\n",
              "      <td>Técnico de Enfermagem</td>\n",
              "      <td>9.0</td>\n",
              "      <td>Trabalhadores de Saúde</td>\n",
              "      <td>FUNDACAO BUTANTAN</td>\n",
              "      <td>2021-01-20T00:00:00.000Z</td>\n",
              "      <td>1ª Dose</td>\n",
              "      <td>Covid-19-Coronavac-Sinovac/Butantan</td>\n",
              "      <td>2021-01-24 00:54:08</td>\n",
              "      <td>True</td>\n",
              "      <td>6816916</td>\n",
              "      <td>POSTO DE SAUDE UBUSSUTUBA</td>\n",
              "      <td>POSTO DE SAUDE</td>\n",
              "      <td>M</td>\n",
              "      <td>PA</td>\n",
              "    </tr>\n",
              "    <tr>\n",
              "      <th>3382287</th>\n",
              "      <td>a3dd3bd4-8aaf-4789-9651-4d8e700c3f09-i0b0</td>\n",
              "      <td>fa3ceef08b05af337d2fe43194a74b4878bbd95af726ee...</td>\n",
              "      <td>87.0</td>\n",
              "      <td>1933-06-23</td>\n",
              "      <td>M</td>\n",
              "      <td>3.0</td>\n",
              "      <td>PARDA</td>\n",
              "      <td>150360.0</td>\n",
              "      <td>10.0</td>\n",
              "      <td>ITAITUBA</td>\n",
              "      <td>BRASIL</td>\n",
              "      <td>PA</td>\n",
              "      <td>B</td>\n",
              "      <td>7648839</td>\n",
              "      <td>150360.0</td>\n",
              "      <td>ITAITUBA</td>\n",
              "      <td>PA</td>\n",
              "      <td>205</td>\n",
              "      <td>Pessoas de 80 anos ou mais</td>\n",
              "      <td>2.0</td>\n",
              "      <td>Faixa Etária</td>\n",
              "      <td>FUNDACAO BUTANTAN</td>\n",
              "      <td>2021-02-04T03:00:00.000Z</td>\n",
              "      <td>1ª Dose</td>\n",
              "      <td>Covid-19-Coronavac-Sinovac/Butantan</td>\n",
              "      <td>2021-02-09 20:03:49</td>\n",
              "      <td>False</td>\n",
              "      <td>7648839</td>\n",
              "      <td>UNIDADE BASICA DE SAUDE VALE DO PIRACANA</td>\n",
              "      <td>CENTRO DE SAUDE/UNIDADE BASICA</td>\n",
              "      <td>M</td>\n",
              "      <td>PA</td>\n",
              "    </tr>\n",
              "  </tbody>\n",
              "</table>\n",
              "<p>488297 rows × 32 columns</p>\n",
              "</div>"
            ],
            "text/plain": [
              "                                       document_id  ...  uf\n",
              "37       3dfc58d4-862d-42a8-ad3b-fb77b4dcff80-i0b0  ...  SP\n",
              "425      12a02188-a574-454a-bc3a-c0e5d06d90ef-i0b0  ...  SP\n",
              "1726     0dee2e04-4a79-4c7e-b48c-838ac4ab5ab3-i0b0  ...  SP\n",
              "3647     d7948974-f1d1-4114-afcf-f493b1078dbb-i0b0  ...  SP\n",
              "3666     d4bb084f-20bd-448a-b04e-b66119431942-i0b0  ...  SP\n",
              "...                                            ...  ...  ..\n",
              "3382266  ef97e480-4723-4060-9636-576fd6b3400c-i0b0  ...  AM\n",
              "3382267  95d2f604-3a40-4119-9061-d23678e94d66-i0b0  ...  AM\n",
              "3382268  6ae9f792-a3fd-4959-9d7b-f351b7f39887-i0b0  ...  AM\n",
              "3382285  023d5f9a-8c59-4a36-abe7-2cb1225d3df8-i0b0  ...  PA\n",
              "3382287  a3dd3bd4-8aaf-4789-9651-4d8e700c3f09-i0b0  ...  PA\n",
              "\n",
              "[488297 rows x 32 columns]"
            ]
          },
          "metadata": {
            "tags": []
          },
          "execution_count": 82
        }
      ]
    },
    {
      "cell_type": "code",
      "metadata": {
        "id": "sByc_R6tDs4I",
        "colab": {
          "base_uri": "https://localhost:8080/"
        },
        "outputId": "0e53155f-833a-4aed-cdc9-87cd63def701"
      },
      "source": [
        "# Total de vacinados por UF na região norte\n",
        "df_norte['paciente_endereco_uf'].value_counts()"
      ],
      "execution_count": null,
      "outputs": [
        {
          "output_type": "execute_result",
          "data": {
            "text/plain": [
              "AM    211314\n",
              "PA    139671\n",
              "TO     45647\n",
              "RO     33705\n",
              "AC     21271\n",
              "RR     19496\n",
              "AP     17193\n",
              "Name: paciente_endereco_uf, dtype: int64"
            ]
          },
          "metadata": {
            "tags": []
          },
          "execution_count": 83
        }
      ]
    },
    {
      "cell_type": "code",
      "metadata": {
        "id": "dgJ1U1XGDtu8",
        "colab": {
          "base_uri": "https://localhost:8080/",
          "height": 288
        },
        "outputId": "eeedc31c-a578-4014-8fd4-83b29f000cac"
      },
      "source": [
        "# Total de vacinados por UF na região norte - gráfico\n",
        "df_norte['paciente_endereco_uf'].value_counts().plot.bar()"
      ],
      "execution_count": null,
      "outputs": [
        {
          "output_type": "execute_result",
          "data": {
            "text/plain": [
              "<matplotlib.axes._subplots.AxesSubplot at 0x7f0be0434610>"
            ]
          },
          "metadata": {
            "tags": []
          },
          "execution_count": 84
        },
        {
          "output_type": "display_data",
          "data": {
            "image/png": "[encoded data removed]",
            "text/plain": [
              "<Figure size 432x288 with 1 Axes>"
            ]
          },
          "metadata": {
            "tags": [],
            "needs_background": "light"
          }
        }
      ]
    },
    {
      "cell_type": "code",
      "metadata": {
        "id": "3XFKW-yrDvNE",
        "colab": {
          "base_uri": "https://localhost:8080/"
        },
        "outputId": "33251282-e67b-4ece-ee35-7d8eecbc162b"
      },
      "source": [
        "# Total de vacinados da região norte por categoria\n",
        "df_norte['vacina_categoria_nome'].value_counts()"
      ],
      "execution_count": null,
      "outputs": [
        {
          "output_type": "execute_result",
          "data": {
            "text/plain": [
              "Trabalhadores de Saúde                             229886\n",
              "Faixa Etária                                       172640\n",
              "Povos Indígenas                                     69877\n",
              "Pessoas de 60 anos ou mais institucionalizadas       5747\n",
              "Forças de Segurança e Salvamento                      605\n",
              "Povos e Comunidades Tradicionais                      573\n",
              "Comorbidades                                          291\n",
              "Pessoas com Deficiência                               265\n",
              "Funcionário do Sistema de Privação de Liberdade        32\n",
              "População Privada de Liberdade                         24\n",
              "Trabalhadores da Educação                              14\n",
              "Forças Armadas (membros ativos)                        12\n",
              "Trabalhadores Portuários                                1\n",
              "Trabalhadores Industriais                               1\n",
              "Name: vacina_categoria_nome, dtype: int64"
            ]
          },
          "metadata": {
            "tags": []
          },
          "execution_count": 85
        }
      ]
    },
    {
      "cell_type": "code",
      "metadata": {
        "id": "ei_RUUlEDv4U",
        "colab": {
          "base_uri": "https://localhost:8080/",
          "height": 519
        },
        "outputId": "08ce5255-f8d5-43cc-e0c8-382497425ee1"
      },
      "source": [
        "# Total de vacinados da região norte por categoria - gráfico\n",
        "df_norte['vacina_categoria_nome'].value_counts().plot.bar()"
      ],
      "execution_count": null,
      "outputs": [
        {
          "output_type": "execute_result",
          "data": {
            "text/plain": [
              "<matplotlib.axes._subplots.AxesSubplot at 0x7f0be044e1d0>"
            ]
          },
          "metadata": {
            "tags": []
          },
          "execution_count": 86
        },
        {
          "output_type": "display_data",
          "data": {
            "image/png": "[encoded data removed]",
            "text/plain": [
              "<Figure size 432x288 with 1 Axes>"
            ]
          },
          "metadata": {
            "tags": [],
            "needs_background": "light"
          }
        }
      ]
    },
    {
      "cell_type": "code",
      "metadata": {
        "id": "yf8aTTmHDwc_",
        "colab": {
          "base_uri": "https://localhost:8080/"
        },
        "outputId": "b5845d1c-a48e-49ed-82db-3137f8a9b9d9"
      },
      "source": [
        "# Quantitativo de Vacinados por Sexo Biológico\n",
        "df_norte['paciente_enumSexoBiologico'].value_counts()"
      ],
      "execution_count": null,
      "outputs": [
        {
          "output_type": "execute_result",
          "data": {
            "text/plain": [
              "F    291427\n",
              "M    196870\n",
              "Name: paciente_enumSexoBiologico, dtype: int64"
            ]
          },
          "metadata": {
            "tags": []
          },
          "execution_count": 87
        }
      ]
    },
    {
      "cell_type": "code",
      "metadata": {
        "id": "jnF4BsySDxGd",
        "colab": {
          "base_uri": "https://localhost:8080/",
          "height": 281
        },
        "outputId": "20dabed1-6946-4278-941b-3ed07d7a2772"
      },
      "source": [
        "# Quantitativo de Vacinados por Sexo Biológico - gráfico\n",
        "df_norte['paciente_enumSexoBiologico'].value_counts().plot.bar()"
      ],
      "execution_count": null,
      "outputs": [
        {
          "output_type": "execute_result",
          "data": {
            "text/plain": [
              "<matplotlib.axes._subplots.AxesSubplot at 0x7f0bdfd63e10>"
            ]
          },
          "metadata": {
            "tags": []
          },
          "execution_count": 88
        },
        {
          "output_type": "display_data",
          "data": {
            "image/png": "[encoded data removed]",
            "text/plain": [
              "<Figure size 432x288 with 1 Axes>"
            ]
          },
          "metadata": {
            "tags": [],
            "needs_background": "light"
          }
        }
      ]
    },
    {
      "cell_type": "code",
      "metadata": {
        "id": "M752waoxDxqQ",
        "colab": {
          "base_uri": "https://localhost:8080/"
        },
        "outputId": "aea753e6-406d-4a5c-d449-3255a3fbb768"
      },
      "source": [
        "# Quantitativo de Vacinados por Raça\n",
        "df_norte['paciente_racaCor_valor'].value_counts()"
      ],
      "execution_count": null,
      "outputs": [
        {
          "output_type": "execute_result",
          "data": {
            "text/plain": [
              "PARDA             181759\n",
              "SEM INFORMACAO     95489\n",
              "AMARELA            94752\n",
              "BRANCA             56984\n",
              "INDIGENA           48284\n",
              "PRETA              11029\n",
              "Name: paciente_racaCor_valor, dtype: int64"
            ]
          },
          "metadata": {
            "tags": []
          },
          "execution_count": 89
        }
      ]
    },
    {
      "cell_type": "code",
      "metadata": {
        "id": "xwg-oIT4DyPi",
        "colab": {
          "base_uri": "https://localhost:8080/",
          "height": 364
        },
        "outputId": "fe33f3c2-3ef4-451d-98e1-3b5048f8c53a"
      },
      "source": [
        "# Quantitativo de Vacinados por Raça - gráfico\n",
        "df_norte['paciente_racaCor_valor'].value_counts().plot.bar()"
      ],
      "execution_count": null,
      "outputs": [
        {
          "output_type": "execute_result",
          "data": {
            "text/plain": [
              "<matplotlib.axes._subplots.AxesSubplot at 0x7f0bdf6f3290>"
            ]
          },
          "metadata": {
            "tags": []
          },
          "execution_count": 90
        },
        {
          "output_type": "display_data",
          "data": {
            "image/png": "[encoded data removed]",
            "text/plain": [
              "<Figure size 432x288 with 1 Axes>"
            ]
          },
          "metadata": {
            "tags": [],
            "needs_background": "light"
          }
        }
      ]
    },
    {
      "cell_type": "code",
      "metadata": {
        "id": "3iQ8YZj7Dy2P",
        "colab": {
          "base_uri": "https://localhost:8080/"
        },
        "outputId": "09210f05-f050-4af4-d7f4-003f426c082a"
      },
      "source": [
        "# Quantitativo de Vacinados por Nome da Vacina\n",
        "df_norte['vacina_nome'].value_counts()"
      ],
      "execution_count": null,
      "outputs": [
        {
          "output_type": "execute_result",
          "data": {
            "text/plain": [
              "Covid-19-Coronavac-Sinovac/Butantan                          318643\n",
              "Vacina Covid-19 - Covishield                                 169652\n",
              "Vacina covid-19 - BNT162b2 - BioNTech/Fosun Pharma/Pfizer         2\n",
              "Name: vacina_nome, dtype: int64"
            ]
          },
          "metadata": {
            "tags": []
          },
          "execution_count": 91
        }
      ]
    },
    {
      "cell_type": "code",
      "metadata": {
        "id": "qE1lbDqHEsfM",
        "colab": {
          "base_uri": "https://localhost:8080/",
          "height": 574
        },
        "outputId": "c19b7857-c9d8-4f54-c10b-5ab433ff20e7"
      },
      "source": [
        "# Quantitativo de Vacinados por Nome da Vacina - gráfico\n",
        "df_norte['vacina_nome'].value_counts().plot.bar()"
      ],
      "execution_count": null,
      "outputs": [
        {
          "output_type": "execute_result",
          "data": {
            "text/plain": [
              "<matplotlib.axes._subplots.AxesSubplot at 0x7f0bdf70ee50>"
            ]
          },
          "metadata": {
            "tags": []
          },
          "execution_count": 92
        },
        {
          "output_type": "display_data",
          "data": {
            "image/png": "[encoded data removed]",
            "text/plain": [
              "<Figure size 432x288 with 1 Axes>"
            ]
          },
          "metadata": {
            "tags": [],
            "needs_background": "light"
          }
        }
      ]
    },
    {
      "cell_type": "code",
      "metadata": {
        "id": "2MQBat2mE8hq",
        "colab": {
          "base_uri": "https://localhost:8080/"
        },
        "outputId": "df465f40-26aa-4b2e-8526-789d8133da6c"
      },
      "source": [
        "# Quantitativo de Estabelecimentos de saúde por tipo de gestão (M - Municipal, E - Estadual, D - Dupla)\n",
        "df_norte['tp_gestao'].value_counts()"
      ],
      "execution_count": null,
      "outputs": [
        {
          "output_type": "execute_result",
          "data": {
            "text/plain": [
              "M    445951\n",
              "E     28111\n",
              "D     14235\n",
              "Name: tp_gestao, dtype: int64"
            ]
          },
          "metadata": {
            "tags": []
          },
          "execution_count": 93
        }
      ]
    },
    {
      "cell_type": "code",
      "metadata": {
        "id": "nkXpXQ87E9GC",
        "colab": {
          "base_uri": "https://localhost:8080/",
          "height": 281
        },
        "outputId": "504d5263-618f-4e42-faf1-97030949e675"
      },
      "source": [
        "# Quantitativo de Estabelecimentos de saúde por tipo de gestão (M - Municipal, E - Estadual, D - Dupla) - gráfico\n",
        "df_norte['tp_gestao'].value_counts().plot.bar()"
      ],
      "execution_count": null,
      "outputs": [
        {
          "output_type": "execute_result",
          "data": {
            "text/plain": [
              "<matplotlib.axes._subplots.AxesSubplot at 0x7f0bdf018c90>"
            ]
          },
          "metadata": {
            "tags": []
          },
          "execution_count": 94
        },
        {
          "output_type": "display_data",
          "data": {
            "image/png": "[encoded data removed]",
            "text/plain": [
              "<Figure size 432x288 with 1 Axes>"
            ]
          },
          "metadata": {
            "tags": [],
            "needs_background": "light"
          }
        }
      ]
    },
    {
      "cell_type": "code",
      "metadata": {
        "id": "KWALpyhaE9sr",
        "colab": {
          "base_uri": "https://localhost:8080/"
        },
        "outputId": "eef59a55-75ed-4d52-cf4c-4126e534c60c"
      },
      "source": [
        "# Quantitativo de Estabelecimentos de saúde por tipo de unidade\n",
        "df_norte['ds_tipo_unidade'].value_counts()"
      ],
      "execution_count": null,
      "outputs": [
        {
          "output_type": "execute_result",
          "data": {
            "text/plain": [
              "CENTRO DE SAUDE/UNIDADE BASICA                                  252957\n",
              "UNIDADE DE ATENCAO A SAUDE INDIGENA                              71406\n",
              "HOSPITAL GERAL                                                   58340\n",
              "UNIDADE DE VIGILANCIA EM SAUDE                                   56656\n",
              "POSTO DE SAUDE                                                   17964\n",
              "UNIDADE MISTA                                                     5592\n",
              "HOSPITAL ESPECIALIZADO                                            5092\n",
              "CENTRAL DE GESTAO EM SAUDE                                        4990\n",
              "PRONTO ATENDIMENTO                                                4148\n",
              "CLINICA/CENTRO DE ESPECIALIDADE                                   2466\n",
              "UNIDADE MOVEL TERRESTRE                                           2242\n",
              "PRONTO SOCORRO ESPECIALIZADO                                      1858\n",
              "PRONTO SOCORRO GERAL                                               895\n",
              "POLICLINICA                                                        867\n",
              "CENTRAL DE NOTIFICACAO,CAPTACAO E DISTRIB DE ORGAOS ESTADUAL       633\n",
              "CONSULTORIO ISOLADO                                                510\n",
              "CENTRAL DE REGULACAO MEDICA DAS URGENCIAS                          492\n",
              "UNIDADE MOVEL FLUVIAL                                              443\n",
              "UNIDADE DE APOIO DIAGNOSE E TERAPIA (SADT ISOLADO)                 219\n",
              "LABORATORIO DE SAUDE PUBLICA                                       132\n",
              "CENTRO DE ATENCAO HEMOTERAPIA E OU HEMATOLOGICA                    106\n",
              "UNIDADE MOVEL DE NIVEL PRE-HOSPITALAR NA AREA DE URGENCIA          101\n",
              "POLO DE PREVENCAO DE DOENCAS E AGRAVOS E PROMOCAO DA SAUDE          87\n",
              "CENTRO DE ATENCAO PSICOSSOCIAL                                      77\n",
              "POLO ACADEMIA DA SAUDE                                              17\n",
              "FARMACIA                                                             6\n",
              "HOSPITAL/DIA - ISOLADO                                               1\n",
              "Name: ds_tipo_unidade, dtype: int64"
            ]
          },
          "metadata": {
            "tags": []
          },
          "execution_count": 95
        }
      ]
    },
    {
      "cell_type": "code",
      "metadata": {
        "id": "YwQb-X2TE-Wk",
        "colab": {
          "base_uri": "https://localhost:8080/",
          "height": 637
        },
        "outputId": "18656dfe-30cd-48b4-a242-a94d57c91ca6"
      },
      "source": [
        "# Quantitativo de Estabelecimentos de saúde por tipo de unidade - gráfico\n",
        "df_norte['ds_tipo_unidade'].value_counts().plot.bar()"
      ],
      "execution_count": null,
      "outputs": [
        {
          "output_type": "execute_result",
          "data": {
            "text/plain": [
              "<matplotlib.axes._subplots.AxesSubplot at 0x7f0bdf70ebd0>"
            ]
          },
          "metadata": {
            "tags": []
          },
          "execution_count": 96
        },
        {
          "output_type": "display_data",
          "data": {
            "image/png": "[encoded data removed]",
            "text/plain": [
              "<Figure size 432x288 with 1 Axes>"
            ]
          },
          "metadata": {
            "tags": [],
            "needs_background": "light"
          }
        }
      ]
    },
    {
      "cell_type": "code",
      "metadata": {
        "id": "ViNwU8SXE_A2",
        "colab": {
          "base_uri": "https://localhost:8080/"
        },
        "outputId": "fcc5f57e-03e6-467e-e338-cd11b12c408f"
      },
      "source": [
        "# Quantitativo de Vacinados por Idade\n",
        "df_norte['paciente_idade'].value_counts()"
      ],
      "execution_count": null,
      "outputs": [
        {
          "output_type": "execute_result",
          "data": {
            "text/plain": [
              "80.0     11362\n",
              "81.0     10979\n",
              "82.0     10417\n",
              "83.0      9980\n",
              "70.0      9948\n",
              "         ...  \n",
              "120.0        1\n",
              "116.0        1\n",
              "2.0          1\n",
              "119.0        1\n",
              "127.0        1\n",
              "Name: paciente_idade, Length: 122, dtype: int64"
            ]
          },
          "metadata": {
            "tags": []
          },
          "execution_count": 98
        }
      ]
    },
    {
      "cell_type": "code",
      "metadata": {
        "id": "w8XbBIurHOfM",
        "colab": {
          "base_uri": "https://localhost:8080/",
          "height": 301
        },
        "outputId": "e46701ea-6385-4b51-81e3-b1e393d465fd"
      },
      "source": [
        "# Quantitativo de Vacinados por Idade - Alterar para outro tipo de gráfico\n",
        "df_norte['paciente_idade'].value_counts().plot.bar()"
      ],
      "execution_count": null,
      "outputs": [
        {
          "output_type": "execute_result",
          "data": {
            "text/plain": [
              "<matplotlib.axes._subplots.AxesSubplot at 0x7f0bde33ded0>"
            ]
          },
          "metadata": {
            "tags": []
          },
          "execution_count": 99
        },
        {
          "output_type": "display_data",
          "data": {
            "image/png": "[encoded data removed]",
            "text/plain": [
              "<Figure size 432x288 with 1 Axes>"
            ]
          },
          "metadata": {
            "tags": [],
            "needs_background": "light"
          }
        }
      ]
    },
    {
      "cell_type": "code",
      "metadata": {
        "id": "ZFSp-V0yE_qY",
        "colab": {
          "base_uri": "https://localhost:8080/",
          "height": 1000
        },
        "outputId": "f4801c01-6c2f-4f56-d5c3-eca060d711e0"
      },
      "source": [
        "# Total de vacinados da região norte fora do seu estado de residência :(\n",
        "df_norte.query('paciente_endereco_uf != estabelecimento_uf')"
      ],
      "execution_count": null,
      "outputs": [
        {
          "output_type": "execute_result",
          "data": {
            "text/html": [
              "<div>\n",
              "<style scoped>\n",
              "    .dataframe tbody tr th:only-of-type {\n",
              "        vertical-align: middle;\n",
              "    }\n",
              "\n",
              "    .dataframe tbody tr th {\n",
              "        vertical-align: top;\n",
              "    }\n",
              "\n",
              "    .dataframe thead th {\n",
              "        text-align: right;\n",
              "    }\n",
              "</style>\n",
              "<table border=\"1\" class=\"dataframe\">\n",
              "  <thead>\n",
              "    <tr style=\"text-align: right;\">\n",
              "      <th></th>\n",
              "      <th>document_id</th>\n",
              "      <th>paciente_id</th>\n",
              "      <th>paciente_idade</th>\n",
              "      <th>paciente_dataNascimento</th>\n",
              "      <th>paciente_enumSexoBiologico</th>\n",
              "      <th>paciente_racaCor_codigo</th>\n",
              "      <th>paciente_racaCor_valor</th>\n",
              "      <th>paciente_endereco_coIbgeMunicipio</th>\n",
              "      <th>paciente_endereco_coPais</th>\n",
              "      <th>paciente_endereco_nmMunicipio</th>\n",
              "      <th>paciente_endereco_nmPais</th>\n",
              "      <th>paciente_endereco_uf</th>\n",
              "      <th>paciente_nacionalidade_enumNacionalidade</th>\n",
              "      <th>estabelecimento_valor</th>\n",
              "      <th>estabelecimento_municipio_codigo</th>\n",
              "      <th>estabelecimento_municipio_nome</th>\n",
              "      <th>estabelecimento_uf</th>\n",
              "      <th>vacina_grupoAtendimento_codigo</th>\n",
              "      <th>vacina_grupoAtendimento_nome</th>\n",
              "      <th>vacina_categoria_codigo</th>\n",
              "      <th>vacina_categoria_nome</th>\n",
              "      <th>vacina_fabricante_nome</th>\n",
              "      <th>vacina_dataAplicacao</th>\n",
              "      <th>vacina_descricao_dose</th>\n",
              "      <th>vacina_nome</th>\n",
              "      <th>data_importacao_rnds</th>\n",
              "      <th>paciente_vacinado_fora_mun</th>\n",
              "      <th>co_cnes</th>\n",
              "      <th>no_fantasia</th>\n",
              "      <th>ds_tipo_unidade</th>\n",
              "      <th>tp_gestao</th>\n",
              "      <th>uf</th>\n",
              "    </tr>\n",
              "  </thead>\n",
              "  <tbody>\n",
              "    <tr>\n",
              "      <th>37</th>\n",
              "      <td>3dfc58d4-862d-42a8-ad3b-fb77b4dcff80-i0b0</td>\n",
              "      <td>01a928b2ace5b2f5c83d31f3f32e752b59e3fad4b7269b...</td>\n",
              "      <td>25.0</td>\n",
              "      <td>1995-08-20</td>\n",
              "      <td>F</td>\n",
              "      <td>3.0</td>\n",
              "      <td>PARDA</td>\n",
              "      <td>150360.0</td>\n",
              "      <td>10.0</td>\n",
              "      <td>ITAITUBA</td>\n",
              "      <td>BRASIL</td>\n",
              "      <td>PA</td>\n",
              "      <td>B</td>\n",
              "      <td>2082772</td>\n",
              "      <td>352900.0</td>\n",
              "      <td>MARILIA</td>\n",
              "      <td>SP</td>\n",
              "      <td>926</td>\n",
              "      <td>Outros</td>\n",
              "      <td>9.0</td>\n",
              "      <td>Trabalhadores de Saúde</td>\n",
              "      <td>AstraZeneca/Oxford</td>\n",
              "      <td>2021-01-30T00:00:00.000Z</td>\n",
              "      <td>1ª Dose</td>\n",
              "      <td>Vacina Covid-19 - Covishield</td>\n",
              "      <td>2021-01-30 12:01:28</td>\n",
              "      <td>True</td>\n",
              "      <td>2082772</td>\n",
              "      <td>UBS CASCATA</td>\n",
              "      <td>CENTRO DE SAUDE/UNIDADE BASICA</td>\n",
              "      <td>M</td>\n",
              "      <td>SP</td>\n",
              "    </tr>\n",
              "    <tr>\n",
              "      <th>425</th>\n",
              "      <td>12a02188-a574-454a-bc3a-c0e5d06d90ef-i0b0</td>\n",
              "      <td>1226eac6a1a9df2832b8e13e1cdac0ca6c02212de2e3cf...</td>\n",
              "      <td>48.0</td>\n",
              "      <td>1972-09-18</td>\n",
              "      <td>F</td>\n",
              "      <td>1.0</td>\n",
              "      <td>BRANCA</td>\n",
              "      <td>150503.0</td>\n",
              "      <td>10.0</td>\n",
              "      <td>NOVO PROGRESSO</td>\n",
              "      <td>BRASIL</td>\n",
              "      <td>PA</td>\n",
              "      <td>B</td>\n",
              "      <td>2082772</td>\n",
              "      <td>352900.0</td>\n",
              "      <td>MARILIA</td>\n",
              "      <td>SP</td>\n",
              "      <td>926</td>\n",
              "      <td>Outros</td>\n",
              "      <td>9.0</td>\n",
              "      <td>Trabalhadores de Saúde</td>\n",
              "      <td>AstraZeneca/Oxford</td>\n",
              "      <td>2021-01-30T00:00:00.000Z</td>\n",
              "      <td>1ª Dose</td>\n",
              "      <td>Vacina Covid-19 - Covishield</td>\n",
              "      <td>2021-01-30 11:01:32</td>\n",
              "      <td>True</td>\n",
              "      <td>2082772</td>\n",
              "      <td>UBS CASCATA</td>\n",
              "      <td>CENTRO DE SAUDE/UNIDADE BASICA</td>\n",
              "      <td>M</td>\n",
              "      <td>SP</td>\n",
              "    </tr>\n",
              "    <tr>\n",
              "      <th>1726</th>\n",
              "      <td>0dee2e04-4a79-4c7e-b48c-838ac4ab5ab3-i0b0</td>\n",
              "      <td>4a3132e90777d778c9119abbd59914d77f1d572e6ddbec...</td>\n",
              "      <td>87.0</td>\n",
              "      <td>1933-11-02</td>\n",
              "      <td>M</td>\n",
              "      <td>1.0</td>\n",
              "      <td>BRANCA</td>\n",
              "      <td>110020.0</td>\n",
              "      <td>10.0</td>\n",
              "      <td>PORTO VELHO</td>\n",
              "      <td>BRASIL</td>\n",
              "      <td>RO</td>\n",
              "      <td>B</td>\n",
              "      <td>2082772</td>\n",
              "      <td>352900.0</td>\n",
              "      <td>MARILIA</td>\n",
              "      <td>SP</td>\n",
              "      <td>205</td>\n",
              "      <td>Pessoas de 80 anos ou mais</td>\n",
              "      <td>2.0</td>\n",
              "      <td>Faixa Etária</td>\n",
              "      <td>Sinovac</td>\n",
              "      <td>2021-02-11T00:00:00.000Z</td>\n",
              "      <td>1ª Dose</td>\n",
              "      <td>Covid-19-Coronavac-Sinovac/Butantan</td>\n",
              "      <td>2021-02-11 15:02:00</td>\n",
              "      <td>True</td>\n",
              "      <td>2082772</td>\n",
              "      <td>UBS CASCATA</td>\n",
              "      <td>CENTRO DE SAUDE/UNIDADE BASICA</td>\n",
              "      <td>M</td>\n",
              "      <td>SP</td>\n",
              "    </tr>\n",
              "    <tr>\n",
              "      <th>3647</th>\n",
              "      <td>d7948974-f1d1-4114-afcf-f493b1078dbb-i0b0</td>\n",
              "      <td>9cbeef584b47dafe2d60ce90121e9f23f7092a4a37ae59...</td>\n",
              "      <td>85.0</td>\n",
              "      <td>1935-07-25</td>\n",
              "      <td>F</td>\n",
              "      <td>1.0</td>\n",
              "      <td>BRANCA</td>\n",
              "      <td>172100.0</td>\n",
              "      <td>10.0</td>\n",
              "      <td>PALMAS</td>\n",
              "      <td>BRASIL</td>\n",
              "      <td>TO</td>\n",
              "      <td>B</td>\n",
              "      <td>2082772</td>\n",
              "      <td>352900.0</td>\n",
              "      <td>MARILIA</td>\n",
              "      <td>SP</td>\n",
              "      <td>205</td>\n",
              "      <td>Pessoas de 80 anos ou mais</td>\n",
              "      <td>2.0</td>\n",
              "      <td>Faixa Etária</td>\n",
              "      <td>Sinovac</td>\n",
              "      <td>2021-02-01T00:00:00.000Z</td>\n",
              "      <td>1ª Dose</td>\n",
              "      <td>Covid-19-Coronavac-Sinovac/Butantan</td>\n",
              "      <td>2021-02-01 15:02:00</td>\n",
              "      <td>True</td>\n",
              "      <td>2082772</td>\n",
              "      <td>UBS CASCATA</td>\n",
              "      <td>CENTRO DE SAUDE/UNIDADE BASICA</td>\n",
              "      <td>M</td>\n",
              "      <td>SP</td>\n",
              "    </tr>\n",
              "    <tr>\n",
              "      <th>3666</th>\n",
              "      <td>d4bb084f-20bd-448a-b04e-b66119431942-i0b0</td>\n",
              "      <td>9de05f3ce92ad84cc53c72c16246f32305d001b0b434bd...</td>\n",
              "      <td>54.0</td>\n",
              "      <td>1966-10-20</td>\n",
              "      <td>M</td>\n",
              "      <td>4.0</td>\n",
              "      <td>AMARELA</td>\n",
              "      <td>130280.0</td>\n",
              "      <td>10.0</td>\n",
              "      <td>MARAA</td>\n",
              "      <td>BRASIL</td>\n",
              "      <td>AM</td>\n",
              "      <td>B</td>\n",
              "      <td>2082772</td>\n",
              "      <td>352900.0</td>\n",
              "      <td>MARILIA</td>\n",
              "      <td>SP</td>\n",
              "      <td>926</td>\n",
              "      <td>Outros</td>\n",
              "      <td>9.0</td>\n",
              "      <td>Trabalhadores de Saúde</td>\n",
              "      <td>AstraZeneca/Oxford</td>\n",
              "      <td>2021-01-29T00:00:00.000Z</td>\n",
              "      <td>1ª Dose</td>\n",
              "      <td>Vacina Covid-19 - Covishield</td>\n",
              "      <td>2021-01-29 03:00:00</td>\n",
              "      <td>True</td>\n",
              "      <td>2082772</td>\n",
              "      <td>UBS CASCATA</td>\n",
              "      <td>CENTRO DE SAUDE/UNIDADE BASICA</td>\n",
              "      <td>M</td>\n",
              "      <td>SP</td>\n",
              "    </tr>\n",
              "    <tr>\n",
              "      <th>...</th>\n",
              "      <td>...</td>\n",
              "      <td>...</td>\n",
              "      <td>...</td>\n",
              "      <td>...</td>\n",
              "      <td>...</td>\n",
              "      <td>...</td>\n",
              "      <td>...</td>\n",
              "      <td>...</td>\n",
              "      <td>...</td>\n",
              "      <td>...</td>\n",
              "      <td>...</td>\n",
              "      <td>...</td>\n",
              "      <td>...</td>\n",
              "      <td>...</td>\n",
              "      <td>...</td>\n",
              "      <td>...</td>\n",
              "      <td>...</td>\n",
              "      <td>...</td>\n",
              "      <td>...</td>\n",
              "      <td>...</td>\n",
              "      <td>...</td>\n",
              "      <td>...</td>\n",
              "      <td>...</td>\n",
              "      <td>...</td>\n",
              "      <td>...</td>\n",
              "      <td>...</td>\n",
              "      <td>...</td>\n",
              "      <td>...</td>\n",
              "      <td>...</td>\n",
              "      <td>...</td>\n",
              "      <td>...</td>\n",
              "      <td>...</td>\n",
              "    </tr>\n",
              "    <tr>\n",
              "      <th>3381259</th>\n",
              "      <td>16362c52-30a0-4915-8066-c0eb7072e549-i0b0</td>\n",
              "      <td>99436c7a1197a336d0a187b28479fb12460aa2ae55db0d...</td>\n",
              "      <td>83.0</td>\n",
              "      <td>1937-10-20</td>\n",
              "      <td>F</td>\n",
              "      <td>3.0</td>\n",
              "      <td>PARDA</td>\n",
              "      <td>130260.0</td>\n",
              "      <td>10.0</td>\n",
              "      <td>MANAUS</td>\n",
              "      <td>BRASIL</td>\n",
              "      <td>AM</td>\n",
              "      <td>B</td>\n",
              "      <td>6444288</td>\n",
              "      <td>150360.0</td>\n",
              "      <td>ITAITUBA</td>\n",
              "      <td>PA</td>\n",
              "      <td>205</td>\n",
              "      <td>Pessoas de 80 anos ou mais</td>\n",
              "      <td>2.0</td>\n",
              "      <td>Faixa Etária</td>\n",
              "      <td>FUNDACAO BUTANTAN</td>\n",
              "      <td>2021-02-12T03:00:00.000Z</td>\n",
              "      <td>1ª Dose</td>\n",
              "      <td>Covid-19-Coronavac-Sinovac/Butantan</td>\n",
              "      <td>2021-02-17 13:34:02</td>\n",
              "      <td>True</td>\n",
              "      <td>6444288</td>\n",
              "      <td>UNIDADE BASICA DE SAUDE CREPURIZAO</td>\n",
              "      <td>CENTRO DE SAUDE/UNIDADE BASICA</td>\n",
              "      <td>M</td>\n",
              "      <td>PA</td>\n",
              "    </tr>\n",
              "    <tr>\n",
              "      <th>3381463</th>\n",
              "      <td>c6aab6d6-545d-4fd4-87f2-0619c87749ac-i0b0</td>\n",
              "      <td>92aeaf90d6fa94adc2261c10b1f837c79664aea2a4cc55...</td>\n",
              "      <td>46.0</td>\n",
              "      <td>1974-04-08</td>\n",
              "      <td>M</td>\n",
              "      <td>4.0</td>\n",
              "      <td>AMARELA</td>\n",
              "      <td>170210.0</td>\n",
              "      <td>10.0</td>\n",
              "      <td>ARAGUAINA</td>\n",
              "      <td>BRASIL</td>\n",
              "      <td>TO</td>\n",
              "      <td>B</td>\n",
              "      <td>2318911</td>\n",
              "      <td>150840.0</td>\n",
              "      <td>XINGUARA</td>\n",
              "      <td>PA</td>\n",
              "      <td>921</td>\n",
              "      <td>Segurança</td>\n",
              "      <td>9.0</td>\n",
              "      <td>Trabalhadores de Saúde</td>\n",
              "      <td>FUNDACAO BUTANTAN</td>\n",
              "      <td>2021-01-29T03:00:00.000Z</td>\n",
              "      <td>1ª Dose</td>\n",
              "      <td>Covid-19-Coronavac-Sinovac/Butantan</td>\n",
              "      <td>2021-02-01 15:27:24</td>\n",
              "      <td>True</td>\n",
              "      <td>2318911</td>\n",
              "      <td>UNIDADE DE ESF MARIA DO SOCORRO</td>\n",
              "      <td>CENTRO DE SAUDE/UNIDADE BASICA</td>\n",
              "      <td>M</td>\n",
              "      <td>PA</td>\n",
              "    </tr>\n",
              "    <tr>\n",
              "      <th>3381514</th>\n",
              "      <td>6985ffe2-77c3-43a2-be81-b117ae0f9925-i0b0</td>\n",
              "      <td>9cd89af3b0e731a37a68ac626d26db24fe1eae8bde1925...</td>\n",
              "      <td>27.0</td>\n",
              "      <td>1993-09-08</td>\n",
              "      <td>F</td>\n",
              "      <td>4.0</td>\n",
              "      <td>AMARELA</td>\n",
              "      <td>170210.0</td>\n",
              "      <td>10.0</td>\n",
              "      <td>ARAGUAINA</td>\n",
              "      <td>BRASIL</td>\n",
              "      <td>TO</td>\n",
              "      <td>B</td>\n",
              "      <td>2323001</td>\n",
              "      <td>150543.0</td>\n",
              "      <td>OURILANDIA DO NORTE</td>\n",
              "      <td>PA</td>\n",
              "      <td>916</td>\n",
              "      <td>Odontologista</td>\n",
              "      <td>9.0</td>\n",
              "      <td>Trabalhadores de Saúde</td>\n",
              "      <td>FUNDACAO BUTANTAN</td>\n",
              "      <td>2021-01-22T03:00:00.000Z</td>\n",
              "      <td>1ª Dose</td>\n",
              "      <td>Covid-19-Coronavac-Sinovac/Butantan</td>\n",
              "      <td>2021-02-02 13:41:20</td>\n",
              "      <td>True</td>\n",
              "      <td>2323001</td>\n",
              "      <td>ESF DISTRITO DO CAMPINHO</td>\n",
              "      <td>CENTRO DE SAUDE/UNIDADE BASICA</td>\n",
              "      <td>M</td>\n",
              "      <td>PA</td>\n",
              "    </tr>\n",
              "    <tr>\n",
              "      <th>3382006</th>\n",
              "      <td>7202f609-ab4e-45f9-af05-09ed4c79db9a-i0b0</td>\n",
              "      <td>6616bb9869881e91f2c7a4d17b6b17b20821d8193e5e99...</td>\n",
              "      <td>29.0</td>\n",
              "      <td>1991-04-04</td>\n",
              "      <td>F</td>\n",
              "      <td>4.0</td>\n",
              "      <td>AMARELA</td>\n",
              "      <td>170215.0</td>\n",
              "      <td>10.0</td>\n",
              "      <td>ARAGUANA</td>\n",
              "      <td>BRASIL</td>\n",
              "      <td>TO</td>\n",
              "      <td>B</td>\n",
              "      <td>6031447</td>\n",
              "      <td>150563.0</td>\n",
              "      <td>PICARRA</td>\n",
              "      <td>PA</td>\n",
              "      <td>923</td>\n",
              "      <td>Técnico de Enfermagem</td>\n",
              "      <td>9.0</td>\n",
              "      <td>Trabalhadores de Saúde</td>\n",
              "      <td>FUNDACAO BUTANTAN</td>\n",
              "      <td>2021-01-25T03:00:00.000Z</td>\n",
              "      <td>1ª Dose</td>\n",
              "      <td>Covid-19-Coronavac-Sinovac/Butantan</td>\n",
              "      <td>2021-02-01 14:13:37</td>\n",
              "      <td>True</td>\n",
              "      <td>6031447</td>\n",
              "      <td>UNIDADE DE SAUDE DA FAMILIA DE ANAJA</td>\n",
              "      <td>POSTO DE SAUDE</td>\n",
              "      <td>M</td>\n",
              "      <td>PA</td>\n",
              "    </tr>\n",
              "    <tr>\n",
              "      <th>3382255</th>\n",
              "      <td>4c3884bd-6ae6-4b1f-aa57-5538a53cc046-i0b0</td>\n",
              "      <td>c7e34ed05ade738ec70f100a3ea7706d369d32b6093ce4...</td>\n",
              "      <td>39.0</td>\n",
              "      <td>1981-08-19</td>\n",
              "      <td>F</td>\n",
              "      <td>1.0</td>\n",
              "      <td>BRANCA</td>\n",
              "      <td>160030.0</td>\n",
              "      <td>10.0</td>\n",
              "      <td>MACAPA</td>\n",
              "      <td>BRASIL</td>\n",
              "      <td>AP</td>\n",
              "      <td>B</td>\n",
              "      <td>7495684</td>\n",
              "      <td>150250.0</td>\n",
              "      <td>CHAVES</td>\n",
              "      <td>PA</td>\n",
              "      <td>907</td>\n",
              "      <td>Enfermeiro(a)</td>\n",
              "      <td>9.0</td>\n",
              "      <td>Trabalhadores de Saúde</td>\n",
              "      <td>FUNDACAO BUTANTAN</td>\n",
              "      <td>2021-01-21T00:00:00.000Z</td>\n",
              "      <td>1ª Dose</td>\n",
              "      <td>Covid-19-Coronavac-Sinovac/Butantan</td>\n",
              "      <td>2021-01-24 00:54:11</td>\n",
              "      <td>True</td>\n",
              "      <td>7495684</td>\n",
              "      <td>UNIDADE BASICA DE SAUDE DO GANHOAO</td>\n",
              "      <td>CENTRO DE SAUDE/UNIDADE BASICA</td>\n",
              "      <td>M</td>\n",
              "      <td>PA</td>\n",
              "    </tr>\n",
              "  </tbody>\n",
              "</table>\n",
              "<p>14442 rows × 32 columns</p>\n",
              "</div>"
            ],
            "text/plain": [
              "                                       document_id  ...  uf\n",
              "37       3dfc58d4-862d-42a8-ad3b-fb77b4dcff80-i0b0  ...  SP\n",
              "425      12a02188-a574-454a-bc3a-c0e5d06d90ef-i0b0  ...  SP\n",
              "1726     0dee2e04-4a79-4c7e-b48c-838ac4ab5ab3-i0b0  ...  SP\n",
              "3647     d7948974-f1d1-4114-afcf-f493b1078dbb-i0b0  ...  SP\n",
              "3666     d4bb084f-20bd-448a-b04e-b66119431942-i0b0  ...  SP\n",
              "...                                            ...  ...  ..\n",
              "3381259  16362c52-30a0-4915-8066-c0eb7072e549-i0b0  ...  PA\n",
              "3381463  c6aab6d6-545d-4fd4-87f2-0619c87749ac-i0b0  ...  PA\n",
              "3381514  6985ffe2-77c3-43a2-be81-b117ae0f9925-i0b0  ...  PA\n",
              "3382006  7202f609-ab4e-45f9-af05-09ed4c79db9a-i0b0  ...  PA\n",
              "3382255  4c3884bd-6ae6-4b1f-aa57-5538a53cc046-i0b0  ...  PA\n",
              "\n",
              "[14442 rows x 32 columns]"
            ]
          },
          "metadata": {
            "tags": []
          },
          "execution_count": 97
        }
      ]
    },
    {
      "cell_type": "markdown",
      "metadata": {
        "id": "beMtEOLCHQym"
      },
      "source": [
        "\n"
      ]
    }
  ]
}