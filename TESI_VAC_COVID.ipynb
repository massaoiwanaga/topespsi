{
  "nbformat": 4,
  "nbformat_minor": 0,
  "metadata": {
    "colab": {
      "name": "TESI_VAC_COVID.ipynb",
      "provenance": [],
      "collapsed_sections": [],
      "include_colab_link": true
    },
    "kernelspec": {
      "name": "python3",
      "display_name": "Python 3"
    }
  },
  "cells": [
    {
      "cell_type": "markdown",
      "metadata": {
        "id": "view-in-github",
        "colab_type": "text"
      },
      "source": [
        "<a href=\"https://colab.research.google.com/github/massaoiwanaga/topespsi/blob/main/TESI_VAC_COVID.ipynb\" target=\"_parent\"><img src=\"https://colab.research.google.com/assets/colab-badge.svg\" alt=\"Open In Colab\"/></a>"
      ]
    },
    {
      "cell_type": "markdown",
      "metadata": {
        "id": "GKM1QhWJkivj"
      },
      "source": [
        "# **Trabalho Disciplina Topicos Especiais em Sistemas de Informação I**\n",
        "\n",
        "---\n",
        "\n",
        "## **Saúde (COVID-19)**\n",
        "\n",
        "> Alessandra Pierro Saraiva\n",
        ">\n",
        "> Fabiane Monteiro Carvalho\n",
        ">\n",
        "> Massao Oliveira Iwanaga"
      ]
    },
    {
      "cell_type": "code",
      "metadata": {
        "id": "N_tgSRoh8jka"
      },
      "source": [
        "# Testado no ambiente Google Colab - 1.0.0\n",
        "# Python 3.7.10 \n",
        "#\n",
        "# Bibliotecas utilizadas:\n",
        "#  numpy 1.19.5\n",
        "#  pandas 1.1.5\n",
        "#  matplotlib 3.2.2\n",
        "#  pandas_profiling 1.4.1\n",
        "#  prov 2.0.0\n",
        "#  IPython 5.5.0"
      ],
      "execution_count": 1,
      "outputs": []
    },
    {
      "cell_type": "markdown",
      "metadata": {
        "id": "V10aggEoikI0"
      },
      "source": [
        "## Importando a biblioteca pandas"
      ]
    },
    {
      "cell_type": "code",
      "metadata": {
        "id": "ga95m6B_idDm"
      },
      "source": [
        "# importando a biblioteca\n",
        "import pandas as pd # pandas\n",
        "import numpy as np  # numpy\n",
        "import matplotlib.pyplot as plt                # importar a biblioteca matplotlib\n",
        "import pandas_profiling"
      ],
      "execution_count": 2,
      "outputs": []
    },
    {
      "cell_type": "markdown",
      "metadata": {
        "id": "8ZAujZWhnc5H"
      },
      "source": [
        "## Instalação da biblioteca PROV"
      ]
    },
    {
      "cell_type": "code",
      "metadata": {
        "id": "mA2bEk1znqQr",
        "colab": {
          "base_uri": "https://localhost:8080/"
        },
        "outputId": "ea3e2d14-f525-4ff9-e2a8-46c3be74c423"
      },
      "source": [
        "#Instalação da biblioteca PROV no ambiente COLAB\n",
        "#Essa biblioteca implementa em Python o Modelo de Dados PROV da W3C\n",
        "!pip install prov"
      ],
      "execution_count": 3,
      "outputs": [
        {
          "output_type": "stream",
          "text": [
            "Collecting prov\n",
            "\u001b[?25l  Downloading https://files.pythonhosted.org/packages/cf/8d/9a5110845c6b117d203e3ca9eec5ee79bed29cef508c8415fbc85e900150/prov-2.0.0-py3-none-any.whl (421kB)\n",
            "\u001b[K     |████████████████████████████████| 430kB 9.3MB/s \n",
            "\u001b[?25hRequirement already satisfied: lxml>=3.3.5 in /usr/local/lib/python3.7/dist-packages (from prov) (4.2.6)\n",
            "Requirement already satisfied: python-dateutil>=2.2 in /usr/local/lib/python3.7/dist-packages (from prov) (2.8.1)\n",
            "Requirement already satisfied: networkx>=2.0 in /usr/local/lib/python3.7/dist-packages (from prov) (2.5)\n",
            "Collecting rdflib>=4.2.1\n",
            "\u001b[?25l  Downloading https://files.pythonhosted.org/packages/d0/6b/6454aa1db753c0f8bc265a5bd5c10b5721a4bb24160fb4faf758cf6be8a1/rdflib-5.0.0-py3-none-any.whl (231kB)\n",
            "\u001b[K     |████████████████████████████████| 235kB 11.1MB/s \n",
            "\u001b[?25hRequirement already satisfied: six>=1.5 in /usr/local/lib/python3.7/dist-packages (from python-dateutil>=2.2->prov) (1.15.0)\n",
            "Requirement already satisfied: decorator>=4.3.0 in /usr/local/lib/python3.7/dist-packages (from networkx>=2.0->prov) (4.4.2)\n",
            "Collecting isodate\n",
            "\u001b[?25l  Downloading https://files.pythonhosted.org/packages/9b/9f/b36f7774ff5ea8e428fdcfc4bb332c39ee5b9362ddd3d40d9516a55221b2/isodate-0.6.0-py2.py3-none-any.whl (45kB)\n",
            "\u001b[K     |████████████████████████████████| 51kB 5.0MB/s \n",
            "\u001b[?25hRequirement already satisfied: pyparsing in /usr/local/lib/python3.7/dist-packages (from rdflib>=4.2.1->prov) (2.4.7)\n",
            "Installing collected packages: isodate, rdflib, prov\n",
            "Successfully installed isodate-0.6.0 prov-2.0.0 rdflib-5.0.0\n"
          ],
          "name": "stdout"
        }
      ]
    },
    {
      "cell_type": "markdown",
      "metadata": {
        "id": "0ZxCO6OmkPHr"
      },
      "source": [
        "## Acessar dados do Google Drive"
      ]
    },
    {
      "cell_type": "code",
      "metadata": {
        "id": "jx_f5KoCiibo",
        "colab": {
          "base_uri": "https://localhost:8080/"
        },
        "outputId": "8b50ffa4-aee5-497c-ab50-34555b0da8da"
      },
      "source": [
        "# Se você está executando o notebook no Google Colab, é necessário montar o drive para o ambiente virtual do Google Drive\n",
        "# Clicar no link que aparecerá e será gerada uma chave, que deverá ser colada no campo \"Autorization code\"\n",
        "\n",
        "from google.colab import drive\n",
        "\n",
        "drive.mount('/content/drive')"
      ],
      "execution_count": 4,
      "outputs": [
        {
          "output_type": "stream",
          "text": [
            "Mounted at /content/drive\n"
          ],
          "name": "stdout"
        }
      ]
    },
    {
      "cell_type": "markdown",
      "metadata": {
        "id": "Xvi7GpG_TyjO"
      },
      "source": [
        "## Informações de proveniência"
      ]
    },
    {
      "cell_type": "code",
      "metadata": {
        "id": "KayJZ9tcT5AE"
      },
      "source": [
        "# Working with PROV\n",
        "\n",
        "import sys, subprocess, datetime, random\n",
        "from prov.model import ProvDocument                                                 #PROV Library\n"
      ],
      "execution_count": 30,
      "outputs": []
    },
    {
      "cell_type": "code",
      "metadata": {
        "id": "x7Z2qvhQU3RD",
        "colab": {
          "base_uri": "https://localhost:8080/"
        },
        "outputId": "43581995-d824-4386-84b4-7a589f35d109"
      },
      "source": [
        "# Retrospective Provenance variables\n",
        "agent    = input(\"Enter the name of the AGENT WHO is running the program: \")        #PROV-Agent\n",
        "entity   = input(\"Enter the name of the ENTITY dataset1: \")                          #PROV-Entity\n",
        "activity = input(\"Enter the name of the ACTIVITY1: \")                                #PROV-Activity\n",
        "graph = entity                                                                       #PROV-Graph\n",
        "entity2   = input(\"Enter the name of the ENTITY dataset2: \")                          #PROV-Entity\n",
        "activity2 = input(\"Enter the name of the ACTIVITY2: \")                                #PROV-Activity\n",
        "graph = entity2                                                                      #PROV-Graph"
      ],
      "execution_count": 31,
      "outputs": [
        {
          "output_type": "stream",
          "text": [
            "Enter the name of the AGENT WHO is running the program: Alessandra-Fabiane-Massao\n",
            "Enter the name of the ENTITY dataset1: Vacinação\n",
            "Enter the name of the ACTIVITY1: Leitura\n",
            "Enter the name of the ENTITY dataset2: CNES\n",
            "Enter the name of the ACTIVITY2: Leitura\n"
          ],
          "name": "stdout"
        }
      ]
    },
    {
      "cell_type": "markdown",
      "metadata": {
        "id": "tym3hACXXAAx"
      },
      "source": [
        ""
      ]
    },
    {
      "cell_type": "code",
      "metadata": {
        "id": "U2SM39XCVw58"
      },
      "source": [
        "### BEGIN - Registering Retrospective Provenance -             #PROV-MODEL\n",
        "\n",
        "# Creating an empty provenance document\n",
        "d1 = ProvDocument()                                                 "
      ],
      "execution_count": 32,
      "outputs": []
    },
    {
      "cell_type": "code",
      "metadata": {
        "id": "gCIMJVr8V1Op",
        "colab": {
          "base_uri": "https://localhost:8080/"
        },
        "outputId": "0b93e8a7-1aa5-4674-b0a0-6044f4bc74d4"
      },
      "source": [
        "# Declaring namespaces for various prefixes used in the excution of the experiment\n",
        "d1.add_namespace('dados.gov.br', 'https://dados.gov.br/dataset/covid-19-vacinacao/')\n",
        "d1.add_namespace('foaf', 'http://xmlns.com/foaf/0.1/')\n",
        "d1.add_namespace('greco', 'http://www.ufrj.br/ppgi/greco/#')\n",
        "d1.add_namespace('dados.gov.br', 'https://dados.gov.br/dataset/cnes_ativo')\n",
        "\n",
        "# Adding an entity\n",
        "entity = \"dados.gov.br:\"+ entity\n",
        "e1 = d1.entity(entity)\n",
        "\n",
        "entity2 = \"dados.gov.br:\"+ entity2\n",
        "e2 = d1.entity(entity2)\n",
        "\n",
        "# Adding an Agent \n",
        "agent = \"foaf:\"+ agent\n",
        "d1.agent(agent)\n",
        "\n",
        "# Attributing the execution of the experiment to the PROV-Agent\n",
        "d1.wasAttributedTo(e1, agent)\n",
        "d1.wasAttributedTo(e2, agent)\n",
        "\n",
        "# Adding an activity\n",
        "activity = \"greco:\"+ activity\n",
        "d1.activity(activity)\n",
        "\n",
        "activity2 = \"greco:\"+ activity2\n",
        "d1.activity(activity2)\n",
        "\n",
        "# Generation\n",
        "d1.wasGeneratedBy( entity, activity)\n",
        "d1.wasGeneratedBy( entity2, activity2)"
      ],
      "execution_count": 33,
      "outputs": [
        {
          "output_type": "execute_result",
          "data": {
            "text/plain": [
              "<ProvGeneration: (dados.gov.br:CNES, greco:Leitura)>"
            ]
          },
          "metadata": {
            "tags": []
          },
          "execution_count": 33
        }
      ]
    },
    {
      "cell_type": "code",
      "metadata": {
        "id": "f3XY5l2jWM3F",
        "colab": {
          "base_uri": "https://localhost:8080/"
        },
        "outputId": "86c6b6b6-820a-408d-8876-26b804f8e15a"
      },
      "source": [
        "# Adding a role to the PROV-Agent and timestamp to dataset\n",
        "d1.agent(agent, {'prov:hadRole': 'Executor', 'foaf:mbox': 'massaoiwanaga@ufrj.br', 'prov:attributedAtTime': str(datetime.datetime.utcnow())})\n",
        "d1.entity(entity, {'prov:generatedAtTime': str(datetime.datetime.utcnow())})\n",
        "d1.entity(entity2, {'prov:generatedAtTime': str(datetime.datetime.utcnow())})\n",
        "\n",
        "### END - Registering Retrospective Provenance "
      ],
      "execution_count": 34,
      "outputs": [
        {
          "output_type": "execute_result",
          "data": {
            "text/plain": [
              "<ProvEntity: dados.gov.br:CNES>"
            ]
          },
          "metadata": {
            "tags": []
          },
          "execution_count": 34
        }
      ]
    },
    {
      "cell_type": "code",
      "metadata": {
        "id": "QQmk81NJWX3y"
      },
      "source": [
        "### Optional outputs ####\n",
        "\n",
        "#Generating the outup - a  Provenance Graph\n",
        "from prov.dot import prov_to_dot\n",
        "dot = prov_to_dot(d1)\n",
        "graph = graph +\".png\"\n",
        "dot.write_png('/content/drive/My Drive/TESI_FCD/'+graph)"
      ],
      "execution_count": 35,
      "outputs": []
    },
    {
      "cell_type": "code",
      "metadata": {
        "id": "B74xIlIyWdU2"
      },
      "source": [
        "#Generating the Serialization - Output XML\n",
        "d1.serialize(entity + \".xml\", format='xml') \n",
        "d1.serialize(entity2 + \".xml\", format='xml') \n",
        "\n",
        "#Generating the Serialization - Output Turtle\n",
        "d1.serialize(entity + \".ttl\", format='rdf', rdf_format='ttl') \n",
        "d1.serialize(entity2 + \".ttl\", format='rdf', rdf_format='ttl') "
      ],
      "execution_count": 36,
      "outputs": []
    },
    {
      "cell_type": "code",
      "metadata": {
        "id": "0vrjsEa0WhoN",
        "colab": {
          "base_uri": "https://localhost:8080/"
        },
        "outputId": "1002d6a7-f93c-478c-d465-b1c5ba615f37"
      },
      "source": [
        "#Generating the outup of Provenance document\n",
        "print ('')\n",
        "print ('simple provenance doc')\n",
        "print(d1.get_provn())\n",
        "print ('')"
      ],
      "execution_count": null,
      "outputs": [
        {
          "output_type": "stream",
          "text": [
            "\n",
            "simple provenance doc\n",
            "document\n",
            "  prefix dados.gov.br <https://dados.gov.br/dataset/covid-19-vacinacao/>\n",
            "  prefix foaf <http://xmlns.com/foaf/0.1/>\n",
            "  prefix greco <http://www.ufrj.br/ppgi/greco/#>\n",
            "  \n",
            "  entity(dados.gov.br:Vacinação)\n",
            "  agent(foaf:Massao)\n",
            "  wasAttributedTo(dados.gov.br:Vacinação, foaf:Massao)\n",
            "  activity(greco:Ler, -, -)\n",
            "  wasGeneratedBy(dados.gov.br:Vacinação, greco:Ler, -)\n",
            "  agent(foaf:Massao, [prov:hadRole=\"Executor\", foaf:mbox=\"massaoiwanaga@ufrj.br\", prov:attributedAtTime=\"2021-03-22 21:57:41.837420\"])\n",
            "  entity(dados.gov.br:Vacinação, [prov:generatedAtTime=\"2021-03-22 21:57:41.837660\"])\n",
            "endDocument\n",
            "\n"
          ],
          "name": "stdout"
        }
      ]
    },
    {
      "cell_type": "code",
      "metadata": {
        "id": "c2mhS2FHWlUY",
        "colab": {
          "base_uri": "https://localhost:8080/"
        },
        "outputId": "64fc1e4d-1e2c-4c70-dd78-72d022120709"
      },
      "source": [
        "#Generating the Serialization - Output JSON\n",
        "print ('')\n",
        "print ('simple provenance JSON')\n",
        "print(d1.serialize(indent=2))\n",
        "print('')"
      ],
      "execution_count": 37,
      "outputs": [
        {
          "output_type": "stream",
          "text": [
            "\n",
            "simple provenance JSON\n",
            "{\n",
            "  \"prefix\": {\n",
            "    \"dados.gov.br\": \"https://dados.gov.br/dataset/covid-19-vacinacao/\",\n",
            "    \"foaf\": \"http://xmlns.com/foaf/0.1/\",\n",
            "    \"greco\": \"http://www.ufrj.br/ppgi/greco/#\",\n",
            "    \"dados.gov.br_1\": \"https://dados.gov.br/dataset/cnes_ativo\"\n",
            "  },\n",
            "  \"entity\": {\n",
            "    \"dados.gov.br:Vacina\\u00e7\\u00e3o\": [\n",
            "      {},\n",
            "      {\n",
            "        \"prov:generatedAtTime\": \"2021-03-24 02:01:48.880161\"\n",
            "      }\n",
            "    ],\n",
            "    \"dados.gov.br:CNES\": [\n",
            "      {},\n",
            "      {\n",
            "        \"prov:generatedAtTime\": \"2021-03-24 02:01:48.880238\"\n",
            "      }\n",
            "    ]\n",
            "  },\n",
            "  \"agent\": {\n",
            "    \"foaf:Alessandra-Fabiane-Massao\": [\n",
            "      {},\n",
            "      {\n",
            "        \"prov:hadRole\": \"Executor\",\n",
            "        \"foaf:mbox\": \"massaoiwanaga@ufrj.br\",\n",
            "        \"prov:attributedAtTime\": \"2021-03-24 02:01:48.879935\"\n",
            "      }\n",
            "    ]\n",
            "  },\n",
            "  \"wasAttributedTo\": {\n",
            "    \"_:id1\": {\n",
            "      \"prov:entity\": \"dados.gov.br:Vacina\\u00e7\\u00e3o\",\n",
            "      \"prov:agent\": \"foaf:Alessandra-Fabiane-Massao\"\n",
            "    },\n",
            "    \"_:id2\": {\n",
            "      \"prov:entity\": \"dados.gov.br:CNES\",\n",
            "      \"prov:agent\": \"foaf:Alessandra-Fabiane-Massao\"\n",
            "    }\n",
            "  },\n",
            "  \"activity\": {\n",
            "    \"greco:Leitura\": [\n",
            "      {},\n",
            "      {}\n",
            "    ]\n",
            "  },\n",
            "  \"wasGeneratedBy\": {\n",
            "    \"_:id3\": {\n",
            "      \"prov:entity\": \"dados.gov.br:Vacina\\u00e7\\u00e3o\",\n",
            "      \"prov:activity\": \"greco:Leitura\"\n",
            "    },\n",
            "    \"_:id4\": {\n",
            "      \"prov:entity\": \"dados.gov.br:CNES\",\n",
            "      \"prov:activity\": \"greco:Leitura\"\n",
            "    }\n",
            "  }\n",
            "}\n",
            "\n"
          ],
          "name": "stdout"
        }
      ]
    },
    {
      "cell_type": "code",
      "metadata": {
        "id": "Jzjk9fAuWpa8",
        "colab": {
          "base_uri": "https://localhost:8080/",
          "height": 301
        },
        "outputId": "4b91bd71-d245-4e70-c3c8-26f7229ecc26"
      },
      "source": [
        "# Adding Vizualization the provenance graph in the Jupyter notebook\n",
        "from IPython.display import Image\n",
        "Image('/content/drive/My Drive/TESI_FCD/'+graph)"
      ],
      "execution_count": 38,
      "outputs": [
        {
          "output_type": "execute_result",
          "data": {
            "image/png": "[encoded data removed]",
            "text/plain": [
              "<IPython.core.display.Image object>"
            ]
          },
          "metadata": {
            "tags": []
          },
          "execution_count": 38
        }
      ]
    },
    {
      "cell_type": "markdown",
      "metadata": {
        "id": "jPH2RL_MuprD"
      },
      "source": [
        "## Variáveis gerais do trabalho proposto"
      ]
    },
    {
      "cell_type": "code",
      "metadata": {
        "id": "NlNc6CRoumWr"
      },
      "source": [
        "## Merge entre os dataFrames de Vacinação e CNES# UFs das regiões norte e sudeste, que serão analisadas no trabalho\n",
        "\n",
        "UFs = ['RJ', 'SP','MG', 'ES', 'AM', 'AC', 'AP', 'PA', 'RO', 'RR', 'TO']"
      ],
      "execution_count": null,
      "outputs": []
    },
    {
      "cell_type": "markdown",
      "metadata": {
        "id": "FjgCAEu6jYo0"
      },
      "source": [
        "## Importação e tratamento do DataSet de Vacinação"
      ]
    },
    {
      "cell_type": "code",
      "metadata": {
        "id": "TQwJ_pn5jyO2"
      },
      "source": [
        "# Salve o dataset de vacinação no diretório TESI_FCD no Google Drive\n",
        "# Para tornar o notebook reutilizável, futuramente pode-se solicitar o diretório e o nome do dataset via prompt.\n",
        "\n",
        "df_vacinacao = pd.read_csv('/content/drive/My Drive/TESI_FCD/part-00000-090405dc-80c4-4889-84c3-a9a390d06947-c000.csv',delimiter=',')"
      ],
      "execution_count": null,
      "outputs": []
    },
    {
      "cell_type": "markdown",
      "metadata": {
        "id": "FFjXn0Fxw7Xv"
      },
      "source": [
        "### Exploração inicial do DataSet de Vacinação"
      ]
    },
    {
      "cell_type": "code",
      "metadata": {
        "id": "w17aVTJRJEHg"
      },
      "source": [
        "# Código reprodutível\n",
        "# assert len(df_vacinacao) == 6958578"
      ],
      "execution_count": null,
      "outputs": []
    },
    {
      "cell_type": "code",
      "metadata": {
        "id": "11SdiIamniZE",
        "colab": {
          "base_uri": "https://localhost:8080/"
        },
        "outputId": "48f2c0ba-cea0-4409-ad70-39cd8f8e7d50"
      },
      "source": [
        "print('Total de registros:',len(df_vacinacao))    # Quantidade de registros do dataset\n",
        "print('')\n",
        "print(df_vacinacao.info())  # Informações sobre o dataset \n",
        "\n",
        "# Observe o total de linhas e o total de colunas (33) do dataset"
      ],
      "execution_count": null,
      "outputs": [
        {
          "output_type": "stream",
          "text": [
            "Total de registros: 7908949\n",
            "\n",
            "<class 'pandas.core.frame.DataFrame'>\n",
            "RangeIndex: 7908949 entries, 0 to 7908948\n",
            "Data columns (total 26 columns):\n",
            " #   Column                                    Dtype  \n",
            "---  ------                                    -----  \n",
            " 0   document_id                               object \n",
            " 1   paciente_id                               object \n",
            " 2   paciente_idade                            float64\n",
            " 3   paciente_dataNascimento                   object \n",
            " 4   paciente_enumSexoBiologico                object \n",
            " 5   paciente_racaCor_codigo                   float64\n",
            " 6   paciente_racaCor_valor                    object \n",
            " 7   paciente_endereco_coIbgeMunicipio         float64\n",
            " 8   paciente_endereco_coPais                  float64\n",
            " 9   paciente_endereco_nmMunicipio             object \n",
            " 10  paciente_endereco_nmPais                  object \n",
            " 11  paciente_endereco_uf                      object \n",
            " 12  paciente_nacionalidade_enumNacionalidade  object \n",
            " 13  estabelecimento_valor                     int64  \n",
            " 14  estabelecimento_municipio_codigo          float64\n",
            " 15  estabelecimento_municipio_nome            object \n",
            " 16  estabelecimento_uf                        object \n",
            " 17  vacina_grupoAtendimento_codigo            int64  \n",
            " 18  vacina_grupoAtendimento_nome              object \n",
            " 19  vacina_categoria_codigo                   float64\n",
            " 20  vacina_categoria_nome                     object \n",
            " 21  vacina_fabricante_nome                    object \n",
            " 22  vacina_dataAplicacao                      object \n",
            " 23  vacina_descricao_dose                     object \n",
            " 24  vacina_nome                               object \n",
            " 25  data_importacao_rnds                      object \n",
            "dtypes: float64(6), int64(2), object(18)\n",
            "memory usage: 1.5+ GB\n",
            "None\n"
          ],
          "name": "stdout"
        }
      ]
    },
    {
      "cell_type": "code",
      "metadata": {
        "id": "3j9ZF5Zakzzi",
        "colab": {
          "base_uri": "https://localhost:8080/",
          "height": 696
        },
        "outputId": "7dfc42b8-5e58-4619-c6d9-c2c3b505b62c"
      },
      "source": [
        "df_vacinacao.head(10)        # Visualização dos registros iniciais"
      ],
      "execution_count": null,
      "outputs": [
        {
          "output_type": "execute_result",
          "data": {
            "text/html": [
              "<div>\n",
              "<style scoped>\n",
              "    .dataframe tbody tr th:only-of-type {\n",
              "        vertical-align: middle;\n",
              "    }\n",
              "\n",
              "    .dataframe tbody tr th {\n",
              "        vertical-align: top;\n",
              "    }\n",
              "\n",
              "    .dataframe thead th {\n",
              "        text-align: right;\n",
              "    }\n",
              "</style>\n",
              "<table border=\"1\" class=\"dataframe\">\n",
              "  <thead>\n",
              "    <tr style=\"text-align: right;\">\n",
              "      <th></th>\n",
              "      <th>document_id</th>\n",
              "      <th>paciente_id</th>\n",
              "      <th>paciente_idade</th>\n",
              "      <th>paciente_dataNascimento</th>\n",
              "      <th>paciente_enumSexoBiologico</th>\n",
              "      <th>paciente_racaCor_codigo</th>\n",
              "      <th>paciente_racaCor_valor</th>\n",
              "      <th>paciente_endereco_coIbgeMunicipio</th>\n",
              "      <th>paciente_endereco_coPais</th>\n",
              "      <th>paciente_endereco_nmMunicipio</th>\n",
              "      <th>paciente_endereco_nmPais</th>\n",
              "      <th>paciente_endereco_uf</th>\n",
              "      <th>paciente_nacionalidade_enumNacionalidade</th>\n",
              "      <th>estabelecimento_valor</th>\n",
              "      <th>estabelecimento_municipio_codigo</th>\n",
              "      <th>estabelecimento_municipio_nome</th>\n",
              "      <th>estabelecimento_uf</th>\n",
              "      <th>vacina_grupoAtendimento_codigo</th>\n",
              "      <th>vacina_grupoAtendimento_nome</th>\n",
              "      <th>vacina_categoria_codigo</th>\n",
              "      <th>vacina_categoria_nome</th>\n",
              "      <th>vacina_fabricante_nome</th>\n",
              "      <th>vacina_dataAplicacao</th>\n",
              "      <th>vacina_descricao_dose</th>\n",
              "      <th>vacina_nome</th>\n",
              "      <th>data_importacao_rnds</th>\n",
              "    </tr>\n",
              "  </thead>\n",
              "  <tbody>\n",
              "    <tr>\n",
              "      <th>0</th>\n",
              "      <td>60aeb975-94ed-4113-a8b0-ac55dbb8ab41-i0b0</td>\n",
              "      <td>433768b2c569be2ff29976dea5cddd0eeb907de38c254e...</td>\n",
              "      <td>79.0</td>\n",
              "      <td>1942-01-28</td>\n",
              "      <td>F</td>\n",
              "      <td>1.0</td>\n",
              "      <td>BRANCA</td>\n",
              "      <td>432225.0</td>\n",
              "      <td>10.0</td>\n",
              "      <td>TUPANDI</td>\n",
              "      <td>BRASIL</td>\n",
              "      <td>RS</td>\n",
              "      <td>B</td>\n",
              "      <td>2227428</td>\n",
              "      <td>431950.0</td>\n",
              "      <td>SAO SEBASTIAO DO CAI</td>\n",
              "      <td>RS</td>\n",
              "      <td>301</td>\n",
              "      <td>Pessoas de 60 nos ou mais Institucionalizadas</td>\n",
              "      <td>3.0</td>\n",
              "      <td>Pessoas de 60 anos ou mais institucionalizadas</td>\n",
              "      <td>FUNDACAO BUTANTAN</td>\n",
              "      <td>2021-02-16T03:00:00.000Z</td>\n",
              "      <td>2ª Dose</td>\n",
              "      <td>Covid-19-Coronavac-Sinovac/Butantan</td>\n",
              "      <td>2021-02-19 03:20:03</td>\n",
              "    </tr>\n",
              "    <tr>\n",
              "      <th>1</th>\n",
              "      <td>b68c468e-8083-4cca-8da1-ea9a8decbaba-i0b0</td>\n",
              "      <td>8499ef2ad9174cee4bd4dac8ae172a706775f4c835cb17...</td>\n",
              "      <td>90.0</td>\n",
              "      <td>1930-09-11</td>\n",
              "      <td>M</td>\n",
              "      <td>2.0</td>\n",
              "      <td>PRETA</td>\n",
              "      <td>430930.0</td>\n",
              "      <td>10.0</td>\n",
              "      <td>GUAIBA</td>\n",
              "      <td>BRASIL</td>\n",
              "      <td>RS</td>\n",
              "      <td>B</td>\n",
              "      <td>2225999</td>\n",
              "      <td>430930.0</td>\n",
              "      <td>GUAIBA</td>\n",
              "      <td>RS</td>\n",
              "      <td>205</td>\n",
              "      <td>Pessoas de 80 anos ou mais</td>\n",
              "      <td>2.0</td>\n",
              "      <td>Faixa Etária</td>\n",
              "      <td>FUNDACAO BUTANTAN</td>\n",
              "      <td>2021-02-11T03:00:00.000Z</td>\n",
              "      <td>1ª Dose</td>\n",
              "      <td>Covid-19-Coronavac-Sinovac/Butantan</td>\n",
              "      <td>2021-02-19 16:04:01</td>\n",
              "    </tr>\n",
              "    <tr>\n",
              "      <th>2</th>\n",
              "      <td>db74d38d-be6e-4b1a-82d0-e2797c3b55e7-i0b0</td>\n",
              "      <td>1c8b855733d6ea88081712bd74f95ca36bef67ac83b168...</td>\n",
              "      <td>91.0</td>\n",
              "      <td>1929-06-25</td>\n",
              "      <td>F</td>\n",
              "      <td>1.0</td>\n",
              "      <td>BRANCA</td>\n",
              "      <td>316900.0</td>\n",
              "      <td>10.0</td>\n",
              "      <td>TOCANTINS</td>\n",
              "      <td>BRASIL</td>\n",
              "      <td>MG</td>\n",
              "      <td>B</td>\n",
              "      <td>2162776</td>\n",
              "      <td>316900.0</td>\n",
              "      <td>TOCANTINS</td>\n",
              "      <td>MG</td>\n",
              "      <td>205</td>\n",
              "      <td>Pessoas de 80 anos ou mais</td>\n",
              "      <td>2.0</td>\n",
              "      <td>Faixa Etária</td>\n",
              "      <td>FUNDACAO BUTANTAN</td>\n",
              "      <td>2021-02-12T03:00:00.000Z</td>\n",
              "      <td>1ª Dose</td>\n",
              "      <td>Covid-19-Coronavac-Sinovac/Butantan</td>\n",
              "      <td>2021-02-15 19:32:10</td>\n",
              "    </tr>\n",
              "    <tr>\n",
              "      <th>3</th>\n",
              "      <td>2126698b-2d68-4559-afbd-2cfb665319d8-i0b0</td>\n",
              "      <td>b89cbe103ef31b4bbe4b101e56ad1c3f97a8772a9e440c...</td>\n",
              "      <td>81.0</td>\n",
              "      <td>1939-04-14</td>\n",
              "      <td>F</td>\n",
              "      <td>1.0</td>\n",
              "      <td>BRANCA</td>\n",
              "      <td>240800.0</td>\n",
              "      <td>10.0</td>\n",
              "      <td>MOSSORO</td>\n",
              "      <td>BRASIL</td>\n",
              "      <td>RN</td>\n",
              "      <td>B</td>\n",
              "      <td>7172605</td>\n",
              "      <td>240800.0</td>\n",
              "      <td>MOSSORO</td>\n",
              "      <td>RN</td>\n",
              "      <td>205</td>\n",
              "      <td>Pessoas de 80 anos ou mais</td>\n",
              "      <td>2.0</td>\n",
              "      <td>Faixa Etária</td>\n",
              "      <td>FUNDACAO OSWALDO CRUZ</td>\n",
              "      <td>2021-02-19T00:00:00.000Z</td>\n",
              "      <td>1ª Dose</td>\n",
              "      <td>Vacina Covid-19 - Covishield</td>\n",
              "      <td>2021-02-20 03:36:33</td>\n",
              "    </tr>\n",
              "    <tr>\n",
              "      <th>4</th>\n",
              "      <td>58479a85-603d-4167-898d-e638b4204cc3-i0b0</td>\n",
              "      <td>9a8ae778fc10f5382ce36f1ffb538be3e0df908dd64498...</td>\n",
              "      <td>27.0</td>\n",
              "      <td>1993-12-30</td>\n",
              "      <td>F</td>\n",
              "      <td>1.0</td>\n",
              "      <td>BRANCA</td>\n",
              "      <td>350850.0</td>\n",
              "      <td>10.0</td>\n",
              "      <td>CACAPAVA</td>\n",
              "      <td>BRASIL</td>\n",
              "      <td>SP</td>\n",
              "      <td>B</td>\n",
              "      <td>6426247</td>\n",
              "      <td>350850.0</td>\n",
              "      <td>CACAPAVA</td>\n",
              "      <td>SP</td>\n",
              "      <td>926</td>\n",
              "      <td>Outros</td>\n",
              "      <td>9.0</td>\n",
              "      <td>Trabalhadores de Saúde</td>\n",
              "      <td>Sinovac</td>\n",
              "      <td>2021-02-04T00:00:00.000Z</td>\n",
              "      <td>1ª Dose</td>\n",
              "      <td>Covid-19-Coronavac-Sinovac/Butantan</td>\n",
              "      <td>2021-02-04 06:02:43</td>\n",
              "    </tr>\n",
              "    <tr>\n",
              "      <th>5</th>\n",
              "      <td>dd31f5e0-11be-4f20-b513-321d38fe7209-i0b0</td>\n",
              "      <td>4afd17a894ce085a0eb3385de1bd981b0fe8c3dba69f75...</td>\n",
              "      <td>37.0</td>\n",
              "      <td>1983-02-28</td>\n",
              "      <td>F</td>\n",
              "      <td>99.0</td>\n",
              "      <td>SEM INFORMACAO</td>\n",
              "      <td>150420.0</td>\n",
              "      <td>10.0</td>\n",
              "      <td>MARABA</td>\n",
              "      <td>BRASIL</td>\n",
              "      <td>PA</td>\n",
              "      <td>B</td>\n",
              "      <td>2614804</td>\n",
              "      <td>150420.0</td>\n",
              "      <td>MARABA</td>\n",
              "      <td>PA</td>\n",
              "      <td>908</td>\n",
              "      <td>Farmacêutico</td>\n",
              "      <td>9.0</td>\n",
              "      <td>Trabalhadores de Saúde</td>\n",
              "      <td>FUNDACAO BUTANTAN</td>\n",
              "      <td>2021-02-23T03:00:00.000Z</td>\n",
              "      <td>2ª Dose</td>\n",
              "      <td>Covid-19-Coronavac-Sinovac/Butantan</td>\n",
              "      <td>2021-02-24 12:51:16</td>\n",
              "    </tr>\n",
              "    <tr>\n",
              "      <th>6</th>\n",
              "      <td>7d70a956-4521-44da-ab0a-16c0704906e7-i0b0</td>\n",
              "      <td>883c5dd876b70d6822bd90f9635a9b69831916b44004e0...</td>\n",
              "      <td>83.0</td>\n",
              "      <td>1937-03-14</td>\n",
              "      <td>F</td>\n",
              "      <td>99.0</td>\n",
              "      <td>SEM INFORMACAO</td>\n",
              "      <td>NaN</td>\n",
              "      <td>NaN</td>\n",
              "      <td>NaN</td>\n",
              "      <td>NaN</td>\n",
              "      <td>NaN</td>\n",
              "      <td>B</td>\n",
              "      <td>2226960</td>\n",
              "      <td>431600.0</td>\n",
              "      <td>ROLANTE</td>\n",
              "      <td>RS</td>\n",
              "      <td>205</td>\n",
              "      <td>Pessoas de 80 anos ou mais</td>\n",
              "      <td>2.0</td>\n",
              "      <td>Faixa Etária</td>\n",
              "      <td>FUNDACAO BUTANTAN</td>\n",
              "      <td>2021-02-13T03:00:00.000Z</td>\n",
              "      <td>1ª Dose</td>\n",
              "      <td>Covid-19-Coronavac-Sinovac/Butantan</td>\n",
              "      <td>2021-02-22 11:39:03</td>\n",
              "    </tr>\n",
              "    <tr>\n",
              "      <th>7</th>\n",
              "      <td>0fc13a2b-b5ca-4f8b-8771-82b0d38af987-i0b0</td>\n",
              "      <td>37b4d41cb87fcdbc8c3492d92ec79582fd4b4b7ce7f908...</td>\n",
              "      <td>96.0</td>\n",
              "      <td>1924-09-24</td>\n",
              "      <td>F</td>\n",
              "      <td>99.0</td>\n",
              "      <td>SEM INFORMACAO</td>\n",
              "      <td>355030.0</td>\n",
              "      <td>10.0</td>\n",
              "      <td>SAO PAULO</td>\n",
              "      <td>BRASIL</td>\n",
              "      <td>SP</td>\n",
              "      <td>B</td>\n",
              "      <td>4049942</td>\n",
              "      <td>355030.0</td>\n",
              "      <td>SAO PAULO</td>\n",
              "      <td>SP</td>\n",
              "      <td>205</td>\n",
              "      <td>Pessoas de 80 anos ou mais</td>\n",
              "      <td>2.0</td>\n",
              "      <td>Faixa Etária</td>\n",
              "      <td>AstraZeneca/Oxford</td>\n",
              "      <td>2021-02-05T00:00:00.000Z</td>\n",
              "      <td>1ª Dose</td>\n",
              "      <td>Vacina Covid-19 - Covishield</td>\n",
              "      <td>2021-02-05 04:02:52</td>\n",
              "    </tr>\n",
              "    <tr>\n",
              "      <th>8</th>\n",
              "      <td>a7f11d1a-9875-41a4-8685-1840ae72ce7a-i0b0</td>\n",
              "      <td>607bb8b993afaa2a30d48a20aaba3e0e9ed233fcaa226f...</td>\n",
              "      <td>36.0</td>\n",
              "      <td>1984-10-10</td>\n",
              "      <td>F</td>\n",
              "      <td>3.0</td>\n",
              "      <td>PARDA</td>\n",
              "      <td>293076.0</td>\n",
              "      <td>10.0</td>\n",
              "      <td>SITIO DO QUINTO</td>\n",
              "      <td>BRASIL</td>\n",
              "      <td>BA</td>\n",
              "      <td>B</td>\n",
              "      <td>285293</td>\n",
              "      <td>293076.0</td>\n",
              "      <td>SITIO DO QUINTO</td>\n",
              "      <td>BA</td>\n",
              "      <td>926</td>\n",
              "      <td>Outros</td>\n",
              "      <td>9.0</td>\n",
              "      <td>Trabalhadores de Saúde</td>\n",
              "      <td>FUNDACAO BUTANTAN</td>\n",
              "      <td>2021-02-19T03:00:00.000Z</td>\n",
              "      <td>2ª Dose</td>\n",
              "      <td>Covid-19-Coronavac-Sinovac/Butantan</td>\n",
              "      <td>2021-02-23 13:30:53</td>\n",
              "    </tr>\n",
              "    <tr>\n",
              "      <th>9</th>\n",
              "      <td>8c713fb7-b97a-4540-9265-2e2dbc5a18a0-i0b0</td>\n",
              "      <td>1f9815fb6524de0051dffe223d0b236b4708abc1c9d560...</td>\n",
              "      <td>38.0</td>\n",
              "      <td>1982-08-08</td>\n",
              "      <td>F</td>\n",
              "      <td>1.0</td>\n",
              "      <td>BRANCA</td>\n",
              "      <td>353800.0</td>\n",
              "      <td>10.0</td>\n",
              "      <td>PINDAMONHANGABA</td>\n",
              "      <td>BRASIL</td>\n",
              "      <td>SP</td>\n",
              "      <td>B</td>\n",
              "      <td>2755068</td>\n",
              "      <td>353800.0</td>\n",
              "      <td>PINDAMONHANGABA</td>\n",
              "      <td>SP</td>\n",
              "      <td>926</td>\n",
              "      <td>Outros</td>\n",
              "      <td>9.0</td>\n",
              "      <td>Trabalhadores de Saúde</td>\n",
              "      <td>Sinovac</td>\n",
              "      <td>2021-02-13T00:00:00.000Z</td>\n",
              "      <td>2ª Dose</td>\n",
              "      <td>Covid-19-Coronavac-Sinovac/Butantan</td>\n",
              "      <td>2021-02-13 15:02:00</td>\n",
              "    </tr>\n",
              "  </tbody>\n",
              "</table>\n",
              "</div>"
            ],
            "text/plain": [
              "                                 document_id  ... data_importacao_rnds\n",
              "0  60aeb975-94ed-4113-a8b0-ac55dbb8ab41-i0b0  ...  2021-02-19 03:20:03\n",
              "1  b68c468e-8083-4cca-8da1-ea9a8decbaba-i0b0  ...  2021-02-19 16:04:01\n",
              "2  db74d38d-be6e-4b1a-82d0-e2797c3b55e7-i0b0  ...  2021-02-15 19:32:10\n",
              "3  2126698b-2d68-4559-afbd-2cfb665319d8-i0b0  ...  2021-02-20 03:36:33\n",
              "4  58479a85-603d-4167-898d-e638b4204cc3-i0b0  ...  2021-02-04 06:02:43\n",
              "5  dd31f5e0-11be-4f20-b513-321d38fe7209-i0b0  ...  2021-02-24 12:51:16\n",
              "6  7d70a956-4521-44da-ab0a-16c0704906e7-i0b0  ...  2021-02-22 11:39:03\n",
              "7  0fc13a2b-b5ca-4f8b-8771-82b0d38af987-i0b0  ...  2021-02-05 04:02:52\n",
              "8  a7f11d1a-9875-41a4-8685-1840ae72ce7a-i0b0  ...  2021-02-23 13:30:53\n",
              "9  8c713fb7-b97a-4540-9265-2e2dbc5a18a0-i0b0  ...  2021-02-13 15:02:00\n",
              "\n",
              "[10 rows x 26 columns]"
            ]
          },
          "metadata": {
            "tags": []
          },
          "execution_count": 16
        }
      ]
    },
    {
      "cell_type": "markdown",
      "metadata": {
        "id": "w_-afw8rnvR6"
      },
      "source": [
        "### Eliminação de colunas e linhas que não serão utilizadas - Dataset Vacinação"
      ]
    },
    {
      "cell_type": "code",
      "metadata": {
        "id": "HYKi6nd7vuXX"
      },
      "source": [
        "# Eliminação das colunas que não serão utilizadas nas análises\n",
        "\n",
        "df_vacinacao = df_vacinacao.drop(['paciente_endereco_cep','estabelecimento_razaoSocial','estalecimento_noFantasia','vacina_lote','vacina_fabricante_referencia',\n",
        "                                  'vacina_codigo','sistema_origem'],axis=1)"
      ],
      "execution_count": null,
      "outputs": []
    },
    {
      "cell_type": "code",
      "metadata": {
        "id": "ykG7R2TZt_I6"
      },
      "source": [
        "# Como o dataset possui dados de todo o Brasil, os estados que não pertencem às regiões selecionadas para análise serão eliminados do dataframe\n",
        "df_vacinacao = df_vacinacao.loc[(df_vacinacao['estabelecimento_uf'].isin(UFs))]"
      ],
      "execution_count": null,
      "outputs": []
    },
    {
      "cell_type": "code",
      "metadata": {
        "id": "vTalUQSzJdeW"
      },
      "source": [
        "# Código reprodutível\n",
        "# assert len(df_vacinacao) == 4036465"
      ],
      "execution_count": null,
      "outputs": []
    },
    {
      "cell_type": "code",
      "metadata": {
        "id": "0Ukr7QVPxCHQ",
        "colab": {
          "base_uri": "https://localhost:8080/"
        },
        "outputId": "d60e9cae-65d7-4423-a396-f6798d5fde75"
      },
      "source": [
        "print('Total de registros:',len(df_vacinacao))    # Quantidade de registros do dataset após eliminação de linhas\n",
        "\n",
        "print('')\n",
        "print(df_vacinacao.info())                        # Informações sobre o dataset\n",
        "\n",
        "## É possível observar a redução do número total de linhas e do número total de colunas (26) do dataset"
      ],
      "execution_count": null,
      "outputs": [
        {
          "output_type": "stream",
          "text": [
            "Total de registros: 4536169\n",
            "\n",
            "<class 'pandas.core.frame.DataFrame'>\n",
            "Int64Index: 4536169 entries, 2 to 7908948\n",
            "Data columns (total 26 columns):\n",
            " #   Column                                    Dtype  \n",
            "---  ------                                    -----  \n",
            " 0   document_id                               object \n",
            " 1   paciente_id                               object \n",
            " 2   paciente_idade                            float64\n",
            " 3   paciente_dataNascimento                   object \n",
            " 4   paciente_enumSexoBiologico                object \n",
            " 5   paciente_racaCor_codigo                   float64\n",
            " 6   paciente_racaCor_valor                    object \n",
            " 7   paciente_endereco_coIbgeMunicipio         float64\n",
            " 8   paciente_endereco_coPais                  float64\n",
            " 9   paciente_endereco_nmMunicipio             object \n",
            " 10  paciente_endereco_nmPais                  object \n",
            " 11  paciente_endereco_uf                      object \n",
            " 12  paciente_nacionalidade_enumNacionalidade  object \n",
            " 13  estabelecimento_valor                     int64  \n",
            " 14  estabelecimento_municipio_codigo          float64\n",
            " 15  estabelecimento_municipio_nome            object \n",
            " 16  estabelecimento_uf                        object \n",
            " 17  vacina_grupoAtendimento_codigo            int64  \n",
            " 18  vacina_grupoAtendimento_nome              object \n",
            " 19  vacina_categoria_codigo                   float64\n",
            " 20  vacina_categoria_nome                     object \n",
            " 21  vacina_fabricante_nome                    object \n",
            " 22  vacina_dataAplicacao                      object \n",
            " 23  vacina_descricao_dose                     object \n",
            " 24  vacina_nome                               object \n",
            " 25  data_importacao_rnds                      object \n",
            "dtypes: float64(6), int64(2), object(18)\n",
            "memory usage: 934.4+ MB\n",
            "None\n"
          ],
          "name": "stdout"
        }
      ]
    },
    {
      "cell_type": "markdown",
      "metadata": {
        "id": "R_0vh7Hkn7-a"
      },
      "source": [
        "### Tratamento de valores nulos e/ou faltantes"
      ]
    },
    {
      "cell_type": "code",
      "metadata": {
        "id": "ocxA_HkDlNZB",
        "colab": {
          "base_uri": "https://localhost:8080/"
        },
        "outputId": "11dbf682-27c7-4be2-c336-b9a81f4d83ae"
      },
      "source": [
        "df_vacinacao.count()  # Quantidade de registros por coluna. \n",
        "                      # É possível observar que algumas colunas possuem quatidade inferior de registros, o que indica que será necessário \n",
        "                      #    tratamento de dados se essas colunas forem necessárias para análise"
      ],
      "execution_count": null,
      "outputs": [
        {
          "output_type": "execute_result",
          "data": {
            "text/plain": [
              "document_id                                 4536169\n",
              "paciente_id                                 4536169\n",
              "paciente_idade                              4536169\n",
              "paciente_dataNascimento                     4536169\n",
              "paciente_enumSexoBiologico                  4536169\n",
              "paciente_racaCor_codigo                     4536169\n",
              "paciente_racaCor_valor                      4536169\n",
              "paciente_endereco_coIbgeMunicipio           4513076\n",
              "paciente_endereco_coPais                    4513157\n",
              "paciente_endereco_nmMunicipio               4513115\n",
              "paciente_endereco_nmPais                    4513157\n",
              "paciente_endereco_uf                        4513076\n",
              "paciente_nacionalidade_enumNacionalidade    4529352\n",
              "estabelecimento_valor                       4536169\n",
              "estabelecimento_municipio_codigo            4536169\n",
              "estabelecimento_municipio_nome              4536169\n",
              "estabelecimento_uf                          4536169\n",
              "vacina_grupoAtendimento_codigo              4536169\n",
              "vacina_grupoAtendimento_nome                4471613\n",
              "vacina_categoria_codigo                     4471613\n",
              "vacina_categoria_nome                       4471613\n",
              "vacina_fabricante_nome                      4535777\n",
              "vacina_dataAplicacao                        4536169\n",
              "vacina_descricao_dose                       4536169\n",
              "vacina_nome                                 4536169\n",
              "data_importacao_rnds                        4536169\n",
              "dtype: int64"
            ]
          },
          "metadata": {
            "tags": []
          },
          "execution_count": 11
        }
      ]
    },
    {
      "cell_type": "code",
      "metadata": {
        "id": "WAdHK78uc0I3"
      },
      "source": [
        "#In Pandas missing data is represented by two value:\n",
        "    #None: None is a Python singleton object that is often used for missing data in Python code.\n",
        "    #NaN : NaN (an acronym for Not a Number), is a special floating-point value recognized by all systems that use the standard IEEE floating-point representation\n",
        "#Pandas treat None and NaN as essentially interchangeable for indicating missing or null values.\n",
        "\n",
        "#Número de registros (linhas) do arquivo antes da limpeza\n",
        "#index = df_vacinacao.index\n",
        "#num_linhas = len(index)\n",
        "#num_linhas #4536169\n",
        "\n",
        "#Contando o número de registros (linhas) com o campo \"paciente_endereco_nmMunicipio\" nulo\n",
        "#bool_series = pd.isnull(df_vacinacao[\"paciente_endereco_nmMunicipio\"])\n",
        "#df_vacinacao[bool_series]\n",
        "\n",
        "#Eliminando linhas em que o campo \"paciente_endereco_nmMunicipio\" for nulo\n",
        "#df_vacinacao = df_vacinacao.dropna(subset=['paciente_endereco_nmMunicipio'])\n",
        "#df_vacinacao = df_vacinacao.dropna(subset=['paciente_endereco_nmMunicipio', 'estabelecimento_municipio_nome'])\n"
      ],
      "execution_count": null,
      "outputs": []
    },
    {
      "cell_type": "code",
      "metadata": {
        "id": "D999RL3EJ2W0"
      },
      "source": [
        "# Código reprodutível\n",
        "# Incluir alguma validação em relaçao ao conteúdo das colunas que serão trabalhadas, usando o comando assert - ideia: valor mínimo, máximo ou média"
      ],
      "execution_count": null,
      "outputs": []
    },
    {
      "cell_type": "markdown",
      "metadata": {
        "id": "pr5uB2lEMAJe"
      },
      "source": [
        "###Tratamento de cor"
      ]
    },
    {
      "cell_type": "code",
      "metadata": {
        "colab": {
          "base_uri": "https://localhost:8080/",
          "height": 69
        },
        "id": "IzSdEXFaME84",
        "outputId": "f7a65076-1005-4a7a-c2e5-9c4761ebfeb2"
      },
      "source": [
        "#df_vacinacao.query('paciente_racaCor_codigo not in [\"1\", \"2\", \"3\", \"4\", \"99\"]')\n",
        "\n",
        "#Aqui verificou-se a existência de outra raça/cor não contemplada no dicionário de dados:\n",
        "#raça/cor = 5 (indígena) com 77831 registros encontrados\n",
        "#df_vacinacao.query('paciente_racaCor_codigo  in [\"5\"]')\n",
        "\n",
        "#Aqui verificou-se que não existe ocorrência de valor de raça/cor diferente de \"1\", \"2\", \"3\", \"4\", \"5\", \"99\", logo nenhum tratamento foi preciso\n",
        "df_vacinacao.query('paciente_racaCor_codigo not in [\"1\", \"2\", \"3\", \"4\", \"5\", \"99\"]')"
      ],
      "execution_count": null,
      "outputs": [
        {
          "output_type": "execute_result",
          "data": {
            "text/html": [
              "<div>\n",
              "<style scoped>\n",
              "    .dataframe tbody tr th:only-of-type {\n",
              "        vertical-align: middle;\n",
              "    }\n",
              "\n",
              "    .dataframe tbody tr th {\n",
              "        vertical-align: top;\n",
              "    }\n",
              "\n",
              "    .dataframe thead th {\n",
              "        text-align: right;\n",
              "    }\n",
              "</style>\n",
              "<table border=\"1\" class=\"dataframe\">\n",
              "  <thead>\n",
              "    <tr style=\"text-align: right;\">\n",
              "      <th></th>\n",
              "      <th>document_id</th>\n",
              "      <th>paciente_id</th>\n",
              "      <th>paciente_idade</th>\n",
              "      <th>paciente_dataNascimento</th>\n",
              "      <th>paciente_enumSexoBiologico</th>\n",
              "      <th>paciente_racaCor_codigo</th>\n",
              "      <th>paciente_racaCor_valor</th>\n",
              "      <th>paciente_endereco_coIbgeMunicipio</th>\n",
              "      <th>paciente_endereco_coPais</th>\n",
              "      <th>paciente_endereco_nmMunicipio</th>\n",
              "      <th>paciente_endereco_nmPais</th>\n",
              "      <th>paciente_endereco_uf</th>\n",
              "      <th>paciente_nacionalidade_enumNacionalidade</th>\n",
              "      <th>estabelecimento_valor</th>\n",
              "      <th>estabelecimento_municipio_codigo</th>\n",
              "      <th>estabelecimento_municipio_nome</th>\n",
              "      <th>estabelecimento_uf</th>\n",
              "      <th>vacina_grupoAtendimento_codigo</th>\n",
              "      <th>vacina_grupoAtendimento_nome</th>\n",
              "      <th>vacina_categoria_codigo</th>\n",
              "      <th>vacina_categoria_nome</th>\n",
              "      <th>vacina_fabricante_nome</th>\n",
              "      <th>vacina_dataAplicacao</th>\n",
              "      <th>vacina_descricao_dose</th>\n",
              "      <th>vacina_nome</th>\n",
              "      <th>data_importacao_rnds</th>\n",
              "    </tr>\n",
              "  </thead>\n",
              "  <tbody>\n",
              "  </tbody>\n",
              "</table>\n",
              "</div>"
            ],
            "text/plain": [
              "Empty DataFrame\n",
              "Columns: [document_id, paciente_id, paciente_idade, paciente_dataNascimento, paciente_enumSexoBiologico, paciente_racaCor_codigo, paciente_racaCor_valor, paciente_endereco_coIbgeMunicipio, paciente_endereco_coPais, paciente_endereco_nmMunicipio, paciente_endereco_nmPais, paciente_endereco_uf, paciente_nacionalidade_enumNacionalidade, estabelecimento_valor, estabelecimento_municipio_codigo, estabelecimento_municipio_nome, estabelecimento_uf, vacina_grupoAtendimento_codigo, vacina_grupoAtendimento_nome, vacina_categoria_codigo, vacina_categoria_nome, vacina_fabricante_nome, vacina_dataAplicacao, vacina_descricao_dose, vacina_nome, data_importacao_rnds]\n",
              "Index: []"
            ]
          },
          "metadata": {
            "tags": []
          },
          "execution_count": 12
        }
      ]
    },
    {
      "cell_type": "markdown",
      "metadata": {
        "id": "6DpU2V2QpWUv"
      },
      "source": [
        "### Identificação e tratamento de valores duplicados"
      ]
    },
    {
      "cell_type": "code",
      "metadata": {
        "id": "zqTPlEbSAJlc",
        "colab": {
          "base_uri": "https://localhost:8080/",
          "height": 791
        },
        "outputId": "196946ac-a96d-4564-8c18-d50fe74d1a1c"
      },
      "source": [
        "#Lista todos os registros em que o \"paciente_id\" apareça mais de 2 vezes\n",
        "df_vacinacao[df_vacinacao['paciente_id'].isin(df_vacinacao['paciente_id'].value_counts()[df_vacinacao['paciente_id'].value_counts()>2].index)].sort_values(by=[\"paciente_id\"])\n",
        "\n",
        "#df_vacinacao.duplicated(subset=['document_id'])\n",
        "#df_vacinacao[df_vacinacao.duplicated(subset=['paciente_id'], keep=False)].sort_values(by=[\"paciente_id\"])"
      ],
      "execution_count": null,
      "outputs": [
        {
          "output_type": "execute_result",
          "data": {
            "text/html": [
              "<div>\n",
              "<style scoped>\n",
              "    .dataframe tbody tr th:only-of-type {\n",
              "        vertical-align: middle;\n",
              "    }\n",
              "\n",
              "    .dataframe tbody tr th {\n",
              "        vertical-align: top;\n",
              "    }\n",
              "\n",
              "    .dataframe thead th {\n",
              "        text-align: right;\n",
              "    }\n",
              "</style>\n",
              "<table border=\"1\" class=\"dataframe\">\n",
              "  <thead>\n",
              "    <tr style=\"text-align: right;\">\n",
              "      <th></th>\n",
              "      <th>document_id</th>\n",
              "      <th>paciente_id</th>\n",
              "      <th>paciente_idade</th>\n",
              "      <th>paciente_dataNascimento</th>\n",
              "      <th>paciente_enumSexoBiologico</th>\n",
              "      <th>paciente_racaCor_codigo</th>\n",
              "      <th>paciente_racaCor_valor</th>\n",
              "      <th>paciente_endereco_coIbgeMunicipio</th>\n",
              "      <th>paciente_endereco_coPais</th>\n",
              "      <th>paciente_endereco_nmMunicipio</th>\n",
              "      <th>paciente_endereco_nmPais</th>\n",
              "      <th>paciente_endereco_uf</th>\n",
              "      <th>paciente_nacionalidade_enumNacionalidade</th>\n",
              "      <th>estabelecimento_valor</th>\n",
              "      <th>estabelecimento_municipio_codigo</th>\n",
              "      <th>estabelecimento_municipio_nome</th>\n",
              "      <th>estabelecimento_uf</th>\n",
              "      <th>vacina_grupoAtendimento_codigo</th>\n",
              "      <th>vacina_grupoAtendimento_nome</th>\n",
              "      <th>vacina_categoria_codigo</th>\n",
              "      <th>vacina_categoria_nome</th>\n",
              "      <th>vacina_fabricante_nome</th>\n",
              "      <th>vacina_dataAplicacao</th>\n",
              "      <th>vacina_descricao_dose</th>\n",
              "      <th>vacina_nome</th>\n",
              "      <th>data_importacao_rnds</th>\n",
              "    </tr>\n",
              "  </thead>\n",
              "  <tbody>\n",
              "    <tr>\n",
              "      <th>2167262</th>\n",
              "      <td>9fbb3bdc-63f2-4d25-b0a0-2ec9bd7e9c03-i0b0</td>\n",
              "      <td>0002803e634499dd19caeb400348a0246e8ed255bd4fac...</td>\n",
              "      <td>36.0</td>\n",
              "      <td>1984-06-14</td>\n",
              "      <td>F</td>\n",
              "      <td>99.0</td>\n",
              "      <td>SEM INFORMACAO</td>\n",
              "      <td>354990.0</td>\n",
              "      <td>10.0</td>\n",
              "      <td>SAO JOSE DOS CAMPOS</td>\n",
              "      <td>BRASIL</td>\n",
              "      <td>SP</td>\n",
              "      <td>B</td>\n",
              "      <td>8990</td>\n",
              "      <td>354990.0</td>\n",
              "      <td>SAO JOSE DOS CAMPOS</td>\n",
              "      <td>SP</td>\n",
              "      <td>926</td>\n",
              "      <td>Outros</td>\n",
              "      <td>9.0</td>\n",
              "      <td>Trabalhadores de Saúde</td>\n",
              "      <td>Sinovac</td>\n",
              "      <td>2021-01-21T00:00:00.000Z</td>\n",
              "      <td>1ª Dose</td>\n",
              "      <td>Covid-19-Coronavac-Sinovac/Butantan</td>\n",
              "      <td>2021-01-21 03:00:00</td>\n",
              "    </tr>\n",
              "    <tr>\n",
              "      <th>4453107</th>\n",
              "      <td>0e65a0ae-4d28-4fd0-b1cf-20ab70aa40ab-i0b0</td>\n",
              "      <td>0002803e634499dd19caeb400348a0246e8ed255bd4fac...</td>\n",
              "      <td>36.0</td>\n",
              "      <td>1984-06-14</td>\n",
              "      <td>F</td>\n",
              "      <td>99.0</td>\n",
              "      <td>SEM INFORMACAO</td>\n",
              "      <td>354990.0</td>\n",
              "      <td>10.0</td>\n",
              "      <td>SAO JOSE DOS CAMPOS</td>\n",
              "      <td>BRASIL</td>\n",
              "      <td>SP</td>\n",
              "      <td>B</td>\n",
              "      <td>8990</td>\n",
              "      <td>354990.0</td>\n",
              "      <td>SAO JOSE DOS CAMPOS</td>\n",
              "      <td>SP</td>\n",
              "      <td>0</td>\n",
              "      <td>NaN</td>\n",
              "      <td>NaN</td>\n",
              "      <td>NaN</td>\n",
              "      <td>SERUM INSTITUTE OF INDIA LTD</td>\n",
              "      <td>2021-02-15T00:00:00.000Z</td>\n",
              "      <td>2ª Dose</td>\n",
              "      <td>Covid-19-Coronavac-Sinovac/Butantan</td>\n",
              "      <td>2021-02-22 14:23:00</td>\n",
              "    </tr>\n",
              "    <tr>\n",
              "      <th>2696535</th>\n",
              "      <td>f8f2b974-94f0-4a8c-b928-89e69a3f87b8-i0b0</td>\n",
              "      <td>0002803e634499dd19caeb400348a0246e8ed255bd4fac...</td>\n",
              "      <td>36.0</td>\n",
              "      <td>1984-06-14</td>\n",
              "      <td>F</td>\n",
              "      <td>99.0</td>\n",
              "      <td>SEM INFORMACAO</td>\n",
              "      <td>354990.0</td>\n",
              "      <td>10.0</td>\n",
              "      <td>SAO JOSE DOS CAMPOS</td>\n",
              "      <td>BRASIL</td>\n",
              "      <td>SP</td>\n",
              "      <td>B</td>\n",
              "      <td>9296</td>\n",
              "      <td>354990.0</td>\n",
              "      <td>SAO JOSE DOS CAMPOS</td>\n",
              "      <td>SP</td>\n",
              "      <td>0</td>\n",
              "      <td>NaN</td>\n",
              "      <td>NaN</td>\n",
              "      <td>NaN</td>\n",
              "      <td>SERUM INSTITUTE OF INDIA LTD</td>\n",
              "      <td>2021-01-25T00:00:00.000Z</td>\n",
              "      <td>1ª Dose</td>\n",
              "      <td>Covid-19-Coronavac-Sinovac/Butantan</td>\n",
              "      <td>2021-02-22 14:14:27</td>\n",
              "    </tr>\n",
              "    <tr>\n",
              "      <th>1195871</th>\n",
              "      <td>0b964871-30ba-457b-b4b7-8dc564e10000-i0b0</td>\n",
              "      <td>0002803e634499dd19caeb400348a0246e8ed255bd4fac...</td>\n",
              "      <td>36.0</td>\n",
              "      <td>1984-06-14</td>\n",
              "      <td>F</td>\n",
              "      <td>99.0</td>\n",
              "      <td>SEM INFORMACAO</td>\n",
              "      <td>354990.0</td>\n",
              "      <td>10.0</td>\n",
              "      <td>SAO JOSE DOS CAMPOS</td>\n",
              "      <td>BRASIL</td>\n",
              "      <td>SP</td>\n",
              "      <td>B</td>\n",
              "      <td>8990</td>\n",
              "      <td>354990.0</td>\n",
              "      <td>SAO JOSE DOS CAMPOS</td>\n",
              "      <td>SP</td>\n",
              "      <td>926</td>\n",
              "      <td>Outros</td>\n",
              "      <td>9.0</td>\n",
              "      <td>Trabalhadores de Saúde</td>\n",
              "      <td>Sinovac</td>\n",
              "      <td>2021-02-12T00:00:00.000Z</td>\n",
              "      <td>2ª Dose</td>\n",
              "      <td>Covid-19-Coronavac-Sinovac/Butantan</td>\n",
              "      <td>2021-02-12 03:00:00</td>\n",
              "    </tr>\n",
              "    <tr>\n",
              "      <th>2526108</th>\n",
              "      <td>3a2815b0-98cf-48b0-ba16-c548dcf4c00f-i0b0</td>\n",
              "      <td>0002ed6bb9e4a7f27ca1ba8f62c9b1502356ba8141933f...</td>\n",
              "      <td>28.0</td>\n",
              "      <td>1992-11-09</td>\n",
              "      <td>F</td>\n",
              "      <td>1.0</td>\n",
              "      <td>BRANCA</td>\n",
              "      <td>355540.0</td>\n",
              "      <td>10.0</td>\n",
              "      <td>UBATUBA</td>\n",
              "      <td>BRASIL</td>\n",
              "      <td>SP</td>\n",
              "      <td>B</td>\n",
              "      <td>2270315</td>\n",
              "      <td>330455.0</td>\n",
              "      <td>RIO DE JANEIRO</td>\n",
              "      <td>RJ</td>\n",
              "      <td>912</td>\n",
              "      <td>Médico</td>\n",
              "      <td>9.0</td>\n",
              "      <td>Trabalhadores de Saúde</td>\n",
              "      <td>FUNDACAO BUTANTAN</td>\n",
              "      <td>2021-01-20T03:00:00.000Z</td>\n",
              "      <td>1ª Dose</td>\n",
              "      <td>Covid-19-Coronavac-Sinovac/Butantan</td>\n",
              "      <td>2021-02-17 23:20:15</td>\n",
              "    </tr>\n",
              "    <tr>\n",
              "      <th>...</th>\n",
              "      <td>...</td>\n",
              "      <td>...</td>\n",
              "      <td>...</td>\n",
              "      <td>...</td>\n",
              "      <td>...</td>\n",
              "      <td>...</td>\n",
              "      <td>...</td>\n",
              "      <td>...</td>\n",
              "      <td>...</td>\n",
              "      <td>...</td>\n",
              "      <td>...</td>\n",
              "      <td>...</td>\n",
              "      <td>...</td>\n",
              "      <td>...</td>\n",
              "      <td>...</td>\n",
              "      <td>...</td>\n",
              "      <td>...</td>\n",
              "      <td>...</td>\n",
              "      <td>...</td>\n",
              "      <td>...</td>\n",
              "      <td>...</td>\n",
              "      <td>...</td>\n",
              "      <td>...</td>\n",
              "      <td>...</td>\n",
              "      <td>...</td>\n",
              "      <td>...</td>\n",
              "    </tr>\n",
              "    <tr>\n",
              "      <th>3175387</th>\n",
              "      <td>331dd088-6a01-440f-b624-bbdd9413f2a3-i0b0</td>\n",
              "      <td>fff87e7b4465b0b248ffcb3f3c64a2ac1ed306a2e2c132...</td>\n",
              "      <td>43.0</td>\n",
              "      <td>1977-05-18</td>\n",
              "      <td>F</td>\n",
              "      <td>99.0</td>\n",
              "      <td>SEM INFORMACAO</td>\n",
              "      <td>354990.0</td>\n",
              "      <td>10.0</td>\n",
              "      <td>SAO JOSE DOS CAMPOS</td>\n",
              "      <td>BRASIL</td>\n",
              "      <td>SP</td>\n",
              "      <td>B</td>\n",
              "      <td>9040</td>\n",
              "      <td>354990.0</td>\n",
              "      <td>SAO JOSE DOS CAMPOS</td>\n",
              "      <td>SP</td>\n",
              "      <td>926</td>\n",
              "      <td>Outros</td>\n",
              "      <td>9.0</td>\n",
              "      <td>Trabalhadores de Saúde</td>\n",
              "      <td>Sinovac</td>\n",
              "      <td>2021-02-12T00:00:00.000Z</td>\n",
              "      <td>2ª Dose</td>\n",
              "      <td>Covid-19-Coronavac-Sinovac/Butantan</td>\n",
              "      <td>2021-02-12 03:00:00</td>\n",
              "    </tr>\n",
              "    <tr>\n",
              "      <th>5682370</th>\n",
              "      <td>9c2b150f-8604-43a7-b4ac-8e99f6cf740d-i0b0</td>\n",
              "      <td>fff87e7b4465b0b248ffcb3f3c64a2ac1ed306a2e2c132...</td>\n",
              "      <td>43.0</td>\n",
              "      <td>1977-05-18</td>\n",
              "      <td>F</td>\n",
              "      <td>99.0</td>\n",
              "      <td>SEM INFORMACAO</td>\n",
              "      <td>354990.0</td>\n",
              "      <td>10.0</td>\n",
              "      <td>SAO JOSE DOS CAMPOS</td>\n",
              "      <td>BRASIL</td>\n",
              "      <td>SP</td>\n",
              "      <td>B</td>\n",
              "      <td>3708616</td>\n",
              "      <td>354990.0</td>\n",
              "      <td>SAO JOSE DOS CAMPOS</td>\n",
              "      <td>SP</td>\n",
              "      <td>0</td>\n",
              "      <td>NaN</td>\n",
              "      <td>NaN</td>\n",
              "      <td>NaN</td>\n",
              "      <td>SERUM INSTITUTE OF INDIA LTD</td>\n",
              "      <td>2021-02-12T00:00:00.000Z</td>\n",
              "      <td>2ª Dose</td>\n",
              "      <td>Covid-19-Coronavac-Sinovac/Butantan</td>\n",
              "      <td>2021-02-22 14:22:03</td>\n",
              "    </tr>\n",
              "    <tr>\n",
              "      <th>7869997</th>\n",
              "      <td>5901dde1-af82-4b71-ae7b-ff5e4a23b5f9-i0b0</td>\n",
              "      <td>fffe8f28b0481890d7bca6d0d0ed56d89a1b06993f2108...</td>\n",
              "      <td>34.0</td>\n",
              "      <td>1986-04-04</td>\n",
              "      <td>F</td>\n",
              "      <td>1.0</td>\n",
              "      <td>BRANCA</td>\n",
              "      <td>354990.0</td>\n",
              "      <td>10.0</td>\n",
              "      <td>SAO JOSE DOS CAMPOS</td>\n",
              "      <td>BRASIL</td>\n",
              "      <td>SP</td>\n",
              "      <td>B</td>\n",
              "      <td>8990</td>\n",
              "      <td>354990.0</td>\n",
              "      <td>SAO JOSE DOS CAMPOS</td>\n",
              "      <td>SP</td>\n",
              "      <td>926</td>\n",
              "      <td>Outros</td>\n",
              "      <td>9.0</td>\n",
              "      <td>Trabalhadores de Saúde</td>\n",
              "      <td>Sinovac</td>\n",
              "      <td>2021-03-02T00:00:00.000Z</td>\n",
              "      <td>2ª Dose</td>\n",
              "      <td>Covid-19-Coronavac-Sinovac/Butantan</td>\n",
              "      <td>2021-03-02 03:00:00</td>\n",
              "    </tr>\n",
              "    <tr>\n",
              "      <th>2559859</th>\n",
              "      <td>b678a1d0-7089-487b-9155-f40100e7e615-i0b0</td>\n",
              "      <td>fffe8f28b0481890d7bca6d0d0ed56d89a1b06993f2108...</td>\n",
              "      <td>34.0</td>\n",
              "      <td>1986-04-04</td>\n",
              "      <td>F</td>\n",
              "      <td>1.0</td>\n",
              "      <td>BRANCA</td>\n",
              "      <td>354990.0</td>\n",
              "      <td>10.0</td>\n",
              "      <td>SAO JOSE DOS CAMPOS</td>\n",
              "      <td>BRASIL</td>\n",
              "      <td>SP</td>\n",
              "      <td>B</td>\n",
              "      <td>8990</td>\n",
              "      <td>354990.0</td>\n",
              "      <td>SAO JOSE DOS CAMPOS</td>\n",
              "      <td>SP</td>\n",
              "      <td>0</td>\n",
              "      <td>NaN</td>\n",
              "      <td>NaN</td>\n",
              "      <td>NaN</td>\n",
              "      <td>SERUM INSTITUTE OF INDIA LTD</td>\n",
              "      <td>2021-02-04T00:00:00.000Z</td>\n",
              "      <td>1ª Dose</td>\n",
              "      <td>Covid-19-Coronavac-Sinovac/Butantan</td>\n",
              "      <td>2021-02-22 14:17:21</td>\n",
              "    </tr>\n",
              "    <tr>\n",
              "      <th>4484325</th>\n",
              "      <td>1b062716-e48d-4d9f-bc46-7be63b16f389-i0b0</td>\n",
              "      <td>fffe8f28b0481890d7bca6d0d0ed56d89a1b06993f2108...</td>\n",
              "      <td>34.0</td>\n",
              "      <td>1986-04-04</td>\n",
              "      <td>F</td>\n",
              "      <td>1.0</td>\n",
              "      <td>BRANCA</td>\n",
              "      <td>354990.0</td>\n",
              "      <td>10.0</td>\n",
              "      <td>SAO JOSE DOS CAMPOS</td>\n",
              "      <td>BRASIL</td>\n",
              "      <td>SP</td>\n",
              "      <td>B</td>\n",
              "      <td>8990</td>\n",
              "      <td>354990.0</td>\n",
              "      <td>SAO JOSE DOS CAMPOS</td>\n",
              "      <td>SP</td>\n",
              "      <td>926</td>\n",
              "      <td>Outros</td>\n",
              "      <td>9.0</td>\n",
              "      <td>Trabalhadores de Saúde</td>\n",
              "      <td>Sinovac</td>\n",
              "      <td>2021-02-04T00:00:00.000Z</td>\n",
              "      <td>1ª Dose</td>\n",
              "      <td>Covid-19-Coronavac-Sinovac/Butantan</td>\n",
              "      <td>2021-02-04 15:02:00</td>\n",
              "    </tr>\n",
              "  </tbody>\n",
              "</table>\n",
              "<p>44525 rows × 26 columns</p>\n",
              "</div>"
            ],
            "text/plain": [
              "                                       document_id  ... data_importacao_rnds\n",
              "2167262  9fbb3bdc-63f2-4d25-b0a0-2ec9bd7e9c03-i0b0  ...  2021-01-21 03:00:00\n",
              "4453107  0e65a0ae-4d28-4fd0-b1cf-20ab70aa40ab-i0b0  ...  2021-02-22 14:23:00\n",
              "2696535  f8f2b974-94f0-4a8c-b928-89e69a3f87b8-i0b0  ...  2021-02-22 14:14:27\n",
              "1195871  0b964871-30ba-457b-b4b7-8dc564e10000-i0b0  ...  2021-02-12 03:00:00\n",
              "2526108  3a2815b0-98cf-48b0-ba16-c548dcf4c00f-i0b0  ...  2021-02-17 23:20:15\n",
              "...                                            ...  ...                  ...\n",
              "3175387  331dd088-6a01-440f-b624-bbdd9413f2a3-i0b0  ...  2021-02-12 03:00:00\n",
              "5682370  9c2b150f-8604-43a7-b4ac-8e99f6cf740d-i0b0  ...  2021-02-22 14:22:03\n",
              "7869997  5901dde1-af82-4b71-ae7b-ff5e4a23b5f9-i0b0  ...  2021-03-02 03:00:00\n",
              "2559859  b678a1d0-7089-487b-9155-f40100e7e615-i0b0  ...  2021-02-22 14:17:21\n",
              "4484325  1b062716-e48d-4d9f-bc46-7be63b16f389-i0b0  ...  2021-02-04 15:02:00\n",
              "\n",
              "[44525 rows x 26 columns]"
            ]
          },
          "metadata": {
            "tags": []
          },
          "execution_count": 18
        }
      ]
    },
    {
      "cell_type": "markdown",
      "metadata": {
        "id": "WiwjEymMP_Gw"
      },
      "source": [
        "## Análises"
      ]
    },
    {
      "cell_type": "code",
      "metadata": {
        "id": "ORLF9ytYc6Xx",
        "colab": {
          "base_uri": "https://localhost:8080/",
          "height": 1000
        },
        "outputId": "7106d725-b5d9-485b-cd1d-d524d143b035"
      },
      "source": [
        "# Vacinados fora dos seus Municípios de residência mas no mesmo Estado\n",
        "\n",
        "df_vacinacao.query('paciente_endereco_uf in [\"ES\", \"MG\", \"RJ\", \"SP\"] & paciente_endereco_uf == estabelecimento_uf & paciente_endereco_nmMunicipio != estabelecimento_municipio_nome')"
      ],
      "execution_count": null,
      "outputs": [
        {
          "output_type": "execute_result",
          "data": {
            "text/html": [
              "<div>\n",
              "<style scoped>\n",
              "    .dataframe tbody tr th:only-of-type {\n",
              "        vertical-align: middle;\n",
              "    }\n",
              "\n",
              "    .dataframe tbody tr th {\n",
              "        vertical-align: top;\n",
              "    }\n",
              "\n",
              "    .dataframe thead th {\n",
              "        text-align: right;\n",
              "    }\n",
              "</style>\n",
              "<table border=\"1\" class=\"dataframe\">\n",
              "  <thead>\n",
              "    <tr style=\"text-align: right;\">\n",
              "      <th></th>\n",
              "      <th>document_id</th>\n",
              "      <th>paciente_id</th>\n",
              "      <th>paciente_idade</th>\n",
              "      <th>paciente_dataNascimento</th>\n",
              "      <th>paciente_enumSexoBiologico</th>\n",
              "      <th>paciente_racaCor_codigo</th>\n",
              "      <th>paciente_racaCor_valor</th>\n",
              "      <th>paciente_endereco_coIbgeMunicipio</th>\n",
              "      <th>paciente_endereco_coPais</th>\n",
              "      <th>paciente_endereco_nmMunicipio</th>\n",
              "      <th>paciente_endereco_nmPais</th>\n",
              "      <th>paciente_endereco_uf</th>\n",
              "      <th>paciente_nacionalidade_enumNacionalidade</th>\n",
              "      <th>estabelecimento_valor</th>\n",
              "      <th>estabelecimento_municipio_codigo</th>\n",
              "      <th>estabelecimento_municipio_nome</th>\n",
              "      <th>estabelecimento_uf</th>\n",
              "      <th>vacina_grupoAtendimento_codigo</th>\n",
              "      <th>vacina_grupoAtendimento_nome</th>\n",
              "      <th>vacina_categoria_codigo</th>\n",
              "      <th>vacina_categoria_nome</th>\n",
              "      <th>vacina_fabricante_nome</th>\n",
              "      <th>vacina_dataAplicacao</th>\n",
              "      <th>vacina_descricao_dose</th>\n",
              "      <th>vacina_nome</th>\n",
              "      <th>data_importacao_rnds</th>\n",
              "    </tr>\n",
              "  </thead>\n",
              "  <tbody>\n",
              "    <tr>\n",
              "      <th>10</th>\n",
              "      <td>02fe1f0e-06d5-4109-a533-d6603dbaca6d-i0b0</td>\n",
              "      <td>a6e0a508c903a0939ae3322684ebb9941622dedc9b98de...</td>\n",
              "      <td>53.0</td>\n",
              "      <td>1967-11-09</td>\n",
              "      <td>F</td>\n",
              "      <td>1.0</td>\n",
              "      <td>BRANCA</td>\n",
              "      <td>353860</td>\n",
              "      <td>10</td>\n",
              "      <td>PIRACAIA</td>\n",
              "      <td>BRASIL</td>\n",
              "      <td>SP</td>\n",
              "      <td>B</td>\n",
              "      <td>5935857</td>\n",
              "      <td>354880.0</td>\n",
              "      <td>SAO CAETANO DO SUL</td>\n",
              "      <td>SP</td>\n",
              "      <td>926</td>\n",
              "      <td>Outros</td>\n",
              "      <td>9.0</td>\n",
              "      <td>Trabalhadores de Saúde</td>\n",
              "      <td>Sinovac</td>\n",
              "      <td>2021-02-19T00:00:00.000Z</td>\n",
              "      <td>2ª Dose</td>\n",
              "      <td>Covid-19-Coronavac-Sinovac/Butantan</td>\n",
              "      <td>2021-02-19 05:02:59</td>\n",
              "    </tr>\n",
              "    <tr>\n",
              "      <th>13</th>\n",
              "      <td>8fbf3c2d-3ca9-4c6e-b92e-705bdaec83df-i0b0</td>\n",
              "      <td>0136e42421eb9afbf7391785b0cecfcde7ca0e39c15cee...</td>\n",
              "      <td>40.0</td>\n",
              "      <td>1980-11-08</td>\n",
              "      <td>F</td>\n",
              "      <td>1.0</td>\n",
              "      <td>BRANCA</td>\n",
              "      <td>354780</td>\n",
              "      <td>10</td>\n",
              "      <td>SANTO ANDRE</td>\n",
              "      <td>BRASIL</td>\n",
              "      <td>SP</td>\n",
              "      <td>B</td>\n",
              "      <td>2089238</td>\n",
              "      <td>355030.0</td>\n",
              "      <td>SAO PAULO</td>\n",
              "      <td>SP</td>\n",
              "      <td>926</td>\n",
              "      <td>Outros</td>\n",
              "      <td>9.0</td>\n",
              "      <td>Trabalhadores de Saúde</td>\n",
              "      <td>AstraZeneca/Oxford</td>\n",
              "      <td>2021-02-03T00:00:00.000Z</td>\n",
              "      <td>1ª Dose</td>\n",
              "      <td>Vacina Covid-19 - Covishield</td>\n",
              "      <td>2021-02-03 15:02:00</td>\n",
              "    </tr>\n",
              "    <tr>\n",
              "      <th>26</th>\n",
              "      <td>c126e436-599c-473c-a4bf-6334f79c208d-i0b0</td>\n",
              "      <td>8d6e0f3e2b6320d57c64662634c25d44c9c65d6c315e0b...</td>\n",
              "      <td>41.0</td>\n",
              "      <td>1979-04-07</td>\n",
              "      <td>F</td>\n",
              "      <td>1.0</td>\n",
              "      <td>BRANCA</td>\n",
              "      <td>355620</td>\n",
              "      <td>10</td>\n",
              "      <td>VALINHOS</td>\n",
              "      <td>BRASIL</td>\n",
              "      <td>SP</td>\n",
              "      <td>B</td>\n",
              "      <td>2079798</td>\n",
              "      <td>350950.0</td>\n",
              "      <td>CAMPINAS</td>\n",
              "      <td>SP</td>\n",
              "      <td>926</td>\n",
              "      <td>Outros</td>\n",
              "      <td>9.0</td>\n",
              "      <td>Trabalhadores de Saúde</td>\n",
              "      <td>AstraZeneca/Oxford</td>\n",
              "      <td>2021-02-01T00:00:00.000Z</td>\n",
              "      <td>1ª Dose</td>\n",
              "      <td>Vacina Covid-19 - Covishield</td>\n",
              "      <td>2021-02-01 06:02:54</td>\n",
              "    </tr>\n",
              "    <tr>\n",
              "      <th>52</th>\n",
              "      <td>236df938-7e1b-4cc5-8ba9-5c1ed029cfdc-i0b0</td>\n",
              "      <td>2fc1bb771d42dfb38851251028272049b5c5d69c952572...</td>\n",
              "      <td>33.0</td>\n",
              "      <td>1987-08-11</td>\n",
              "      <td>F</td>\n",
              "      <td>4.0</td>\n",
              "      <td>AMARELA</td>\n",
              "      <td>314480</td>\n",
              "      <td>10</td>\n",
              "      <td>NOVA LIMA</td>\n",
              "      <td>BRASIL</td>\n",
              "      <td>MG</td>\n",
              "      <td>B</td>\n",
              "      <td>2191377</td>\n",
              "      <td>314800.0</td>\n",
              "      <td>PATOS DE MINAS</td>\n",
              "      <td>MG</td>\n",
              "      <td>926</td>\n",
              "      <td>Outros</td>\n",
              "      <td>9.0</td>\n",
              "      <td>Trabalhadores de Saúde</td>\n",
              "      <td>FUNDACAO BUTANTAN</td>\n",
              "      <td>2021-02-09T03:00:00.000Z</td>\n",
              "      <td>1ª Dose</td>\n",
              "      <td>Covid-19-Coronavac-Sinovac/Butantan</td>\n",
              "      <td>2021-02-23 17:38:08</td>\n",
              "    </tr>\n",
              "    <tr>\n",
              "      <th>60</th>\n",
              "      <td>d244065b-8fba-404f-b61c-a8a0687268db-i0b0</td>\n",
              "      <td>a7353ea8cef54f86dff0036bd2e553ae72a44ee3a4dd43...</td>\n",
              "      <td>56.0</td>\n",
              "      <td>1964-03-11</td>\n",
              "      <td>M</td>\n",
              "      <td>2.0</td>\n",
              "      <td>PRETA</td>\n",
              "      <td>355030</td>\n",
              "      <td>10</td>\n",
              "      <td>SAO PAULO</td>\n",
              "      <td>BRASIL</td>\n",
              "      <td>SP</td>\n",
              "      <td>E</td>\n",
              "      <td>2792176</td>\n",
              "      <td>352220.0</td>\n",
              "      <td>ITAPECERICA DA SERRA</td>\n",
              "      <td>SP</td>\n",
              "      <td>926</td>\n",
              "      <td>Outros</td>\n",
              "      <td>9.0</td>\n",
              "      <td>Trabalhadores de Saúde</td>\n",
              "      <td>Sinovac</td>\n",
              "      <td>2021-02-18T00:00:00.000Z</td>\n",
              "      <td>2ª Dose</td>\n",
              "      <td>Covid-19-Coronavac-Sinovac/Butantan</td>\n",
              "      <td>2021-02-18 13:02:06</td>\n",
              "    </tr>\n",
              "    <tr>\n",
              "      <th>...</th>\n",
              "      <td>...</td>\n",
              "      <td>...</td>\n",
              "      <td>...</td>\n",
              "      <td>...</td>\n",
              "      <td>...</td>\n",
              "      <td>...</td>\n",
              "      <td>...</td>\n",
              "      <td>...</td>\n",
              "      <td>...</td>\n",
              "      <td>...</td>\n",
              "      <td>...</td>\n",
              "      <td>...</td>\n",
              "      <td>...</td>\n",
              "      <td>...</td>\n",
              "      <td>...</td>\n",
              "      <td>...</td>\n",
              "      <td>...</td>\n",
              "      <td>...</td>\n",
              "      <td>...</td>\n",
              "      <td>...</td>\n",
              "      <td>...</td>\n",
              "      <td>...</td>\n",
              "      <td>...</td>\n",
              "      <td>...</td>\n",
              "      <td>...</td>\n",
              "      <td>...</td>\n",
              "    </tr>\n",
              "    <tr>\n",
              "      <th>6958378</th>\n",
              "      <td>7414f961-9afd-499a-b5ed-3523fde1d9c6-i0b0</td>\n",
              "      <td>e3cf2bcbd0cc764ab62f28113448b7569a16282fcc3590...</td>\n",
              "      <td>44.0</td>\n",
              "      <td>1976-12-06</td>\n",
              "      <td>M</td>\n",
              "      <td>99.0</td>\n",
              "      <td>SEM INFORMACAO</td>\n",
              "      <td>353650</td>\n",
              "      <td>10</td>\n",
              "      <td>PAULINIA</td>\n",
              "      <td>BRASIL</td>\n",
              "      <td>SP</td>\n",
              "      <td>B</td>\n",
              "      <td>2079798</td>\n",
              "      <td>350950.0</td>\n",
              "      <td>CAMPINAS</td>\n",
              "      <td>SP</td>\n",
              "      <td>926</td>\n",
              "      <td>Outros</td>\n",
              "      <td>9.0</td>\n",
              "      <td>Trabalhadores de Saúde</td>\n",
              "      <td>Sinovac</td>\n",
              "      <td>2021-03-01T00:00:00.000Z</td>\n",
              "      <td>2ª Dose</td>\n",
              "      <td>Covid-19-Coronavac-Sinovac/Butantan</td>\n",
              "      <td>2021-03-01 03:00:00</td>\n",
              "    </tr>\n",
              "    <tr>\n",
              "      <th>6958402</th>\n",
              "      <td>07e8c12b-e0a6-40bb-b76a-9b478182f92f-i0b0</td>\n",
              "      <td>fbf84b7e909329ba4d55ed530a71a6ca6e96b78cec7038...</td>\n",
              "      <td>84.0</td>\n",
              "      <td>1937-02-12</td>\n",
              "      <td>M</td>\n",
              "      <td>1.0</td>\n",
              "      <td>BRANCA</td>\n",
              "      <td>352042</td>\n",
              "      <td>10</td>\n",
              "      <td>ILHA COMPRIDA</td>\n",
              "      <td>BRASIL</td>\n",
              "      <td>SP</td>\n",
              "      <td>B</td>\n",
              "      <td>2081857</td>\n",
              "      <td>352030.0</td>\n",
              "      <td>IGUAPE</td>\n",
              "      <td>SP</td>\n",
              "      <td>205</td>\n",
              "      <td>Pessoas de 80 anos ou mais</td>\n",
              "      <td>2.0</td>\n",
              "      <td>Faixa Etária</td>\n",
              "      <td>AstraZeneca/Oxford</td>\n",
              "      <td>2021-03-01T00:00:00.000Z</td>\n",
              "      <td>1ª Dose</td>\n",
              "      <td>Vacina Covid-19 - Covishield</td>\n",
              "      <td>2021-03-01 03:00:00</td>\n",
              "    </tr>\n",
              "    <tr>\n",
              "      <th>6958426</th>\n",
              "      <td>159eaddb-35aa-4af5-85b4-74f889996055-i0b0</td>\n",
              "      <td>fb91eca53222dcd8d3da6efe8f553fba97887597fb5cb6...</td>\n",
              "      <td>96.0</td>\n",
              "      <td>1925-01-29</td>\n",
              "      <td>F</td>\n",
              "      <td>1.0</td>\n",
              "      <td>BRANCA</td>\n",
              "      <td>355030</td>\n",
              "      <td>10</td>\n",
              "      <td>SAO PAULO</td>\n",
              "      <td>BRASIL</td>\n",
              "      <td>SP</td>\n",
              "      <td>B</td>\n",
              "      <td>4047273</td>\n",
              "      <td>350600.0</td>\n",
              "      <td>BAURU</td>\n",
              "      <td>SP</td>\n",
              "      <td>205</td>\n",
              "      <td>Pessoas de 80 anos ou mais</td>\n",
              "      <td>2.0</td>\n",
              "      <td>Faixa Etária</td>\n",
              "      <td>Sinovac</td>\n",
              "      <td>2021-03-01T00:00:00.000Z</td>\n",
              "      <td>2ª Dose</td>\n",
              "      <td>Covid-19-Coronavac-Sinovac/Butantan</td>\n",
              "      <td>2021-03-01 03:00:00</td>\n",
              "    </tr>\n",
              "    <tr>\n",
              "      <th>6958481</th>\n",
              "      <td>b660a66d-48db-4995-8b23-2122d956857f-i0b0</td>\n",
              "      <td>b316eedae5beb12fa82f01bf7cf843a4ff780717394fc7...</td>\n",
              "      <td>82.0</td>\n",
              "      <td>1938-10-20</td>\n",
              "      <td>M</td>\n",
              "      <td>1.0</td>\n",
              "      <td>BRANCA</td>\n",
              "      <td>354780</td>\n",
              "      <td>10</td>\n",
              "      <td>SANTO ANDRE</td>\n",
              "      <td>BRASIL</td>\n",
              "      <td>SP</td>\n",
              "      <td>B</td>\n",
              "      <td>2755068</td>\n",
              "      <td>353800.0</td>\n",
              "      <td>PINDAMONHANGABA</td>\n",
              "      <td>SP</td>\n",
              "      <td>205</td>\n",
              "      <td>Pessoas de 80 anos ou mais</td>\n",
              "      <td>2.0</td>\n",
              "      <td>Faixa Etária</td>\n",
              "      <td>AstraZeneca/Oxford</td>\n",
              "      <td>2021-03-01T00:00:00.000Z</td>\n",
              "      <td>1ª Dose</td>\n",
              "      <td>Vacina Covid-19 - Covishield</td>\n",
              "      <td>2021-03-01 03:00:00</td>\n",
              "    </tr>\n",
              "    <tr>\n",
              "      <th>6958522</th>\n",
              "      <td>b5115a0b-6087-4ec0-b448-aecc2ccf2778-i0b0</td>\n",
              "      <td>0452b513afb801ef2436e9cbdfaaa5657d13c4c03f6704...</td>\n",
              "      <td>72.0</td>\n",
              "      <td>1948-08-14</td>\n",
              "      <td>M</td>\n",
              "      <td>99.0</td>\n",
              "      <td>SEM INFORMACAO</td>\n",
              "      <td>353980</td>\n",
              "      <td>10</td>\n",
              "      <td>POA</td>\n",
              "      <td>BRASIL</td>\n",
              "      <td>SP</td>\n",
              "      <td>B</td>\n",
              "      <td>2058502</td>\n",
              "      <td>355030.0</td>\n",
              "      <td>SAO PAULO</td>\n",
              "      <td>SP</td>\n",
              "      <td>926</td>\n",
              "      <td>Outros</td>\n",
              "      <td>9.0</td>\n",
              "      <td>Trabalhadores de Saúde</td>\n",
              "      <td>Sinovac</td>\n",
              "      <td>2021-03-01T00:00:00.000Z</td>\n",
              "      <td>2ª Dose</td>\n",
              "      <td>Covid-19-Coronavac-Sinovac/Butantan</td>\n",
              "      <td>2021-03-01 03:00:00</td>\n",
              "    </tr>\n",
              "  </tbody>\n",
              "</table>\n",
              "<p>718319 rows × 26 columns</p>\n",
              "</div>"
            ],
            "text/plain": [
              "                                       document_id  ... data_importacao_rnds\n",
              "10       02fe1f0e-06d5-4109-a533-d6603dbaca6d-i0b0  ...  2021-02-19 05:02:59\n",
              "13       8fbf3c2d-3ca9-4c6e-b92e-705bdaec83df-i0b0  ...  2021-02-03 15:02:00\n",
              "26       c126e436-599c-473c-a4bf-6334f79c208d-i0b0  ...  2021-02-01 06:02:54\n",
              "52       236df938-7e1b-4cc5-8ba9-5c1ed029cfdc-i0b0  ...  2021-02-23 17:38:08\n",
              "60       d244065b-8fba-404f-b61c-a8a0687268db-i0b0  ...  2021-02-18 13:02:06\n",
              "...                                            ...  ...                  ...\n",
              "6958378  7414f961-9afd-499a-b5ed-3523fde1d9c6-i0b0  ...  2021-03-01 03:00:00\n",
              "6958402  07e8c12b-e0a6-40bb-b76a-9b478182f92f-i0b0  ...  2021-03-01 03:00:00\n",
              "6958426  159eaddb-35aa-4af5-85b4-74f889996055-i0b0  ...  2021-03-01 03:00:00\n",
              "6958481  b660a66d-48db-4995-8b23-2122d956857f-i0b0  ...  2021-03-01 03:00:00\n",
              "6958522  b5115a0b-6087-4ec0-b448-aecc2ccf2778-i0b0  ...  2021-03-01 03:00:00\n",
              "\n",
              "[718319 rows x 26 columns]"
            ]
          },
          "metadata": {
            "tags": []
          },
          "execution_count": 15
        }
      ]
    },
    {
      "cell_type": "code",
      "metadata": {
        "id": "ZUAEBBY1k5N1",
        "colab": {
          "base_uri": "https://localhost:8080/"
        },
        "outputId": "7bd47ce5-33d2-42b2-9880-59e12c309fd2"
      },
      "source": [
        "# Quantitativo Total de Vacinados por Sexo Biológico\n",
        "\n",
        "df_vacinacao['paciente_enumSexoBiologico'].value_counts()"
      ],
      "execution_count": null,
      "outputs": [
        {
          "output_type": "execute_result",
          "data": {
            "text/plain": [
              "F    2764008\n",
              "M    1272451\n",
              "I          6\n",
              "Name: paciente_enumSexoBiologico, dtype: int64"
            ]
          },
          "metadata": {
            "tags": []
          },
          "execution_count": 16
        }
      ]
    },
    {
      "cell_type": "code",
      "metadata": {
        "id": "vkaSanFYmlMu",
        "colab": {
          "base_uri": "https://localhost:8080/",
          "height": 295
        },
        "outputId": "74ef0936-9cfc-45ce-8a5c-228c03c61a16"
      },
      "source": [
        "%matplotlib inline\n",
        "df_vacinacao['paciente_enumSexoBiologico'].value_counts().plot.bar()"
      ],
      "execution_count": null,
      "outputs": [
        {
          "output_type": "execute_result",
          "data": {
            "text/plain": [
              "<matplotlib.axes._subplots.AxesSubplot at 0x7f9e53b3ed10>"
            ]
          },
          "metadata": {
            "tags": []
          },
          "execution_count": 46
        },
        {
          "output_type": "display_data",
          "data": {
            "image/png": "[encoded data removed]",
            "text/plain": [
              "<Figure size 432x288 with 1 Axes>"
            ]
          },
          "metadata": {
            "tags": [],
            "needs_background": "light"
          }
        }
      ]
    },
    {
      "cell_type": "code",
      "metadata": {
        "id": "YJUr3iY0mDkW",
        "colab": {
          "base_uri": "https://localhost:8080/"
        },
        "outputId": "4bc7613a-29d8-440f-9384-c42bd040d081"
      },
      "source": [
        "# Quantitativo Total de Vacinados por Raça\n",
        "\n",
        "df_vacinacao['paciente_racaCor_valor'].value_counts()"
      ],
      "execution_count": null,
      "outputs": [
        {
          "output_type": "execute_result",
          "data": {
            "text/plain": [
              "BRANCA            1583085\n",
              "SEM INFORMACAO    1260486\n",
              "PARDA              598353\n",
              "AMARELA            367770\n",
              "PRETA              153679\n",
              "INDIGENA            73092\n",
              "Name: paciente_racaCor_valor, dtype: int64"
            ]
          },
          "metadata": {
            "tags": []
          },
          "execution_count": 44
        }
      ]
    },
    {
      "cell_type": "code",
      "metadata": {
        "id": "_oOwSBqQnPuC",
        "colab": {
          "base_uri": "https://localhost:8080/",
          "height": 379
        },
        "outputId": "05d529d5-616e-49a2-f3b9-ce8ac8a9ef65"
      },
      "source": [
        "df_vacinacao['paciente_racaCor_valor'].value_counts().plot.bar()"
      ],
      "execution_count": null,
      "outputs": [
        {
          "output_type": "execute_result",
          "data": {
            "text/plain": [
              "<matplotlib.axes._subplots.AxesSubplot at 0x7f9e51436bd0>"
            ]
          },
          "metadata": {
            "tags": []
          },
          "execution_count": 47
        },
        {
          "output_type": "display_data",
          "data": {
            "image/png": "[encoded data removed]",
            "text/plain": [
              "<Figure size 432x288 with 1 Axes>"
            ]
          },
          "metadata": {
            "tags": [],
            "needs_background": "light"
          }
        }
      ]
    },
    {
      "cell_type": "code",
      "metadata": {
        "id": "UlUDZReNszpA",
        "colab": {
          "base_uri": "https://localhost:8080/"
        },
        "outputId": "67c3260c-1d77-4719-b924-2b7f5b858834"
      },
      "source": [
        "# Quantitativo Total de Vacinados por Categoria\n",
        "\n",
        "df_vacinacao['vacina_categoria_nome'].value_counts()"
      ],
      "execution_count": null,
      "outputs": [
        {
          "output_type": "execute_result",
          "data": {
            "text/plain": [
              "Trabalhadores de Saúde                             2630285\n",
              "Faixa Etária                                       1110352\n",
              "Pessoas de 60 anos ou mais institucionalizadas      110794\n",
              "Povos Indígenas                                     103618\n",
              "Pessoas com Deficiência                              10822\n",
              "Povos e Comunidades Tradicionais                      9439\n",
              "Forças de Segurança e Salvamento                      1069\n",
              "Comorbidades                                           849\n",
              "Pessoas em Situação de Rua                             352\n",
              "Forças Armadas (membros ativos)                        260\n",
              "Trabalhadores da Educação                              155\n",
              "Funcionário do Sistema de Privação de Liberdade        109\n",
              "População Privada de Liberdade                          41\n",
              "Trabalhadores Industriais                               29\n",
              "Trabalhadores Portuários                                 7\n",
              "Name: vacina_categoria_nome, dtype: int64"
            ]
          },
          "metadata": {
            "tags": []
          },
          "execution_count": 50
        }
      ]
    },
    {
      "cell_type": "code",
      "metadata": {
        "id": "BUmyuQwXs0hX",
        "colab": {
          "base_uri": "https://localhost:8080/",
          "height": 508
        },
        "outputId": "dfc5bfde-82e2-4627-c3e4-916bb924ea0f"
      },
      "source": [
        "df_vacinacao['vacina_categoria_nome'].value_counts().plot.bar()"
      ],
      "execution_count": null,
      "outputs": [
        {
          "output_type": "execute_result",
          "data": {
            "text/plain": [
              "<matplotlib.axes._subplots.AxesSubplot at 0x7f9e50e7f290>"
            ]
          },
          "metadata": {
            "tags": []
          },
          "execution_count": 51
        },
        {
          "output_type": "display_data",
          "data": {
            "image/png": "[encoded data removed]",
            "text/plain": [
              "<Figure size 432x288 with 1 Axes>"
            ]
          },
          "metadata": {
            "tags": [],
            "needs_background": "light"
          }
        }
      ]
    },
    {
      "cell_type": "code",
      "metadata": {
        "id": "iqEY9qsuvVXi",
        "colab": {
          "base_uri": "https://localhost:8080/"
        },
        "outputId": "09e75684-911d-4198-dede-98a7b6e5d454"
      },
      "source": [
        "# Quantitativo Total de Vacinados por Fabricante\n",
        "\n",
        "df_vacinacao['vacina_fabricante_nome'].value_counts()"
      ],
      "execution_count": null,
      "outputs": [
        {
          "output_type": "execute_result",
          "data": {
            "text/plain": [
              "Sinovac                             1742310\n",
              "FUNDACAO BUTANTAN                   1211987\n",
              "AstraZeneca/Oxford                   501874\n",
              "FUNDACAO OSWALDO CRUZ                376498\n",
              "Butantan/Sinovac                      68288\n",
              "University of Oxford/AstraZeneca      62006\n",
              "SERUM INSTITUTE OF INDIA LTD          54172\n",
              "SINOVAC LIFE SCIENCE CO LTD           19304\n",
              "BioNTech/Fosun Pharma/Pfizer             22\n",
              "Janssen-Cilag                             4\n",
              "Name: vacina_fabricante_nome, dtype: int64"
            ]
          },
          "metadata": {
            "tags": []
          },
          "execution_count": 53
        }
      ]
    },
    {
      "cell_type": "code",
      "metadata": {
        "id": "xNrWHHhrvWCF",
        "colab": {
          "base_uri": "https://localhost:8080/",
          "height": 444
        },
        "outputId": "e834ed89-ba64-4a60-f09c-8e5bb76fed75"
      },
      "source": [
        "df_vacinacao['vacina_fabricante_nome'].value_counts().plot.bar()"
      ],
      "execution_count": null,
      "outputs": [
        {
          "output_type": "execute_result",
          "data": {
            "text/plain": [
              "<matplotlib.axes._subplots.AxesSubplot at 0x7f9e4f4e0a50>"
            ]
          },
          "metadata": {
            "tags": []
          },
          "execution_count": 54
        },
        {
          "output_type": "display_data",
          "data": {
            "image/png": "[encoded data removed]",
            "text/plain": [
              "<Figure size 432x288 with 1 Axes>"
            ]
          },
          "metadata": {
            "tags": [],
            "needs_background": "light"
          }
        }
      ]
    },
    {
      "cell_type": "markdown",
      "metadata": {
        "id": "JEa8-YJNn2V5"
      },
      "source": [
        "##Teste inicial de gráfico"
      ]
    },
    {
      "cell_type": "code",
      "metadata": {
        "id": "VOUyaaQjlQ7k",
        "colab": {
          "base_uri": "https://localhost:8080/",
          "height": 298
        },
        "outputId": "4d6f3e0f-63cf-48a5-b236-7340780453b2"
      },
      "source": [
        "# Plot 'Idade' variable in a histogram\n",
        "\n",
        "pd.DataFrame.hist(df_vacinacao[['paciente_idade']])\n",
        "\n",
        "plt.xlabel('paciente_idade (years)')\n",
        "\n",
        "plt.ylabel('count')\n",
        "\n",
        "plt.show()"
      ],
      "execution_count": null,
      "outputs": [
        {
          "output_type": "display_data",
          "data": {
            "image/png": "[encoded data removed]",
            "text/plain": [
              "<Figure size 432x288 with 1 Axes>"
            ]
          },
          "metadata": {
            "tags": [],
            "needs_background": "light"
          }
        }
      ]
    },
    {
      "cell_type": "markdown",
      "metadata": {
        "id": "wDhQAv0Fnrjj"
      },
      "source": [
        ""
      ]
    },
    {
      "cell_type": "markdown",
      "metadata": {
        "id": "8shZ0BHsnGHv"
      },
      "source": [
        "## Importação e tratamento do Dataset de Estabelecimentos de Saúde (CNES)"
      ]
    },
    {
      "cell_type": "code",
      "metadata": {
        "id": "bRA784AdH7WU"
      },
      "source": [
        "# Salve o dataset de CNES no diretório TESI_FCD no Google Drive\n",
        "# Para tornar o notebook reutilizável, futuramente pode-se solicitar o diretório e o nome do dataset via prompt.\n",
        "\n",
        "df_cnes = pd.read_csv('/content/drive/My Drive/TESI_FCD/cnes_ativonone.csv',delimiter=',')"
      ],
      "execution_count": null,
      "outputs": []
    },
    {
      "cell_type": "markdown",
      "metadata": {
        "id": "ia_ML5clHZ9m"
      },
      "source": [
        "### Exploração inicial do DataSet de Estabelecimentos de Saúde (CNES)"
      ]
    },
    {
      "cell_type": "code",
      "metadata": {
        "id": "jXDoabhOKo1i"
      },
      "source": [
        "# Código reprodutível\n",
        "# assert len(df_cnes) == 354804"
      ],
      "execution_count": null,
      "outputs": []
    },
    {
      "cell_type": "code",
      "metadata": {
        "colab": {
          "base_uri": "https://localhost:8080/"
        },
        "id": "-cF3STChI86E",
        "outputId": "eb6434f0-7009-41fc-bc1a-3777547f6b44"
      },
      "source": [
        "print('Total de registros:',len(df_cnes))    # Quantidade de registros do dataset\n",
        "print('')\n",
        "print(df_cnes.info())                        # Informações sobre o dataset \n",
        "\n",
        "# Observe o total de linhas e o total de colunas (12) do dataset"
      ],
      "execution_count": null,
      "outputs": [
        {
          "output_type": "stream",
          "text": [
            "Total de registros: 354804\n",
            "\n",
            "<class 'pandas.core.frame.DataFrame'>\n",
            "RangeIndex: 354804 entries, 0 to 354803\n",
            "Data columns (total 12 columns):\n",
            " #   Column           Non-Null Count   Dtype \n",
            "---  ------           --------------   ----- \n",
            " 0   co_cnes          354804 non-null  int64 \n",
            " 1   co_ibge          354804 non-null  int64 \n",
            " 2   no_fantasia      354796 non-null  object\n",
            " 3   ds_tipo_unidade  354804 non-null  object\n",
            " 4   tp_gestao        354804 non-null  object\n",
            " 5   no_logradouro    354804 non-null  object\n",
            " 6   nu_endereco      354517 non-null  object\n",
            " 7   no_bairro        354801 non-null  object\n",
            " 8   co_cep           354804 non-null  int64 \n",
            " 9   uf               354434 non-null  object\n",
            " 10  municipio        354434 non-null  object\n",
            " 11  nu_telefone      279394 non-null  object\n",
            "dtypes: int64(3), object(9)\n",
            "memory usage: 32.5+ MB\n",
            "None\n"
          ],
          "name": "stdout"
        }
      ]
    },
    {
      "cell_type": "code",
      "metadata": {
        "colab": {
          "base_uri": "https://localhost:8080/",
          "height": 614
        },
        "id": "LiqEod5FI92L",
        "outputId": "c6518ddb-307f-4d7f-dc91-7f2ea361b511"
      },
      "source": [
        "df_cnes.head(10)        # Visualização dos registros iniciais"
      ],
      "execution_count": null,
      "outputs": [
        {
          "output_type": "execute_result",
          "data": {
            "text/html": [
              "<div>\n",
              "<style scoped>\n",
              "    .dataframe tbody tr th:only-of-type {\n",
              "        vertical-align: middle;\n",
              "    }\n",
              "\n",
              "    .dataframe tbody tr th {\n",
              "        vertical-align: top;\n",
              "    }\n",
              "\n",
              "    .dataframe thead th {\n",
              "        text-align: right;\n",
              "    }\n",
              "</style>\n",
              "<table border=\"1\" class=\"dataframe\">\n",
              "  <thead>\n",
              "    <tr style=\"text-align: right;\">\n",
              "      <th></th>\n",
              "      <th>co_cnes</th>\n",
              "      <th>co_ibge</th>\n",
              "      <th>no_fantasia</th>\n",
              "      <th>ds_tipo_unidade</th>\n",
              "      <th>tp_gestao</th>\n",
              "      <th>no_logradouro</th>\n",
              "      <th>nu_endereco</th>\n",
              "      <th>no_bairro</th>\n",
              "      <th>co_cep</th>\n",
              "      <th>uf</th>\n",
              "      <th>municipio</th>\n",
              "      <th>nu_telefone</th>\n",
              "    </tr>\n",
              "  </thead>\n",
              "  <tbody>\n",
              "    <tr>\n",
              "      <th>0</th>\n",
              "      <td>6577687</td>\n",
              "      <td>292240</td>\n",
              "      <td>SECRETARIA DE SAUDE DE MUTUIPE</td>\n",
              "      <td>CENTRAL DE GESTAO EM SAUDE</td>\n",
              "      <td>M</td>\n",
              "      <td>RUA RUY BARBOSA</td>\n",
              "      <td>S/N</td>\n",
              "      <td>CENTRO</td>\n",
              "      <td>45480000</td>\n",
              "      <td>BA</td>\n",
              "      <td>Mutuípe</td>\n",
              "      <td>NaN</td>\n",
              "    </tr>\n",
              "    <tr>\n",
              "      <th>1</th>\n",
              "      <td>6578500</td>\n",
              "      <td>500210</td>\n",
              "      <td>REABILIT CONSULTORIO DE FISIOTERAPIA</td>\n",
              "      <td>CLINICA/CENTRO DE ESPECIALIDADE</td>\n",
              "      <td>M</td>\n",
              "      <td>ALMIRANTE BARROSO</td>\n",
              "      <td>S/N</td>\n",
              "      <td>CENTRO</td>\n",
              "      <td>79260000</td>\n",
              "      <td>MS</td>\n",
              "      <td>Bela Vista</td>\n",
              "      <td>NaN</td>\n",
              "    </tr>\n",
              "    <tr>\n",
              "      <th>2</th>\n",
              "      <td>6577725</td>\n",
              "      <td>355660</td>\n",
              "      <td>SECRETARIA MUNICIPAL DE SAUDE E HIGIENE DE VER...</td>\n",
              "      <td>CENTRAL DE GESTAO EM SAUDE</td>\n",
              "      <td>M</td>\n",
              "      <td>RUA PAULO GUERREIRO FRANCO</td>\n",
              "      <td>997</td>\n",
              "      <td>CENTRO</td>\n",
              "      <td>17560000</td>\n",
              "      <td>SP</td>\n",
              "      <td>Vera Cruz</td>\n",
              "      <td>NaN</td>\n",
              "    </tr>\n",
              "    <tr>\n",
              "      <th>3</th>\n",
              "      <td>6577733</td>\n",
              "      <td>355410</td>\n",
              "      <td>CONS SERGIO LUIZ TEIXEIRA M PERES</td>\n",
              "      <td>CONSULTORIO ISOLADO</td>\n",
              "      <td>M</td>\n",
              "      <td>PCA MONS SILVA BARROS</td>\n",
              "      <td>254</td>\n",
              "      <td>CENTRO</td>\n",
              "      <td>12020070</td>\n",
              "      <td>SP</td>\n",
              "      <td>Taubaté</td>\n",
              "      <td>36351489</td>\n",
              "    </tr>\n",
              "    <tr>\n",
              "      <th>4</th>\n",
              "      <td>6577768</td>\n",
              "      <td>410490</td>\n",
              "      <td>LABORATORIO DOFF SOTTA</td>\n",
              "      <td>UNIDADE DE APOIO DIAGNOSE E TERAPIA (SADT ISOL...</td>\n",
              "      <td>M</td>\n",
              "      <td>RUA DR JORGE XAVIER DA SILVA</td>\n",
              "      <td>1078</td>\n",
              "      <td>CENTRO</td>\n",
              "      <td>84165000</td>\n",
              "      <td>PR</td>\n",
              "      <td>Castro</td>\n",
              "      <td>3232-4854</td>\n",
              "    </tr>\n",
              "    <tr>\n",
              "      <th>5</th>\n",
              "      <td>6577806</td>\n",
              "      <td>420245</td>\n",
              "      <td>SAMU BOMBINHAS</td>\n",
              "      <td>UNIDADE MOVEL DE NIVEL PRE-HOSPITALAR NA AREA ...</td>\n",
              "      <td>M</td>\n",
              "      <td>RUA CACHALOTE</td>\n",
              "      <td>589</td>\n",
              "      <td>MORRINHOS</td>\n",
              "      <td>88215000</td>\n",
              "      <td>SC</td>\n",
              "      <td>Bombinhas</td>\n",
              "      <td>33934363</td>\n",
              "    </tr>\n",
              "    <tr>\n",
              "      <th>6</th>\n",
              "      <td>6577830</td>\n",
              "      <td>240260</td>\n",
              "      <td>CENTRO DE ATENCAO PSICOSSOCIAL CAPS II</td>\n",
              "      <td>CENTRO DE ATENCAO PSICOSSOCIAL</td>\n",
              "      <td>M</td>\n",
              "      <td>RUA POETISA DOLORES</td>\n",
              "      <td>13</td>\n",
              "      <td>CENTRO</td>\n",
              "      <td>59570000</td>\n",
              "      <td>RN</td>\n",
              "      <td>Ceará-Mirim</td>\n",
              "      <td>(84)3274-5914</td>\n",
              "    </tr>\n",
              "    <tr>\n",
              "      <th>7</th>\n",
              "      <td>6577865</td>\n",
              "      <td>315960</td>\n",
              "      <td>DIMENSAO CLINICA MEDICA</td>\n",
              "      <td>UNIDADE DE APOIO DIAGNOSE E TERAPIA (SADT ISOL...</td>\n",
              "      <td>M</td>\n",
              "      <td>RUA CEL GABRIEL CAPISTRANO</td>\n",
              "      <td>256</td>\n",
              "      <td>CENTRO</td>\n",
              "      <td>37540000</td>\n",
              "      <td>MG</td>\n",
              "      <td>Santa Rita do Sapucaí</td>\n",
              "      <td>3534713531</td>\n",
              "    </tr>\n",
              "    <tr>\n",
              "      <th>8</th>\n",
              "      <td>6577873</td>\n",
              "      <td>355670</td>\n",
              "      <td>JULIANA PEREIRA PERSI</td>\n",
              "      <td>UNIDADE DE APOIO DIAGNOSE E TERAPIA (SADT ISOL...</td>\n",
              "      <td>M</td>\n",
              "      <td>RUA ROCINHA</td>\n",
              "      <td>213</td>\n",
              "      <td>CAPELA</td>\n",
              "      <td>13280000</td>\n",
              "      <td>SP</td>\n",
              "      <td>Vinhedo</td>\n",
              "      <td>38764932</td>\n",
              "    </tr>\n",
              "    <tr>\n",
              "      <th>9</th>\n",
              "      <td>6577881</td>\n",
              "      <td>231330</td>\n",
              "      <td>CENTRAL DE CONSULTORIOS</td>\n",
              "      <td>CLINICA/CENTRO DE ESPECIALIDADE</td>\n",
              "      <td>M</td>\n",
              "      <td>RUA MAFISA CIDRAO ROCHA</td>\n",
              "      <td>63</td>\n",
              "      <td>CENTRO</td>\n",
              "      <td>63660000</td>\n",
              "      <td>CE</td>\n",
              "      <td>Tauá</td>\n",
              "      <td>88-34371097</td>\n",
              "    </tr>\n",
              "  </tbody>\n",
              "</table>\n",
              "</div>"
            ],
            "text/plain": [
              "   co_cnes  co_ibge  ...              municipio    nu_telefone\n",
              "0  6577687   292240  ...                Mutuípe            NaN\n",
              "1  6578500   500210  ...             Bela Vista            NaN\n",
              "2  6577725   355660  ...              Vera Cruz            NaN\n",
              "3  6577733   355410  ...                Taubaté       36351489\n",
              "4  6577768   410490  ...                 Castro      3232-4854\n",
              "5  6577806   420245  ...              Bombinhas       33934363\n",
              "6  6577830   240260  ...            Ceará-Mirim  (84)3274-5914\n",
              "7  6577865   315960  ...  Santa Rita do Sapucaí     3534713531\n",
              "8  6577873   355670  ...                Vinhedo       38764932\n",
              "9  6577881   231330  ...                   Tauá    88-34371097\n",
              "\n",
              "[10 rows x 12 columns]"
            ]
          },
          "metadata": {
            "tags": []
          },
          "execution_count": 14
        }
      ]
    },
    {
      "cell_type": "code",
      "metadata": {
        "id": "hEe987vXKWsX"
      },
      "source": [
        "#df_cnes.columns"
      ],
      "execution_count": null,
      "outputs": []
    },
    {
      "cell_type": "code",
      "metadata": {
        "id": "Ogk5UKFKwqU2",
        "colab": {
          "base_uri": "https://localhost:8080/"
        },
        "outputId": "8287c45e-94d3-4a56-bf5f-e84ffe1245c8"
      },
      "source": [
        "df_cnes['ds_tipo_unidade'].value_counts()"
      ],
      "execution_count": null,
      "outputs": [
        {
          "output_type": "execute_result",
          "data": {
            "text/plain": [
              "CONSULTORIO ISOLADO                                             175140\n",
              "CLINICA/CENTRO DE ESPECIALIDADE                                  52766\n",
              "CENTRO DE SAUDE/UNIDADE BASICA                                   38998\n",
              "UNIDADE DE APOIO DIAGNOSE E TERAPIA (SADT ISOLADO)               27067\n",
              "POSTO DE SAUDE                                                   11345\n",
              "POLICLINICA                                                       8457\n",
              "CENTRAL DE GESTAO EM SAUDE                                        6059\n",
              "HOSPITAL GERAL                                                    5752\n",
              "UNIDADE MOVEL DE NIVEL PRE-HOSPITALAR NA AREA DE URGENCIA         4703\n",
              "FARMACIA                                                          3213\n",
              "CENTRO DE ATENCAO PSICOSSOCIAL                                    3065\n",
              "UNIDADE DE VIGILANCIA EM SAUDE                                    3005\n",
              "POLO ACADEMIA DA SAUDE                                            2523\n",
              "UNIDADE MOVEL TERRESTRE                                           1460\n",
              "PRONTO ATENDIMENTO                                                1248\n",
              "CENTRAL DE REGULACAO DO ACESSO                                    1243\n",
              "HOSPITAL ESPECIALIZADO                                            1234\n",
              "CENTRO DE APOIO A SAUDE DA FAMILIA                                1171\n",
              "UNIDADE DE ATENCAO A SAUDE INDIGENA                               1106\n",
              "HOSPITAL/DIA - ISOLADO                                             718\n",
              "UNIDADE MISTA                                                      706\n",
              "SERVICO DE ATENCAO DOMICILIAR ISOLADO(HOME CARE)                   681\n",
              "COOPERATIVA OU EMPRESA DE CESSAO DE TRABALHADORES NA SAUDE         633\n",
              "PRONTO SOCORRO GERAL                                               453\n",
              "LABORATORIO DE SAUDE PUBLICA                                       417\n",
              "CENTRO DE ATENCAO HEMOTERAPIA E OU HEMATOLOGICA                    395\n",
              "POLO DE PREVENCAO DE DOENCAS E AGRAVOS E PROMOCAO DA SAUDE         328\n",
              "CENTRAL DE REGULACAO MEDICA DAS URGENCIAS                          239\n",
              "CENTRAL DE REGULACAO DE SERVICOS DE SAUDE                          142\n",
              "CENTRAL DE NOTIFICACAO,CAPTACAO E DISTRIB DE ORGAOS ESTADUAL       131\n",
              "PRONTO SOCORRO ESPECIALIZADO                                       129\n",
              "TELESSAUDE                                                          86\n",
              "UNIDADE MOVEL FLUVIAL                                               59\n",
              "LABORATORIO CENTRAL DE SAUDE PUBLICA LACEN                          38\n",
              "UNIDADE DE ATENCAO EM REGIME RESIDENCIAL                            34\n",
              "CENTRO DE PARTO NORMAL - ISOLADO                                    33\n",
              "OFICINA ORTOPEDICA                                                  27\n",
              "Name: ds_tipo_unidade, dtype: int64"
            ]
          },
          "metadata": {
            "tags": []
          },
          "execution_count": 59
        }
      ]
    },
    {
      "cell_type": "markdown",
      "metadata": {
        "id": "ExtEdNtiIfvm"
      },
      "source": [
        "### Eliminação de colunas e linhas que não serão utilizadas - Dataset Estabelecimentos de Saúde (CNES)"
      ]
    },
    {
      "cell_type": "code",
      "metadata": {
        "id": "b_ubDfWOIrDv"
      },
      "source": [
        "# Eliminação das colunas que não serão utilizadas nas análises\n",
        "\n",
        "df_cnes = df_cnes.drop(['co_ibge','no_logradouro','nu_endereco','no_bairro','co_cep', 'municipio','nu_telefone'],axis=1)"
      ],
      "execution_count": null,
      "outputs": []
    },
    {
      "cell_type": "code",
      "metadata": {
        "id": "YROJoA_cJ-nk"
      },
      "source": [
        "# Como o dataset possui dados de todo o Brasil, os estados que não pertencem às regiões selecionadas para análise serão eliminados do dataframe\n",
        "df_cnes = df_cnes.loc[(df_cnes['uf'].isin(UFs))]"
      ],
      "execution_count": null,
      "outputs": []
    },
    {
      "cell_type": "code",
      "metadata": {
        "id": "MwVu6SxyLVKu"
      },
      "source": [
        "# Código reprodutível\n",
        "# assert len(df_cnes) == 181213"
      ],
      "execution_count": null,
      "outputs": []
    },
    {
      "cell_type": "code",
      "metadata": {
        "id": "ry6r5GIG1fLD",
        "colab": {
          "base_uri": "https://localhost:8080/"
        },
        "outputId": "47b22857-642f-4902-f1fe-59e8df9fffd3"
      },
      "source": [
        "print('Total de registros:',len(df_cnes))    # Quantidade de registros do dataset após eliminação de linhas\n",
        "print('')\n",
        "print(df_cnes.info())                        # Informações sobre o dataset \n",
        "\n",
        "## É possível observar a redução do número total de linhas e do número total de colunas (5) do dataset"
      ],
      "execution_count": null,
      "outputs": [
        {
          "output_type": "stream",
          "text": [
            "Total de registros: 183257\n",
            "\n",
            "<class 'pandas.core.frame.DataFrame'>\n",
            "Int64Index: 183257 entries, 2 to 354803\n",
            "Data columns (total 5 columns):\n",
            " #   Column           Non-Null Count   Dtype \n",
            "---  ------           --------------   ----- \n",
            " 0   co_cnes          183257 non-null  int64 \n",
            " 1   no_fantasia      183252 non-null  object\n",
            " 2   ds_tipo_unidade  183257 non-null  object\n",
            " 3   tp_gestao        183257 non-null  object\n",
            " 4   uf               183257 non-null  object\n",
            "dtypes: int64(1), object(4)\n",
            "memory usage: 8.4+ MB\n",
            "None\n"
          ],
          "name": "stdout"
        }
      ]
    },
    {
      "cell_type": "markdown",
      "metadata": {
        "id": "m_rIE38A3_HW"
      },
      "source": [
        "### Tratamento de valores nulos e/ou faltantes"
      ]
    },
    {
      "cell_type": "code",
      "metadata": {
        "colab": {
          "base_uri": "https://localhost:8080/"
        },
        "id": "ZOYUlLJDI-2L",
        "outputId": "0570f67e-eee4-4866-ad7e-a29729a8fbc8"
      },
      "source": [
        "df_cnes.count()        # Quantidade de registros por coluna. \n",
        "                      # É possível observar que algumas colunas possuem quatidade inferior de registros, o que indica que será necessário \n",
        "                      #    tratamento de dados se essas colunas forem necessárias para análise"
      ],
      "execution_count": null,
      "outputs": [
        {
          "output_type": "execute_result",
          "data": {
            "text/plain": [
              "co_cnes            183257\n",
              "no_fantasia        183252\n",
              "ds_tipo_unidade    183257\n",
              "tp_gestao          183257\n",
              "uf                 183257\n",
              "dtype: int64"
            ]
          },
          "metadata": {
            "tags": []
          },
          "execution_count": 23
        }
      ]
    },
    {
      "cell_type": "code",
      "metadata": {
        "id": "mOTm7ozFAo5N"
      },
      "source": [
        "# falta incluir tratamento de nulos e valores faltantes"
      ],
      "execution_count": null,
      "outputs": []
    },
    {
      "cell_type": "markdown",
      "metadata": {
        "id": "69v9jq914B4d"
      },
      "source": [
        "### Identificação e tratamento de valores duplicados"
      ]
    },
    {
      "cell_type": "code",
      "metadata": {
        "id": "EwVCie5zAqLx"
      },
      "source": [
        "# falta incluir tratamento de valores duplicados"
      ],
      "execution_count": null,
      "outputs": []
    },
    {
      "cell_type": "markdown",
      "metadata": {
        "id": "bofYVY_GJvsu"
      },
      "source": [
        "## Merge entre os dataFrames de Vacinação e CNES"
      ]
    },
    {
      "cell_type": "code",
      "metadata": {
        "id": "8e0ySi35KXpH"
      },
      "source": [
        "df_merge = pd.merge(df_vacinacao, df_cnes, on=None, left_on='estabelecimento_valor', right_on='co_cnes')"
      ],
      "execution_count": null,
      "outputs": []
    },
    {
      "cell_type": "code",
      "metadata": {
        "id": "-QgFf-tHKY_7",
        "colab": {
          "base_uri": "https://localhost:8080/"
        },
        "outputId": "75882649-8b6c-4d82-806f-84bceae0854b"
      },
      "source": [
        "print(df_merge)"
      ],
      "execution_count": null,
      "outputs": [
        {
          "output_type": "stream",
          "text": [
            "                                       document_id  ...  uf\n",
            "0        c6756cf9-0e0e-456b-86d2-94309b47e702-i0b0  ...  SP\n",
            "1        85a346cd-aae6-47a6-8b89-1ce2c3dcacbb-i0b0  ...  SP\n",
            "2        d250e4f3-6ff9-4f37-8f6d-cd5a9f3879cd-i0b0  ...  SP\n",
            "3        92a49f7c-be44-4796-9e88-7527f5e355b2-i0b0  ...  SP\n",
            "4        968dba04-edde-4371-9ceb-206ec2b6e2da-i0b0  ...  SP\n",
            "...                                            ...  ...  ..\n",
            "3896584  2dfcc705-e827-478d-83a6-0f46005c0389-i0b0  ...  MG\n",
            "3896585  7180c4be-1f9b-462d-a458-56cae6156fdc-i0b0  ...  MG\n",
            "3896586  0dd9723f-740d-4ed6-80aa-9cef3bd89473-i0b0  ...  MG\n",
            "3896587  6da9166e-0e36-4457-a818-ded1b8e95129-i0b0  ...  MG\n",
            "3896588  eb4b30c7-ea3b-4002-bf6b-9664fa56ee28-i0b0  ...  AM\n",
            "\n",
            "[3896589 rows x 31 columns]\n"
          ],
          "name": "stdout"
        }
      ]
    },
    {
      "cell_type": "code",
      "metadata": {
        "id": "9taiBmL6fBLk"
      },
      "source": [
        "# Criação do dataframe da região sudeste\n",
        "df_sudeste = df_merge.query('paciente_endereco_uf in [\"ES\", \"MG\", \"RJ\", \"SP\"]')"
      ],
      "execution_count": null,
      "outputs": []
    },
    {
      "cell_type": "code",
      "metadata": {
        "id": "KToBPyJfkyeE",
        "colab": {
          "base_uri": "https://localhost:8080/",
          "height": 993
        },
        "outputId": "0dfdcb9e-a978-45d2-9826-898a30e8c7dd"
      },
      "source": [
        "df_sudeste"
      ],
      "execution_count": null,
      "outputs": [
        {
          "output_type": "execute_result",
          "data": {
            "text/html": [
              "<div>\n",
              "<style scoped>\n",
              "    .dataframe tbody tr th:only-of-type {\n",
              "        vertical-align: middle;\n",
              "    }\n",
              "\n",
              "    .dataframe tbody tr th {\n",
              "        vertical-align: top;\n",
              "    }\n",
              "\n",
              "    .dataframe thead th {\n",
              "        text-align: right;\n",
              "    }\n",
              "</style>\n",
              "<table border=\"1\" class=\"dataframe\">\n",
              "  <thead>\n",
              "    <tr style=\"text-align: right;\">\n",
              "      <th></th>\n",
              "      <th>document_id</th>\n",
              "      <th>paciente_id</th>\n",
              "      <th>paciente_idade</th>\n",
              "      <th>paciente_dataNascimento</th>\n",
              "      <th>paciente_enumSexoBiologico</th>\n",
              "      <th>paciente_racaCor_codigo</th>\n",
              "      <th>paciente_racaCor_valor</th>\n",
              "      <th>paciente_endereco_coIbgeMunicipio</th>\n",
              "      <th>paciente_endereco_coPais</th>\n",
              "      <th>paciente_endereco_nmMunicipio</th>\n",
              "      <th>paciente_endereco_nmPais</th>\n",
              "      <th>paciente_endereco_uf</th>\n",
              "      <th>paciente_nacionalidade_enumNacionalidade</th>\n",
              "      <th>estabelecimento_valor</th>\n",
              "      <th>estabelecimento_municipio_codigo</th>\n",
              "      <th>estabelecimento_municipio_nome</th>\n",
              "      <th>estabelecimento_uf</th>\n",
              "      <th>vacina_grupoAtendimento_codigo</th>\n",
              "      <th>vacina_grupoAtendimento_nome</th>\n",
              "      <th>vacina_categoria_codigo</th>\n",
              "      <th>vacina_categoria_nome</th>\n",
              "      <th>vacina_fabricante_nome</th>\n",
              "      <th>vacina_dataAplicacao</th>\n",
              "      <th>vacina_descricao_dose</th>\n",
              "      <th>vacina_nome</th>\n",
              "      <th>data_importacao_rnds</th>\n",
              "      <th>co_cnes</th>\n",
              "      <th>no_fantasia</th>\n",
              "      <th>ds_tipo_unidade</th>\n",
              "      <th>tp_gestao</th>\n",
              "      <th>uf</th>\n",
              "    </tr>\n",
              "  </thead>\n",
              "  <tbody>\n",
              "    <tr>\n",
              "      <th>0</th>\n",
              "      <td>c6756cf9-0e0e-456b-86d2-94309b47e702-i0b0</td>\n",
              "      <td>3c73310d030b31ec5c73deda79bad2e8dbcc388839b6cd...</td>\n",
              "      <td>43.0</td>\n",
              "      <td>1977-12-05</td>\n",
              "      <td>F</td>\n",
              "      <td>1.0</td>\n",
              "      <td>BRANCA</td>\n",
              "      <td>352270</td>\n",
              "      <td>10</td>\n",
              "      <td>ITAPOLIS</td>\n",
              "      <td>BRASIL</td>\n",
              "      <td>SP</td>\n",
              "      <td>B</td>\n",
              "      <td>2747723</td>\n",
              "      <td>352270.0</td>\n",
              "      <td>ITAPOLIS</td>\n",
              "      <td>SP</td>\n",
              "      <td>926</td>\n",
              "      <td>Outros</td>\n",
              "      <td>9.0</td>\n",
              "      <td>Trabalhadores de Saúde</td>\n",
              "      <td>Sinovac</td>\n",
              "      <td>2021-02-12T00:00:00.000Z</td>\n",
              "      <td>1ª Dose</td>\n",
              "      <td>Covid-19-Coronavac-Sinovac/Butantan</td>\n",
              "      <td>2021-02-12 10:02:44</td>\n",
              "      <td>2747723</td>\n",
              "      <td>UBS JARDIM REDENCAO ITAPOLIS</td>\n",
              "      <td>CENTRO DE SAUDE/UNIDADE BASICA</td>\n",
              "      <td>M</td>\n",
              "      <td>SP</td>\n",
              "    </tr>\n",
              "    <tr>\n",
              "      <th>1</th>\n",
              "      <td>85a346cd-aae6-47a6-8b89-1ce2c3dcacbb-i0b0</td>\n",
              "      <td>35d55970473ce949b1c9cd7a082b1a04a879378113f16e...</td>\n",
              "      <td>56.0</td>\n",
              "      <td>1964-12-10</td>\n",
              "      <td>F</td>\n",
              "      <td>1.0</td>\n",
              "      <td>BRANCA</td>\n",
              "      <td>352270</td>\n",
              "      <td>10</td>\n",
              "      <td>ITAPOLIS</td>\n",
              "      <td>BRASIL</td>\n",
              "      <td>SP</td>\n",
              "      <td>B</td>\n",
              "      <td>2747723</td>\n",
              "      <td>352270.0</td>\n",
              "      <td>ITAPOLIS</td>\n",
              "      <td>SP</td>\n",
              "      <td>926</td>\n",
              "      <td>Outros</td>\n",
              "      <td>9.0</td>\n",
              "      <td>Trabalhadores de Saúde</td>\n",
              "      <td>Sinovac</td>\n",
              "      <td>2021-02-09T00:00:00.000Z</td>\n",
              "      <td>1ª Dose</td>\n",
              "      <td>Covid-19-Coronavac-Sinovac/Butantan</td>\n",
              "      <td>2021-02-09 04:02:37</td>\n",
              "      <td>2747723</td>\n",
              "      <td>UBS JARDIM REDENCAO ITAPOLIS</td>\n",
              "      <td>CENTRO DE SAUDE/UNIDADE BASICA</td>\n",
              "      <td>M</td>\n",
              "      <td>SP</td>\n",
              "    </tr>\n",
              "    <tr>\n",
              "      <th>2</th>\n",
              "      <td>d250e4f3-6ff9-4f37-8f6d-cd5a9f3879cd-i0b0</td>\n",
              "      <td>97c8e4ce239cd99aa3db8122f785c58436328db973b0e5...</td>\n",
              "      <td>40.0</td>\n",
              "      <td>1980-06-02</td>\n",
              "      <td>M</td>\n",
              "      <td>1.0</td>\n",
              "      <td>BRANCA</td>\n",
              "      <td>352270</td>\n",
              "      <td>10</td>\n",
              "      <td>ITAPOLIS</td>\n",
              "      <td>BRASIL</td>\n",
              "      <td>SP</td>\n",
              "      <td>B</td>\n",
              "      <td>2747723</td>\n",
              "      <td>352270.0</td>\n",
              "      <td>ITAPOLIS</td>\n",
              "      <td>SP</td>\n",
              "      <td>926</td>\n",
              "      <td>Outros</td>\n",
              "      <td>9.0</td>\n",
              "      <td>Trabalhadores de Saúde</td>\n",
              "      <td>AstraZeneca/Oxford</td>\n",
              "      <td>2021-02-03T00:00:00.000Z</td>\n",
              "      <td>1ª Dose</td>\n",
              "      <td>Vacina Covid-19 - Covishield</td>\n",
              "      <td>2021-02-03 10:02:10</td>\n",
              "      <td>2747723</td>\n",
              "      <td>UBS JARDIM REDENCAO ITAPOLIS</td>\n",
              "      <td>CENTRO DE SAUDE/UNIDADE BASICA</td>\n",
              "      <td>M</td>\n",
              "      <td>SP</td>\n",
              "    </tr>\n",
              "    <tr>\n",
              "      <th>3</th>\n",
              "      <td>92a49f7c-be44-4796-9e88-7527f5e355b2-i0b0</td>\n",
              "      <td>a581e01db894c667d6e6bd1793e613d5981cdc7ee0e86c...</td>\n",
              "      <td>79.0</td>\n",
              "      <td>1941-07-05</td>\n",
              "      <td>F</td>\n",
              "      <td>1.0</td>\n",
              "      <td>BRANCA</td>\n",
              "      <td>352270</td>\n",
              "      <td>10</td>\n",
              "      <td>ITAPOLIS</td>\n",
              "      <td>BRASIL</td>\n",
              "      <td>SP</td>\n",
              "      <td>B</td>\n",
              "      <td>2747723</td>\n",
              "      <td>352270.0</td>\n",
              "      <td>ITAPOLIS</td>\n",
              "      <td>SP</td>\n",
              "      <td>204</td>\n",
              "      <td>Pessoas de 75 a 79 anos</td>\n",
              "      <td>2.0</td>\n",
              "      <td>Faixa Etária</td>\n",
              "      <td>Sinovac</td>\n",
              "      <td>2021-02-08T00:00:00.000Z</td>\n",
              "      <td>1ª Dose</td>\n",
              "      <td>Covid-19-Coronavac-Sinovac/Butantan</td>\n",
              "      <td>2021-02-08 06:02:20</td>\n",
              "      <td>2747723</td>\n",
              "      <td>UBS JARDIM REDENCAO ITAPOLIS</td>\n",
              "      <td>CENTRO DE SAUDE/UNIDADE BASICA</td>\n",
              "      <td>M</td>\n",
              "      <td>SP</td>\n",
              "    </tr>\n",
              "    <tr>\n",
              "      <th>4</th>\n",
              "      <td>968dba04-edde-4371-9ceb-206ec2b6e2da-i0b0</td>\n",
              "      <td>fea3a597ecd86a91e05f791b597c63cf540e7dc4451d40...</td>\n",
              "      <td>95.0</td>\n",
              "      <td>1925-08-03</td>\n",
              "      <td>F</td>\n",
              "      <td>1.0</td>\n",
              "      <td>BRANCA</td>\n",
              "      <td>352270</td>\n",
              "      <td>10</td>\n",
              "      <td>ITAPOLIS</td>\n",
              "      <td>BRASIL</td>\n",
              "      <td>SP</td>\n",
              "      <td>B</td>\n",
              "      <td>2747723</td>\n",
              "      <td>352270.0</td>\n",
              "      <td>ITAPOLIS</td>\n",
              "      <td>SP</td>\n",
              "      <td>205</td>\n",
              "      <td>Pessoas de 80 anos ou mais</td>\n",
              "      <td>2.0</td>\n",
              "      <td>Faixa Etária</td>\n",
              "      <td>Sinovac</td>\n",
              "      <td>2021-02-08T00:00:00.000Z</td>\n",
              "      <td>1ª Dose</td>\n",
              "      <td>Covid-19-Coronavac-Sinovac/Butantan</td>\n",
              "      <td>2021-02-08 05:02:01</td>\n",
              "      <td>2747723</td>\n",
              "      <td>UBS JARDIM REDENCAO ITAPOLIS</td>\n",
              "      <td>CENTRO DE SAUDE/UNIDADE BASICA</td>\n",
              "      <td>M</td>\n",
              "      <td>SP</td>\n",
              "    </tr>\n",
              "    <tr>\n",
              "      <th>...</th>\n",
              "      <td>...</td>\n",
              "      <td>...</td>\n",
              "      <td>...</td>\n",
              "      <td>...</td>\n",
              "      <td>...</td>\n",
              "      <td>...</td>\n",
              "      <td>...</td>\n",
              "      <td>...</td>\n",
              "      <td>...</td>\n",
              "      <td>...</td>\n",
              "      <td>...</td>\n",
              "      <td>...</td>\n",
              "      <td>...</td>\n",
              "      <td>...</td>\n",
              "      <td>...</td>\n",
              "      <td>...</td>\n",
              "      <td>...</td>\n",
              "      <td>...</td>\n",
              "      <td>...</td>\n",
              "      <td>...</td>\n",
              "      <td>...</td>\n",
              "      <td>...</td>\n",
              "      <td>...</td>\n",
              "      <td>...</td>\n",
              "      <td>...</td>\n",
              "      <td>...</td>\n",
              "      <td>...</td>\n",
              "      <td>...</td>\n",
              "      <td>...</td>\n",
              "      <td>...</td>\n",
              "      <td>...</td>\n",
              "    </tr>\n",
              "    <tr>\n",
              "      <th>3896583</th>\n",
              "      <td>3029db2c-2fc1-477a-a47e-890837556c22-i0b0</td>\n",
              "      <td>fa4ce5506acc064ac80f257006e8a9dbfebf4ccc663f19...</td>\n",
              "      <td>92.0</td>\n",
              "      <td>1928-10-28</td>\n",
              "      <td>F</td>\n",
              "      <td>99.0</td>\n",
              "      <td>SEM INFORMACAO</td>\n",
              "      <td>312770</td>\n",
              "      <td>10</td>\n",
              "      <td>GOVERNADOR VALADARES</td>\n",
              "      <td>BRASIL</td>\n",
              "      <td>MG</td>\n",
              "      <td>B</td>\n",
              "      <td>2119021</td>\n",
              "      <td>312770.0</td>\n",
              "      <td>GOVERNADOR VALADARES</td>\n",
              "      <td>MG</td>\n",
              "      <td>205</td>\n",
              "      <td>Pessoas de 80 anos ou mais</td>\n",
              "      <td>2.0</td>\n",
              "      <td>Faixa Etária</td>\n",
              "      <td>FUNDACAO BUTANTAN</td>\n",
              "      <td>2021-02-10T03:00:00.000Z</td>\n",
              "      <td>1ª Dose</td>\n",
              "      <td>Covid-19-Coronavac-Sinovac/Butantan</td>\n",
              "      <td>2021-02-24 19:09:36</td>\n",
              "      <td>2119021</td>\n",
              "      <td>ESF TURMALINA I</td>\n",
              "      <td>CENTRO DE SAUDE/UNIDADE BASICA</td>\n",
              "      <td>M</td>\n",
              "      <td>MG</td>\n",
              "    </tr>\n",
              "    <tr>\n",
              "      <th>3896584</th>\n",
              "      <td>2dfcc705-e827-478d-83a6-0f46005c0389-i0b0</td>\n",
              "      <td>fcc80a11d76b1640683f91741086730b7ba90e2ff43412...</td>\n",
              "      <td>93.0</td>\n",
              "      <td>1928-01-26</td>\n",
              "      <td>M</td>\n",
              "      <td>1.0</td>\n",
              "      <td>BRANCA</td>\n",
              "      <td>314510</td>\n",
              "      <td>10</td>\n",
              "      <td>NOVA RESENDE</td>\n",
              "      <td>BRASIL</td>\n",
              "      <td>MG</td>\n",
              "      <td>B</td>\n",
              "      <td>9399798</td>\n",
              "      <td>314510.0</td>\n",
              "      <td>NOVA RESENDE</td>\n",
              "      <td>MG</td>\n",
              "      <td>205</td>\n",
              "      <td>Pessoas de 80 anos ou mais</td>\n",
              "      <td>2.0</td>\n",
              "      <td>Faixa Etária</td>\n",
              "      <td>FUNDACAO BUTANTAN</td>\n",
              "      <td>2021-02-12T03:00:00.000Z</td>\n",
              "      <td>1ª Dose</td>\n",
              "      <td>Covid-19-Coronavac-Sinovac/Butantan</td>\n",
              "      <td>2021-02-26 18:37:37</td>\n",
              "      <td>9399798</td>\n",
              "      <td>PSF SERRA II</td>\n",
              "      <td>CENTRO DE SAUDE/UNIDADE BASICA</td>\n",
              "      <td>M</td>\n",
              "      <td>MG</td>\n",
              "    </tr>\n",
              "    <tr>\n",
              "      <th>3896585</th>\n",
              "      <td>7180c4be-1f9b-462d-a458-56cae6156fdc-i0b0</td>\n",
              "      <td>81a587c7b8c00bd970363bd409a3e2ec055ff3b01cbc80...</td>\n",
              "      <td>21.0</td>\n",
              "      <td>1999-06-25</td>\n",
              "      <td>F</td>\n",
              "      <td>3.0</td>\n",
              "      <td>PARDA</td>\n",
              "      <td>313250</td>\n",
              "      <td>10</td>\n",
              "      <td>ITAMARANDIBA</td>\n",
              "      <td>BRASIL</td>\n",
              "      <td>MG</td>\n",
              "      <td>B</td>\n",
              "      <td>2178168</td>\n",
              "      <td>313250.0</td>\n",
              "      <td>ITAMARANDIBA</td>\n",
              "      <td>MG</td>\n",
              "      <td>0</td>\n",
              "      <td>NaN</td>\n",
              "      <td>NaN</td>\n",
              "      <td>NaN</td>\n",
              "      <td>SERUM INSTITUTE OF INDIA LTD</td>\n",
              "      <td>2021-01-22T00:00:00.000Z</td>\n",
              "      <td>1ª Dose</td>\n",
              "      <td>Covid-19-Coronavac-Sinovac/Butantan</td>\n",
              "      <td>2021-02-22 13:58:38</td>\n",
              "      <td>2178168</td>\n",
              "      <td>POSTO DE SAUDE DE CONTRATO</td>\n",
              "      <td>CENTRO DE SAUDE/UNIDADE BASICA</td>\n",
              "      <td>M</td>\n",
              "      <td>MG</td>\n",
              "    </tr>\n",
              "    <tr>\n",
              "      <th>3896586</th>\n",
              "      <td>0dd9723f-740d-4ed6-80aa-9cef3bd89473-i0b0</td>\n",
              "      <td>29cf8925ec26a8c50e35b16e7ae8b423eac7629a3ee090...</td>\n",
              "      <td>93.0</td>\n",
              "      <td>1927-08-09</td>\n",
              "      <td>F</td>\n",
              "      <td>99.0</td>\n",
              "      <td>SEM INFORMACAO</td>\n",
              "      <td>314700</td>\n",
              "      <td>10</td>\n",
              "      <td>PARACATU</td>\n",
              "      <td>BRASIL</td>\n",
              "      <td>MG</td>\n",
              "      <td>B</td>\n",
              "      <td>2169339</td>\n",
              "      <td>314700.0</td>\n",
              "      <td>PARACATU</td>\n",
              "      <td>MG</td>\n",
              "      <td>205</td>\n",
              "      <td>Pessoas de 80 anos ou mais</td>\n",
              "      <td>2.0</td>\n",
              "      <td>Faixa Etária</td>\n",
              "      <td>FUNDACAO BUTANTAN</td>\n",
              "      <td>2021-02-18T03:00:00.000Z</td>\n",
              "      <td>1ª Dose</td>\n",
              "      <td>Covid-19-Coronavac-Sinovac/Butantan</td>\n",
              "      <td>2021-02-19 11:53:44</td>\n",
              "      <td>2169339</td>\n",
              "      <td>PSF VILA SAO JOAO EVANGELISTA</td>\n",
              "      <td>CENTRO DE SAUDE/UNIDADE BASICA</td>\n",
              "      <td>M</td>\n",
              "      <td>MG</td>\n",
              "    </tr>\n",
              "    <tr>\n",
              "      <th>3896587</th>\n",
              "      <td>6da9166e-0e36-4457-a818-ded1b8e95129-i0b0</td>\n",
              "      <td>c17edfb6c7e3283470102dd8e34062a828742b3cc15954...</td>\n",
              "      <td>38.0</td>\n",
              "      <td>1982-12-07</td>\n",
              "      <td>M</td>\n",
              "      <td>3.0</td>\n",
              "      <td>PARDA</td>\n",
              "      <td>311950</td>\n",
              "      <td>10</td>\n",
              "      <td>CORONEL MURTA</td>\n",
              "      <td>BRASIL</td>\n",
              "      <td>MG</td>\n",
              "      <td>B</td>\n",
              "      <td>7589395</td>\n",
              "      <td>311950.0</td>\n",
              "      <td>CORONEL MURTA</td>\n",
              "      <td>MG</td>\n",
              "      <td>907</td>\n",
              "      <td>Enfermeiro(a)</td>\n",
              "      <td>9.0</td>\n",
              "      <td>Trabalhadores de Saúde</td>\n",
              "      <td>SERUM INSTITUTE OF INDIA LTD</td>\n",
              "      <td>2021-02-03T00:00:00.000Z</td>\n",
              "      <td>2ª Dose</td>\n",
              "      <td>Covid-19-Coronavac-Sinovac/Butantan</td>\n",
              "      <td>2021-02-22 13:59:27</td>\n",
              "      <td>7589395</td>\n",
              "      <td>UNIDADE BASICA DE SAUDE PALMEIRAS</td>\n",
              "      <td>CENTRO DE SAUDE/UNIDADE BASICA</td>\n",
              "      <td>M</td>\n",
              "      <td>MG</td>\n",
              "    </tr>\n",
              "  </tbody>\n",
              "</table>\n",
              "<p>3245291 rows × 31 columns</p>\n",
              "</div>"
            ],
            "text/plain": [
              "                                       document_id  ...  uf\n",
              "0        c6756cf9-0e0e-456b-86d2-94309b47e702-i0b0  ...  SP\n",
              "1        85a346cd-aae6-47a6-8b89-1ce2c3dcacbb-i0b0  ...  SP\n",
              "2        d250e4f3-6ff9-4f37-8f6d-cd5a9f3879cd-i0b0  ...  SP\n",
              "3        92a49f7c-be44-4796-9e88-7527f5e355b2-i0b0  ...  SP\n",
              "4        968dba04-edde-4371-9ceb-206ec2b6e2da-i0b0  ...  SP\n",
              "...                                            ...  ...  ..\n",
              "3896583  3029db2c-2fc1-477a-a47e-890837556c22-i0b0  ...  MG\n",
              "3896584  2dfcc705-e827-478d-83a6-0f46005c0389-i0b0  ...  MG\n",
              "3896585  7180c4be-1f9b-462d-a458-56cae6156fdc-i0b0  ...  MG\n",
              "3896586  0dd9723f-740d-4ed6-80aa-9cef3bd89473-i0b0  ...  MG\n",
              "3896587  6da9166e-0e36-4457-a818-ded1b8e95129-i0b0  ...  MG\n",
              "\n",
              "[3245291 rows x 31 columns]"
            ]
          },
          "metadata": {
            "tags": []
          },
          "execution_count": 33
        }
      ]
    },
    {
      "cell_type": "code",
      "metadata": {
        "colab": {
          "base_uri": "https://localhost:8080/"
        },
        "id": "skLo2Anygp8h",
        "outputId": "dd257921-45db-406c-c24f-39f202823a11"
      },
      "source": [
        "# Total de vacinados por UF na região sudeste\n",
        "df_sudeste['paciente_endereco_uf'].value_counts()"
      ],
      "execution_count": null,
      "outputs": [
        {
          "output_type": "execute_result",
          "data": {
            "text/plain": [
              "SP    2117318\n",
              "MG     580997\n",
              "RJ     425267\n",
              "ES     121709\n",
              "Name: paciente_endereco_uf, dtype: int64"
            ]
          },
          "metadata": {
            "tags": []
          },
          "execution_count": 34
        }
      ]
    },
    {
      "cell_type": "code",
      "metadata": {
        "id": "F_NxPBXeqJ7Z",
        "colab": {
          "base_uri": "https://localhost:8080/"
        },
        "outputId": "f0567102-e77a-4414-e853-af5e3c9a5417"
      },
      "source": [
        "# Total de estabelecimentos de saúde dos vacinados da região sudeste (Aparece estados da região norte para trabalhadores da saúde )\n",
        "df_sudeste['estabelecimento_uf'].value_counts()"
      ],
      "execution_count": null,
      "outputs": [
        {
          "output_type": "execute_result",
          "data": {
            "text/plain": [
              "SP    2141063\n",
              "MG     560408\n",
              "RJ     417886\n",
              "ES     121240\n",
              "AM       1762\n",
              "PA       1619\n",
              "TO        413\n",
              "RO        365\n",
              "RR        277\n",
              "AC        155\n",
              "AP        103\n",
              "Name: estabelecimento_uf, dtype: int64"
            ]
          },
          "metadata": {
            "tags": []
          },
          "execution_count": 39
        }
      ]
    },
    {
      "cell_type": "code",
      "metadata": {
        "id": "K-bBel_dsYAN",
        "colab": {
          "base_uri": "https://localhost:8080/",
          "height": 1000
        },
        "outputId": "df2594cc-74de-42de-a831-05c14dceb472"
      },
      "source": [
        "# Total de vacinados fora do seu estado :(\n",
        "df_sudeste.query('paciente_endereco_uf != estabelecimento_uf')"
      ],
      "execution_count": null,
      "outputs": [
        {
          "output_type": "execute_result",
          "data": {
            "text/html": [
              "<div>\n",
              "<style scoped>\n",
              "    .dataframe tbody tr th:only-of-type {\n",
              "        vertical-align: middle;\n",
              "    }\n",
              "\n",
              "    .dataframe tbody tr th {\n",
              "        vertical-align: top;\n",
              "    }\n",
              "\n",
              "    .dataframe thead th {\n",
              "        text-align: right;\n",
              "    }\n",
              "</style>\n",
              "<table border=\"1\" class=\"dataframe\">\n",
              "  <thead>\n",
              "    <tr style=\"text-align: right;\">\n",
              "      <th></th>\n",
              "      <th>document_id</th>\n",
              "      <th>paciente_id</th>\n",
              "      <th>paciente_idade</th>\n",
              "      <th>paciente_dataNascimento</th>\n",
              "      <th>paciente_enumSexoBiologico</th>\n",
              "      <th>paciente_racaCor_codigo</th>\n",
              "      <th>paciente_racaCor_valor</th>\n",
              "      <th>paciente_endereco_coIbgeMunicipio</th>\n",
              "      <th>paciente_endereco_coPais</th>\n",
              "      <th>paciente_endereco_nmMunicipio</th>\n",
              "      <th>paciente_endereco_nmPais</th>\n",
              "      <th>paciente_endereco_uf</th>\n",
              "      <th>paciente_nacionalidade_enumNacionalidade</th>\n",
              "      <th>estabelecimento_valor</th>\n",
              "      <th>estabelecimento_municipio_codigo</th>\n",
              "      <th>estabelecimento_municipio_nome</th>\n",
              "      <th>estabelecimento_uf</th>\n",
              "      <th>vacina_grupoAtendimento_codigo</th>\n",
              "      <th>vacina_grupoAtendimento_nome</th>\n",
              "      <th>vacina_categoria_codigo</th>\n",
              "      <th>vacina_categoria_nome</th>\n",
              "      <th>vacina_fabricante_nome</th>\n",
              "      <th>vacina_dataAplicacao</th>\n",
              "      <th>vacina_descricao_dose</th>\n",
              "      <th>vacina_nome</th>\n",
              "      <th>data_importacao_rnds</th>\n",
              "      <th>co_cnes</th>\n",
              "      <th>no_fantasia</th>\n",
              "      <th>ds_tipo_unidade</th>\n",
              "      <th>tp_gestao</th>\n",
              "      <th>uf</th>\n",
              "    </tr>\n",
              "  </thead>\n",
              "  <tbody>\n",
              "    <tr>\n",
              "      <th>20</th>\n",
              "      <td>473eac75-5232-44b6-bbee-f48aa95efe37-i0b0</td>\n",
              "      <td>482372bcb1425f8feb7ede07ca37559153d95b0a71ceda...</td>\n",
              "      <td>70.0</td>\n",
              "      <td>1950-08-04</td>\n",
              "      <td>M</td>\n",
              "      <td>1.0</td>\n",
              "      <td>BRANCA</td>\n",
              "      <td>314700</td>\n",
              "      <td>10</td>\n",
              "      <td>PARACATU</td>\n",
              "      <td>BRASIL</td>\n",
              "      <td>MG</td>\n",
              "      <td>B</td>\n",
              "      <td>2747723</td>\n",
              "      <td>352270.0</td>\n",
              "      <td>ITAPOLIS</td>\n",
              "      <td>SP</td>\n",
              "      <td>203</td>\n",
              "      <td>Pessoas de 70 a 74 anos</td>\n",
              "      <td>2.0</td>\n",
              "      <td>Faixa Etária</td>\n",
              "      <td>Sinovac</td>\n",
              "      <td>2021-02-08T00:00:00.000Z</td>\n",
              "      <td>1ª Dose</td>\n",
              "      <td>Covid-19-Coronavac-Sinovac/Butantan</td>\n",
              "      <td>2021-02-08 05:02:49</td>\n",
              "      <td>2747723</td>\n",
              "      <td>UBS JARDIM REDENCAO ITAPOLIS</td>\n",
              "      <td>CENTRO DE SAUDE/UNIDADE BASICA</td>\n",
              "      <td>M</td>\n",
              "      <td>SP</td>\n",
              "    </tr>\n",
              "    <tr>\n",
              "      <th>138</th>\n",
              "      <td>2fb02794-75bb-46d4-b9a8-aad9dbc44449-i0b0</td>\n",
              "      <td>19a66715dfd40288664a107ac67e8d8e346fbf310684fc...</td>\n",
              "      <td>44.0</td>\n",
              "      <td>1976-12-01</td>\n",
              "      <td>M</td>\n",
              "      <td>1.0</td>\n",
              "      <td>BRANCA</td>\n",
              "      <td>310620</td>\n",
              "      <td>10</td>\n",
              "      <td>BELO HORIZONTE</td>\n",
              "      <td>BRASIL</td>\n",
              "      <td>MG</td>\n",
              "      <td>B</td>\n",
              "      <td>2747723</td>\n",
              "      <td>352270.0</td>\n",
              "      <td>ITAPOLIS</td>\n",
              "      <td>SP</td>\n",
              "      <td>926</td>\n",
              "      <td>Outros</td>\n",
              "      <td>9.0</td>\n",
              "      <td>Trabalhadores de Saúde</td>\n",
              "      <td>Sinovac</td>\n",
              "      <td>2021-02-12T00:00:00.000Z</td>\n",
              "      <td>2ª Dose</td>\n",
              "      <td>Covid-19-Coronavac-Sinovac/Butantan</td>\n",
              "      <td>2021-02-12 04:02:16</td>\n",
              "      <td>2747723</td>\n",
              "      <td>UBS JARDIM REDENCAO ITAPOLIS</td>\n",
              "      <td>CENTRO DE SAUDE/UNIDADE BASICA</td>\n",
              "      <td>M</td>\n",
              "      <td>SP</td>\n",
              "    </tr>\n",
              "    <tr>\n",
              "      <th>294</th>\n",
              "      <td>29f3635f-cb7d-425b-8b51-f88328a9056f-i0b0</td>\n",
              "      <td>19a66715dfd40288664a107ac67e8d8e346fbf310684fc...</td>\n",
              "      <td>44.0</td>\n",
              "      <td>1976-12-01</td>\n",
              "      <td>M</td>\n",
              "      <td>1.0</td>\n",
              "      <td>BRANCA</td>\n",
              "      <td>310620</td>\n",
              "      <td>10</td>\n",
              "      <td>BELO HORIZONTE</td>\n",
              "      <td>BRASIL</td>\n",
              "      <td>MG</td>\n",
              "      <td>B</td>\n",
              "      <td>2747723</td>\n",
              "      <td>352270.0</td>\n",
              "      <td>ITAPOLIS</td>\n",
              "      <td>SP</td>\n",
              "      <td>926</td>\n",
              "      <td>Outros</td>\n",
              "      <td>9.0</td>\n",
              "      <td>Trabalhadores de Saúde</td>\n",
              "      <td>Sinovac</td>\n",
              "      <td>2021-01-21T00:00:00.000Z</td>\n",
              "      <td>1ª Dose</td>\n",
              "      <td>Covid-19-Coronavac-Sinovac/Butantan</td>\n",
              "      <td>2021-01-21 18:18:51</td>\n",
              "      <td>2747723</td>\n",
              "      <td>UBS JARDIM REDENCAO ITAPOLIS</td>\n",
              "      <td>CENTRO DE SAUDE/UNIDADE BASICA</td>\n",
              "      <td>M</td>\n",
              "      <td>SP</td>\n",
              "    </tr>\n",
              "    <tr>\n",
              "      <th>726</th>\n",
              "      <td>d850726c-481c-4b4f-90ee-fa5687a6587d-i0b0</td>\n",
              "      <td>a4fa0565919a5467893804b00b294366153be68ecb5e66...</td>\n",
              "      <td>25.0</td>\n",
              "      <td>1995-10-19</td>\n",
              "      <td>F</td>\n",
              "      <td>99.0</td>\n",
              "      <td>SEM INFORMACAO</td>\n",
              "      <td>320340</td>\n",
              "      <td>10</td>\n",
              "      <td>MIMOSO DO SUL</td>\n",
              "      <td>BRASIL</td>\n",
              "      <td>ES</td>\n",
              "      <td>B</td>\n",
              "      <td>7723628</td>\n",
              "      <td>130240.0</td>\n",
              "      <td>LABREA</td>\n",
              "      <td>AM</td>\n",
              "      <td>701</td>\n",
              "      <td>Povos indígenas em terras indígenas</td>\n",
              "      <td>7.0</td>\n",
              "      <td>Povos Indígenas</td>\n",
              "      <td>FUNDACAO BUTANTAN</td>\n",
              "      <td>2021-02-17T03:00:00.000Z</td>\n",
              "      <td>2ª Dose</td>\n",
              "      <td>Covid-19-Coronavac-Sinovac/Butantan</td>\n",
              "      <td>2021-02-26 15:12:49</td>\n",
              "      <td>7723628</td>\n",
              "      <td>DISTRITO SANITARIO ESPECIAL INDIGENA MEDIO PURUS</td>\n",
              "      <td>UNIDADE DE ATENCAO A SAUDE INDIGENA</td>\n",
              "      <td>M</td>\n",
              "      <td>AM</td>\n",
              "    </tr>\n",
              "    <tr>\n",
              "      <th>933</th>\n",
              "      <td>89988ce5-ccac-4993-8a6a-6d28241615cd-i0b0</td>\n",
              "      <td>82994c75dc27477c0fe47cfcfbf739270c6ebeb1bf11fa...</td>\n",
              "      <td>40.0</td>\n",
              "      <td>1980-02-10</td>\n",
              "      <td>F</td>\n",
              "      <td>99.0</td>\n",
              "      <td>SEM INFORMACAO</td>\n",
              "      <td>354100</td>\n",
              "      <td>10</td>\n",
              "      <td>PRAIA GRANDE</td>\n",
              "      <td>BRASIL</td>\n",
              "      <td>SP</td>\n",
              "      <td>B</td>\n",
              "      <td>7723628</td>\n",
              "      <td>130240.0</td>\n",
              "      <td>LABREA</td>\n",
              "      <td>AM</td>\n",
              "      <td>907</td>\n",
              "      <td>Enfermeiro(a)</td>\n",
              "      <td>9.0</td>\n",
              "      <td>Trabalhadores de Saúde</td>\n",
              "      <td>FUNDACAO BUTANTAN</td>\n",
              "      <td>2021-02-04T03:00:00.000Z</td>\n",
              "      <td>1ª Dose</td>\n",
              "      <td>Covid-19-Coronavac-Sinovac/Butantan</td>\n",
              "      <td>2021-02-05 19:12:28</td>\n",
              "      <td>7723628</td>\n",
              "      <td>DISTRITO SANITARIO ESPECIAL INDIGENA MEDIO PURUS</td>\n",
              "      <td>UNIDADE DE ATENCAO A SAUDE INDIGENA</td>\n",
              "      <td>M</td>\n",
              "      <td>AM</td>\n",
              "    </tr>\n",
              "    <tr>\n",
              "      <th>...</th>\n",
              "      <td>...</td>\n",
              "      <td>...</td>\n",
              "      <td>...</td>\n",
              "      <td>...</td>\n",
              "      <td>...</td>\n",
              "      <td>...</td>\n",
              "      <td>...</td>\n",
              "      <td>...</td>\n",
              "      <td>...</td>\n",
              "      <td>...</td>\n",
              "      <td>...</td>\n",
              "      <td>...</td>\n",
              "      <td>...</td>\n",
              "      <td>...</td>\n",
              "      <td>...</td>\n",
              "      <td>...</td>\n",
              "      <td>...</td>\n",
              "      <td>...</td>\n",
              "      <td>...</td>\n",
              "      <td>...</td>\n",
              "      <td>...</td>\n",
              "      <td>...</td>\n",
              "      <td>...</td>\n",
              "      <td>...</td>\n",
              "      <td>...</td>\n",
              "      <td>...</td>\n",
              "      <td>...</td>\n",
              "      <td>...</td>\n",
              "      <td>...</td>\n",
              "      <td>...</td>\n",
              "      <td>...</td>\n",
              "    </tr>\n",
              "    <tr>\n",
              "      <th>3895503</th>\n",
              "      <td>9043397e-ba9a-4eaf-95a8-62ad02c2adaf-i0b0</td>\n",
              "      <td>309313fe8303321b27008a9e9e6393cd3b3fb8445dc2cb...</td>\n",
              "      <td>39.0</td>\n",
              "      <td>1981-10-20</td>\n",
              "      <td>M</td>\n",
              "      <td>99.0</td>\n",
              "      <td>SEM INFORMACAO</td>\n",
              "      <td>311410</td>\n",
              "      <td>10</td>\n",
              "      <td>CARMO DE MINAS</td>\n",
              "      <td>BRASIL</td>\n",
              "      <td>MG</td>\n",
              "      <td>B</td>\n",
              "      <td>9074805</td>\n",
              "      <td>354990.0</td>\n",
              "      <td>SAO JOSE DOS CAMPOS</td>\n",
              "      <td>SP</td>\n",
              "      <td>0</td>\n",
              "      <td>NaN</td>\n",
              "      <td>NaN</td>\n",
              "      <td>NaN</td>\n",
              "      <td>SERUM INSTITUTE OF INDIA LTD</td>\n",
              "      <td>2021-01-27T00:00:00.000Z</td>\n",
              "      <td>1ª Dose</td>\n",
              "      <td>Covid-19-Coronavac-Sinovac/Butantan</td>\n",
              "      <td>2021-02-22 14:15:25</td>\n",
              "      <td>9074805</td>\n",
              "      <td>UPA CAMPO DOS ALEMAES</td>\n",
              "      <td>PRONTO ATENDIMENTO</td>\n",
              "      <td>M</td>\n",
              "      <td>SP</td>\n",
              "    </tr>\n",
              "    <tr>\n",
              "      <th>3895607</th>\n",
              "      <td>c4e2163d-c00f-4e1d-ac8b-d9321dcb9557-i0b0</td>\n",
              "      <td>f740d8c741f78b60472e1ce9528556ed4bd7e5418b9548...</td>\n",
              "      <td>50.0</td>\n",
              "      <td>1970-05-11</td>\n",
              "      <td>F</td>\n",
              "      <td>1.0</td>\n",
              "      <td>BRANCA</td>\n",
              "      <td>330630</td>\n",
              "      <td>10</td>\n",
              "      <td>VOLTA REDONDA</td>\n",
              "      <td>BRASIL</td>\n",
              "      <td>RJ</td>\n",
              "      <td>B</td>\n",
              "      <td>2074672</td>\n",
              "      <td>350315.0</td>\n",
              "      <td>ARAPEI</td>\n",
              "      <td>SP</td>\n",
              "      <td>926</td>\n",
              "      <td>Outros</td>\n",
              "      <td>9.0</td>\n",
              "      <td>Trabalhadores de Saúde</td>\n",
              "      <td>Sinovac</td>\n",
              "      <td>2021-01-21T00:00:00.000Z</td>\n",
              "      <td>1ª Dose</td>\n",
              "      <td>Covid-19-Coronavac-Sinovac/Butantan</td>\n",
              "      <td>2021-01-21 07:01:40</td>\n",
              "      <td>2074672</td>\n",
              "      <td>UNIDADE BASICA DE SAUDE DE ARAPEI DR HAROLDO V...</td>\n",
              "      <td>CENTRO DE SAUDE/UNIDADE BASICA</td>\n",
              "      <td>M</td>\n",
              "      <td>SP</td>\n",
              "    </tr>\n",
              "    <tr>\n",
              "      <th>3896222</th>\n",
              "      <td>257848fa-99ae-4fc4-bb98-621e4121c1c5-i0b0</td>\n",
              "      <td>9029a3006931995c8172c87c375c67d584337e3be200ea...</td>\n",
              "      <td>96.0</td>\n",
              "      <td>1925-02-06</td>\n",
              "      <td>F</td>\n",
              "      <td>1.0</td>\n",
              "      <td>BRANCA</td>\n",
              "      <td>350380</td>\n",
              "      <td>10</td>\n",
              "      <td>ARTUR NOGUEIRA</td>\n",
              "      <td>BRASIL</td>\n",
              "      <td>SP</td>\n",
              "      <td>B</td>\n",
              "      <td>9407367</td>\n",
              "      <td>316860.0</td>\n",
              "      <td>TEOFILO OTONI</td>\n",
              "      <td>MG</td>\n",
              "      <td>205</td>\n",
              "      <td>Pessoas de 80 anos ou mais</td>\n",
              "      <td>2.0</td>\n",
              "      <td>Faixa Etária</td>\n",
              "      <td>FUNDACAO BUTANTAN</td>\n",
              "      <td>2021-02-19T03:00:00.000Z</td>\n",
              "      <td>1ª Dose</td>\n",
              "      <td>Covid-19-Coronavac-Sinovac/Butantan</td>\n",
              "      <td>2021-02-22 20:47:06</td>\n",
              "      <td>9407367</td>\n",
              "      <td>ESF CORREDOR GAZINELLI MUCURI</td>\n",
              "      <td>CENTRO DE SAUDE/UNIDADE BASICA</td>\n",
              "      <td>M</td>\n",
              "      <td>MG</td>\n",
              "    </tr>\n",
              "    <tr>\n",
              "      <th>3896366</th>\n",
              "      <td>a9f99dde-896d-44d0-a1b5-b85b73368887-i0b0</td>\n",
              "      <td>22c37fce7f94ab930a904473750adaf4c702128c3be153...</td>\n",
              "      <td>28.0</td>\n",
              "      <td>1992-03-01</td>\n",
              "      <td>F</td>\n",
              "      <td>1.0</td>\n",
              "      <td>BRANCA</td>\n",
              "      <td>355030</td>\n",
              "      <td>10</td>\n",
              "      <td>SAO PAULO</td>\n",
              "      <td>BRASIL</td>\n",
              "      <td>SP</td>\n",
              "      <td>B</td>\n",
              "      <td>2532115</td>\n",
              "      <td>320490.0</td>\n",
              "      <td>SAO MATEUS</td>\n",
              "      <td>ES</td>\n",
              "      <td>920</td>\n",
              "      <td>Recepcionista</td>\n",
              "      <td>9.0</td>\n",
              "      <td>Trabalhadores de Saúde</td>\n",
              "      <td>FUNDACAO BUTANTAN</td>\n",
              "      <td>2021-01-28T00:00:00.000Z</td>\n",
              "      <td>1ª Dose</td>\n",
              "      <td>Covid-19-Coronavac-Sinovac/Butantan</td>\n",
              "      <td>2021-01-29 17:25:34</td>\n",
              "      <td>2532115</td>\n",
              "      <td>USF LUCINDA B DE SOUZA PONTE</td>\n",
              "      <td>CENTRO DE SAUDE/UNIDADE BASICA</td>\n",
              "      <td>M</td>\n",
              "      <td>ES</td>\n",
              "    </tr>\n",
              "    <tr>\n",
              "      <th>3896414</th>\n",
              "      <td>1efdf3dc-7800-4b00-b33c-77a33b0e6e80-i0b0</td>\n",
              "      <td>b2b6b526d88f4cfd34415fb33a560be81bc889b13a3f43...</td>\n",
              "      <td>90.0</td>\n",
              "      <td>1930-02-17</td>\n",
              "      <td>M</td>\n",
              "      <td>1.0</td>\n",
              "      <td>BRANCA</td>\n",
              "      <td>330455</td>\n",
              "      <td>10</td>\n",
              "      <td>RIO DE JANEIRO</td>\n",
              "      <td>BRASIL</td>\n",
              "      <td>RJ</td>\n",
              "      <td>B</td>\n",
              "      <td>2161877</td>\n",
              "      <td>314390.0</td>\n",
              "      <td>MURIAE</td>\n",
              "      <td>MG</td>\n",
              "      <td>0</td>\n",
              "      <td>NaN</td>\n",
              "      <td>NaN</td>\n",
              "      <td>NaN</td>\n",
              "      <td>SERUM INSTITUTE OF INDIA LTD</td>\n",
              "      <td>2021-02-12T00:00:00.000Z</td>\n",
              "      <td>1ª Dose</td>\n",
              "      <td>Covid-19-Coronavac-Sinovac/Butantan</td>\n",
              "      <td>2021-02-22 14:00:31</td>\n",
              "      <td>2161877</td>\n",
              "      <td>UBS JOANOPOLIS</td>\n",
              "      <td>CENTRO DE SAUDE/UNIDADE BASICA</td>\n",
              "      <td>D</td>\n",
              "      <td>MG</td>\n",
              "    </tr>\n",
              "  </tbody>\n",
              "</table>\n",
              "<p>58560 rows × 31 columns</p>\n",
              "</div>"
            ],
            "text/plain": [
              "                                       document_id  ...  uf\n",
              "20       473eac75-5232-44b6-bbee-f48aa95efe37-i0b0  ...  SP\n",
              "138      2fb02794-75bb-46d4-b9a8-aad9dbc44449-i0b0  ...  SP\n",
              "294      29f3635f-cb7d-425b-8b51-f88328a9056f-i0b0  ...  SP\n",
              "726      d850726c-481c-4b4f-90ee-fa5687a6587d-i0b0  ...  AM\n",
              "933      89988ce5-ccac-4993-8a6a-6d28241615cd-i0b0  ...  AM\n",
              "...                                            ...  ...  ..\n",
              "3895503  9043397e-ba9a-4eaf-95a8-62ad02c2adaf-i0b0  ...  SP\n",
              "3895607  c4e2163d-c00f-4e1d-ac8b-d9321dcb9557-i0b0  ...  SP\n",
              "3896222  257848fa-99ae-4fc4-bb98-621e4121c1c5-i0b0  ...  MG\n",
              "3896366  a9f99dde-896d-44d0-a1b5-b85b73368887-i0b0  ...  ES\n",
              "3896414  1efdf3dc-7800-4b00-b33c-77a33b0e6e80-i0b0  ...  MG\n",
              "\n",
              "[58560 rows x 31 columns]"
            ]
          },
          "metadata": {
            "tags": []
          },
          "execution_count": 41
        }
      ]
    },
    {
      "cell_type": "code",
      "metadata": {
        "id": "PARLOAHHhKv-"
      },
      "source": [
        "# Criação do dataframe da região norte\n",
        "df_norte = df_merge.query('paciente_endereco_uf in [\"AM\", \"AC\", \"AP\", \"PA\", \"RO\", \"RR\", \"TO\"]')"
      ],
      "execution_count": null,
      "outputs": []
    },
    {
      "cell_type": "code",
      "metadata": {
        "id": "sfvOffCmh9e1",
        "colab": {
          "base_uri": "https://localhost:8080/"
        },
        "outputId": "65933e32-949c-457e-b7e6-38b9ff329708"
      },
      "source": [
        "df_norte['paciente_endereco_uf'].value_counts()"
      ],
      "execution_count": null,
      "outputs": [
        {
          "output_type": "execute_result",
          "data": {
            "text/plain": [
              "AM    227580\n",
              "PA    171247\n",
              "TO     53177\n",
              "RO     37648\n",
              "RR     25252\n",
              "AC     23737\n",
              "AP     18203\n",
              "Name: paciente_endereco_uf, dtype: int64"
            ]
          },
          "metadata": {
            "tags": []
          },
          "execution_count": 37
        }
      ]
    },
    {
      "cell_type": "code",
      "metadata": {
        "id": "_xRHLpETkqYZ",
        "colab": {
          "base_uri": "https://localhost:8080/",
          "height": 1000
        },
        "outputId": "f679a1c6-9946-4e68-dd3b-f8efc28684b7"
      },
      "source": [
        "df_norte"
      ],
      "execution_count": null,
      "outputs": [
        {
          "output_type": "execute_result",
          "data": {
            "text/html": [
              "<div>\n",
              "<style scoped>\n",
              "    .dataframe tbody tr th:only-of-type {\n",
              "        vertical-align: middle;\n",
              "    }\n",
              "\n",
              "    .dataframe tbody tr th {\n",
              "        vertical-align: top;\n",
              "    }\n",
              "\n",
              "    .dataframe thead th {\n",
              "        text-align: right;\n",
              "    }\n",
              "</style>\n",
              "<table border=\"1\" class=\"dataframe\">\n",
              "  <thead>\n",
              "    <tr style=\"text-align: right;\">\n",
              "      <th></th>\n",
              "      <th>document_id</th>\n",
              "      <th>paciente_id</th>\n",
              "      <th>paciente_idade</th>\n",
              "      <th>paciente_dataNascimento</th>\n",
              "      <th>paciente_enumSexoBiologico</th>\n",
              "      <th>paciente_racaCor_codigo</th>\n",
              "      <th>paciente_racaCor_valor</th>\n",
              "      <th>paciente_endereco_coIbgeMunicipio</th>\n",
              "      <th>paciente_endereco_coPais</th>\n",
              "      <th>paciente_endereco_nmMunicipio</th>\n",
              "      <th>paciente_endereco_nmPais</th>\n",
              "      <th>paciente_endereco_uf</th>\n",
              "      <th>paciente_nacionalidade_enumNacionalidade</th>\n",
              "      <th>estabelecimento_valor</th>\n",
              "      <th>estabelecimento_municipio_codigo</th>\n",
              "      <th>estabelecimento_municipio_nome</th>\n",
              "      <th>estabelecimento_uf</th>\n",
              "      <th>vacina_grupoAtendimento_codigo</th>\n",
              "      <th>vacina_grupoAtendimento_nome</th>\n",
              "      <th>vacina_categoria_codigo</th>\n",
              "      <th>vacina_categoria_nome</th>\n",
              "      <th>vacina_fabricante_nome</th>\n",
              "      <th>vacina_dataAplicacao</th>\n",
              "      <th>vacina_descricao_dose</th>\n",
              "      <th>vacina_nome</th>\n",
              "      <th>data_importacao_rnds</th>\n",
              "      <th>co_cnes</th>\n",
              "      <th>no_fantasia</th>\n",
              "      <th>ds_tipo_unidade</th>\n",
              "      <th>tp_gestao</th>\n",
              "      <th>uf</th>\n",
              "    </tr>\n",
              "  </thead>\n",
              "  <tbody>\n",
              "    <tr>\n",
              "      <th>274</th>\n",
              "      <td>6f1e52c1-f3ef-4e12-bfee-73a7d8659fea-i0b0</td>\n",
              "      <td>4707a8c3cc8486c29469e651806283699c2aad7d776d39...</td>\n",
              "      <td>38.0</td>\n",
              "      <td>1983-01-03</td>\n",
              "      <td>M</td>\n",
              "      <td>1.0</td>\n",
              "      <td>BRANCA</td>\n",
              "      <td>110004</td>\n",
              "      <td>10</td>\n",
              "      <td>CACOAL</td>\n",
              "      <td>BRASIL</td>\n",
              "      <td>RO</td>\n",
              "      <td>B</td>\n",
              "      <td>2747723</td>\n",
              "      <td>352270.0</td>\n",
              "      <td>ITAPOLIS</td>\n",
              "      <td>SP</td>\n",
              "      <td>926</td>\n",
              "      <td>Outros</td>\n",
              "      <td>9.0</td>\n",
              "      <td>Trabalhadores de Saúde</td>\n",
              "      <td>Sinovac</td>\n",
              "      <td>2021-02-15T00:00:00.000Z</td>\n",
              "      <td>2ª Dose</td>\n",
              "      <td>Covid-19-Coronavac-Sinovac/Butantan</td>\n",
              "      <td>2021-02-15 10:02:11</td>\n",
              "      <td>2747723</td>\n",
              "      <td>UBS JARDIM REDENCAO ITAPOLIS</td>\n",
              "      <td>CENTRO DE SAUDE/UNIDADE BASICA</td>\n",
              "      <td>M</td>\n",
              "      <td>SP</td>\n",
              "    </tr>\n",
              "    <tr>\n",
              "      <th>378</th>\n",
              "      <td>e7dd3437-3d9e-406c-88cf-e7aa4d4d4949-i0b0</td>\n",
              "      <td>4707a8c3cc8486c29469e651806283699c2aad7d776d39...</td>\n",
              "      <td>38.0</td>\n",
              "      <td>1983-01-03</td>\n",
              "      <td>M</td>\n",
              "      <td>1.0</td>\n",
              "      <td>BRANCA</td>\n",
              "      <td>110004</td>\n",
              "      <td>10</td>\n",
              "      <td>CACOAL</td>\n",
              "      <td>BRASIL</td>\n",
              "      <td>RO</td>\n",
              "      <td>B</td>\n",
              "      <td>2747723</td>\n",
              "      <td>352270.0</td>\n",
              "      <td>ITAPOLIS</td>\n",
              "      <td>SP</td>\n",
              "      <td>926</td>\n",
              "      <td>Outros</td>\n",
              "      <td>9.0</td>\n",
              "      <td>Trabalhadores de Saúde</td>\n",
              "      <td>Sinovac</td>\n",
              "      <td>2021-01-21T00:00:00.000Z</td>\n",
              "      <td>1ª Dose</td>\n",
              "      <td>Covid-19-Coronavac-Sinovac/Butantan</td>\n",
              "      <td>2021-01-21 06:01:30</td>\n",
              "      <td>2747723</td>\n",
              "      <td>UBS JARDIM REDENCAO ITAPOLIS</td>\n",
              "      <td>CENTRO DE SAUDE/UNIDADE BASICA</td>\n",
              "      <td>M</td>\n",
              "      <td>SP</td>\n",
              "    </tr>\n",
              "    <tr>\n",
              "      <th>573</th>\n",
              "      <td>8f4eb329-7faf-4c69-a61c-9dc101542879-i0b0</td>\n",
              "      <td>db1db6b5eb18d38b0e40a112ba515a8f36adb47d605276...</td>\n",
              "      <td>25.0</td>\n",
              "      <td>1995-11-19</td>\n",
              "      <td>F</td>\n",
              "      <td>99.0</td>\n",
              "      <td>SEM INFORMACAO</td>\n",
              "      <td>130410</td>\n",
              "      <td>10</td>\n",
              "      <td>TAPAUA</td>\n",
              "      <td>BRASIL</td>\n",
              "      <td>AM</td>\n",
              "      <td>B</td>\n",
              "      <td>7723628</td>\n",
              "      <td>130240.0</td>\n",
              "      <td>LABREA</td>\n",
              "      <td>AM</td>\n",
              "      <td>701</td>\n",
              "      <td>Povos indígenas em terras indígenas</td>\n",
              "      <td>7.0</td>\n",
              "      <td>Povos Indígenas</td>\n",
              "      <td>FUNDACAO BUTANTAN</td>\n",
              "      <td>2021-02-03T03:00:00.000Z</td>\n",
              "      <td>1ª Dose</td>\n",
              "      <td>Covid-19-Coronavac-Sinovac/Butantan</td>\n",
              "      <td>2021-02-11 19:06:14</td>\n",
              "      <td>7723628</td>\n",
              "      <td>DISTRITO SANITARIO ESPECIAL INDIGENA MEDIO PURUS</td>\n",
              "      <td>UNIDADE DE ATENCAO A SAUDE INDIGENA</td>\n",
              "      <td>M</td>\n",
              "      <td>AM</td>\n",
              "    </tr>\n",
              "    <tr>\n",
              "      <th>574</th>\n",
              "      <td>e452b7e4-d1e0-446d-a412-ed80b7d91018-i0b0</td>\n",
              "      <td>241d5f21be9e3a62327140e02e0e45667db1e6801f5d36...</td>\n",
              "      <td>21.0</td>\n",
              "      <td>1999-08-12</td>\n",
              "      <td>M</td>\n",
              "      <td>99.0</td>\n",
              "      <td>SEM INFORMACAO</td>\n",
              "      <td>130090</td>\n",
              "      <td>10</td>\n",
              "      <td>CANUTAMA</td>\n",
              "      <td>BRASIL</td>\n",
              "      <td>AM</td>\n",
              "      <td>B</td>\n",
              "      <td>7723628</td>\n",
              "      <td>130240.0</td>\n",
              "      <td>LABREA</td>\n",
              "      <td>AM</td>\n",
              "      <td>701</td>\n",
              "      <td>Povos indígenas em terras indígenas</td>\n",
              "      <td>7.0</td>\n",
              "      <td>Povos Indígenas</td>\n",
              "      <td>FUNDACAO BUTANTAN</td>\n",
              "      <td>2021-02-04T03:00:00.000Z</td>\n",
              "      <td>1ª Dose</td>\n",
              "      <td>Covid-19-Coronavac-Sinovac/Butantan</td>\n",
              "      <td>2021-02-10 23:33:03</td>\n",
              "      <td>7723628</td>\n",
              "      <td>DISTRITO SANITARIO ESPECIAL INDIGENA MEDIO PURUS</td>\n",
              "      <td>UNIDADE DE ATENCAO A SAUDE INDIGENA</td>\n",
              "      <td>M</td>\n",
              "      <td>AM</td>\n",
              "    </tr>\n",
              "    <tr>\n",
              "      <th>575</th>\n",
              "      <td>fada2865-0337-4556-9c7b-129ee7d5b787-i0b0</td>\n",
              "      <td>6443988314660185640e5e0ab7fb7e788ba9ca17c3fb3f...</td>\n",
              "      <td>68.0</td>\n",
              "      <td>1952-08-24</td>\n",
              "      <td>F</td>\n",
              "      <td>5.0</td>\n",
              "      <td>INDIGENA</td>\n",
              "      <td>130410</td>\n",
              "      <td>10</td>\n",
              "      <td>TAPAUA</td>\n",
              "      <td>BRASIL</td>\n",
              "      <td>AM</td>\n",
              "      <td>B</td>\n",
              "      <td>7723628</td>\n",
              "      <td>130240.0</td>\n",
              "      <td>LABREA</td>\n",
              "      <td>AM</td>\n",
              "      <td>701</td>\n",
              "      <td>Povos indígenas em terras indígenas</td>\n",
              "      <td>7.0</td>\n",
              "      <td>Povos Indígenas</td>\n",
              "      <td>FUNDACAO BUTANTAN</td>\n",
              "      <td>2021-02-04T03:00:00.000Z</td>\n",
              "      <td>1ª Dose</td>\n",
              "      <td>Covid-19-Coronavac-Sinovac/Butantan</td>\n",
              "      <td>2021-02-10 13:37:32</td>\n",
              "      <td>7723628</td>\n",
              "      <td>DISTRITO SANITARIO ESPECIAL INDIGENA MEDIO PURUS</td>\n",
              "      <td>UNIDADE DE ATENCAO A SAUDE INDIGENA</td>\n",
              "      <td>M</td>\n",
              "      <td>AM</td>\n",
              "    </tr>\n",
              "    <tr>\n",
              "      <th>...</th>\n",
              "      <td>...</td>\n",
              "      <td>...</td>\n",
              "      <td>...</td>\n",
              "      <td>...</td>\n",
              "      <td>...</td>\n",
              "      <td>...</td>\n",
              "      <td>...</td>\n",
              "      <td>...</td>\n",
              "      <td>...</td>\n",
              "      <td>...</td>\n",
              "      <td>...</td>\n",
              "      <td>...</td>\n",
              "      <td>...</td>\n",
              "      <td>...</td>\n",
              "      <td>...</td>\n",
              "      <td>...</td>\n",
              "      <td>...</td>\n",
              "      <td>...</td>\n",
              "      <td>...</td>\n",
              "      <td>...</td>\n",
              "      <td>...</td>\n",
              "      <td>...</td>\n",
              "      <td>...</td>\n",
              "      <td>...</td>\n",
              "      <td>...</td>\n",
              "      <td>...</td>\n",
              "      <td>...</td>\n",
              "      <td>...</td>\n",
              "      <td>...</td>\n",
              "      <td>...</td>\n",
              "      <td>...</td>\n",
              "    </tr>\n",
              "    <tr>\n",
              "      <th>3896574</th>\n",
              "      <td>d1c45853-fd0a-4918-b627-830532d68e98-i0b0</td>\n",
              "      <td>fbb516825bc500e651b341eec69f8e8dbbc419e1752bb0...</td>\n",
              "      <td>47.0</td>\n",
              "      <td>1973-07-21</td>\n",
              "      <td>F</td>\n",
              "      <td>1.0</td>\n",
              "      <td>BRANCA</td>\n",
              "      <td>170950</td>\n",
              "      <td>10</td>\n",
              "      <td>GURUPI</td>\n",
              "      <td>BRASIL</td>\n",
              "      <td>TO</td>\n",
              "      <td>B</td>\n",
              "      <td>2546418</td>\n",
              "      <td>170950.0</td>\n",
              "      <td>GURUPI</td>\n",
              "      <td>TO</td>\n",
              "      <td>907</td>\n",
              "      <td>Enfermeiro(a)</td>\n",
              "      <td>9.0</td>\n",
              "      <td>Trabalhadores de Saúde</td>\n",
              "      <td>FUNDACAO OSWALDO CRUZ</td>\n",
              "      <td>2021-02-10T03:00:00.000Z</td>\n",
              "      <td>1ª Dose</td>\n",
              "      <td>Vacina Covid-19 - Covishield</td>\n",
              "      <td>2021-02-15 19:36:38</td>\n",
              "      <td>2546418</td>\n",
              "      <td>UNIDADE DE SAUDE VILA IRIS</td>\n",
              "      <td>CENTRO DE SAUDE/UNIDADE BASICA</td>\n",
              "      <td>M</td>\n",
              "      <td>TO</td>\n",
              "    </tr>\n",
              "    <tr>\n",
              "      <th>3896575</th>\n",
              "      <td>1faf2d6d-fa96-4971-a6e4-06d67c99a8a0-i0b0</td>\n",
              "      <td>ef58501063fb29e919f3d6c8727106e3fbae4b5d11069a...</td>\n",
              "      <td>43.0</td>\n",
              "      <td>1977-10-23</td>\n",
              "      <td>M</td>\n",
              "      <td>99.0</td>\n",
              "      <td>SEM INFORMACAO</td>\n",
              "      <td>172100</td>\n",
              "      <td>10</td>\n",
              "      <td>PALMAS</td>\n",
              "      <td>BRASIL</td>\n",
              "      <td>TO</td>\n",
              "      <td>B</td>\n",
              "      <td>2546418</td>\n",
              "      <td>170950.0</td>\n",
              "      <td>GURUPI</td>\n",
              "      <td>TO</td>\n",
              "      <td>912</td>\n",
              "      <td>Médico</td>\n",
              "      <td>9.0</td>\n",
              "      <td>Trabalhadores de Saúde</td>\n",
              "      <td>FUNDACAO OSWALDO CRUZ</td>\n",
              "      <td>2021-02-10T03:00:00.000Z</td>\n",
              "      <td>1ª Dose</td>\n",
              "      <td>Vacina Covid-19 - Covishield</td>\n",
              "      <td>2021-02-15 19:34:55</td>\n",
              "      <td>2546418</td>\n",
              "      <td>UNIDADE DE SAUDE VILA IRIS</td>\n",
              "      <td>CENTRO DE SAUDE/UNIDADE BASICA</td>\n",
              "      <td>M</td>\n",
              "      <td>TO</td>\n",
              "    </tr>\n",
              "    <tr>\n",
              "      <th>3896576</th>\n",
              "      <td>236bd875-8b77-4ffc-b97e-c235a4c1c48a-i0b0</td>\n",
              "      <td>303c26e3ec166f799dc301d8c942a2d0825a912e05bee2...</td>\n",
              "      <td>27.0</td>\n",
              "      <td>1993-09-10</td>\n",
              "      <td>F</td>\n",
              "      <td>99.0</td>\n",
              "      <td>SEM INFORMACAO</td>\n",
              "      <td>170950</td>\n",
              "      <td>10</td>\n",
              "      <td>GURUPI</td>\n",
              "      <td>BRASIL</td>\n",
              "      <td>TO</td>\n",
              "      <td>B</td>\n",
              "      <td>2546418</td>\n",
              "      <td>170950.0</td>\n",
              "      <td>GURUPI</td>\n",
              "      <td>TO</td>\n",
              "      <td>907</td>\n",
              "      <td>Enfermeiro(a)</td>\n",
              "      <td>9.0</td>\n",
              "      <td>Trabalhadores de Saúde</td>\n",
              "      <td>FUNDACAO OSWALDO CRUZ</td>\n",
              "      <td>2021-02-10T03:00:00.000Z</td>\n",
              "      <td>1ª Dose</td>\n",
              "      <td>Vacina Covid-19 - Covishield</td>\n",
              "      <td>2021-02-15 19:41:09</td>\n",
              "      <td>2546418</td>\n",
              "      <td>UNIDADE DE SAUDE VILA IRIS</td>\n",
              "      <td>CENTRO DE SAUDE/UNIDADE BASICA</td>\n",
              "      <td>M</td>\n",
              "      <td>TO</td>\n",
              "    </tr>\n",
              "    <tr>\n",
              "      <th>3896582</th>\n",
              "      <td>0ad6b4f5-7279-4a0a-b801-778e8fef8034-i0b0</td>\n",
              "      <td>a5a47ea89946e5285f5ac21887c38e754f8c0bf8f5d52c...</td>\n",
              "      <td>92.0</td>\n",
              "      <td>1928-08-14</td>\n",
              "      <td>M</td>\n",
              "      <td>3.0</td>\n",
              "      <td>PARDA</td>\n",
              "      <td>150170</td>\n",
              "      <td>10</td>\n",
              "      <td>BRAGANCA</td>\n",
              "      <td>BRASIL</td>\n",
              "      <td>PA</td>\n",
              "      <td>B</td>\n",
              "      <td>7291434</td>\n",
              "      <td>150170.0</td>\n",
              "      <td>BRAGANCA</td>\n",
              "      <td>PA</td>\n",
              "      <td>205</td>\n",
              "      <td>Pessoas de 80 anos ou mais</td>\n",
              "      <td>2.0</td>\n",
              "      <td>Faixa Etária</td>\n",
              "      <td>FUNDACAO BUTANTAN</td>\n",
              "      <td>2021-02-23T03:00:00.000Z</td>\n",
              "      <td>1ª Dose</td>\n",
              "      <td>Covid-19-Coronavac-Sinovac/Butantan</td>\n",
              "      <td>2021-02-25 19:54:42</td>\n",
              "      <td>7291434</td>\n",
              "      <td>POSTO DE SAUDE DO KM 18</td>\n",
              "      <td>POSTO DE SAUDE</td>\n",
              "      <td>M</td>\n",
              "      <td>PA</td>\n",
              "    </tr>\n",
              "    <tr>\n",
              "      <th>3896588</th>\n",
              "      <td>eb4b30c7-ea3b-4002-bf6b-9664fa56ee28-i0b0</td>\n",
              "      <td>c96be89dcdbdb1c24dca561b128206aa09b3e2d054c448...</td>\n",
              "      <td>83.0</td>\n",
              "      <td>1937-09-09</td>\n",
              "      <td>F</td>\n",
              "      <td>4.0</td>\n",
              "      <td>AMARELA</td>\n",
              "      <td>130260</td>\n",
              "      <td>10</td>\n",
              "      <td>MANAUS</td>\n",
              "      <td>BRASIL</td>\n",
              "      <td>AM</td>\n",
              "      <td>B</td>\n",
              "      <td>2015463</td>\n",
              "      <td>130260.0</td>\n",
              "      <td>MANAUS</td>\n",
              "      <td>AM</td>\n",
              "      <td>205</td>\n",
              "      <td>Pessoas de 80 anos ou mais</td>\n",
              "      <td>2.0</td>\n",
              "      <td>Faixa Etária</td>\n",
              "      <td>University of Oxford/AstraZeneca</td>\n",
              "      <td>2021-02-25T00:00:00.000Z</td>\n",
              "      <td>1ª Dose</td>\n",
              "      <td>Vacina Covid-19 - Covishield</td>\n",
              "      <td>2021-02-27 03:59:14</td>\n",
              "      <td>2015463</td>\n",
              "      <td>UBS LINDALVA DAMASCENO</td>\n",
              "      <td>CENTRO DE SAUDE/UNIDADE BASICA</td>\n",
              "      <td>M</td>\n",
              "      <td>AM</td>\n",
              "    </tr>\n",
              "  </tbody>\n",
              "</table>\n",
              "<p>556844 rows × 31 columns</p>\n",
              "</div>"
            ],
            "text/plain": [
              "                                       document_id  ...  uf\n",
              "274      6f1e52c1-f3ef-4e12-bfee-73a7d8659fea-i0b0  ...  SP\n",
              "378      e7dd3437-3d9e-406c-88cf-e7aa4d4d4949-i0b0  ...  SP\n",
              "573      8f4eb329-7faf-4c69-a61c-9dc101542879-i0b0  ...  AM\n",
              "574      e452b7e4-d1e0-446d-a412-ed80b7d91018-i0b0  ...  AM\n",
              "575      fada2865-0337-4556-9c7b-129ee7d5b787-i0b0  ...  AM\n",
              "...                                            ...  ...  ..\n",
              "3896574  d1c45853-fd0a-4918-b627-830532d68e98-i0b0  ...  TO\n",
              "3896575  1faf2d6d-fa96-4971-a6e4-06d67c99a8a0-i0b0  ...  TO\n",
              "3896576  236bd875-8b77-4ffc-b97e-c235a4c1c48a-i0b0  ...  TO\n",
              "3896582  0ad6b4f5-7279-4a0a-b801-778e8fef8034-i0b0  ...  PA\n",
              "3896588  eb4b30c7-ea3b-4002-bf6b-9664fa56ee28-i0b0  ...  AM\n",
              "\n",
              "[556844 rows x 31 columns]"
            ]
          },
          "metadata": {
            "tags": []
          },
          "execution_count": 38
        }
      ]
    },
    {
      "cell_type": "code",
      "metadata": {
        "id": "RuoVcISLq3Bv",
        "colab": {
          "base_uri": "https://localhost:8080/"
        },
        "outputId": "a53c4535-ae57-4033-ad43-f309dc3da097"
      },
      "source": [
        "df_norte['estabelecimento_uf'].value_counts()"
      ],
      "execution_count": null,
      "outputs": [
        {
          "output_type": "execute_result",
          "data": {
            "text/plain": [
              "AM    228437\n",
              "PA    167927\n",
              "TO     51745\n",
              "RO     35299\n",
              "RR     25081\n",
              "AC     22689\n",
              "AP     18092\n",
              "SP      6085\n",
              "RJ       646\n",
              "MG       624\n",
              "ES       219\n",
              "Name: estabelecimento_uf, dtype: int64"
            ]
          },
          "metadata": {
            "tags": []
          },
          "execution_count": 40
        }
      ]
    },
    {
      "cell_type": "markdown",
      "metadata": {
        "id": "beMtEOLCHQym"
      },
      "source": [
        "\n"
      ]
    }
  ]
}