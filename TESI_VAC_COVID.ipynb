{
  "nbformat": 4,
  "nbformat_minor": 0,
  "metadata": {
    "colab": {
      "name": "TESI_VAC_COVID.ipynb",
      "provenance": [],
      "collapsed_sections": [],
      "include_colab_link": true
    },
    "kernelspec": {
      "name": "python3",
      "display_name": "Python 3"
    }
  },
  "cells": [
    {
      "cell_type": "markdown",
      "metadata": {
        "id": "view-in-github",
        "colab_type": "text"
      },
      "source": [
        "<a href=\"https://colab.research.google.com/github/massaoiwanaga/topespsi/blob/main/TESI_VAC_COVID.ipynb\" target=\"_parent\"><img src=\"https://colab.research.google.com/assets/colab-badge.svg\" alt=\"Open In Colab\"/></a>"
      ]
    },
    {
      "cell_type": "markdown",
      "metadata": {
        "id": "GKM1QhWJkivj"
      },
      "source": [
        "# **Trabalho Disciplina Topicos Especiais em Sistemas de Informação I**\n",
        "\n",
        "---\n",
        "\n",
        "## **Saúde (COVID-19)**\n",
        "\n",
        "> Alessandra Pierro Saraiva\n",
        ">\n",
        "> Fabiane Monteiro Carvalho\n",
        ">\n",
        "> Massao Oliveira Iwanaga"
      ]
    },
    {
      "cell_type": "code",
      "metadata": {
        "id": "N_tgSRoh8jka"
      },
      "source": [
        "# Testado no ambiente Google Colab - 1.0.0\n",
        "# Python 3.7.10 \n",
        "#\n",
        "# Bibliotecas utilizadas:\n",
        "#  numpy 1.19.5\n",
        "#  pandas 1.1.5\n",
        "#  matplotlib 3.2.2\n",
        "#  pandas_profiling 1.4.1\n",
        "#  prov 2.0.0\n",
        "#  IPython 5.5.0"
      ],
      "execution_count": null,
      "outputs": []
    },
    {
      "cell_type": "markdown",
      "metadata": {
        "id": "V10aggEoikI0"
      },
      "source": [
        "## Importando a biblioteca pandas"
      ]
    },
    {
      "cell_type": "code",
      "metadata": {
        "id": "ga95m6B_idDm"
      },
      "source": [
        "# importando a biblioteca\n",
        "import pandas as pd # pandas\n",
        "import numpy as np  # numpy\n",
        "import matplotlib.pyplot as plt                # importar a biblioteca matplotlib\n",
        "import pandas_profiling"
      ],
      "execution_count": 1,
      "outputs": []
    },
    {
      "cell_type": "markdown",
      "metadata": {
        "id": "8ZAujZWhnc5H"
      },
      "source": [
        "## Instalação da biblioteca PROV"
      ]
    },
    {
      "cell_type": "code",
      "metadata": {
        "id": "mA2bEk1znqQr",
        "colab": {
          "base_uri": "https://localhost:8080/"
        },
        "outputId": "6735b17a-e615-43c0-ea88-0f34ad39347b"
      },
      "source": [
        "#Instalação da biblioteca PROV no ambiente COLAB\n",
        "#Essa biblioteca implementa em Python o Modelo de Dados PROV da W3C\n",
        "!pip install prov"
      ],
      "execution_count": 2,
      "outputs": [
        {
          "output_type": "stream",
          "text": [
            "Collecting prov\n",
            "\u001b[?25l  Downloading https://files.pythonhosted.org/packages/cf/8d/9a5110845c6b117d203e3ca9eec5ee79bed29cef508c8415fbc85e900150/prov-2.0.0-py3-none-any.whl (421kB)\n",
            "\r\u001b[K     |▊                               | 10kB 15.9MB/s eta 0:00:01\r\u001b[K     |█▌                              | 20kB 12.6MB/s eta 0:00:01\r\u001b[K     |██▎                             | 30kB 9.8MB/s eta 0:00:01\r\u001b[K     |███                             | 40kB 8.0MB/s eta 0:00:01\r\u001b[K     |███▉                            | 51kB 3.9MB/s eta 0:00:01\r\u001b[K     |████▋                           | 61kB 4.6MB/s eta 0:00:01\r\u001b[K     |█████▍                          | 71kB 4.8MB/s eta 0:00:01\r\u001b[K     |██████▏                         | 81kB 5.2MB/s eta 0:00:01\r\u001b[K     |███████                         | 92kB 5.6MB/s eta 0:00:01\r\u001b[K     |███████▊                        | 102kB 5.9MB/s eta 0:00:01\r\u001b[K     |████████▌                       | 112kB 5.9MB/s eta 0:00:01\r\u001b[K     |█████████▎                      | 122kB 5.9MB/s eta 0:00:01\r\u001b[K     |██████████                      | 133kB 5.9MB/s eta 0:00:01\r\u001b[K     |██████████▉                     | 143kB 5.9MB/s eta 0:00:01\r\u001b[K     |███████████▋                    | 153kB 5.9MB/s eta 0:00:01\r\u001b[K     |████████████▍                   | 163kB 5.9MB/s eta 0:00:01\r\u001b[K     |█████████████▏                  | 174kB 5.9MB/s eta 0:00:01\r\u001b[K     |██████████████                  | 184kB 5.9MB/s eta 0:00:01\r\u001b[K     |██████████████▊                 | 194kB 5.9MB/s eta 0:00:01\r\u001b[K     |███████████████▌                | 204kB 5.9MB/s eta 0:00:01\r\u001b[K     |████████████████▎               | 215kB 5.9MB/s eta 0:00:01\r\u001b[K     |█████████████████               | 225kB 5.9MB/s eta 0:00:01\r\u001b[K     |█████████████████▉              | 235kB 5.9MB/s eta 0:00:01\r\u001b[K     |██████████████████▋             | 245kB 5.9MB/s eta 0:00:01\r\u001b[K     |███████████████████▍            | 256kB 5.9MB/s eta 0:00:01\r\u001b[K     |████████████████████▏           | 266kB 5.9MB/s eta 0:00:01\r\u001b[K     |█████████████████████           | 276kB 5.9MB/s eta 0:00:01\r\u001b[K     |█████████████████████▊          | 286kB 5.9MB/s eta 0:00:01\r\u001b[K     |██████████████████████▌         | 296kB 5.9MB/s eta 0:00:01\r\u001b[K     |███████████████████████▎        | 307kB 5.9MB/s eta 0:00:01\r\u001b[K     |████████████████████████        | 317kB 5.9MB/s eta 0:00:01\r\u001b[K     |████████████████████████▉       | 327kB 5.9MB/s eta 0:00:01\r\u001b[K     |█████████████████████████▋      | 337kB 5.9MB/s eta 0:00:01\r\u001b[K     |██████████████████████████▍     | 348kB 5.9MB/s eta 0:00:01\r\u001b[K     |███████████████████████████▏    | 358kB 5.9MB/s eta 0:00:01\r\u001b[K     |████████████████████████████    | 368kB 5.9MB/s eta 0:00:01\r\u001b[K     |████████████████████████████▊   | 378kB 5.9MB/s eta 0:00:01\r\u001b[K     |█████████████████████████████▌  | 389kB 5.9MB/s eta 0:00:01\r\u001b[K     |██████████████████████████████▎ | 399kB 5.9MB/s eta 0:00:01\r\u001b[K     |███████████████████████████████ | 409kB 5.9MB/s eta 0:00:01\r\u001b[K     |███████████████████████████████▉| 419kB 5.9MB/s eta 0:00:01\r\u001b[K     |████████████████████████████████| 430kB 5.9MB/s \n",
            "\u001b[?25hRequirement already satisfied: networkx>=2.0 in /usr/local/lib/python3.7/dist-packages (from prov) (2.5)\n",
            "Requirement already satisfied: lxml>=3.3.5 in /usr/local/lib/python3.7/dist-packages (from prov) (4.2.6)\n",
            "Collecting rdflib>=4.2.1\n",
            "\u001b[?25l  Downloading https://files.pythonhosted.org/packages/d0/6b/6454aa1db753c0f8bc265a5bd5c10b5721a4bb24160fb4faf758cf6be8a1/rdflib-5.0.0-py3-none-any.whl (231kB)\n",
            "\u001b[K     |████████████████████████████████| 235kB 15.2MB/s \n",
            "\u001b[?25hRequirement already satisfied: python-dateutil>=2.2 in /usr/local/lib/python3.7/dist-packages (from prov) (2.8.1)\n",
            "Requirement already satisfied: decorator>=4.3.0 in /usr/local/lib/python3.7/dist-packages (from networkx>=2.0->prov) (4.4.2)\n",
            "Collecting isodate\n",
            "\u001b[?25l  Downloading https://files.pythonhosted.org/packages/9b/9f/b36f7774ff5ea8e428fdcfc4bb332c39ee5b9362ddd3d40d9516a55221b2/isodate-0.6.0-py2.py3-none-any.whl (45kB)\n",
            "\u001b[K     |████████████████████████████████| 51kB 4.9MB/s \n",
            "\u001b[?25hRequirement already satisfied: six in /usr/local/lib/python3.7/dist-packages (from rdflib>=4.2.1->prov) (1.15.0)\n",
            "Requirement already satisfied: pyparsing in /usr/local/lib/python3.7/dist-packages (from rdflib>=4.2.1->prov) (2.4.7)\n",
            "Installing collected packages: isodate, rdflib, prov\n",
            "Successfully installed isodate-0.6.0 prov-2.0.0 rdflib-5.0.0\n"
          ],
          "name": "stdout"
        }
      ]
    },
    {
      "cell_type": "markdown",
      "metadata": {
        "id": "0ZxCO6OmkPHr"
      },
      "source": [
        "## Acessar dados do Google Drive"
      ]
    },
    {
      "cell_type": "code",
      "metadata": {
        "id": "jx_f5KoCiibo",
        "colab": {
          "base_uri": "https://localhost:8080/"
        },
        "outputId": "163e7af4-0508-43dc-abb2-6b01686fee9d"
      },
      "source": [
        "# Se você está executando o notebook no Google Colab, é necessário montar o drive para o ambiente virtual do Google Drive\n",
        "# Clicar no link que aparecerá e será gerada uma chave, que deverá ser colada no campo \"Autorization code\"\n",
        "\n",
        "from google.colab import drive\n",
        "\n",
        "drive.mount('/content/drive')"
      ],
      "execution_count": 3,
      "outputs": [
        {
          "output_type": "stream",
          "text": [
            "Mounted at /content/drive\n"
          ],
          "name": "stdout"
        }
      ]
    },
    {
      "cell_type": "markdown",
      "metadata": {
        "id": "Xvi7GpG_TyjO"
      },
      "source": [
        "## Informações de proveniência"
      ]
    },
    {
      "cell_type": "code",
      "metadata": {
        "id": "KayJZ9tcT5AE"
      },
      "source": [
        "# Working with PROV\n",
        "\n",
        "import sys, subprocess, datetime, random\n",
        "from prov.model import ProvDocument                                                 #PROV Library\n"
      ],
      "execution_count": 4,
      "outputs": []
    },
    {
      "cell_type": "code",
      "metadata": {
        "id": "x7Z2qvhQU3RD",
        "colab": {
          "base_uri": "https://localhost:8080/"
        },
        "outputId": "98815579-3f7c-4777-d8da-1bf905abeff7"
      },
      "source": [
        "# Retrospective Provenance variables\n",
        "agent    = input(\"Enter the name of the AGENT WHO is running the program: \")        #PROV-Agent\n",
        "entity   = input(\"Enter the name of the ENTITY dataset1: \")                          #PROV-Entity\n",
        "activity = input(\"Enter the name of the ACTIVITY1: \")                                #PROV-Activity\n",
        "entity2   = input(\"Enter the name of the ENTITY dataset2: \")                          #PROV-Entity\n",
        "activity2 = input(\"Enter the name of the ACTIVITY2: \")                                #PROV-Activity\n",
        "activity3 = input(\"Enter the name of the ACTIVITY3: \")                                #PROV-Activity\n",
        "graph = entity                                                                       #PROV-Graph\n",
        "graph = entity2                                                                      #PROV-Graph"
      ],
      "execution_count": null,
      "outputs": [
        {
          "output_type": "stream",
          "text": [
            "Enter the name of the AGENT WHO is running the program: Alessandra-Fabiane-Massao\n",
            "Enter the name of the ENTITY dataset1: Vacinação\n",
            "Enter the name of the ACTIVITY1: Leitura\n",
            "Enter the name of the ENTITY dataset2: CNES\n",
            "Enter the name of the ACTIVITY2: Análise_e_Tratamento_de_Dados\n",
            "Enter the name of the ACTIVITY3: Visualização_dos_Dados\n"
          ],
          "name": "stdout"
        }
      ]
    },
    {
      "cell_type": "markdown",
      "metadata": {
        "id": "tym3hACXXAAx"
      },
      "source": [
        ""
      ]
    },
    {
      "cell_type": "code",
      "metadata": {
        "id": "U2SM39XCVw58"
      },
      "source": [
        "### BEGIN - Registering Retrospective Provenance -             #PROV-MODEL\n",
        "\n",
        "# Creating an empty provenance document\n",
        "d1 = ProvDocument()                                                 "
      ],
      "execution_count": null,
      "outputs": []
    },
    {
      "cell_type": "code",
      "metadata": {
        "id": "gCIMJVr8V1Op",
        "colab": {
          "base_uri": "https://localhost:8080/"
        },
        "outputId": "3a7e1d1b-418e-4105-dc30-9e9d7f17cca8"
      },
      "source": [
        "# Declaring namespaces for various prefixes used in the excution of the experiment\n",
        "d1.add_namespace('dados.gov.br', 'https://dados.gov.br/dataset/covid-19-vacinacao/')\n",
        "d1.add_namespace('foaf', 'http://xmlns.com/foaf/0.1/')\n",
        "d1.add_namespace('greco', 'http://www.ufrj.br/ppgi/greco/#')\n",
        "d1.add_namespace('dados.gov.br', 'https://dados.gov.br/dataset/cnes_ativo')\n",
        "\n",
        "# Adding entities\n",
        "entity = \"dados.gov.br:\"+ entity\n",
        "e1 = d1.entity(entity)\n",
        "\n",
        "entity2 = \"dados.gov.br:\"+ entity2\n",
        "e2 = d1.entity(entity2)\n",
        "\n",
        "# Adding an Agent \n",
        "agent = \"foaf:\"+ agent\n",
        "d1.agent(agent)\n",
        "\n",
        "# Attributing the execution of the experiment to the PROV-Agent\n",
        "d1.wasAttributedTo(e1, agent)\n",
        "d1.wasAttributedTo(e2, agent)\n",
        "\n",
        "# Adding activities\n",
        "activity = \"greco:\"+ activity\n",
        "d1.activity(activity)\n",
        "\n",
        "activity2 = \"greco:\"+ activity2\n",
        "d1.activity(activity2)\n",
        "\n",
        "activity3 = \"greco:\"+ activity3\n",
        "d1.activity(activity3)\n",
        "\n",
        "# Generation\n",
        "d1.wasGeneratedBy( entity, activity)\n",
        "d1.wasGeneratedBy( entity2, activity)\n",
        "d1.wasGeneratedBy( entity, activity2)\n",
        "d1.wasGeneratedBy( entity2, activity2)\n",
        "d1.wasGeneratedBy( entity, activity3)\n",
        "d1.wasGeneratedBy( entity2, activity3)"
      ],
      "execution_count": null,
      "outputs": [
        {
          "output_type": "execute_result",
          "data": {
            "text/plain": [
              "<ProvGeneration: (dados.gov.br:CNES, greco:Visualização_dos_Dados)>"
            ]
          },
          "metadata": {
            "tags": []
          },
          "execution_count": 16
        }
      ]
    },
    {
      "cell_type": "code",
      "metadata": {
        "id": "f3XY5l2jWM3F",
        "colab": {
          "base_uri": "https://localhost:8080/"
        },
        "outputId": "33beeca3-6a1e-4104-f068-716fad496a06"
      },
      "source": [
        "# Adding a role to the PROV-Agent and timestamp to dataset\n",
        "d1.agent(agent, {'prov:hadRole': 'Executor', 'foaf:mbox': 'massaoiwanaga@ufrj.br', 'prov:attributedAtTime': str(datetime.datetime.utcnow())})\n",
        "d1.entity(entity, {'prov:generatedAtTime': str(datetime.datetime.utcnow())})\n",
        "d1.entity(entity2, {'prov:generatedAtTime': str(datetime.datetime.utcnow())})\n",
        "\n",
        "### END - Registering Retrospective Provenance "
      ],
      "execution_count": null,
      "outputs": [
        {
          "output_type": "execute_result",
          "data": {
            "text/plain": [
              "<ProvEntity: dados.gov.br:CNES>"
            ]
          },
          "metadata": {
            "tags": []
          },
          "execution_count": 17
        }
      ]
    },
    {
      "cell_type": "code",
      "metadata": {
        "id": "QQmk81NJWX3y"
      },
      "source": [
        "### Optional outputs ####\n",
        "\n",
        "#Generating the outup - a  Provenance Graph\n",
        "from prov.dot import prov_to_dot\n",
        "dot = prov_to_dot(d1)\n",
        "graph = graph +\".png\"\n",
        "dot.write_png('/content/drive/My Drive/TESI_FCD/'+graph)"
      ],
      "execution_count": null,
      "outputs": []
    },
    {
      "cell_type": "code",
      "metadata": {
        "id": "B74xIlIyWdU2"
      },
      "source": [
        "#Generating the Serialization - Output XML\n",
        "d1.serialize(entity + \".xml\", format='xml') \n",
        "d1.serialize(entity2 + \".xml\", format='xml') \n",
        "\n",
        "#Generating the Serialization - Output Turtle\n",
        "d1.serialize(entity + \".ttl\", format='rdf', rdf_format='ttl') \n",
        "d1.serialize(entity2 + \".ttl\", format='rdf', rdf_format='ttl') "
      ],
      "execution_count": null,
      "outputs": []
    },
    {
      "cell_type": "code",
      "metadata": {
        "id": "0vrjsEa0WhoN",
        "colab": {
          "base_uri": "https://localhost:8080/"
        },
        "outputId": "d8914ce3-8bc0-47c3-e445-472ae49e0330"
      },
      "source": [
        "#Generating the outup of Provenance document\n",
        "print ('')\n",
        "print ('simple provenance doc')\n",
        "print(d1.get_provn())\n",
        "print ('')"
      ],
      "execution_count": null,
      "outputs": [
        {
          "output_type": "stream",
          "text": [
            "\n",
            "simple provenance doc\n",
            "document\n",
            "  prefix dados.gov.br <https://dados.gov.br/dataset/covid-19-vacinacao/>\n",
            "  prefix foaf <http://xmlns.com/foaf/0.1/>\n",
            "  prefix greco <http://www.ufrj.br/ppgi/greco/#>\n",
            "  prefix dados.gov.br_1 <https://dados.gov.br/dataset/cnes_ativo>\n",
            "  \n",
            "  entity(dados.gov.br:Vacinação)\n",
            "  entity(dados.gov.br:CNES)\n",
            "  agent(foaf:Alessandra-Fabiane-Massao)\n",
            "  wasAttributedTo(dados.gov.br:Vacinação, foaf:Alessandra-Fabiane-Massao)\n",
            "  wasAttributedTo(dados.gov.br:CNES, foaf:Alessandra-Fabiane-Massao)\n",
            "  activity(greco:Leitura, -, -)\n",
            "  activity(greco:Análise_e_Tratamento_de_Dados, -, -)\n",
            "  activity(greco:Visualização_dos_Dados, -, -)\n",
            "  wasGeneratedBy(dados.gov.br:Vacinação, greco:Leitura, -)\n",
            "  wasGeneratedBy(dados.gov.br:CNES, greco:Leitura, -)\n",
            "  wasGeneratedBy(dados.gov.br:Vacinação, greco:Análise_e_Tratamento_de_Dados, -)\n",
            "  wasGeneratedBy(dados.gov.br:CNES, greco:Análise_e_Tratamento_de_Dados, -)\n",
            "  wasGeneratedBy(dados.gov.br:Vacinação, greco:Visualização_dos_Dados, -)\n",
            "  wasGeneratedBy(dados.gov.br:CNES, greco:Visualização_dos_Dados, -)\n",
            "  agent(foaf:Alessandra-Fabiane-Massao, [prov:hadRole=\"Executor\", foaf:mbox=\"massaoiwanaga@ufrj.br\", prov:attributedAtTime=\"2021-03-29 00:19:10.766947\"])\n",
            "  entity(dados.gov.br:Vacinação, [prov:generatedAtTime=\"2021-03-29 00:19:10.767087\"])\n",
            "  entity(dados.gov.br:CNES, [prov:generatedAtTime=\"2021-03-29 00:19:10.767162\"])\n",
            "endDocument\n",
            "\n"
          ],
          "name": "stdout"
        }
      ]
    },
    {
      "cell_type": "code",
      "metadata": {
        "id": "c2mhS2FHWlUY",
        "colab": {
          "base_uri": "https://localhost:8080/"
        },
        "outputId": "cdd197ea-406b-4902-90ce-46e44870e138"
      },
      "source": [
        "#Generating the Serialization - Output JSON\n",
        "print ('')\n",
        "print ('simple provenance JSON')\n",
        "print(d1.serialize(indent=2))\n",
        "print('')"
      ],
      "execution_count": null,
      "outputs": [
        {
          "output_type": "stream",
          "text": [
            "\n",
            "simple provenance JSON\n",
            "{\n",
            "  \"prefix\": {\n",
            "    \"dados.gov.br\": \"https://dados.gov.br/dataset/covid-19-vacinacao/\",\n",
            "    \"foaf\": \"http://xmlns.com/foaf/0.1/\",\n",
            "    \"greco\": \"http://www.ufrj.br/ppgi/greco/#\",\n",
            "    \"dados.gov.br_1\": \"https://dados.gov.br/dataset/cnes_ativo\"\n",
            "  },\n",
            "  \"entity\": {\n",
            "    \"dados.gov.br:Vacina\\u00e7\\u00e3o\": [\n",
            "      {},\n",
            "      {\n",
            "        \"prov:generatedAtTime\": \"2021-03-29 00:19:10.767087\"\n",
            "      }\n",
            "    ],\n",
            "    \"dados.gov.br:CNES\": [\n",
            "      {},\n",
            "      {\n",
            "        \"prov:generatedAtTime\": \"2021-03-29 00:19:10.767162\"\n",
            "      }\n",
            "    ]\n",
            "  },\n",
            "  \"agent\": {\n",
            "    \"foaf:Alessandra-Fabiane-Massao\": [\n",
            "      {},\n",
            "      {\n",
            "        \"prov:hadRole\": \"Executor\",\n",
            "        \"foaf:mbox\": \"massaoiwanaga@ufrj.br\",\n",
            "        \"prov:attributedAtTime\": \"2021-03-29 00:19:10.766947\"\n",
            "      }\n",
            "    ]\n",
            "  },\n",
            "  \"wasAttributedTo\": {\n",
            "    \"_:id1\": {\n",
            "      \"prov:entity\": \"dados.gov.br:Vacina\\u00e7\\u00e3o\",\n",
            "      \"prov:agent\": \"foaf:Alessandra-Fabiane-Massao\"\n",
            "    },\n",
            "    \"_:id2\": {\n",
            "      \"prov:entity\": \"dados.gov.br:CNES\",\n",
            "      \"prov:agent\": \"foaf:Alessandra-Fabiane-Massao\"\n",
            "    }\n",
            "  },\n",
            "  \"activity\": {\n",
            "    \"greco:Leitura\": {},\n",
            "    \"greco:An\\u00e1lise_e_Tratamento_de_Dados\": {},\n",
            "    \"greco:Visualiza\\u00e7\\u00e3o_dos_Dados\": {}\n",
            "  },\n",
            "  \"wasGeneratedBy\": {\n",
            "    \"_:id3\": {\n",
            "      \"prov:entity\": \"dados.gov.br:Vacina\\u00e7\\u00e3o\",\n",
            "      \"prov:activity\": \"greco:Leitura\"\n",
            "    },\n",
            "    \"_:id4\": {\n",
            "      \"prov:entity\": \"dados.gov.br:CNES\",\n",
            "      \"prov:activity\": \"greco:Leitura\"\n",
            "    },\n",
            "    \"_:id5\": {\n",
            "      \"prov:entity\": \"dados.gov.br:Vacina\\u00e7\\u00e3o\",\n",
            "      \"prov:activity\": \"greco:An\\u00e1lise_e_Tratamento_de_Dados\"\n",
            "    },\n",
            "    \"_:id6\": {\n",
            "      \"prov:entity\": \"dados.gov.br:CNES\",\n",
            "      \"prov:activity\": \"greco:An\\u00e1lise_e_Tratamento_de_Dados\"\n",
            "    },\n",
            "    \"_:id7\": {\n",
            "      \"prov:entity\": \"dados.gov.br:Vacina\\u00e7\\u00e3o\",\n",
            "      \"prov:activity\": \"greco:Visualiza\\u00e7\\u00e3o_dos_Dados\"\n",
            "    },\n",
            "    \"_:id8\": {\n",
            "      \"prov:entity\": \"dados.gov.br:CNES\",\n",
            "      \"prov:activity\": \"greco:Visualiza\\u00e7\\u00e3o_dos_Dados\"\n",
            "    }\n",
            "  }\n",
            "}\n",
            "\n"
          ],
          "name": "stdout"
        }
      ]
    },
    {
      "cell_type": "code",
      "metadata": {
        "id": "Jzjk9fAuWpa8",
        "colab": {
          "base_uri": "https://localhost:8080/",
          "height": 301
        },
        "outputId": "7bdc0395-162d-47a4-9a02-da24b63daca9"
      },
      "source": [
        "# Adding Vizualization the provenance graph in the Jupyter notebook\n",
        "from IPython.display import Image\n",
        "Image('/content/drive/My Drive/TESI_FCD/'+graph)"
      ],
      "execution_count": null,
      "outputs": [
        {
          "output_type": "execute_result",
          "data": {
            "image/png": "[encoded data removed]",
            "text/plain": [
              "<IPython.core.display.Image object>"
            ]
          },
          "metadata": {
            "tags": []
          },
          "execution_count": 22
        }
      ]
    },
    {
      "cell_type": "markdown",
      "metadata": {
        "id": "jPH2RL_MuprD"
      },
      "source": [
        "## Variáveis gerais do trabalho proposto"
      ]
    },
    {
      "cell_type": "code",
      "metadata": {
        "id": "NlNc6CRoumWr"
      },
      "source": [
        "## Merge entre os dataFrames de Vacinação e CNES# UFs das regiões norte e sudeste, que serão analisadas no trabalho\n",
        "\n",
        "UFs = ['RJ', 'SP','MG', 'ES', 'AM', 'AC', 'AP', 'PA', 'RO', 'RR', 'TO']"
      ],
      "execution_count": 5,
      "outputs": []
    },
    {
      "cell_type": "markdown",
      "metadata": {
        "id": "FjgCAEu6jYo0"
      },
      "source": [
        "## Importação e tratamento do DataSet de Vacinação"
      ]
    },
    {
      "cell_type": "code",
      "metadata": {
        "id": "TQwJ_pn5jyO2"
      },
      "source": [
        "# Salve o dataset de vacinação no diretório TESI_FCD no Google Drive\n",
        "# Para tornar o notebook reutilizável, futuramente pode-se solicitar o diretório e o nome do dataset via prompt.\n",
        "\n",
        "df_vacinacao = pd.read_csv('/content/drive/My Drive/TESI_FCD/part-00000-090405dc-80c4-4889-84c3-a9a390d06947-c000.csv',delimiter=',')"
      ],
      "execution_count": 6,
      "outputs": []
    },
    {
      "cell_type": "markdown",
      "metadata": {
        "id": "FFjXn0Fxw7Xv"
      },
      "source": [
        "### Exploração inicial do DataSet de Vacinação"
      ]
    },
    {
      "cell_type": "code",
      "metadata": {
        "id": "w17aVTJRJEHg"
      },
      "source": [
        "# Código reprodutível - Teste unitário\n",
        "# assert len(df_vacinacao) == 7908949"
      ],
      "execution_count": null,
      "outputs": []
    },
    {
      "cell_type": "code",
      "metadata": {
        "id": "11SdiIamniZE",
        "colab": {
          "base_uri": "https://localhost:8080/"
        },
        "outputId": "66972080-5167-48b1-918b-5b3523e83306"
      },
      "source": [
        "print('Total de registros:',len(df_vacinacao))    # Quantidade de registros do dataset\n",
        "print('')\n",
        "print(df_vacinacao.info())  # Informações sobre o dataset \n",
        "\n",
        "# Observe o total de linhas e o total de colunas (33) do dataset"
      ],
      "execution_count": 7,
      "outputs": [
        {
          "output_type": "stream",
          "text": [
            "Total de registros: 7908949\n",
            "\n",
            "<class 'pandas.core.frame.DataFrame'>\n",
            "RangeIndex: 7908949 entries, 0 to 7908948\n",
            "Data columns (total 33 columns):\n",
            " #   Column                                    Dtype  \n",
            "---  ------                                    -----  \n",
            " 0   document_id                               object \n",
            " 1   paciente_id                               object \n",
            " 2   paciente_idade                            float64\n",
            " 3   paciente_dataNascimento                   object \n",
            " 4   paciente_enumSexoBiologico                object \n",
            " 5   paciente_racaCor_codigo                   float64\n",
            " 6   paciente_racaCor_valor                    object \n",
            " 7   paciente_endereco_coIbgeMunicipio         float64\n",
            " 8   paciente_endereco_coPais                  float64\n",
            " 9   paciente_endereco_nmMunicipio             object \n",
            " 10  paciente_endereco_nmPais                  object \n",
            " 11  paciente_endereco_uf                      object \n",
            " 12  paciente_endereco_cep                     float64\n",
            " 13  paciente_nacionalidade_enumNacionalidade  object \n",
            " 14  estabelecimento_valor                     int64  \n",
            " 15  estabelecimento_razaoSocial               object \n",
            " 16  estalecimento_noFantasia                  object \n",
            " 17  estabelecimento_municipio_codigo          float64\n",
            " 18  estabelecimento_municipio_nome            object \n",
            " 19  estabelecimento_uf                        object \n",
            " 20  vacina_grupoAtendimento_codigo            int64  \n",
            " 21  vacina_grupoAtendimento_nome              object \n",
            " 22  vacina_categoria_codigo                   float64\n",
            " 23  vacina_categoria_nome                     object \n",
            " 24  vacina_lote                               object \n",
            " 25  vacina_fabricante_nome                    object \n",
            " 26  vacina_fabricante_referencia              object \n",
            " 27  vacina_dataAplicacao                      object \n",
            " 28  vacina_descricao_dose                     object \n",
            " 29  vacina_codigo                             int64  \n",
            " 30  vacina_nome                               object \n",
            " 31  sistema_origem                            object \n",
            " 32  data_importacao_rnds                      object \n",
            "dtypes: float64(7), int64(3), object(23)\n",
            "memory usage: 1.9+ GB\n",
            "None\n"
          ],
          "name": "stdout"
        }
      ]
    },
    {
      "cell_type": "code",
      "metadata": {
        "id": "3j9ZF5Zakzzi",
        "colab": {
          "base_uri": "https://localhost:8080/",
          "height": 985
        },
        "outputId": "4f155754-23bc-4508-ceb9-e69a56225958"
      },
      "source": [
        "df_vacinacao.head(10)        # Visualização dos registros iniciais"
      ],
      "execution_count": null,
      "outputs": [
        {
          "output_type": "execute_result",
          "data": {
            "text/html": [
              "<div>\n",
              "<style scoped>\n",
              "    .dataframe tbody tr th:only-of-type {\n",
              "        vertical-align: middle;\n",
              "    }\n",
              "\n",
              "    .dataframe tbody tr th {\n",
              "        vertical-align: top;\n",
              "    }\n",
              "\n",
              "    .dataframe thead th {\n",
              "        text-align: right;\n",
              "    }\n",
              "</style>\n",
              "<table border=\"1\" class=\"dataframe\">\n",
              "  <thead>\n",
              "    <tr style=\"text-align: right;\">\n",
              "      <th></th>\n",
              "      <th>document_id</th>\n",
              "      <th>paciente_id</th>\n",
              "      <th>paciente_idade</th>\n",
              "      <th>paciente_dataNascimento</th>\n",
              "      <th>paciente_enumSexoBiologico</th>\n",
              "      <th>paciente_racaCor_codigo</th>\n",
              "      <th>paciente_racaCor_valor</th>\n",
              "      <th>paciente_endereco_coIbgeMunicipio</th>\n",
              "      <th>paciente_endereco_coPais</th>\n",
              "      <th>paciente_endereco_nmMunicipio</th>\n",
              "      <th>paciente_endereco_nmPais</th>\n",
              "      <th>paciente_endereco_uf</th>\n",
              "      <th>paciente_nacionalidade_enumNacionalidade</th>\n",
              "      <th>estabelecimento_valor</th>\n",
              "      <th>estabelecimento_municipio_codigo</th>\n",
              "      <th>estabelecimento_municipio_nome</th>\n",
              "      <th>estabelecimento_uf</th>\n",
              "      <th>vacina_grupoAtendimento_codigo</th>\n",
              "      <th>vacina_grupoAtendimento_nome</th>\n",
              "      <th>vacina_categoria_codigo</th>\n",
              "      <th>vacina_categoria_nome</th>\n",
              "      <th>vacina_fabricante_nome</th>\n",
              "      <th>vacina_dataAplicacao</th>\n",
              "      <th>vacina_descricao_dose</th>\n",
              "      <th>vacina_nome</th>\n",
              "      <th>data_importacao_rnds</th>\n",
              "    </tr>\n",
              "  </thead>\n",
              "  <tbody>\n",
              "    <tr>\n",
              "      <th>0</th>\n",
              "      <td>60aeb975-94ed-4113-a8b0-ac55dbb8ab41-i0b0</td>\n",
              "      <td>433768b2c569be2ff29976dea5cddd0eeb907de38c254e...</td>\n",
              "      <td>79.0</td>\n",
              "      <td>1942-01-28</td>\n",
              "      <td>F</td>\n",
              "      <td>1.0</td>\n",
              "      <td>BRANCA</td>\n",
              "      <td>432225.0</td>\n",
              "      <td>10.0</td>\n",
              "      <td>TUPANDI</td>\n",
              "      <td>BRASIL</td>\n",
              "      <td>RS</td>\n",
              "      <td>B</td>\n",
              "      <td>2227428</td>\n",
              "      <td>431950.0</td>\n",
              "      <td>SAO SEBASTIAO DO CAI</td>\n",
              "      <td>RS</td>\n",
              "      <td>301</td>\n",
              "      <td>Pessoas de 60 nos ou mais Institucionalizadas</td>\n",
              "      <td>3.0</td>\n",
              "      <td>Pessoas de 60 anos ou mais institucionalizadas</td>\n",
              "      <td>FUNDACAO BUTANTAN</td>\n",
              "      <td>2021-02-16T03:00:00.000Z</td>\n",
              "      <td>2ª Dose</td>\n",
              "      <td>Covid-19-Coronavac-Sinovac/Butantan</td>\n",
              "      <td>2021-02-19 03:20:03</td>\n",
              "    </tr>\n",
              "    <tr>\n",
              "      <th>1</th>\n",
              "      <td>b68c468e-8083-4cca-8da1-ea9a8decbaba-i0b0</td>\n",
              "      <td>8499ef2ad9174cee4bd4dac8ae172a706775f4c835cb17...</td>\n",
              "      <td>90.0</td>\n",
              "      <td>1930-09-11</td>\n",
              "      <td>M</td>\n",
              "      <td>2.0</td>\n",
              "      <td>PRETA</td>\n",
              "      <td>430930.0</td>\n",
              "      <td>10.0</td>\n",
              "      <td>GUAIBA</td>\n",
              "      <td>BRASIL</td>\n",
              "      <td>RS</td>\n",
              "      <td>B</td>\n",
              "      <td>2225999</td>\n",
              "      <td>430930.0</td>\n",
              "      <td>GUAIBA</td>\n",
              "      <td>RS</td>\n",
              "      <td>205</td>\n",
              "      <td>Pessoas de 80 anos ou mais</td>\n",
              "      <td>2.0</td>\n",
              "      <td>Faixa Etária</td>\n",
              "      <td>FUNDACAO BUTANTAN</td>\n",
              "      <td>2021-02-11T03:00:00.000Z</td>\n",
              "      <td>1ª Dose</td>\n",
              "      <td>Covid-19-Coronavac-Sinovac/Butantan</td>\n",
              "      <td>2021-02-19 16:04:01</td>\n",
              "    </tr>\n",
              "    <tr>\n",
              "      <th>2</th>\n",
              "      <td>db74d38d-be6e-4b1a-82d0-e2797c3b55e7-i0b0</td>\n",
              "      <td>1c8b855733d6ea88081712bd74f95ca36bef67ac83b168...</td>\n",
              "      <td>91.0</td>\n",
              "      <td>1929-06-25</td>\n",
              "      <td>F</td>\n",
              "      <td>1.0</td>\n",
              "      <td>BRANCA</td>\n",
              "      <td>316900.0</td>\n",
              "      <td>10.0</td>\n",
              "      <td>TOCANTINS</td>\n",
              "      <td>BRASIL</td>\n",
              "      <td>MG</td>\n",
              "      <td>B</td>\n",
              "      <td>2162776</td>\n",
              "      <td>316900.0</td>\n",
              "      <td>TOCANTINS</td>\n",
              "      <td>MG</td>\n",
              "      <td>205</td>\n",
              "      <td>Pessoas de 80 anos ou mais</td>\n",
              "      <td>2.0</td>\n",
              "      <td>Faixa Etária</td>\n",
              "      <td>FUNDACAO BUTANTAN</td>\n",
              "      <td>2021-02-12T03:00:00.000Z</td>\n",
              "      <td>1ª Dose</td>\n",
              "      <td>Covid-19-Coronavac-Sinovac/Butantan</td>\n",
              "      <td>2021-02-15 19:32:10</td>\n",
              "    </tr>\n",
              "    <tr>\n",
              "      <th>3</th>\n",
              "      <td>2126698b-2d68-4559-afbd-2cfb665319d8-i0b0</td>\n",
              "      <td>b89cbe103ef31b4bbe4b101e56ad1c3f97a8772a9e440c...</td>\n",
              "      <td>81.0</td>\n",
              "      <td>1939-04-14</td>\n",
              "      <td>F</td>\n",
              "      <td>1.0</td>\n",
              "      <td>BRANCA</td>\n",
              "      <td>240800.0</td>\n",
              "      <td>10.0</td>\n",
              "      <td>MOSSORO</td>\n",
              "      <td>BRASIL</td>\n",
              "      <td>RN</td>\n",
              "      <td>B</td>\n",
              "      <td>7172605</td>\n",
              "      <td>240800.0</td>\n",
              "      <td>MOSSORO</td>\n",
              "      <td>RN</td>\n",
              "      <td>205</td>\n",
              "      <td>Pessoas de 80 anos ou mais</td>\n",
              "      <td>2.0</td>\n",
              "      <td>Faixa Etária</td>\n",
              "      <td>FUNDACAO OSWALDO CRUZ</td>\n",
              "      <td>2021-02-19T00:00:00.000Z</td>\n",
              "      <td>1ª Dose</td>\n",
              "      <td>Vacina Covid-19 - Covishield</td>\n",
              "      <td>2021-02-20 03:36:33</td>\n",
              "    </tr>\n",
              "    <tr>\n",
              "      <th>4</th>\n",
              "      <td>58479a85-603d-4167-898d-e638b4204cc3-i0b0</td>\n",
              "      <td>9a8ae778fc10f5382ce36f1ffb538be3e0df908dd64498...</td>\n",
              "      <td>27.0</td>\n",
              "      <td>1993-12-30</td>\n",
              "      <td>F</td>\n",
              "      <td>1.0</td>\n",
              "      <td>BRANCA</td>\n",
              "      <td>350850.0</td>\n",
              "      <td>10.0</td>\n",
              "      <td>CACAPAVA</td>\n",
              "      <td>BRASIL</td>\n",
              "      <td>SP</td>\n",
              "      <td>B</td>\n",
              "      <td>6426247</td>\n",
              "      <td>350850.0</td>\n",
              "      <td>CACAPAVA</td>\n",
              "      <td>SP</td>\n",
              "      <td>926</td>\n",
              "      <td>Outros</td>\n",
              "      <td>9.0</td>\n",
              "      <td>Trabalhadores de Saúde</td>\n",
              "      <td>Sinovac</td>\n",
              "      <td>2021-02-04T00:00:00.000Z</td>\n",
              "      <td>1ª Dose</td>\n",
              "      <td>Covid-19-Coronavac-Sinovac/Butantan</td>\n",
              "      <td>2021-02-04 06:02:43</td>\n",
              "    </tr>\n",
              "    <tr>\n",
              "      <th>5</th>\n",
              "      <td>dd31f5e0-11be-4f20-b513-321d38fe7209-i0b0</td>\n",
              "      <td>4afd17a894ce085a0eb3385de1bd981b0fe8c3dba69f75...</td>\n",
              "      <td>37.0</td>\n",
              "      <td>1983-02-28</td>\n",
              "      <td>F</td>\n",
              "      <td>99.0</td>\n",
              "      <td>SEM INFORMACAO</td>\n",
              "      <td>150420.0</td>\n",
              "      <td>10.0</td>\n",
              "      <td>MARABA</td>\n",
              "      <td>BRASIL</td>\n",
              "      <td>PA</td>\n",
              "      <td>B</td>\n",
              "      <td>2614804</td>\n",
              "      <td>150420.0</td>\n",
              "      <td>MARABA</td>\n",
              "      <td>PA</td>\n",
              "      <td>908</td>\n",
              "      <td>Farmacêutico</td>\n",
              "      <td>9.0</td>\n",
              "      <td>Trabalhadores de Saúde</td>\n",
              "      <td>FUNDACAO BUTANTAN</td>\n",
              "      <td>2021-02-23T03:00:00.000Z</td>\n",
              "      <td>2ª Dose</td>\n",
              "      <td>Covid-19-Coronavac-Sinovac/Butantan</td>\n",
              "      <td>2021-02-24 12:51:16</td>\n",
              "    </tr>\n",
              "    <tr>\n",
              "      <th>6</th>\n",
              "      <td>7d70a956-4521-44da-ab0a-16c0704906e7-i0b0</td>\n",
              "      <td>883c5dd876b70d6822bd90f9635a9b69831916b44004e0...</td>\n",
              "      <td>83.0</td>\n",
              "      <td>1937-03-14</td>\n",
              "      <td>F</td>\n",
              "      <td>99.0</td>\n",
              "      <td>SEM INFORMACAO</td>\n",
              "      <td>NaN</td>\n",
              "      <td>NaN</td>\n",
              "      <td>NaN</td>\n",
              "      <td>NaN</td>\n",
              "      <td>NaN</td>\n",
              "      <td>B</td>\n",
              "      <td>2226960</td>\n",
              "      <td>431600.0</td>\n",
              "      <td>ROLANTE</td>\n",
              "      <td>RS</td>\n",
              "      <td>205</td>\n",
              "      <td>Pessoas de 80 anos ou mais</td>\n",
              "      <td>2.0</td>\n",
              "      <td>Faixa Etária</td>\n",
              "      <td>FUNDACAO BUTANTAN</td>\n",
              "      <td>2021-02-13T03:00:00.000Z</td>\n",
              "      <td>1ª Dose</td>\n",
              "      <td>Covid-19-Coronavac-Sinovac/Butantan</td>\n",
              "      <td>2021-02-22 11:39:03</td>\n",
              "    </tr>\n",
              "    <tr>\n",
              "      <th>7</th>\n",
              "      <td>0fc13a2b-b5ca-4f8b-8771-82b0d38af987-i0b0</td>\n",
              "      <td>37b4d41cb87fcdbc8c3492d92ec79582fd4b4b7ce7f908...</td>\n",
              "      <td>96.0</td>\n",
              "      <td>1924-09-24</td>\n",
              "      <td>F</td>\n",
              "      <td>99.0</td>\n",
              "      <td>SEM INFORMACAO</td>\n",
              "      <td>355030.0</td>\n",
              "      <td>10.0</td>\n",
              "      <td>SAO PAULO</td>\n",
              "      <td>BRASIL</td>\n",
              "      <td>SP</td>\n",
              "      <td>B</td>\n",
              "      <td>4049942</td>\n",
              "      <td>355030.0</td>\n",
              "      <td>SAO PAULO</td>\n",
              "      <td>SP</td>\n",
              "      <td>205</td>\n",
              "      <td>Pessoas de 80 anos ou mais</td>\n",
              "      <td>2.0</td>\n",
              "      <td>Faixa Etária</td>\n",
              "      <td>AstraZeneca/Oxford</td>\n",
              "      <td>2021-02-05T00:00:00.000Z</td>\n",
              "      <td>1ª Dose</td>\n",
              "      <td>Vacina Covid-19 - Covishield</td>\n",
              "      <td>2021-02-05 04:02:52</td>\n",
              "    </tr>\n",
              "    <tr>\n",
              "      <th>8</th>\n",
              "      <td>a7f11d1a-9875-41a4-8685-1840ae72ce7a-i0b0</td>\n",
              "      <td>607bb8b993afaa2a30d48a20aaba3e0e9ed233fcaa226f...</td>\n",
              "      <td>36.0</td>\n",
              "      <td>1984-10-10</td>\n",
              "      <td>F</td>\n",
              "      <td>3.0</td>\n",
              "      <td>PARDA</td>\n",
              "      <td>293076.0</td>\n",
              "      <td>10.0</td>\n",
              "      <td>SITIO DO QUINTO</td>\n",
              "      <td>BRASIL</td>\n",
              "      <td>BA</td>\n",
              "      <td>B</td>\n",
              "      <td>285293</td>\n",
              "      <td>293076.0</td>\n",
              "      <td>SITIO DO QUINTO</td>\n",
              "      <td>BA</td>\n",
              "      <td>926</td>\n",
              "      <td>Outros</td>\n",
              "      <td>9.0</td>\n",
              "      <td>Trabalhadores de Saúde</td>\n",
              "      <td>FUNDACAO BUTANTAN</td>\n",
              "      <td>2021-02-19T03:00:00.000Z</td>\n",
              "      <td>2ª Dose</td>\n",
              "      <td>Covid-19-Coronavac-Sinovac/Butantan</td>\n",
              "      <td>2021-02-23 13:30:53</td>\n",
              "    </tr>\n",
              "    <tr>\n",
              "      <th>9</th>\n",
              "      <td>8c713fb7-b97a-4540-9265-2e2dbc5a18a0-i0b0</td>\n",
              "      <td>1f9815fb6524de0051dffe223d0b236b4708abc1c9d560...</td>\n",
              "      <td>38.0</td>\n",
              "      <td>1982-08-08</td>\n",
              "      <td>F</td>\n",
              "      <td>1.0</td>\n",
              "      <td>BRANCA</td>\n",
              "      <td>353800.0</td>\n",
              "      <td>10.0</td>\n",
              "      <td>PINDAMONHANGABA</td>\n",
              "      <td>BRASIL</td>\n",
              "      <td>SP</td>\n",
              "      <td>B</td>\n",
              "      <td>2755068</td>\n",
              "      <td>353800.0</td>\n",
              "      <td>PINDAMONHANGABA</td>\n",
              "      <td>SP</td>\n",
              "      <td>926</td>\n",
              "      <td>Outros</td>\n",
              "      <td>9.0</td>\n",
              "      <td>Trabalhadores de Saúde</td>\n",
              "      <td>Sinovac</td>\n",
              "      <td>2021-02-13T00:00:00.000Z</td>\n",
              "      <td>2ª Dose</td>\n",
              "      <td>Covid-19-Coronavac-Sinovac/Butantan</td>\n",
              "      <td>2021-02-13 15:02:00</td>\n",
              "    </tr>\n",
              "  </tbody>\n",
              "</table>\n",
              "</div>"
            ],
            "text/plain": [
              "                                 document_id  ... data_importacao_rnds\n",
              "0  60aeb975-94ed-4113-a8b0-ac55dbb8ab41-i0b0  ...  2021-02-19 03:20:03\n",
              "1  b68c468e-8083-4cca-8da1-ea9a8decbaba-i0b0  ...  2021-02-19 16:04:01\n",
              "2  db74d38d-be6e-4b1a-82d0-e2797c3b55e7-i0b0  ...  2021-02-15 19:32:10\n",
              "3  2126698b-2d68-4559-afbd-2cfb665319d8-i0b0  ...  2021-02-20 03:36:33\n",
              "4  58479a85-603d-4167-898d-e638b4204cc3-i0b0  ...  2021-02-04 06:02:43\n",
              "5  dd31f5e0-11be-4f20-b513-321d38fe7209-i0b0  ...  2021-02-24 12:51:16\n",
              "6  7d70a956-4521-44da-ab0a-16c0704906e7-i0b0  ...  2021-02-22 11:39:03\n",
              "7  0fc13a2b-b5ca-4f8b-8771-82b0d38af987-i0b0  ...  2021-02-05 04:02:52\n",
              "8  a7f11d1a-9875-41a4-8685-1840ae72ce7a-i0b0  ...  2021-02-23 13:30:53\n",
              "9  8c713fb7-b97a-4540-9265-2e2dbc5a18a0-i0b0  ...  2021-02-13 15:02:00\n",
              "\n",
              "[10 rows x 26 columns]"
            ]
          },
          "metadata": {
            "tags": []
          },
          "execution_count": 23
        }
      ]
    },
    {
      "cell_type": "markdown",
      "metadata": {
        "id": "w_-afw8rnvR6"
      },
      "source": [
        "### Eliminação de colunas e linhas que não serão utilizadas - Dataset Vacinação"
      ]
    },
    {
      "cell_type": "code",
      "metadata": {
        "id": "HYKi6nd7vuXX"
      },
      "source": [
        "# Eliminação das colunas que não serão utilizadas nas análises\n",
        "\n",
        "df_vacinacao = df_vacinacao.drop(['paciente_endereco_cep','estabelecimento_razaoSocial','estalecimento_noFantasia','vacina_lote','vacina_fabricante_referencia',\n",
        "                                  'vacina_codigo','sistema_origem'],axis=1)"
      ],
      "execution_count": 8,
      "outputs": []
    },
    {
      "cell_type": "code",
      "metadata": {
        "id": "ykG7R2TZt_I6"
      },
      "source": [
        "# Como o dataset possui dados de todo o Brasil, os estados que não pertencem às regiões selecionadas para análise serão eliminados do dataframe\n",
        "df_vacinacao = df_vacinacao.loc[(df_vacinacao['estabelecimento_uf'].isin(UFs))]"
      ],
      "execution_count": 9,
      "outputs": []
    },
    {
      "cell_type": "code",
      "metadata": {
        "id": "rUSccCUejZG8",
        "colab": {
          "base_uri": "https://localhost:8080/"
        },
        "outputId": "a4324742-52fb-4589-bde2-71ba59313182"
      },
      "source": [
        "# Verificação de valores existentes para a coluna 'vacina_descricao_dose'\n",
        "\n",
        "df_vacinacao['vacina_descricao_dose'].value_counts()"
      ],
      "execution_count": 10,
      "outputs": [
        {
          "output_type": "execute_result",
          "data": {
            "text/plain": [
              "    1ª Dose    3529642\n",
              "    2ª Dose    1006498\n",
              "    Dose            29\n",
              "Name: vacina_descricao_dose, dtype: int64"
            ]
          },
          "metadata": {
            "tags": []
          },
          "execution_count": 10
        }
      ]
    },
    {
      "cell_type": "code",
      "metadata": {
        "id": "GXnjeBPukA0j"
      },
      "source": [
        "# Para o trabalho, só interessam as pessoas que tomaram a primeira dose da vacinda, portanto, serão eliminados do dataframe as linhas que não\n",
        "# se referem à primeira dose da vacinação\n",
        "\n",
        "df_vacinacao = df_vacinacao.loc[(df_vacinacao['vacina_descricao_dose'].str.strip().str[0] =='1')]"
      ],
      "execution_count": 11,
      "outputs": []
    },
    {
      "cell_type": "code",
      "metadata": {
        "id": "vTalUQSzJdeW"
      },
      "source": [
        "# Código reprodutível\n",
        "# assert len(df_vacinacao) == 3529642"
      ],
      "execution_count": null,
      "outputs": []
    },
    {
      "cell_type": "code",
      "metadata": {
        "id": "0Ukr7QVPxCHQ",
        "colab": {
          "base_uri": "https://localhost:8080/"
        },
        "outputId": "3a7b2479-50ea-415e-df46-60157b6b26a8"
      },
      "source": [
        "print('Total de registros:',len(df_vacinacao))    # Quantidade de registros do dataset após eliminação de linhas\n",
        "\n",
        "print('')\n",
        "print(df_vacinacao.info())                        # Informações sobre o dataset\n",
        "\n",
        "## É possível observar a redução do número total de linhas e do número total de colunas (26) do dataset"
      ],
      "execution_count": 12,
      "outputs": [
        {
          "output_type": "stream",
          "text": [
            "Total de registros: 3529642\n",
            "\n",
            "<class 'pandas.core.frame.DataFrame'>\n",
            "Int64Index: 3529642 entries, 2 to 7908948\n",
            "Data columns (total 26 columns):\n",
            " #   Column                                    Dtype  \n",
            "---  ------                                    -----  \n",
            " 0   document_id                               object \n",
            " 1   paciente_id                               object \n",
            " 2   paciente_idade                            float64\n",
            " 3   paciente_dataNascimento                   object \n",
            " 4   paciente_enumSexoBiologico                object \n",
            " 5   paciente_racaCor_codigo                   float64\n",
            " 6   paciente_racaCor_valor                    object \n",
            " 7   paciente_endereco_coIbgeMunicipio         float64\n",
            " 8   paciente_endereco_coPais                  float64\n",
            " 9   paciente_endereco_nmMunicipio             object \n",
            " 10  paciente_endereco_nmPais                  object \n",
            " 11  paciente_endereco_uf                      object \n",
            " 12  paciente_nacionalidade_enumNacionalidade  object \n",
            " 13  estabelecimento_valor                     int64  \n",
            " 14  estabelecimento_municipio_codigo          float64\n",
            " 15  estabelecimento_municipio_nome            object \n",
            " 16  estabelecimento_uf                        object \n",
            " 17  vacina_grupoAtendimento_codigo            int64  \n",
            " 18  vacina_grupoAtendimento_nome              object \n",
            " 19  vacina_categoria_codigo                   float64\n",
            " 20  vacina_categoria_nome                     object \n",
            " 21  vacina_fabricante_nome                    object \n",
            " 22  vacina_dataAplicacao                      object \n",
            " 23  vacina_descricao_dose                     object \n",
            " 24  vacina_nome                               object \n",
            " 25  data_importacao_rnds                      object \n",
            "dtypes: float64(6), int64(2), object(18)\n",
            "memory usage: 727.1+ MB\n",
            "None\n"
          ],
          "name": "stdout"
        }
      ]
    },
    {
      "cell_type": "markdown",
      "metadata": {
        "id": "6DpU2V2QpWUv"
      },
      "source": [
        "### Identificação e tratamento de valores duplicados"
      ]
    },
    {
      "cell_type": "code",
      "metadata": {
        "id": "zqTPlEbSAJlc",
        "outputId": "f66d6609-04e1-4b56-e4bc-ad36451a71cb",
        "colab": {
          "base_uri": "https://localhost:8080/",
          "height": 1000
        }
      },
      "source": [
        "#Lista todos os registros em que o \"paciente_id\" apareça mais de 2 vezes\n",
        "df_vacinacao[df_vacinacao['paciente_id'].isin(df_vacinacao['paciente_id'].value_counts()[df_vacinacao['paciente_id'].value_counts()>2].index)].sort_values(by=[\"paciente_id\"])\n",
        "\n",
        "#df_vacinacao.duplicated(subset=['document_id'])\n",
        "#df_vacinacao[df_vacinacao.duplicated(subset=['paciente_id'], keep=False)].sort_values(by=[\"paciente_id\"])"
      ],
      "execution_count": 13,
      "outputs": [
        {
          "output_type": "execute_result",
          "data": {
            "text/html": [
              "<div>\n",
              "<style scoped>\n",
              "    .dataframe tbody tr th:only-of-type {\n",
              "        vertical-align: middle;\n",
              "    }\n",
              "\n",
              "    .dataframe tbody tr th {\n",
              "        vertical-align: top;\n",
              "    }\n",
              "\n",
              "    .dataframe thead th {\n",
              "        text-align: right;\n",
              "    }\n",
              "</style>\n",
              "<table border=\"1\" class=\"dataframe\">\n",
              "  <thead>\n",
              "    <tr style=\"text-align: right;\">\n",
              "      <th></th>\n",
              "      <th>document_id</th>\n",
              "      <th>paciente_id</th>\n",
              "      <th>paciente_idade</th>\n",
              "      <th>paciente_dataNascimento</th>\n",
              "      <th>paciente_enumSexoBiologico</th>\n",
              "      <th>paciente_racaCor_codigo</th>\n",
              "      <th>paciente_racaCor_valor</th>\n",
              "      <th>paciente_endereco_coIbgeMunicipio</th>\n",
              "      <th>paciente_endereco_coPais</th>\n",
              "      <th>paciente_endereco_nmMunicipio</th>\n",
              "      <th>paciente_endereco_nmPais</th>\n",
              "      <th>paciente_endereco_uf</th>\n",
              "      <th>paciente_nacionalidade_enumNacionalidade</th>\n",
              "      <th>estabelecimento_valor</th>\n",
              "      <th>estabelecimento_municipio_codigo</th>\n",
              "      <th>estabelecimento_municipio_nome</th>\n",
              "      <th>estabelecimento_uf</th>\n",
              "      <th>vacina_grupoAtendimento_codigo</th>\n",
              "      <th>vacina_grupoAtendimento_nome</th>\n",
              "      <th>vacina_categoria_codigo</th>\n",
              "      <th>vacina_categoria_nome</th>\n",
              "      <th>vacina_fabricante_nome</th>\n",
              "      <th>vacina_dataAplicacao</th>\n",
              "      <th>vacina_descricao_dose</th>\n",
              "      <th>vacina_nome</th>\n",
              "      <th>data_importacao_rnds</th>\n",
              "    </tr>\n",
              "  </thead>\n",
              "  <tbody>\n",
              "    <tr>\n",
              "      <th>4828100</th>\n",
              "      <td>56834bab-f0c1-486b-b309-db6076eb4b3b-i0b0</td>\n",
              "      <td>0c3390b4d0b9a535cb22799c2618053106a61deff30b85...</td>\n",
              "      <td>71.0</td>\n",
              "      <td>1949-06-14</td>\n",
              "      <td>M</td>\n",
              "      <td>99.0</td>\n",
              "      <td>SEM INFORMACAO</td>\n",
              "      <td>313130.0</td>\n",
              "      <td>10.0</td>\n",
              "      <td>IPATINGA</td>\n",
              "      <td>BRASIL</td>\n",
              "      <td>MG</td>\n",
              "      <td>B</td>\n",
              "      <td>2205440</td>\n",
              "      <td>313130.0</td>\n",
              "      <td>IPATINGA</td>\n",
              "      <td>MG</td>\n",
              "      <td>912</td>\n",
              "      <td>Médico</td>\n",
              "      <td>9.0</td>\n",
              "      <td>Trabalhadores de Saúde</td>\n",
              "      <td>FUNDACAO BUTANTAN</td>\n",
              "      <td>2021-02-23T03:00:00.000Z</td>\n",
              "      <td>1ª Dose</td>\n",
              "      <td>Covid-19-Coronavac-Sinovac/Butantan</td>\n",
              "      <td>2021-02-26 18:23:18</td>\n",
              "    </tr>\n",
              "    <tr>\n",
              "      <th>3670249</th>\n",
              "      <td>4e09a541-fa26-4daa-8983-2ab84668a1e2-i0b0</td>\n",
              "      <td>0c3390b4d0b9a535cb22799c2618053106a61deff30b85...</td>\n",
              "      <td>71.0</td>\n",
              "      <td>1949-06-14</td>\n",
              "      <td>M</td>\n",
              "      <td>99.0</td>\n",
              "      <td>SEM INFORMACAO</td>\n",
              "      <td>313130.0</td>\n",
              "      <td>10.0</td>\n",
              "      <td>IPATINGA</td>\n",
              "      <td>BRASIL</td>\n",
              "      <td>MG</td>\n",
              "      <td>B</td>\n",
              "      <td>2205440</td>\n",
              "      <td>313130.0</td>\n",
              "      <td>IPATINGA</td>\n",
              "      <td>MG</td>\n",
              "      <td>912</td>\n",
              "      <td>Médico</td>\n",
              "      <td>9.0</td>\n",
              "      <td>Trabalhadores de Saúde</td>\n",
              "      <td>FUNDACAO OSWALDO CRUZ</td>\n",
              "      <td>2021-02-23T03:00:00.000Z</td>\n",
              "      <td>1ª Dose</td>\n",
              "      <td>Vacina Covid-19 - Covishield</td>\n",
              "      <td>2021-02-26 19:18:09</td>\n",
              "    </tr>\n",
              "    <tr>\n",
              "      <th>356327</th>\n",
              "      <td>ae5f43ff-7839-4851-b3f2-2183cb62d729-i0b0</td>\n",
              "      <td>0c3390b4d0b9a535cb22799c2618053106a61deff30b85...</td>\n",
              "      <td>71.0</td>\n",
              "      <td>1949-06-14</td>\n",
              "      <td>M</td>\n",
              "      <td>99.0</td>\n",
              "      <td>SEM INFORMACAO</td>\n",
              "      <td>313130.0</td>\n",
              "      <td>10.0</td>\n",
              "      <td>IPATINGA</td>\n",
              "      <td>BRASIL</td>\n",
              "      <td>MG</td>\n",
              "      <td>B</td>\n",
              "      <td>2205440</td>\n",
              "      <td>313130.0</td>\n",
              "      <td>IPATINGA</td>\n",
              "      <td>MG</td>\n",
              "      <td>912</td>\n",
              "      <td>Médico</td>\n",
              "      <td>9.0</td>\n",
              "      <td>Trabalhadores de Saúde</td>\n",
              "      <td>FUNDACAO OSWALDO CRUZ</td>\n",
              "      <td>2021-02-23T03:00:00.000Z</td>\n",
              "      <td>1ª Dose</td>\n",
              "      <td>Vacina Covid-19 - Covishield</td>\n",
              "      <td>2021-02-24 21:45:21</td>\n",
              "    </tr>\n",
              "    <tr>\n",
              "      <th>4773242</th>\n",
              "      <td>7f53f141-1d9c-4bcd-8d24-504b67d4ea50-i0b0</td>\n",
              "      <td>0fc334df6e1b34ea25366709ab808fd731e4f9f1c02347...</td>\n",
              "      <td>33.0</td>\n",
              "      <td>1987-08-15</td>\n",
              "      <td>M</td>\n",
              "      <td>99.0</td>\n",
              "      <td>SEM INFORMACAO</td>\n",
              "      <td>313130.0</td>\n",
              "      <td>10.0</td>\n",
              "      <td>IPATINGA</td>\n",
              "      <td>BRASIL</td>\n",
              "      <td>MG</td>\n",
              "      <td>B</td>\n",
              "      <td>2205440</td>\n",
              "      <td>313130.0</td>\n",
              "      <td>IPATINGA</td>\n",
              "      <td>MG</td>\n",
              "      <td>912</td>\n",
              "      <td>Médico</td>\n",
              "      <td>9.0</td>\n",
              "      <td>Trabalhadores de Saúde</td>\n",
              "      <td>FUNDACAO BUTANTAN</td>\n",
              "      <td>2021-02-22T03:00:00.000Z</td>\n",
              "      <td>1ª Dose</td>\n",
              "      <td>Covid-19-Coronavac-Sinovac/Butantan</td>\n",
              "      <td>2021-02-26 18:35:10</td>\n",
              "    </tr>\n",
              "    <tr>\n",
              "      <th>1842150</th>\n",
              "      <td>11e92ee3-af7c-46c1-9096-e25235864e32-i0b0</td>\n",
              "      <td>0fc334df6e1b34ea25366709ab808fd731e4f9f1c02347...</td>\n",
              "      <td>33.0</td>\n",
              "      <td>1987-08-15</td>\n",
              "      <td>M</td>\n",
              "      <td>99.0</td>\n",
              "      <td>SEM INFORMACAO</td>\n",
              "      <td>313130.0</td>\n",
              "      <td>10.0</td>\n",
              "      <td>IPATINGA</td>\n",
              "      <td>BRASIL</td>\n",
              "      <td>MG</td>\n",
              "      <td>B</td>\n",
              "      <td>2205440</td>\n",
              "      <td>313130.0</td>\n",
              "      <td>IPATINGA</td>\n",
              "      <td>MG</td>\n",
              "      <td>912</td>\n",
              "      <td>Médico</td>\n",
              "      <td>9.0</td>\n",
              "      <td>Trabalhadores de Saúde</td>\n",
              "      <td>FUNDACAO OSWALDO CRUZ</td>\n",
              "      <td>2021-02-22T03:00:00.000Z</td>\n",
              "      <td>1ª Dose</td>\n",
              "      <td>Vacina Covid-19 - Covishield</td>\n",
              "      <td>2021-02-24 21:17:26</td>\n",
              "    </tr>\n",
              "    <tr>\n",
              "      <th>...</th>\n",
              "      <td>...</td>\n",
              "      <td>...</td>\n",
              "      <td>...</td>\n",
              "      <td>...</td>\n",
              "      <td>...</td>\n",
              "      <td>...</td>\n",
              "      <td>...</td>\n",
              "      <td>...</td>\n",
              "      <td>...</td>\n",
              "      <td>...</td>\n",
              "      <td>...</td>\n",
              "      <td>...</td>\n",
              "      <td>...</td>\n",
              "      <td>...</td>\n",
              "      <td>...</td>\n",
              "      <td>...</td>\n",
              "      <td>...</td>\n",
              "      <td>...</td>\n",
              "      <td>...</td>\n",
              "      <td>...</td>\n",
              "      <td>...</td>\n",
              "      <td>...</td>\n",
              "      <td>...</td>\n",
              "      <td>...</td>\n",
              "      <td>...</td>\n",
              "      <td>...</td>\n",
              "    </tr>\n",
              "    <tr>\n",
              "      <th>3947030</th>\n",
              "      <td>e4136899-613c-47c9-9f5a-3a3dac500699-i0b0</td>\n",
              "      <td>fad1bed24332cdb9bdc87fdda34b476e2f4a450b405686...</td>\n",
              "      <td>95.0</td>\n",
              "      <td>1925-05-23</td>\n",
              "      <td>F</td>\n",
              "      <td>99.0</td>\n",
              "      <td>SEM INFORMACAO</td>\n",
              "      <td>354990.0</td>\n",
              "      <td>10.0</td>\n",
              "      <td>SAO JOSE DOS CAMPOS</td>\n",
              "      <td>BRASIL</td>\n",
              "      <td>SP</td>\n",
              "      <td>B</td>\n",
              "      <td>9202</td>\n",
              "      <td>354990.0</td>\n",
              "      <td>SAO JOSE DOS CAMPOS</td>\n",
              "      <td>SP</td>\n",
              "      <td>926</td>\n",
              "      <td>Outros</td>\n",
              "      <td>9.0</td>\n",
              "      <td>Trabalhadores de Saúde</td>\n",
              "      <td>Sinovac</td>\n",
              "      <td>2021-02-09T00:00:00.000Z</td>\n",
              "      <td>1ª Dose</td>\n",
              "      <td>Covid-19-Coronavac-Sinovac/Butantan</td>\n",
              "      <td>2021-02-09 03:00:00</td>\n",
              "    </tr>\n",
              "    <tr>\n",
              "      <th>2762404</th>\n",
              "      <td>64662f38-1eae-4ebb-89be-5023e6a14fdf-i0b0</td>\n",
              "      <td>fad1bed24332cdb9bdc87fdda34b476e2f4a450b405686...</td>\n",
              "      <td>95.0</td>\n",
              "      <td>1925-05-23</td>\n",
              "      <td>F</td>\n",
              "      <td>99.0</td>\n",
              "      <td>SEM INFORMACAO</td>\n",
              "      <td>354990.0</td>\n",
              "      <td>10.0</td>\n",
              "      <td>SAO JOSE DOS CAMPOS</td>\n",
              "      <td>BRASIL</td>\n",
              "      <td>SP</td>\n",
              "      <td>B</td>\n",
              "      <td>9253</td>\n",
              "      <td>354990.0</td>\n",
              "      <td>SAO JOSE DOS CAMPOS</td>\n",
              "      <td>SP</td>\n",
              "      <td>205</td>\n",
              "      <td>Pessoas de 80 anos ou mais</td>\n",
              "      <td>2.0</td>\n",
              "      <td>Faixa Etária</td>\n",
              "      <td>Sinovac</td>\n",
              "      <td>2021-02-18T00:00:00.000Z</td>\n",
              "      <td>1ª Dose</td>\n",
              "      <td>Covid-19-Coronavac-Sinovac/Butantan</td>\n",
              "      <td>2021-02-18 15:02:00</td>\n",
              "    </tr>\n",
              "    <tr>\n",
              "      <th>7287947</th>\n",
              "      <td>0ae8bcc2-1330-4d08-979b-3b3635c7d1bf-i0b0</td>\n",
              "      <td>fc004ac33c2997f88d872ca3850c36e4f69b02b2bfcef1...</td>\n",
              "      <td>86.0</td>\n",
              "      <td>1934-03-28</td>\n",
              "      <td>M</td>\n",
              "      <td>99.0</td>\n",
              "      <td>SEM INFORMACAO</td>\n",
              "      <td>330270.0</td>\n",
              "      <td>10.0</td>\n",
              "      <td>MARICA</td>\n",
              "      <td>BRASIL</td>\n",
              "      <td>RJ</td>\n",
              "      <td>B</td>\n",
              "      <td>7985657</td>\n",
              "      <td>330455.0</td>\n",
              "      <td>RIO DE JANEIRO</td>\n",
              "      <td>RJ</td>\n",
              "      <td>205</td>\n",
              "      <td>Pessoas de 80 anos ou mais</td>\n",
              "      <td>2.0</td>\n",
              "      <td>Faixa Etária</td>\n",
              "      <td>SERUM INSTITUTE OF INDIA LTD</td>\n",
              "      <td>2021-02-26T00:00:00.000Z</td>\n",
              "      <td>1ª Dose</td>\n",
              "      <td>Covid-19-Coronavac-Sinovac/Butantan</td>\n",
              "      <td>2021-03-02 20:44:13</td>\n",
              "    </tr>\n",
              "    <tr>\n",
              "      <th>900118</th>\n",
              "      <td>33099c5c-015a-4b45-9a82-225082810e84-i0b0</td>\n",
              "      <td>fc004ac33c2997f88d872ca3850c36e4f69b02b2bfcef1...</td>\n",
              "      <td>86.0</td>\n",
              "      <td>1934-03-28</td>\n",
              "      <td>M</td>\n",
              "      <td>99.0</td>\n",
              "      <td>SEM INFORMACAO</td>\n",
              "      <td>330270.0</td>\n",
              "      <td>10.0</td>\n",
              "      <td>MARICA</td>\n",
              "      <td>BRASIL</td>\n",
              "      <td>RJ</td>\n",
              "      <td>B</td>\n",
              "      <td>7985657</td>\n",
              "      <td>330455.0</td>\n",
              "      <td>RIO DE JANEIRO</td>\n",
              "      <td>RJ</td>\n",
              "      <td>205</td>\n",
              "      <td>Pessoas de 80 anos ou mais</td>\n",
              "      <td>2.0</td>\n",
              "      <td>Faixa Etária</td>\n",
              "      <td>FUNDACAO OSWALDO CRUZ</td>\n",
              "      <td>2021-03-01T03:00:00.000Z</td>\n",
              "      <td>1ª Dose</td>\n",
              "      <td>Vacina Covid-19 - Covishield</td>\n",
              "      <td>2021-03-01 15:12:59</td>\n",
              "    </tr>\n",
              "    <tr>\n",
              "      <th>2749677</th>\n",
              "      <td>1b5c2bf7-6f1f-4e57-8b60-3b2e6a50eb1c-i0b0</td>\n",
              "      <td>fc004ac33c2997f88d872ca3850c36e4f69b02b2bfcef1...</td>\n",
              "      <td>86.0</td>\n",
              "      <td>1934-03-28</td>\n",
              "      <td>M</td>\n",
              "      <td>99.0</td>\n",
              "      <td>SEM INFORMACAO</td>\n",
              "      <td>330270.0</td>\n",
              "      <td>10.0</td>\n",
              "      <td>MARICA</td>\n",
              "      <td>BRASIL</td>\n",
              "      <td>RJ</td>\n",
              "      <td>B</td>\n",
              "      <td>7985657</td>\n",
              "      <td>330455.0</td>\n",
              "      <td>RIO DE JANEIRO</td>\n",
              "      <td>RJ</td>\n",
              "      <td>205</td>\n",
              "      <td>Pessoas de 80 anos ou mais</td>\n",
              "      <td>2.0</td>\n",
              "      <td>Faixa Etária</td>\n",
              "      <td>FUNDACAO BUTANTAN</td>\n",
              "      <td>2021-02-26T03:00:00.000Z</td>\n",
              "      <td>1ª Dose</td>\n",
              "      <td>Covid-19-Coronavac-Sinovac/Butantan</td>\n",
              "      <td>2021-02-26 18:32:56</td>\n",
              "    </tr>\n",
              "  </tbody>\n",
              "</table>\n",
              "<p>129 rows × 26 columns</p>\n",
              "</div>"
            ],
            "text/plain": [
              "                                       document_id  ... data_importacao_rnds\n",
              "4828100  56834bab-f0c1-486b-b309-db6076eb4b3b-i0b0  ...  2021-02-26 18:23:18\n",
              "3670249  4e09a541-fa26-4daa-8983-2ab84668a1e2-i0b0  ...  2021-02-26 19:18:09\n",
              "356327   ae5f43ff-7839-4851-b3f2-2183cb62d729-i0b0  ...  2021-02-24 21:45:21\n",
              "4773242  7f53f141-1d9c-4bcd-8d24-504b67d4ea50-i0b0  ...  2021-02-26 18:35:10\n",
              "1842150  11e92ee3-af7c-46c1-9096-e25235864e32-i0b0  ...  2021-02-24 21:17:26\n",
              "...                                            ...  ...                  ...\n",
              "3947030  e4136899-613c-47c9-9f5a-3a3dac500699-i0b0  ...  2021-02-09 03:00:00\n",
              "2762404  64662f38-1eae-4ebb-89be-5023e6a14fdf-i0b0  ...  2021-02-18 15:02:00\n",
              "7287947  0ae8bcc2-1330-4d08-979b-3b3635c7d1bf-i0b0  ...  2021-03-02 20:44:13\n",
              "900118   33099c5c-015a-4b45-9a82-225082810e84-i0b0  ...  2021-03-01 15:12:59\n",
              "2749677  1b5c2bf7-6f1f-4e57-8b60-3b2e6a50eb1c-i0b0  ...  2021-02-26 18:32:56\n",
              "\n",
              "[129 rows x 26 columns]"
            ]
          },
          "metadata": {
            "tags": []
          },
          "execution_count": 13
        }
      ]
    },
    {
      "cell_type": "code",
      "metadata": {
        "id": "_FB7Zs_Vbu1d"
      },
      "source": [
        "# Existe mais de um registro de vacinação da primeira dose para um mesmo paciente\n",
        "# Será mantido o registro com data de aplicação da vacina mais antiga\n",
        "\n",
        "# df_ordenada = df_vacinacao.sort_values(by=[\"paciente_id\", \"vacina_dataAplicacao\"]) - Apagar, usei outro df apenas para teste\n",
        "df_vacinacao.sort_values(by=[\"paciente_id\", \"vacina_dataAplicacao\"], inplace=True)"
      ],
      "execution_count": 14,
      "outputs": []
    },
    {
      "cell_type": "code",
      "metadata": {
        "id": "PSWlpHnKq9lq",
        "colab": {
          "base_uri": "https://localhost:8080/"
        },
        "outputId": "bc08dd83-cd36-4ffb-8ee1-9f9dc34f6474"
      },
      "source": [
        "# Verificar quantos registros duplicados existem\n",
        "df_vacinacao.duplicated(subset=['paciente_id']).value_counts()"
      ],
      "execution_count": 15,
      "outputs": [
        {
          "output_type": "execute_result",
          "data": {
            "text/plain": [
              "False    3497840\n",
              "True       31802\n",
              "dtype: int64"
            ]
          },
          "metadata": {
            "tags": []
          },
          "execution_count": 15
        }
      ]
    },
    {
      "cell_type": "code",
      "metadata": {
        "id": "verWG_F2dWuP"
      },
      "source": [
        "# Alessandra\n",
        "# df_ordenada.duplicated(subset=['paciente_id']).value_counts() - Apagar, usei outro df apenas para teste"
      ],
      "execution_count": null,
      "outputs": []
    },
    {
      "cell_type": "code",
      "metadata": {
        "id": "v8CEhxkfdrwm"
      },
      "source": [
        "# Alessandra\n",
        "# df_ordenada.drop_duplicates(subset=['paciente_id'], keep='first', inplace=True) -  Apagar, usei outro df apenas para teste\n",
        "# df_ordenada.duplicated(subset=['paciente_id']).value_counts() - Apagar, usei outro df apenas para teste"
      ],
      "execution_count": null,
      "outputs": []
    },
    {
      "cell_type": "code",
      "metadata": {
        "id": "Jv6IUaC_WoJq",
        "colab": {
          "base_uri": "https://localhost:8080/"
        },
        "outputId": "ba223adf-28f0-4925-c9eb-7ccdd8cc8da2"
      },
      "source": [
        "# Elimina linhas de mesmo paciente_id\n",
        "df_vacinacao.drop_duplicates(subset=['paciente_id'], keep='first', inplace=True)\n",
        "df_vacinacao.duplicated(subset=['paciente_id']).value_counts()"
      ],
      "execution_count": 16,
      "outputs": [
        {
          "output_type": "execute_result",
          "data": {
            "text/plain": [
              "False    3497840\n",
              "dtype: int64"
            ]
          },
          "metadata": {
            "tags": []
          },
          "execution_count": 16
        }
      ]
    },
    {
      "cell_type": "code",
      "metadata": {
        "id": "3Db1lzh1u9gw"
      },
      "source": [
        "#df_vacinacao.info()"
      ],
      "execution_count": null,
      "outputs": []
    },
    {
      "cell_type": "markdown",
      "metadata": {
        "id": "EqB5lF3-G5eY"
      },
      "source": [
        "#### Testes de verificação da exclusão de duplicados"
      ]
    },
    {
      "cell_type": "code",
      "metadata": {
        "id": "ZZBQNo-gto2k",
        "outputId": "076dd1dc-32a8-43bb-c96c-9c759f49babc",
        "colab": {
          "base_uri": "https://localhost:8080/",
          "height": 555
        }
      },
      "source": [
        "# Teste de verificação de duplicados pelo índice \n",
        "df_vacinacao.loc[2749677]\n",
        "#df_ordenada.loc[2749677]  - Apagar, usei outro df apenas para teste"
      ],
      "execution_count": 17,
      "outputs": [
        {
          "output_type": "error",
          "ename": "KeyError",
          "evalue": "ignored",
          "traceback": [
            "\u001b[0;31m---------------------------------------------------------------------------\u001b[0m",
            "\u001b[0;31mKeyError\u001b[0m                                  Traceback (most recent call last)",
            "\u001b[0;32m/usr/local/lib/python3.7/dist-packages/pandas/core/indexes/base.py\u001b[0m in \u001b[0;36mget_loc\u001b[0;34m(self, key, method, tolerance)\u001b[0m\n\u001b[1;32m   2897\u001b[0m             \u001b[0;32mtry\u001b[0m\u001b[0;34m:\u001b[0m\u001b[0;34m\u001b[0m\u001b[0;34m\u001b[0m\u001b[0m\n\u001b[0;32m-> 2898\u001b[0;31m                 \u001b[0;32mreturn\u001b[0m \u001b[0mself\u001b[0m\u001b[0;34m.\u001b[0m\u001b[0m_engine\u001b[0m\u001b[0;34m.\u001b[0m\u001b[0mget_loc\u001b[0m\u001b[0;34m(\u001b[0m\u001b[0mcasted_key\u001b[0m\u001b[0;34m)\u001b[0m\u001b[0;34m\u001b[0m\u001b[0;34m\u001b[0m\u001b[0m\n\u001b[0m\u001b[1;32m   2899\u001b[0m             \u001b[0;32mexcept\u001b[0m \u001b[0mKeyError\u001b[0m \u001b[0;32mas\u001b[0m \u001b[0merr\u001b[0m\u001b[0;34m:\u001b[0m\u001b[0;34m\u001b[0m\u001b[0;34m\u001b[0m\u001b[0m\n",
            "\u001b[0;32mpandas/_libs/index.pyx\u001b[0m in \u001b[0;36mpandas._libs.index.IndexEngine.get_loc\u001b[0;34m()\u001b[0m\n",
            "\u001b[0;32mpandas/_libs/index.pyx\u001b[0m in \u001b[0;36mpandas._libs.index.IndexEngine.get_loc\u001b[0;34m()\u001b[0m\n",
            "\u001b[0;32mpandas/_libs/hashtable_class_helper.pxi\u001b[0m in \u001b[0;36mpandas._libs.hashtable.Int64HashTable.get_item\u001b[0;34m()\u001b[0m\n",
            "\u001b[0;32mpandas/_libs/hashtable_class_helper.pxi\u001b[0m in \u001b[0;36mpandas._libs.hashtable.Int64HashTable.get_item\u001b[0;34m()\u001b[0m\n",
            "\u001b[0;31mKeyError\u001b[0m: 2749677",
            "\nThe above exception was the direct cause of the following exception:\n",
            "\u001b[0;31mKeyError\u001b[0m                                  Traceback (most recent call last)",
            "\u001b[0;32m<ipython-input-17-48d5671dc08a>\u001b[0m in \u001b[0;36m<module>\u001b[0;34m()\u001b[0m\n\u001b[1;32m      1\u001b[0m \u001b[0;31m# Teste de verificação de duplicados pelo índice\u001b[0m\u001b[0;34m\u001b[0m\u001b[0;34m\u001b[0m\u001b[0;34m\u001b[0m\u001b[0m\n\u001b[0;32m----> 2\u001b[0;31m \u001b[0mdf_vacinacao\u001b[0m\u001b[0;34m.\u001b[0m\u001b[0mloc\u001b[0m\u001b[0;34m[\u001b[0m\u001b[0;36m2749677\u001b[0m\u001b[0;34m]\u001b[0m\u001b[0;34m\u001b[0m\u001b[0;34m\u001b[0m\u001b[0m\n\u001b[0m\u001b[1;32m      3\u001b[0m \u001b[0;31m#df_ordenada.loc[2749677]  - Apagar, usei outro df apenas para teste\u001b[0m\u001b[0;34m\u001b[0m\u001b[0;34m\u001b[0m\u001b[0;34m\u001b[0m\u001b[0m\n",
            "\u001b[0;32m/usr/local/lib/python3.7/dist-packages/pandas/core/indexing.py\u001b[0m in \u001b[0;36m__getitem__\u001b[0;34m(self, key)\u001b[0m\n\u001b[1;32m    877\u001b[0m \u001b[0;34m\u001b[0m\u001b[0m\n\u001b[1;32m    878\u001b[0m             \u001b[0mmaybe_callable\u001b[0m \u001b[0;34m=\u001b[0m \u001b[0mcom\u001b[0m\u001b[0;34m.\u001b[0m\u001b[0mapply_if_callable\u001b[0m\u001b[0;34m(\u001b[0m\u001b[0mkey\u001b[0m\u001b[0;34m,\u001b[0m \u001b[0mself\u001b[0m\u001b[0;34m.\u001b[0m\u001b[0mobj\u001b[0m\u001b[0;34m)\u001b[0m\u001b[0;34m\u001b[0m\u001b[0;34m\u001b[0m\u001b[0m\n\u001b[0;32m--> 879\u001b[0;31m             \u001b[0;32mreturn\u001b[0m \u001b[0mself\u001b[0m\u001b[0;34m.\u001b[0m\u001b[0m_getitem_axis\u001b[0m\u001b[0;34m(\u001b[0m\u001b[0mmaybe_callable\u001b[0m\u001b[0;34m,\u001b[0m \u001b[0maxis\u001b[0m\u001b[0;34m=\u001b[0m\u001b[0maxis\u001b[0m\u001b[0;34m)\u001b[0m\u001b[0;34m\u001b[0m\u001b[0;34m\u001b[0m\u001b[0m\n\u001b[0m\u001b[1;32m    880\u001b[0m \u001b[0;34m\u001b[0m\u001b[0m\n\u001b[1;32m    881\u001b[0m     \u001b[0;32mdef\u001b[0m \u001b[0m_is_scalar_access\u001b[0m\u001b[0;34m(\u001b[0m\u001b[0mself\u001b[0m\u001b[0;34m,\u001b[0m \u001b[0mkey\u001b[0m\u001b[0;34m:\u001b[0m \u001b[0mTuple\u001b[0m\u001b[0;34m)\u001b[0m\u001b[0;34m:\u001b[0m\u001b[0;34m\u001b[0m\u001b[0;34m\u001b[0m\u001b[0m\n",
            "\u001b[0;32m/usr/local/lib/python3.7/dist-packages/pandas/core/indexing.py\u001b[0m in \u001b[0;36m_getitem_axis\u001b[0;34m(self, key, axis)\u001b[0m\n\u001b[1;32m   1108\u001b[0m         \u001b[0;31m# fall thru to straight lookup\u001b[0m\u001b[0;34m\u001b[0m\u001b[0;34m\u001b[0m\u001b[0;34m\u001b[0m\u001b[0m\n\u001b[1;32m   1109\u001b[0m         \u001b[0mself\u001b[0m\u001b[0;34m.\u001b[0m\u001b[0m_validate_key\u001b[0m\u001b[0;34m(\u001b[0m\u001b[0mkey\u001b[0m\u001b[0;34m,\u001b[0m \u001b[0maxis\u001b[0m\u001b[0;34m)\u001b[0m\u001b[0;34m\u001b[0m\u001b[0;34m\u001b[0m\u001b[0m\n\u001b[0;32m-> 1110\u001b[0;31m         \u001b[0;32mreturn\u001b[0m \u001b[0mself\u001b[0m\u001b[0;34m.\u001b[0m\u001b[0m_get_label\u001b[0m\u001b[0;34m(\u001b[0m\u001b[0mkey\u001b[0m\u001b[0;34m,\u001b[0m \u001b[0maxis\u001b[0m\u001b[0;34m=\u001b[0m\u001b[0maxis\u001b[0m\u001b[0;34m)\u001b[0m\u001b[0;34m\u001b[0m\u001b[0;34m\u001b[0m\u001b[0m\n\u001b[0m\u001b[1;32m   1111\u001b[0m \u001b[0;34m\u001b[0m\u001b[0m\n\u001b[1;32m   1112\u001b[0m     \u001b[0;32mdef\u001b[0m \u001b[0m_get_slice_axis\u001b[0m\u001b[0;34m(\u001b[0m\u001b[0mself\u001b[0m\u001b[0;34m,\u001b[0m \u001b[0mslice_obj\u001b[0m\u001b[0;34m:\u001b[0m \u001b[0mslice\u001b[0m\u001b[0;34m,\u001b[0m \u001b[0maxis\u001b[0m\u001b[0;34m:\u001b[0m \u001b[0mint\u001b[0m\u001b[0;34m)\u001b[0m\u001b[0;34m:\u001b[0m\u001b[0;34m\u001b[0m\u001b[0;34m\u001b[0m\u001b[0m\n",
            "\u001b[0;32m/usr/local/lib/python3.7/dist-packages/pandas/core/indexing.py\u001b[0m in \u001b[0;36m_get_label\u001b[0;34m(self, label, axis)\u001b[0m\n\u001b[1;32m   1057\u001b[0m     \u001b[0;32mdef\u001b[0m \u001b[0m_get_label\u001b[0m\u001b[0;34m(\u001b[0m\u001b[0mself\u001b[0m\u001b[0;34m,\u001b[0m \u001b[0mlabel\u001b[0m\u001b[0;34m,\u001b[0m \u001b[0maxis\u001b[0m\u001b[0;34m:\u001b[0m \u001b[0mint\u001b[0m\u001b[0;34m)\u001b[0m\u001b[0;34m:\u001b[0m\u001b[0;34m\u001b[0m\u001b[0;34m\u001b[0m\u001b[0m\n\u001b[1;32m   1058\u001b[0m         \u001b[0;31m# GH#5667 this will fail if the label is not present in the axis.\u001b[0m\u001b[0;34m\u001b[0m\u001b[0;34m\u001b[0m\u001b[0;34m\u001b[0m\u001b[0m\n\u001b[0;32m-> 1059\u001b[0;31m         \u001b[0;32mreturn\u001b[0m \u001b[0mself\u001b[0m\u001b[0;34m.\u001b[0m\u001b[0mobj\u001b[0m\u001b[0;34m.\u001b[0m\u001b[0mxs\u001b[0m\u001b[0;34m(\u001b[0m\u001b[0mlabel\u001b[0m\u001b[0;34m,\u001b[0m \u001b[0maxis\u001b[0m\u001b[0;34m=\u001b[0m\u001b[0maxis\u001b[0m\u001b[0;34m)\u001b[0m\u001b[0;34m\u001b[0m\u001b[0;34m\u001b[0m\u001b[0m\n\u001b[0m\u001b[1;32m   1060\u001b[0m \u001b[0;34m\u001b[0m\u001b[0m\n\u001b[1;32m   1061\u001b[0m     \u001b[0;32mdef\u001b[0m \u001b[0m_handle_lowerdim_multi_index_axis0\u001b[0m\u001b[0;34m(\u001b[0m\u001b[0mself\u001b[0m\u001b[0;34m,\u001b[0m \u001b[0mtup\u001b[0m\u001b[0;34m:\u001b[0m \u001b[0mTuple\u001b[0m\u001b[0;34m)\u001b[0m\u001b[0;34m:\u001b[0m\u001b[0;34m\u001b[0m\u001b[0;34m\u001b[0m\u001b[0m\n",
            "\u001b[0;32m/usr/local/lib/python3.7/dist-packages/pandas/core/generic.py\u001b[0m in \u001b[0;36mxs\u001b[0;34m(self, key, axis, level, drop_level)\u001b[0m\n\u001b[1;32m   3491\u001b[0m             \u001b[0mloc\u001b[0m\u001b[0;34m,\u001b[0m \u001b[0mnew_index\u001b[0m \u001b[0;34m=\u001b[0m \u001b[0mself\u001b[0m\u001b[0;34m.\u001b[0m\u001b[0mindex\u001b[0m\u001b[0;34m.\u001b[0m\u001b[0mget_loc_level\u001b[0m\u001b[0;34m(\u001b[0m\u001b[0mkey\u001b[0m\u001b[0;34m,\u001b[0m \u001b[0mdrop_level\u001b[0m\u001b[0;34m=\u001b[0m\u001b[0mdrop_level\u001b[0m\u001b[0;34m)\u001b[0m\u001b[0;34m\u001b[0m\u001b[0;34m\u001b[0m\u001b[0m\n\u001b[1;32m   3492\u001b[0m         \u001b[0;32melse\u001b[0m\u001b[0;34m:\u001b[0m\u001b[0;34m\u001b[0m\u001b[0;34m\u001b[0m\u001b[0m\n\u001b[0;32m-> 3493\u001b[0;31m             \u001b[0mloc\u001b[0m \u001b[0;34m=\u001b[0m \u001b[0mself\u001b[0m\u001b[0;34m.\u001b[0m\u001b[0mindex\u001b[0m\u001b[0;34m.\u001b[0m\u001b[0mget_loc\u001b[0m\u001b[0;34m(\u001b[0m\u001b[0mkey\u001b[0m\u001b[0;34m)\u001b[0m\u001b[0;34m\u001b[0m\u001b[0;34m\u001b[0m\u001b[0m\n\u001b[0m\u001b[1;32m   3494\u001b[0m \u001b[0;34m\u001b[0m\u001b[0m\n\u001b[1;32m   3495\u001b[0m             \u001b[0;32mif\u001b[0m \u001b[0misinstance\u001b[0m\u001b[0;34m(\u001b[0m\u001b[0mloc\u001b[0m\u001b[0;34m,\u001b[0m \u001b[0mnp\u001b[0m\u001b[0;34m.\u001b[0m\u001b[0mndarray\u001b[0m\u001b[0;34m)\u001b[0m\u001b[0;34m:\u001b[0m\u001b[0;34m\u001b[0m\u001b[0;34m\u001b[0m\u001b[0m\n",
            "\u001b[0;32m/usr/local/lib/python3.7/dist-packages/pandas/core/indexes/base.py\u001b[0m in \u001b[0;36mget_loc\u001b[0;34m(self, key, method, tolerance)\u001b[0m\n\u001b[1;32m   2898\u001b[0m                 \u001b[0;32mreturn\u001b[0m \u001b[0mself\u001b[0m\u001b[0;34m.\u001b[0m\u001b[0m_engine\u001b[0m\u001b[0;34m.\u001b[0m\u001b[0mget_loc\u001b[0m\u001b[0;34m(\u001b[0m\u001b[0mcasted_key\u001b[0m\u001b[0;34m)\u001b[0m\u001b[0;34m\u001b[0m\u001b[0;34m\u001b[0m\u001b[0m\n\u001b[1;32m   2899\u001b[0m             \u001b[0;32mexcept\u001b[0m \u001b[0mKeyError\u001b[0m \u001b[0;32mas\u001b[0m \u001b[0merr\u001b[0m\u001b[0;34m:\u001b[0m\u001b[0;34m\u001b[0m\u001b[0;34m\u001b[0m\u001b[0m\n\u001b[0;32m-> 2900\u001b[0;31m                 \u001b[0;32mraise\u001b[0m \u001b[0mKeyError\u001b[0m\u001b[0;34m(\u001b[0m\u001b[0mkey\u001b[0m\u001b[0;34m)\u001b[0m \u001b[0;32mfrom\u001b[0m \u001b[0merr\u001b[0m\u001b[0;34m\u001b[0m\u001b[0;34m\u001b[0m\u001b[0m\n\u001b[0m\u001b[1;32m   2901\u001b[0m \u001b[0;34m\u001b[0m\u001b[0m\n\u001b[1;32m   2902\u001b[0m         \u001b[0;32mif\u001b[0m \u001b[0mtolerance\u001b[0m \u001b[0;32mis\u001b[0m \u001b[0;32mnot\u001b[0m \u001b[0;32mNone\u001b[0m\u001b[0;34m:\u001b[0m\u001b[0;34m\u001b[0m\u001b[0;34m\u001b[0m\u001b[0m\n",
            "\u001b[0;31mKeyError\u001b[0m: 2749677"
          ]
        }
      ]
    },
    {
      "cell_type": "code",
      "metadata": {
        "id": "HWI4qqKTpNpi",
        "outputId": "0d9c7dff-7a18-4d04-d39d-6d3ed1440bc0",
        "colab": {
          "base_uri": "https://localhost:8080/",
          "height": 555
        }
      },
      "source": [
        "# Teste de verificação de duplicados pelo índice \n",
        "df_vacinacao.loc[900118]\n",
        "#df_ordenada.loc[900118]  - Apagar, usei outro df apenas para teste"
      ],
      "execution_count": 18,
      "outputs": [
        {
          "output_type": "error",
          "ename": "KeyError",
          "evalue": "ignored",
          "traceback": [
            "\u001b[0;31m---------------------------------------------------------------------------\u001b[0m",
            "\u001b[0;31mKeyError\u001b[0m                                  Traceback (most recent call last)",
            "\u001b[0;32m/usr/local/lib/python3.7/dist-packages/pandas/core/indexes/base.py\u001b[0m in \u001b[0;36mget_loc\u001b[0;34m(self, key, method, tolerance)\u001b[0m\n\u001b[1;32m   2897\u001b[0m             \u001b[0;32mtry\u001b[0m\u001b[0;34m:\u001b[0m\u001b[0;34m\u001b[0m\u001b[0;34m\u001b[0m\u001b[0m\n\u001b[0;32m-> 2898\u001b[0;31m                 \u001b[0;32mreturn\u001b[0m \u001b[0mself\u001b[0m\u001b[0;34m.\u001b[0m\u001b[0m_engine\u001b[0m\u001b[0;34m.\u001b[0m\u001b[0mget_loc\u001b[0m\u001b[0;34m(\u001b[0m\u001b[0mcasted_key\u001b[0m\u001b[0;34m)\u001b[0m\u001b[0;34m\u001b[0m\u001b[0;34m\u001b[0m\u001b[0m\n\u001b[0m\u001b[1;32m   2899\u001b[0m             \u001b[0;32mexcept\u001b[0m \u001b[0mKeyError\u001b[0m \u001b[0;32mas\u001b[0m \u001b[0merr\u001b[0m\u001b[0;34m:\u001b[0m\u001b[0;34m\u001b[0m\u001b[0;34m\u001b[0m\u001b[0m\n",
            "\u001b[0;32mpandas/_libs/index.pyx\u001b[0m in \u001b[0;36mpandas._libs.index.IndexEngine.get_loc\u001b[0;34m()\u001b[0m\n",
            "\u001b[0;32mpandas/_libs/index.pyx\u001b[0m in \u001b[0;36mpandas._libs.index.IndexEngine.get_loc\u001b[0;34m()\u001b[0m\n",
            "\u001b[0;32mpandas/_libs/hashtable_class_helper.pxi\u001b[0m in \u001b[0;36mpandas._libs.hashtable.Int64HashTable.get_item\u001b[0;34m()\u001b[0m\n",
            "\u001b[0;32mpandas/_libs/hashtable_class_helper.pxi\u001b[0m in \u001b[0;36mpandas._libs.hashtable.Int64HashTable.get_item\u001b[0;34m()\u001b[0m\n",
            "\u001b[0;31mKeyError\u001b[0m: 900118",
            "\nThe above exception was the direct cause of the following exception:\n",
            "\u001b[0;31mKeyError\u001b[0m                                  Traceback (most recent call last)",
            "\u001b[0;32m<ipython-input-18-9e4b4a51d633>\u001b[0m in \u001b[0;36m<module>\u001b[0;34m()\u001b[0m\n\u001b[1;32m      1\u001b[0m \u001b[0;31m# Teste de verificação de duplicados pelo índice\u001b[0m\u001b[0;34m\u001b[0m\u001b[0;34m\u001b[0m\u001b[0;34m\u001b[0m\u001b[0m\n\u001b[0;32m----> 2\u001b[0;31m \u001b[0mdf_vacinacao\u001b[0m\u001b[0;34m.\u001b[0m\u001b[0mloc\u001b[0m\u001b[0;34m[\u001b[0m\u001b[0;36m900118\u001b[0m\u001b[0;34m]\u001b[0m\u001b[0;34m\u001b[0m\u001b[0;34m\u001b[0m\u001b[0m\n\u001b[0m\u001b[1;32m      3\u001b[0m \u001b[0;31m#df_ordenada.loc[900118]  - Apagar, usei outro df apenas para teste\u001b[0m\u001b[0;34m\u001b[0m\u001b[0;34m\u001b[0m\u001b[0;34m\u001b[0m\u001b[0m\n",
            "\u001b[0;32m/usr/local/lib/python3.7/dist-packages/pandas/core/indexing.py\u001b[0m in \u001b[0;36m__getitem__\u001b[0;34m(self, key)\u001b[0m\n\u001b[1;32m    877\u001b[0m \u001b[0;34m\u001b[0m\u001b[0m\n\u001b[1;32m    878\u001b[0m             \u001b[0mmaybe_callable\u001b[0m \u001b[0;34m=\u001b[0m \u001b[0mcom\u001b[0m\u001b[0;34m.\u001b[0m\u001b[0mapply_if_callable\u001b[0m\u001b[0;34m(\u001b[0m\u001b[0mkey\u001b[0m\u001b[0;34m,\u001b[0m \u001b[0mself\u001b[0m\u001b[0;34m.\u001b[0m\u001b[0mobj\u001b[0m\u001b[0;34m)\u001b[0m\u001b[0;34m\u001b[0m\u001b[0;34m\u001b[0m\u001b[0m\n\u001b[0;32m--> 879\u001b[0;31m             \u001b[0;32mreturn\u001b[0m \u001b[0mself\u001b[0m\u001b[0;34m.\u001b[0m\u001b[0m_getitem_axis\u001b[0m\u001b[0;34m(\u001b[0m\u001b[0mmaybe_callable\u001b[0m\u001b[0;34m,\u001b[0m \u001b[0maxis\u001b[0m\u001b[0;34m=\u001b[0m\u001b[0maxis\u001b[0m\u001b[0;34m)\u001b[0m\u001b[0;34m\u001b[0m\u001b[0;34m\u001b[0m\u001b[0m\n\u001b[0m\u001b[1;32m    880\u001b[0m \u001b[0;34m\u001b[0m\u001b[0m\n\u001b[1;32m    881\u001b[0m     \u001b[0;32mdef\u001b[0m \u001b[0m_is_scalar_access\u001b[0m\u001b[0;34m(\u001b[0m\u001b[0mself\u001b[0m\u001b[0;34m,\u001b[0m \u001b[0mkey\u001b[0m\u001b[0;34m:\u001b[0m \u001b[0mTuple\u001b[0m\u001b[0;34m)\u001b[0m\u001b[0;34m:\u001b[0m\u001b[0;34m\u001b[0m\u001b[0;34m\u001b[0m\u001b[0m\n",
            "\u001b[0;32m/usr/local/lib/python3.7/dist-packages/pandas/core/indexing.py\u001b[0m in \u001b[0;36m_getitem_axis\u001b[0;34m(self, key, axis)\u001b[0m\n\u001b[1;32m   1108\u001b[0m         \u001b[0;31m# fall thru to straight lookup\u001b[0m\u001b[0;34m\u001b[0m\u001b[0;34m\u001b[0m\u001b[0;34m\u001b[0m\u001b[0m\n\u001b[1;32m   1109\u001b[0m         \u001b[0mself\u001b[0m\u001b[0;34m.\u001b[0m\u001b[0m_validate_key\u001b[0m\u001b[0;34m(\u001b[0m\u001b[0mkey\u001b[0m\u001b[0;34m,\u001b[0m \u001b[0maxis\u001b[0m\u001b[0;34m)\u001b[0m\u001b[0;34m\u001b[0m\u001b[0;34m\u001b[0m\u001b[0m\n\u001b[0;32m-> 1110\u001b[0;31m         \u001b[0;32mreturn\u001b[0m \u001b[0mself\u001b[0m\u001b[0;34m.\u001b[0m\u001b[0m_get_label\u001b[0m\u001b[0;34m(\u001b[0m\u001b[0mkey\u001b[0m\u001b[0;34m,\u001b[0m \u001b[0maxis\u001b[0m\u001b[0;34m=\u001b[0m\u001b[0maxis\u001b[0m\u001b[0;34m)\u001b[0m\u001b[0;34m\u001b[0m\u001b[0;34m\u001b[0m\u001b[0m\n\u001b[0m\u001b[1;32m   1111\u001b[0m \u001b[0;34m\u001b[0m\u001b[0m\n\u001b[1;32m   1112\u001b[0m     \u001b[0;32mdef\u001b[0m \u001b[0m_get_slice_axis\u001b[0m\u001b[0;34m(\u001b[0m\u001b[0mself\u001b[0m\u001b[0;34m,\u001b[0m \u001b[0mslice_obj\u001b[0m\u001b[0;34m:\u001b[0m \u001b[0mslice\u001b[0m\u001b[0;34m,\u001b[0m \u001b[0maxis\u001b[0m\u001b[0;34m:\u001b[0m \u001b[0mint\u001b[0m\u001b[0;34m)\u001b[0m\u001b[0;34m:\u001b[0m\u001b[0;34m\u001b[0m\u001b[0;34m\u001b[0m\u001b[0m\n",
            "\u001b[0;32m/usr/local/lib/python3.7/dist-packages/pandas/core/indexing.py\u001b[0m in \u001b[0;36m_get_label\u001b[0;34m(self, label, axis)\u001b[0m\n\u001b[1;32m   1057\u001b[0m     \u001b[0;32mdef\u001b[0m \u001b[0m_get_label\u001b[0m\u001b[0;34m(\u001b[0m\u001b[0mself\u001b[0m\u001b[0;34m,\u001b[0m \u001b[0mlabel\u001b[0m\u001b[0;34m,\u001b[0m \u001b[0maxis\u001b[0m\u001b[0;34m:\u001b[0m \u001b[0mint\u001b[0m\u001b[0;34m)\u001b[0m\u001b[0;34m:\u001b[0m\u001b[0;34m\u001b[0m\u001b[0;34m\u001b[0m\u001b[0m\n\u001b[1;32m   1058\u001b[0m         \u001b[0;31m# GH#5667 this will fail if the label is not present in the axis.\u001b[0m\u001b[0;34m\u001b[0m\u001b[0;34m\u001b[0m\u001b[0;34m\u001b[0m\u001b[0m\n\u001b[0;32m-> 1059\u001b[0;31m         \u001b[0;32mreturn\u001b[0m \u001b[0mself\u001b[0m\u001b[0;34m.\u001b[0m\u001b[0mobj\u001b[0m\u001b[0;34m.\u001b[0m\u001b[0mxs\u001b[0m\u001b[0;34m(\u001b[0m\u001b[0mlabel\u001b[0m\u001b[0;34m,\u001b[0m \u001b[0maxis\u001b[0m\u001b[0;34m=\u001b[0m\u001b[0maxis\u001b[0m\u001b[0;34m)\u001b[0m\u001b[0;34m\u001b[0m\u001b[0;34m\u001b[0m\u001b[0m\n\u001b[0m\u001b[1;32m   1060\u001b[0m \u001b[0;34m\u001b[0m\u001b[0m\n\u001b[1;32m   1061\u001b[0m     \u001b[0;32mdef\u001b[0m \u001b[0m_handle_lowerdim_multi_index_axis0\u001b[0m\u001b[0;34m(\u001b[0m\u001b[0mself\u001b[0m\u001b[0;34m,\u001b[0m \u001b[0mtup\u001b[0m\u001b[0;34m:\u001b[0m \u001b[0mTuple\u001b[0m\u001b[0;34m)\u001b[0m\u001b[0;34m:\u001b[0m\u001b[0;34m\u001b[0m\u001b[0;34m\u001b[0m\u001b[0m\n",
            "\u001b[0;32m/usr/local/lib/python3.7/dist-packages/pandas/core/generic.py\u001b[0m in \u001b[0;36mxs\u001b[0;34m(self, key, axis, level, drop_level)\u001b[0m\n\u001b[1;32m   3491\u001b[0m             \u001b[0mloc\u001b[0m\u001b[0;34m,\u001b[0m \u001b[0mnew_index\u001b[0m \u001b[0;34m=\u001b[0m \u001b[0mself\u001b[0m\u001b[0;34m.\u001b[0m\u001b[0mindex\u001b[0m\u001b[0;34m.\u001b[0m\u001b[0mget_loc_level\u001b[0m\u001b[0;34m(\u001b[0m\u001b[0mkey\u001b[0m\u001b[0;34m,\u001b[0m \u001b[0mdrop_level\u001b[0m\u001b[0;34m=\u001b[0m\u001b[0mdrop_level\u001b[0m\u001b[0;34m)\u001b[0m\u001b[0;34m\u001b[0m\u001b[0;34m\u001b[0m\u001b[0m\n\u001b[1;32m   3492\u001b[0m         \u001b[0;32melse\u001b[0m\u001b[0;34m:\u001b[0m\u001b[0;34m\u001b[0m\u001b[0;34m\u001b[0m\u001b[0m\n\u001b[0;32m-> 3493\u001b[0;31m             \u001b[0mloc\u001b[0m \u001b[0;34m=\u001b[0m \u001b[0mself\u001b[0m\u001b[0;34m.\u001b[0m\u001b[0mindex\u001b[0m\u001b[0;34m.\u001b[0m\u001b[0mget_loc\u001b[0m\u001b[0;34m(\u001b[0m\u001b[0mkey\u001b[0m\u001b[0;34m)\u001b[0m\u001b[0;34m\u001b[0m\u001b[0;34m\u001b[0m\u001b[0m\n\u001b[0m\u001b[1;32m   3494\u001b[0m \u001b[0;34m\u001b[0m\u001b[0m\n\u001b[1;32m   3495\u001b[0m             \u001b[0;32mif\u001b[0m \u001b[0misinstance\u001b[0m\u001b[0;34m(\u001b[0m\u001b[0mloc\u001b[0m\u001b[0;34m,\u001b[0m \u001b[0mnp\u001b[0m\u001b[0;34m.\u001b[0m\u001b[0mndarray\u001b[0m\u001b[0;34m)\u001b[0m\u001b[0;34m:\u001b[0m\u001b[0;34m\u001b[0m\u001b[0;34m\u001b[0m\u001b[0m\n",
            "\u001b[0;32m/usr/local/lib/python3.7/dist-packages/pandas/core/indexes/base.py\u001b[0m in \u001b[0;36mget_loc\u001b[0;34m(self, key, method, tolerance)\u001b[0m\n\u001b[1;32m   2898\u001b[0m                 \u001b[0;32mreturn\u001b[0m \u001b[0mself\u001b[0m\u001b[0;34m.\u001b[0m\u001b[0m_engine\u001b[0m\u001b[0;34m.\u001b[0m\u001b[0mget_loc\u001b[0m\u001b[0;34m(\u001b[0m\u001b[0mcasted_key\u001b[0m\u001b[0;34m)\u001b[0m\u001b[0;34m\u001b[0m\u001b[0;34m\u001b[0m\u001b[0m\n\u001b[1;32m   2899\u001b[0m             \u001b[0;32mexcept\u001b[0m \u001b[0mKeyError\u001b[0m \u001b[0;32mas\u001b[0m \u001b[0merr\u001b[0m\u001b[0;34m:\u001b[0m\u001b[0;34m\u001b[0m\u001b[0;34m\u001b[0m\u001b[0m\n\u001b[0;32m-> 2900\u001b[0;31m                 \u001b[0;32mraise\u001b[0m \u001b[0mKeyError\u001b[0m\u001b[0;34m(\u001b[0m\u001b[0mkey\u001b[0m\u001b[0;34m)\u001b[0m \u001b[0;32mfrom\u001b[0m \u001b[0merr\u001b[0m\u001b[0;34m\u001b[0m\u001b[0;34m\u001b[0m\u001b[0m\n\u001b[0m\u001b[1;32m   2901\u001b[0m \u001b[0;34m\u001b[0m\u001b[0m\n\u001b[1;32m   2902\u001b[0m         \u001b[0;32mif\u001b[0m \u001b[0mtolerance\u001b[0m \u001b[0;32mis\u001b[0m \u001b[0;32mnot\u001b[0m \u001b[0;32mNone\u001b[0m\u001b[0;34m:\u001b[0m\u001b[0;34m\u001b[0m\u001b[0;34m\u001b[0m\u001b[0m\n",
            "\u001b[0;31mKeyError\u001b[0m: 900118"
          ]
        }
      ]
    },
    {
      "cell_type": "code",
      "metadata": {
        "id": "RhIrS0X0pqyR",
        "outputId": "eb891b36-9505-49de-86e2-5f5f17e8545b",
        "colab": {
          "base_uri": "https://localhost:8080/"
        }
      },
      "source": [
        "# Teste de verificação de duplicados pelo índice \n",
        "df_vacinacao.loc[7287947]\n",
        "#df_ordenada.loc[7287947]  - Apagar, usei outro df apenas para teste"
      ],
      "execution_count": 19,
      "outputs": [
        {
          "output_type": "execute_result",
          "data": {
            "text/plain": [
              "document_id                                         0ae8bcc2-1330-4d08-979b-3b3635c7d1bf-i0b0\n",
              "paciente_id                                 fc004ac33c2997f88d872ca3850c36e4f69b02b2bfcef1...\n",
              "paciente_idade                                                                             86\n",
              "paciente_dataNascimento                                                            1934-03-28\n",
              "paciente_enumSexoBiologico                                                                  M\n",
              "paciente_racaCor_codigo                                                                    99\n",
              "paciente_racaCor_valor                                                         SEM INFORMACAO\n",
              "paciente_endereco_coIbgeMunicipio                                                      330270\n",
              "paciente_endereco_coPais                                                                   10\n",
              "paciente_endereco_nmMunicipio                                                          MARICA\n",
              "paciente_endereco_nmPais                                                               BRASIL\n",
              "paciente_endereco_uf                                                                       RJ\n",
              "paciente_nacionalidade_enumNacionalidade                                                    B\n",
              "estabelecimento_valor                                                                 7985657\n",
              "estabelecimento_municipio_codigo                                                       330455\n",
              "estabelecimento_municipio_nome                                                 RIO DE JANEIRO\n",
              "estabelecimento_uf                                                                         RJ\n",
              "vacina_grupoAtendimento_codigo                                                            205\n",
              "vacina_grupoAtendimento_nome                                       Pessoas de 80 anos ou mais\n",
              "vacina_categoria_codigo                                                                     2\n",
              "vacina_categoria_nome                                                            Faixa Etária\n",
              "vacina_fabricante_nome                                           SERUM INSTITUTE OF INDIA LTD\n",
              "vacina_dataAplicacao                                                 2021-02-26T00:00:00.000Z\n",
              "vacina_descricao_dose                                                                 1ª Dose\n",
              "vacina_nome                                               Covid-19-Coronavac-Sinovac/Butantan\n",
              "data_importacao_rnds                                                      2021-03-02 20:44:13\n",
              "Name: 7287947, dtype: object"
            ]
          },
          "metadata": {
            "tags": []
          },
          "execution_count": 19
        }
      ]
    },
    {
      "cell_type": "code",
      "metadata": {
        "id": "AirBoeygspkU",
        "outputId": "c4e0113b-5b08-4563-d44b-5dc0a1cffefe",
        "colab": {
          "base_uri": "https://localhost:8080/"
        }
      },
      "source": [
        "# Teste de verificação de duplicados pelo índice - 5ª linha de baixo para cima\n",
        "df_vacinacao.loc[3947030]"
      ],
      "execution_count": 20,
      "outputs": [
        {
          "output_type": "execute_result",
          "data": {
            "text/plain": [
              "document_id                                         e4136899-613c-47c9-9f5a-3a3dac500699-i0b0\n",
              "paciente_id                                 fad1bed24332cdb9bdc87fdda34b476e2f4a450b405686...\n",
              "paciente_idade                                                                             95\n",
              "paciente_dataNascimento                                                            1925-05-23\n",
              "paciente_enumSexoBiologico                                                                  F\n",
              "paciente_racaCor_codigo                                                                    99\n",
              "paciente_racaCor_valor                                                         SEM INFORMACAO\n",
              "paciente_endereco_coIbgeMunicipio                                                      354990\n",
              "paciente_endereco_coPais                                                                   10\n",
              "paciente_endereco_nmMunicipio                                             SAO JOSE DOS CAMPOS\n",
              "paciente_endereco_nmPais                                                               BRASIL\n",
              "paciente_endereco_uf                                                                       SP\n",
              "paciente_nacionalidade_enumNacionalidade                                                    B\n",
              "estabelecimento_valor                                                                    9202\n",
              "estabelecimento_municipio_codigo                                                       354990\n",
              "estabelecimento_municipio_nome                                            SAO JOSE DOS CAMPOS\n",
              "estabelecimento_uf                                                                         SP\n",
              "vacina_grupoAtendimento_codigo                                                            926\n",
              "vacina_grupoAtendimento_nome                                                           Outros\n",
              "vacina_categoria_codigo                                                                     9\n",
              "vacina_categoria_nome                                                  Trabalhadores de Saúde\n",
              "vacina_fabricante_nome                                                                Sinovac\n",
              "vacina_dataAplicacao                                                 2021-02-09T00:00:00.000Z\n",
              "vacina_descricao_dose                                                                 1ª Dose\n",
              "vacina_nome                                               Covid-19-Coronavac-Sinovac/Butantan\n",
              "data_importacao_rnds                                                      2021-02-09 03:00:00\n",
              "Name: 3947030, dtype: object"
            ]
          },
          "metadata": {
            "tags": []
          },
          "execution_count": 20
        }
      ]
    },
    {
      "cell_type": "code",
      "metadata": {
        "id": "7A5T_oP_s75y",
        "outputId": "0bd30ea6-b6e4-4751-bf9d-701ecd4e63fd",
        "colab": {
          "base_uri": "https://localhost:8080/",
          "height": 555
        }
      },
      "source": [
        "# Teste de verificação de duplicados pelo índice - 4ª linha de baixo para cima\n",
        "df_vacinacao.loc[2762404]"
      ],
      "execution_count": 21,
      "outputs": [
        {
          "output_type": "error",
          "ename": "KeyError",
          "evalue": "ignored",
          "traceback": [
            "\u001b[0;31m---------------------------------------------------------------------------\u001b[0m",
            "\u001b[0;31mKeyError\u001b[0m                                  Traceback (most recent call last)",
            "\u001b[0;32m/usr/local/lib/python3.7/dist-packages/pandas/core/indexes/base.py\u001b[0m in \u001b[0;36mget_loc\u001b[0;34m(self, key, method, tolerance)\u001b[0m\n\u001b[1;32m   2897\u001b[0m             \u001b[0;32mtry\u001b[0m\u001b[0;34m:\u001b[0m\u001b[0;34m\u001b[0m\u001b[0;34m\u001b[0m\u001b[0m\n\u001b[0;32m-> 2898\u001b[0;31m                 \u001b[0;32mreturn\u001b[0m \u001b[0mself\u001b[0m\u001b[0;34m.\u001b[0m\u001b[0m_engine\u001b[0m\u001b[0;34m.\u001b[0m\u001b[0mget_loc\u001b[0m\u001b[0;34m(\u001b[0m\u001b[0mcasted_key\u001b[0m\u001b[0;34m)\u001b[0m\u001b[0;34m\u001b[0m\u001b[0;34m\u001b[0m\u001b[0m\n\u001b[0m\u001b[1;32m   2899\u001b[0m             \u001b[0;32mexcept\u001b[0m \u001b[0mKeyError\u001b[0m \u001b[0;32mas\u001b[0m \u001b[0merr\u001b[0m\u001b[0;34m:\u001b[0m\u001b[0;34m\u001b[0m\u001b[0;34m\u001b[0m\u001b[0m\n",
            "\u001b[0;32mpandas/_libs/index.pyx\u001b[0m in \u001b[0;36mpandas._libs.index.IndexEngine.get_loc\u001b[0;34m()\u001b[0m\n",
            "\u001b[0;32mpandas/_libs/index.pyx\u001b[0m in \u001b[0;36mpandas._libs.index.IndexEngine.get_loc\u001b[0;34m()\u001b[0m\n",
            "\u001b[0;32mpandas/_libs/hashtable_class_helper.pxi\u001b[0m in \u001b[0;36mpandas._libs.hashtable.Int64HashTable.get_item\u001b[0;34m()\u001b[0m\n",
            "\u001b[0;32mpandas/_libs/hashtable_class_helper.pxi\u001b[0m in \u001b[0;36mpandas._libs.hashtable.Int64HashTable.get_item\u001b[0;34m()\u001b[0m\n",
            "\u001b[0;31mKeyError\u001b[0m: 2762404",
            "\nThe above exception was the direct cause of the following exception:\n",
            "\u001b[0;31mKeyError\u001b[0m                                  Traceback (most recent call last)",
            "\u001b[0;32m<ipython-input-21-6ed76a95f96a>\u001b[0m in \u001b[0;36m<module>\u001b[0;34m()\u001b[0m\n\u001b[1;32m      1\u001b[0m \u001b[0;31m# Teste de verificação de duplicados pelo índice\u001b[0m\u001b[0;34m\u001b[0m\u001b[0;34m\u001b[0m\u001b[0;34m\u001b[0m\u001b[0m\n\u001b[0;32m----> 2\u001b[0;31m \u001b[0mdf_vacinacao\u001b[0m\u001b[0;34m.\u001b[0m\u001b[0mloc\u001b[0m\u001b[0;34m[\u001b[0m\u001b[0;36m2762404\u001b[0m\u001b[0;34m]\u001b[0m\u001b[0;34m\u001b[0m\u001b[0;34m\u001b[0m\u001b[0m\n\u001b[0m",
            "\u001b[0;32m/usr/local/lib/python3.7/dist-packages/pandas/core/indexing.py\u001b[0m in \u001b[0;36m__getitem__\u001b[0;34m(self, key)\u001b[0m\n\u001b[1;32m    877\u001b[0m \u001b[0;34m\u001b[0m\u001b[0m\n\u001b[1;32m    878\u001b[0m             \u001b[0mmaybe_callable\u001b[0m \u001b[0;34m=\u001b[0m \u001b[0mcom\u001b[0m\u001b[0;34m.\u001b[0m\u001b[0mapply_if_callable\u001b[0m\u001b[0;34m(\u001b[0m\u001b[0mkey\u001b[0m\u001b[0;34m,\u001b[0m \u001b[0mself\u001b[0m\u001b[0;34m.\u001b[0m\u001b[0mobj\u001b[0m\u001b[0;34m)\u001b[0m\u001b[0;34m\u001b[0m\u001b[0;34m\u001b[0m\u001b[0m\n\u001b[0;32m--> 879\u001b[0;31m             \u001b[0;32mreturn\u001b[0m \u001b[0mself\u001b[0m\u001b[0;34m.\u001b[0m\u001b[0m_getitem_axis\u001b[0m\u001b[0;34m(\u001b[0m\u001b[0mmaybe_callable\u001b[0m\u001b[0;34m,\u001b[0m \u001b[0maxis\u001b[0m\u001b[0;34m=\u001b[0m\u001b[0maxis\u001b[0m\u001b[0;34m)\u001b[0m\u001b[0;34m\u001b[0m\u001b[0;34m\u001b[0m\u001b[0m\n\u001b[0m\u001b[1;32m    880\u001b[0m \u001b[0;34m\u001b[0m\u001b[0m\n\u001b[1;32m    881\u001b[0m     \u001b[0;32mdef\u001b[0m \u001b[0m_is_scalar_access\u001b[0m\u001b[0;34m(\u001b[0m\u001b[0mself\u001b[0m\u001b[0;34m,\u001b[0m \u001b[0mkey\u001b[0m\u001b[0;34m:\u001b[0m \u001b[0mTuple\u001b[0m\u001b[0;34m)\u001b[0m\u001b[0;34m:\u001b[0m\u001b[0;34m\u001b[0m\u001b[0;34m\u001b[0m\u001b[0m\n",
            "\u001b[0;32m/usr/local/lib/python3.7/dist-packages/pandas/core/indexing.py\u001b[0m in \u001b[0;36m_getitem_axis\u001b[0;34m(self, key, axis)\u001b[0m\n\u001b[1;32m   1108\u001b[0m         \u001b[0;31m# fall thru to straight lookup\u001b[0m\u001b[0;34m\u001b[0m\u001b[0;34m\u001b[0m\u001b[0;34m\u001b[0m\u001b[0m\n\u001b[1;32m   1109\u001b[0m         \u001b[0mself\u001b[0m\u001b[0;34m.\u001b[0m\u001b[0m_validate_key\u001b[0m\u001b[0;34m(\u001b[0m\u001b[0mkey\u001b[0m\u001b[0;34m,\u001b[0m \u001b[0maxis\u001b[0m\u001b[0;34m)\u001b[0m\u001b[0;34m\u001b[0m\u001b[0;34m\u001b[0m\u001b[0m\n\u001b[0;32m-> 1110\u001b[0;31m         \u001b[0;32mreturn\u001b[0m \u001b[0mself\u001b[0m\u001b[0;34m.\u001b[0m\u001b[0m_get_label\u001b[0m\u001b[0;34m(\u001b[0m\u001b[0mkey\u001b[0m\u001b[0;34m,\u001b[0m \u001b[0maxis\u001b[0m\u001b[0;34m=\u001b[0m\u001b[0maxis\u001b[0m\u001b[0;34m)\u001b[0m\u001b[0;34m\u001b[0m\u001b[0;34m\u001b[0m\u001b[0m\n\u001b[0m\u001b[1;32m   1111\u001b[0m \u001b[0;34m\u001b[0m\u001b[0m\n\u001b[1;32m   1112\u001b[0m     \u001b[0;32mdef\u001b[0m \u001b[0m_get_slice_axis\u001b[0m\u001b[0;34m(\u001b[0m\u001b[0mself\u001b[0m\u001b[0;34m,\u001b[0m \u001b[0mslice_obj\u001b[0m\u001b[0;34m:\u001b[0m \u001b[0mslice\u001b[0m\u001b[0;34m,\u001b[0m \u001b[0maxis\u001b[0m\u001b[0;34m:\u001b[0m \u001b[0mint\u001b[0m\u001b[0;34m)\u001b[0m\u001b[0;34m:\u001b[0m\u001b[0;34m\u001b[0m\u001b[0;34m\u001b[0m\u001b[0m\n",
            "\u001b[0;32m/usr/local/lib/python3.7/dist-packages/pandas/core/indexing.py\u001b[0m in \u001b[0;36m_get_label\u001b[0;34m(self, label, axis)\u001b[0m\n\u001b[1;32m   1057\u001b[0m     \u001b[0;32mdef\u001b[0m \u001b[0m_get_label\u001b[0m\u001b[0;34m(\u001b[0m\u001b[0mself\u001b[0m\u001b[0;34m,\u001b[0m \u001b[0mlabel\u001b[0m\u001b[0;34m,\u001b[0m \u001b[0maxis\u001b[0m\u001b[0;34m:\u001b[0m \u001b[0mint\u001b[0m\u001b[0;34m)\u001b[0m\u001b[0;34m:\u001b[0m\u001b[0;34m\u001b[0m\u001b[0;34m\u001b[0m\u001b[0m\n\u001b[1;32m   1058\u001b[0m         \u001b[0;31m# GH#5667 this will fail if the label is not present in the axis.\u001b[0m\u001b[0;34m\u001b[0m\u001b[0;34m\u001b[0m\u001b[0;34m\u001b[0m\u001b[0m\n\u001b[0;32m-> 1059\u001b[0;31m         \u001b[0;32mreturn\u001b[0m \u001b[0mself\u001b[0m\u001b[0;34m.\u001b[0m\u001b[0mobj\u001b[0m\u001b[0;34m.\u001b[0m\u001b[0mxs\u001b[0m\u001b[0;34m(\u001b[0m\u001b[0mlabel\u001b[0m\u001b[0;34m,\u001b[0m \u001b[0maxis\u001b[0m\u001b[0;34m=\u001b[0m\u001b[0maxis\u001b[0m\u001b[0;34m)\u001b[0m\u001b[0;34m\u001b[0m\u001b[0;34m\u001b[0m\u001b[0m\n\u001b[0m\u001b[1;32m   1060\u001b[0m \u001b[0;34m\u001b[0m\u001b[0m\n\u001b[1;32m   1061\u001b[0m     \u001b[0;32mdef\u001b[0m \u001b[0m_handle_lowerdim_multi_index_axis0\u001b[0m\u001b[0;34m(\u001b[0m\u001b[0mself\u001b[0m\u001b[0;34m,\u001b[0m \u001b[0mtup\u001b[0m\u001b[0;34m:\u001b[0m \u001b[0mTuple\u001b[0m\u001b[0;34m)\u001b[0m\u001b[0;34m:\u001b[0m\u001b[0;34m\u001b[0m\u001b[0;34m\u001b[0m\u001b[0m\n",
            "\u001b[0;32m/usr/local/lib/python3.7/dist-packages/pandas/core/generic.py\u001b[0m in \u001b[0;36mxs\u001b[0;34m(self, key, axis, level, drop_level)\u001b[0m\n\u001b[1;32m   3491\u001b[0m             \u001b[0mloc\u001b[0m\u001b[0;34m,\u001b[0m \u001b[0mnew_index\u001b[0m \u001b[0;34m=\u001b[0m \u001b[0mself\u001b[0m\u001b[0;34m.\u001b[0m\u001b[0mindex\u001b[0m\u001b[0;34m.\u001b[0m\u001b[0mget_loc_level\u001b[0m\u001b[0;34m(\u001b[0m\u001b[0mkey\u001b[0m\u001b[0;34m,\u001b[0m \u001b[0mdrop_level\u001b[0m\u001b[0;34m=\u001b[0m\u001b[0mdrop_level\u001b[0m\u001b[0;34m)\u001b[0m\u001b[0;34m\u001b[0m\u001b[0;34m\u001b[0m\u001b[0m\n\u001b[1;32m   3492\u001b[0m         \u001b[0;32melse\u001b[0m\u001b[0;34m:\u001b[0m\u001b[0;34m\u001b[0m\u001b[0;34m\u001b[0m\u001b[0m\n\u001b[0;32m-> 3493\u001b[0;31m             \u001b[0mloc\u001b[0m \u001b[0;34m=\u001b[0m \u001b[0mself\u001b[0m\u001b[0;34m.\u001b[0m\u001b[0mindex\u001b[0m\u001b[0;34m.\u001b[0m\u001b[0mget_loc\u001b[0m\u001b[0;34m(\u001b[0m\u001b[0mkey\u001b[0m\u001b[0;34m)\u001b[0m\u001b[0;34m\u001b[0m\u001b[0;34m\u001b[0m\u001b[0m\n\u001b[0m\u001b[1;32m   3494\u001b[0m \u001b[0;34m\u001b[0m\u001b[0m\n\u001b[1;32m   3495\u001b[0m             \u001b[0;32mif\u001b[0m \u001b[0misinstance\u001b[0m\u001b[0;34m(\u001b[0m\u001b[0mloc\u001b[0m\u001b[0;34m,\u001b[0m \u001b[0mnp\u001b[0m\u001b[0;34m.\u001b[0m\u001b[0mndarray\u001b[0m\u001b[0;34m)\u001b[0m\u001b[0;34m:\u001b[0m\u001b[0;34m\u001b[0m\u001b[0;34m\u001b[0m\u001b[0m\n",
            "\u001b[0;32m/usr/local/lib/python3.7/dist-packages/pandas/core/indexes/base.py\u001b[0m in \u001b[0;36mget_loc\u001b[0;34m(self, key, method, tolerance)\u001b[0m\n\u001b[1;32m   2898\u001b[0m                 \u001b[0;32mreturn\u001b[0m \u001b[0mself\u001b[0m\u001b[0;34m.\u001b[0m\u001b[0m_engine\u001b[0m\u001b[0;34m.\u001b[0m\u001b[0mget_loc\u001b[0m\u001b[0;34m(\u001b[0m\u001b[0mcasted_key\u001b[0m\u001b[0;34m)\u001b[0m\u001b[0;34m\u001b[0m\u001b[0;34m\u001b[0m\u001b[0m\n\u001b[1;32m   2899\u001b[0m             \u001b[0;32mexcept\u001b[0m \u001b[0mKeyError\u001b[0m \u001b[0;32mas\u001b[0m \u001b[0merr\u001b[0m\u001b[0;34m:\u001b[0m\u001b[0;34m\u001b[0m\u001b[0;34m\u001b[0m\u001b[0m\n\u001b[0;32m-> 2900\u001b[0;31m                 \u001b[0;32mraise\u001b[0m \u001b[0mKeyError\u001b[0m\u001b[0;34m(\u001b[0m\u001b[0mkey\u001b[0m\u001b[0;34m)\u001b[0m \u001b[0;32mfrom\u001b[0m \u001b[0merr\u001b[0m\u001b[0;34m\u001b[0m\u001b[0;34m\u001b[0m\u001b[0m\n\u001b[0m\u001b[1;32m   2901\u001b[0m \u001b[0;34m\u001b[0m\u001b[0m\n\u001b[1;32m   2902\u001b[0m         \u001b[0;32mif\u001b[0m \u001b[0mtolerance\u001b[0m \u001b[0;32mis\u001b[0m \u001b[0;32mnot\u001b[0m \u001b[0;32mNone\u001b[0m\u001b[0;34m:\u001b[0m\u001b[0;34m\u001b[0m\u001b[0;34m\u001b[0m\u001b[0m\n",
            "\u001b[0;31mKeyError\u001b[0m: 2762404"
          ]
        }
      ]
    },
    {
      "cell_type": "markdown",
      "metadata": {
        "id": "R_0vh7Hkn7-a"
      },
      "source": [
        "### Tratamento de valores nulos e/ou faltantes"
      ]
    },
    {
      "cell_type": "code",
      "metadata": {
        "id": "ocxA_HkDlNZB",
        "colab": {
          "base_uri": "https://localhost:8080/"
        },
        "outputId": "8103e749-4c63-4a50-9215-57b0cb7e5e3d"
      },
      "source": [
        "df_vacinacao.count()  # Quantidade de registros por coluna. \n",
        "                      # É possível observar que algumas colunas possuem quatidade inferior de registros, o que indica que será necessário \n",
        "                      # tratamento de dados se essas colunas forem necessárias para análise"
      ],
      "execution_count": 23,
      "outputs": [
        {
          "output_type": "execute_result",
          "data": {
            "text/plain": [
              "document_id                                 3497840\n",
              "paciente_id                                 3497840\n",
              "paciente_idade                              3497840\n",
              "paciente_dataNascimento                     3497840\n",
              "paciente_enumSexoBiologico                  3497840\n",
              "paciente_racaCor_codigo                     3497840\n",
              "paciente_racaCor_valor                      3497840\n",
              "paciente_endereco_coIbgeMunicipio           3479785\n",
              "paciente_endereco_coPais                    3479849\n",
              "paciente_endereco_nmMunicipio               3479818\n",
              "paciente_endereco_nmPais                    3479849\n",
              "paciente_endereco_uf                        3479785\n",
              "paciente_nacionalidade_enumNacionalidade    3492812\n",
              "estabelecimento_valor                       3497840\n",
              "estabelecimento_municipio_codigo            3497840\n",
              "estabelecimento_municipio_nome              3497840\n",
              "estabelecimento_uf                          3497840\n",
              "vacina_grupoAtendimento_codigo              3497840\n",
              "vacina_grupoAtendimento_nome                3454705\n",
              "vacina_categoria_codigo                     3454705\n",
              "vacina_categoria_nome                       3454705\n",
              "vacina_fabricante_nome                      3497640\n",
              "vacina_dataAplicacao                        3497840\n",
              "vacina_descricao_dose                       3497840\n",
              "vacina_nome                                 3497840\n",
              "data_importacao_rnds                        3497840\n",
              "dtype: int64"
            ]
          },
          "metadata": {
            "tags": []
          },
          "execution_count": 23
        }
      ]
    },
    {
      "cell_type": "code",
      "metadata": {
        "id": "qVZ0Xg_Qo8du"
      },
      "source": [
        "# As colunas listadas abaixo possuem valores nulos, à medida que o código de tratamento for inserido no Notebook, marcar a coluna como tratada\n",
        "# Ao final, se a coluna não for necessária, ela deverá ser retidada do Dataset e eliminada desta lista\n",
        "\n",
        "# paciente_endereco_coIbgeMunicipio           3511472\n",
        "# paciente_endereco_coPais                    3511536\n",
        "# paciente_endereco_nmMunicipio               3511505\n",
        "# paciente_endereco_nmPais                    3511536\n",
        "# paciente_endereco_uf                        3511472\n",
        "# paciente_nacionalidade_enumNacionalidade    3524563\n",
        "# vacina_grupoAtendimento_nome                3473167\n",
        "# vacina_categoria_codigo                     3473167 - colocar \"não informado\"\n",
        "# vacina_categoria_nome                       3473167 - colocar \"não informado\"\n",
        "# vacina_fabricante_nome                      3529442 - colocar \"não informado\"\n",
        "\n",
        "# paciente_idade - tratar idades fora da faixa e calcular pela data de nascimento\n"
      ],
      "execution_count": null,
      "outputs": []
    },
    {
      "cell_type": "code",
      "metadata": {
        "id": "YyuPRkK5uyl0",
        "colab": {
          "base_uri": "https://localhost:8080/"
        },
        "outputId": "dd04422a-1453-4c22-d4d9-1b3be3c28ead"
      },
      "source": [
        "# Campos identificados pelo Massao para tratamento de nulos, no entanto, não há mais valores nulos nestes campos\n",
        "# Se todos concordarem, podemos excluir esse bloco de código\n",
        "# Alessandra - concordo\n",
        "# Fabiane - concordo\n",
        "# Massao - \n",
        "\n",
        "print(df_vacinacao.estabelecimento_municipio_nome.isna().sum())\n",
        "print(df_vacinacao.estabelecimento_uf.isna().sum())                          \n",
        "print(df_vacinacao.paciente_enumSexoBiologico.isna().sum())\n",
        "print(df_vacinacao.paciente_racaCor_codigo.isna().sum())\n",
        "print(df_vacinacao.paciente_idade.isna().sum())"
      ],
      "execution_count": null,
      "outputs": [
        {
          "output_type": "stream",
          "text": [
            "0\n",
            "0\n",
            "0\n",
            "0\n",
            "0\n"
          ],
          "name": "stdout"
        }
      ]
    },
    {
      "cell_type": "code",
      "metadata": {
        "id": "WAdHK78uc0I3"
      },
      "source": [
        "#In Pandas missing data is represented by two value:\n",
        "    #None: None is a Python singleton object that is often used for missing data in Python code.\n",
        "    #NaN : NaN (an acronym for Not a Number), is a special floating-point value recognized by all systems that use the standard IEEE floating-point representation\n",
        "#Pandas treat None and NaN as essentially interchangeable for indicating missing or null values.\n",
        "\n",
        "#Número de registros (linhas) do arquivo antes da limpeza\n",
        "#index = df_vacinacao.index\n",
        "#num_linhas = len(index)\n",
        "#num_linhas #4536169\n",
        "\n",
        "#Contando o número de registros (linhas) com o campo \"paciente_endereco_nmMunicipio\" nulo\n",
        "#bool_series = pd.isnull(df_vacinacao[\"paciente_endereco_nmMunicipio\"])\n",
        "#df_vacinacao[bool_series]\n",
        "\n",
        "#Eliminando linhas em que o campo \"paciente_endereco_nmMunicipio\" for nulo\n",
        "#df_vacinacao = df_vacinacao.dropna(subset=['paciente_endereco_nmMunicipio'])\n",
        "#df_vacinacao = df_vacinacao.dropna(subset=['paciente_endereco_nmMunicipio', 'estabelecimento_municipio_nome'])\n"
      ],
      "execution_count": null,
      "outputs": []
    },
    {
      "cell_type": "code",
      "metadata": {
        "id": "D999RL3EJ2W0"
      },
      "source": [
        "# Código reprodutível\n",
        "# Incluir alguma validação em relaçao ao conteúdo das colunas que serão trabalhadas, usando o comando assert - ideia: valor mínimo, máximo ou média"
      ],
      "execution_count": null,
      "outputs": []
    },
    {
      "cell_type": "markdown",
      "metadata": {
        "id": "pr5uB2lEMAJe"
      },
      "source": [
        "###Tratamento da coluna **paciente_racaCor_codigo**"
      ]
    },
    {
      "cell_type": "code",
      "metadata": {
        "colab": {
          "base_uri": "https://localhost:8080/",
          "height": 67
        },
        "id": "IzSdEXFaME84",
        "outputId": "381b394c-994b-47b5-9934-44ac8b255b99"
      },
      "source": [
        "#df_vacinacao.query('paciente_racaCor_codigo not in [\"1\", \"2\", \"3\", \"4\", \"99\"]')\n",
        "\n",
        "#Aqui verificou-se a existência de outra raça/cor não contemplada no dicionário de dados:\n",
        "#raça/cor = 5 (indígena) com 77831 registros encontrados\n",
        "#df_vacinacao.query('paciente_racaCor_codigo  in [\"5\"]')\n",
        "\n",
        "#Aqui verificou-se que não existe ocorrência de valor de raça/cor diferente de \"1\", \"2\", \"3\", \"4\", \"5\", \"99\", logo nenhum tratamento foi preciso\n",
        "df_vacinacao.query('paciente_racaCor_codigo not in [\"1\", \"2\", \"3\", \"4\", \"5\", \"99\"]')"
      ],
      "execution_count": 24,
      "outputs": [
        {
          "output_type": "execute_result",
          "data": {
            "text/html": [
              "<div>\n",
              "<style scoped>\n",
              "    .dataframe tbody tr th:only-of-type {\n",
              "        vertical-align: middle;\n",
              "    }\n",
              "\n",
              "    .dataframe tbody tr th {\n",
              "        vertical-align: top;\n",
              "    }\n",
              "\n",
              "    .dataframe thead th {\n",
              "        text-align: right;\n",
              "    }\n",
              "</style>\n",
              "<table border=\"1\" class=\"dataframe\">\n",
              "  <thead>\n",
              "    <tr style=\"text-align: right;\">\n",
              "      <th></th>\n",
              "      <th>document_id</th>\n",
              "      <th>paciente_id</th>\n",
              "      <th>paciente_idade</th>\n",
              "      <th>paciente_dataNascimento</th>\n",
              "      <th>paciente_enumSexoBiologico</th>\n",
              "      <th>paciente_racaCor_codigo</th>\n",
              "      <th>paciente_racaCor_valor</th>\n",
              "      <th>paciente_endereco_coIbgeMunicipio</th>\n",
              "      <th>paciente_endereco_coPais</th>\n",
              "      <th>paciente_endereco_nmMunicipio</th>\n",
              "      <th>paciente_endereco_nmPais</th>\n",
              "      <th>paciente_endereco_uf</th>\n",
              "      <th>paciente_nacionalidade_enumNacionalidade</th>\n",
              "      <th>estabelecimento_valor</th>\n",
              "      <th>estabelecimento_municipio_codigo</th>\n",
              "      <th>estabelecimento_municipio_nome</th>\n",
              "      <th>estabelecimento_uf</th>\n",
              "      <th>vacina_grupoAtendimento_codigo</th>\n",
              "      <th>vacina_grupoAtendimento_nome</th>\n",
              "      <th>vacina_categoria_codigo</th>\n",
              "      <th>vacina_categoria_nome</th>\n",
              "      <th>vacina_fabricante_nome</th>\n",
              "      <th>vacina_dataAplicacao</th>\n",
              "      <th>vacina_descricao_dose</th>\n",
              "      <th>vacina_nome</th>\n",
              "      <th>data_importacao_rnds</th>\n",
              "    </tr>\n",
              "  </thead>\n",
              "  <tbody>\n",
              "  </tbody>\n",
              "</table>\n",
              "</div>"
            ],
            "text/plain": [
              "Empty DataFrame\n",
              "Columns: [document_id, paciente_id, paciente_idade, paciente_dataNascimento, paciente_enumSexoBiologico, paciente_racaCor_codigo, paciente_racaCor_valor, paciente_endereco_coIbgeMunicipio, paciente_endereco_coPais, paciente_endereco_nmMunicipio, paciente_endereco_nmPais, paciente_endereco_uf, paciente_nacionalidade_enumNacionalidade, estabelecimento_valor, estabelecimento_municipio_codigo, estabelecimento_municipio_nome, estabelecimento_uf, vacina_grupoAtendimento_codigo, vacina_grupoAtendimento_nome, vacina_categoria_codigo, vacina_categoria_nome, vacina_fabricante_nome, vacina_dataAplicacao, vacina_descricao_dose, vacina_nome, data_importacao_rnds]\n",
              "Index: []"
            ]
          },
          "metadata": {
            "tags": []
          },
          "execution_count": 24
        }
      ]
    },
    {
      "cell_type": "markdown",
      "metadata": {
        "id": "8MM9y82_QSOm"
      },
      "source": [
        "### Tratamento da coluna **paciente_idade**"
      ]
    },
    {
      "cell_type": "code",
      "metadata": {
        "id": "YT-9BuD-UA-0",
        "colab": {
          "base_uri": "https://localhost:8080/"
        },
        "outputId": "20195e06-5ce0-4e56-ae82-c4310728666c"
      },
      "source": [
        "print(df_vacinacao.paciente_idade.min())\n",
        "print(df_vacinacao.paciente_idade.max())\n",
        "print(df_vacinacao.paciente_idade.mean())"
      ],
      "execution_count": 25,
      "outputs": [
        {
          "output_type": "stream",
          "text": [
            "0.0\n",
            "221.0\n",
            "57.67220999245249\n"
          ],
          "name": "stdout"
        }
      ]
    },
    {
      "cell_type": "code",
      "metadata": {
        "id": "Dm7GbDa9XBn7",
        "colab": {
          "base_uri": "https://localhost:8080/"
        },
        "outputId": "1257c5b2-06c0-4164-ddb5-752c72624b30"
      },
      "source": [
        "df_idade_menor = df_vacinacao[(df_vacinacao.paciente_idade < 18.0)]\n",
        "len(df_idade_menor)"
      ],
      "execution_count": 26,
      "outputs": [
        {
          "output_type": "execute_result",
          "data": {
            "text/plain": [
              "1376"
            ]
          },
          "metadata": {
            "tags": []
          },
          "execution_count": 26
        }
      ]
    },
    {
      "cell_type": "code",
      "metadata": {
        "id": "BPvpsrhXXvVc",
        "colab": {
          "base_uri": "https://localhost:8080/"
        },
        "outputId": "c3cdf4eb-2842-4f07-87d9-e4ed38b34899"
      },
      "source": [
        "df_idade_menor['paciente_idade'].value_counts()"
      ],
      "execution_count": 27,
      "outputs": [
        {
          "output_type": "execute_result",
          "data": {
            "text/plain": [
              "17.0    770\n",
              "16.0    227\n",
              "15.0     76\n",
              "14.0     35\n",
              "12.0     31\n",
              "9.0      29\n",
              "10.0     25\n",
              "13.0     23\n",
              "11.0     22\n",
              "4.0      21\n",
              "8.0      18\n",
              "1.0      16\n",
              "7.0      15\n",
              "5.0      15\n",
              "6.0      15\n",
              "0.0      14\n",
              "3.0      13\n",
              "2.0      11\n",
              "Name: paciente_idade, dtype: int64"
            ]
          },
          "metadata": {
            "tags": []
          },
          "execution_count": 27
        }
      ]
    },
    {
      "cell_type": "code",
      "metadata": {
        "id": "hZGfHwKsYz0b",
        "colab": {
          "base_uri": "https://localhost:8080/"
        },
        "outputId": "f1520d63-298a-437e-d893-fdfbd5ca7438"
      },
      "source": [
        "df_idade_maior = df_vacinacao[(df_vacinacao.paciente_idade > 120.0)]\n",
        "len(df_idade_maior)\n"
      ],
      "execution_count": 28,
      "outputs": [
        {
          "output_type": "execute_result",
          "data": {
            "text/plain": [
              "1828"
            ]
          },
          "metadata": {
            "tags": []
          },
          "execution_count": 28
        }
      ]
    },
    {
      "cell_type": "code",
      "metadata": {
        "id": "hrEbjAuMO5Vr",
        "colab": {
          "base_uri": "https://localhost:8080/"
        },
        "outputId": "d26b53ed-5e8f-4d2a-f050-bbecd78747b7"
      },
      "source": [
        "df_idade_maior['paciente_idade'].value_counts()"
      ],
      "execution_count": 29,
      "outputs": [
        {
          "output_type": "execute_result",
          "data": {
            "text/plain": [
              "121.0    1817\n",
              "221.0       3\n",
              "127.0       2\n",
              "123.0       1\n",
              "126.0       1\n",
              "128.0       1\n",
              "164.0       1\n",
              "124.0       1\n",
              "122.0       1\n",
              "Name: paciente_idade, dtype: int64"
            ]
          },
          "metadata": {
            "tags": []
          },
          "execution_count": 29
        }
      ]
    },
    {
      "cell_type": "markdown",
      "metadata": {
        "id": "WiwjEymMP_Gw"
      },
      "source": [
        "## Análises"
      ]
    },
    {
      "cell_type": "code",
      "metadata": {
        "id": "ORLF9ytYc6Xx",
        "colab": {
          "base_uri": "https://localhost:8080/",
          "height": 1000
        },
        "outputId": "629bfeea-366e-4fa1-bf9a-1850ea2fa73f"
      },
      "source": [
        "# Vacinados fora dos seus Municípios de residência mas no mesmo Estado\n",
        "\n",
        "df_vacinacao.query('paciente_endereco_uf in [\"ES\", \"MG\", \"RJ\", \"SP\"] & paciente_endereco_uf == estabelecimento_uf & paciente_endereco_nmMunicipio != estabelecimento_municipio_nome')"
      ],
      "execution_count": 30,
      "outputs": [
        {
          "output_type": "execute_result",
          "data": {
            "text/html": [
              "<div>\n",
              "<style scoped>\n",
              "    .dataframe tbody tr th:only-of-type {\n",
              "        vertical-align: middle;\n",
              "    }\n",
              "\n",
              "    .dataframe tbody tr th {\n",
              "        vertical-align: top;\n",
              "    }\n",
              "\n",
              "    .dataframe thead th {\n",
              "        text-align: right;\n",
              "    }\n",
              "</style>\n",
              "<table border=\"1\" class=\"dataframe\">\n",
              "  <thead>\n",
              "    <tr style=\"text-align: right;\">\n",
              "      <th></th>\n",
              "      <th>document_id</th>\n",
              "      <th>paciente_id</th>\n",
              "      <th>paciente_idade</th>\n",
              "      <th>paciente_dataNascimento</th>\n",
              "      <th>paciente_enumSexoBiologico</th>\n",
              "      <th>paciente_racaCor_codigo</th>\n",
              "      <th>paciente_racaCor_valor</th>\n",
              "      <th>paciente_endereco_coIbgeMunicipio</th>\n",
              "      <th>paciente_endereco_coPais</th>\n",
              "      <th>paciente_endereco_nmMunicipio</th>\n",
              "      <th>paciente_endereco_nmPais</th>\n",
              "      <th>paciente_endereco_uf</th>\n",
              "      <th>paciente_nacionalidade_enumNacionalidade</th>\n",
              "      <th>estabelecimento_valor</th>\n",
              "      <th>estabelecimento_municipio_codigo</th>\n",
              "      <th>estabelecimento_municipio_nome</th>\n",
              "      <th>estabelecimento_uf</th>\n",
              "      <th>vacina_grupoAtendimento_codigo</th>\n",
              "      <th>vacina_grupoAtendimento_nome</th>\n",
              "      <th>vacina_categoria_codigo</th>\n",
              "      <th>vacina_categoria_nome</th>\n",
              "      <th>vacina_fabricante_nome</th>\n",
              "      <th>vacina_dataAplicacao</th>\n",
              "      <th>vacina_descricao_dose</th>\n",
              "      <th>vacina_nome</th>\n",
              "      <th>data_importacao_rnds</th>\n",
              "    </tr>\n",
              "  </thead>\n",
              "  <tbody>\n",
              "    <tr>\n",
              "      <th>1029695</th>\n",
              "      <td>97e7cbfe-cb62-4b5d-ace2-c125f5a870aa-i0b0</td>\n",
              "      <td>00001138697adba6248b948c0c34a09cda95077197bd07...</td>\n",
              "      <td>41.0</td>\n",
              "      <td>1979-08-27</td>\n",
              "      <td>M</td>\n",
              "      <td>1.0</td>\n",
              "      <td>BRANCA</td>\n",
              "      <td>352250.0</td>\n",
              "      <td>10.0</td>\n",
              "      <td>ITAPEVI</td>\n",
              "      <td>BRASIL</td>\n",
              "      <td>SP</td>\n",
              "      <td>B</td>\n",
              "      <td>7136889</td>\n",
              "      <td>350570.0</td>\n",
              "      <td>BARUERI</td>\n",
              "      <td>SP</td>\n",
              "      <td>926</td>\n",
              "      <td>Outros</td>\n",
              "      <td>9.0</td>\n",
              "      <td>Trabalhadores de Saúde</td>\n",
              "      <td>Sinovac</td>\n",
              "      <td>2021-01-25T00:00:00.000Z</td>\n",
              "      <td>1ª Dose</td>\n",
              "      <td>Covid-19-Coronavac-Sinovac/Butantan</td>\n",
              "      <td>2021-01-25 14:01:50</td>\n",
              "    </tr>\n",
              "    <tr>\n",
              "      <th>1201362</th>\n",
              "      <td>4b144b87-9333-4a6f-b5c1-4cf84440a046-i0b0</td>\n",
              "      <td>000044f1fe45b4114e222811aa12f58538b641ac8912ba...</td>\n",
              "      <td>33.0</td>\n",
              "      <td>1987-02-13</td>\n",
              "      <td>M</td>\n",
              "      <td>4.0</td>\n",
              "      <td>AMARELA</td>\n",
              "      <td>351640.0</td>\n",
              "      <td>10.0</td>\n",
              "      <td>FRANCO DA ROCHA</td>\n",
              "      <td>BRASIL</td>\n",
              "      <td>SP</td>\n",
              "      <td>B</td>\n",
              "      <td>2086328</td>\n",
              "      <td>352850.0</td>\n",
              "      <td>MAIRIPORA</td>\n",
              "      <td>SP</td>\n",
              "      <td>926</td>\n",
              "      <td>Outros</td>\n",
              "      <td>9.0</td>\n",
              "      <td>Trabalhadores de Saúde</td>\n",
              "      <td>AstraZeneca/Oxford</td>\n",
              "      <td>2021-01-29T00:00:00.000Z</td>\n",
              "      <td>1ª Dose</td>\n",
              "      <td>Vacina Covid-19 - Covishield</td>\n",
              "      <td>2021-01-29 15:01:00</td>\n",
              "    </tr>\n",
              "    <tr>\n",
              "      <th>1378697</th>\n",
              "      <td>e9881139-ddcc-4984-b8e5-a259261143b1-i0b0</td>\n",
              "      <td>000064cc996f9c07a1bc4bc2156f217b1b2cbe1bc64259...</td>\n",
              "      <td>24.0</td>\n",
              "      <td>1996-03-28</td>\n",
              "      <td>F</td>\n",
              "      <td>1.0</td>\n",
              "      <td>BRANCA</td>\n",
              "      <td>313670.0</td>\n",
              "      <td>10.0</td>\n",
              "      <td>JUIZ DE FORA</td>\n",
              "      <td>BRASIL</td>\n",
              "      <td>MG</td>\n",
              "      <td>B</td>\n",
              "      <td>2109476</td>\n",
              "      <td>310560.0</td>\n",
              "      <td>BARBACENA</td>\n",
              "      <td>MG</td>\n",
              "      <td>926</td>\n",
              "      <td>Outros</td>\n",
              "      <td>9.0</td>\n",
              "      <td>Trabalhadores de Saúde</td>\n",
              "      <td>FUNDACAO BUTANTAN</td>\n",
              "      <td>2021-01-22T03:00:00.000Z</td>\n",
              "      <td>1ª Dose</td>\n",
              "      <td>Covid-19-Coronavac-Sinovac/Butantan</td>\n",
              "      <td>2021-02-22 21:20:52</td>\n",
              "    </tr>\n",
              "    <tr>\n",
              "      <th>5336378</th>\n",
              "      <td>3bfbae1e-b2f9-40ca-a57c-751b671b8830-i0b0</td>\n",
              "      <td>00009ad2c9d2b43d0ac86d4c61e3e8b100a36c791ba257...</td>\n",
              "      <td>30.0</td>\n",
              "      <td>1990-07-23</td>\n",
              "      <td>F</td>\n",
              "      <td>4.0</td>\n",
              "      <td>AMARELA</td>\n",
              "      <td>354410.0</td>\n",
              "      <td>10.0</td>\n",
              "      <td>RIO GRANDE DA SERRA</td>\n",
              "      <td>BRASIL</td>\n",
              "      <td>SP</td>\n",
              "      <td>B</td>\n",
              "      <td>2044501</td>\n",
              "      <td>352940.0</td>\n",
              "      <td>MAUA</td>\n",
              "      <td>SP</td>\n",
              "      <td>926</td>\n",
              "      <td>Outros</td>\n",
              "      <td>9.0</td>\n",
              "      <td>Trabalhadores de Saúde</td>\n",
              "      <td>AstraZeneca/Oxford</td>\n",
              "      <td>2021-02-04T00:00:00.000Z</td>\n",
              "      <td>1ª Dose</td>\n",
              "      <td>Vacina Covid-19 - Covishield</td>\n",
              "      <td>2021-02-04 15:02:00</td>\n",
              "    </tr>\n",
              "    <tr>\n",
              "      <th>438620</th>\n",
              "      <td>4a27330d-f18d-47a4-ba8f-cd3c3130e34b-i0b0</td>\n",
              "      <td>0000d6cda89a9d7ee24c4a85b0046a6ec4a4aa7f9a6c73...</td>\n",
              "      <td>45.0</td>\n",
              "      <td>1975-04-14</td>\n",
              "      <td>F</td>\n",
              "      <td>1.0</td>\n",
              "      <td>BRANCA</td>\n",
              "      <td>355030.0</td>\n",
              "      <td>10.0</td>\n",
              "      <td>SAO PAULO</td>\n",
              "      <td>BRASIL</td>\n",
              "      <td>SP</td>\n",
              "      <td>B</td>\n",
              "      <td>7269021</td>\n",
              "      <td>352590.0</td>\n",
              "      <td>JUNDIAI</td>\n",
              "      <td>SP</td>\n",
              "      <td>926</td>\n",
              "      <td>Outros</td>\n",
              "      <td>9.0</td>\n",
              "      <td>Trabalhadores de Saúde</td>\n",
              "      <td>Sinovac</td>\n",
              "      <td>2021-02-05T00:00:00.000Z</td>\n",
              "      <td>1ª Dose</td>\n",
              "      <td>Covid-19-Coronavac-Sinovac/Butantan</td>\n",
              "      <td>2021-02-05 11:02:08</td>\n",
              "    </tr>\n",
              "    <tr>\n",
              "      <th>...</th>\n",
              "      <td>...</td>\n",
              "      <td>...</td>\n",
              "      <td>...</td>\n",
              "      <td>...</td>\n",
              "      <td>...</td>\n",
              "      <td>...</td>\n",
              "      <td>...</td>\n",
              "      <td>...</td>\n",
              "      <td>...</td>\n",
              "      <td>...</td>\n",
              "      <td>...</td>\n",
              "      <td>...</td>\n",
              "      <td>...</td>\n",
              "      <td>...</td>\n",
              "      <td>...</td>\n",
              "      <td>...</td>\n",
              "      <td>...</td>\n",
              "      <td>...</td>\n",
              "      <td>...</td>\n",
              "      <td>...</td>\n",
              "      <td>...</td>\n",
              "      <td>...</td>\n",
              "      <td>...</td>\n",
              "      <td>...</td>\n",
              "      <td>...</td>\n",
              "      <td>...</td>\n",
              "    </tr>\n",
              "    <tr>\n",
              "      <th>7413173</th>\n",
              "      <td>d111e157-11d6-423b-81d9-0a6d4dca252f-i0b0</td>\n",
              "      <td>fffeec0b7112a2fe0dfc5bd164869d3459841436b0f664...</td>\n",
              "      <td>57.0</td>\n",
              "      <td>1963-10-05</td>\n",
              "      <td>F</td>\n",
              "      <td>99.0</td>\n",
              "      <td>SEM INFORMACAO</td>\n",
              "      <td>355030.0</td>\n",
              "      <td>10.0</td>\n",
              "      <td>SAO PAULO</td>\n",
              "      <td>BRASIL</td>\n",
              "      <td>SP</td>\n",
              "      <td>B</td>\n",
              "      <td>2072327</td>\n",
              "      <td>351880.0</td>\n",
              "      <td>GUARULHOS</td>\n",
              "      <td>SP</td>\n",
              "      <td>926</td>\n",
              "      <td>Outros</td>\n",
              "      <td>9.0</td>\n",
              "      <td>Trabalhadores de Saúde</td>\n",
              "      <td>Sinovac</td>\n",
              "      <td>2021-02-18T00:00:00.000Z</td>\n",
              "      <td>1ª Dose</td>\n",
              "      <td>Covid-19-Coronavac-Sinovac/Butantan</td>\n",
              "      <td>2021-02-18 03:00:00</td>\n",
              "    </tr>\n",
              "    <tr>\n",
              "      <th>3054380</th>\n",
              "      <td>b7fa84d7-bb3e-44b4-ad5b-5781966caed7-i0b0</td>\n",
              "      <td>ffff2d5652ff84e55c5359640b64ec15336d108a1b1318...</td>\n",
              "      <td>21.0</td>\n",
              "      <td>1999-06-18</td>\n",
              "      <td>M</td>\n",
              "      <td>1.0</td>\n",
              "      <td>BRANCA</td>\n",
              "      <td>351500.0</td>\n",
              "      <td>10.0</td>\n",
              "      <td>EMBU DAS ARTES</td>\n",
              "      <td>BRASIL</td>\n",
              "      <td>SP</td>\n",
              "      <td>B</td>\n",
              "      <td>2063778</td>\n",
              "      <td>355280.0</td>\n",
              "      <td>TABOAO DA SERRA</td>\n",
              "      <td>SP</td>\n",
              "      <td>926</td>\n",
              "      <td>Outros</td>\n",
              "      <td>9.0</td>\n",
              "      <td>Trabalhadores de Saúde</td>\n",
              "      <td>Sinovac</td>\n",
              "      <td>2021-02-01T00:00:00.000Z</td>\n",
              "      <td>1ª Dose</td>\n",
              "      <td>Covid-19-Coronavac-Sinovac/Butantan</td>\n",
              "      <td>2021-02-01 15:02:00</td>\n",
              "    </tr>\n",
              "    <tr>\n",
              "      <th>1303890</th>\n",
              "      <td>ac5596a6-f537-47b7-811f-40f3536fb2ae-i0b0</td>\n",
              "      <td>ffff3b16bbae8003cca4c61cdc2cd618c82897565d7869...</td>\n",
              "      <td>26.0</td>\n",
              "      <td>1994-04-17</td>\n",
              "      <td>F</td>\n",
              "      <td>1.0</td>\n",
              "      <td>BRANCA</td>\n",
              "      <td>353110.0</td>\n",
              "      <td>10.0</td>\n",
              "      <td>MONGAGUA</td>\n",
              "      <td>BRASIL</td>\n",
              "      <td>SP</td>\n",
              "      <td>B</td>\n",
              "      <td>2025752</td>\n",
              "      <td>354850.0</td>\n",
              "      <td>SANTOS</td>\n",
              "      <td>SP</td>\n",
              "      <td>926</td>\n",
              "      <td>Outros</td>\n",
              "      <td>9.0</td>\n",
              "      <td>Trabalhadores de Saúde</td>\n",
              "      <td>Sinovac</td>\n",
              "      <td>2021-01-25T00:00:00.000Z</td>\n",
              "      <td>1ª Dose</td>\n",
              "      <td>Covid-19-Coronavac-Sinovac/Butantan</td>\n",
              "      <td>2021-01-25 10:01:31</td>\n",
              "    </tr>\n",
              "    <tr>\n",
              "      <th>3362635</th>\n",
              "      <td>f4e048df-6de6-476e-a1a0-31520190f7a1-i0b0</td>\n",
              "      <td>ffff4456a8d6fc335677a22bb3c7ba8846a83abd856309...</td>\n",
              "      <td>45.0</td>\n",
              "      <td>1975-02-20</td>\n",
              "      <td>M</td>\n",
              "      <td>99.0</td>\n",
              "      <td>SEM INFORMACAO</td>\n",
              "      <td>351640.0</td>\n",
              "      <td>10.0</td>\n",
              "      <td>FRANCO DA ROCHA</td>\n",
              "      <td>BRASIL</td>\n",
              "      <td>SP</td>\n",
              "      <td>B</td>\n",
              "      <td>2079186</td>\n",
              "      <td>355030.0</td>\n",
              "      <td>SAO PAULO</td>\n",
              "      <td>SP</td>\n",
              "      <td>926</td>\n",
              "      <td>Outros</td>\n",
              "      <td>9.0</td>\n",
              "      <td>Trabalhadores de Saúde</td>\n",
              "      <td>Sinovac</td>\n",
              "      <td>2021-01-20T00:00:00.000Z</td>\n",
              "      <td>1ª Dose</td>\n",
              "      <td>Covid-19-Coronavac-Sinovac/Butantan</td>\n",
              "      <td>2021-01-20 15:01:00</td>\n",
              "    </tr>\n",
              "    <tr>\n",
              "      <th>3280630</th>\n",
              "      <td>3bec530f-037c-4ce9-b45c-64552e108d60-i0b0</td>\n",
              "      <td>ffff7cebb313933caaa16137d981aef984f41c1657b25d...</td>\n",
              "      <td>26.0</td>\n",
              "      <td>1994-10-13</td>\n",
              "      <td>F</td>\n",
              "      <td>1.0</td>\n",
              "      <td>BRANCA</td>\n",
              "      <td>355280.0</td>\n",
              "      <td>10.0</td>\n",
              "      <td>TABOAO DA SERRA</td>\n",
              "      <td>BRASIL</td>\n",
              "      <td>SP</td>\n",
              "      <td>B</td>\n",
              "      <td>2746468</td>\n",
              "      <td>351300.0</td>\n",
              "      <td>COTIA</td>\n",
              "      <td>SP</td>\n",
              "      <td>926</td>\n",
              "      <td>Outros</td>\n",
              "      <td>9.0</td>\n",
              "      <td>Trabalhadores de Saúde</td>\n",
              "      <td>Sinovac</td>\n",
              "      <td>2021-02-04T00:00:00.000Z</td>\n",
              "      <td>1ª Dose</td>\n",
              "      <td>Covid-19-Coronavac-Sinovac/Butantan</td>\n",
              "      <td>2021-02-04 12:02:53</td>\n",
              "    </tr>\n",
              "  </tbody>\n",
              "</table>\n",
              "<p>557120 rows × 26 columns</p>\n",
              "</div>"
            ],
            "text/plain": [
              "                                       document_id  ... data_importacao_rnds\n",
              "1029695  97e7cbfe-cb62-4b5d-ace2-c125f5a870aa-i0b0  ...  2021-01-25 14:01:50\n",
              "1201362  4b144b87-9333-4a6f-b5c1-4cf84440a046-i0b0  ...  2021-01-29 15:01:00\n",
              "1378697  e9881139-ddcc-4984-b8e5-a259261143b1-i0b0  ...  2021-02-22 21:20:52\n",
              "5336378  3bfbae1e-b2f9-40ca-a57c-751b671b8830-i0b0  ...  2021-02-04 15:02:00\n",
              "438620   4a27330d-f18d-47a4-ba8f-cd3c3130e34b-i0b0  ...  2021-02-05 11:02:08\n",
              "...                                            ...  ...                  ...\n",
              "7413173  d111e157-11d6-423b-81d9-0a6d4dca252f-i0b0  ...  2021-02-18 03:00:00\n",
              "3054380  b7fa84d7-bb3e-44b4-ad5b-5781966caed7-i0b0  ...  2021-02-01 15:02:00\n",
              "1303890  ac5596a6-f537-47b7-811f-40f3536fb2ae-i0b0  ...  2021-01-25 10:01:31\n",
              "3362635  f4e048df-6de6-476e-a1a0-31520190f7a1-i0b0  ...  2021-01-20 15:01:00\n",
              "3280630  3bec530f-037c-4ce9-b45c-64552e108d60-i0b0  ...  2021-02-04 12:02:53\n",
              "\n",
              "[557120 rows x 26 columns]"
            ]
          },
          "metadata": {
            "tags": []
          },
          "execution_count": 30
        }
      ]
    },
    {
      "cell_type": "code",
      "metadata": {
        "id": "ZUAEBBY1k5N1",
        "colab": {
          "base_uri": "https://localhost:8080/"
        },
        "outputId": "2221e34d-7a94-4ceb-e55f-e8bfb4bc65c4"
      },
      "source": [
        "# Quantitativo Total de Vacinados por Sexo Biológico\n",
        "\n",
        "df_vacinacao['paciente_enumSexoBiologico'].value_counts()"
      ],
      "execution_count": 31,
      "outputs": [
        {
          "output_type": "execute_result",
          "data": {
            "text/plain": [
              "F    2357778\n",
              "M    1140056\n",
              "I          6\n",
              "Name: paciente_enumSexoBiologico, dtype: int64"
            ]
          },
          "metadata": {
            "tags": []
          },
          "execution_count": 31
        }
      ]
    },
    {
      "cell_type": "code",
      "metadata": {
        "id": "vkaSanFYmlMu",
        "colab": {
          "base_uri": "https://localhost:8080/",
          "height": 292
        },
        "outputId": "04c78f0f-1bfb-4311-d23e-9d06cde69eb4"
      },
      "source": [
        "%matplotlib inline\n",
        "df_vacinacao['paciente_enumSexoBiologico'].value_counts().plot.bar()"
      ],
      "execution_count": 32,
      "outputs": [
        {
          "output_type": "execute_result",
          "data": {
            "text/plain": [
              "<matplotlib.axes._subplots.AxesSubplot at 0x7f65d73fd850>"
            ]
          },
          "metadata": {
            "tags": []
          },
          "execution_count": 32
        },
        {
          "output_type": "display_data",
          "data": {
            "image/png": "[encoded data removed]",
            "text/plain": [
              "<Figure size 432x288 with 1 Axes>"
            ]
          },
          "metadata": {
            "tags": [],
            "needs_background": "light"
          }
        }
      ]
    },
    {
      "cell_type": "code",
      "metadata": {
        "id": "YJUr3iY0mDkW",
        "colab": {
          "base_uri": "https://localhost:8080/"
        },
        "outputId": "c8d83a94-38af-40e2-e0e3-a78926b834b7"
      },
      "source": [
        "# Quantitativo Total de Vacinados por Raça\n",
        "\n",
        "df_vacinacao['paciente_racaCor_valor'].value_counts()"
      ],
      "execution_count": 33,
      "outputs": [
        {
          "output_type": "execute_result",
          "data": {
            "text/plain": [
              "BRANCA            1369710\n",
              "SEM INFORMACAO    1115435\n",
              "PARDA              508551\n",
              "AMARELA            314209\n",
              "PRETA              129471\n",
              "INDIGENA            60464\n",
              "Name: paciente_racaCor_valor, dtype: int64"
            ]
          },
          "metadata": {
            "tags": []
          },
          "execution_count": 33
        }
      ]
    },
    {
      "cell_type": "code",
      "metadata": {
        "id": "_oOwSBqQnPuC",
        "colab": {
          "base_uri": "https://localhost:8080/",
          "height": 375
        },
        "outputId": "13166bc3-5fb8-474e-870b-dd620829810c"
      },
      "source": [
        "df_vacinacao['paciente_racaCor_valor'].value_counts().plot.bar()"
      ],
      "execution_count": 34,
      "outputs": [
        {
          "output_type": "execute_result",
          "data": {
            "text/plain": [
              "<matplotlib.axes._subplots.AxesSubplot at 0x7f65d794c1d0>"
            ]
          },
          "metadata": {
            "tags": []
          },
          "execution_count": 34
        },
        {
          "output_type": "display_data",
          "data": {
            "image/png": "[encoded data removed]",
            "text/plain": [
              "<Figure size 432x288 with 1 Axes>"
            ]
          },
          "metadata": {
            "tags": [],
            "needs_background": "light"
          }
        }
      ]
    },
    {
      "cell_type": "code",
      "metadata": {
        "id": "UlUDZReNszpA",
        "colab": {
          "base_uri": "https://localhost:8080/"
        },
        "outputId": "8fafd456-76be-4f8e-bc1c-fafaeedf45a3"
      },
      "source": [
        "# Quantitativo Total de Vacinados por Categoria\n",
        "\n",
        "df_vacinacao['vacina_categoria_nome'].value_counts()"
      ],
      "execution_count": 35,
      "outputs": [
        {
          "output_type": "execute_result",
          "data": {
            "text/plain": [
              "Trabalhadores de Saúde                             1937488\n",
              "Faixa Etária                                       1343770\n",
              "Povos Indígenas                                      85177\n",
              "Pessoas de 60 anos ou mais institucionalizadas       69791\n",
              "Pessoas com Deficiência                               8485\n",
              "Povos e Comunidades Tradicionais                      7141\n",
              "Forças de Segurança e Salvamento                      1291\n",
              "Comorbidades                                           852\n",
              "Pessoas em Situação de Rua                             218\n",
              "Forças Armadas (membros ativos)                        183\n",
              "Trabalhadores da Educação                              147\n",
              "Funcionário do Sistema de Privação de Liberdade         98\n",
              "População Privada de Liberdade                          34\n",
              "Trabalhadores Industriais                               24\n",
              "Trabalhadores Portuários                                 6\n",
              "Name: vacina_categoria_nome, dtype: int64"
            ]
          },
          "metadata": {
            "tags": []
          },
          "execution_count": 35
        }
      ]
    },
    {
      "cell_type": "code",
      "metadata": {
        "id": "BUmyuQwXs0hX",
        "colab": {
          "base_uri": "https://localhost:8080/",
          "height": 530
        },
        "outputId": "552924aa-2d01-4da6-9563-6cfd85bad968"
      },
      "source": [
        "df_vacinacao['vacina_categoria_nome'].value_counts().plot.bar()"
      ],
      "execution_count": 36,
      "outputs": [
        {
          "output_type": "execute_result",
          "data": {
            "text/plain": [
              "<matplotlib.axes._subplots.AxesSubplot at 0x7f65d7ef88d0>"
            ]
          },
          "metadata": {
            "tags": []
          },
          "execution_count": 36
        },
        {
          "output_type": "display_data",
          "data": {
            "image/png": "[encoded data removed]",
            "text/plain": [
              "<Figure size 432x288 with 1 Axes>"
            ]
          },
          "metadata": {
            "tags": [],
            "needs_background": "light"
          }
        }
      ]
    },
    {
      "cell_type": "code",
      "metadata": {
        "id": "iqEY9qsuvVXi",
        "colab": {
          "base_uri": "https://localhost:8080/"
        },
        "outputId": "5046a978-f30c-48be-de8b-ae555667c027"
      },
      "source": [
        "# Quantitativo Total de Vacinados por Fabricante\n",
        "\n",
        "df_vacinacao['vacina_fabricante_nome'].value_counts()"
      ],
      "execution_count": 37,
      "outputs": [
        {
          "output_type": "execute_result",
          "data": {
            "text/plain": [
              "Sinovac                             1297758\n",
              "FUNDACAO BUTANTAN                    921139\n",
              "AstraZeneca/Oxford                   671479\n",
              "FUNDACAO OSWALDO CRUZ                427405\n",
              "University of Oxford/AstraZeneca      67106\n",
              "Butantan/Sinovac                      52875\n",
              "SERUM INSTITUTE OF INDIA LTD          41844\n",
              "SINOVAC LIFE SCIENCE CO LTD           18022\n",
              "BioNTech/Fosun Pharma/Pfizer             12\n",
              "Name: vacina_fabricante_nome, dtype: int64"
            ]
          },
          "metadata": {
            "tags": []
          },
          "execution_count": 37
        }
      ]
    },
    {
      "cell_type": "code",
      "metadata": {
        "id": "xNrWHHhrvWCF",
        "colab": {
          "base_uri": "https://localhost:8080/",
          "height": 450
        },
        "outputId": "2352cedb-46a3-4043-a8fa-575209afb527"
      },
      "source": [
        "df_vacinacao['vacina_fabricante_nome'].value_counts().plot.bar()"
      ],
      "execution_count": 38,
      "outputs": [
        {
          "output_type": "execute_result",
          "data": {
            "text/plain": [
              "<matplotlib.axes._subplots.AxesSubplot at 0x7f65d83bd090>"
            ]
          },
          "metadata": {
            "tags": []
          },
          "execution_count": 38
        },
        {
          "output_type": "display_data",
          "data": {
            "image/png": "[encoded data removed]",
            "text/plain": [
              "<Figure size 432x288 with 1 Axes>"
            ]
          },
          "metadata": {
            "tags": [],
            "needs_background": "light"
          }
        }
      ]
    },
    {
      "cell_type": "markdown",
      "metadata": {
        "id": "JEa8-YJNn2V5"
      },
      "source": [
        "##Teste inicial de gráfico"
      ]
    },
    {
      "cell_type": "code",
      "metadata": {
        "id": "VOUyaaQjlQ7k",
        "colab": {
          "base_uri": "https://localhost:8080/",
          "height": 296
        },
        "outputId": "c501fe2b-4827-4f32-c71a-5d93f4245843"
      },
      "source": [
        "# Plot 'Idade' variable in a histogram\n",
        "\n",
        "pd.DataFrame.hist(df_vacinacao[['paciente_idade']])\n",
        "\n",
        "plt.xlabel('paciente_idade (years)')\n",
        "\n",
        "plt.ylabel('count')\n",
        "\n",
        "plt.show()"
      ],
      "execution_count": 39,
      "outputs": [
        {
          "output_type": "display_data",
          "data": {
            "image/png": "[encoded data removed]",
            "text/plain": [
              "<Figure size 432x288 with 1 Axes>"
            ]
          },
          "metadata": {
            "tags": [],
            "needs_background": "light"
          }
        }
      ]
    },
    {
      "cell_type": "markdown",
      "metadata": {
        "id": "wDhQAv0Fnrjj"
      },
      "source": [
        ""
      ]
    },
    {
      "cell_type": "markdown",
      "metadata": {
        "id": "8shZ0BHsnGHv"
      },
      "source": [
        "## Importação e tratamento do Dataset de Estabelecimentos de Saúde (CNES)"
      ]
    },
    {
      "cell_type": "code",
      "metadata": {
        "id": "bRA784AdH7WU"
      },
      "source": [
        "# Salve o dataset de CNES no diretório TESI_FCD no Google Drive\n",
        "# Para tornar o notebook reutilizável, futuramente pode-se solicitar o diretório e o nome do dataset via prompt.\n",
        "\n",
        "df_cnes = pd.read_csv('/content/drive/My Drive/TESI_FCD/cnes_ativonone.csv',delimiter=',')"
      ],
      "execution_count": 40,
      "outputs": []
    },
    {
      "cell_type": "markdown",
      "metadata": {
        "id": "ia_ML5clHZ9m"
      },
      "source": [
        "### Exploração inicial do DataSet de Estabelecimentos de Saúde (CNES)"
      ]
    },
    {
      "cell_type": "code",
      "metadata": {
        "id": "jXDoabhOKo1i"
      },
      "source": [
        "# Código reprodutível\n",
        "# assert len(df_cnes) == 354804"
      ],
      "execution_count": null,
      "outputs": []
    },
    {
      "cell_type": "code",
      "metadata": {
        "colab": {
          "base_uri": "https://localhost:8080/"
        },
        "id": "-cF3STChI86E",
        "outputId": "5641f8ff-49a2-43eb-e03f-f52003503320"
      },
      "source": [
        "print('Total de registros:',len(df_cnes))    # Quantidade de registros do dataset\n",
        "print('')\n",
        "print(df_cnes.info())                        # Informações sobre o dataset \n",
        "\n",
        "# Observe o total de linhas e o total de colunas (12) do dataset"
      ],
      "execution_count": 41,
      "outputs": [
        {
          "output_type": "stream",
          "text": [
            "Total de registros: 354804\n",
            "\n",
            "<class 'pandas.core.frame.DataFrame'>\n",
            "RangeIndex: 354804 entries, 0 to 354803\n",
            "Data columns (total 12 columns):\n",
            " #   Column           Non-Null Count   Dtype \n",
            "---  ------           --------------   ----- \n",
            " 0   co_cnes          354804 non-null  int64 \n",
            " 1   co_ibge          354804 non-null  int64 \n",
            " 2   no_fantasia      354796 non-null  object\n",
            " 3   ds_tipo_unidade  354804 non-null  object\n",
            " 4   tp_gestao        354804 non-null  object\n",
            " 5   no_logradouro    354804 non-null  object\n",
            " 6   nu_endereco      354517 non-null  object\n",
            " 7   no_bairro        354801 non-null  object\n",
            " 8   co_cep           354804 non-null  int64 \n",
            " 9   uf               354434 non-null  object\n",
            " 10  municipio        354434 non-null  object\n",
            " 11  nu_telefone      279394 non-null  object\n",
            "dtypes: int64(3), object(9)\n",
            "memory usage: 32.5+ MB\n",
            "None\n"
          ],
          "name": "stdout"
        }
      ]
    },
    {
      "cell_type": "code",
      "metadata": {
        "colab": {
          "base_uri": "https://localhost:8080/",
          "height": 614
        },
        "id": "LiqEod5FI92L",
        "outputId": "c6518ddb-307f-4d7f-dc91-7f2ea361b511"
      },
      "source": [
        "df_cnes.head(10)        # Visualização dos registros iniciais"
      ],
      "execution_count": null,
      "outputs": [
        {
          "output_type": "execute_result",
          "data": {
            "text/html": [
              "<div>\n",
              "<style scoped>\n",
              "    .dataframe tbody tr th:only-of-type {\n",
              "        vertical-align: middle;\n",
              "    }\n",
              "\n",
              "    .dataframe tbody tr th {\n",
              "        vertical-align: top;\n",
              "    }\n",
              "\n",
              "    .dataframe thead th {\n",
              "        text-align: right;\n",
              "    }\n",
              "</style>\n",
              "<table border=\"1\" class=\"dataframe\">\n",
              "  <thead>\n",
              "    <tr style=\"text-align: right;\">\n",
              "      <th></th>\n",
              "      <th>co_cnes</th>\n",
              "      <th>co_ibge</th>\n",
              "      <th>no_fantasia</th>\n",
              "      <th>ds_tipo_unidade</th>\n",
              "      <th>tp_gestao</th>\n",
              "      <th>no_logradouro</th>\n",
              "      <th>nu_endereco</th>\n",
              "      <th>no_bairro</th>\n",
              "      <th>co_cep</th>\n",
              "      <th>uf</th>\n",
              "      <th>municipio</th>\n",
              "      <th>nu_telefone</th>\n",
              "    </tr>\n",
              "  </thead>\n",
              "  <tbody>\n",
              "    <tr>\n",
              "      <th>0</th>\n",
              "      <td>6577687</td>\n",
              "      <td>292240</td>\n",
              "      <td>SECRETARIA DE SAUDE DE MUTUIPE</td>\n",
              "      <td>CENTRAL DE GESTAO EM SAUDE</td>\n",
              "      <td>M</td>\n",
              "      <td>RUA RUY BARBOSA</td>\n",
              "      <td>S/N</td>\n",
              "      <td>CENTRO</td>\n",
              "      <td>45480000</td>\n",
              "      <td>BA</td>\n",
              "      <td>Mutuípe</td>\n",
              "      <td>NaN</td>\n",
              "    </tr>\n",
              "    <tr>\n",
              "      <th>1</th>\n",
              "      <td>6578500</td>\n",
              "      <td>500210</td>\n",
              "      <td>REABILIT CONSULTORIO DE FISIOTERAPIA</td>\n",
              "      <td>CLINICA/CENTRO DE ESPECIALIDADE</td>\n",
              "      <td>M</td>\n",
              "      <td>ALMIRANTE BARROSO</td>\n",
              "      <td>S/N</td>\n",
              "      <td>CENTRO</td>\n",
              "      <td>79260000</td>\n",
              "      <td>MS</td>\n",
              "      <td>Bela Vista</td>\n",
              "      <td>NaN</td>\n",
              "    </tr>\n",
              "    <tr>\n",
              "      <th>2</th>\n",
              "      <td>6577725</td>\n",
              "      <td>355660</td>\n",
              "      <td>SECRETARIA MUNICIPAL DE SAUDE E HIGIENE DE VER...</td>\n",
              "      <td>CENTRAL DE GESTAO EM SAUDE</td>\n",
              "      <td>M</td>\n",
              "      <td>RUA PAULO GUERREIRO FRANCO</td>\n",
              "      <td>997</td>\n",
              "      <td>CENTRO</td>\n",
              "      <td>17560000</td>\n",
              "      <td>SP</td>\n",
              "      <td>Vera Cruz</td>\n",
              "      <td>NaN</td>\n",
              "    </tr>\n",
              "    <tr>\n",
              "      <th>3</th>\n",
              "      <td>6577733</td>\n",
              "      <td>355410</td>\n",
              "      <td>CONS SERGIO LUIZ TEIXEIRA M PERES</td>\n",
              "      <td>CONSULTORIO ISOLADO</td>\n",
              "      <td>M</td>\n",
              "      <td>PCA MONS SILVA BARROS</td>\n",
              "      <td>254</td>\n",
              "      <td>CENTRO</td>\n",
              "      <td>12020070</td>\n",
              "      <td>SP</td>\n",
              "      <td>Taubaté</td>\n",
              "      <td>36351489</td>\n",
              "    </tr>\n",
              "    <tr>\n",
              "      <th>4</th>\n",
              "      <td>6577768</td>\n",
              "      <td>410490</td>\n",
              "      <td>LABORATORIO DOFF SOTTA</td>\n",
              "      <td>UNIDADE DE APOIO DIAGNOSE E TERAPIA (SADT ISOL...</td>\n",
              "      <td>M</td>\n",
              "      <td>RUA DR JORGE XAVIER DA SILVA</td>\n",
              "      <td>1078</td>\n",
              "      <td>CENTRO</td>\n",
              "      <td>84165000</td>\n",
              "      <td>PR</td>\n",
              "      <td>Castro</td>\n",
              "      <td>3232-4854</td>\n",
              "    </tr>\n",
              "    <tr>\n",
              "      <th>5</th>\n",
              "      <td>6577806</td>\n",
              "      <td>420245</td>\n",
              "      <td>SAMU BOMBINHAS</td>\n",
              "      <td>UNIDADE MOVEL DE NIVEL PRE-HOSPITALAR NA AREA ...</td>\n",
              "      <td>M</td>\n",
              "      <td>RUA CACHALOTE</td>\n",
              "      <td>589</td>\n",
              "      <td>MORRINHOS</td>\n",
              "      <td>88215000</td>\n",
              "      <td>SC</td>\n",
              "      <td>Bombinhas</td>\n",
              "      <td>33934363</td>\n",
              "    </tr>\n",
              "    <tr>\n",
              "      <th>6</th>\n",
              "      <td>6577830</td>\n",
              "      <td>240260</td>\n",
              "      <td>CENTRO DE ATENCAO PSICOSSOCIAL CAPS II</td>\n",
              "      <td>CENTRO DE ATENCAO PSICOSSOCIAL</td>\n",
              "      <td>M</td>\n",
              "      <td>RUA POETISA DOLORES</td>\n",
              "      <td>13</td>\n",
              "      <td>CENTRO</td>\n",
              "      <td>59570000</td>\n",
              "      <td>RN</td>\n",
              "      <td>Ceará-Mirim</td>\n",
              "      <td>(84)3274-5914</td>\n",
              "    </tr>\n",
              "    <tr>\n",
              "      <th>7</th>\n",
              "      <td>6577865</td>\n",
              "      <td>315960</td>\n",
              "      <td>DIMENSAO CLINICA MEDICA</td>\n",
              "      <td>UNIDADE DE APOIO DIAGNOSE E TERAPIA (SADT ISOL...</td>\n",
              "      <td>M</td>\n",
              "      <td>RUA CEL GABRIEL CAPISTRANO</td>\n",
              "      <td>256</td>\n",
              "      <td>CENTRO</td>\n",
              "      <td>37540000</td>\n",
              "      <td>MG</td>\n",
              "      <td>Santa Rita do Sapucaí</td>\n",
              "      <td>3534713531</td>\n",
              "    </tr>\n",
              "    <tr>\n",
              "      <th>8</th>\n",
              "      <td>6577873</td>\n",
              "      <td>355670</td>\n",
              "      <td>JULIANA PEREIRA PERSI</td>\n",
              "      <td>UNIDADE DE APOIO DIAGNOSE E TERAPIA (SADT ISOL...</td>\n",
              "      <td>M</td>\n",
              "      <td>RUA ROCINHA</td>\n",
              "      <td>213</td>\n",
              "      <td>CAPELA</td>\n",
              "      <td>13280000</td>\n",
              "      <td>SP</td>\n",
              "      <td>Vinhedo</td>\n",
              "      <td>38764932</td>\n",
              "    </tr>\n",
              "    <tr>\n",
              "      <th>9</th>\n",
              "      <td>6577881</td>\n",
              "      <td>231330</td>\n",
              "      <td>CENTRAL DE CONSULTORIOS</td>\n",
              "      <td>CLINICA/CENTRO DE ESPECIALIDADE</td>\n",
              "      <td>M</td>\n",
              "      <td>RUA MAFISA CIDRAO ROCHA</td>\n",
              "      <td>63</td>\n",
              "      <td>CENTRO</td>\n",
              "      <td>63660000</td>\n",
              "      <td>CE</td>\n",
              "      <td>Tauá</td>\n",
              "      <td>88-34371097</td>\n",
              "    </tr>\n",
              "  </tbody>\n",
              "</table>\n",
              "</div>"
            ],
            "text/plain": [
              "   co_cnes  co_ibge  ...              municipio    nu_telefone\n",
              "0  6577687   292240  ...                Mutuípe            NaN\n",
              "1  6578500   500210  ...             Bela Vista            NaN\n",
              "2  6577725   355660  ...              Vera Cruz            NaN\n",
              "3  6577733   355410  ...                Taubaté       36351489\n",
              "4  6577768   410490  ...                 Castro      3232-4854\n",
              "5  6577806   420245  ...              Bombinhas       33934363\n",
              "6  6577830   240260  ...            Ceará-Mirim  (84)3274-5914\n",
              "7  6577865   315960  ...  Santa Rita do Sapucaí     3534713531\n",
              "8  6577873   355670  ...                Vinhedo       38764932\n",
              "9  6577881   231330  ...                   Tauá    88-34371097\n",
              "\n",
              "[10 rows x 12 columns]"
            ]
          },
          "metadata": {
            "tags": []
          },
          "execution_count": 14
        }
      ]
    },
    {
      "cell_type": "code",
      "metadata": {
        "id": "hEe987vXKWsX"
      },
      "source": [
        "#df_cnes.columns"
      ],
      "execution_count": null,
      "outputs": []
    },
    {
      "cell_type": "code",
      "metadata": {
        "id": "Ogk5UKFKwqU2",
        "colab": {
          "base_uri": "https://localhost:8080/"
        },
        "outputId": "3026fa1c-bb5a-4646-e89b-7ffec8bf95fb"
      },
      "source": [
        "df_cnes['ds_tipo_unidade'].value_counts()"
      ],
      "execution_count": 42,
      "outputs": [
        {
          "output_type": "execute_result",
          "data": {
            "text/plain": [
              "CONSULTORIO ISOLADO                                             175140\n",
              "CLINICA/CENTRO DE ESPECIALIDADE                                  52766\n",
              "CENTRO DE SAUDE/UNIDADE BASICA                                   38998\n",
              "UNIDADE DE APOIO DIAGNOSE E TERAPIA (SADT ISOLADO)               27067\n",
              "POSTO DE SAUDE                                                   11345\n",
              "POLICLINICA                                                       8457\n",
              "CENTRAL DE GESTAO EM SAUDE                                        6059\n",
              "HOSPITAL GERAL                                                    5752\n",
              "UNIDADE MOVEL DE NIVEL PRE-HOSPITALAR NA AREA DE URGENCIA         4703\n",
              "FARMACIA                                                          3213\n",
              "CENTRO DE ATENCAO PSICOSSOCIAL                                    3065\n",
              "UNIDADE DE VIGILANCIA EM SAUDE                                    3005\n",
              "POLO ACADEMIA DA SAUDE                                            2523\n",
              "UNIDADE MOVEL TERRESTRE                                           1460\n",
              "PRONTO ATENDIMENTO                                                1248\n",
              "CENTRAL DE REGULACAO DO ACESSO                                    1243\n",
              "HOSPITAL ESPECIALIZADO                                            1234\n",
              "CENTRO DE APOIO A SAUDE DA FAMILIA                                1171\n",
              "UNIDADE DE ATENCAO A SAUDE INDIGENA                               1106\n",
              "HOSPITAL/DIA - ISOLADO                                             718\n",
              "UNIDADE MISTA                                                      706\n",
              "SERVICO DE ATENCAO DOMICILIAR ISOLADO(HOME CARE)                   681\n",
              "COOPERATIVA OU EMPRESA DE CESSAO DE TRABALHADORES NA SAUDE         633\n",
              "PRONTO SOCORRO GERAL                                               453\n",
              "LABORATORIO DE SAUDE PUBLICA                                       417\n",
              "CENTRO DE ATENCAO HEMOTERAPIA E OU HEMATOLOGICA                    395\n",
              "POLO DE PREVENCAO DE DOENCAS E AGRAVOS E PROMOCAO DA SAUDE         328\n",
              "CENTRAL DE REGULACAO MEDICA DAS URGENCIAS                          239\n",
              "CENTRAL DE REGULACAO DE SERVICOS DE SAUDE                          142\n",
              "CENTRAL DE NOTIFICACAO,CAPTACAO E DISTRIB DE ORGAOS ESTADUAL       131\n",
              "PRONTO SOCORRO ESPECIALIZADO                                       129\n",
              "TELESSAUDE                                                          86\n",
              "UNIDADE MOVEL FLUVIAL                                               59\n",
              "LABORATORIO CENTRAL DE SAUDE PUBLICA LACEN                          38\n",
              "UNIDADE DE ATENCAO EM REGIME RESIDENCIAL                            34\n",
              "CENTRO DE PARTO NORMAL - ISOLADO                                    33\n",
              "OFICINA ORTOPEDICA                                                  27\n",
              "Name: ds_tipo_unidade, dtype: int64"
            ]
          },
          "metadata": {
            "tags": []
          },
          "execution_count": 42
        }
      ]
    },
    {
      "cell_type": "markdown",
      "metadata": {
        "id": "ExtEdNtiIfvm"
      },
      "source": [
        "### Eliminação de colunas e linhas que não serão utilizadas - Dataset Estabelecimentos de Saúde (CNES)"
      ]
    },
    {
      "cell_type": "code",
      "metadata": {
        "id": "b_ubDfWOIrDv"
      },
      "source": [
        "# Eliminação das colunas que não serão utilizadas nas análises\n",
        "\n",
        "df_cnes = df_cnes.drop(['co_ibge','no_logradouro','nu_endereco','no_bairro','co_cep', 'municipio','nu_telefone'],axis=1)"
      ],
      "execution_count": 43,
      "outputs": []
    },
    {
      "cell_type": "code",
      "metadata": {
        "id": "YROJoA_cJ-nk"
      },
      "source": [
        "# Como o dataset possui dados de todo o Brasil, os estados que não pertencem às regiões selecionadas para análise serão eliminados do dataframe\n",
        "df_cnes = df_cnes.loc[(df_cnes['uf'].isin(UFs))]"
      ],
      "execution_count": 44,
      "outputs": []
    },
    {
      "cell_type": "code",
      "metadata": {
        "id": "MwVu6SxyLVKu"
      },
      "source": [
        "# Código reprodutível\n",
        "# assert len(df_cnes) == 181213"
      ],
      "execution_count": null,
      "outputs": []
    },
    {
      "cell_type": "code",
      "metadata": {
        "id": "ry6r5GIG1fLD",
        "colab": {
          "base_uri": "https://localhost:8080/"
        },
        "outputId": "9a90bb00-906a-4391-e16a-7f08e92e83d3"
      },
      "source": [
        "print('Total de registros:',len(df_cnes))    # Quantidade de registros do dataset após eliminação de linhas\n",
        "print('')\n",
        "print(df_cnes.info())                        # Informações sobre o dataset \n",
        "\n",
        "## É possível observar a redução do número total de linhas e do número total de colunas (5) do dataset"
      ],
      "execution_count": 45,
      "outputs": [
        {
          "output_type": "stream",
          "text": [
            "Total de registros: 183257\n",
            "\n",
            "<class 'pandas.core.frame.DataFrame'>\n",
            "Int64Index: 183257 entries, 2 to 354803\n",
            "Data columns (total 5 columns):\n",
            " #   Column           Non-Null Count   Dtype \n",
            "---  ------           --------------   ----- \n",
            " 0   co_cnes          183257 non-null  int64 \n",
            " 1   no_fantasia      183252 non-null  object\n",
            " 2   ds_tipo_unidade  183257 non-null  object\n",
            " 3   tp_gestao        183257 non-null  object\n",
            " 4   uf               183257 non-null  object\n",
            "dtypes: int64(1), object(4)\n",
            "memory usage: 8.4+ MB\n",
            "None\n"
          ],
          "name": "stdout"
        }
      ]
    },
    {
      "cell_type": "markdown",
      "metadata": {
        "id": "m_rIE38A3_HW"
      },
      "source": [
        "### Tratamento de valores nulos e/ou faltantes"
      ]
    },
    {
      "cell_type": "code",
      "metadata": {
        "colab": {
          "base_uri": "https://localhost:8080/"
        },
        "id": "ZOYUlLJDI-2L",
        "outputId": "0570f67e-eee4-4866-ad7e-a29729a8fbc8"
      },
      "source": [
        "df_cnes.count()        # Quantidade de registros por coluna. \n",
        "                      # É possível observar que algumas colunas possuem quatidade inferior de registros, o que indica que será necessário \n",
        "                      #    tratamento de dados se essas colunas forem necessárias para análise"
      ],
      "execution_count": null,
      "outputs": [
        {
          "output_type": "execute_result",
          "data": {
            "text/plain": [
              "co_cnes            183257\n",
              "no_fantasia        183252\n",
              "ds_tipo_unidade    183257\n",
              "tp_gestao          183257\n",
              "uf                 183257\n",
              "dtype: int64"
            ]
          },
          "metadata": {
            "tags": []
          },
          "execution_count": 23
        }
      ]
    },
    {
      "cell_type": "code",
      "metadata": {
        "id": "mOTm7ozFAo5N"
      },
      "source": [
        "# falta incluir tratamento de nulos e valores faltantes"
      ],
      "execution_count": null,
      "outputs": []
    },
    {
      "cell_type": "markdown",
      "metadata": {
        "id": "69v9jq914B4d"
      },
      "source": [
        "### Identificação e tratamento de valores duplicados"
      ]
    },
    {
      "cell_type": "code",
      "metadata": {
        "id": "EwVCie5zAqLx"
      },
      "source": [
        "# falta incluir tratamento de valores duplicados"
      ],
      "execution_count": null,
      "outputs": []
    },
    {
      "cell_type": "markdown",
      "metadata": {
        "id": "bofYVY_GJvsu"
      },
      "source": [
        "## Merge entre os dataFrames de Vacinação e CNES"
      ]
    },
    {
      "cell_type": "code",
      "metadata": {
        "id": "8e0ySi35KXpH"
      },
      "source": [
        "df_merge = pd.merge(df_vacinacao, df_cnes, on=None, left_on='estabelecimento_valor', right_on='co_cnes')"
      ],
      "execution_count": 46,
      "outputs": []
    },
    {
      "cell_type": "code",
      "metadata": {
        "id": "-QgFf-tHKY_7",
        "colab": {
          "base_uri": "https://localhost:8080/"
        },
        "outputId": "75882649-8b6c-4d82-806f-84bceae0854b"
      },
      "source": [
        "print(df_merge)"
      ],
      "execution_count": null,
      "outputs": [
        {
          "output_type": "stream",
          "text": [
            "                                       document_id  ...  uf\n",
            "0        c6756cf9-0e0e-456b-86d2-94309b47e702-i0b0  ...  SP\n",
            "1        85a346cd-aae6-47a6-8b89-1ce2c3dcacbb-i0b0  ...  SP\n",
            "2        d250e4f3-6ff9-4f37-8f6d-cd5a9f3879cd-i0b0  ...  SP\n",
            "3        92a49f7c-be44-4796-9e88-7527f5e355b2-i0b0  ...  SP\n",
            "4        968dba04-edde-4371-9ceb-206ec2b6e2da-i0b0  ...  SP\n",
            "...                                            ...  ...  ..\n",
            "3896584  2dfcc705-e827-478d-83a6-0f46005c0389-i0b0  ...  MG\n",
            "3896585  7180c4be-1f9b-462d-a458-56cae6156fdc-i0b0  ...  MG\n",
            "3896586  0dd9723f-740d-4ed6-80aa-9cef3bd89473-i0b0  ...  MG\n",
            "3896587  6da9166e-0e36-4457-a818-ded1b8e95129-i0b0  ...  MG\n",
            "3896588  eb4b30c7-ea3b-4002-bf6b-9664fa56ee28-i0b0  ...  AM\n",
            "\n",
            "[3896589 rows x 31 columns]\n"
          ],
          "name": "stdout"
        }
      ]
    },
    {
      "cell_type": "code",
      "metadata": {
        "id": "9taiBmL6fBLk"
      },
      "source": [
        "# Criação do dataframe da região sudeste\n",
        "df_sudeste = df_merge.query('paciente_endereco_uf in [\"ES\", \"MG\", \"RJ\", \"SP\"]')"
      ],
      "execution_count": 47,
      "outputs": []
    },
    {
      "cell_type": "code",
      "metadata": {
        "id": "KToBPyJfkyeE",
        "colab": {
          "base_uri": "https://localhost:8080/",
          "height": 1000
        },
        "outputId": "7ba08d46-1672-478e-ac2e-cdef20723580"
      },
      "source": [
        "df_sudeste"
      ],
      "execution_count": 48,
      "outputs": [
        {
          "output_type": "execute_result",
          "data": {
            "text/html": [
              "<div>\n",
              "<style scoped>\n",
              "    .dataframe tbody tr th:only-of-type {\n",
              "        vertical-align: middle;\n",
              "    }\n",
              "\n",
              "    .dataframe tbody tr th {\n",
              "        vertical-align: top;\n",
              "    }\n",
              "\n",
              "    .dataframe thead th {\n",
              "        text-align: right;\n",
              "    }\n",
              "</style>\n",
              "<table border=\"1\" class=\"dataframe\">\n",
              "  <thead>\n",
              "    <tr style=\"text-align: right;\">\n",
              "      <th></th>\n",
              "      <th>document_id</th>\n",
              "      <th>paciente_id</th>\n",
              "      <th>paciente_idade</th>\n",
              "      <th>paciente_dataNascimento</th>\n",
              "      <th>paciente_enumSexoBiologico</th>\n",
              "      <th>paciente_racaCor_codigo</th>\n",
              "      <th>paciente_racaCor_valor</th>\n",
              "      <th>paciente_endereco_coIbgeMunicipio</th>\n",
              "      <th>paciente_endereco_coPais</th>\n",
              "      <th>paciente_endereco_nmMunicipio</th>\n",
              "      <th>paciente_endereco_nmPais</th>\n",
              "      <th>paciente_endereco_uf</th>\n",
              "      <th>paciente_nacionalidade_enumNacionalidade</th>\n",
              "      <th>estabelecimento_valor</th>\n",
              "      <th>estabelecimento_municipio_codigo</th>\n",
              "      <th>estabelecimento_municipio_nome</th>\n",
              "      <th>estabelecimento_uf</th>\n",
              "      <th>vacina_grupoAtendimento_codigo</th>\n",
              "      <th>vacina_grupoAtendimento_nome</th>\n",
              "      <th>vacina_categoria_codigo</th>\n",
              "      <th>vacina_categoria_nome</th>\n",
              "      <th>vacina_fabricante_nome</th>\n",
              "      <th>vacina_dataAplicacao</th>\n",
              "      <th>vacina_descricao_dose</th>\n",
              "      <th>vacina_nome</th>\n",
              "      <th>data_importacao_rnds</th>\n",
              "      <th>co_cnes</th>\n",
              "      <th>no_fantasia</th>\n",
              "      <th>ds_tipo_unidade</th>\n",
              "      <th>tp_gestao</th>\n",
              "      <th>uf</th>\n",
              "    </tr>\n",
              "  </thead>\n",
              "  <tbody>\n",
              "    <tr>\n",
              "      <th>0</th>\n",
              "      <td>62e8806f-e2d0-4372-9b47-1dc359a67bc1-i0b0</td>\n",
              "      <td>000000e609b2d587d14a6982d7e276dc37de728627d216...</td>\n",
              "      <td>29.0</td>\n",
              "      <td>1991-06-04</td>\n",
              "      <td>F</td>\n",
              "      <td>1.0</td>\n",
              "      <td>BRANCA</td>\n",
              "      <td>352900.0</td>\n",
              "      <td>10.0</td>\n",
              "      <td>MARILIA</td>\n",
              "      <td>BRASIL</td>\n",
              "      <td>SP</td>\n",
              "      <td>B</td>\n",
              "      <td>2082772</td>\n",
              "      <td>352900.0</td>\n",
              "      <td>MARILIA</td>\n",
              "      <td>SP</td>\n",
              "      <td>926</td>\n",
              "      <td>Outros</td>\n",
              "      <td>9.0</td>\n",
              "      <td>Trabalhadores de Saúde</td>\n",
              "      <td>AstraZeneca/Oxford</td>\n",
              "      <td>2021-01-30T00:00:00.000Z</td>\n",
              "      <td>1ª Dose</td>\n",
              "      <td>Vacina Covid-19 - Covishield</td>\n",
              "      <td>2021-01-30 06:01:35</td>\n",
              "      <td>2082772</td>\n",
              "      <td>UBS CASCATA</td>\n",
              "      <td>CENTRO DE SAUDE/UNIDADE BASICA</td>\n",
              "      <td>M</td>\n",
              "      <td>SP</td>\n",
              "    </tr>\n",
              "    <tr>\n",
              "      <th>1</th>\n",
              "      <td>27823b35-e19f-4a4c-afe2-544eb0d03502-i0b0</td>\n",
              "      <td>000163bbe1300e28300dd46372ed912713b9c92fcfdff2...</td>\n",
              "      <td>55.0</td>\n",
              "      <td>1965-11-15</td>\n",
              "      <td>F</td>\n",
              "      <td>1.0</td>\n",
              "      <td>BRANCA</td>\n",
              "      <td>352900.0</td>\n",
              "      <td>10.0</td>\n",
              "      <td>MARILIA</td>\n",
              "      <td>BRASIL</td>\n",
              "      <td>SP</td>\n",
              "      <td>B</td>\n",
              "      <td>2082772</td>\n",
              "      <td>352900.0</td>\n",
              "      <td>MARILIA</td>\n",
              "      <td>SP</td>\n",
              "      <td>926</td>\n",
              "      <td>Outros</td>\n",
              "      <td>9.0</td>\n",
              "      <td>Trabalhadores de Saúde</td>\n",
              "      <td>Sinovac</td>\n",
              "      <td>2021-02-06T00:00:00.000Z</td>\n",
              "      <td>1ª Dose</td>\n",
              "      <td>Covid-19-Coronavac-Sinovac/Butantan</td>\n",
              "      <td>2021-02-06 04:02:45</td>\n",
              "      <td>2082772</td>\n",
              "      <td>UBS CASCATA</td>\n",
              "      <td>CENTRO DE SAUDE/UNIDADE BASICA</td>\n",
              "      <td>M</td>\n",
              "      <td>SP</td>\n",
              "    </tr>\n",
              "    <tr>\n",
              "      <th>2</th>\n",
              "      <td>3812181a-cc29-4e1f-bf95-f2d0064ad839-i0b0</td>\n",
              "      <td>002797709cb773dc3ff535aaf6a2e4dd23a70e40a78c2c...</td>\n",
              "      <td>33.0</td>\n",
              "      <td>1987-04-19</td>\n",
              "      <td>F</td>\n",
              "      <td>1.0</td>\n",
              "      <td>BRANCA</td>\n",
              "      <td>352900.0</td>\n",
              "      <td>10.0</td>\n",
              "      <td>MARILIA</td>\n",
              "      <td>BRASIL</td>\n",
              "      <td>SP</td>\n",
              "      <td>B</td>\n",
              "      <td>2082772</td>\n",
              "      <td>352900.0</td>\n",
              "      <td>MARILIA</td>\n",
              "      <td>SP</td>\n",
              "      <td>926</td>\n",
              "      <td>Outros</td>\n",
              "      <td>9.0</td>\n",
              "      <td>Trabalhadores de Saúde</td>\n",
              "      <td>Sinovac</td>\n",
              "      <td>2021-02-13T00:00:00.000Z</td>\n",
              "      <td>1ª Dose</td>\n",
              "      <td>Covid-19-Coronavac-Sinovac/Butantan</td>\n",
              "      <td>2021-02-13 13:02:16</td>\n",
              "      <td>2082772</td>\n",
              "      <td>UBS CASCATA</td>\n",
              "      <td>CENTRO DE SAUDE/UNIDADE BASICA</td>\n",
              "      <td>M</td>\n",
              "      <td>SP</td>\n",
              "    </tr>\n",
              "    <tr>\n",
              "      <th>3</th>\n",
              "      <td>0e929adc-effd-4a5e-bac8-b1674a2b1461-i0b0</td>\n",
              "      <td>0048972b9942f71f09b60ab718f14339d24e44255015f5...</td>\n",
              "      <td>58.0</td>\n",
              "      <td>1962-08-03</td>\n",
              "      <td>M</td>\n",
              "      <td>99.0</td>\n",
              "      <td>SEM INFORMACAO</td>\n",
              "      <td>352900.0</td>\n",
              "      <td>10.0</td>\n",
              "      <td>MARILIA</td>\n",
              "      <td>BRASIL</td>\n",
              "      <td>SP</td>\n",
              "      <td>B</td>\n",
              "      <td>2082772</td>\n",
              "      <td>352900.0</td>\n",
              "      <td>MARILIA</td>\n",
              "      <td>SP</td>\n",
              "      <td>926</td>\n",
              "      <td>Outros</td>\n",
              "      <td>9.0</td>\n",
              "      <td>Trabalhadores de Saúde</td>\n",
              "      <td>Sinovac</td>\n",
              "      <td>2021-02-11T00:00:00.000Z</td>\n",
              "      <td>1ª Dose</td>\n",
              "      <td>Covid-19-Coronavac-Sinovac/Butantan</td>\n",
              "      <td>2021-02-11 06:02:54</td>\n",
              "      <td>2082772</td>\n",
              "      <td>UBS CASCATA</td>\n",
              "      <td>CENTRO DE SAUDE/UNIDADE BASICA</td>\n",
              "      <td>M</td>\n",
              "      <td>SP</td>\n",
              "    </tr>\n",
              "    <tr>\n",
              "      <th>4</th>\n",
              "      <td>82887c20-0bda-438e-985e-61555b15f7eb-i0b0</td>\n",
              "      <td>006b61c9a133d493743e624dd17e1cc7a8ec45a73f9d49...</td>\n",
              "      <td>37.0</td>\n",
              "      <td>1983-04-26</td>\n",
              "      <td>F</td>\n",
              "      <td>1.0</td>\n",
              "      <td>BRANCA</td>\n",
              "      <td>352680.0</td>\n",
              "      <td>10.0</td>\n",
              "      <td>LENCOIS PAULISTA</td>\n",
              "      <td>BRASIL</td>\n",
              "      <td>SP</td>\n",
              "      <td>B</td>\n",
              "      <td>2082772</td>\n",
              "      <td>352900.0</td>\n",
              "      <td>MARILIA</td>\n",
              "      <td>SP</td>\n",
              "      <td>926</td>\n",
              "      <td>Outros</td>\n",
              "      <td>9.0</td>\n",
              "      <td>Trabalhadores de Saúde</td>\n",
              "      <td>Sinovac</td>\n",
              "      <td>2021-02-13T00:00:00.000Z</td>\n",
              "      <td>1ª Dose</td>\n",
              "      <td>Covid-19-Coronavac-Sinovac/Butantan</td>\n",
              "      <td>2021-02-13 14:02:24</td>\n",
              "      <td>2082772</td>\n",
              "      <td>UBS CASCATA</td>\n",
              "      <td>CENTRO DE SAUDE/UNIDADE BASICA</td>\n",
              "      <td>M</td>\n",
              "      <td>SP</td>\n",
              "    </tr>\n",
              "    <tr>\n",
              "      <th>...</th>\n",
              "      <td>...</td>\n",
              "      <td>...</td>\n",
              "      <td>...</td>\n",
              "      <td>...</td>\n",
              "      <td>...</td>\n",
              "      <td>...</td>\n",
              "      <td>...</td>\n",
              "      <td>...</td>\n",
              "      <td>...</td>\n",
              "      <td>...</td>\n",
              "      <td>...</td>\n",
              "      <td>...</td>\n",
              "      <td>...</td>\n",
              "      <td>...</td>\n",
              "      <td>...</td>\n",
              "      <td>...</td>\n",
              "      <td>...</td>\n",
              "      <td>...</td>\n",
              "      <td>...</td>\n",
              "      <td>...</td>\n",
              "      <td>...</td>\n",
              "      <td>...</td>\n",
              "      <td>...</td>\n",
              "      <td>...</td>\n",
              "      <td>...</td>\n",
              "      <td>...</td>\n",
              "      <td>...</td>\n",
              "      <td>...</td>\n",
              "      <td>...</td>\n",
              "      <td>...</td>\n",
              "      <td>...</td>\n",
              "    </tr>\n",
              "    <tr>\n",
              "      <th>3382286</th>\n",
              "      <td>c4e2163d-c00f-4e1d-ac8b-d9321dcb9557-i0b0</td>\n",
              "      <td>f740d8c741f78b60472e1ce9528556ed4bd7e5418b9548...</td>\n",
              "      <td>50.0</td>\n",
              "      <td>1970-05-11</td>\n",
              "      <td>F</td>\n",
              "      <td>1.0</td>\n",
              "      <td>BRANCA</td>\n",
              "      <td>330630.0</td>\n",
              "      <td>10.0</td>\n",
              "      <td>VOLTA REDONDA</td>\n",
              "      <td>BRASIL</td>\n",
              "      <td>RJ</td>\n",
              "      <td>B</td>\n",
              "      <td>2074672</td>\n",
              "      <td>350315.0</td>\n",
              "      <td>ARAPEI</td>\n",
              "      <td>SP</td>\n",
              "      <td>926</td>\n",
              "      <td>Outros</td>\n",
              "      <td>9.0</td>\n",
              "      <td>Trabalhadores de Saúde</td>\n",
              "      <td>Sinovac</td>\n",
              "      <td>2021-01-21T00:00:00.000Z</td>\n",
              "      <td>1ª Dose</td>\n",
              "      <td>Covid-19-Coronavac-Sinovac/Butantan</td>\n",
              "      <td>2021-01-21 07:01:40</td>\n",
              "      <td>2074672</td>\n",
              "      <td>UNIDADE BASICA DE SAUDE DE ARAPEI DR HAROLDO V...</td>\n",
              "      <td>CENTRO DE SAUDE/UNIDADE BASICA</td>\n",
              "      <td>M</td>\n",
              "      <td>SP</td>\n",
              "    </tr>\n",
              "    <tr>\n",
              "      <th>3382288</th>\n",
              "      <td>3029db2c-2fc1-477a-a47e-890837556c22-i0b0</td>\n",
              "      <td>fa4ce5506acc064ac80f257006e8a9dbfebf4ccc663f19...</td>\n",
              "      <td>92.0</td>\n",
              "      <td>1928-10-28</td>\n",
              "      <td>F</td>\n",
              "      <td>99.0</td>\n",
              "      <td>SEM INFORMACAO</td>\n",
              "      <td>312770.0</td>\n",
              "      <td>10.0</td>\n",
              "      <td>GOVERNADOR VALADARES</td>\n",
              "      <td>BRASIL</td>\n",
              "      <td>MG</td>\n",
              "      <td>B</td>\n",
              "      <td>2119021</td>\n",
              "      <td>312770.0</td>\n",
              "      <td>GOVERNADOR VALADARES</td>\n",
              "      <td>MG</td>\n",
              "      <td>205</td>\n",
              "      <td>Pessoas de 80 anos ou mais</td>\n",
              "      <td>2.0</td>\n",
              "      <td>Faixa Etária</td>\n",
              "      <td>FUNDACAO BUTANTAN</td>\n",
              "      <td>2021-02-10T03:00:00.000Z</td>\n",
              "      <td>1ª Dose</td>\n",
              "      <td>Covid-19-Coronavac-Sinovac/Butantan</td>\n",
              "      <td>2021-02-24 19:09:36</td>\n",
              "      <td>2119021</td>\n",
              "      <td>ESF TURMALINA I</td>\n",
              "      <td>CENTRO DE SAUDE/UNIDADE BASICA</td>\n",
              "      <td>M</td>\n",
              "      <td>MG</td>\n",
              "    </tr>\n",
              "    <tr>\n",
              "      <th>3382289</th>\n",
              "      <td>d2be60d4-d45c-450f-8f6b-0d935a662948-i0b0</td>\n",
              "      <td>fb2aebbcc9f972fb360ca478c71e99cb39e20382afac87...</td>\n",
              "      <td>40.0</td>\n",
              "      <td>1980-06-19</td>\n",
              "      <td>F</td>\n",
              "      <td>1.0</td>\n",
              "      <td>BRANCA</td>\n",
              "      <td>351490.0</td>\n",
              "      <td>10.0</td>\n",
              "      <td>ELIAS FAUSTO</td>\n",
              "      <td>BRASIL</td>\n",
              "      <td>SP</td>\n",
              "      <td>B</td>\n",
              "      <td>6829821</td>\n",
              "      <td>351040.0</td>\n",
              "      <td>CAPIVARI</td>\n",
              "      <td>SP</td>\n",
              "      <td>926</td>\n",
              "      <td>Outros</td>\n",
              "      <td>9.0</td>\n",
              "      <td>Trabalhadores de Saúde</td>\n",
              "      <td>Sinovac</td>\n",
              "      <td>2021-02-09T00:00:00.000Z</td>\n",
              "      <td>1ª Dose</td>\n",
              "      <td>Covid-19-Coronavac-Sinovac/Butantan</td>\n",
              "      <td>2021-02-09 15:02:00</td>\n",
              "      <td>6829821</td>\n",
              "      <td>UBS SANTA RITA CAPIVARI</td>\n",
              "      <td>CENTRO DE SAUDE/UNIDADE BASICA</td>\n",
              "      <td>M</td>\n",
              "      <td>SP</td>\n",
              "    </tr>\n",
              "    <tr>\n",
              "      <th>3382290</th>\n",
              "      <td>761da6be-0732-4f5d-a8c1-11019238b4d6-i0b0</td>\n",
              "      <td>fda6a75710d653a583b0624e71107f03c4b875b240a99e...</td>\n",
              "      <td>95.0</td>\n",
              "      <td>1925-08-03</td>\n",
              "      <td>F</td>\n",
              "      <td>1.0</td>\n",
              "      <td>BRANCA</td>\n",
              "      <td>313020.0</td>\n",
              "      <td>10.0</td>\n",
              "      <td>IGARATINGA</td>\n",
              "      <td>BRASIL</td>\n",
              "      <td>MG</td>\n",
              "      <td>B</td>\n",
              "      <td>2183323</td>\n",
              "      <td>313020.0</td>\n",
              "      <td>IGARATINGA</td>\n",
              "      <td>MG</td>\n",
              "      <td>205</td>\n",
              "      <td>Pessoas de 80 anos ou mais</td>\n",
              "      <td>2.0</td>\n",
              "      <td>Faixa Etária</td>\n",
              "      <td>FUNDACAO BUTANTAN</td>\n",
              "      <td>2021-02-12T03:00:00.000Z</td>\n",
              "      <td>1ª Dose</td>\n",
              "      <td>Covid-19-Coronavac-Sinovac/Butantan</td>\n",
              "      <td>2021-02-26 12:38:11</td>\n",
              "      <td>2183323</td>\n",
              "      <td>PSF GERALDO FERREIRA LIMA</td>\n",
              "      <td>CENTRO DE SAUDE/UNIDADE BASICA</td>\n",
              "      <td>M</td>\n",
              "      <td>MG</td>\n",
              "    </tr>\n",
              "    <tr>\n",
              "      <th>3382291</th>\n",
              "      <td>bd46ee1e-1628-4102-b40b-441da132d8fc-i0b0</td>\n",
              "      <td>ff3d1dc91b7a3a6e3ff39da0494d540428a7bf96b74e6e...</td>\n",
              "      <td>86.0</td>\n",
              "      <td>1934-09-14</td>\n",
              "      <td>M</td>\n",
              "      <td>4.0</td>\n",
              "      <td>AMARELA</td>\n",
              "      <td>350790.0</td>\n",
              "      <td>10.0</td>\n",
              "      <td>BROTAS</td>\n",
              "      <td>BRASIL</td>\n",
              "      <td>SP</td>\n",
              "      <td>B</td>\n",
              "      <td>3003477</td>\n",
              "      <td>350790.0</td>\n",
              "      <td>BROTAS</td>\n",
              "      <td>SP</td>\n",
              "      <td>205</td>\n",
              "      <td>Pessoas de 80 anos ou mais</td>\n",
              "      <td>2.0</td>\n",
              "      <td>Faixa Etária</td>\n",
              "      <td>Sinovac</td>\n",
              "      <td>2021-02-15T00:00:00.000Z</td>\n",
              "      <td>1ª Dose</td>\n",
              "      <td>Covid-19-Coronavac-Sinovac/Butantan</td>\n",
              "      <td>2021-02-15 11:02:15</td>\n",
              "      <td>3003477</td>\n",
              "      <td>PSF PIERINA R SALVIATTO DE BROTAS</td>\n",
              "      <td>CENTRO DE SAUDE/UNIDADE BASICA</td>\n",
              "      <td>M</td>\n",
              "      <td>SP</td>\n",
              "    </tr>\n",
              "  </tbody>\n",
              "</table>\n",
              "<p>2815804 rows × 31 columns</p>\n",
              "</div>"
            ],
            "text/plain": [
              "                                       document_id  ...  uf\n",
              "0        62e8806f-e2d0-4372-9b47-1dc359a67bc1-i0b0  ...  SP\n",
              "1        27823b35-e19f-4a4c-afe2-544eb0d03502-i0b0  ...  SP\n",
              "2        3812181a-cc29-4e1f-bf95-f2d0064ad839-i0b0  ...  SP\n",
              "3        0e929adc-effd-4a5e-bac8-b1674a2b1461-i0b0  ...  SP\n",
              "4        82887c20-0bda-438e-985e-61555b15f7eb-i0b0  ...  SP\n",
              "...                                            ...  ...  ..\n",
              "3382286  c4e2163d-c00f-4e1d-ac8b-d9321dcb9557-i0b0  ...  SP\n",
              "3382288  3029db2c-2fc1-477a-a47e-890837556c22-i0b0  ...  MG\n",
              "3382289  d2be60d4-d45c-450f-8f6b-0d935a662948-i0b0  ...  SP\n",
              "3382290  761da6be-0732-4f5d-a8c1-11019238b4d6-i0b0  ...  MG\n",
              "3382291  bd46ee1e-1628-4102-b40b-441da132d8fc-i0b0  ...  SP\n",
              "\n",
              "[2815804 rows x 31 columns]"
            ]
          },
          "metadata": {
            "tags": []
          },
          "execution_count": 48
        }
      ]
    },
    {
      "cell_type": "code",
      "metadata": {
        "colab": {
          "base_uri": "https://localhost:8080/"
        },
        "id": "skLo2Anygp8h",
        "outputId": "30783611-33fb-499b-f127-aead78012908"
      },
      "source": [
        "# Total de vacinados por UF na região sudeste\n",
        "df_sudeste['paciente_endereco_uf'].value_counts()"
      ],
      "execution_count": 49,
      "outputs": [
        {
          "output_type": "execute_result",
          "data": {
            "text/plain": [
              "SP    1857518\n",
              "MG     452495\n",
              "RJ     395395\n",
              "ES     110396\n",
              "Name: paciente_endereco_uf, dtype: int64"
            ]
          },
          "metadata": {
            "tags": []
          },
          "execution_count": 49
        }
      ]
    },
    {
      "cell_type": "code",
      "metadata": {
        "id": "F_NxPBXeqJ7Z",
        "colab": {
          "base_uri": "https://localhost:8080/"
        },
        "outputId": "519e7170-2de1-4094-d2c3-2aaecf157720"
      },
      "source": [
        "# Total de estabelecimentos de saúde dos vacinados da região sudeste (Aparece estados da região norte para trabalhadores da saúde )\n",
        "df_sudeste['estabelecimento_uf'].value_counts()"
      ],
      "execution_count": 50,
      "outputs": [
        {
          "output_type": "execute_result",
          "data": {
            "text/plain": [
              "SP    1875152\n",
              "MG     436096\n",
              "RJ     390253\n",
              "ES     110407\n",
              "AM       1542\n",
              "PA       1257\n",
              "TO        341\n",
              "RO        327\n",
              "RR        187\n",
              "AC        141\n",
              "AP        101\n",
              "Name: estabelecimento_uf, dtype: int64"
            ]
          },
          "metadata": {
            "tags": []
          },
          "execution_count": 50
        }
      ]
    },
    {
      "cell_type": "code",
      "metadata": {
        "id": "0KeLasPsvPQv",
        "outputId": "16f72da3-e3ac-4637-cf37-fa461b5260df",
        "colab": {
          "base_uri": "https://localhost:8080/"
        }
      },
      "source": [
        "# Total de vacinados por sexo na região norte\n",
        "df_sudeste['paciente_enumSexoBiologico'].value_counts()"
      ],
      "execution_count": 60,
      "outputs": [
        {
          "output_type": "execute_result",
          "data": {
            "text/plain": [
              "F    1937729\n",
              "M     878069\n",
              "I          6\n",
              "Name: paciente_enumSexoBiologico, dtype: int64"
            ]
          },
          "metadata": {
            "tags": []
          },
          "execution_count": 60
        }
      ]
    },
    {
      "cell_type": "code",
      "metadata": {
        "id": "dWd_cZlpuH9f",
        "outputId": "f649da36-ae37-4479-cf88-2e39c9b28674",
        "colab": {
          "base_uri": "https://localhost:8080/",
          "height": 292
        }
      },
      "source": [
        "df_sudeste['paciente_enumSexoBiologico'].value_counts().plot.bar()"
      ],
      "execution_count": 56,
      "outputs": [
        {
          "output_type": "execute_result",
          "data": {
            "text/plain": [
              "<matplotlib.axes._subplots.AxesSubplot at 0x7f6656231fd0>"
            ]
          },
          "metadata": {
            "tags": []
          },
          "execution_count": 56
        },
        {
          "output_type": "display_data",
          "data": {
            "image/png": "[encoded data removed]",
            "text/plain": [
              "<Figure size 432x288 with 1 Axes>"
            ]
          },
          "metadata": {
            "tags": [],
            "needs_background": "light"
          }
        }
      ]
    },
    {
      "cell_type": "code",
      "metadata": {
        "id": "K-bBel_dsYAN",
        "colab": {
          "base_uri": "https://localhost:8080/",
          "height": 1000
        },
        "outputId": "950fabf6-0d4d-4149-9277-a7ec665d9a1c"
      },
      "source": [
        "# Total de vacinados fora do seu estado :(\n",
        "df_sudeste.query('paciente_endereco_uf != estabelecimento_uf')"
      ],
      "execution_count": 51,
      "outputs": [
        {
          "output_type": "execute_result",
          "data": {
            "text/html": [
              "<div>\n",
              "<style scoped>\n",
              "    .dataframe tbody tr th:only-of-type {\n",
              "        vertical-align: middle;\n",
              "    }\n",
              "\n",
              "    .dataframe tbody tr th {\n",
              "        vertical-align: top;\n",
              "    }\n",
              "\n",
              "    .dataframe thead th {\n",
              "        text-align: right;\n",
              "    }\n",
              "</style>\n",
              "<table border=\"1\" class=\"dataframe\">\n",
              "  <thead>\n",
              "    <tr style=\"text-align: right;\">\n",
              "      <th></th>\n",
              "      <th>document_id</th>\n",
              "      <th>paciente_id</th>\n",
              "      <th>paciente_idade</th>\n",
              "      <th>paciente_dataNascimento</th>\n",
              "      <th>paciente_enumSexoBiologico</th>\n",
              "      <th>paciente_racaCor_codigo</th>\n",
              "      <th>paciente_racaCor_valor</th>\n",
              "      <th>paciente_endereco_coIbgeMunicipio</th>\n",
              "      <th>paciente_endereco_coPais</th>\n",
              "      <th>paciente_endereco_nmMunicipio</th>\n",
              "      <th>paciente_endereco_nmPais</th>\n",
              "      <th>paciente_endereco_uf</th>\n",
              "      <th>paciente_nacionalidade_enumNacionalidade</th>\n",
              "      <th>estabelecimento_valor</th>\n",
              "      <th>estabelecimento_municipio_codigo</th>\n",
              "      <th>estabelecimento_municipio_nome</th>\n",
              "      <th>estabelecimento_uf</th>\n",
              "      <th>vacina_grupoAtendimento_codigo</th>\n",
              "      <th>vacina_grupoAtendimento_nome</th>\n",
              "      <th>vacina_categoria_codigo</th>\n",
              "      <th>vacina_categoria_nome</th>\n",
              "      <th>vacina_fabricante_nome</th>\n",
              "      <th>vacina_dataAplicacao</th>\n",
              "      <th>vacina_descricao_dose</th>\n",
              "      <th>vacina_nome</th>\n",
              "      <th>data_importacao_rnds</th>\n",
              "      <th>co_cnes</th>\n",
              "      <th>no_fantasia</th>\n",
              "      <th>ds_tipo_unidade</th>\n",
              "      <th>tp_gestao</th>\n",
              "      <th>uf</th>\n",
              "    </tr>\n",
              "  </thead>\n",
              "  <tbody>\n",
              "    <tr>\n",
              "      <th>353</th>\n",
              "      <td>a6e79060-0ab4-4eb7-8270-962057b68ca7-i0b0</td>\n",
              "      <td>0f47f165eff0c55cbb40d15ea445be38543a91f28d586e...</td>\n",
              "      <td>20.0</td>\n",
              "      <td>2000-04-22</td>\n",
              "      <td>F</td>\n",
              "      <td>1.0</td>\n",
              "      <td>BRANCA</td>\n",
              "      <td>314100.0</td>\n",
              "      <td>10.0</td>\n",
              "      <td>MATO VERDE</td>\n",
              "      <td>BRASIL</td>\n",
              "      <td>MG</td>\n",
              "      <td>B</td>\n",
              "      <td>2082772</td>\n",
              "      <td>352900.0</td>\n",
              "      <td>MARILIA</td>\n",
              "      <td>SP</td>\n",
              "      <td>926</td>\n",
              "      <td>Outros</td>\n",
              "      <td>9.0</td>\n",
              "      <td>Trabalhadores de Saúde</td>\n",
              "      <td>Sinovac</td>\n",
              "      <td>2021-02-06T00:00:00.000Z</td>\n",
              "      <td>1ª Dose</td>\n",
              "      <td>Covid-19-Coronavac-Sinovac/Butantan</td>\n",
              "      <td>2021-02-06 06:02:37</td>\n",
              "      <td>2082772</td>\n",
              "      <td>UBS CASCATA</td>\n",
              "      <td>CENTRO DE SAUDE/UNIDADE BASICA</td>\n",
              "      <td>M</td>\n",
              "      <td>SP</td>\n",
              "    </tr>\n",
              "    <tr>\n",
              "      <th>639</th>\n",
              "      <td>bb2bb81b-4493-46cf-acba-4e782e3cbcec-i0b0</td>\n",
              "      <td>1b401bd819a84b82014356639769ad904145e182321e8d...</td>\n",
              "      <td>39.0</td>\n",
              "      <td>1981-07-20</td>\n",
              "      <td>F</td>\n",
              "      <td>99.0</td>\n",
              "      <td>SEM INFORMACAO</td>\n",
              "      <td>310620.0</td>\n",
              "      <td>10.0</td>\n",
              "      <td>BELO HORIZONTE</td>\n",
              "      <td>BRASIL</td>\n",
              "      <td>MG</td>\n",
              "      <td>B</td>\n",
              "      <td>2082772</td>\n",
              "      <td>352900.0</td>\n",
              "      <td>MARILIA</td>\n",
              "      <td>SP</td>\n",
              "      <td>926</td>\n",
              "      <td>Outros</td>\n",
              "      <td>9.0</td>\n",
              "      <td>Trabalhadores de Saúde</td>\n",
              "      <td>AstraZeneca/Oxford</td>\n",
              "      <td>2021-01-30T00:00:00.000Z</td>\n",
              "      <td>1ª Dose</td>\n",
              "      <td>Vacina Covid-19 - Covishield</td>\n",
              "      <td>2021-01-30 11:01:44</td>\n",
              "      <td>2082772</td>\n",
              "      <td>UBS CASCATA</td>\n",
              "      <td>CENTRO DE SAUDE/UNIDADE BASICA</td>\n",
              "      <td>M</td>\n",
              "      <td>SP</td>\n",
              "    </tr>\n",
              "    <tr>\n",
              "      <th>708</th>\n",
              "      <td>08fbce36-138e-4001-b12f-45f48b3f7527-i0b0</td>\n",
              "      <td>1e715a81934c44f9383482d15843280a39404f22da6582...</td>\n",
              "      <td>27.0</td>\n",
              "      <td>1993-01-31</td>\n",
              "      <td>F</td>\n",
              "      <td>1.0</td>\n",
              "      <td>BRANCA</td>\n",
              "      <td>310620.0</td>\n",
              "      <td>10.0</td>\n",
              "      <td>BELO HORIZONTE</td>\n",
              "      <td>BRASIL</td>\n",
              "      <td>MG</td>\n",
              "      <td>B</td>\n",
              "      <td>2082772</td>\n",
              "      <td>352900.0</td>\n",
              "      <td>MARILIA</td>\n",
              "      <td>SP</td>\n",
              "      <td>926</td>\n",
              "      <td>Outros</td>\n",
              "      <td>9.0</td>\n",
              "      <td>Trabalhadores de Saúde</td>\n",
              "      <td>AstraZeneca/Oxford</td>\n",
              "      <td>2021-01-30T00:00:00.000Z</td>\n",
              "      <td>1ª Dose</td>\n",
              "      <td>Vacina Covid-19 - Covishield</td>\n",
              "      <td>2021-01-30 11:01:18</td>\n",
              "      <td>2082772</td>\n",
              "      <td>UBS CASCATA</td>\n",
              "      <td>CENTRO DE SAUDE/UNIDADE BASICA</td>\n",
              "      <td>M</td>\n",
              "      <td>SP</td>\n",
              "    </tr>\n",
              "    <tr>\n",
              "      <th>901</th>\n",
              "      <td>58aa3448-023d-4c5b-aaeb-208f01e873a4-i0b0</td>\n",
              "      <td>2651df8835e0f93972e9b7e83cbeb24c79a16650435ff5...</td>\n",
              "      <td>35.0</td>\n",
              "      <td>1985-08-18</td>\n",
              "      <td>M</td>\n",
              "      <td>99.0</td>\n",
              "      <td>SEM INFORMACAO</td>\n",
              "      <td>310620.0</td>\n",
              "      <td>10.0</td>\n",
              "      <td>BELO HORIZONTE</td>\n",
              "      <td>BRASIL</td>\n",
              "      <td>MG</td>\n",
              "      <td>B</td>\n",
              "      <td>2082772</td>\n",
              "      <td>352900.0</td>\n",
              "      <td>MARILIA</td>\n",
              "      <td>SP</td>\n",
              "      <td>926</td>\n",
              "      <td>Outros</td>\n",
              "      <td>9.0</td>\n",
              "      <td>Trabalhadores de Saúde</td>\n",
              "      <td>AstraZeneca/Oxford</td>\n",
              "      <td>2021-01-30T00:00:00.000Z</td>\n",
              "      <td>1ª Dose</td>\n",
              "      <td>Vacina Covid-19 - Covishield</td>\n",
              "      <td>2021-01-30 06:01:52</td>\n",
              "      <td>2082772</td>\n",
              "      <td>UBS CASCATA</td>\n",
              "      <td>CENTRO DE SAUDE/UNIDADE BASICA</td>\n",
              "      <td>M</td>\n",
              "      <td>SP</td>\n",
              "    </tr>\n",
              "    <tr>\n",
              "      <th>1040</th>\n",
              "      <td>1abc359c-9e28-402c-a120-0661ddef1f2e-i0b0</td>\n",
              "      <td>2b7cab6f82a087536e3d72254f72f9ff305dce5808d2c5...</td>\n",
              "      <td>40.0</td>\n",
              "      <td>1980-10-20</td>\n",
              "      <td>F</td>\n",
              "      <td>99.0</td>\n",
              "      <td>SEM INFORMACAO</td>\n",
              "      <td>315250.0</td>\n",
              "      <td>10.0</td>\n",
              "      <td>POUSO ALEGRE</td>\n",
              "      <td>BRASIL</td>\n",
              "      <td>MG</td>\n",
              "      <td>B</td>\n",
              "      <td>2082772</td>\n",
              "      <td>352900.0</td>\n",
              "      <td>MARILIA</td>\n",
              "      <td>SP</td>\n",
              "      <td>926</td>\n",
              "      <td>Outros</td>\n",
              "      <td>9.0</td>\n",
              "      <td>Trabalhadores de Saúde</td>\n",
              "      <td>AstraZeneca/Oxford</td>\n",
              "      <td>2021-01-30T00:00:00.000Z</td>\n",
              "      <td>1ª Dose</td>\n",
              "      <td>Vacina Covid-19 - Covishield</td>\n",
              "      <td>2021-01-30 12:01:52</td>\n",
              "      <td>2082772</td>\n",
              "      <td>UBS CASCATA</td>\n",
              "      <td>CENTRO DE SAUDE/UNIDADE BASICA</td>\n",
              "      <td>M</td>\n",
              "      <td>SP</td>\n",
              "    </tr>\n",
              "    <tr>\n",
              "      <th>...</th>\n",
              "      <td>...</td>\n",
              "      <td>...</td>\n",
              "      <td>...</td>\n",
              "      <td>...</td>\n",
              "      <td>...</td>\n",
              "      <td>...</td>\n",
              "      <td>...</td>\n",
              "      <td>...</td>\n",
              "      <td>...</td>\n",
              "      <td>...</td>\n",
              "      <td>...</td>\n",
              "      <td>...</td>\n",
              "      <td>...</td>\n",
              "      <td>...</td>\n",
              "      <td>...</td>\n",
              "      <td>...</td>\n",
              "      <td>...</td>\n",
              "      <td>...</td>\n",
              "      <td>...</td>\n",
              "      <td>...</td>\n",
              "      <td>...</td>\n",
              "      <td>...</td>\n",
              "      <td>...</td>\n",
              "      <td>...</td>\n",
              "      <td>...</td>\n",
              "      <td>...</td>\n",
              "      <td>...</td>\n",
              "      <td>...</td>\n",
              "      <td>...</td>\n",
              "      <td>...</td>\n",
              "      <td>...</td>\n",
              "    </tr>\n",
              "    <tr>\n",
              "      <th>3381695</th>\n",
              "      <td>cb833e73-4dc6-46cb-bc2d-faacc5da4243-i0b0</td>\n",
              "      <td>7c4ec961ad230b9746679a853a812370e6708e4228865f...</td>\n",
              "      <td>46.0</td>\n",
              "      <td>1974-10-15</td>\n",
              "      <td>F</td>\n",
              "      <td>2.0</td>\n",
              "      <td>PRETA</td>\n",
              "      <td>320500.0</td>\n",
              "      <td>10.0</td>\n",
              "      <td>SERRA</td>\n",
              "      <td>BRASIL</td>\n",
              "      <td>ES</td>\n",
              "      <td>B</td>\n",
              "      <td>6198201</td>\n",
              "      <td>315780.0</td>\n",
              "      <td>SANTA LUZIA</td>\n",
              "      <td>MG</td>\n",
              "      <td>923</td>\n",
              "      <td>Técnico de Enfermagem</td>\n",
              "      <td>9.0</td>\n",
              "      <td>Trabalhadores de Saúde</td>\n",
              "      <td>FUNDACAO OSWALDO CRUZ</td>\n",
              "      <td>2021-02-04T03:00:00.000Z</td>\n",
              "      <td>1ª Dose</td>\n",
              "      <td>Vacina Covid-19 - Covishield</td>\n",
              "      <td>2021-02-25 18:47:19</td>\n",
              "      <td>6198201</td>\n",
              "      <td>UNIDADE DE SAUDE JABAQUARA</td>\n",
              "      <td>CENTRO DE SAUDE/UNIDADE BASICA</td>\n",
              "      <td>M</td>\n",
              "      <td>MG</td>\n",
              "    </tr>\n",
              "    <tr>\n",
              "      <th>3381752</th>\n",
              "      <td>d03fed94-f7e7-4d8f-a0af-2f14c9944b4e-i0b0</td>\n",
              "      <td>50e84010f270f173b00894cd0ddb309a82acde15e5b189...</td>\n",
              "      <td>93.0</td>\n",
              "      <td>1927-06-26</td>\n",
              "      <td>F</td>\n",
              "      <td>1.0</td>\n",
              "      <td>BRANCA</td>\n",
              "      <td>320150.0</td>\n",
              "      <td>10.0</td>\n",
              "      <td>COLATINA</td>\n",
              "      <td>BRASIL</td>\n",
              "      <td>ES</td>\n",
              "      <td>B</td>\n",
              "      <td>2102994</td>\n",
              "      <td>310110.0</td>\n",
              "      <td>AIMORES</td>\n",
              "      <td>MG</td>\n",
              "      <td>205</td>\n",
              "      <td>Pessoas de 80 anos ou mais</td>\n",
              "      <td>2.0</td>\n",
              "      <td>Faixa Etária</td>\n",
              "      <td>FUNDACAO BUTANTAN</td>\n",
              "      <td>2021-02-19T03:00:00.000Z</td>\n",
              "      <td>1ª Dose</td>\n",
              "      <td>Covid-19-Coronavac-Sinovac/Butantan</td>\n",
              "      <td>2021-02-21 14:29:54</td>\n",
              "      <td>2102994</td>\n",
              "      <td>PSF PENHA DO CAPIM</td>\n",
              "      <td>CENTRO DE SAUDE/UNIDADE BASICA</td>\n",
              "      <td>M</td>\n",
              "      <td>MG</td>\n",
              "    </tr>\n",
              "    <tr>\n",
              "      <th>3382022</th>\n",
              "      <td>1ac2d34a-8a2f-4f32-8731-afb989ba1321-i0b0</td>\n",
              "      <td>6703dd71bb489ccd199892cff0198a6ca2c563319453f5...</td>\n",
              "      <td>44.0</td>\n",
              "      <td>1976-11-20</td>\n",
              "      <td>M</td>\n",
              "      <td>99.0</td>\n",
              "      <td>SEM INFORMACAO</td>\n",
              "      <td>317020.0</td>\n",
              "      <td>10.0</td>\n",
              "      <td>UBERLANDIA</td>\n",
              "      <td>BRASIL</td>\n",
              "      <td>MG</td>\n",
              "      <td>B</td>\n",
              "      <td>3512401</td>\n",
              "      <td>355030.0</td>\n",
              "      <td>SAO PAULO</td>\n",
              "      <td>SP</td>\n",
              "      <td>926</td>\n",
              "      <td>Outros</td>\n",
              "      <td>9.0</td>\n",
              "      <td>Trabalhadores de Saúde</td>\n",
              "      <td>Sinovac</td>\n",
              "      <td>2021-01-27T00:00:00.000Z</td>\n",
              "      <td>1ª Dose</td>\n",
              "      <td>Covid-19-Coronavac-Sinovac/Butantan</td>\n",
              "      <td>2021-01-27 11:01:32</td>\n",
              "      <td>3512401</td>\n",
              "      <td>HOSP MAT PARANAGUA</td>\n",
              "      <td>HOSPITAL GERAL</td>\n",
              "      <td>M</td>\n",
              "      <td>SP</td>\n",
              "    </tr>\n",
              "    <tr>\n",
              "      <th>3382041</th>\n",
              "      <td>644ddd89-2260-4f22-9d75-fbcd8753ab2d-i0b0</td>\n",
              "      <td>a5a68d55ecbbc3136eb446f4f6335358ff0df16a120ca6...</td>\n",
              "      <td>98.0</td>\n",
              "      <td>1923-01-29</td>\n",
              "      <td>M</td>\n",
              "      <td>1.0</td>\n",
              "      <td>BRANCA</td>\n",
              "      <td>351620.0</td>\n",
              "      <td>10.0</td>\n",
              "      <td>FRANCA</td>\n",
              "      <td>BRASIL</td>\n",
              "      <td>SP</td>\n",
              "      <td>B</td>\n",
              "      <td>7048505</td>\n",
              "      <td>311610.0</td>\n",
              "      <td>CHAPADA DO NORTE</td>\n",
              "      <td>MG</td>\n",
              "      <td>205</td>\n",
              "      <td>Pessoas de 80 anos ou mais</td>\n",
              "      <td>2.0</td>\n",
              "      <td>Faixa Etária</td>\n",
              "      <td>FUNDACAO BUTANTAN</td>\n",
              "      <td>2021-02-15T03:00:00.000Z</td>\n",
              "      <td>1ª Dose</td>\n",
              "      <td>Covid-19-Coronavac-Sinovac/Butantan</td>\n",
              "      <td>2021-02-17 12:27:05</td>\n",
              "      <td>7048505</td>\n",
              "      <td>UNIDADE BASICA DE SAUDE BATIEIRO</td>\n",
              "      <td>CENTRO DE SAUDE/UNIDADE BASICA</td>\n",
              "      <td>M</td>\n",
              "      <td>MG</td>\n",
              "    </tr>\n",
              "    <tr>\n",
              "      <th>3382286</th>\n",
              "      <td>c4e2163d-c00f-4e1d-ac8b-d9321dcb9557-i0b0</td>\n",
              "      <td>f740d8c741f78b60472e1ce9528556ed4bd7e5418b9548...</td>\n",
              "      <td>50.0</td>\n",
              "      <td>1970-05-11</td>\n",
              "      <td>F</td>\n",
              "      <td>1.0</td>\n",
              "      <td>BRANCA</td>\n",
              "      <td>330630.0</td>\n",
              "      <td>10.0</td>\n",
              "      <td>VOLTA REDONDA</td>\n",
              "      <td>BRASIL</td>\n",
              "      <td>RJ</td>\n",
              "      <td>B</td>\n",
              "      <td>2074672</td>\n",
              "      <td>350315.0</td>\n",
              "      <td>ARAPEI</td>\n",
              "      <td>SP</td>\n",
              "      <td>926</td>\n",
              "      <td>Outros</td>\n",
              "      <td>9.0</td>\n",
              "      <td>Trabalhadores de Saúde</td>\n",
              "      <td>Sinovac</td>\n",
              "      <td>2021-01-21T00:00:00.000Z</td>\n",
              "      <td>1ª Dose</td>\n",
              "      <td>Covid-19-Coronavac-Sinovac/Butantan</td>\n",
              "      <td>2021-01-21 07:01:40</td>\n",
              "      <td>2074672</td>\n",
              "      <td>UNIDADE BASICA DE SAUDE DE ARAPEI DR HAROLDO V...</td>\n",
              "      <td>CENTRO DE SAUDE/UNIDADE BASICA</td>\n",
              "      <td>M</td>\n",
              "      <td>SP</td>\n",
              "    </tr>\n",
              "  </tbody>\n",
              "</table>\n",
              "<p>45746 rows × 31 columns</p>\n",
              "</div>"
            ],
            "text/plain": [
              "                                       document_id  ...  uf\n",
              "353      a6e79060-0ab4-4eb7-8270-962057b68ca7-i0b0  ...  SP\n",
              "639      bb2bb81b-4493-46cf-acba-4e782e3cbcec-i0b0  ...  SP\n",
              "708      08fbce36-138e-4001-b12f-45f48b3f7527-i0b0  ...  SP\n",
              "901      58aa3448-023d-4c5b-aaeb-208f01e873a4-i0b0  ...  SP\n",
              "1040     1abc359c-9e28-402c-a120-0661ddef1f2e-i0b0  ...  SP\n",
              "...                                            ...  ...  ..\n",
              "3381695  cb833e73-4dc6-46cb-bc2d-faacc5da4243-i0b0  ...  MG\n",
              "3381752  d03fed94-f7e7-4d8f-a0af-2f14c9944b4e-i0b0  ...  MG\n",
              "3382022  1ac2d34a-8a2f-4f32-8731-afb989ba1321-i0b0  ...  SP\n",
              "3382041  644ddd89-2260-4f22-9d75-fbcd8753ab2d-i0b0  ...  MG\n",
              "3382286  c4e2163d-c00f-4e1d-ac8b-d9321dcb9557-i0b0  ...  SP\n",
              "\n",
              "[45746 rows x 31 columns]"
            ]
          },
          "metadata": {
            "tags": []
          },
          "execution_count": 51
        }
      ]
    },
    {
      "cell_type": "code",
      "metadata": {
        "id": "PARLOAHHhKv-"
      },
      "source": [
        "# Criação do dataframe da região norte\n",
        "df_norte = df_merge.query('paciente_endereco_uf in [\"AM\", \"AC\", \"AP\", \"PA\", \"RO\", \"RR\", \"TO\"]')"
      ],
      "execution_count": 52,
      "outputs": []
    },
    {
      "cell_type": "code",
      "metadata": {
        "id": "sfvOffCmh9e1",
        "colab": {
          "base_uri": "https://localhost:8080/"
        },
        "outputId": "aa8f9235-7c8e-4448-afbc-78d5a229f368"
      },
      "source": [
        "df_norte['paciente_endereco_uf'].value_counts()"
      ],
      "execution_count": 53,
      "outputs": [
        {
          "output_type": "execute_result",
          "data": {
            "text/plain": [
              "AM    211314\n",
              "PA    139671\n",
              "TO     45647\n",
              "RO     33705\n",
              "AC     21271\n",
              "RR     19496\n",
              "AP     17193\n",
              "Name: paciente_endereco_uf, dtype: int64"
            ]
          },
          "metadata": {
            "tags": []
          },
          "execution_count": 53
        }
      ]
    },
    {
      "cell_type": "code",
      "metadata": {
        "id": "_xRHLpETkqYZ",
        "colab": {
          "base_uri": "https://localhost:8080/",
          "height": 1000
        },
        "outputId": "8c5a6ce8-c843-4e27-e5d7-bc79c4770f41"
      },
      "source": [
        "df_norte"
      ],
      "execution_count": 54,
      "outputs": [
        {
          "output_type": "execute_result",
          "data": {
            "text/html": [
              "<div>\n",
              "<style scoped>\n",
              "    .dataframe tbody tr th:only-of-type {\n",
              "        vertical-align: middle;\n",
              "    }\n",
              "\n",
              "    .dataframe tbody tr th {\n",
              "        vertical-align: top;\n",
              "    }\n",
              "\n",
              "    .dataframe thead th {\n",
              "        text-align: right;\n",
              "    }\n",
              "</style>\n",
              "<table border=\"1\" class=\"dataframe\">\n",
              "  <thead>\n",
              "    <tr style=\"text-align: right;\">\n",
              "      <th></th>\n",
              "      <th>document_id</th>\n",
              "      <th>paciente_id</th>\n",
              "      <th>paciente_idade</th>\n",
              "      <th>paciente_dataNascimento</th>\n",
              "      <th>paciente_enumSexoBiologico</th>\n",
              "      <th>paciente_racaCor_codigo</th>\n",
              "      <th>paciente_racaCor_valor</th>\n",
              "      <th>paciente_endereco_coIbgeMunicipio</th>\n",
              "      <th>paciente_endereco_coPais</th>\n",
              "      <th>paciente_endereco_nmMunicipio</th>\n",
              "      <th>paciente_endereco_nmPais</th>\n",
              "      <th>paciente_endereco_uf</th>\n",
              "      <th>paciente_nacionalidade_enumNacionalidade</th>\n",
              "      <th>estabelecimento_valor</th>\n",
              "      <th>estabelecimento_municipio_codigo</th>\n",
              "      <th>estabelecimento_municipio_nome</th>\n",
              "      <th>estabelecimento_uf</th>\n",
              "      <th>vacina_grupoAtendimento_codigo</th>\n",
              "      <th>vacina_grupoAtendimento_nome</th>\n",
              "      <th>vacina_categoria_codigo</th>\n",
              "      <th>vacina_categoria_nome</th>\n",
              "      <th>vacina_fabricante_nome</th>\n",
              "      <th>vacina_dataAplicacao</th>\n",
              "      <th>vacina_descricao_dose</th>\n",
              "      <th>vacina_nome</th>\n",
              "      <th>data_importacao_rnds</th>\n",
              "      <th>co_cnes</th>\n",
              "      <th>no_fantasia</th>\n",
              "      <th>ds_tipo_unidade</th>\n",
              "      <th>tp_gestao</th>\n",
              "      <th>uf</th>\n",
              "    </tr>\n",
              "  </thead>\n",
              "  <tbody>\n",
              "    <tr>\n",
              "      <th>37</th>\n",
              "      <td>3dfc58d4-862d-42a8-ad3b-fb77b4dcff80-i0b0</td>\n",
              "      <td>01a928b2ace5b2f5c83d31f3f32e752b59e3fad4b7269b...</td>\n",
              "      <td>25.0</td>\n",
              "      <td>1995-08-20</td>\n",
              "      <td>F</td>\n",
              "      <td>3.0</td>\n",
              "      <td>PARDA</td>\n",
              "      <td>150360.0</td>\n",
              "      <td>10.0</td>\n",
              "      <td>ITAITUBA</td>\n",
              "      <td>BRASIL</td>\n",
              "      <td>PA</td>\n",
              "      <td>B</td>\n",
              "      <td>2082772</td>\n",
              "      <td>352900.0</td>\n",
              "      <td>MARILIA</td>\n",
              "      <td>SP</td>\n",
              "      <td>926</td>\n",
              "      <td>Outros</td>\n",
              "      <td>9.0</td>\n",
              "      <td>Trabalhadores de Saúde</td>\n",
              "      <td>AstraZeneca/Oxford</td>\n",
              "      <td>2021-01-30T00:00:00.000Z</td>\n",
              "      <td>1ª Dose</td>\n",
              "      <td>Vacina Covid-19 - Covishield</td>\n",
              "      <td>2021-01-30 12:01:28</td>\n",
              "      <td>2082772</td>\n",
              "      <td>UBS CASCATA</td>\n",
              "      <td>CENTRO DE SAUDE/UNIDADE BASICA</td>\n",
              "      <td>M</td>\n",
              "      <td>SP</td>\n",
              "    </tr>\n",
              "    <tr>\n",
              "      <th>425</th>\n",
              "      <td>12a02188-a574-454a-bc3a-c0e5d06d90ef-i0b0</td>\n",
              "      <td>1226eac6a1a9df2832b8e13e1cdac0ca6c02212de2e3cf...</td>\n",
              "      <td>48.0</td>\n",
              "      <td>1972-09-18</td>\n",
              "      <td>F</td>\n",
              "      <td>1.0</td>\n",
              "      <td>BRANCA</td>\n",
              "      <td>150503.0</td>\n",
              "      <td>10.0</td>\n",
              "      <td>NOVO PROGRESSO</td>\n",
              "      <td>BRASIL</td>\n",
              "      <td>PA</td>\n",
              "      <td>B</td>\n",
              "      <td>2082772</td>\n",
              "      <td>352900.0</td>\n",
              "      <td>MARILIA</td>\n",
              "      <td>SP</td>\n",
              "      <td>926</td>\n",
              "      <td>Outros</td>\n",
              "      <td>9.0</td>\n",
              "      <td>Trabalhadores de Saúde</td>\n",
              "      <td>AstraZeneca/Oxford</td>\n",
              "      <td>2021-01-30T00:00:00.000Z</td>\n",
              "      <td>1ª Dose</td>\n",
              "      <td>Vacina Covid-19 - Covishield</td>\n",
              "      <td>2021-01-30 11:01:32</td>\n",
              "      <td>2082772</td>\n",
              "      <td>UBS CASCATA</td>\n",
              "      <td>CENTRO DE SAUDE/UNIDADE BASICA</td>\n",
              "      <td>M</td>\n",
              "      <td>SP</td>\n",
              "    </tr>\n",
              "    <tr>\n",
              "      <th>1726</th>\n",
              "      <td>0dee2e04-4a79-4c7e-b48c-838ac4ab5ab3-i0b0</td>\n",
              "      <td>4a3132e90777d778c9119abbd59914d77f1d572e6ddbec...</td>\n",
              "      <td>87.0</td>\n",
              "      <td>1933-11-02</td>\n",
              "      <td>M</td>\n",
              "      <td>1.0</td>\n",
              "      <td>BRANCA</td>\n",
              "      <td>110020.0</td>\n",
              "      <td>10.0</td>\n",
              "      <td>PORTO VELHO</td>\n",
              "      <td>BRASIL</td>\n",
              "      <td>RO</td>\n",
              "      <td>B</td>\n",
              "      <td>2082772</td>\n",
              "      <td>352900.0</td>\n",
              "      <td>MARILIA</td>\n",
              "      <td>SP</td>\n",
              "      <td>205</td>\n",
              "      <td>Pessoas de 80 anos ou mais</td>\n",
              "      <td>2.0</td>\n",
              "      <td>Faixa Etária</td>\n",
              "      <td>Sinovac</td>\n",
              "      <td>2021-02-11T00:00:00.000Z</td>\n",
              "      <td>1ª Dose</td>\n",
              "      <td>Covid-19-Coronavac-Sinovac/Butantan</td>\n",
              "      <td>2021-02-11 15:02:00</td>\n",
              "      <td>2082772</td>\n",
              "      <td>UBS CASCATA</td>\n",
              "      <td>CENTRO DE SAUDE/UNIDADE BASICA</td>\n",
              "      <td>M</td>\n",
              "      <td>SP</td>\n",
              "    </tr>\n",
              "    <tr>\n",
              "      <th>3647</th>\n",
              "      <td>d7948974-f1d1-4114-afcf-f493b1078dbb-i0b0</td>\n",
              "      <td>9cbeef584b47dafe2d60ce90121e9f23f7092a4a37ae59...</td>\n",
              "      <td>85.0</td>\n",
              "      <td>1935-07-25</td>\n",
              "      <td>F</td>\n",
              "      <td>1.0</td>\n",
              "      <td>BRANCA</td>\n",
              "      <td>172100.0</td>\n",
              "      <td>10.0</td>\n",
              "      <td>PALMAS</td>\n",
              "      <td>BRASIL</td>\n",
              "      <td>TO</td>\n",
              "      <td>B</td>\n",
              "      <td>2082772</td>\n",
              "      <td>352900.0</td>\n",
              "      <td>MARILIA</td>\n",
              "      <td>SP</td>\n",
              "      <td>205</td>\n",
              "      <td>Pessoas de 80 anos ou mais</td>\n",
              "      <td>2.0</td>\n",
              "      <td>Faixa Etária</td>\n",
              "      <td>Sinovac</td>\n",
              "      <td>2021-02-01T00:00:00.000Z</td>\n",
              "      <td>1ª Dose</td>\n",
              "      <td>Covid-19-Coronavac-Sinovac/Butantan</td>\n",
              "      <td>2021-02-01 15:02:00</td>\n",
              "      <td>2082772</td>\n",
              "      <td>UBS CASCATA</td>\n",
              "      <td>CENTRO DE SAUDE/UNIDADE BASICA</td>\n",
              "      <td>M</td>\n",
              "      <td>SP</td>\n",
              "    </tr>\n",
              "    <tr>\n",
              "      <th>3666</th>\n",
              "      <td>d4bb084f-20bd-448a-b04e-b66119431942-i0b0</td>\n",
              "      <td>9de05f3ce92ad84cc53c72c16246f32305d001b0b434bd...</td>\n",
              "      <td>54.0</td>\n",
              "      <td>1966-10-20</td>\n",
              "      <td>M</td>\n",
              "      <td>4.0</td>\n",
              "      <td>AMARELA</td>\n",
              "      <td>130280.0</td>\n",
              "      <td>10.0</td>\n",
              "      <td>MARAA</td>\n",
              "      <td>BRASIL</td>\n",
              "      <td>AM</td>\n",
              "      <td>B</td>\n",
              "      <td>2082772</td>\n",
              "      <td>352900.0</td>\n",
              "      <td>MARILIA</td>\n",
              "      <td>SP</td>\n",
              "      <td>926</td>\n",
              "      <td>Outros</td>\n",
              "      <td>9.0</td>\n",
              "      <td>Trabalhadores de Saúde</td>\n",
              "      <td>AstraZeneca/Oxford</td>\n",
              "      <td>2021-01-29T00:00:00.000Z</td>\n",
              "      <td>1ª Dose</td>\n",
              "      <td>Vacina Covid-19 - Covishield</td>\n",
              "      <td>2021-01-29 03:00:00</td>\n",
              "      <td>2082772</td>\n",
              "      <td>UBS CASCATA</td>\n",
              "      <td>CENTRO DE SAUDE/UNIDADE BASICA</td>\n",
              "      <td>M</td>\n",
              "      <td>SP</td>\n",
              "    </tr>\n",
              "    <tr>\n",
              "      <th>...</th>\n",
              "      <td>...</td>\n",
              "      <td>...</td>\n",
              "      <td>...</td>\n",
              "      <td>...</td>\n",
              "      <td>...</td>\n",
              "      <td>...</td>\n",
              "      <td>...</td>\n",
              "      <td>...</td>\n",
              "      <td>...</td>\n",
              "      <td>...</td>\n",
              "      <td>...</td>\n",
              "      <td>...</td>\n",
              "      <td>...</td>\n",
              "      <td>...</td>\n",
              "      <td>...</td>\n",
              "      <td>...</td>\n",
              "      <td>...</td>\n",
              "      <td>...</td>\n",
              "      <td>...</td>\n",
              "      <td>...</td>\n",
              "      <td>...</td>\n",
              "      <td>...</td>\n",
              "      <td>...</td>\n",
              "      <td>...</td>\n",
              "      <td>...</td>\n",
              "      <td>...</td>\n",
              "      <td>...</td>\n",
              "      <td>...</td>\n",
              "      <td>...</td>\n",
              "      <td>...</td>\n",
              "      <td>...</td>\n",
              "    </tr>\n",
              "    <tr>\n",
              "      <th>3382266</th>\n",
              "      <td>ef97e480-4723-4060-9636-576fd6b3400c-i0b0</td>\n",
              "      <td>d2120f1bd6c8f608650bf9a54ca88748692569f24ce4e2...</td>\n",
              "      <td>29.0</td>\n",
              "      <td>1991-01-29</td>\n",
              "      <td>M</td>\n",
              "      <td>3.0</td>\n",
              "      <td>PARDA</td>\n",
              "      <td>130260.0</td>\n",
              "      <td>10.0</td>\n",
              "      <td>MANAUS</td>\n",
              "      <td>BRASIL</td>\n",
              "      <td>AM</td>\n",
              "      <td>B</td>\n",
              "      <td>3748774</td>\n",
              "      <td>130115.0</td>\n",
              "      <td>CAREIRO DA VARZEA</td>\n",
              "      <td>AM</td>\n",
              "      <td>923</td>\n",
              "      <td>Técnico de Enfermagem</td>\n",
              "      <td>9.0</td>\n",
              "      <td>Trabalhadores de Saúde</td>\n",
              "      <td>FUNDACAO BUTANTAN</td>\n",
              "      <td>2021-01-24T03:00:00.000Z</td>\n",
              "      <td>1ª Dose</td>\n",
              "      <td>Covid-19-Coronavac-Sinovac/Butantan</td>\n",
              "      <td>2021-02-06 21:42:44</td>\n",
              "      <td>3748774</td>\n",
              "      <td>UNIDADE BASICA DE SAUDE ANTONIO BENTO MIGUES</td>\n",
              "      <td>POSTO DE SAUDE</td>\n",
              "      <td>M</td>\n",
              "      <td>AM</td>\n",
              "    </tr>\n",
              "    <tr>\n",
              "      <th>3382267</th>\n",
              "      <td>95d2f604-3a40-4119-9061-d23678e94d66-i0b0</td>\n",
              "      <td>d3604f31f4a6a7e744a42536c15c7185648341b1603ab8...</td>\n",
              "      <td>74.0</td>\n",
              "      <td>1946-07-14</td>\n",
              "      <td>M</td>\n",
              "      <td>4.0</td>\n",
              "      <td>AMARELA</td>\n",
              "      <td>130270.0</td>\n",
              "      <td>10.0</td>\n",
              "      <td>MANICORE</td>\n",
              "      <td>BRASIL</td>\n",
              "      <td>AM</td>\n",
              "      <td>B</td>\n",
              "      <td>2708868</td>\n",
              "      <td>130270.0</td>\n",
              "      <td>MANICORE</td>\n",
              "      <td>AM</td>\n",
              "      <td>0</td>\n",
              "      <td>NaN</td>\n",
              "      <td>NaN</td>\n",
              "      <td>NaN</td>\n",
              "      <td>SERUM INSTITUTE OF INDIA LTD</td>\n",
              "      <td>2021-02-19T00:00:00.000Z</td>\n",
              "      <td>1ª Dose</td>\n",
              "      <td>Covid-19-Coronavac-Sinovac/Butantan</td>\n",
              "      <td>2021-03-02 20:31:21</td>\n",
              "      <td>2708868</td>\n",
              "      <td>CENTRO DE SAUDE MAE LAURINDA</td>\n",
              "      <td>CENTRO DE SAUDE/UNIDADE BASICA</td>\n",
              "      <td>M</td>\n",
              "      <td>AM</td>\n",
              "    </tr>\n",
              "    <tr>\n",
              "      <th>3382268</th>\n",
              "      <td>6ae9f792-a3fd-4959-9d7b-f351b7f39887-i0b0</td>\n",
              "      <td>d5609f55139e9df810ef79744aed82807d50d158cadea1...</td>\n",
              "      <td>73.0</td>\n",
              "      <td>1947-05-05</td>\n",
              "      <td>F</td>\n",
              "      <td>4.0</td>\n",
              "      <td>AMARELA</td>\n",
              "      <td>130270.0</td>\n",
              "      <td>10.0</td>\n",
              "      <td>MANICORE</td>\n",
              "      <td>BRASIL</td>\n",
              "      <td>AM</td>\n",
              "      <td>B</td>\n",
              "      <td>2708868</td>\n",
              "      <td>130270.0</td>\n",
              "      <td>MANICORE</td>\n",
              "      <td>AM</td>\n",
              "      <td>0</td>\n",
              "      <td>NaN</td>\n",
              "      <td>NaN</td>\n",
              "      <td>NaN</td>\n",
              "      <td>SERUM INSTITUTE OF INDIA LTD</td>\n",
              "      <td>2021-02-19T00:00:00.000Z</td>\n",
              "      <td>1ª Dose</td>\n",
              "      <td>Covid-19-Coronavac-Sinovac/Butantan</td>\n",
              "      <td>2021-03-02 20:31:21</td>\n",
              "      <td>2708868</td>\n",
              "      <td>CENTRO DE SAUDE MAE LAURINDA</td>\n",
              "      <td>CENTRO DE SAUDE/UNIDADE BASICA</td>\n",
              "      <td>M</td>\n",
              "      <td>AM</td>\n",
              "    </tr>\n",
              "    <tr>\n",
              "      <th>3382285</th>\n",
              "      <td>023d5f9a-8c59-4a36-abe7-2cb1225d3df8-i0b0</td>\n",
              "      <td>f704547d24ac4e8e2f1463f376dac0edef303e421b4b29...</td>\n",
              "      <td>28.0</td>\n",
              "      <td>1992-10-22</td>\n",
              "      <td>M</td>\n",
              "      <td>3.0</td>\n",
              "      <td>PARDA</td>\n",
              "      <td>150030.0</td>\n",
              "      <td>10.0</td>\n",
              "      <td>AFUA</td>\n",
              "      <td>BRASIL</td>\n",
              "      <td>PA</td>\n",
              "      <td>B</td>\n",
              "      <td>6816916</td>\n",
              "      <td>150250.0</td>\n",
              "      <td>CHAVES</td>\n",
              "      <td>PA</td>\n",
              "      <td>923</td>\n",
              "      <td>Técnico de Enfermagem</td>\n",
              "      <td>9.0</td>\n",
              "      <td>Trabalhadores de Saúde</td>\n",
              "      <td>FUNDACAO BUTANTAN</td>\n",
              "      <td>2021-01-20T00:00:00.000Z</td>\n",
              "      <td>1ª Dose</td>\n",
              "      <td>Covid-19-Coronavac-Sinovac/Butantan</td>\n",
              "      <td>2021-01-24 00:54:08</td>\n",
              "      <td>6816916</td>\n",
              "      <td>POSTO DE SAUDE UBUSSUTUBA</td>\n",
              "      <td>POSTO DE SAUDE</td>\n",
              "      <td>M</td>\n",
              "      <td>PA</td>\n",
              "    </tr>\n",
              "    <tr>\n",
              "      <th>3382287</th>\n",
              "      <td>a3dd3bd4-8aaf-4789-9651-4d8e700c3f09-i0b0</td>\n",
              "      <td>fa3ceef08b05af337d2fe43194a74b4878bbd95af726ee...</td>\n",
              "      <td>87.0</td>\n",
              "      <td>1933-06-23</td>\n",
              "      <td>M</td>\n",
              "      <td>3.0</td>\n",
              "      <td>PARDA</td>\n",
              "      <td>150360.0</td>\n",
              "      <td>10.0</td>\n",
              "      <td>ITAITUBA</td>\n",
              "      <td>BRASIL</td>\n",
              "      <td>PA</td>\n",
              "      <td>B</td>\n",
              "      <td>7648839</td>\n",
              "      <td>150360.0</td>\n",
              "      <td>ITAITUBA</td>\n",
              "      <td>PA</td>\n",
              "      <td>205</td>\n",
              "      <td>Pessoas de 80 anos ou mais</td>\n",
              "      <td>2.0</td>\n",
              "      <td>Faixa Etária</td>\n",
              "      <td>FUNDACAO BUTANTAN</td>\n",
              "      <td>2021-02-04T03:00:00.000Z</td>\n",
              "      <td>1ª Dose</td>\n",
              "      <td>Covid-19-Coronavac-Sinovac/Butantan</td>\n",
              "      <td>2021-02-09 20:03:49</td>\n",
              "      <td>7648839</td>\n",
              "      <td>UNIDADE BASICA DE SAUDE VALE DO PIRACANA</td>\n",
              "      <td>CENTRO DE SAUDE/UNIDADE BASICA</td>\n",
              "      <td>M</td>\n",
              "      <td>PA</td>\n",
              "    </tr>\n",
              "  </tbody>\n",
              "</table>\n",
              "<p>488297 rows × 31 columns</p>\n",
              "</div>"
            ],
            "text/plain": [
              "                                       document_id  ...  uf\n",
              "37       3dfc58d4-862d-42a8-ad3b-fb77b4dcff80-i0b0  ...  SP\n",
              "425      12a02188-a574-454a-bc3a-c0e5d06d90ef-i0b0  ...  SP\n",
              "1726     0dee2e04-4a79-4c7e-b48c-838ac4ab5ab3-i0b0  ...  SP\n",
              "3647     d7948974-f1d1-4114-afcf-f493b1078dbb-i0b0  ...  SP\n",
              "3666     d4bb084f-20bd-448a-b04e-b66119431942-i0b0  ...  SP\n",
              "...                                            ...  ...  ..\n",
              "3382266  ef97e480-4723-4060-9636-576fd6b3400c-i0b0  ...  AM\n",
              "3382267  95d2f604-3a40-4119-9061-d23678e94d66-i0b0  ...  AM\n",
              "3382268  6ae9f792-a3fd-4959-9d7b-f351b7f39887-i0b0  ...  AM\n",
              "3382285  023d5f9a-8c59-4a36-abe7-2cb1225d3df8-i0b0  ...  PA\n",
              "3382287  a3dd3bd4-8aaf-4789-9651-4d8e700c3f09-i0b0  ...  PA\n",
              "\n",
              "[488297 rows x 31 columns]"
            ]
          },
          "metadata": {
            "tags": []
          },
          "execution_count": 54
        }
      ]
    },
    {
      "cell_type": "code",
      "metadata": {
        "id": "RuoVcISLq3Bv",
        "colab": {
          "base_uri": "https://localhost:8080/"
        },
        "outputId": "292a9c8c-1dbe-40c2-d257-53adc6492b2a"
      },
      "source": [
        "df_norte['estabelecimento_uf'].value_counts()"
      ],
      "execution_count": 55,
      "outputs": [
        {
          "output_type": "execute_result",
          "data": {
            "text/plain": [
              "AM    212500\n",
              "PA    137008\n",
              "TO     44612\n",
              "RO     31762\n",
              "AC     20382\n",
              "RR     19229\n",
              "AP     17211\n",
              "SP      4358\n",
              "RJ       571\n",
              "MG       477\n",
              "ES       187\n",
              "Name: estabelecimento_uf, dtype: int64"
            ]
          },
          "metadata": {
            "tags": []
          },
          "execution_count": 55
        }
      ]
    },
    {
      "cell_type": "code",
      "metadata": {
        "id": "MAI1hZhyu3gn",
        "outputId": "d3926de8-44ac-4466-c814-e0d4f602b4ab",
        "colab": {
          "base_uri": "https://localhost:8080/"
        }
      },
      "source": [
        "# Total de vacinados por sexo na região norte\n",
        "df_norte['paciente_enumSexoBiologico'].value_counts()"
      ],
      "execution_count": 59,
      "outputs": [
        {
          "output_type": "execute_result",
          "data": {
            "text/plain": [
              "F    291427\n",
              "M    196870\n",
              "Name: paciente_enumSexoBiologico, dtype: int64"
            ]
          },
          "metadata": {
            "tags": []
          },
          "execution_count": 59
        }
      ]
    },
    {
      "cell_type": "code",
      "metadata": {
        "id": "zj_woCyAumjU",
        "outputId": "51bd7378-883a-4e48-8258-102748e90111",
        "colab": {
          "base_uri": "https://localhost:8080/",
          "height": 281
        }
      },
      "source": [
        "df_norte['paciente_enumSexoBiologico'].value_counts().plot.bar()"
      ],
      "execution_count": 57,
      "outputs": [
        {
          "output_type": "execute_result",
          "data": {
            "text/plain": [
              "<matplotlib.axes._subplots.AxesSubplot at 0x7f664b771c50>"
            ]
          },
          "metadata": {
            "tags": []
          },
          "execution_count": 57
        },
        {
          "output_type": "display_data",
          "data": {
            "image/png": "[encoded data removed]",
            "text/plain": [
              "<Figure size 432x288 with 1 Axes>"
            ]
          },
          "metadata": {
            "tags": [],
            "needs_background": "light"
          }
        }
      ]
    },
    {
      "cell_type": "markdown",
      "metadata": {
        "id": "beMtEOLCHQym"
      },
      "source": [
        "\n"
      ]
    }
  ]
}