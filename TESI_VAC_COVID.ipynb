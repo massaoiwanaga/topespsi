{
  "nbformat": 4,
  "nbformat_minor": 0,
  "metadata": {
    "colab": {
      "name": "TESI_VAC_COVID.ipynb",
      "provenance": [],
      "collapsed_sections": [],
      "include_colab_link": true
    },
    "kernelspec": {
      "name": "python3",
      "display_name": "Python 3"
    }
  },
  "cells": [
    {
      "cell_type": "markdown",
      "metadata": {
        "id": "view-in-github",
        "colab_type": "text"
      },
      "source": [
        "<a href=\"https://colab.research.google.com/github/massaoiwanaga/topespsi/blob/main/TESI_VAC_COVID.ipynb\" target=\"_parent\"><img src=\"https://colab.research.google.com/assets/colab-badge.svg\" alt=\"Open In Colab\"/></a>"
      ]
    },
    {
      "cell_type": "markdown",
      "metadata": {
        "id": "GKM1QhWJkivj"
      },
      "source": [
        "# **Trabalho Disciplina Topicos Especiais em Sistemas de Informação I**\r\n",
        "\r\n",
        "---\r\n",
        "\r\n",
        "## **Saúde (COVID-19)**\r\n",
        "\r\n",
        "> Alessandra Pierro Saraiva\r\n",
        ">\r\n",
        "> Fabiane Monteiro Carvalho\r\n",
        ">\r\n",
        "> Massao Oliveira Iwanaga"
      ]
    },
    {
      "cell_type": "code",
      "metadata": {
        "id": "N_tgSRoh8jka"
      },
      "source": [
        "# Testado no ambiente Google Colab - 1.0.0\r\n",
        "# Python 3.7.10 \r\n",
        "#\r\n",
        "# Bibliotecas utilizadas:\r\n",
        "#  numpy 1.19.5\r\n",
        "#  pandas 1.1.5\r\n",
        "#  matplotlib 3.2.2\r\n",
        "#  pandas_profiling 1.4.1\r\n",
        "#  prov 2.0.0\r\n",
        "#  IPython 5.5.0"
      ],
      "execution_count": null,
      "outputs": []
    },
    {
      "cell_type": "markdown",
      "metadata": {
        "id": "V10aggEoikI0"
      },
      "source": [
        "## Importando a biblioteca pandas"
      ]
    },
    {
      "cell_type": "code",
      "metadata": {
        "id": "ga95m6B_idDm"
      },
      "source": [
        "# importando a biblioteca\r\n",
        "import pandas as pd # pandas\r\n",
        "import numpy as np  # numpy\r\n",
        "import matplotlib.pyplot as plt                # importar a biblioteca matplotlib\r\n",
        "import pandas_profiling"
      ],
      "execution_count": null,
      "outputs": []
    },
    {
      "cell_type": "markdown",
      "metadata": {
        "id": "8ZAujZWhnc5H"
      },
      "source": [
        "## Instalação da biblioteca PROV"
      ]
    },
    {
      "cell_type": "code",
      "metadata": {
        "id": "mA2bEk1znqQr",
        "colab": {
          "base_uri": "https://localhost:8080/"
        },
        "outputId": "b2d5727f-9de6-49dd-9401-13f92bf18e64"
      },
      "source": [
        "#Instalação da biblioteca PROV no ambiente COLAB\r\n",
        "#Essa biblioteca implementa em Python o Modelo de Dados PROV da W3C\r\n",
        "!pip install prov"
      ],
      "execution_count": null,
      "outputs": [
        {
          "output_type": "stream",
          "text": [
            "Collecting prov\n",
            "\u001b[?25l  Downloading https://files.pythonhosted.org/packages/cf/8d/9a5110845c6b117d203e3ca9eec5ee79bed29cef508c8415fbc85e900150/prov-2.0.0-py3-none-any.whl (421kB)\n",
            "\u001b[K     |████████████████████████████████| 430kB 5.3MB/s \n",
            "\u001b[?25hRequirement already satisfied: networkx>=2.0 in /usr/local/lib/python3.7/dist-packages (from prov) (2.5)\n",
            "Requirement already satisfied: lxml>=3.3.5 in /usr/local/lib/python3.7/dist-packages (from prov) (4.2.6)\n",
            "Requirement already satisfied: python-dateutil>=2.2 in /usr/local/lib/python3.7/dist-packages (from prov) (2.8.1)\n",
            "Collecting rdflib>=4.2.1\n",
            "\u001b[?25l  Downloading https://files.pythonhosted.org/packages/d0/6b/6454aa1db753c0f8bc265a5bd5c10b5721a4bb24160fb4faf758cf6be8a1/rdflib-5.0.0-py3-none-any.whl (231kB)\n",
            "\u001b[K     |████████████████████████████████| 235kB 8.3MB/s \n",
            "\u001b[?25hRequirement already satisfied: decorator>=4.3.0 in /usr/local/lib/python3.7/dist-packages (from networkx>=2.0->prov) (4.4.2)\n",
            "Requirement already satisfied: six>=1.5 in /usr/local/lib/python3.7/dist-packages (from python-dateutil>=2.2->prov) (1.15.0)\n",
            "Requirement already satisfied: pyparsing in /usr/local/lib/python3.7/dist-packages (from rdflib>=4.2.1->prov) (2.4.7)\n",
            "Collecting isodate\n",
            "\u001b[?25l  Downloading https://files.pythonhosted.org/packages/9b/9f/b36f7774ff5ea8e428fdcfc4bb332c39ee5b9362ddd3d40d9516a55221b2/isodate-0.6.0-py2.py3-none-any.whl (45kB)\n",
            "\u001b[K     |████████████████████████████████| 51kB 4.5MB/s \n",
            "\u001b[?25hInstalling collected packages: isodate, rdflib, prov\n",
            "Successfully installed isodate-0.6.0 prov-2.0.0 rdflib-5.0.0\n"
          ],
          "name": "stdout"
        }
      ]
    },
    {
      "cell_type": "markdown",
      "metadata": {
        "id": "0ZxCO6OmkPHr"
      },
      "source": [
        "## Acessar dados do Google Drive"
      ]
    },
    {
      "cell_type": "code",
      "metadata": {
        "id": "jx_f5KoCiibo",
        "colab": {
          "base_uri": "https://localhost:8080/"
        },
        "outputId": "68787f88-5c49-43fc-f9c4-33ac2ed05639"
      },
      "source": [
        "# Se você está executando o notebook no Google Colab, é necessário montar o drive para o ambiente virtual do Google Drive\r\n",
        "# Clicar no link que aparecerá e será gerada uma chave, que deverá ser colada no campo \"Autorization code\"\r\n",
        "\r\n",
        "from google.colab import drive\r\n",
        "\r\n",
        "drive.mount('/content/drive')"
      ],
      "execution_count": null,
      "outputs": [
        {
          "output_type": "stream",
          "text": [
            "Mounted at /content/drive\n"
          ],
          "name": "stdout"
        }
      ]
    },
    {
      "cell_type": "markdown",
      "metadata": {
        "id": "Xvi7GpG_TyjO"
      },
      "source": [
        "## Informações de proveniência"
      ]
    },
    {
      "cell_type": "code",
      "metadata": {
        "id": "KayJZ9tcT5AE"
      },
      "source": [
        "# Working with PROV\r\n",
        "\r\n",
        "import sys, subprocess, datetime, random\r\n",
        "from prov.model import ProvDocument                                                 #PROV Library\r\n"
      ],
      "execution_count": null,
      "outputs": []
    },
    {
      "cell_type": "code",
      "metadata": {
        "id": "x7Z2qvhQU3RD",
        "colab": {
          "base_uri": "https://localhost:8080/"
        },
        "outputId": "0c3d59e5-56f5-4ca8-9264-35d555a384f9"
      },
      "source": [
        "# Retrospective Provenance variables\r\n",
        "agent    = input(\"Enter the name of the AGENT WHO is running the program: \")        #PROV-Agent\r\n",
        "entity   = input(\"Enter the name of the ENTITY dataset: \")                          #PROV-Entity\r\n",
        "activity = input(\"Enter the name of the ACTIVITY: \")                                #PROV-Activity\r\n",
        "graph = entity                                                                      #PROV-Graph"
      ],
      "execution_count": null,
      "outputs": [
        {
          "output_type": "stream",
          "text": [
            "Enter the name of the AGENT WHO is running the program: Alessandra-Fabiane-Massao\n",
            "Enter the name of the ENTITY dataset: Vacinação\n",
            "Enter the name of the ACTIVITY: Trabalho_Final_DS\n"
          ],
          "name": "stdout"
        }
      ]
    },
    {
      "cell_type": "markdown",
      "metadata": {
        "id": "tym3hACXXAAx"
      },
      "source": [
        ""
      ]
    },
    {
      "cell_type": "code",
      "metadata": {
        "id": "U2SM39XCVw58"
      },
      "source": [
        "### BEGIN - Registering Retrospective Provenance -             #PROV-MODEL\r\n",
        "\r\n",
        "# Creating an empty provenance document\r\n",
        "d1 = ProvDocument()                                                 "
      ],
      "execution_count": null,
      "outputs": []
    },
    {
      "cell_type": "code",
      "metadata": {
        "id": "gCIMJVr8V1Op",
        "colab": {
          "base_uri": "https://localhost:8080/"
        },
        "outputId": "0cc88e6b-6255-45de-fc3e-a3fde9586098"
      },
      "source": [
        "# Declaring namespaces for various prefixes used in the excution of the experiment\r\n",
        "d1.add_namespace('ufrj', 'http://www.ufrj.br/ppgi/')\r\n",
        "d1.add_namespace('foaf', 'http://xmlns.com/foaf/0.1/')\r\n",
        "d1.add_namespace('greco', 'http://www.ufrj.br/ppgi/greco/#')\r\n",
        "\r\n",
        "# Adding an entity\r\n",
        "entity = \"ufrj:\"+ entity\r\n",
        "e1 = d1.entity(entity)\r\n",
        "\r\n",
        "# Adding an Agent \r\n",
        "agent = \"foaf:\"+ agent\r\n",
        "d1.agent(agent)\r\n",
        "\r\n",
        "# Attributing the execution of the experiment to the PROV-Agent\r\n",
        "d1.wasAttributedTo(e1, agent)\r\n",
        "\r\n",
        "# Adding an activity\r\n",
        "activity = \"greco:\"+ activity\r\n",
        "d1.activity(activity)\r\n",
        "\r\n",
        "# Generation\r\n",
        "d1.wasGeneratedBy( entity, activity)"
      ],
      "execution_count": null,
      "outputs": [
        {
          "output_type": "execute_result",
          "data": {
            "text/plain": [
              "<ProvGeneration: (ufrj:Vacinação, greco:Trabalho_Final_DS)>"
            ]
          },
          "metadata": {
            "tags": []
          },
          "execution_count": 21
        }
      ]
    },
    {
      "cell_type": "code",
      "metadata": {
        "id": "f3XY5l2jWM3F",
        "colab": {
          "base_uri": "https://localhost:8080/"
        },
        "outputId": "c18e3f8a-a9de-4fdd-e723-6b8d6a5a78dd"
      },
      "source": [
        "# Adding a role to the PROV-Agent and timestamp to dataset\r\n",
        "d1.agent(agent, {'prov:hadRole': 'Executor', 'foaf:mbox': 'massaoiwanaga@ufrj.br', 'prov:attributedAtTime': str(datetime.datetime.utcnow())})\r\n",
        "d1.entity(entity, {'prov:generatedAtTime': str(datetime.datetime.utcnow())})\r\n",
        "\r\n",
        "### END - Registering Retrospective Provenance "
      ],
      "execution_count": null,
      "outputs": [
        {
          "output_type": "execute_result",
          "data": {
            "text/plain": [
              "<ProvEntity: ufrj:Vacinação>"
            ]
          },
          "metadata": {
            "tags": []
          },
          "execution_count": 22
        }
      ]
    },
    {
      "cell_type": "code",
      "metadata": {
        "id": "QQmk81NJWX3y"
      },
      "source": [
        "### Optional outputs ####\r\n",
        "\r\n",
        "#Generating the outup - a  Provenance Graph\r\n",
        "from prov.dot import prov_to_dot\r\n",
        "dot = prov_to_dot(d1)\r\n",
        "graph = graph +\".png\"\r\n",
        "dot.write_png('/content/drive/My Drive/TESI_FCD/'+graph)"
      ],
      "execution_count": null,
      "outputs": []
    },
    {
      "cell_type": "code",
      "metadata": {
        "id": "B74xIlIyWdU2"
      },
      "source": [
        "#Generating the Serialization - Output XML\r\n",
        "d1.serialize(entity + \".xml\", format='xml') \r\n",
        "\r\n",
        "#Generating the Serialization - Output Turtle\r\n",
        "d1.serialize(entity + \".ttl\", format='rdf', rdf_format='ttl') "
      ],
      "execution_count": null,
      "outputs": []
    },
    {
      "cell_type": "code",
      "metadata": {
        "id": "0vrjsEa0WhoN",
        "colab": {
          "base_uri": "https://localhost:8080/"
        },
        "outputId": "1167caa6-e708-476d-8d16-72ef17a42f06"
      },
      "source": [
        "#Generating the outup of Provenance document\r\n",
        "print ('')\r\n",
        "print ('simple provenance doc')\r\n",
        "print(d1.get_provn())\r\n",
        "print ('')"
      ],
      "execution_count": null,
      "outputs": [
        {
          "output_type": "stream",
          "text": [
            "\n",
            "simple provenance doc\n",
            "document\n",
            "  prefix ufrj <http://www.ufrj.br/ppgi/>\n",
            "  prefix foaf <http://xmlns.com/foaf/0.1/>\n",
            "  prefix greco <http://www.ufrj.br/ppgi/greco/#>\n",
            "  \n",
            "  entity(ufrj:Vacinação)\n",
            "  agent(foaf:Alessandra)\n",
            "  wasAttributedTo(ufrj:Vacinação, foaf:Alessandra)\n",
            "  activity(greco:teste, -, -)\n",
            "  wasGeneratedBy(ufrj:Vacinação, greco:teste, -)\n",
            "  agent(foaf:Alessandra, [prov:hadRole=\"Executor\", foaf:mbox=\"massaoiwanaga@ufrj.br\", prov:attributedAtTime=\"2021-03-16 01:56:47.922469\"])\n",
            "  entity(ufrj:Vacinação, [prov:generatedAtTime=\"2021-03-16 01:56:47.922661\"])\n",
            "endDocument\n",
            "\n"
          ],
          "name": "stdout"
        }
      ]
    },
    {
      "cell_type": "code",
      "metadata": {
        "id": "c2mhS2FHWlUY",
        "colab": {
          "base_uri": "https://localhost:8080/"
        },
        "outputId": "12293139-35b8-4d16-e22c-471f9b2686c9"
      },
      "source": [
        "#Generating the Serialization - Output JSON\r\n",
        "print ('')\r\n",
        "print ('simple provenance JSON')\r\n",
        "print(d1.serialize(indent=2))\r\n",
        "print('')"
      ],
      "execution_count": null,
      "outputs": [
        {
          "output_type": "stream",
          "text": [
            "\n",
            "simple provenance JSON\n",
            "{\n",
            "  \"prefix\": {\n",
            "    \"ufrj\": \"http://www.ufrj.br/ppgi/\",\n",
            "    \"foaf\": \"http://xmlns.com/foaf/0.1/\",\n",
            "    \"greco\": \"http://www.ufrj.br/ppgi/greco/#\"\n",
            "  },\n",
            "  \"entity\": {\n",
            "    \"ufrj:Vacina\\u00e7\\u00e3o\": [\n",
            "      {},\n",
            "      {\n",
            "        \"prov:generatedAtTime\": \"2021-03-16 23:23:40.799230\"\n",
            "      }\n",
            "    ]\n",
            "  },\n",
            "  \"agent\": {\n",
            "    \"foaf:Alessandra-Fabiane-Massao\": [\n",
            "      {},\n",
            "      {\n",
            "        \"prov:hadRole\": \"Executor\",\n",
            "        \"foaf:mbox\": \"massaoiwanaga@ufrj.br\",\n",
            "        \"prov:attributedAtTime\": \"2021-03-16 23:23:40.796857\"\n",
            "      }\n",
            "    ]\n",
            "  },\n",
            "  \"wasAttributedTo\": {\n",
            "    \"_:id1\": {\n",
            "      \"prov:entity\": \"ufrj:Vacina\\u00e7\\u00e3o\",\n",
            "      \"prov:agent\": \"foaf:Alessandra-Fabiane-Massao\"\n",
            "    }\n",
            "  },\n",
            "  \"activity\": {\n",
            "    \"greco:Trabalho_Final_DS\": {}\n",
            "  },\n",
            "  \"wasGeneratedBy\": {\n",
            "    \"_:id2\": {\n",
            "      \"prov:entity\": \"ufrj:Vacina\\u00e7\\u00e3o\",\n",
            "      \"prov:activity\": \"greco:Trabalho_Final_DS\"\n",
            "    }\n",
            "  }\n",
            "}\n",
            "\n"
          ],
          "name": "stdout"
        }
      ]
    },
    {
      "cell_type": "code",
      "metadata": {
        "id": "Jzjk9fAuWpa8",
        "colab": {
          "base_uri": "https://localhost:8080/",
          "height": 301
        },
        "outputId": "387bdd21-1f0f-453e-aee3-4466a95b51bc"
      },
      "source": [
        "# Adding Vizualization the provenance graph in the Jupyter notebook\r\n",
        "from IPython.display import Image\r\n",
        "Image('/content/drive/My Drive/TESI_FCD/'+graph)"
      ],
      "execution_count": null,
      "outputs": [
        {
          "output_type": "execute_result",
          "data": {
            "image/png": "[encoded data removed]",
            "text/plain": [
              "<IPython.core.display.Image object>"
            ]
          },
          "metadata": {
            "tags": []
          },
          "execution_count": 26
        }
      ]
    },
    {
      "cell_type": "markdown",
      "metadata": {
        "id": "jPH2RL_MuprD"
      },
      "source": [
        "## Variáveis gerais do trabalho proposto"
      ]
    },
    {
      "cell_type": "code",
      "metadata": {
        "id": "NlNc6CRoumWr"
      },
      "source": [
        "## Merge entre os dataFrames de Vacinação e CNES# UFs das regiões norte e sudeste, que serão analisadas no trabalho\r\n",
        "\r\n",
        "UFs = ['RJ', 'SP','MG', 'ES', 'AM', 'AC', 'AP', 'PA', 'RO', 'RR', 'TO']"
      ],
      "execution_count": null,
      "outputs": []
    },
    {
      "cell_type": "markdown",
      "metadata": {
        "id": "FjgCAEu6jYo0"
      },
      "source": [
        "## Importação e tratamento do DataSet de Vacinação"
      ]
    },
    {
      "cell_type": "code",
      "metadata": {
        "id": "TQwJ_pn5jyO2"
      },
      "source": [
        "# Salve o dataset de vacinação no diretório TESI_FCD no Google Drive\r\n",
        "# Para tornar o notebook reutilizável, futuramente pode-se solicitar o diretório e o nome do dataset via prompt.\r\n",
        "\r\n",
        "df_vacinacao = pd.read_csv('/content/drive/My Drive/TESI_FCD/part-00000-090405dc-80c4-4889-84c3-a9a390d06947-c000.csv',delimiter=',')"
      ],
      "execution_count": null,
      "outputs": []
    },
    {
      "cell_type": "markdown",
      "metadata": {
        "id": "FFjXn0Fxw7Xv"
      },
      "source": [
        "### Exploração inicial do DataSet de Vacinação"
      ]
    },
    {
      "cell_type": "code",
      "metadata": {
        "id": "w17aVTJRJEHg"
      },
      "source": [
        "# Código reprodutível\r\n",
        "# assert len(df_vacinacao) == 6958578"
      ],
      "execution_count": null,
      "outputs": []
    },
    {
      "cell_type": "code",
      "metadata": {
        "id": "11SdiIamniZE",
        "colab": {
          "base_uri": "https://localhost:8080/"
        },
        "outputId": "4634e967-8b05-4ede-98d0-63783555cbe7"
      },
      "source": [
        "print('Total de registros:',len(df_vacinacao))    # Quantidade de registros do dataset\r\n",
        "print('')\r\n",
        "print(df_vacinacao.info())  # Informações sobre o dataset \r\n",
        "\r\n",
        "# Observe o total de linhas e o total de colunas (33) do dataset"
      ],
      "execution_count": null,
      "outputs": [
        {
          "output_type": "stream",
          "text": [
            "Total de registros: 6958578\n",
            "\n",
            "<class 'pandas.core.frame.DataFrame'>\n",
            "RangeIndex: 6958578 entries, 0 to 6958577\n",
            "Data columns (total 33 columns):\n",
            " #   Column                                    Dtype  \n",
            "---  ------                                    -----  \n",
            " 0   document_id                               object \n",
            " 1   paciente_id                               object \n",
            " 2   paciente_idade                            float64\n",
            " 3   paciente_dataNascimento                   object \n",
            " 4   paciente_enumSexoBiologico                object \n",
            " 5   paciente_racaCor_codigo                   float64\n",
            " 6   paciente_racaCor_valor                    object \n",
            " 7   paciente_endereco_coIbgeMunicipio         object \n",
            " 8   paciente_endereco_coPais                  object \n",
            " 9   paciente_endereco_nmMunicipio             object \n",
            " 10  paciente_endereco_nmPais                  object \n",
            " 11  paciente_endereco_uf                      object \n",
            " 12  paciente_endereco_cep                     object \n",
            " 13  paciente_nacionalidade_enumNacionalidade  object \n",
            " 14  estabelecimento_valor                     int64  \n",
            " 15  estabelecimento_razaoSocial               object \n",
            " 16  estalecimento_noFantasia                  object \n",
            " 17  estabelecimento_municipio_codigo          float64\n",
            " 18  estabelecimento_municipio_nome            object \n",
            " 19  estabelecimento_uf                        object \n",
            " 20  vacina_grupoAtendimento_codigo            int64  \n",
            " 21  vacina_grupoAtendimento_nome              object \n",
            " 22  vacina_categoria_codigo                   float64\n",
            " 23  vacina_categoria_nome                     object \n",
            " 24  vacina_lote                               object \n",
            " 25  vacina_fabricante_nome                    object \n",
            " 26  vacina_fabricante_referencia              object \n",
            " 27  vacina_dataAplicacao                      object \n",
            " 28  vacina_descricao_dose                     object \n",
            " 29  vacina_codigo                             int64  \n",
            " 30  vacina_nome                               object \n",
            " 31  sistema_origem                            object \n",
            " 32  data_importacao_rnds                      object \n",
            "dtypes: float64(4), int64(3), object(26)\n",
            "memory usage: 1.7+ GB\n",
            "None\n"
          ],
          "name": "stdout"
        }
      ]
    },
    {
      "cell_type": "code",
      "metadata": {
        "id": "3j9ZF5Zakzzi",
        "colab": {
          "base_uri": "https://localhost:8080/",
          "height": 951
        },
        "outputId": "78f5c3b3-3843-4b85-88b3-5a38ed6d4777"
      },
      "source": [
        "df_vacinacao.head(10)        # Visualização dos registros iniciais"
      ],
      "execution_count": null,
      "outputs": [
        {
          "output_type": "execute_result",
          "data": {
            "text/html": [
              "<div>\n",
              "<style scoped>\n",
              "    .dataframe tbody tr th:only-of-type {\n",
              "        vertical-align: middle;\n",
              "    }\n",
              "\n",
              "    .dataframe tbody tr th {\n",
              "        vertical-align: top;\n",
              "    }\n",
              "\n",
              "    .dataframe thead th {\n",
              "        text-align: right;\n",
              "    }\n",
              "</style>\n",
              "<table border=\"1\" class=\"dataframe\">\n",
              "  <thead>\n",
              "    <tr style=\"text-align: right;\">\n",
              "      <th></th>\n",
              "      <th>document_id</th>\n",
              "      <th>paciente_id</th>\n",
              "      <th>paciente_idade</th>\n",
              "      <th>paciente_dataNascimento</th>\n",
              "      <th>paciente_enumSexoBiologico</th>\n",
              "      <th>paciente_racaCor_codigo</th>\n",
              "      <th>paciente_racaCor_valor</th>\n",
              "      <th>paciente_endereco_coIbgeMunicipio</th>\n",
              "      <th>paciente_endereco_coPais</th>\n",
              "      <th>paciente_endereco_nmMunicipio</th>\n",
              "      <th>paciente_endereco_nmPais</th>\n",
              "      <th>paciente_endereco_uf</th>\n",
              "      <th>paciente_endereco_cep</th>\n",
              "      <th>paciente_nacionalidade_enumNacionalidade</th>\n",
              "      <th>estabelecimento_valor</th>\n",
              "      <th>estabelecimento_razaoSocial</th>\n",
              "      <th>estalecimento_noFantasia</th>\n",
              "      <th>estabelecimento_municipio_codigo</th>\n",
              "      <th>estabelecimento_municipio_nome</th>\n",
              "      <th>estabelecimento_uf</th>\n",
              "      <th>vacina_grupoAtendimento_codigo</th>\n",
              "      <th>vacina_grupoAtendimento_nome</th>\n",
              "      <th>vacina_categoria_codigo</th>\n",
              "      <th>vacina_categoria_nome</th>\n",
              "      <th>vacina_lote</th>\n",
              "      <th>vacina_fabricante_nome</th>\n",
              "      <th>vacina_fabricante_referencia</th>\n",
              "      <th>vacina_dataAplicacao</th>\n",
              "      <th>vacina_descricao_dose</th>\n",
              "      <th>vacina_codigo</th>\n",
              "      <th>vacina_nome</th>\n",
              "      <th>sistema_origem</th>\n",
              "      <th>data_importacao_rnds</th>\n",
              "    </tr>\n",
              "  </thead>\n",
              "  <tbody>\n",
              "    <tr>\n",
              "      <th>0</th>\n",
              "      <td>3b970408-1a74-4089-8334-e18a0d1f4398-i0b0</td>\n",
              "      <td>051213f3f26a8fac4acd490ff737c6695e67a2ade7aeef...</td>\n",
              "      <td>36.0</td>\n",
              "      <td>1984-05-07</td>\n",
              "      <td>F</td>\n",
              "      <td>1.0</td>\n",
              "      <td>BRANCA</td>\n",
              "      <td>430510</td>\n",
              "      <td>10</td>\n",
              "      <td>CAXIAS DO SUL</td>\n",
              "      <td>BRASIL</td>\n",
              "      <td>RS</td>\n",
              "      <td>95020</td>\n",
              "      <td>B</td>\n",
              "      <td>2223597</td>\n",
              "      <td>HOSPITAL SAUDE LTDA</td>\n",
              "      <td>HOSPITAL SAUDE</td>\n",
              "      <td>430510.0</td>\n",
              "      <td>CAXIAS DO SUL</td>\n",
              "      <td>RS</td>\n",
              "      <td>907</td>\n",
              "      <td>Enfermeiro(a)</td>\n",
              "      <td>9.0</td>\n",
              "      <td>Trabalhadores de Saúde</td>\n",
              "      <td>210010</td>\n",
              "      <td>FUNDACAO BUTANTAN</td>\n",
              "      <td>Organization/61189445000156</td>\n",
              "      <td>2021-02-11T03:00:00.000Z</td>\n",
              "      <td>2ª Dose</td>\n",
              "      <td>86</td>\n",
              "      <td>Covid-19-Coronavac-Sinovac/Butantan</td>\n",
              "      <td>Novo PNI</td>\n",
              "      <td>2021-02-12 15:33:19</td>\n",
              "    </tr>\n",
              "    <tr>\n",
              "      <th>1</th>\n",
              "      <td>c6756cf9-0e0e-456b-86d2-94309b47e702-i0b0</td>\n",
              "      <td>3c73310d030b31ec5c73deda79bad2e8dbcc388839b6cd...</td>\n",
              "      <td>43.0</td>\n",
              "      <td>1977-12-05</td>\n",
              "      <td>F</td>\n",
              "      <td>1.0</td>\n",
              "      <td>BRANCA</td>\n",
              "      <td>352270</td>\n",
              "      <td>10</td>\n",
              "      <td>ITAPOLIS</td>\n",
              "      <td>BRASIL</td>\n",
              "      <td>SP</td>\n",
              "      <td>14900</td>\n",
              "      <td>B</td>\n",
              "      <td>2747723</td>\n",
              "      <td>PREFEITURA MUNICIPAL DE ITAPOLIS</td>\n",
              "      <td>UBS JARDIM REDENCAO ITAPOLIS</td>\n",
              "      <td>352270.0</td>\n",
              "      <td>ITAPOLIS</td>\n",
              "      <td>SP</td>\n",
              "      <td>926</td>\n",
              "      <td>Outros</td>\n",
              "      <td>9.0</td>\n",
              "      <td>Trabalhadores de Saúde</td>\n",
              "      <td>202010024</td>\n",
              "      <td>Sinovac</td>\n",
              "      <td>NaN</td>\n",
              "      <td>2021-02-12T00:00:00.000Z</td>\n",
              "      <td>1ª Dose</td>\n",
              "      <td>86</td>\n",
              "      <td>Covid-19-Coronavac-Sinovac/Butantan</td>\n",
              "      <td>VACIVIDA</td>\n",
              "      <td>2021-02-12 10:02:44</td>\n",
              "    </tr>\n",
              "    <tr>\n",
              "      <th>2</th>\n",
              "      <td>bac70bd9-608b-4a3b-8136-fa4b26fa0e10-i0b0</td>\n",
              "      <td>4278472f0c1d82ad758d6312ca67b17e296e82060d4fb4...</td>\n",
              "      <td>67.0</td>\n",
              "      <td>1953-04-25</td>\n",
              "      <td>M</td>\n",
              "      <td>99.0</td>\n",
              "      <td>SEM INFORMACAO</td>\n",
              "      <td>510320</td>\n",
              "      <td>10</td>\n",
              "      <td>COLIDER</td>\n",
              "      <td>BRASIL</td>\n",
              "      <td>MT</td>\n",
              "      <td>78500</td>\n",
              "      <td>B</td>\n",
              "      <td>2534355</td>\n",
              "      <td>PREFEITURA MUNICIPAL DE CUIABA</td>\n",
              "      <td>USF ALVORADA</td>\n",
              "      <td>510340.0</td>\n",
              "      <td>CUIABA</td>\n",
              "      <td>MT</td>\n",
              "      <td>912</td>\n",
              "      <td>Médico</td>\n",
              "      <td>9.0</td>\n",
              "      <td>Trabalhadores de Saúde</td>\n",
              "      <td>4120Z005</td>\n",
              "      <td>FUNDACAO OSWALDO CRUZ</td>\n",
              "      <td>Organization/33781055000135</td>\n",
              "      <td>2021-02-03T03:00:00.000Z</td>\n",
              "      <td>1ª Dose</td>\n",
              "      <td>85</td>\n",
              "      <td>Vacina Covid-19 - Covishield</td>\n",
              "      <td>Novo PNI</td>\n",
              "      <td>2021-02-03 16:06:04</td>\n",
              "    </tr>\n",
              "    <tr>\n",
              "      <th>3</th>\n",
              "      <td>c6143b69-6e49-4db0-94db-8e0acdd03888-i0b0</td>\n",
              "      <td>4dbc4710b67953ae5f3969eead5d70e3821574dd39f605...</td>\n",
              "      <td>65.0</td>\n",
              "      <td>1955-03-05</td>\n",
              "      <td>M</td>\n",
              "      <td>4.0</td>\n",
              "      <td>AMARELA</td>\n",
              "      <td>290680</td>\n",
              "      <td>10</td>\n",
              "      <td>CANSANCAO</td>\n",
              "      <td>BRASIL</td>\n",
              "      <td>BA</td>\n",
              "      <td>48840</td>\n",
              "      <td>B</td>\n",
              "      <td>9502688</td>\n",
              "      <td>PREFEITURA MUNICIPAL DE CANSANCAO</td>\n",
              "      <td>UNIDADE DE SAUDE DA FAMILIA LAURA SALVADOR</td>\n",
              "      <td>290680.0</td>\n",
              "      <td>CANSANCAO</td>\n",
              "      <td>BA</td>\n",
              "      <td>926</td>\n",
              "      <td>Outros</td>\n",
              "      <td>9.0</td>\n",
              "      <td>Trabalhadores de Saúde</td>\n",
              "      <td>202009014</td>\n",
              "      <td>FUNDACAO BUTANTAN</td>\n",
              "      <td>Organization/61189445000156</td>\n",
              "      <td>2021-02-17T03:00:00.000Z</td>\n",
              "      <td>2ª Dose</td>\n",
              "      <td>86</td>\n",
              "      <td>Covid-19-Coronavac-Sinovac/Butantan</td>\n",
              "      <td>Novo PNI</td>\n",
              "      <td>2021-02-17 18:22:19</td>\n",
              "    </tr>\n",
              "    <tr>\n",
              "      <th>4</th>\n",
              "      <td>4be2fede-1871-4447-a9e3-0e55c324836e-i0b0</td>\n",
              "      <td>a1c51574bd53ef0d66cae08f8329f7584e1f3c06ca992e...</td>\n",
              "      <td>35.0</td>\n",
              "      <td>1986-01-08</td>\n",
              "      <td>M</td>\n",
              "      <td>99.0</td>\n",
              "      <td>SEM INFORMACAO</td>\n",
              "      <td>260600</td>\n",
              "      <td>10</td>\n",
              "      <td>GARANHUNS</td>\n",
              "      <td>BRASIL</td>\n",
              "      <td>PE</td>\n",
              "      <td>\\\\\"\"</td>\n",
              "      <td>B</td>\n",
              "      <td>3002586</td>\n",
              "      <td>MUNICIPIO DE GARANHUNS</td>\n",
              "      <td>USF DA LIBERDADE</td>\n",
              "      <td>260600.0</td>\n",
              "      <td>GARANHUNS</td>\n",
              "      <td>PE</td>\n",
              "      <td>926</td>\n",
              "      <td>Outros</td>\n",
              "      <td>9.0</td>\n",
              "      <td>Trabalhadores de Saúde</td>\n",
              "      <td>202010041</td>\n",
              "      <td>FUNDACAO BUTANTAN</td>\n",
              "      <td>Organization/61189445000156</td>\n",
              "      <td>2021-02-12T03:00:00.000Z</td>\n",
              "      <td>1ª Dose</td>\n",
              "      <td>86</td>\n",
              "      <td>Covid-19-Coronavac-Sinovac/Butantan</td>\n",
              "      <td>Novo PNI</td>\n",
              "      <td>2021-02-18 20:45:02</td>\n",
              "    </tr>\n",
              "    <tr>\n",
              "      <th>5</th>\n",
              "      <td>cb301c9e-5f42-4eec-b96f-4e033083e6b6-i0b0</td>\n",
              "      <td>bc8596e3c64a543e73c4d9d3999334bfbe810e155f6b52...</td>\n",
              "      <td>55.0</td>\n",
              "      <td>1965-10-10</td>\n",
              "      <td>M</td>\n",
              "      <td>3.0</td>\n",
              "      <td>PARDA</td>\n",
              "      <td>521630</td>\n",
              "      <td>10</td>\n",
              "      <td>PARANAIGUARA</td>\n",
              "      <td>BRASIL</td>\n",
              "      <td>GO</td>\n",
              "      <td>75880</td>\n",
              "      <td>B</td>\n",
              "      <td>5343577</td>\n",
              "      <td>PREFEITURA MUNICIPAL DE PARANAIGUARA</td>\n",
              "      <td>ESTRATEGIA SAUDE DA FAMILIA 2</td>\n",
              "      <td>521630.0</td>\n",
              "      <td>PARANAIGUARA</td>\n",
              "      <td>GO</td>\n",
              "      <td>914</td>\n",
              "      <td>Motorista de Ambulância</td>\n",
              "      <td>9.0</td>\n",
              "      <td>Trabalhadores de Saúde</td>\n",
              "      <td>202010031</td>\n",
              "      <td>FUNDACAO BUTANTAN</td>\n",
              "      <td>Organization/61189445000156</td>\n",
              "      <td>2021-02-19T03:00:00.000Z</td>\n",
              "      <td>2ª Dose</td>\n",
              "      <td>86</td>\n",
              "      <td>Covid-19-Coronavac-Sinovac/Butantan</td>\n",
              "      <td>Novo PNI</td>\n",
              "      <td>2021-02-19 17:53:47</td>\n",
              "    </tr>\n",
              "    <tr>\n",
              "      <th>6</th>\n",
              "      <td>8f4eb329-7faf-4c69-a61c-9dc101542879-i0b0</td>\n",
              "      <td>db1db6b5eb18d38b0e40a112ba515a8f36adb47d605276...</td>\n",
              "      <td>25.0</td>\n",
              "      <td>1995-11-19</td>\n",
              "      <td>F</td>\n",
              "      <td>99.0</td>\n",
              "      <td>SEM INFORMACAO</td>\n",
              "      <td>130410</td>\n",
              "      <td>10</td>\n",
              "      <td>TAPAUA</td>\n",
              "      <td>BRASIL</td>\n",
              "      <td>AM</td>\n",
              "      <td>69480</td>\n",
              "      <td>B</td>\n",
              "      <td>7723628</td>\n",
              "      <td>MINISTERIO DA SAUDE</td>\n",
              "      <td>DISTRITO SANITARIO ESPECIAL INDIGENA MEDIO PURUS</td>\n",
              "      <td>130240.0</td>\n",
              "      <td>LABREA</td>\n",
              "      <td>AM</td>\n",
              "      <td>701</td>\n",
              "      <td>Povos indígenas em terras indígenas</td>\n",
              "      <td>7.0</td>\n",
              "      <td>Povos Indígenas</td>\n",
              "      <td>202010028</td>\n",
              "      <td>FUNDACAO BUTANTAN</td>\n",
              "      <td>Organization/61189445000156</td>\n",
              "      <td>2021-02-03T03:00:00.000Z</td>\n",
              "      <td>1ª Dose</td>\n",
              "      <td>86</td>\n",
              "      <td>Covid-19-Coronavac-Sinovac/Butantan</td>\n",
              "      <td>Novo PNI</td>\n",
              "      <td>2021-02-11 19:06:14</td>\n",
              "    </tr>\n",
              "    <tr>\n",
              "      <th>7</th>\n",
              "      <td>b555c0f9-3883-4446-bfbd-35cd15d62a7d-i0b0</td>\n",
              "      <td>4a86688c8038ed2d38e1fd536ec6666b7eaefaa8c7efbd...</td>\n",
              "      <td>77.0</td>\n",
              "      <td>1943-06-07</td>\n",
              "      <td>M</td>\n",
              "      <td>99.0</td>\n",
              "      <td>SEM INFORMACAO</td>\n",
              "      <td>210560</td>\n",
              "      <td>10</td>\n",
              "      <td>JOSELANDIA</td>\n",
              "      <td>BRASIL</td>\n",
              "      <td>MA</td>\n",
              "      <td>65755</td>\n",
              "      <td>B</td>\n",
              "      <td>7053738</td>\n",
              "      <td>PREFEITURA MUNICIPAL DE JOSELANDIA</td>\n",
              "      <td>U B S ANTONIO MARCOLINO DE QUEIROZ</td>\n",
              "      <td>210560.0</td>\n",
              "      <td>JOSELANDIA</td>\n",
              "      <td>MA</td>\n",
              "      <td>204</td>\n",
              "      <td>Pessoas de 75 a 79 anos</td>\n",
              "      <td>2.0</td>\n",
              "      <td>Faixa Etária</td>\n",
              "      <td>4120Z005</td>\n",
              "      <td>FUNDACAO OSWALDO CRUZ</td>\n",
              "      <td>Organization/33781055000135</td>\n",
              "      <td>2021-02-23T03:00:00.000Z</td>\n",
              "      <td>1ª Dose</td>\n",
              "      <td>85</td>\n",
              "      <td>Vacina Covid-19 - Covishield</td>\n",
              "      <td>Novo PNI</td>\n",
              "      <td>2021-02-25 11:58:10</td>\n",
              "    </tr>\n",
              "    <tr>\n",
              "      <th>8</th>\n",
              "      <td>5fdadf55-2a55-4089-a441-edbd2072074b-i0b0</td>\n",
              "      <td>95a4159ff54c9a30a0028ca52bda77eb02eccc28a506d1...</td>\n",
              "      <td>43.0</td>\n",
              "      <td>1977-05-16</td>\n",
              "      <td>M</td>\n",
              "      <td>1.0</td>\n",
              "      <td>BRANCA</td>\n",
              "      <td>355030</td>\n",
              "      <td>10</td>\n",
              "      <td>SAO PAULO</td>\n",
              "      <td>BRASIL</td>\n",
              "      <td>SP</td>\n",
              "      <td>03823</td>\n",
              "      <td>B</td>\n",
              "      <td>2082829</td>\n",
              "      <td>PREFEITURA DO MUNICIPIO DE SAO PAULO</td>\n",
              "      <td>HOSP MUN PROFESSOR DOUTOR ALIPIO CORREA NETTO</td>\n",
              "      <td>355030.0</td>\n",
              "      <td>SAO PAULO</td>\n",
              "      <td>SP</td>\n",
              "      <td>926</td>\n",
              "      <td>Outros</td>\n",
              "      <td>9.0</td>\n",
              "      <td>Trabalhadores de Saúde</td>\n",
              "      <td>200280</td>\n",
              "      <td>Sinovac</td>\n",
              "      <td>NaN</td>\n",
              "      <td>2021-02-16T00:00:00.000Z</td>\n",
              "      <td>2ª Dose</td>\n",
              "      <td>86</td>\n",
              "      <td>Covid-19-Coronavac-Sinovac/Butantan</td>\n",
              "      <td>VACIVIDA</td>\n",
              "      <td>2021-02-16 10:02:13</td>\n",
              "    </tr>\n",
              "    <tr>\n",
              "      <th>9</th>\n",
              "      <td>09bb6609-7ec7-48f9-9337-73200618c567-i0b0</td>\n",
              "      <td>24a3311c4c88127b16f1c24cc379139ddd21095922e497...</td>\n",
              "      <td>80.0</td>\n",
              "      <td>1940-08-26</td>\n",
              "      <td>F</td>\n",
              "      <td>1.0</td>\n",
              "      <td>BRANCA</td>\n",
              "      <td>330455</td>\n",
              "      <td>10</td>\n",
              "      <td>RIO DE JANEIRO</td>\n",
              "      <td>BRASIL</td>\n",
              "      <td>RJ</td>\n",
              "      <td>21655</td>\n",
              "      <td>B</td>\n",
              "      <td>7021771</td>\n",
              "      <td>SMS RIO CF RAIMUNDO ALVES NASCIMENTO AP 33</td>\n",
              "      <td>SMS CF RAIMUNDO ALVES NASCIMENTO AP 33</td>\n",
              "      <td>330455.0</td>\n",
              "      <td>RIO DE JANEIRO</td>\n",
              "      <td>RJ</td>\n",
              "      <td>205</td>\n",
              "      <td>Pessoas de 80 anos ou mais</td>\n",
              "      <td>2.0</td>\n",
              "      <td>Faixa Etária</td>\n",
              "      <td>4120Z026</td>\n",
              "      <td>FUNDACAO OSWALDO CRUZ</td>\n",
              "      <td>Organization/33781055000135</td>\n",
              "      <td>2021-02-27T03:00:00.000Z</td>\n",
              "      <td>1ª Dose</td>\n",
              "      <td>85</td>\n",
              "      <td>Vacina Covid-19 - Covishield</td>\n",
              "      <td>Novo PNI</td>\n",
              "      <td>2021-02-27 12:52:28</td>\n",
              "    </tr>\n",
              "  </tbody>\n",
              "</table>\n",
              "</div>"
            ],
            "text/plain": [
              "                                 document_id  ... data_importacao_rnds\n",
              "0  3b970408-1a74-4089-8334-e18a0d1f4398-i0b0  ...  2021-02-12 15:33:19\n",
              "1  c6756cf9-0e0e-456b-86d2-94309b47e702-i0b0  ...  2021-02-12 10:02:44\n",
              "2  bac70bd9-608b-4a3b-8136-fa4b26fa0e10-i0b0  ...  2021-02-03 16:06:04\n",
              "3  c6143b69-6e49-4db0-94db-8e0acdd03888-i0b0  ...  2021-02-17 18:22:19\n",
              "4  4be2fede-1871-4447-a9e3-0e55c324836e-i0b0  ...  2021-02-18 20:45:02\n",
              "5  cb301c9e-5f42-4eec-b96f-4e033083e6b6-i0b0  ...  2021-02-19 17:53:47\n",
              "6  8f4eb329-7faf-4c69-a61c-9dc101542879-i0b0  ...  2021-02-11 19:06:14\n",
              "7  b555c0f9-3883-4446-bfbd-35cd15d62a7d-i0b0  ...  2021-02-25 11:58:10\n",
              "8  5fdadf55-2a55-4089-a441-edbd2072074b-i0b0  ...  2021-02-16 10:02:13\n",
              "9  09bb6609-7ec7-48f9-9337-73200618c567-i0b0  ...  2021-02-27 12:52:28\n",
              "\n",
              "[10 rows x 33 columns]"
            ]
          },
          "metadata": {
            "tags": []
          },
          "execution_count": 30
        }
      ]
    },
    {
      "cell_type": "markdown",
      "metadata": {
        "id": "w_-afw8rnvR6"
      },
      "source": [
        "### Eliminação de colunas e linhas que não serão utilizadas - Dataset Vacinação"
      ]
    },
    {
      "cell_type": "code",
      "metadata": {
        "id": "HYKi6nd7vuXX"
      },
      "source": [
        "# Eliminação das colunas que não serão utilizadas nas análises\r\n",
        "\r\n",
        "df_vacinacao = df_vacinacao.drop(['paciente_endereco_cep','estabelecimento_razaoSocial','estalecimento_noFantasia','vacina_lote','vacina_fabricante_referencia',\r\n",
        "                                  'vacina_codigo','sistema_origem'],axis=1)"
      ],
      "execution_count": null,
      "outputs": []
    },
    {
      "cell_type": "code",
      "metadata": {
        "id": "ykG7R2TZt_I6"
      },
      "source": [
        "# Como o dataset possui dados de todo o Brasil, os estados que não pertencem às regiões selecionadas para análise serão eliminados do dataframe\r\n",
        "df_vacinacao = df_vacinacao.loc[(df_vacinacao['estabelecimento_uf'].isin(UFs))]"
      ],
      "execution_count": null,
      "outputs": []
    },
    {
      "cell_type": "code",
      "metadata": {
        "id": "vTalUQSzJdeW"
      },
      "source": [
        "# Código reprodutível\r\n",
        "# assert len(df_vacinacao) == 4036465"
      ],
      "execution_count": null,
      "outputs": []
    },
    {
      "cell_type": "code",
      "metadata": {
        "id": "0Ukr7QVPxCHQ",
        "colab": {
          "base_uri": "https://localhost:8080/"
        },
        "outputId": "5d94f43b-353d-4a36-d75c-2fcb54532c6b"
      },
      "source": [
        "print('Total de registros:',len(df_vacinacao))    # Quantidade de registros do dataset após eliminação de linhas\r\n",
        "\r\n",
        "print('')\r\n",
        "print(df_vacinacao.info())                        # Informações sobre o dataset\r\n",
        "\r\n",
        "## É possível observar a redução do número total de linhas e do número total de colunas (26) do dataset"
      ],
      "execution_count": null,
      "outputs": [
        {
          "output_type": "stream",
          "text": [
            "Total de registros: 4036465\n",
            "\n",
            "<class 'pandas.core.frame.DataFrame'>\n",
            "Int64Index: 4036465 entries, 1 to 6958577\n",
            "Data columns (total 26 columns):\n",
            " #   Column                                    Dtype  \n",
            "---  ------                                    -----  \n",
            " 0   document_id                               object \n",
            " 1   paciente_id                               object \n",
            " 2   paciente_idade                            float64\n",
            " 3   paciente_dataNascimento                   object \n",
            " 4   paciente_enumSexoBiologico                object \n",
            " 5   paciente_racaCor_codigo                   float64\n",
            " 6   paciente_racaCor_valor                    object \n",
            " 7   paciente_endereco_coIbgeMunicipio         object \n",
            " 8   paciente_endereco_coPais                  object \n",
            " 9   paciente_endereco_nmMunicipio             object \n",
            " 10  paciente_endereco_nmPais                  object \n",
            " 11  paciente_endereco_uf                      object \n",
            " 12  paciente_nacionalidade_enumNacionalidade  object \n",
            " 13  estabelecimento_valor                     int64  \n",
            " 14  estabelecimento_municipio_codigo          float64\n",
            " 15  estabelecimento_municipio_nome            object \n",
            " 16  estabelecimento_uf                        object \n",
            " 17  vacina_grupoAtendimento_codigo            int64  \n",
            " 18  vacina_grupoAtendimento_nome              object \n",
            " 19  vacina_categoria_codigo                   float64\n",
            " 20  vacina_categoria_nome                     object \n",
            " 21  vacina_fabricante_nome                    object \n",
            " 22  vacina_dataAplicacao                      object \n",
            " 23  vacina_descricao_dose                     object \n",
            " 24  vacina_nome                               object \n",
            " 25  data_importacao_rnds                      object \n",
            "dtypes: float64(4), int64(2), object(20)\n",
            "memory usage: 831.5+ MB\n",
            "None\n"
          ],
          "name": "stdout"
        }
      ]
    },
    {
      "cell_type": "markdown",
      "metadata": {
        "id": "R_0vh7Hkn7-a"
      },
      "source": [
        "### Tratamento de valores nulos e/ou faltantes"
      ]
    },
    {
      "cell_type": "code",
      "metadata": {
        "id": "ocxA_HkDlNZB",
        "colab": {
          "base_uri": "https://localhost:8080/"
        },
        "outputId": "4e8bc2f6-351d-4b36-87ed-de86cfa76b81"
      },
      "source": [
        "df_vacinacao.count()  # Quantidade de registros por coluna. \r\n",
        "                      # É possível observar que algumas colunas possuem quatidade inferior de registros, o que indica que será necessário \r\n",
        "                      #    tratamento de dados se essas colunas forem necessárias para análise"
      ],
      "execution_count": null,
      "outputs": [
        {
          "output_type": "execute_result",
          "data": {
            "text/plain": [
              "document_id                                 4036465\n",
              "paciente_id                                 4036465\n",
              "paciente_idade                              4036465\n",
              "paciente_dataNascimento                     4036465\n",
              "paciente_enumSexoBiologico                  4036465\n",
              "paciente_racaCor_codigo                     4036465\n",
              "paciente_racaCor_valor                      4036465\n",
              "paciente_endereco_coIbgeMunicipio           4036465\n",
              "paciente_endereco_coPais                    4036465\n",
              "paciente_endereco_nmMunicipio               4036465\n",
              "paciente_endereco_nmPais                    4036465\n",
              "paciente_endereco_uf                        4036465\n",
              "paciente_nacionalidade_enumNacionalidade    4030285\n",
              "estabelecimento_valor                       4036465\n",
              "estabelecimento_municipio_codigo            4036465\n",
              "estabelecimento_municipio_nome              4036465\n",
              "estabelecimento_uf                          4036465\n",
              "vacina_grupoAtendimento_codigo              4036465\n",
              "vacina_grupoAtendimento_nome                3978181\n",
              "vacina_categoria_codigo                     3978181\n",
              "vacina_categoria_nome                       3978181\n",
              "vacina_fabricante_nome                      4036465\n",
              "vacina_dataAplicacao                        4036465\n",
              "vacina_descricao_dose                       4036465\n",
              "vacina_nome                                 4036465\n",
              "data_importacao_rnds                        4036465\n",
              "dtype: int64"
            ]
          },
          "metadata": {
            "tags": []
          },
          "execution_count": 34
        }
      ]
    },
    {
      "cell_type": "code",
      "metadata": {
        "id": "WAdHK78uc0I3"
      },
      "source": [
        "# falta incluir tratamento de nulos e valores faltantes"
      ],
      "execution_count": null,
      "outputs": []
    },
    {
      "cell_type": "code",
      "metadata": {
        "id": "D999RL3EJ2W0"
      },
      "source": [
        "# Código reprodutível\r\n",
        "# Incluir alguma validação em relaçao ao conteúdo das colunas que serão trabalhadas, usando o comando assert - ideia: valor mínimo, máximo ou média"
      ],
      "execution_count": null,
      "outputs": []
    },
    {
      "cell_type": "code",
      "metadata": {
        "id": "ORLF9ytYc6Xx",
        "colab": {
          "base_uri": "https://localhost:8080/",
          "height": 1000
        },
        "outputId": "5b731f75-bceb-44e7-e0e7-ee88b0f31ad7"
      },
      "source": [
        "# Vacinados fora dos seus Municípios de residência mas no mesmo Estado\r\n",
        "\r\n",
        "df_vacinacao.query('paciente_endereco_uf in [\"ES\", \"MG\", \"RJ\", \"SP\"] & paciente_endereco_uf == estabelecimento_uf & paciente_endereco_nmMunicipio != estabelecimento_municipio_nome')"
      ],
      "execution_count": null,
      "outputs": [
        {
          "output_type": "execute_result",
          "data": {
            "text/html": [
              "<div>\n",
              "<style scoped>\n",
              "    .dataframe tbody tr th:only-of-type {\n",
              "        vertical-align: middle;\n",
              "    }\n",
              "\n",
              "    .dataframe tbody tr th {\n",
              "        vertical-align: top;\n",
              "    }\n",
              "\n",
              "    .dataframe thead th {\n",
              "        text-align: right;\n",
              "    }\n",
              "</style>\n",
              "<table border=\"1\" class=\"dataframe\">\n",
              "  <thead>\n",
              "    <tr style=\"text-align: right;\">\n",
              "      <th></th>\n",
              "      <th>document_id</th>\n",
              "      <th>paciente_id</th>\n",
              "      <th>paciente_idade</th>\n",
              "      <th>paciente_dataNascimento</th>\n",
              "      <th>paciente_enumSexoBiologico</th>\n",
              "      <th>paciente_racaCor_codigo</th>\n",
              "      <th>paciente_racaCor_valor</th>\n",
              "      <th>paciente_endereco_coIbgeMunicipio</th>\n",
              "      <th>paciente_endereco_coPais</th>\n",
              "      <th>paciente_endereco_nmMunicipio</th>\n",
              "      <th>paciente_endereco_nmPais</th>\n",
              "      <th>paciente_endereco_uf</th>\n",
              "      <th>paciente_nacionalidade_enumNacionalidade</th>\n",
              "      <th>estabelecimento_valor</th>\n",
              "      <th>estabelecimento_municipio_codigo</th>\n",
              "      <th>estabelecimento_municipio_nome</th>\n",
              "      <th>estabelecimento_uf</th>\n",
              "      <th>vacina_grupoAtendimento_codigo</th>\n",
              "      <th>vacina_grupoAtendimento_nome</th>\n",
              "      <th>vacina_categoria_codigo</th>\n",
              "      <th>vacina_categoria_nome</th>\n",
              "      <th>vacina_fabricante_nome</th>\n",
              "      <th>vacina_dataAplicacao</th>\n",
              "      <th>vacina_descricao_dose</th>\n",
              "      <th>vacina_nome</th>\n",
              "      <th>data_importacao_rnds</th>\n",
              "    </tr>\n",
              "  </thead>\n",
              "  <tbody>\n",
              "    <tr>\n",
              "      <th>10</th>\n",
              "      <td>02fe1f0e-06d5-4109-a533-d6603dbaca6d-i0b0</td>\n",
              "      <td>a6e0a508c903a0939ae3322684ebb9941622dedc9b98de...</td>\n",
              "      <td>53.0</td>\n",
              "      <td>1967-11-09</td>\n",
              "      <td>F</td>\n",
              "      <td>1.0</td>\n",
              "      <td>BRANCA</td>\n",
              "      <td>353860</td>\n",
              "      <td>10</td>\n",
              "      <td>PIRACAIA</td>\n",
              "      <td>BRASIL</td>\n",
              "      <td>SP</td>\n",
              "      <td>B</td>\n",
              "      <td>5935857</td>\n",
              "      <td>354880.0</td>\n",
              "      <td>SAO CAETANO DO SUL</td>\n",
              "      <td>SP</td>\n",
              "      <td>926</td>\n",
              "      <td>Outros</td>\n",
              "      <td>9.0</td>\n",
              "      <td>Trabalhadores de Saúde</td>\n",
              "      <td>Sinovac</td>\n",
              "      <td>2021-02-19T00:00:00.000Z</td>\n",
              "      <td>2ª Dose</td>\n",
              "      <td>Covid-19-Coronavac-Sinovac/Butantan</td>\n",
              "      <td>2021-02-19 05:02:59</td>\n",
              "    </tr>\n",
              "    <tr>\n",
              "      <th>13</th>\n",
              "      <td>8fbf3c2d-3ca9-4c6e-b92e-705bdaec83df-i0b0</td>\n",
              "      <td>0136e42421eb9afbf7391785b0cecfcde7ca0e39c15cee...</td>\n",
              "      <td>40.0</td>\n",
              "      <td>1980-11-08</td>\n",
              "      <td>F</td>\n",
              "      <td>1.0</td>\n",
              "      <td>BRANCA</td>\n",
              "      <td>354780</td>\n",
              "      <td>10</td>\n",
              "      <td>SANTO ANDRE</td>\n",
              "      <td>BRASIL</td>\n",
              "      <td>SP</td>\n",
              "      <td>B</td>\n",
              "      <td>2089238</td>\n",
              "      <td>355030.0</td>\n",
              "      <td>SAO PAULO</td>\n",
              "      <td>SP</td>\n",
              "      <td>926</td>\n",
              "      <td>Outros</td>\n",
              "      <td>9.0</td>\n",
              "      <td>Trabalhadores de Saúde</td>\n",
              "      <td>AstraZeneca/Oxford</td>\n",
              "      <td>2021-02-03T00:00:00.000Z</td>\n",
              "      <td>1ª Dose</td>\n",
              "      <td>Vacina Covid-19 - Covishield</td>\n",
              "      <td>2021-02-03 15:02:00</td>\n",
              "    </tr>\n",
              "    <tr>\n",
              "      <th>26</th>\n",
              "      <td>c126e436-599c-473c-a4bf-6334f79c208d-i0b0</td>\n",
              "      <td>8d6e0f3e2b6320d57c64662634c25d44c9c65d6c315e0b...</td>\n",
              "      <td>41.0</td>\n",
              "      <td>1979-04-07</td>\n",
              "      <td>F</td>\n",
              "      <td>1.0</td>\n",
              "      <td>BRANCA</td>\n",
              "      <td>355620</td>\n",
              "      <td>10</td>\n",
              "      <td>VALINHOS</td>\n",
              "      <td>BRASIL</td>\n",
              "      <td>SP</td>\n",
              "      <td>B</td>\n",
              "      <td>2079798</td>\n",
              "      <td>350950.0</td>\n",
              "      <td>CAMPINAS</td>\n",
              "      <td>SP</td>\n",
              "      <td>926</td>\n",
              "      <td>Outros</td>\n",
              "      <td>9.0</td>\n",
              "      <td>Trabalhadores de Saúde</td>\n",
              "      <td>AstraZeneca/Oxford</td>\n",
              "      <td>2021-02-01T00:00:00.000Z</td>\n",
              "      <td>1ª Dose</td>\n",
              "      <td>Vacina Covid-19 - Covishield</td>\n",
              "      <td>2021-02-01 06:02:54</td>\n",
              "    </tr>\n",
              "    <tr>\n",
              "      <th>52</th>\n",
              "      <td>236df938-7e1b-4cc5-8ba9-5c1ed029cfdc-i0b0</td>\n",
              "      <td>2fc1bb771d42dfb38851251028272049b5c5d69c952572...</td>\n",
              "      <td>33.0</td>\n",
              "      <td>1987-08-11</td>\n",
              "      <td>F</td>\n",
              "      <td>4.0</td>\n",
              "      <td>AMARELA</td>\n",
              "      <td>314480</td>\n",
              "      <td>10</td>\n",
              "      <td>NOVA LIMA</td>\n",
              "      <td>BRASIL</td>\n",
              "      <td>MG</td>\n",
              "      <td>B</td>\n",
              "      <td>2191377</td>\n",
              "      <td>314800.0</td>\n",
              "      <td>PATOS DE MINAS</td>\n",
              "      <td>MG</td>\n",
              "      <td>926</td>\n",
              "      <td>Outros</td>\n",
              "      <td>9.0</td>\n",
              "      <td>Trabalhadores de Saúde</td>\n",
              "      <td>FUNDACAO BUTANTAN</td>\n",
              "      <td>2021-02-09T03:00:00.000Z</td>\n",
              "      <td>1ª Dose</td>\n",
              "      <td>Covid-19-Coronavac-Sinovac/Butantan</td>\n",
              "      <td>2021-02-23 17:38:08</td>\n",
              "    </tr>\n",
              "    <tr>\n",
              "      <th>60</th>\n",
              "      <td>d244065b-8fba-404f-b61c-a8a0687268db-i0b0</td>\n",
              "      <td>a7353ea8cef54f86dff0036bd2e553ae72a44ee3a4dd43...</td>\n",
              "      <td>56.0</td>\n",
              "      <td>1964-03-11</td>\n",
              "      <td>M</td>\n",
              "      <td>2.0</td>\n",
              "      <td>PRETA</td>\n",
              "      <td>355030</td>\n",
              "      <td>10</td>\n",
              "      <td>SAO PAULO</td>\n",
              "      <td>BRASIL</td>\n",
              "      <td>SP</td>\n",
              "      <td>E</td>\n",
              "      <td>2792176</td>\n",
              "      <td>352220.0</td>\n",
              "      <td>ITAPECERICA DA SERRA</td>\n",
              "      <td>SP</td>\n",
              "      <td>926</td>\n",
              "      <td>Outros</td>\n",
              "      <td>9.0</td>\n",
              "      <td>Trabalhadores de Saúde</td>\n",
              "      <td>Sinovac</td>\n",
              "      <td>2021-02-18T00:00:00.000Z</td>\n",
              "      <td>2ª Dose</td>\n",
              "      <td>Covid-19-Coronavac-Sinovac/Butantan</td>\n",
              "      <td>2021-02-18 13:02:06</td>\n",
              "    </tr>\n",
              "    <tr>\n",
              "      <th>...</th>\n",
              "      <td>...</td>\n",
              "      <td>...</td>\n",
              "      <td>...</td>\n",
              "      <td>...</td>\n",
              "      <td>...</td>\n",
              "      <td>...</td>\n",
              "      <td>...</td>\n",
              "      <td>...</td>\n",
              "      <td>...</td>\n",
              "      <td>...</td>\n",
              "      <td>...</td>\n",
              "      <td>...</td>\n",
              "      <td>...</td>\n",
              "      <td>...</td>\n",
              "      <td>...</td>\n",
              "      <td>...</td>\n",
              "      <td>...</td>\n",
              "      <td>...</td>\n",
              "      <td>...</td>\n",
              "      <td>...</td>\n",
              "      <td>...</td>\n",
              "      <td>...</td>\n",
              "      <td>...</td>\n",
              "      <td>...</td>\n",
              "      <td>...</td>\n",
              "      <td>...</td>\n",
              "    </tr>\n",
              "    <tr>\n",
              "      <th>6958378</th>\n",
              "      <td>7414f961-9afd-499a-b5ed-3523fde1d9c6-i0b0</td>\n",
              "      <td>e3cf2bcbd0cc764ab62f28113448b7569a16282fcc3590...</td>\n",
              "      <td>44.0</td>\n",
              "      <td>1976-12-06</td>\n",
              "      <td>M</td>\n",
              "      <td>99.0</td>\n",
              "      <td>SEM INFORMACAO</td>\n",
              "      <td>353650</td>\n",
              "      <td>10</td>\n",
              "      <td>PAULINIA</td>\n",
              "      <td>BRASIL</td>\n",
              "      <td>SP</td>\n",
              "      <td>B</td>\n",
              "      <td>2079798</td>\n",
              "      <td>350950.0</td>\n",
              "      <td>CAMPINAS</td>\n",
              "      <td>SP</td>\n",
              "      <td>926</td>\n",
              "      <td>Outros</td>\n",
              "      <td>9.0</td>\n",
              "      <td>Trabalhadores de Saúde</td>\n",
              "      <td>Sinovac</td>\n",
              "      <td>2021-03-01T00:00:00.000Z</td>\n",
              "      <td>2ª Dose</td>\n",
              "      <td>Covid-19-Coronavac-Sinovac/Butantan</td>\n",
              "      <td>2021-03-01 03:00:00</td>\n",
              "    </tr>\n",
              "    <tr>\n",
              "      <th>6958402</th>\n",
              "      <td>07e8c12b-e0a6-40bb-b76a-9b478182f92f-i0b0</td>\n",
              "      <td>fbf84b7e909329ba4d55ed530a71a6ca6e96b78cec7038...</td>\n",
              "      <td>84.0</td>\n",
              "      <td>1937-02-12</td>\n",
              "      <td>M</td>\n",
              "      <td>1.0</td>\n",
              "      <td>BRANCA</td>\n",
              "      <td>352042</td>\n",
              "      <td>10</td>\n",
              "      <td>ILHA COMPRIDA</td>\n",
              "      <td>BRASIL</td>\n",
              "      <td>SP</td>\n",
              "      <td>B</td>\n",
              "      <td>2081857</td>\n",
              "      <td>352030.0</td>\n",
              "      <td>IGUAPE</td>\n",
              "      <td>SP</td>\n",
              "      <td>205</td>\n",
              "      <td>Pessoas de 80 anos ou mais</td>\n",
              "      <td>2.0</td>\n",
              "      <td>Faixa Etária</td>\n",
              "      <td>AstraZeneca/Oxford</td>\n",
              "      <td>2021-03-01T00:00:00.000Z</td>\n",
              "      <td>1ª Dose</td>\n",
              "      <td>Vacina Covid-19 - Covishield</td>\n",
              "      <td>2021-03-01 03:00:00</td>\n",
              "    </tr>\n",
              "    <tr>\n",
              "      <th>6958426</th>\n",
              "      <td>159eaddb-35aa-4af5-85b4-74f889996055-i0b0</td>\n",
              "      <td>fb91eca53222dcd8d3da6efe8f553fba97887597fb5cb6...</td>\n",
              "      <td>96.0</td>\n",
              "      <td>1925-01-29</td>\n",
              "      <td>F</td>\n",
              "      <td>1.0</td>\n",
              "      <td>BRANCA</td>\n",
              "      <td>355030</td>\n",
              "      <td>10</td>\n",
              "      <td>SAO PAULO</td>\n",
              "      <td>BRASIL</td>\n",
              "      <td>SP</td>\n",
              "      <td>B</td>\n",
              "      <td>4047273</td>\n",
              "      <td>350600.0</td>\n",
              "      <td>BAURU</td>\n",
              "      <td>SP</td>\n",
              "      <td>205</td>\n",
              "      <td>Pessoas de 80 anos ou mais</td>\n",
              "      <td>2.0</td>\n",
              "      <td>Faixa Etária</td>\n",
              "      <td>Sinovac</td>\n",
              "      <td>2021-03-01T00:00:00.000Z</td>\n",
              "      <td>2ª Dose</td>\n",
              "      <td>Covid-19-Coronavac-Sinovac/Butantan</td>\n",
              "      <td>2021-03-01 03:00:00</td>\n",
              "    </tr>\n",
              "    <tr>\n",
              "      <th>6958481</th>\n",
              "      <td>b660a66d-48db-4995-8b23-2122d956857f-i0b0</td>\n",
              "      <td>b316eedae5beb12fa82f01bf7cf843a4ff780717394fc7...</td>\n",
              "      <td>82.0</td>\n",
              "      <td>1938-10-20</td>\n",
              "      <td>M</td>\n",
              "      <td>1.0</td>\n",
              "      <td>BRANCA</td>\n",
              "      <td>354780</td>\n",
              "      <td>10</td>\n",
              "      <td>SANTO ANDRE</td>\n",
              "      <td>BRASIL</td>\n",
              "      <td>SP</td>\n",
              "      <td>B</td>\n",
              "      <td>2755068</td>\n",
              "      <td>353800.0</td>\n",
              "      <td>PINDAMONHANGABA</td>\n",
              "      <td>SP</td>\n",
              "      <td>205</td>\n",
              "      <td>Pessoas de 80 anos ou mais</td>\n",
              "      <td>2.0</td>\n",
              "      <td>Faixa Etária</td>\n",
              "      <td>AstraZeneca/Oxford</td>\n",
              "      <td>2021-03-01T00:00:00.000Z</td>\n",
              "      <td>1ª Dose</td>\n",
              "      <td>Vacina Covid-19 - Covishield</td>\n",
              "      <td>2021-03-01 03:00:00</td>\n",
              "    </tr>\n",
              "    <tr>\n",
              "      <th>6958522</th>\n",
              "      <td>b5115a0b-6087-4ec0-b448-aecc2ccf2778-i0b0</td>\n",
              "      <td>0452b513afb801ef2436e9cbdfaaa5657d13c4c03f6704...</td>\n",
              "      <td>72.0</td>\n",
              "      <td>1948-08-14</td>\n",
              "      <td>M</td>\n",
              "      <td>99.0</td>\n",
              "      <td>SEM INFORMACAO</td>\n",
              "      <td>353980</td>\n",
              "      <td>10</td>\n",
              "      <td>POA</td>\n",
              "      <td>BRASIL</td>\n",
              "      <td>SP</td>\n",
              "      <td>B</td>\n",
              "      <td>2058502</td>\n",
              "      <td>355030.0</td>\n",
              "      <td>SAO PAULO</td>\n",
              "      <td>SP</td>\n",
              "      <td>926</td>\n",
              "      <td>Outros</td>\n",
              "      <td>9.0</td>\n",
              "      <td>Trabalhadores de Saúde</td>\n",
              "      <td>Sinovac</td>\n",
              "      <td>2021-03-01T00:00:00.000Z</td>\n",
              "      <td>2ª Dose</td>\n",
              "      <td>Covid-19-Coronavac-Sinovac/Butantan</td>\n",
              "      <td>2021-03-01 03:00:00</td>\n",
              "    </tr>\n",
              "  </tbody>\n",
              "</table>\n",
              "<p>718319 rows × 26 columns</p>\n",
              "</div>"
            ],
            "text/plain": [
              "                                       document_id  ... data_importacao_rnds\n",
              "10       02fe1f0e-06d5-4109-a533-d6603dbaca6d-i0b0  ...  2021-02-19 05:02:59\n",
              "13       8fbf3c2d-3ca9-4c6e-b92e-705bdaec83df-i0b0  ...  2021-02-03 15:02:00\n",
              "26       c126e436-599c-473c-a4bf-6334f79c208d-i0b0  ...  2021-02-01 06:02:54\n",
              "52       236df938-7e1b-4cc5-8ba9-5c1ed029cfdc-i0b0  ...  2021-02-23 17:38:08\n",
              "60       d244065b-8fba-404f-b61c-a8a0687268db-i0b0  ...  2021-02-18 13:02:06\n",
              "...                                            ...  ...                  ...\n",
              "6958378  7414f961-9afd-499a-b5ed-3523fde1d9c6-i0b0  ...  2021-03-01 03:00:00\n",
              "6958402  07e8c12b-e0a6-40bb-b76a-9b478182f92f-i0b0  ...  2021-03-01 03:00:00\n",
              "6958426  159eaddb-35aa-4af5-85b4-74f889996055-i0b0  ...  2021-03-01 03:00:00\n",
              "6958481  b660a66d-48db-4995-8b23-2122d956857f-i0b0  ...  2021-03-01 03:00:00\n",
              "6958522  b5115a0b-6087-4ec0-b448-aecc2ccf2778-i0b0  ...  2021-03-01 03:00:00\n",
              "\n",
              "[718319 rows x 26 columns]"
            ]
          },
          "metadata": {
            "tags": []
          },
          "execution_count": 42
        }
      ]
    },
    {
      "cell_type": "code",
      "metadata": {
        "id": "ZUAEBBY1k5N1",
        "colab": {
          "base_uri": "https://localhost:8080/"
        },
        "outputId": "dd78bc2c-e447-4a78-a7ee-f8d0e893839b"
      },
      "source": [
        "# Quantitativo Total de Vacinados por Sexo Biológico\r\n",
        "\r\n",
        "df_vacinacao['paciente_enumSexoBiologico'].value_counts()"
      ],
      "execution_count": null,
      "outputs": [
        {
          "output_type": "execute_result",
          "data": {
            "text/plain": [
              "F    2764008\n",
              "M    1272451\n",
              "I          6\n",
              "Name: paciente_enumSexoBiologico, dtype: int64"
            ]
          },
          "metadata": {
            "tags": []
          },
          "execution_count": 43
        }
      ]
    },
    {
      "cell_type": "code",
      "metadata": {
        "id": "vkaSanFYmlMu",
        "colab": {
          "base_uri": "https://localhost:8080/",
          "height": 295
        },
        "outputId": "74ef0936-9cfc-45ce-8a5c-228c03c61a16"
      },
      "source": [
        "%matplotlib inline\r\n",
        "df_vacinacao['paciente_enumSexoBiologico'].value_counts().plot.bar()"
      ],
      "execution_count": null,
      "outputs": [
        {
          "output_type": "execute_result",
          "data": {
            "text/plain": [
              "<matplotlib.axes._subplots.AxesSubplot at 0x7f9e53b3ed10>"
            ]
          },
          "metadata": {
            "tags": []
          },
          "execution_count": 46
        },
        {
          "output_type": "display_data",
          "data": {
            "image/png": "[encoded data removed]",
            "text/plain": [
              "<Figure size 432x288 with 1 Axes>"
            ]
          },
          "metadata": {
            "tags": [],
            "needs_background": "light"
          }
        }
      ]
    },
    {
      "cell_type": "code",
      "metadata": {
        "id": "YJUr3iY0mDkW",
        "colab": {
          "base_uri": "https://localhost:8080/"
        },
        "outputId": "4bc7613a-29d8-440f-9384-c42bd040d081"
      },
      "source": [
        "# Quantitativo Total de Vacinados por Raça\r\n",
        "\r\n",
        "df_vacinacao['paciente_racaCor_valor'].value_counts()"
      ],
      "execution_count": null,
      "outputs": [
        {
          "output_type": "execute_result",
          "data": {
            "text/plain": [
              "BRANCA            1583085\n",
              "SEM INFORMACAO    1260486\n",
              "PARDA              598353\n",
              "AMARELA            367770\n",
              "PRETA              153679\n",
              "INDIGENA            73092\n",
              "Name: paciente_racaCor_valor, dtype: int64"
            ]
          },
          "metadata": {
            "tags": []
          },
          "execution_count": 44
        }
      ]
    },
    {
      "cell_type": "code",
      "metadata": {
        "id": "_oOwSBqQnPuC",
        "colab": {
          "base_uri": "https://localhost:8080/",
          "height": 379
        },
        "outputId": "05d529d5-616e-49a2-f3b9-ce8ac8a9ef65"
      },
      "source": [
        "df_vacinacao['paciente_racaCor_valor'].value_counts().plot.bar()"
      ],
      "execution_count": null,
      "outputs": [
        {
          "output_type": "execute_result",
          "data": {
            "text/plain": [
              "<matplotlib.axes._subplots.AxesSubplot at 0x7f9e51436bd0>"
            ]
          },
          "metadata": {
            "tags": []
          },
          "execution_count": 47
        },
        {
          "output_type": "display_data",
          "data": {
            "image/png": "[encoded data removed]",
            "text/plain": [
              "<Figure size 432x288 with 1 Axes>"
            ]
          },
          "metadata": {
            "tags": [],
            "needs_background": "light"
          }
        }
      ]
    },
    {
      "cell_type": "code",
      "metadata": {
        "id": "UlUDZReNszpA",
        "colab": {
          "base_uri": "https://localhost:8080/"
        },
        "outputId": "67c3260c-1d77-4719-b924-2b7f5b858834"
      },
      "source": [
        "# Quantitativo Total de Vacinados por Categoria\r\n",
        "\r\n",
        "df_vacinacao['vacina_categoria_nome'].value_counts()"
      ],
      "execution_count": null,
      "outputs": [
        {
          "output_type": "execute_result",
          "data": {
            "text/plain": [
              "Trabalhadores de Saúde                             2630285\n",
              "Faixa Etária                                       1110352\n",
              "Pessoas de 60 anos ou mais institucionalizadas      110794\n",
              "Povos Indígenas                                     103618\n",
              "Pessoas com Deficiência                              10822\n",
              "Povos e Comunidades Tradicionais                      9439\n",
              "Forças de Segurança e Salvamento                      1069\n",
              "Comorbidades                                           849\n",
              "Pessoas em Situação de Rua                             352\n",
              "Forças Armadas (membros ativos)                        260\n",
              "Trabalhadores da Educação                              155\n",
              "Funcionário do Sistema de Privação de Liberdade        109\n",
              "População Privada de Liberdade                          41\n",
              "Trabalhadores Industriais                               29\n",
              "Trabalhadores Portuários                                 7\n",
              "Name: vacina_categoria_nome, dtype: int64"
            ]
          },
          "metadata": {
            "tags": []
          },
          "execution_count": 50
        }
      ]
    },
    {
      "cell_type": "code",
      "metadata": {
        "id": "BUmyuQwXs0hX",
        "colab": {
          "base_uri": "https://localhost:8080/",
          "height": 508
        },
        "outputId": "dfc5bfde-82e2-4627-c3e4-916bb924ea0f"
      },
      "source": [
        "df_vacinacao['vacina_categoria_nome'].value_counts().plot.bar()"
      ],
      "execution_count": null,
      "outputs": [
        {
          "output_type": "execute_result",
          "data": {
            "text/plain": [
              "<matplotlib.axes._subplots.AxesSubplot at 0x7f9e50e7f290>"
            ]
          },
          "metadata": {
            "tags": []
          },
          "execution_count": 51
        },
        {
          "output_type": "display_data",
          "data": {
            "image/png": "[encoded data removed]",
            "text/plain": [
              "<Figure size 432x288 with 1 Axes>"
            ]
          },
          "metadata": {
            "tags": [],
            "needs_background": "light"
          }
        }
      ]
    },
    {
      "cell_type": "code",
      "metadata": {
        "id": "iqEY9qsuvVXi",
        "colab": {
          "base_uri": "https://localhost:8080/"
        },
        "outputId": "09e75684-911d-4198-dede-98a7b6e5d454"
      },
      "source": [
        "# Quantitativo Total de Vacinados por Fabricante\r\n",
        "\r\n",
        "df_vacinacao['vacina_fabricante_nome'].value_counts()"
      ],
      "execution_count": null,
      "outputs": [
        {
          "output_type": "execute_result",
          "data": {
            "text/plain": [
              "Sinovac                             1742310\n",
              "FUNDACAO BUTANTAN                   1211987\n",
              "AstraZeneca/Oxford                   501874\n",
              "FUNDACAO OSWALDO CRUZ                376498\n",
              "Butantan/Sinovac                      68288\n",
              "University of Oxford/AstraZeneca      62006\n",
              "SERUM INSTITUTE OF INDIA LTD          54172\n",
              "SINOVAC LIFE SCIENCE CO LTD           19304\n",
              "BioNTech/Fosun Pharma/Pfizer             22\n",
              "Janssen-Cilag                             4\n",
              "Name: vacina_fabricante_nome, dtype: int64"
            ]
          },
          "metadata": {
            "tags": []
          },
          "execution_count": 53
        }
      ]
    },
    {
      "cell_type": "code",
      "metadata": {
        "id": "xNrWHHhrvWCF",
        "colab": {
          "base_uri": "https://localhost:8080/",
          "height": 444
        },
        "outputId": "e834ed89-ba64-4a60-f09c-8e5bb76fed75"
      },
      "source": [
        "df_vacinacao['vacina_fabricante_nome'].value_counts().plot.bar()"
      ],
      "execution_count": null,
      "outputs": [
        {
          "output_type": "execute_result",
          "data": {
            "text/plain": [
              "<matplotlib.axes._subplots.AxesSubplot at 0x7f9e4f4e0a50>"
            ]
          },
          "metadata": {
            "tags": []
          },
          "execution_count": 54
        },
        {
          "output_type": "display_data",
          "data": {
            "image/png": "[encoded data removed]",
            "text/plain": [
              "<Figure size 432x288 with 1 Axes>"
            ]
          },
          "metadata": {
            "tags": [],
            "needs_background": "light"
          }
        }
      ]
    },
    {
      "cell_type": "markdown",
      "metadata": {
        "id": "6DpU2V2QpWUv"
      },
      "source": [
        "### Identificação e tratamento de valores duplicados"
      ]
    },
    {
      "cell_type": "code",
      "metadata": {
        "id": "zqTPlEbSAJlc"
      },
      "source": [
        "# falta incluir tratamento de valores duplicados"
      ],
      "execution_count": null,
      "outputs": []
    },
    {
      "cell_type": "markdown",
      "metadata": {
        "id": "JEa8-YJNn2V5"
      },
      "source": [
        "##Teste inicial de gráfico"
      ]
    },
    {
      "cell_type": "code",
      "metadata": {
        "id": "VOUyaaQjlQ7k",
        "colab": {
          "base_uri": "https://localhost:8080/",
          "height": 298
        },
        "outputId": "4d6f3e0f-63cf-48a5-b236-7340780453b2"
      },
      "source": [
        "# Plot 'Idade' variable in a histogram\r\n",
        "\r\n",
        "pd.DataFrame.hist(df_vacinacao[['paciente_idade']])\r\n",
        "\r\n",
        "plt.xlabel('paciente_idade (years)')\r\n",
        "\r\n",
        "plt.ylabel('count')\r\n",
        "\r\n",
        "plt.show()"
      ],
      "execution_count": null,
      "outputs": [
        {
          "output_type": "display_data",
          "data": {
            "image/png": "[encoded data removed]",
            "text/plain": [
              "<Figure size 432x288 with 1 Axes>"
            ]
          },
          "metadata": {
            "tags": [],
            "needs_background": "light"
          }
        }
      ]
    },
    {
      "cell_type": "markdown",
      "metadata": {
        "id": "wDhQAv0Fnrjj"
      },
      "source": [
        ""
      ]
    },
    {
      "cell_type": "markdown",
      "metadata": {
        "id": "8shZ0BHsnGHv"
      },
      "source": [
        "## Importação e tratamento do Dataset de Estabelecimentos de Saúde (CNES)"
      ]
    },
    {
      "cell_type": "code",
      "metadata": {
        "id": "bRA784AdH7WU"
      },
      "source": [
        "# Salve o dataset de CNES no diretório TESI_FCD no Google Drive\r\n",
        "# Para tornar o notebook reutilizável, futuramente pode-se solicitar o diretório e o nome do dataset via prompt.\r\n",
        "\r\n",
        "df_cnes = pd.read_csv('/content/drive/My Drive/TESI_FCD/cnes_ativonone.csv',delimiter=',')"
      ],
      "execution_count": null,
      "outputs": []
    },
    {
      "cell_type": "markdown",
      "metadata": {
        "id": "ia_ML5clHZ9m"
      },
      "source": [
        "### Exploração inicial do DataSet de Estabelecimentos de Saúde (CNES)"
      ]
    },
    {
      "cell_type": "code",
      "metadata": {
        "id": "jXDoabhOKo1i"
      },
      "source": [
        "# Código reprodutível\r\n",
        "# assert len(df_cnes) == 354804"
      ],
      "execution_count": null,
      "outputs": []
    },
    {
      "cell_type": "code",
      "metadata": {
        "colab": {
          "base_uri": "https://localhost:8080/"
        },
        "id": "-cF3STChI86E",
        "outputId": "4bcabdad-8053-4481-c891-550fa9a161af"
      },
      "source": [
        "print('Total de registros:',len(df_cnes))    # Quantidade de registros do dataset\r\n",
        "print('')\r\n",
        "print(df_cnes.info())                        # Informações sobre o dataset \r\n",
        "\r\n",
        "# Observe o total de linhas e o total de colunas (12) do dataset"
      ],
      "execution_count": null,
      "outputs": [
        {
          "output_type": "stream",
          "text": [
            "Total de registros: 354804\n",
            "\n",
            "<class 'pandas.core.frame.DataFrame'>\n",
            "RangeIndex: 354804 entries, 0 to 354803\n",
            "Data columns (total 12 columns):\n",
            " #   Column           Non-Null Count   Dtype \n",
            "---  ------           --------------   ----- \n",
            " 0   co_cnes          354804 non-null  int64 \n",
            " 1   co_ibge          354804 non-null  int64 \n",
            " 2   no_fantasia      354796 non-null  object\n",
            " 3   ds_tipo_unidade  354804 non-null  object\n",
            " 4   tp_gestao        354804 non-null  object\n",
            " 5   no_logradouro    354804 non-null  object\n",
            " 6   nu_endereco      354517 non-null  object\n",
            " 7   no_bairro        354801 non-null  object\n",
            " 8   co_cep           354804 non-null  int64 \n",
            " 9   uf               354434 non-null  object\n",
            " 10  municipio        354434 non-null  object\n",
            " 11  nu_telefone      279394 non-null  object\n",
            "dtypes: int64(3), object(9)\n",
            "memory usage: 32.5+ MB\n",
            "None\n"
          ],
          "name": "stdout"
        }
      ]
    },
    {
      "cell_type": "code",
      "metadata": {
        "colab": {
          "base_uri": "https://localhost:8080/",
          "height": 614
        },
        "id": "LiqEod5FI92L",
        "outputId": "c6518ddb-307f-4d7f-dc91-7f2ea361b511"
      },
      "source": [
        "df_cnes.head(10)        # Visualização dos registros iniciais"
      ],
      "execution_count": null,
      "outputs": [
        {
          "output_type": "execute_result",
          "data": {
            "text/html": [
              "<div>\n",
              "<style scoped>\n",
              "    .dataframe tbody tr th:only-of-type {\n",
              "        vertical-align: middle;\n",
              "    }\n",
              "\n",
              "    .dataframe tbody tr th {\n",
              "        vertical-align: top;\n",
              "    }\n",
              "\n",
              "    .dataframe thead th {\n",
              "        text-align: right;\n",
              "    }\n",
              "</style>\n",
              "<table border=\"1\" class=\"dataframe\">\n",
              "  <thead>\n",
              "    <tr style=\"text-align: right;\">\n",
              "      <th></th>\n",
              "      <th>co_cnes</th>\n",
              "      <th>co_ibge</th>\n",
              "      <th>no_fantasia</th>\n",
              "      <th>ds_tipo_unidade</th>\n",
              "      <th>tp_gestao</th>\n",
              "      <th>no_logradouro</th>\n",
              "      <th>nu_endereco</th>\n",
              "      <th>no_bairro</th>\n",
              "      <th>co_cep</th>\n",
              "      <th>uf</th>\n",
              "      <th>municipio</th>\n",
              "      <th>nu_telefone</th>\n",
              "    </tr>\n",
              "  </thead>\n",
              "  <tbody>\n",
              "    <tr>\n",
              "      <th>0</th>\n",
              "      <td>6577687</td>\n",
              "      <td>292240</td>\n",
              "      <td>SECRETARIA DE SAUDE DE MUTUIPE</td>\n",
              "      <td>CENTRAL DE GESTAO EM SAUDE</td>\n",
              "      <td>M</td>\n",
              "      <td>RUA RUY BARBOSA</td>\n",
              "      <td>S/N</td>\n",
              "      <td>CENTRO</td>\n",
              "      <td>45480000</td>\n",
              "      <td>BA</td>\n",
              "      <td>Mutuípe</td>\n",
              "      <td>NaN</td>\n",
              "    </tr>\n",
              "    <tr>\n",
              "      <th>1</th>\n",
              "      <td>6578500</td>\n",
              "      <td>500210</td>\n",
              "      <td>REABILIT CONSULTORIO DE FISIOTERAPIA</td>\n",
              "      <td>CLINICA/CENTRO DE ESPECIALIDADE</td>\n",
              "      <td>M</td>\n",
              "      <td>ALMIRANTE BARROSO</td>\n",
              "      <td>S/N</td>\n",
              "      <td>CENTRO</td>\n",
              "      <td>79260000</td>\n",
              "      <td>MS</td>\n",
              "      <td>Bela Vista</td>\n",
              "      <td>NaN</td>\n",
              "    </tr>\n",
              "    <tr>\n",
              "      <th>2</th>\n",
              "      <td>6577725</td>\n",
              "      <td>355660</td>\n",
              "      <td>SECRETARIA MUNICIPAL DE SAUDE E HIGIENE DE VER...</td>\n",
              "      <td>CENTRAL DE GESTAO EM SAUDE</td>\n",
              "      <td>M</td>\n",
              "      <td>RUA PAULO GUERREIRO FRANCO</td>\n",
              "      <td>997</td>\n",
              "      <td>CENTRO</td>\n",
              "      <td>17560000</td>\n",
              "      <td>SP</td>\n",
              "      <td>Vera Cruz</td>\n",
              "      <td>NaN</td>\n",
              "    </tr>\n",
              "    <tr>\n",
              "      <th>3</th>\n",
              "      <td>6577733</td>\n",
              "      <td>355410</td>\n",
              "      <td>CONS SERGIO LUIZ TEIXEIRA M PERES</td>\n",
              "      <td>CONSULTORIO ISOLADO</td>\n",
              "      <td>M</td>\n",
              "      <td>PCA MONS SILVA BARROS</td>\n",
              "      <td>254</td>\n",
              "      <td>CENTRO</td>\n",
              "      <td>12020070</td>\n",
              "      <td>SP</td>\n",
              "      <td>Taubaté</td>\n",
              "      <td>36351489</td>\n",
              "    </tr>\n",
              "    <tr>\n",
              "      <th>4</th>\n",
              "      <td>6577768</td>\n",
              "      <td>410490</td>\n",
              "      <td>LABORATORIO DOFF SOTTA</td>\n",
              "      <td>UNIDADE DE APOIO DIAGNOSE E TERAPIA (SADT ISOL...</td>\n",
              "      <td>M</td>\n",
              "      <td>RUA DR JORGE XAVIER DA SILVA</td>\n",
              "      <td>1078</td>\n",
              "      <td>CENTRO</td>\n",
              "      <td>84165000</td>\n",
              "      <td>PR</td>\n",
              "      <td>Castro</td>\n",
              "      <td>3232-4854</td>\n",
              "    </tr>\n",
              "    <tr>\n",
              "      <th>5</th>\n",
              "      <td>6577806</td>\n",
              "      <td>420245</td>\n",
              "      <td>SAMU BOMBINHAS</td>\n",
              "      <td>UNIDADE MOVEL DE NIVEL PRE-HOSPITALAR NA AREA ...</td>\n",
              "      <td>M</td>\n",
              "      <td>RUA CACHALOTE</td>\n",
              "      <td>589</td>\n",
              "      <td>MORRINHOS</td>\n",
              "      <td>88215000</td>\n",
              "      <td>SC</td>\n",
              "      <td>Bombinhas</td>\n",
              "      <td>33934363</td>\n",
              "    </tr>\n",
              "    <tr>\n",
              "      <th>6</th>\n",
              "      <td>6577830</td>\n",
              "      <td>240260</td>\n",
              "      <td>CENTRO DE ATENCAO PSICOSSOCIAL CAPS II</td>\n",
              "      <td>CENTRO DE ATENCAO PSICOSSOCIAL</td>\n",
              "      <td>M</td>\n",
              "      <td>RUA POETISA DOLORES</td>\n",
              "      <td>13</td>\n",
              "      <td>CENTRO</td>\n",
              "      <td>59570000</td>\n",
              "      <td>RN</td>\n",
              "      <td>Ceará-Mirim</td>\n",
              "      <td>(84)3274-5914</td>\n",
              "    </tr>\n",
              "    <tr>\n",
              "      <th>7</th>\n",
              "      <td>6577865</td>\n",
              "      <td>315960</td>\n",
              "      <td>DIMENSAO CLINICA MEDICA</td>\n",
              "      <td>UNIDADE DE APOIO DIAGNOSE E TERAPIA (SADT ISOL...</td>\n",
              "      <td>M</td>\n",
              "      <td>RUA CEL GABRIEL CAPISTRANO</td>\n",
              "      <td>256</td>\n",
              "      <td>CENTRO</td>\n",
              "      <td>37540000</td>\n",
              "      <td>MG</td>\n",
              "      <td>Santa Rita do Sapucaí</td>\n",
              "      <td>3534713531</td>\n",
              "    </tr>\n",
              "    <tr>\n",
              "      <th>8</th>\n",
              "      <td>6577873</td>\n",
              "      <td>355670</td>\n",
              "      <td>JULIANA PEREIRA PERSI</td>\n",
              "      <td>UNIDADE DE APOIO DIAGNOSE E TERAPIA (SADT ISOL...</td>\n",
              "      <td>M</td>\n",
              "      <td>RUA ROCINHA</td>\n",
              "      <td>213</td>\n",
              "      <td>CAPELA</td>\n",
              "      <td>13280000</td>\n",
              "      <td>SP</td>\n",
              "      <td>Vinhedo</td>\n",
              "      <td>38764932</td>\n",
              "    </tr>\n",
              "    <tr>\n",
              "      <th>9</th>\n",
              "      <td>6577881</td>\n",
              "      <td>231330</td>\n",
              "      <td>CENTRAL DE CONSULTORIOS</td>\n",
              "      <td>CLINICA/CENTRO DE ESPECIALIDADE</td>\n",
              "      <td>M</td>\n",
              "      <td>RUA MAFISA CIDRAO ROCHA</td>\n",
              "      <td>63</td>\n",
              "      <td>CENTRO</td>\n",
              "      <td>63660000</td>\n",
              "      <td>CE</td>\n",
              "      <td>Tauá</td>\n",
              "      <td>88-34371097</td>\n",
              "    </tr>\n",
              "  </tbody>\n",
              "</table>\n",
              "</div>"
            ],
            "text/plain": [
              "   co_cnes  co_ibge  ...              municipio    nu_telefone\n",
              "0  6577687   292240  ...                Mutuípe            NaN\n",
              "1  6578500   500210  ...             Bela Vista            NaN\n",
              "2  6577725   355660  ...              Vera Cruz            NaN\n",
              "3  6577733   355410  ...                Taubaté       36351489\n",
              "4  6577768   410490  ...                 Castro      3232-4854\n",
              "5  6577806   420245  ...              Bombinhas       33934363\n",
              "6  6577830   240260  ...            Ceará-Mirim  (84)3274-5914\n",
              "7  6577865   315960  ...  Santa Rita do Sapucaí     3534713531\n",
              "8  6577873   355670  ...                Vinhedo       38764932\n",
              "9  6577881   231330  ...                   Tauá    88-34371097\n",
              "\n",
              "[10 rows x 12 columns]"
            ]
          },
          "metadata": {
            "tags": []
          },
          "execution_count": 14
        }
      ]
    },
    {
      "cell_type": "code",
      "metadata": {
        "colab": {
          "base_uri": "https://localhost:8080/"
        },
        "id": "hEe987vXKWsX",
        "outputId": "6898b1db-ef49-4808-edaf-7b3042c95040"
      },
      "source": [
        "#df_cnes.columns"
      ],
      "execution_count": null,
      "outputs": [
        {
          "output_type": "execute_result",
          "data": {
            "text/plain": [
              "Index(['co_cnes', 'no_fantasia', 'ds_tipo_unidade', 'tp_gestao', 'uf'], dtype='object')"
            ]
          },
          "metadata": {
            "tags": []
          },
          "execution_count": 60
        }
      ]
    },
    {
      "cell_type": "code",
      "metadata": {
        "id": "Ogk5UKFKwqU2",
        "colab": {
          "base_uri": "https://localhost:8080/"
        },
        "outputId": "8287c45e-94d3-4a56-bf5f-e84ffe1245c8"
      },
      "source": [
        "df_cnes['ds_tipo_unidade'].value_counts()"
      ],
      "execution_count": null,
      "outputs": [
        {
          "output_type": "execute_result",
          "data": {
            "text/plain": [
              "CONSULTORIO ISOLADO                                             175140\n",
              "CLINICA/CENTRO DE ESPECIALIDADE                                  52766\n",
              "CENTRO DE SAUDE/UNIDADE BASICA                                   38998\n",
              "UNIDADE DE APOIO DIAGNOSE E TERAPIA (SADT ISOLADO)               27067\n",
              "POSTO DE SAUDE                                                   11345\n",
              "POLICLINICA                                                       8457\n",
              "CENTRAL DE GESTAO EM SAUDE                                        6059\n",
              "HOSPITAL GERAL                                                    5752\n",
              "UNIDADE MOVEL DE NIVEL PRE-HOSPITALAR NA AREA DE URGENCIA         4703\n",
              "FARMACIA                                                          3213\n",
              "CENTRO DE ATENCAO PSICOSSOCIAL                                    3065\n",
              "UNIDADE DE VIGILANCIA EM SAUDE                                    3005\n",
              "POLO ACADEMIA DA SAUDE                                            2523\n",
              "UNIDADE MOVEL TERRESTRE                                           1460\n",
              "PRONTO ATENDIMENTO                                                1248\n",
              "CENTRAL DE REGULACAO DO ACESSO                                    1243\n",
              "HOSPITAL ESPECIALIZADO                                            1234\n",
              "CENTRO DE APOIO A SAUDE DA FAMILIA                                1171\n",
              "UNIDADE DE ATENCAO A SAUDE INDIGENA                               1106\n",
              "HOSPITAL/DIA - ISOLADO                                             718\n",
              "UNIDADE MISTA                                                      706\n",
              "SERVICO DE ATENCAO DOMICILIAR ISOLADO(HOME CARE)                   681\n",
              "COOPERATIVA OU EMPRESA DE CESSAO DE TRABALHADORES NA SAUDE         633\n",
              "PRONTO SOCORRO GERAL                                               453\n",
              "LABORATORIO DE SAUDE PUBLICA                                       417\n",
              "CENTRO DE ATENCAO HEMOTERAPIA E OU HEMATOLOGICA                    395\n",
              "POLO DE PREVENCAO DE DOENCAS E AGRAVOS E PROMOCAO DA SAUDE         328\n",
              "CENTRAL DE REGULACAO MEDICA DAS URGENCIAS                          239\n",
              "CENTRAL DE REGULACAO DE SERVICOS DE SAUDE                          142\n",
              "CENTRAL DE NOTIFICACAO,CAPTACAO E DISTRIB DE ORGAOS ESTADUAL       131\n",
              "PRONTO SOCORRO ESPECIALIZADO                                       129\n",
              "TELESSAUDE                                                          86\n",
              "UNIDADE MOVEL FLUVIAL                                               59\n",
              "LABORATORIO CENTRAL DE SAUDE PUBLICA LACEN                          38\n",
              "UNIDADE DE ATENCAO EM REGIME RESIDENCIAL                            34\n",
              "CENTRO DE PARTO NORMAL - ISOLADO                                    33\n",
              "OFICINA ORTOPEDICA                                                  27\n",
              "Name: ds_tipo_unidade, dtype: int64"
            ]
          },
          "metadata": {
            "tags": []
          },
          "execution_count": 59
        }
      ]
    },
    {
      "cell_type": "markdown",
      "metadata": {
        "id": "ExtEdNtiIfvm"
      },
      "source": [
        "### Eliminação de colunas e linhas que não serão utilizadas - Dataset Estabelecimentos de Saúde (CNES)"
      ]
    },
    {
      "cell_type": "code",
      "metadata": {
        "id": "b_ubDfWOIrDv"
      },
      "source": [
        "# Eliminação das colunas que não serão utilizadas nas análises\r\n",
        "\r\n",
        "df_cnes = df_cnes.drop(['co_ibge','no_logradouro','nu_endereco','no_bairro','co_cep', 'municipio','nu_telefone'],axis=1)"
      ],
      "execution_count": null,
      "outputs": []
    },
    {
      "cell_type": "code",
      "metadata": {
        "id": "YROJoA_cJ-nk"
      },
      "source": [
        "# Como o dataset possui dados de todo o Brasil, os estados que não pertencem às regiões selecionadas para análise serão eliminados do dataframe\r\n",
        "df_cnes = df_cnes.loc[(df_cnes['uf'].isin(UFs))]"
      ],
      "execution_count": null,
      "outputs": []
    },
    {
      "cell_type": "code",
      "metadata": {
        "id": "MwVu6SxyLVKu"
      },
      "source": [
        "# Código reprodutível\r\n",
        "# assert len(df_cnes) == 181213"
      ],
      "execution_count": null,
      "outputs": []
    },
    {
      "cell_type": "code",
      "metadata": {
        "id": "ry6r5GIG1fLD",
        "colab": {
          "base_uri": "https://localhost:8080/"
        },
        "outputId": "2642fdf8-82d4-4114-e877-38d65a5b0bf2"
      },
      "source": [
        "print('Total de registros:',len(df_cnes))    # Quantidade de registros do dataset após eliminação de linhas\r\n",
        "print('')\r\n",
        "print(df_cnes.info())                        # Informações sobre o dataset \r\n",
        "\r\n",
        "## É possível observar a redução do número total de linhas e do número total de colunas (5) do dataset"
      ],
      "execution_count": null,
      "outputs": [
        {
          "output_type": "stream",
          "text": [
            "Total de registros: 181213\n",
            "\n",
            "<class 'pandas.core.frame.DataFrame'>\n",
            "Int64Index: 181213 entries, 2 to 354803\n",
            "Data columns (total 5 columns):\n",
            " #   Column           Non-Null Count   Dtype \n",
            "---  ------           --------------   ----- \n",
            " 0   co_cnes          181213 non-null  int64 \n",
            " 1   no_fantasia      181208 non-null  object\n",
            " 2   ds_tipo_unidade  181213 non-null  object\n",
            " 3   tp_gestao        181213 non-null  object\n",
            " 4   uf               181213 non-null  object\n",
            "dtypes: int64(1), object(4)\n",
            "memory usage: 8.3+ MB\n",
            "None\n"
          ],
          "name": "stdout"
        }
      ]
    },
    {
      "cell_type": "markdown",
      "metadata": {
        "id": "m_rIE38A3_HW"
      },
      "source": [
        "### Tratamento de valores nulos e/ou faltantes"
      ]
    },
    {
      "cell_type": "code",
      "metadata": {
        "colab": {
          "base_uri": "https://localhost:8080/"
        },
        "id": "ZOYUlLJDI-2L",
        "outputId": "f648c223-ed7e-411b-cec3-5ac1fb9a7d7f"
      },
      "source": [
        "df_cnes.count()        # Quantidade de registros por coluna. \r\n",
        "                      # É possível observar que algumas colunas possuem quatidade inferior de registros, o que indica que será necessário \r\n",
        "                      #    tratamento de dados se essas colunas forem necessárias para análise"
      ],
      "execution_count": null,
      "outputs": [
        {
          "output_type": "execute_result",
          "data": {
            "text/plain": [
              "co_cnes            181213\n",
              "no_fantasia        181208\n",
              "ds_tipo_unidade    181213\n",
              "tp_gestao          181213\n",
              "uf                 181213\n",
              "dtype: int64"
            ]
          },
          "metadata": {
            "tags": []
          },
          "execution_count": 68
        }
      ]
    },
    {
      "cell_type": "code",
      "metadata": {
        "id": "mOTm7ozFAo5N"
      },
      "source": [
        "# falta incluir tratamento de nulos e valores faltantes"
      ],
      "execution_count": null,
      "outputs": []
    },
    {
      "cell_type": "markdown",
      "metadata": {
        "id": "69v9jq914B4d"
      },
      "source": [
        "### Identificação e tratamento de valores duplicados"
      ]
    },
    {
      "cell_type": "code",
      "metadata": {
        "id": "EwVCie5zAqLx"
      },
      "source": [
        "# falta incluir tratamento de valores duplicados"
      ],
      "execution_count": null,
      "outputs": []
    },
    {
      "cell_type": "markdown",
      "metadata": {
        "id": "bofYVY_GJvsu"
      },
      "source": [
        "## Merge entre os dataFrames de Vacinação e CNES"
      ]
    },
    {
      "cell_type": "code",
      "metadata": {
        "colab": {
          "base_uri": "https://localhost:8080/",
          "height": 1000
        },
        "id": "8e0ySi35KXpH",
        "outputId": "eca98208-dd54-474a-fb6b-dc2d7e3e22e1"
      },
      "source": [
        "pd.merge(df_vacinacao, df_cnes, on=None, left_on='estabelecimento_valor', right_on='co_cnes')"
      ],
      "execution_count": null,
      "outputs": [
        {
          "output_type": "execute_result",
          "data": {
            "text/html": [
              "<div>\n",
              "<style scoped>\n",
              "    .dataframe tbody tr th:only-of-type {\n",
              "        vertical-align: middle;\n",
              "    }\n",
              "\n",
              "    .dataframe tbody tr th {\n",
              "        vertical-align: top;\n",
              "    }\n",
              "\n",
              "    .dataframe thead th {\n",
              "        text-align: right;\n",
              "    }\n",
              "</style>\n",
              "<table border=\"1\" class=\"dataframe\">\n",
              "  <thead>\n",
              "    <tr style=\"text-align: right;\">\n",
              "      <th></th>\n",
              "      <th>document_id</th>\n",
              "      <th>paciente_id</th>\n",
              "      <th>paciente_idade</th>\n",
              "      <th>paciente_dataNascimento</th>\n",
              "      <th>paciente_enumSexoBiologico</th>\n",
              "      <th>paciente_racaCor_codigo</th>\n",
              "      <th>paciente_racaCor_valor</th>\n",
              "      <th>paciente_endereco_coIbgeMunicipio</th>\n",
              "      <th>paciente_endereco_coPais</th>\n",
              "      <th>paciente_endereco_nmMunicipio</th>\n",
              "      <th>paciente_endereco_nmPais</th>\n",
              "      <th>paciente_endereco_uf</th>\n",
              "      <th>paciente_nacionalidade_enumNacionalidade</th>\n",
              "      <th>estabelecimento_valor</th>\n",
              "      <th>estabelecimento_municipio_codigo</th>\n",
              "      <th>estabelecimento_municipio_nome</th>\n",
              "      <th>estabelecimento_uf</th>\n",
              "      <th>vacina_grupoAtendimento_codigo</th>\n",
              "      <th>vacina_grupoAtendimento_nome</th>\n",
              "      <th>vacina_categoria_codigo</th>\n",
              "      <th>vacina_categoria_nome</th>\n",
              "      <th>vacina_fabricante_nome</th>\n",
              "      <th>vacina_dataAplicacao</th>\n",
              "      <th>vacina_descricao_dose</th>\n",
              "      <th>vacina_nome</th>\n",
              "      <th>data_importacao_rnds</th>\n",
              "      <th>co_cnes</th>\n",
              "      <th>no_fantasia</th>\n",
              "      <th>ds_tipo_unidade</th>\n",
              "      <th>tp_gestao</th>\n",
              "      <th>uf</th>\n",
              "    </tr>\n",
              "  </thead>\n",
              "  <tbody>\n",
              "    <tr>\n",
              "      <th>0</th>\n",
              "      <td>4613b9c7-4771-47ec-8e94-5b93fa818a08-i0b0</td>\n",
              "      <td>5b63573558358a0de47cbe04f463cb613a55e65551a927...</td>\n",
              "      <td>63.0</td>\n",
              "      <td>1957-11-08</td>\n",
              "      <td>M</td>\n",
              "      <td>99.0</td>\n",
              "      <td>SEM INFORMACAO</td>\n",
              "      <td>353440</td>\n",
              "      <td>10</td>\n",
              "      <td>OSASCO</td>\n",
              "      <td>BRASIL</td>\n",
              "      <td>SP</td>\n",
              "      <td>B</td>\n",
              "      <td>2788500</td>\n",
              "      <td>355030.0</td>\n",
              "      <td>SAO PAULO</td>\n",
              "      <td>SP</td>\n",
              "      <td>201</td>\n",
              "      <td>Pessoas de 60 a 64 anos</td>\n",
              "      <td>2.0</td>\n",
              "      <td>Faixa Etária</td>\n",
              "      <td>Sinovac</td>\n",
              "      <td>2021-01-22T00:00:00.000Z</td>\n",
              "      <td>1ª Dose</td>\n",
              "      <td>Covid-19-Coronavac-Sinovac/Butantan</td>\n",
              "      <td>2021-01-22 14:01:33</td>\n",
              "      <td>2788500</td>\n",
              "      <td>UBS RIO PEQUENO PAULO DE BARROS FRANCA</td>\n",
              "      <td>CENTRO DE SAUDE/UNIDADE BASICA</td>\n",
              "      <td>M</td>\n",
              "      <td>SP</td>\n",
              "    </tr>\n",
              "    <tr>\n",
              "      <th>1</th>\n",
              "      <td>a152deb1-5117-4ecb-a668-e05d0299aaf8-i0b0</td>\n",
              "      <td>7e894e8e77bcebac26e780c593cdf93e50fb4e3d7a71c4...</td>\n",
              "      <td>91.0</td>\n",
              "      <td>1929-11-17</td>\n",
              "      <td>M</td>\n",
              "      <td>99.0</td>\n",
              "      <td>SEM INFORMACAO</td>\n",
              "      <td>355030</td>\n",
              "      <td>10</td>\n",
              "      <td>SAO PAULO</td>\n",
              "      <td>BRASIL</td>\n",
              "      <td>SP</td>\n",
              "      <td>B</td>\n",
              "      <td>2788500</td>\n",
              "      <td>355030.0</td>\n",
              "      <td>SAO PAULO</td>\n",
              "      <td>SP</td>\n",
              "      <td>205</td>\n",
              "      <td>Pessoas de 80 anos ou mais</td>\n",
              "      <td>2.0</td>\n",
              "      <td>Faixa Etária</td>\n",
              "      <td>Sinovac</td>\n",
              "      <td>2021-02-10T00:00:00.000Z</td>\n",
              "      <td>1ª Dose</td>\n",
              "      <td>Covid-19-Coronavac-Sinovac/Butantan</td>\n",
              "      <td>2021-02-10 15:02:00</td>\n",
              "      <td>2788500</td>\n",
              "      <td>UBS RIO PEQUENO PAULO DE BARROS FRANCA</td>\n",
              "      <td>CENTRO DE SAUDE/UNIDADE BASICA</td>\n",
              "      <td>M</td>\n",
              "      <td>SP</td>\n",
              "    </tr>\n",
              "    <tr>\n",
              "      <th>2</th>\n",
              "      <td>5b2088d9-82dc-4cf9-a631-8a8afaf663db-i0b0</td>\n",
              "      <td>b359a91f0437a87468d9279d61ae99e8d5c77d63ec48e8...</td>\n",
              "      <td>84.0</td>\n",
              "      <td>1936-06-02</td>\n",
              "      <td>M</td>\n",
              "      <td>99.0</td>\n",
              "      <td>SEM INFORMACAO</td>\n",
              "      <td>355030</td>\n",
              "      <td>10</td>\n",
              "      <td>SAO PAULO</td>\n",
              "      <td>BRASIL</td>\n",
              "      <td>SP</td>\n",
              "      <td>B</td>\n",
              "      <td>2788500</td>\n",
              "      <td>355030.0</td>\n",
              "      <td>SAO PAULO</td>\n",
              "      <td>SP</td>\n",
              "      <td>205</td>\n",
              "      <td>Pessoas de 80 anos ou mais</td>\n",
              "      <td>2.0</td>\n",
              "      <td>Faixa Etária</td>\n",
              "      <td>Sinovac</td>\n",
              "      <td>2021-02-19T00:00:00.000Z</td>\n",
              "      <td>1ª Dose</td>\n",
              "      <td>Covid-19-Coronavac-Sinovac/Butantan</td>\n",
              "      <td>2021-02-19 15:02:00</td>\n",
              "      <td>2788500</td>\n",
              "      <td>UBS RIO PEQUENO PAULO DE BARROS FRANCA</td>\n",
              "      <td>CENTRO DE SAUDE/UNIDADE BASICA</td>\n",
              "      <td>M</td>\n",
              "      <td>SP</td>\n",
              "    </tr>\n",
              "    <tr>\n",
              "      <th>3</th>\n",
              "      <td>408cb6f0-73e3-460c-9950-91cdf65aff7a-i0b0</td>\n",
              "      <td>050753b2afbe6af3c0b070772e964129418ed195dd57c5...</td>\n",
              "      <td>71.0</td>\n",
              "      <td>1950-02-18</td>\n",
              "      <td>F</td>\n",
              "      <td>1.0</td>\n",
              "      <td>BRANCA</td>\n",
              "      <td>351300</td>\n",
              "      <td>10</td>\n",
              "      <td>COTIA</td>\n",
              "      <td>BRASIL</td>\n",
              "      <td>SP</td>\n",
              "      <td>B</td>\n",
              "      <td>2788500</td>\n",
              "      <td>355030.0</td>\n",
              "      <td>SAO PAULO</td>\n",
              "      <td>SP</td>\n",
              "      <td>203</td>\n",
              "      <td>Pessoas de 70 a 74 anos</td>\n",
              "      <td>2.0</td>\n",
              "      <td>Faixa Etária</td>\n",
              "      <td>Sinovac</td>\n",
              "      <td>2021-02-23T00:00:00.000Z</td>\n",
              "      <td>1ª Dose</td>\n",
              "      <td>Covid-19-Coronavac-Sinovac/Butantan</td>\n",
              "      <td>2021-02-23 03:00:00</td>\n",
              "      <td>2788500</td>\n",
              "      <td>UBS RIO PEQUENO PAULO DE BARROS FRANCA</td>\n",
              "      <td>CENTRO DE SAUDE/UNIDADE BASICA</td>\n",
              "      <td>M</td>\n",
              "      <td>SP</td>\n",
              "    </tr>\n",
              "    <tr>\n",
              "      <th>4</th>\n",
              "      <td>8b19fadf-43d3-4540-93e5-2c12ae2b50fd-i0b0</td>\n",
              "      <td>c6df465a9392ef54b4e6dec4ac4139742ea01667f88d7c...</td>\n",
              "      <td>20.0</td>\n",
              "      <td>2000-03-21</td>\n",
              "      <td>F</td>\n",
              "      <td>1.0</td>\n",
              "      <td>BRANCA</td>\n",
              "      <td>355030</td>\n",
              "      <td>10</td>\n",
              "      <td>SAO PAULO</td>\n",
              "      <td>BRASIL</td>\n",
              "      <td>SP</td>\n",
              "      <td>B</td>\n",
              "      <td>2788500</td>\n",
              "      <td>355030.0</td>\n",
              "      <td>SAO PAULO</td>\n",
              "      <td>SP</td>\n",
              "      <td>926</td>\n",
              "      <td>Outros</td>\n",
              "      <td>9.0</td>\n",
              "      <td>Trabalhadores de Saúde</td>\n",
              "      <td>Sinovac</td>\n",
              "      <td>2021-02-24T00:00:00.000Z</td>\n",
              "      <td>2ª Dose</td>\n",
              "      <td>Covid-19-Coronavac-Sinovac/Butantan</td>\n",
              "      <td>2021-02-24 03:00:00</td>\n",
              "      <td>2788500</td>\n",
              "      <td>UBS RIO PEQUENO PAULO DE BARROS FRANCA</td>\n",
              "      <td>CENTRO DE SAUDE/UNIDADE BASICA</td>\n",
              "      <td>M</td>\n",
              "      <td>SP</td>\n",
              "    </tr>\n",
              "    <tr>\n",
              "      <th>...</th>\n",
              "      <td>...</td>\n",
              "      <td>...</td>\n",
              "      <td>...</td>\n",
              "      <td>...</td>\n",
              "      <td>...</td>\n",
              "      <td>...</td>\n",
              "      <td>...</td>\n",
              "      <td>...</td>\n",
              "      <td>...</td>\n",
              "      <td>...</td>\n",
              "      <td>...</td>\n",
              "      <td>...</td>\n",
              "      <td>...</td>\n",
              "      <td>...</td>\n",
              "      <td>...</td>\n",
              "      <td>...</td>\n",
              "      <td>...</td>\n",
              "      <td>...</td>\n",
              "      <td>...</td>\n",
              "      <td>...</td>\n",
              "      <td>...</td>\n",
              "      <td>...</td>\n",
              "      <td>...</td>\n",
              "      <td>...</td>\n",
              "      <td>...</td>\n",
              "      <td>...</td>\n",
              "      <td>...</td>\n",
              "      <td>...</td>\n",
              "      <td>...</td>\n",
              "      <td>...</td>\n",
              "      <td>...</td>\n",
              "    </tr>\n",
              "    <tr>\n",
              "      <th>3795901</th>\n",
              "      <td>39668f74-4ed8-4d84-972f-77c1019c3157-i0b0</td>\n",
              "      <td>b680b1708922b1f999364db4a2483f13f1a8e5d618ecbf...</td>\n",
              "      <td>48.0</td>\n",
              "      <td>1972-06-08</td>\n",
              "      <td>F</td>\n",
              "      <td>1.0</td>\n",
              "      <td>BRANCA</td>\n",
              "      <td>312830</td>\n",
              "      <td>10</td>\n",
              "      <td>GUARANESIA</td>\n",
              "      <td>BRASIL</td>\n",
              "      <td>MG</td>\n",
              "      <td>B</td>\n",
              "      <td>2204959</td>\n",
              "      <td>312830.0</td>\n",
              "      <td>GUARANESIA</td>\n",
              "      <td>MG</td>\n",
              "      <td>905</td>\n",
              "      <td>Cuidador de Idosos</td>\n",
              "      <td>9.0</td>\n",
              "      <td>Trabalhadores de Saúde</td>\n",
              "      <td>FUNDACAO BUTANTAN</td>\n",
              "      <td>2021-01-21T00:00:00.000Z</td>\n",
              "      <td>1ª Dose</td>\n",
              "      <td>Covid-19-Coronavac-Sinovac/Butantan</td>\n",
              "      <td>2021-01-27 05:48:06</td>\n",
              "      <td>2204959</td>\n",
              "      <td>PSF SAUDE E VIDA I</td>\n",
              "      <td>CENTRO DE SAUDE/UNIDADE BASICA</td>\n",
              "      <td>M</td>\n",
              "      <td>MG</td>\n",
              "    </tr>\n",
              "    <tr>\n",
              "      <th>3795902</th>\n",
              "      <td>2806f6bc-205c-4206-8bd1-bf6ab0ae10e5-i0b0</td>\n",
              "      <td>487ced035fbae6950a655505baf05537cb0c3d93e8c2ec...</td>\n",
              "      <td>90.0</td>\n",
              "      <td>1930-03-31</td>\n",
              "      <td>M</td>\n",
              "      <td>3.0</td>\n",
              "      <td>PARDA</td>\n",
              "      <td>315340</td>\n",
              "      <td>10</td>\n",
              "      <td>PRESIDENTE OLEGARIO</td>\n",
              "      <td>BRASIL</td>\n",
              "      <td>MG</td>\n",
              "      <td>B</td>\n",
              "      <td>3931935</td>\n",
              "      <td>315340.0</td>\n",
              "      <td>PRESIDENTE OLEGARIO</td>\n",
              "      <td>MG</td>\n",
              "      <td>205</td>\n",
              "      <td>Pessoas de 80 anos ou mais</td>\n",
              "      <td>2.0</td>\n",
              "      <td>Faixa Etária</td>\n",
              "      <td>FUNDACAO BUTANTAN</td>\n",
              "      <td>2021-02-17T03:00:00.000Z</td>\n",
              "      <td>1ª Dose</td>\n",
              "      <td>Covid-19-Coronavac-Sinovac/Butantan</td>\n",
              "      <td>2021-02-19 23:53:45</td>\n",
              "      <td>3931935</td>\n",
              "      <td>UNIDADE BASICA DE SAUDE BILE GODINHO</td>\n",
              "      <td>CENTRO DE SAUDE/UNIDADE BASICA</td>\n",
              "      <td>M</td>\n",
              "      <td>MG</td>\n",
              "    </tr>\n",
              "    <tr>\n",
              "      <th>3795903</th>\n",
              "      <td>dcfde75c-a00d-47ba-a240-20c9891bfa93-i0b0</td>\n",
              "      <td>6e4b534f5ce061ca0289e7fa4eaa07a9ddc8008dee6e23...</td>\n",
              "      <td>34.0</td>\n",
              "      <td>1986-09-03</td>\n",
              "      <td>F</td>\n",
              "      <td>3.0</td>\n",
              "      <td>PARDA</td>\n",
              "      <td>120020</td>\n",
              "      <td>10</td>\n",
              "      <td>CRUZEIRO DO SUL</td>\n",
              "      <td>BRASIL</td>\n",
              "      <td>AC</td>\n",
              "      <td>B</td>\n",
              "      <td>2000253</td>\n",
              "      <td>120020.0</td>\n",
              "      <td>CRUZEIRO DO SUL</td>\n",
              "      <td>AC</td>\n",
              "      <td>926</td>\n",
              "      <td>Outros</td>\n",
              "      <td>9.0</td>\n",
              "      <td>Trabalhadores de Saúde</td>\n",
              "      <td>FUNDACAO BUTANTAN</td>\n",
              "      <td>2021-01-28T00:00:00.000Z</td>\n",
              "      <td>1ª Dose</td>\n",
              "      <td>Covid-19-Coronavac-Sinovac/Butantan</td>\n",
              "      <td>2021-01-28 21:32:27</td>\n",
              "      <td>2000253</td>\n",
              "      <td>LABORATORIO DE ANALISES CLINICAS PADRE REUS</td>\n",
              "      <td>UNIDADE DE APOIO DIAGNOSE E TERAPIA (SADT ISOL...</td>\n",
              "      <td>E</td>\n",
              "      <td>AC</td>\n",
              "    </tr>\n",
              "    <tr>\n",
              "      <th>3795904</th>\n",
              "      <td>b30ff3ee-5156-49a4-a31b-4ecd89a9e8ff-i0b0</td>\n",
              "      <td>b7ecbe2cadba948d35f89fa21d65c852734e4e2a2be4d8...</td>\n",
              "      <td>43.0</td>\n",
              "      <td>1977-10-31</td>\n",
              "      <td>F</td>\n",
              "      <td>3.0</td>\n",
              "      <td>PARDA</td>\n",
              "      <td>313670</td>\n",
              "      <td>10</td>\n",
              "      <td>JUIZ DE FORA</td>\n",
              "      <td>BRASIL</td>\n",
              "      <td>MG</td>\n",
              "      <td>E</td>\n",
              "      <td>7120915</td>\n",
              "      <td>313670.0</td>\n",
              "      <td>JUIZ DE FORA</td>\n",
              "      <td>MG</td>\n",
              "      <td>912</td>\n",
              "      <td>Médico</td>\n",
              "      <td>9.0</td>\n",
              "      <td>Trabalhadores de Saúde</td>\n",
              "      <td>SERUM INSTITUTE OF INDIA LTD</td>\n",
              "      <td>2021-02-16T00:00:00.000Z</td>\n",
              "      <td>1ª Dose</td>\n",
              "      <td>Covid-19-Coronavac-Sinovac/Butantan</td>\n",
              "      <td>2021-02-22 14:00:31</td>\n",
              "      <td>7120915</td>\n",
              "      <td>UBS CIDADE DO SOL</td>\n",
              "      <td>CENTRO DE SAUDE/UNIDADE BASICA</td>\n",
              "      <td>M</td>\n",
              "      <td>MG</td>\n",
              "    </tr>\n",
              "    <tr>\n",
              "      <th>3795905</th>\n",
              "      <td>3b513380-2fdf-482b-9595-159eaafcb52d-i0b0</td>\n",
              "      <td>42da29a061f3c33bd5bbc75142ee8aad1471c977ec77d0...</td>\n",
              "      <td>42.0</td>\n",
              "      <td>1978-04-06</td>\n",
              "      <td>F</td>\n",
              "      <td>3.0</td>\n",
              "      <td>PARDA</td>\n",
              "      <td>350390</td>\n",
              "      <td>10</td>\n",
              "      <td>ARUJA</td>\n",
              "      <td>BRASIL</td>\n",
              "      <td>SP</td>\n",
              "      <td>B</td>\n",
              "      <td>7047088</td>\n",
              "      <td>350390.0</td>\n",
              "      <td>ARUJA</td>\n",
              "      <td>SP</td>\n",
              "      <td>0</td>\n",
              "      <td>NaN</td>\n",
              "      <td>NaN</td>\n",
              "      <td>NaN</td>\n",
              "      <td>SERUM INSTITUTE OF INDIA LTD</td>\n",
              "      <td>2021-01-27T00:00:00.000Z</td>\n",
              "      <td>1ª Dose</td>\n",
              "      <td>Covid-19-Coronavac-Sinovac/Butantan</td>\n",
              "      <td>2021-02-22 14:15:24</td>\n",
              "      <td>7047088</td>\n",
              "      <td>USF JARDIM REAL</td>\n",
              "      <td>CENTRO DE SAUDE/UNIDADE BASICA</td>\n",
              "      <td>M</td>\n",
              "      <td>SP</td>\n",
              "    </tr>\n",
              "  </tbody>\n",
              "</table>\n",
              "<p>3795906 rows × 31 columns</p>\n",
              "</div>"
            ],
            "text/plain": [
              "                                       document_id  ...  uf\n",
              "0        4613b9c7-4771-47ec-8e94-5b93fa818a08-i0b0  ...  SP\n",
              "1        a152deb1-5117-4ecb-a668-e05d0299aaf8-i0b0  ...  SP\n",
              "2        5b2088d9-82dc-4cf9-a631-8a8afaf663db-i0b0  ...  SP\n",
              "3        408cb6f0-73e3-460c-9950-91cdf65aff7a-i0b0  ...  SP\n",
              "4        8b19fadf-43d3-4540-93e5-2c12ae2b50fd-i0b0  ...  SP\n",
              "...                                            ...  ...  ..\n",
              "3795901  39668f74-4ed8-4d84-972f-77c1019c3157-i0b0  ...  MG\n",
              "3795902  2806f6bc-205c-4206-8bd1-bf6ab0ae10e5-i0b0  ...  MG\n",
              "3795903  dcfde75c-a00d-47ba-a240-20c9891bfa93-i0b0  ...  AC\n",
              "3795904  b30ff3ee-5156-49a4-a31b-4ecd89a9e8ff-i0b0  ...  MG\n",
              "3795905  3b513380-2fdf-482b-9595-159eaafcb52d-i0b0  ...  SP\n",
              "\n",
              "[3795906 rows x 31 columns]"
            ]
          },
          "metadata": {
            "tags": []
          },
          "execution_count": 17
        }
      ]
    },
    {
      "cell_type": "code",
      "metadata": {
        "id": "-QgFf-tHKY_7"
      },
      "source": [
        ""
      ],
      "execution_count": null,
      "outputs": []
    },
    {
      "cell_type": "markdown",
      "metadata": {
        "id": "beMtEOLCHQym"
      },
      "source": [
        "\r\n"
      ]
    }
  ]
}